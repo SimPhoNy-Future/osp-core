{
 "cells": [
  {
   "cell_type": "code",
   "execution_count": 1,
   "id": "c459e742",
   "metadata": {},
   "outputs": [
    {
     "name": "stderr",
     "output_type": "stream",
     "text": [
      "/var/folders/jd/j0s9pmrj0kg0ww159sk08ls40000gp/T/ipykernel_96698/174612537.py:21: DeprecationWarning: Importing display from IPython.core.display is deprecated since IPython 7.14, please import from IPython display\n",
      "  from IPython.core.display import display, HTML\n"
     ]
    }
   ],
   "source": [
    "from simphony_osp.namespaces import city, rdfschema, dcoretbox, simphony\n",
    "from simphony_osp.namespaces import owl,foaf, emmo, domeo, dcterms, evmpo, eurosci, iof\n",
    "from simphony_osp.namespaces import http_method\n",
    "\n",
    "from simphony_osp.tools import semantic2dot, pretty_print\n",
    "from simphony_osp.tools import search,  export_file, import_file, pretty_print, search\n",
    "from simphony_osp.tools.search import sparql\n",
    "\n",
    "from simphony_osp.ontology import RESTRICTION_QUANTIFIER, RESTRICTION_TYPE, OntologyIndividual\n",
    "from simphony_osp.ontology import COMPOSITION_OPERATOR, Composition, Restriction\n",
    "\n",
    "from simphony_osp.ontology.relationship import OntologyRelationship\n",
    "from simphony_osp.ontology.annotation import OntologyAnnotation\n",
    "\n",
    "from simphony_osp.session import Session, core_session\n",
    "import json, rdflib\n",
    "from rdflib import Graph, URIRef\n",
    "from rdflib.plugins.parsers.jsonld import to_rdf as json_to_rdf\n",
    "\n",
    "from json2html import *\n",
    "from IPython.core.display import display, HTML\n",
    "import pandas as pd\n"
   ]
  },
  {
   "cell_type": "code",
   "execution_count": 2,
   "id": "1d2f1d6e",
   "metadata": {},
   "outputs": [
    {
     "name": "stdout",
     "output_type": "stream",
     "text": [
      "Requirement already satisfied: pandas in /Users/adham/dev/new/osp-core/.env/lib/python3.11/site-packages (2.0.3)\n",
      "Requirement already satisfied: python-dateutil>=2.8.2 in /Users/adham/dev/new/osp-core/.env/lib/python3.11/site-packages (from pandas) (2.8.2)\n",
      "Requirement already satisfied: pytz>=2020.1 in /Users/adham/dev/new/osp-core/.env/lib/python3.11/site-packages (from pandas) (2023.3)\n",
      "Requirement already satisfied: tzdata>=2022.1 in /Users/adham/dev/new/osp-core/.env/lib/python3.11/site-packages (from pandas) (2023.3)\n",
      "Requirement already satisfied: numpy>=1.21.0 in /Users/adham/dev/new/osp-core/.env/lib/python3.11/site-packages (from pandas) (1.25.1)\n",
      "Requirement already satisfied: six>=1.5 in /Users/adham/dev/new/osp-core/.env/lib/python3.11/site-packages (from python-dateutil>=2.8.2->pandas) (1.16.0)\n"
     ]
    }
   ],
   "source": [
    "!pip install pandas\n"
   ]
  },
  {
   "cell_type": "code",
   "execution_count": 3,
   "id": "a59b4c06",
   "metadata": {},
   "outputs": [],
   "source": [
    "SIGRA_ROOT='/Users/adham/dev/new/dome/Ontology-matters/'"
   ]
  },
  {
   "cell_type": "code",
   "execution_count": 4,
   "id": "75c28e45",
   "metadata": {},
   "outputs": [],
   "source": [
    "core_session.clear()"
   ]
  },
  {
   "cell_type": "code",
   "execution_count": 5,
   "id": "4cd6e19d",
   "metadata": {},
   "outputs": [
    {
     "data": {
      "text/plain": [
       "{<OntologyIndividual: AiiDA export file https://dome40.eu/semantics/dome4.0_core#AIIDA_FORMAT>,\n",
       " <OntologyIndividual: CAS Number https://dome40.eu/semantics/dome4.0_core#CAS_NUMBER>,\n",
       " <OntologyIndividual: CHEMEO https://dome40.eu/semantics/scenario/platforms#CHEMEO>,\n",
       " <OntologyIndividual: CONSUMER https://dome40.eu/semantics/dome4.0_core#CONSUMER>,\n",
       " <OntologyIndividual: CRYSTALLOGRAPHY https://dome40.eu/semantics/scenario/platforms#CRYSTALLOGRAPHY>,\n",
       " <OntologyIndividual: Cartography https://dome40.eu/semantics/dome4.0_core#CARTOGRAPHY>,\n",
       " <OntologyIndividual: Comma-separated Values (CSV) https://dome40.eu/semantics/dome4.0_core#CSV>,\n",
       " <OntologyIndividual: Compare https://dome40.eu/semantics/dome4.0_core#COMPARE>,\n",
       " <OntologyIndividual: Crystallographic Information Framework (CIF) - Model and format https://dome40.eu/semantics/dome4.0_core#CIF>,\n",
       " <OntologyIndividual: DATA_ON_DEMAND_PROVIDER https://dome40.eu/semantics/dome4.0_core#DATA_ON_DEMAND_PROVIDER>,\n",
       " <OntologyIndividual: DATA_PROVIDER https://dome40.eu/semantics/dome4.0_core#DATA_PROVIDER>,\n",
       " <OntologyIndividual: DOME 4.0 Consortium https://dome40.eu/semantics/scenario/platforms#DOME4.0_CONSORTIUM>,\n",
       " <OntologyIndividual: DOME4.0 https://dome40.eu/semantics/scenario/platforms#DOME4.0>,\n",
       " <OntologyIndividual: Download https://dome40.eu/semantics/dome4.0_core#DOWNLOAD>,\n",
       " <OntologyIndividual: EC Number https://dome40.eu/semantics/dome4.0_core#EC_NUMBER>,\n",
       " <OntologyIndividual: EXAMPLE_DOME_FLAT_SUBSCRIPTION_CHEMEO_MATERIALSPROJECT https://dome40.eu/semantics/scenario/platforms#EXAMPLE_DOME_FLAT_SUBSCRIPTION_CHEMEO_MATERIALSPROJECT>,\n",
       " <OntologyIndividual: EXAMPLE_DOME_SUBSCRIPTION_BY_USAGE_CHEMEO_MATERIALSPROJECT https://dome40.eu/semantics/scenario/platforms#EXAMPLE_DOME_SUBSCRIPTION_BY_USAGE_CHEMEO_MATERIALSPROJECT>,\n",
       " <OntologyIndividual: Engineering and technology https://dome40.eu/semantics/dome4.0_core#ENGINEERING_AND_TECHNOLOGY>,\n",
       " <OntologyIndividual: Equipment https://dome40.eu/semantics/dome4.0_core#EQUIPMENT>,\n",
       " <OntologyIndividual: Evaluate FAIRness https://dome40.eu/semantics/dome4.0_core#EVALUATE_FAIRNESS>,\n",
       " <OntologyIndividual: Experimental Data https://dome40.eu/semantics/dome4.0_core#EXPERIMENTAL_DATA>,\n",
       " <OntologyIndividual: Extract https://dome40.eu/semantics/dome4.0_core#EXTRACT>,\n",
       " <OntologyIndividual: Geographic Tagged Image File Format (GeoTIFF) https://dome40.eu/semantics/dome4.0_core#GEOTIFF>,\n",
       " <OntologyIndividual: IDS (International Data Space) API specification https://dome40.eu/semantics/dome4.0_core#IDS_API_SPECIFICATION>,\n",
       " <OntologyIndividual: INTERACTIVE_APP_PROVIDER https://dome40.eu/semantics/dome4.0_core#INTERACTIVE_APP_PROVIDER>,\n",
       " <OntologyIndividual: IUPAC InChi https://dome40.eu/semantics/dome4.0_core#IUPAC_INCHI>,\n",
       " <OntologyIndividual: JavaScript Object Notation (JSON) https://dome40.eu/semantics/dome4.0_core#JSON>,\n",
       " <OntologyIndividual: JavaScript Object Notation for Linking Data (JSON-LD) https://dome40.eu/semantics/dome4.0_core#JSON-LD>,\n",
       " <OntologyIndividual: Joint Photographic Experts Group Format (JPEG) https://dome40.eu/semantics/dome4.0_core#JPEG>,\n",
       " <OntologyIndividual: List of API spefications https://dome40.eu/semantics/dome4.0_core#LIST_OF_STANDARD_API_SPECIFICATIONS>,\n",
       " <OntologyIndividual: List of data actions https://dome40.eu/semantics/dome4.0_core#LIST_OF_DATA_ACTIONS>,\n",
       " <OntologyIndividual: List of file formats https://dome40.eu/semantics/dome4.0_core#LIST_OF_FILE_FORMATS>,\n",
       " <OntologyIndividual: List of product types (i.e., the types found on DOME 4.0) https://dome40.eu/semantics/dome4.0_core#LIST_OF_PRODUCT_TYPES>,\n",
       " <OntologyIndividual: List of search actions https://dome40.eu/semantics/dome4.0_core#LIST_OF_SEARCH_ACTIONS>,\n",
       " <OntologyIndividual: List of topics https://dome40.eu/semantics/dome4.0_core#LIST_OF_TOPICS>,\n",
       " <OntologyIndividual: List of widely used standard identifiers for the materials and manufacturing domain. https://dome40.eu/semantics/dome4.0_core#LIST_OF_STANDARD_IDENTIFIERS>,\n",
       " <OntologyIndividual: MARKET4.0 https://dome40.eu/semantics/scenario/platforms#MARKET4.0>,\n",
       " <OntologyIndividual: MATERIALSPROJECT https://dome40.eu/semantics/scenario/platforms#MATERIALSPROJECT>,\n",
       " <OntologyIndividual: Material Property https://dome40.eu/semantics/dome4.0_core#MATERIAL_PROPERTY>,\n",
       " <OntologyIndividual: Medical and health sciences https://dome40.eu/semantics/dome4.0_core#MEDICAL_AND_HEALTH_SCIENCES>,\n",
       " <OntologyIndividual: Meteorology https://dome40.eu/semantics/dome4.0_core#METEOROLOGY>,\n",
       " <OntologyIndividual: Microsoft Excel format (XLSX) https://dome40.eu/semantics/dome4.0_core#XLSX>,\n",
       " <OntologyIndividual: Modelling Data https://dome40.eu/semantics/dome4.0_core#MODELLING_DATA>,\n",
       " <OntologyIndividual: NOMAD https://dome40.eu/semantics/scenario/platforms#NOMAD>,\n",
       " <OntologyIndividual: Natural sciences https://dome40.eu/semantics/dome4.0_core#NATURAL_SCIENCES>,\n",
       " <OntologyIndividual: Navigation systems https://dome40.eu/semantics/dome4.0_core#NAVIGATION_SYSTEMS>,\n",
       " <OntologyIndividual: OPEN_DATABASE_XTALS https://dome40.eu/semantics/scenario/platforms#OPEN_DATABASE_XTALS>,\n",
       " <OntologyIndividual: OPTIMADE API specification https://dome40.eu/semantics/dome4.0_core#OPTIMADE_API_SPECIFICATION>,\n",
       " <OntologyIndividual: Observational Data https://dome40.eu/semantics/dome4.0_core#OBSERVATIONAL_DATA>,\n",
       " <OntologyIndividual: POPULATE_TEST_PLATFORM_OPERATION https://dome40.eu/semantics/scenario/platforms#POPULATE_TEST_PLATFORM_OPERATION>,\n",
       " <OntologyIndividual: POPULATE_TEST_PLATFORM_SERVICE https://dome40.eu/semantics/scenario/platforms#POPULATE_TEST_PLATFORM_SERVICE>,\n",
       " <OntologyIndividual: PUBCHEM https://dome40.eu/semantics/scenario/platforms#PUBCHEM>,\n",
       " <OntologyIndividual: Patent https://dome40.eu/semantics/dome4.0_core#PATENT>,\n",
       " <OntologyIndividual: Portable Network Graphics (PNG) https://dome40.eu/semantics/dome4.0_core#PNG>,\n",
       " <OntologyIndividual: Portable document format (PDF) https://dome40.eu/semantics/dome4.0_core#PDF>,\n",
       " <OntologyIndividual: Preview https://dome40.eu/semantics/dome4.0_core#PREVIEW>,\n",
       " <OntologyIndividual: Publication https://dome40.eu/semantics/dome4.0_core#PUBLICATION>,\n",
       " <OntologyIndividual: RDF/XML https://dome40.eu/semantics/dome4.0_core#RDF_XML>,\n",
       " <OntologyIndividual: RETRIEVE_FROM_TEST_PLATFORM_OPERATION https://dome40.eu/semantics/scenario/platforms#RETRIEVE_FROM_TEST_PLATFORM_OPERATION>,\n",
       " <OntologyIndividual: RETRIEVE_FROM_TEST_PLATFORM_SERVICE https://dome40.eu/semantics/scenario/platforms#RETRIEVE_FROM_TEST_PLATFORM_SERVICE>,\n",
       " <OntologyIndividual: Raw Material https://dome40.eu/semantics/dome4.0_core#RAW_MATERIAL>,\n",
       " <OntologyIndividual: Resource Description Framework (RDF) https://dome40.eu/semantics/dome4.0_core#RDF>,\n",
       " <OntologyIndividual: SMILES https://dome40.eu/semantics/dome4.0_core#SMILES>,\n",
       " <OntologyIndividual: Sea vessels https://dome40.eu/semantics/dome4.0_core#SEA_VESSELS>,\n",
       " <OntologyIndividual: Search by exact string match https://dome40.eu/semantics/dome4.0_core#SEARCH_BY_EXACT_STRING_MATCH>,\n",
       " <OntologyIndividual: Search with filter https://dome40.eu/semantics/dome4.0_core#SEARCH_WITH_FILTER>,\n",
       " <OntologyIndividual: Search with logical operator https://dome40.eu/semantics/dome4.0_core#SEARCH_WITH_LOGICAL_OPERATOR>,\n",
       " <OntologyIndividual: Search with wild card https://dome40.eu/semantics/dome4.0_core#SEARCH_WITH_WILD_CARD>,\n",
       " <OntologyIndividual: Simulate https://dome40.eu/semantics/dome4.0_core#SIMULATE>,\n",
       " <OntologyIndividual: Software https://dome40.eu/semantics/dome4.0_core#SOFTWARE>,\n",
       " <OntologyIndividual: Standard for the Exchange of Product (STEP) Data https://dome40.eu/semantics/dome4.0_core#STEP>,\n",
       " <OntologyIndividual: TEST_CATALOG https://dome40.eu/semantics/scenario/platforms#TEST_CATALOG>,\n",
       " <OntologyIndividual: TEST_PLATFORM https://dome40.eu/semantics/scenario/platforms#TEST_PLATFORM>,\n",
       " <OntologyIndividual: THEORETICAL_CRYSTALLOGRAPHY_OPEN_DATABASE https://dome40.eu/semantics/scenario/platforms#THEORETICAL_CRYSTALLOGRAPHY_OPEN_DATABASE>,\n",
       " <OntologyIndividual: THE_OPEN_QUANTUM_MATERIALS https://dome40.eu/semantics/scenario/platforms#THE_OPEN_QUANTUM_MATERIALS>,\n",
       " <OntologyIndividual: TUNNEL_WITH_TEST_PLATFORM_SERVICE https://dome40.eu/semantics/scenario/platforms#TUNNEL_WITH_TEST_PLATFORM_SERVICE>,\n",
       " <OntologyIndividual: Terse RDF Triple Language (Turtle or TTL) https://dome40.eu/semantics/dome4.0_core#TTL>,\n",
       " <OntologyIndividual: Topography https://dome40.eu/semantics/dome4.0_core#TOPOGRAPHY>,\n",
       " <OntologyIndividual: Transform https://dome40.eu/semantics/dome4.0_core#TRANSFORM>,\n",
       " <OntologyIndividual: Update https://dome40.eu/semantics/dome4.0_core#UPDATE>,\n",
       " <OntologyIndividual: Upload https://dome40.eu/semantics/dome4.0_core#UPLOAD>,\n",
       " <OntologyIndividual: View https://dome40.eu/semantics/dome4.0_core#VIEW>,\n",
       " <OntologyIndividual: Web Ontology Language (OWL) - Model and format https://dome40.eu/semantics/dome4.0_core#OWL>,\n",
       " <OntologyIndividual: XYZ atomistic data https://dome40.eu/semantics/dome4.0_core#XYZ>}"
      ]
     },
     "execution_count": 5,
     "metadata": {},
     "output_type": "execute_result"
    }
   ],
   "source": [
    "import_file(SIGRA_ROOT+'dome4.0_core_abox.ttl', all_triples=True)"
   ]
  },
  {
   "cell_type": "markdown",
   "id": "aedf2da8",
   "metadata": {},
   "source": [
    "# The SPARQL query accroding to type: find all platforms"
   ]
  },
  {
   "cell_type": "code",
   "execution_count": 6,
   "id": "ba92bb3e",
   "metadata": {},
   "outputs": [
    {
     "data": {
      "text/plain": [
       "105"
      ]
     },
     "execution_count": 6,
     "metadata": {},
     "output_type": "execute_result"
    }
   ],
   "source": [
    "len(core_session)"
   ]
  },
  {
   "cell_type": "code",
   "execution_count": 7,
   "id": "91941a1f",
   "metadata": {},
   "outputs": [],
   "source": [
    "# query all triplets that define the type of the object, i.e, the object is type, \n",
    "# and the predicte is the IRI of a platform from teh core ontolgy in this case. \n",
    "\n",
    "result_platforms = sparql(\n",
    "    f\"\"\"SELECT ?s ?p ?o WHERE {{\n",
    "        ?s rdf:type <{dcoretbox.platform.identifier}>  .\n",
    "        \n",
    "    }}\n",
    "    \"\"\")"
   ]
  },
  {
   "cell_type": "code",
   "execution_count": 8,
   "id": "1e73a00e",
   "metadata": {},
   "outputs": [],
   "source": [
    "def unpack_iterator(R):\n",
    "    results_dict = {}\n",
    "\n",
    "    for idx, row in enumerate(R):\n",
    "        # Using a dictionary comprehension to get the desired structure\n",
    "        row_dict = {key: str(value) for key, value in zip(['s', 'p', 'o'], row)}\n",
    "        results_dict[idx] = row_dict\n",
    "    \n",
    "    return results_dict"
   ]
  },
  {
   "cell_type": "code",
   "execution_count": 9,
   "id": "97d38cfe",
   "metadata": {},
   "outputs": [],
   "source": [
    "def res2list(R, as_json=False):\n",
    "    results_list = []\n",
    "\n",
    "    for row in R:\n",
    "        # Using a dictionary comprehension to get the desired structure\n",
    "        row_dict = {key: str(value) for key, value in zip(['s', 'p', 'o'], row)}\n",
    "        results_list.append(row_dict)\n",
    "\n",
    "    if as_json:\n",
    "        return json.dumps(results_list, indent=4)\n",
    "    \n",
    "    return results_list\n",
    "\n"
   ]
  },
  {
   "cell_type": "code",
   "execution_count": null,
   "id": "45ab26da",
   "metadata": {},
   "outputs": [],
   "source": []
  },
  {
   "cell_type": "code",
   "execution_count": 10,
   "id": "9eccb155",
   "metadata": {},
   "outputs": [
    {
     "name": "stdout",
     "output_type": "stream",
     "text": [
      "b'{\"results\": {\"bindings\": [{\"s\": {\"type\": \"uri\", \"value\": \"https://dome40.eu/semantics/scenario/platforms#DOME4.0\"}}, {\"s\": {\"type\": \"uri\", \"value\": \"https://dome40.eu/semantics/scenario/platforms#CHEMEO\"}}, {\"s\": {\"type\": \"uri\", \"value\": \"https://dome40.eu/semantics/scenario/platforms#PUBCHEM\"}}, {\"s\": {\"type\": \"uri\", \"value\": \"https://dome40.eu/semantics/scenario/platforms#TEST_PLATFORM\"}}, {\"s\": {\"type\": \"uri\", \"value\": \"https://dome40.eu/semantics/scenario/platforms#MARKET4.0\"}}, {\"s\": {\"type\": \"uri\", \"value\": \"https://dome40.eu/semantics/scenario/platforms#THE_OPEN_QUANTUM_MATERIALS\"}}, {\"s\": {\"type\": \"uri\", \"value\": \"https://dome40.eu/semantics/scenario/platforms#CRYSTALLOGRAPHY\"}}, {\"s\": {\"type\": \"uri\", \"value\": \"https://dome40.eu/semantics/scenario/platforms#TEST_CATALOG\"}}, {\"s\": {\"type\": \"uri\", \"value\": \"https://dome40.eu/semantics/scenario/platforms#MATERIALSPROJECT\"}}, {\"s\": {\"type\": \"uri\", \"value\": \"https://dome40.eu/semantics/scenario/platforms#NOMAD\"}}, {\"s\": {\"type\": \"uri\", \"value\": \"https://dome40.eu/semantics/scenario/platforms#OPEN_DATABASE_XTALS\"}}, {\"s\": {\"type\": \"uri\", \"value\": \"https://dome40.eu/semantics/scenario/platforms#THEORETICAL_CRYSTALLOGRAPHY_OPEN_DATABASE\"}}]}, \"head\": {\"vars\": [\"s\", \"p\", \"o\"]}}'\n"
     ]
    }
   ],
   "source": [
    "print(result_platforms.serialize(format=\"json\"))"
   ]
  },
  {
   "cell_type": "code",
   "execution_count": 11,
   "id": "6dcac6c1",
   "metadata": {},
   "outputs": [
    {
     "name": "stdout",
     "output_type": "stream",
     "text": [
      "1 (rdflib.term.URIRef('https://dome40.eu/semantics/scenario/platforms#DOME4.0'), None, None)\n",
      "2 (rdflib.term.URIRef('https://dome40.eu/semantics/scenario/platforms#CHEMEO'), None, None)\n",
      "3 (rdflib.term.URIRef('https://dome40.eu/semantics/scenario/platforms#PUBCHEM'), None, None)\n",
      "4 (rdflib.term.URIRef('https://dome40.eu/semantics/scenario/platforms#TEST_PLATFORM'), None, None)\n",
      "5 (rdflib.term.URIRef('https://dome40.eu/semantics/scenario/platforms#MARKET4.0'), None, None)\n",
      "6 (rdflib.term.URIRef('https://dome40.eu/semantics/scenario/platforms#THE_OPEN_QUANTUM_MATERIALS'), None, None)\n",
      "7 (rdflib.term.URIRef('https://dome40.eu/semantics/scenario/platforms#CRYSTALLOGRAPHY'), None, None)\n",
      "8 (rdflib.term.URIRef('https://dome40.eu/semantics/scenario/platforms#TEST_CATALOG'), None, None)\n",
      "9 (rdflib.term.URIRef('https://dome40.eu/semantics/scenario/platforms#MATERIALSPROJECT'), None, None)\n",
      "10 (rdflib.term.URIRef('https://dome40.eu/semantics/scenario/platforms#NOMAD'), None, None)\n",
      "11 (rdflib.term.URIRef('https://dome40.eu/semantics/scenario/platforms#OPEN_DATABASE_XTALS'), None, None)\n",
      "12 (rdflib.term.URIRef('https://dome40.eu/semantics/scenario/platforms#THEORETICAL_CRYSTALLOGRAPHY_OPEN_DATABASE'), None, None)\n"
     ]
    }
   ],
   "source": [
    "for i,j in enumerate(result_platforms, 1):\n",
    "    print(i,j)"
   ]
  },
  {
   "cell_type": "code",
   "execution_count": 12,
   "id": "b72c2632",
   "metadata": {},
   "outputs": [
    {
     "name": "stdout",
     "output_type": "stream",
     "text": [
      "                                            s                                             |p|o\n",
      "-----------------------------------------------------------------------------------------------\n",
      "<https://dome40.eu/semantics/scenario/platforms#CHEMEO>                                   |-|-\n",
      "<https://dome40.eu/semantics/scenario/platforms#CRYSTALLOGRAPHY>                          |-|-\n",
      "<https://dome40.eu/semantics/scenario/platforms#DOME4.0>                                  |-|-\n",
      "<https://dome40.eu/semantics/scenario/platforms#MARKET4.0>                                |-|-\n",
      "<https://dome40.eu/semantics/scenario/platforms#MATERIALSPROJECT>                         |-|-\n",
      "<https://dome40.eu/semantics/scenario/platforms#NOMAD>                                    |-|-\n",
      "<https://dome40.eu/semantics/scenario/platforms#OPEN_DATABASE_XTALS>                      |-|-\n",
      "<https://dome40.eu/semantics/scenario/platforms#PUBCHEM>                                  |-|-\n",
      "<https://dome40.eu/semantics/scenario/platforms#TEST_CATALOG>                             |-|-\n",
      "<https://dome40.eu/semantics/scenario/platforms#TEST_PLATFORM>                            |-|-\n",
      "<https://dome40.eu/semantics/scenario/platforms#THEORETICAL_CRYSTALLOGRAPHY_OPEN_DATABASE>|-|-\n",
      "<https://dome40.eu/semantics/scenario/platforms#THE_OPEN_QUANTUM_MATERIALS>               |-|-\n",
      "\n"
     ]
    }
   ],
   "source": [
    "print(result_platforms.serialize(format=\"txt\").decode('utf-8'))"
   ]
  },
  {
   "cell_type": "code",
   "execution_count": 13,
   "id": "814f4208",
   "metadata": {},
   "outputs": [
    {
     "data": {
      "text/plain": [
       "'{\"results\": {\"bindings\": [{\"s\": {\"type\": \"uri\", \"value\": \"https://dome40.eu/semantics/scenario/platforms#DOME4.0\"}}, {\"s\": {\"type\": \"uri\", \"value\": \"https://dome40.eu/semantics/scenario/platforms#CHEMEO\"}}, {\"s\": {\"type\": \"uri\", \"value\": \"https://dome40.eu/semantics/scenario/platforms#PUBCHEM\"}}, {\"s\": {\"type\": \"uri\", \"value\": \"https://dome40.eu/semantics/scenario/platforms#TEST_PLATFORM\"}}, {\"s\": {\"type\": \"uri\", \"value\": \"https://dome40.eu/semantics/scenario/platforms#MARKET4.0\"}}, {\"s\": {\"type\": \"uri\", \"value\": \"https://dome40.eu/semantics/scenario/platforms#THE_OPEN_QUANTUM_MATERIALS\"}}, {\"s\": {\"type\": \"uri\", \"value\": \"https://dome40.eu/semantics/scenario/platforms#CRYSTALLOGRAPHY\"}}, {\"s\": {\"type\": \"uri\", \"value\": \"https://dome40.eu/semantics/scenario/platforms#TEST_CATALOG\"}}, {\"s\": {\"type\": \"uri\", \"value\": \"https://dome40.eu/semantics/scenario/platforms#MATERIALSPROJECT\"}}, {\"s\": {\"type\": \"uri\", \"value\": \"https://dome40.eu/semantics/scenario/platforms#NOMAD\"}}, {\"s\": {\"type\": \"uri\", \"value\": \"https://dome40.eu/semantics/scenario/platforms#OPEN_DATABASE_XTALS\"}}, {\"s\": {\"type\": \"uri\", \"value\": \"https://dome40.eu/semantics/scenario/platforms#THEORETICAL_CRYSTALLOGRAPHY_OPEN_DATABASE\"}}]}, \"head\": {\"vars\": [\"s\", \"p\", \"o\"]}}'"
      ]
     },
     "execution_count": 13,
     "metadata": {},
     "output_type": "execute_result"
    }
   ],
   "source": [
    "result_platforms.serialize(format=\"json\").decode('utf-8')"
   ]
  },
  {
   "cell_type": "code",
   "execution_count": 14,
   "id": "0dd16061",
   "metadata": {},
   "outputs": [],
   "source": [
    "r=res2list(result_platforms, as_json=True)"
   ]
  },
  {
   "cell_type": "code",
   "execution_count": 15,
   "id": "0a9b5464",
   "metadata": {},
   "outputs": [],
   "source": [
    "plz=\"\""
   ]
  },
  {
   "cell_type": "code",
   "execution_count": 16,
   "id": "97609385",
   "metadata": {},
   "outputs": [
    {
     "ename": "NameError",
     "evalue": "name 'pl' is not defined",
     "output_type": "error",
     "traceback": [
      "\u001b[0;31m---------------------------------------------------------------------------\u001b[0m",
      "\u001b[0;31mNameError\u001b[0m                                 Traceback (most recent call last)",
      "Cell \u001b[0;32mIn[16], line 1\u001b[0m\n\u001b[0;32m----> 1\u001b[0m plstr\u001b[38;5;241m=\u001b[39mexport_file(\u001b[43mpl\u001b[49m, file\u001b[38;5;241m=\u001b[39mplz, \u001b[38;5;28mformat\u001b[39m\u001b[38;5;241m=\u001b[39m\u001b[38;5;124m'\u001b[39m\u001b[38;5;124mjson-ld\u001b[39m\u001b[38;5;124m'\u001b[39m)\n",
      "\u001b[0;31mNameError\u001b[0m: name 'pl' is not defined"
     ]
    }
   ],
   "source": [
    "plstr=export_file(pl, file=plz, format='json-ld')"
   ]
  },
  {
   "cell_type": "code",
   "execution_count": null,
   "id": "3abc0459",
   "metadata": {},
   "outputs": [],
   "source": [
    "plstr=json.loads(export_file(pl, file=plz, format='json-ld'))"
   ]
  },
  {
   "cell_type": "code",
   "execution_count": null,
   "id": "4c06a2bd",
   "metadata": {
    "scrolled": true
   },
   "outputs": [],
   "source": [
    "pprint(plstr[0])"
   ]
  },
  {
   "cell_type": "code",
   "execution_count": null,
   "id": "3ce340d1",
   "metadata": {},
   "outputs": [],
   "source": [
    "!pip install json2html\n",
    "\n"
   ]
  },
  {
   "cell_type": "code",
   "execution_count": null,
   "id": "5e8b2c33",
   "metadata": {},
   "outputs": [],
   "source": [
    "html_data = json2html.convert(json = plstr[0])\n"
   ]
  },
  {
   "cell_type": "code",
   "execution_count": null,
   "id": "097df63d",
   "metadata": {},
   "outputs": [],
   "source": [
    "html_data"
   ]
  },
  {
   "cell_type": "code",
   "execution_count": null,
   "id": "abcfa506",
   "metadata": {},
   "outputs": [],
   "source": [
    "display(HTML(html_data))"
   ]
  },
  {
   "cell_type": "code",
   "execution_count": null,
   "id": "31f43c2a",
   "metadata": {},
   "outputs": [],
   "source": [
    "df = pd.DataFrame(plstr)"
   ]
  },
  {
   "cell_type": "code",
   "execution_count": null,
   "id": "83c3a4d9",
   "metadata": {
    "editable": true,
    "scrolled": true,
    "slideshow": {
     "slide_type": ""
    },
    "tags": []
   },
   "outputs": [],
   "source": [
    "display(df.T)"
   ]
  },
  {
   "cell_type": "code",
   "execution_count": null,
   "id": "608d22b0",
   "metadata": {},
   "outputs": [],
   "source": [
    "l = [print(item) for item in result_platforms]\n"
   ]
  },
  {
   "cell_type": "code",
   "execution_count": null,
   "id": "736f39eb",
   "metadata": {},
   "outputs": [],
   "source": [
    "pd.set_option('display.max_rows', None)  # Display all rows\n",
    "pd.set_option('display.width', 1000)     # Adjust display width to your needs"
   ]
  },
  {
   "cell_type": "code",
   "execution_count": null,
   "id": "902e5353",
   "metadata": {},
   "outputs": [],
   "source": [
    " r=res2list(result_platforms, as_json=False)"
   ]
  },
  {
   "cell_type": "code",
   "execution_count": null,
   "id": "1f189485",
   "metadata": {},
   "outputs": [],
   "source": [
    "r"
   ]
  },
  {
   "cell_type": "code",
   "execution_count": null,
   "id": "060f56a1",
   "metadata": {},
   "outputs": [],
   "source": [
    "len(result_platforms)"
   ]
  },
  {
   "cell_type": "code",
   "execution_count": null,
   "id": "db85c497",
   "metadata": {},
   "outputs": [],
   "source": [
    "result_platforms.serialize(format='txt').decode('utf-8')"
   ]
  },
  {
   "cell_type": "code",
   "execution_count": null,
   "id": "c70ca70a",
   "metadata": {},
   "outputs": [],
   "source": [
    "result_platforms"
   ]
  },
  {
   "cell_type": "code",
   "execution_count": null,
   "id": "280216f4",
   "metadata": {
    "editable": true,
    "slideshow": {
     "slide_type": ""
    },
    "tags": []
   },
   "outputs": [],
   "source": [
    "rlist = []\n",
    "for r in result_platforms:\n",
    "    print(len(r))"
   ]
  },
  {
   "cell_type": "code",
   "execution_count": null,
   "id": "8ac9237f",
   "metadata": {
    "scrolled": true
   },
   "outputs": [],
   "source": [
    "ps = []\n",
    "for p in result_platforms:\n",
    "    print(p)\n",
    "    ps.append(p)"
   ]
  },
  {
   "cell_type": "code",
   "execution_count": null,
   "id": "bdb92933",
   "metadata": {},
   "outputs": [],
   "source": [
    "type (ps)"
   ]
  },
  {
   "cell_type": "code",
   "execution_count": null,
   "id": "c45f3422",
   "metadata": {
    "scrolled": true
   },
   "outputs": [],
   "source": [
    "type(ps[0])"
   ]
  },
  {
   "cell_type": "code",
   "execution_count": null,
   "id": "7cb09889",
   "metadata": {
    "scrolled": true
   },
   "outputs": [],
   "source": [
    "print(ps[0])"
   ]
  },
  {
   "cell_type": "code",
   "execution_count": null,
   "id": "63eb0d43",
   "metadata": {},
   "outputs": [],
   "source": [
    "type(ps[0][0])"
   ]
  },
  {
   "cell_type": "code",
   "execution_count": null,
   "id": "10b44bd6",
   "metadata": {},
   "outputs": [],
   "source": [
    "ps[0][0]"
   ]
  },
  {
   "cell_type": "code",
   "execution_count": null,
   "id": "de57dd3e",
   "metadata": {
    "scrolled": true
   },
   "outputs": [],
   "source": [
    "type(ps[0][0])"
   ]
  },
  {
   "cell_type": "code",
   "execution_count": null,
   "id": "ef7e8b8c",
   "metadata": {},
   "outputs": [],
   "source": [
    "len(ps[0])"
   ]
  },
  {
   "cell_type": "code",
   "execution_count": null,
   "id": "b364406c",
   "metadata": {
    "scrolled": true
   },
   "outputs": [],
   "source": [
    "# human freindly representation! (this is a RDFLIB method)\n",
    "ps[0][0].n3()"
   ]
  },
  {
   "cell_type": "code",
   "execution_count": null,
   "id": "d842e7a4",
   "metadata": {},
   "outputs": [],
   "source": [
    "#convert to python string\n",
    "ps[0][0].toPython()"
   ]
  },
  {
   "cell_type": "markdown",
   "id": "8afd77ee",
   "metadata": {},
   "source": [
    "# This is the platform type (from the dome core ontology)\n",
    "\n",
    "dcoretbox.platform.identifier"
   ]
  },
  {
   "cell_type": "markdown",
   "id": "bc961ae7",
   "metadata": {},
   "source": [
    "## Convert SPARQL results into OSP individuals"
   ]
  },
  {
   "cell_type": "markdown",
   "id": "c9bfd67b",
   "metadata": {},
   "source": [
    "### Method 1: using the `session.get` method"
   ]
  },
  {
   "cell_type": "code",
   "execution_count": null,
   "id": "8b98a09c",
   "metadata": {},
   "outputs": [],
   "source": [
    "# lets get the actual OSP individual rather than the URI. \n",
    "# First approach, use the session get method:\n",
    "\n",
    "pl=core_session.get(ps[0][0])"
   ]
  },
  {
   "cell_type": "code",
   "execution_count": null,
   "id": "69ac86a1",
   "metadata": {},
   "outputs": [],
   "source": [
    "# works also with or without converting to a string\n",
    "\n",
    "pl=core_session.get(ps[0][0].toPython())  # one can use also str(ps[0][0])"
   ]
  },
  {
   "cell_type": "code",
   "execution_count": null,
   "id": "cf8d7306",
   "metadata": {},
   "outputs": [],
   "source": [
    "pretty_print(pl)"
   ]
  },
  {
   "cell_type": "markdown",
   "id": "31da7f51",
   "metadata": {},
   "source": [
    "#### Some tests"
   ]
  },
  {
   "cell_type": "code",
   "execution_count": null,
   "id": "31e0a4ee",
   "metadata": {},
   "outputs": [],
   "source": [
    "#this gives the attributes that can be changed as per dot or indec `[]` notation\n",
    "pl.attributes"
   ]
  },
  {
   "cell_type": "code",
   "execution_count": null,
   "id": "f43667dd",
   "metadata": {},
   "outputs": [],
   "source": [
    "# this is a wierd iterator!\n",
    "for i in pl.relationships_iter():\n",
    "    print(type(i))\n",
    "    print(i)\n",
    "    i\n",
    "    print('\\n')"
   ]
  },
  {
   "cell_type": "code",
   "execution_count": null,
   "id": "bad69a85",
   "metadata": {},
   "outputs": [],
   "source": [
    "pl.triples"
   ]
  },
  {
   "cell_type": "code",
   "execution_count": null,
   "id": "bc5a83b8",
   "metadata": {},
   "outputs": [],
   "source": [
    "type(ps[0])"
   ]
  },
  {
   "cell_type": "markdown",
   "id": "e43f956a",
   "metadata": {},
   "source": [
    "### Method 2: using the `OntologyIndividual` option of the Results class "
   ]
  },
  {
   "cell_type": "code",
   "execution_count": null,
   "id": "ae55a3f6",
   "metadata": {},
   "outputs": [],
   "source": [
    "platform_individuals=[]\n",
    "for row in result_platforms(s=OntologyIndividual):\n",
    "    platform_individuals.append(row[0])"
   ]
  },
  {
   "cell_type": "code",
   "execution_count": null,
   "id": "cd60f8a4",
   "metadata": {},
   "outputs": [],
   "source": [
    "for i in platform_individuals:\n",
    "    try:\n",
    "        pretty_print(i) \n",
    "        print(\"\\n\")\n",
    "    except:   # since some methods, such as POST do not have a mother class! \n",
    "        pass"
   ]
  },
  {
   "cell_type": "markdown",
   "id": "54acd136",
   "metadata": {},
   "source": [
    "## Lets get the attributes of one of the result individuals"
   ]
  },
  {
   "cell_type": "code",
   "execution_count": null,
   "id": "a15d5855",
   "metadata": {},
   "outputs": [],
   "source": [
    "#pick one of the plagtforms\n",
    "pl=platform_individuals[5]"
   ]
  },
  {
   "cell_type": "code",
   "execution_count": null,
   "id": "18b00b1f",
   "metadata": {},
   "outputs": [],
   "source": [
    "#the attribute list\n",
    "ats_list=[i for i in pl.attributes]"
   ]
  },
  {
   "cell_type": "code",
   "execution_count": null,
   "id": "62cb7b00",
   "metadata": {
    "scrolled": true
   },
   "outputs": [],
   "source": [
    "type(ats_list)"
   ]
  },
  {
   "cell_type": "code",
   "execution_count": null,
   "id": "764fed62",
   "metadata": {},
   "outputs": [],
   "source": [
    "ats_list"
   ]
  },
  {
   "cell_type": "code",
   "execution_count": null,
   "id": "33339c26",
   "metadata": {
    "scrolled": true
   },
   "outputs": [],
   "source": [
    "#get the labels (strings) of each attribute\n",
    "x=[i.label for i in pl.attributes]"
   ]
  },
  {
   "cell_type": "code",
   "execution_count": null,
   "id": "4f691614",
   "metadata": {},
   "outputs": [],
   "source": [
    "type (x)"
   ]
  },
  {
   "cell_type": "code",
   "execution_count": null,
   "id": "9e24afdf",
   "metadata": {},
   "outputs": [],
   "source": [
    "x"
   ]
  },
  {
   "cell_type": "code",
   "execution_count": null,
   "id": "4a240bf7",
   "metadata": {},
   "outputs": [],
   "source": [
    "type(x[0])"
   ]
  },
  {
   "cell_type": "code",
   "execution_count": null,
   "id": "a5397a14",
   "metadata": {},
   "outputs": [],
   "source": [
    "# it works with index notation\n",
    "pl[x[0]]"
   ]
  },
  {
   "cell_type": "code",
   "execution_count": null,
   "id": "4c23ed2e",
   "metadata": {},
   "outputs": [],
   "source": [
    "pl['has_platform_name']"
   ]
  },
  {
   "cell_type": "code",
   "execution_count": null,
   "id": "b4728fc3",
   "metadata": {},
   "outputs": [],
   "source": [
    "pl[ats_list[0]]"
   ]
  },
  {
   "cell_type": "code",
   "execution_count": null,
   "id": "5e4572ae",
   "metadata": {},
   "outputs": [],
   "source": [
    "#this has type AttributeSet!\n",
    "type(pl['has_platform_name'])"
   ]
  },
  {
   "cell_type": "code",
   "execution_count": null,
   "id": "daccaf45",
   "metadata": {},
   "outputs": [],
   "source": [
    "ats_list[0].identifier"
   ]
  },
  {
   "cell_type": "code",
   "execution_count": null,
   "id": "1f281787",
   "metadata": {},
   "outputs": [],
   "source": [
    "ats_list[0].datatype"
   ]
  },
  {
   "cell_type": "code",
   "execution_count": null,
   "id": "adfdae8d",
   "metadata": {},
   "outputs": [],
   "source": [
    "ats_list[0].iri"
   ]
  },
  {
   "cell_type": "code",
   "execution_count": null,
   "id": "76228e70",
   "metadata": {},
   "outputs": [],
   "source": [
    "ats_list[0].label"
   ]
  },
  {
   "cell_type": "code",
   "execution_count": null,
   "id": "91b85729",
   "metadata": {},
   "outputs": [],
   "source": [
    "ats_list[0].namespace"
   ]
  },
  {
   "cell_type": "code",
   "execution_count": null,
   "id": "b9744807",
   "metadata": {},
   "outputs": [],
   "source": [
    "ats_list=[i for i in pl.attributes]"
   ]
  },
  {
   "cell_type": "markdown",
   "id": "15114d97",
   "metadata": {},
   "source": [
    "# The SPARQL query accroding to type and Relation\n",
    "\n",
    "Find all platforms that has an Owner!\n"
   ]
  },
  {
   "cell_type": "code",
   "execution_count": null,
   "id": "4cd3fec0",
   "metadata": {},
   "outputs": [],
   "source": [
    "# query all triplets, where the subject type is `platform` from the dome core ontology and \n",
    "# that has the relationship `has_platform_owner`\n",
    "# note how cumbersome is the use of the explicit relations instead of has_A! \n",
    "\n",
    "result_platforms_owners = sparql(\n",
    "    f\"\"\"SELECT ?s WHERE {{\n",
    "        ?s rdf:type <{dcoretbox.platform.identifier}>  .\n",
    "        ?s <{dcoretbox.has_platform_owner.identifier}>  ?o  . \n",
    "    }}\n",
    "    \"\"\")"
   ]
  },
  {
   "cell_type": "code",
   "execution_count": null,
   "id": "50cea807",
   "metadata": {},
   "outputs": [],
   "source": [
    "print(\"> There are exactly \" , len(result_platforms_owners), ' Platforms with an owner in the database, Thse are\\n')"
   ]
  },
  {
   "cell_type": "code",
   "execution_count": null,
   "id": "d501f7f4",
   "metadata": {},
   "outputs": [],
   "source": [
    "# printed as object classes \n",
    "result_platforms_owners"
   ]
  },
  {
   "cell_type": "code",
   "execution_count": null,
   "id": "69c3397a",
   "metadata": {},
   "outputs": [],
   "source": [
    "# as RDFLIB_URI's\n",
    "for i in result_platforms_owners:\n",
    "    print(i)"
   ]
  },
  {
   "cell_type": "code",
   "execution_count": null,
   "id": "2cb0f560",
   "metadata": {},
   "outputs": [],
   "source": [
    "#and pretty_printed \n",
    "for i in result_platforms_owners:\n",
    "    p=core_session.get(i[0])\n",
    "    pretty_print(p, rel=dcoretbox.has_platform_owner) # we can limit the relations here. "
   ]
  },
  {
   "cell_type": "markdown",
   "id": "0f41dce5",
   "metadata": {},
   "source": [
    "# The SPARQL query accroding to type and data attribute\n"
   ]
  },
  {
   "cell_type": "code",
   "execution_count": null,
   "id": "731635b3",
   "metadata": {},
   "outputs": [],
   "source": [
    "# query all triplets, where the subject type is `platform` from the dome core ontology and \n",
    "# that has the relationship `has_platform_owner` and that has an attibute: `has_platform_name`\n",
    "\n",
    "\n",
    "res = sparql(\n",
    "    f\"\"\"SELECT ?s ?owner ?name WHERE {{\n",
    "        ?s rdf:type <{dcoretbox.platform.identifier}>  .\n",
    "        ?s <{dcoretbox.has_platform_owner.identifier}>  ?owner  ;\n",
    "           <{dcoretbox.has_platform_name.identifier}> ?name .\n",
    "    }}\n",
    "    \"\"\")"
   ]
  },
  {
   "cell_type": "code",
   "execution_count": null,
   "id": "2ab5de2f",
   "metadata": {},
   "outputs": [],
   "source": [
    "len(res)"
   ]
  },
  {
   "cell_type": "code",
   "execution_count": null,
   "id": "11c5e921",
   "metadata": {},
   "outputs": [],
   "source": [
    "for i in res:\n",
    "    print(i[0], i[1], i[2])"
   ]
  },
  {
   "cell_type": "markdown",
   "id": "bbe4bcd0",
   "metadata": {},
   "source": [
    "# Bonus: Find all individuals that relate in any way to DOME using a string match"
   ]
  },
  {
   "cell_type": "code",
   "execution_count": null,
   "id": "44c42605",
   "metadata": {},
   "outputs": [],
   "source": [
    "res = sparql(\n",
    "    f\"\"\"SELECT DISTINCT ?s WHERE {{\n",
    "          ?s ?p ?o .\n",
    "          FILTER (CONTAINS(STR(?o), \"DOME\") || CONTAINS(STR(?p), \"DOME\"))\n",
    "    }}\n",
    "    \"\"\")"
   ]
  },
  {
   "cell_type": "code",
   "execution_count": null,
   "id": "08df5deb",
   "metadata": {},
   "outputs": [],
   "source": [
    "len(res)"
   ]
  },
  {
   "cell_type": "code",
   "execution_count": null,
   "id": "f98b0ef2",
   "metadata": {},
   "outputs": [],
   "source": [
    "for i in res:\n",
    "    print(i[0])"
   ]
  },
  {
   "cell_type": "code",
   "execution_count": null,
   "id": "0cab1046",
   "metadata": {
    "scrolled": true
   },
   "outputs": [],
   "source": [
    "for i in res:\n",
    "    print(i[0])"
   ]
  },
  {
   "cell_type": "markdown",
   "id": "9379f399",
   "metadata": {},
   "source": [
    "# Search topics as in dome/Platform/Semantic_Discovery/Topics"
   ]
  },
  {
   "cell_type": "code",
   "execution_count": null,
   "id": "3871dec2",
   "metadata": {},
   "outputs": [],
   "source": [
    "# this is the simphony way\n",
    "res_topic = sparql(\n",
    "    f\"\"\"SELECT DISTINCT ?s ?p ?o WHERE {{\n",
    "        ?s rdf:type <{dcoretbox.topic.identifier}>  .\n",
    "    }}\n",
    "    \"\"\")"
   ]
  },
  {
   "cell_type": "code",
   "execution_count": null,
   "id": "daa7de5f",
   "metadata": {},
   "outputs": [],
   "source": [
    "len(res_topic)"
   ]
  },
  {
   "cell_type": "code",
   "execution_count": null,
   "id": "197dd8e5",
   "metadata": {},
   "outputs": [],
   "source": [
    "sq=f\"\"\"SELECT DISTINCT ?s ?p ?o WHERE {{ ?s rdf:type <{dcoretbox.topic.identifier}>  . }}\"\"\""
   ]
  },
  {
   "cell_type": "code",
   "execution_count": null,
   "id": "39b8a57d",
   "metadata": {},
   "outputs": [],
   "source": [
    "res_topic=sparql(sq)"
   ]
  },
  {
   "cell_type": "code",
   "execution_count": null,
   "id": "3f9b4e7f",
   "metadata": {},
   "outputs": [],
   "source": [
    "len(res_topic)"
   ]
  },
  {
   "cell_type": "code",
   "execution_count": null,
   "id": "5f92d97c",
   "metadata": {},
   "outputs": [],
   "source": [
    "sq"
   ]
  },
  {
   "cell_type": "code",
   "execution_count": null,
   "id": "c5dc1ff7",
   "metadata": {},
   "outputs": [],
   "source": []
  },
  {
   "cell_type": "code",
   "execution_count": null,
   "id": "41a8a7f4",
   "metadata": {},
   "outputs": [],
   "source": [
    "# this is the dome way, both work. Note, we needed to update the query (remove stub.ttl...)\n",
    "sparql_query = \"\"\"SELECT DISTINCT ?s { ?s <http://www.w3.org/1999/02/22-rdf-syntax-ns#type> <https://dome40.eu/semantics/dome4.0_core#topic> . }\"\"\""
   ]
  },
  {
   "cell_type": "code",
   "execution_count": null,
   "id": "32fa5f53",
   "metadata": {},
   "outputs": [],
   "source": [
    "sparql_query"
   ]
  },
  {
   "cell_type": "code",
   "execution_count": null,
   "id": "f251ce62",
   "metadata": {},
   "outputs": [],
   "source": [
    "res = sparql(sparql_query)"
   ]
  },
  {
   "cell_type": "code",
   "execution_count": null,
   "id": "7717c0e6",
   "metadata": {},
   "outputs": [],
   "source": [
    "len(res)"
   ]
  },
  {
   "cell_type": "code",
   "execution_count": null,
   "id": "f4ea78f5",
   "metadata": {},
   "outputs": [],
   "source": [
    "pl"
   ]
  },
  {
   "cell_type": "code",
   "execution_count": null,
   "id": "e7586168",
   "metadata": {},
   "outputs": [],
   "source": [
    "dcoretbox.platform"
   ]
  },
  {
   "cell_type": "code",
   "execution_count": null,
   "id": "6fa6332e",
   "metadata": {},
   "outputs": [],
   "source": []
  },
  {
   "cell_type": "code",
   "execution_count": null,
   "id": "22c45fe2",
   "metadata": {},
   "outputs": [],
   "source": []
  },
  {
   "cell_type": "code",
   "execution_count": null,
   "id": "76adcb7f-edcb-431a-9dc7-da04f650ff7c",
   "metadata": {},
   "outputs": [],
   "source": []
  },
  {
   "cell_type": "code",
   "execution_count": null,
   "id": "1e3607cd-47b3-4c5d-937c-1640ad7aa151",
   "metadata": {},
   "outputs": [],
   "source": []
  },
  {
   "cell_type": "code",
   "execution_count": null,
   "id": "30f7d2f4-959a-41bd-989d-06b837b12e77",
   "metadata": {},
   "outputs": [],
   "source": []
  },
  {
   "cell_type": "code",
   "execution_count": null,
   "id": "c067d52b-8049-4297-9393-41c24d558875",
   "metadata": {},
   "outputs": [],
   "source": []
  },
  {
   "cell_type": "code",
   "execution_count": null,
   "id": "ee8a3035-55fc-4e91-a839-e58a013ecac2",
   "metadata": {},
   "outputs": [],
   "source": []
  },
  {
   "cell_type": "code",
   "execution_count": null,
   "id": "7c1eba6b-e5fa-4b8c-b62f-4641d7386a74",
   "metadata": {},
   "outputs": [],
   "source": []
  },
  {
   "cell_type": "code",
   "execution_count": null,
   "id": "a6d51878-4b14-4b5d-9fad-9d05d567c1ab",
   "metadata": {},
   "outputs": [],
   "source": []
  },
  {
   "cell_type": "code",
   "execution_count": null,
   "id": "2be2ba85-5bef-45bc-aead-b6a3a5ed9aaa",
   "metadata": {},
   "outputs": [],
   "source": []
  }
 ],
 "metadata": {
  "kernelspec": {
   "display_name": ".env",
   "language": "python",
   "name": ".env"
  },
  "language_info": {
   "codemirror_mode": {
    "name": "ipython",
    "version": 3
   },
   "file_extension": ".py",
   "mimetype": "text/x-python",
   "name": "python",
   "nbconvert_exporter": "python",
   "pygments_lexer": "ipython3",
   "version": "3.11.3"
  }
 },
 "nbformat": 4,
 "nbformat_minor": 5
}
