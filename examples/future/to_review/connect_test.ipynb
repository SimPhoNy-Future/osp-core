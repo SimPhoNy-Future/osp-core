{
 "cells": [
  {
   "cell_type": "code",
   "execution_count": 1,
   "id": "0668fc97",
   "metadata": {},
   "outputs": [],
   "source": [
    "from simphony_osp.namespaces import city, owl, foaf#, dso_dome, owl, dcat\n",
    "from simphony_osp.tools import semantic2dot\n",
    "from simphony_osp.tools import pretty_print\n",
    "from simphony_osp.ontology import OntologyIndividual\n",
    "from simphony_osp.tools import semantic2dot\n",
    "from simphony_osp.session import core_session\n",
    "from simphony_osp.tools.search import sparql\n",
    "from simphony_osp.ontology import RESTRICTION_QUANTIFIER, RESTRICTION_TYPE\n",
    "from simphony_osp.tools import search\n",
    "from simphony_osp.ontology.relationship import OntologyRelationship\n"
   ]
  },
  {
   "cell_type": "markdown",
   "id": "53c0ea9f",
   "metadata": {},
   "source": [
    "# Purpose\n",
    "We want to test the implementation of *axioms* and how we can utilise them in SimPhoNy as replacement for *schema or datamodel*. Another way is to add a specific schema propery to an item, but this would be re inventing the wheel. \n",
    "\n",
    "we load the city ontology, define two cities, and one citizin, then we connect the citizin to two cities using the works in relationship. \n",
    "\n",
    "according to the ontology `worksIn max 1 PopulatedPlace` this should raise some error of some sort. \n",
    "\n",
    "the next step would be to programatically find out what a citizin can have, and operate respectively. Note I am going to ignore the data attributes as they are not relevant now. \n"
   ]
  },
  {
   "cell_type": "code",
   "execution_count": 2,
   "id": "406a44ff",
   "metadata": {},
   "outputs": [],
   "source": [
    "haifa = city.City(name='haifa', coordinates=[0,0])"
   ]
  },
  {
   "cell_type": "markdown",
   "id": "f0c73c00",
   "metadata": {},
   "source": [
    "Try to give Haifa more than one Major (hasMajor max 1 Citizen)"
   ]
  },
  {
   "cell_type": "code",
   "execution_count": 3,
   "id": "8a4da163",
   "metadata": {},
   "outputs": [],
   "source": [
    "Mezna = city.Citizen(name=\"Mezna\", age=66)"
   ]
  },
  {
   "cell_type": "code",
   "execution_count": 4,
   "id": "b2e72ea4",
   "metadata": {},
   "outputs": [],
   "source": [
    "Kalish = city.Citizen(name=\"Kalish\", age=55)"
   ]
  },
  {
   "cell_type": "code",
   "execution_count": 5,
   "id": "7d300c0f",
   "metadata": {},
   "outputs": [],
   "source": [
    "haifa.connect(Mezna, rel=city.hasMajor) \n"
   ]
  },
  {
   "cell_type": "code",
   "execution_count": 6,
   "id": "85da97b5",
   "metadata": {},
   "outputs": [
    {
     "name": "stdout",
     "output_type": "stream",
     "text": [
      "- Ontology individual:\n",
      "  identifier: 2a325cba-c391-4ec2-a3b7-ec8aca0dacc9\n",
      "  type: City (city )\n",
      "  superclasses: City (city ), Populated Place (city ), Geographical Place (city ), Thing (owl )\n",
      "  values: \u0000coordinates: [0 0]\n",
      "          \u0000name: haifa\n",
      "   |_Relationship has major (city ) (city):\n",
      "     - Ontology individual of class Citizen\n",
      "        identifier: 351547c5-93e7-46a9-a4c9-c876cd61fd5d\n",
      "        \u0000age: 66\n",
      "        \u0000name: Mezna\n"
     ]
    }
   ],
   "source": [
    "pretty_print(haifa)"
   ]
  },
  {
   "cell_type": "code",
   "execution_count": 7,
   "id": "e5516d05",
   "metadata": {},
   "outputs": [],
   "source": [
    "haifa.connect(Kalish, rel=city.hasMajor)"
   ]
  },
  {
   "cell_type": "code",
   "execution_count": 8,
   "id": "6c035a21",
   "metadata": {},
   "outputs": [
    {
     "name": "stdout",
     "output_type": "stream",
     "text": [
      "- Ontology individual:\n",
      "  identifier: 2a325cba-c391-4ec2-a3b7-ec8aca0dacc9\n",
      "  type: City (city )\n",
      "  superclasses: City (city ), Populated Place (city ), Geographical Place (city ), Thing (owl )\n",
      "  values: \u0000coordinates: [0 0]\n",
      "          \u0000name: haifa\n",
      "   |_Relationship has major (city ) (city):\n",
      "     - Ontology individual of class Citizen\n",
      "      . identifier: 351547c5-93e7-46a9-a4c9-c876cd61fd5d\n",
      "      . \u0000age: 66\n",
      "      . \u0000name: Mezna\n",
      "     - Ontology individual of class Citizen\n",
      "        identifier: 7fb472e6-ad6c-4517-a311-4bb50361b021\n",
      "        \u0000age: 55\n",
      "        \u0000name: Kalish\n"
     ]
    }
   ],
   "source": [
    "pretty_print(haifa)"
   ]
  },
  {
   "cell_type": "code",
   "execution_count": 9,
   "id": "3b008333",
   "metadata": {},
   "outputs": [],
   "source": [
    "def triple(s=OntologyIndividual, p=OntologyRelationship, o=OntologyIndividual):\n",
    "    s.connect(o, rel=p)\n",
    "    \n",
    "    "
   ]
  },
  {
   "cell_type": "code",
   "execution_count": 10,
   "id": "aa172d5e",
   "metadata": {},
   "outputs": [],
   "source": [
    "haifa.connect(Mezna, rel=city.hasMajor)"
   ]
  },
  {
   "cell_type": "code",
   "execution_count": 11,
   "id": "1fb28b48",
   "metadata": {},
   "outputs": [
    {
     "name": "stdout",
     "output_type": "stream",
     "text": [
      "- Ontology individual:\n",
      "  identifier: 2a325cba-c391-4ec2-a3b7-ec8aca0dacc9\n",
      "  type: City (city )\n",
      "  superclasses: City (city ), Populated Place (city ), Geographical Place (city ), Thing (owl )\n",
      "  values: \u0000coordinates: [0 0]\n",
      "          \u0000name: haifa\n",
      "   |_Relationship has major (city ) (city):\n",
      "     - Ontology individual of class Citizen\n",
      "      . identifier: 351547c5-93e7-46a9-a4c9-c876cd61fd5d\n",
      "      . \u0000age: 66\n",
      "      . \u0000name: Mezna\n",
      "     - Ontology individual of class Citizen\n",
      "        identifier: 7fb472e6-ad6c-4517-a311-4bb50361b021\n",
      "        \u0000age: 55\n",
      "        \u0000name: Kalish\n"
     ]
    }
   ],
   "source": [
    "pretty_print(haifa)"
   ]
  },
  {
   "cell_type": "code",
   "execution_count": 12,
   "id": "37cd5b2f",
   "metadata": {},
   "outputs": [],
   "source": [
    "neighborhoods = {\n",
    "    city.Neighborhood(name=name, coordinates=coordinates)\n",
    "    for name, coordinates in [\n",
    "        (\"The City\", [47.99525, 7.84726]),\n",
    "        (\"Alperton\", [47.99888, 7.83774]),\n",
    "        (\"Webmly Park\", [48.00021, 7.86084]),\n",
    "        (\"Marylebone\", [48.00779, 7.86268]),\n",
    "        (\"Battersea\", [48.01684, 7.843]),\n",
    "    ]\n",
    "}"
   ]
  },
  {
   "cell_type": "code",
   "execution_count": 13,
   "id": "c7a6548b",
   "metadata": {},
   "outputs": [],
   "source": [
    "london = city.City(name='london', coordinates=[1,1])"
   ]
  },
  {
   "cell_type": "code",
   "execution_count": 14,
   "id": "e208214c",
   "metadata": {},
   "outputs": [
    {
     "name": "stdout",
     "output_type": "stream",
     "text": [
      "- Ontology individual:\n",
      "  identifier: e67b36cd-4cca-4723-a85b-64a0d3c96a27\n",
      "  type: City (city )\n",
      "  superclasses: City (city ), Populated Place (city ), Geographical Place (city ), Thing (owl )\n",
      "  values: \u0000coordinates: [1 1]\n",
      "          \u0000name: london\n"
     ]
    }
   ],
   "source": [
    "pretty_print(london)"
   ]
  },
  {
   "cell_type": "code",
   "execution_count": 15,
   "id": "532426ee",
   "metadata": {},
   "outputs": [],
   "source": [
    "for neighborhood in neighborhoods:\n",
    "    london.connect(neighborhood, rel=city.hasPart) "
   ]
  },
  {
   "cell_type": "code",
   "execution_count": 16,
   "id": "99c0571b",
   "metadata": {},
   "outputs": [
    {
     "name": "stdout",
     "output_type": "stream",
     "text": [
      "- Ontology individual:\n",
      "  identifier: e67b36cd-4cca-4723-a85b-64a0d3c96a27\n",
      "  type: City (city )\n",
      "  superclasses: City (city ), Populated Place (city ), Geographical Place (city ), Thing (owl )\n",
      "  values: \u0000coordinates: [1 1]\n",
      "          \u0000name: london\n",
      "   |_Relationship has part (city ) (city):\n",
      "     - Ontology individual of class Neighborhood\n",
      "      . identifier: 17fe0e90-e612-4fd1-a786-2c816db2fe17\n",
      "      . \u0000coordinates: [48.00779  7.86268]\n",
      "      . \u0000name: Marylebone\n",
      "     - Ontology individual of class Neighborhood\n",
      "      . identifier: 36088d6d-20ac-4151-96ce-2455cd379d16\n",
      "      . \u0000coordinates: [47.99525  7.84726]\n",
      "      . \u0000name: The City\n",
      "     - Ontology individual of class Neighborhood\n",
      "      . identifier: 9369661f-053e-4521-98e8-8112dde80bfa\n",
      "      . \u0000coordinates: [47.99888  7.83774]\n",
      "      . \u0000name: Alperton\n",
      "     - Ontology individual of class Neighborhood\n",
      "      . identifier: b7c27019-6563-46f3-a4e7-d6f2d7d55382\n",
      "      . \u0000coordinates: [48.01684  7.843  ]\n",
      "      . \u0000name: Battersea\n",
      "     - Ontology individual of class Neighborhood\n",
      "        identifier: e72787f7-8fcc-4ccc-aa54-1daa3ece4ee1\n",
      "        \u0000coordinates: [48.00021  7.86084]\n",
      "        \u0000name: Webmly Park\n"
     ]
    }
   ],
   "source": [
    "pretty_print(london)"
   ]
  },
  {
   "cell_type": "code",
   "execution_count": 17,
   "id": "cbe6b9b8",
   "metadata": {},
   "outputs": [],
   "source": [
    "semantic2dot(core_session).render(\"./city_axioms.gv\")"
   ]
  },
  {
   "cell_type": "code",
   "execution_count": 18,
   "id": "1488b135",
   "metadata": {},
   "outputs": [
    {
     "data": {
      "image/svg+xml": [
       "<?xml version=\"1.0\" encoding=\"UTF-8\" standalone=\"no\"?>\n",
       "<!DOCTYPE svg PUBLIC \"-//W3C//DTD SVG 1.1//EN\"\n",
       " \"http://www.w3.org/Graphics/SVG/1.1/DTD/svg11.dtd\">\n",
       "<!-- Generated by graphviz version 8.0.5 (20230430.1635)\n",
       " -->\n",
       "<!-- Title: SimPhoNy semantic2dot Pages: 1 -->\n",
       "<svg width=\"1960pt\" height=\"343pt\"\n",
       " viewBox=\"0.00 0.00 1960.01 343.34\" xmlns=\"http://www.w3.org/2000/svg\" xmlns:xlink=\"http://www.w3.org/1999/xlink\">\n",
       "<g id=\"graph0\" class=\"graph\" transform=\"scale(1 1) rotate(0) translate(4 339.34)\">\n",
       "<title>SimPhoNy semantic2dot</title>\n",
       "<polygon fill=\"white\" stroke=\"none\" points=\"-4,4 -4,-339.34 1956.01,-339.34 1956.01,4 -4,4\"/>\n",
       "<!-- https___www.simphony&#45;osp.eu_entity#17fe0e90&#45;e612&#45;4fd1&#45;a786&#45;2c816db2fe17 -->\n",
       "<g id=\"node1\" class=\"node\">\n",
       "<title>https___www.simphony&#45;osp.eu_entity#17fe0e90&#45;e612&#45;4fd1&#45;a786&#45;2c816db2fe17</title>\n",
       "<ellipse fill=\"none\" stroke=\"black\" cx=\"145.31\" cy=\"-70.71\" rx=\"145.31\" ry=\"70.71\"/>\n",
       "<text text-anchor=\"start\" x=\"104.81\" y=\"-99.41\" font-family=\"Times,serif\" font-size=\"14.00\">17fe0e90...e17</text>\n",
       "<text text-anchor=\"start\" x=\"67.31\" y=\"-76.91\" font-family=\"Times,serif\" font-size=\"14.00\">classes: Neighborhood (city)</text>\n",
       "<text text-anchor=\"start\" x=\"93.56\" y=\"-54.41\" font-family=\"Times,serif\" font-size=\"14.00\">name: Marylebone</text>\n",
       "<text text-anchor=\"start\" x=\"54.56\" y=\"-31.91\" font-family=\"Times,serif\" font-size=\"14.00\">coordinates: [48.00779 &#160;7.86268]</text>\n",
       "</g>\n",
       "<!-- https___www.simphony&#45;osp.eu_entity#e72787f7&#45;8fcc&#45;4ccc&#45;aa54&#45;1daa3ece4ee1 -->\n",
       "<g id=\"node2\" class=\"node\">\n",
       "<title>https___www.simphony&#45;osp.eu_entity#e72787f7&#45;8fcc&#45;4ccc&#45;aa54&#45;1daa3ece4ee1</title>\n",
       "<ellipse fill=\"none\" stroke=\"black\" cx=\"454.31\" cy=\"-70.71\" rx=\"145.31\" ry=\"70.71\"/>\n",
       "<text text-anchor=\"start\" x=\"413.81\" y=\"-99.41\" font-family=\"Times,serif\" font-size=\"14.00\">e72787f7...ee1</text>\n",
       "<text text-anchor=\"start\" x=\"376.31\" y=\"-76.91\" font-family=\"Times,serif\" font-size=\"14.00\">classes: Neighborhood (city)</text>\n",
       "<text text-anchor=\"start\" x=\"398.06\" y=\"-54.41\" font-family=\"Times,serif\" font-size=\"14.00\">name: Webmly Park</text>\n",
       "<text text-anchor=\"start\" x=\"363.56\" y=\"-31.91\" font-family=\"Times,serif\" font-size=\"14.00\">coordinates: [48.00021 &#160;7.86084]</text>\n",
       "</g>\n",
       "<!-- https___www.simphony&#45;osp.eu_entity#9369661f&#45;053e&#45;4521&#45;98e8&#45;8112dde80bfa -->\n",
       "<g id=\"node3\" class=\"node\">\n",
       "<title>https___www.simphony&#45;osp.eu_entity#9369661f&#45;053e&#45;4521&#45;98e8&#45;8112dde80bfa</title>\n",
       "<ellipse fill=\"none\" stroke=\"black\" cx=\"763.31\" cy=\"-70.71\" rx=\"145.31\" ry=\"70.71\"/>\n",
       "<text text-anchor=\"start\" x=\"723.19\" y=\"-99.41\" font-family=\"Times,serif\" font-size=\"14.00\">9369661f...bfa</text>\n",
       "<text text-anchor=\"start\" x=\"685.31\" y=\"-76.91\" font-family=\"Times,serif\" font-size=\"14.00\">classes: Neighborhood (city)</text>\n",
       "<text text-anchor=\"start\" x=\"672.56\" y=\"-54.41\" font-family=\"Times,serif\" font-size=\"14.00\">coordinates: [47.99888 &#160;7.83774]</text>\n",
       "<text text-anchor=\"start\" x=\"720.94\" y=\"-31.91\" font-family=\"Times,serif\" font-size=\"14.00\">name: Alperton</text>\n",
       "</g>\n",
       "<!-- https___www.simphony&#45;osp.eu_entity#36088d6d&#45;20ac&#45;4151&#45;96ce&#45;2455cd379d16 -->\n",
       "<g id=\"node4\" class=\"node\">\n",
       "<title>https___www.simphony&#45;osp.eu_entity#36088d6d&#45;20ac&#45;4151&#45;96ce&#45;2455cd379d16</title>\n",
       "<ellipse fill=\"none\" stroke=\"black\" cx=\"1072.31\" cy=\"-70.71\" rx=\"145.31\" ry=\"70.71\"/>\n",
       "<text text-anchor=\"start\" x=\"1029.56\" y=\"-99.41\" font-family=\"Times,serif\" font-size=\"14.00\">36088d6d...d16</text>\n",
       "<text text-anchor=\"start\" x=\"994.31\" y=\"-76.91\" font-family=\"Times,serif\" font-size=\"14.00\">classes: Neighborhood (city)</text>\n",
       "<text text-anchor=\"start\" x=\"981.56\" y=\"-54.41\" font-family=\"Times,serif\" font-size=\"14.00\">coordinates: [47.99525 &#160;7.84726]</text>\n",
       "<text text-anchor=\"start\" x=\"1029.94\" y=\"-31.91\" font-family=\"Times,serif\" font-size=\"14.00\">name: The City</text>\n",
       "</g>\n",
       "<!-- https___www.simphony&#45;osp.eu_entity#2a325cba&#45;c391&#45;4ec2&#45;a3b7&#45;ec8aca0dacc9 -->\n",
       "<g id=\"node5\" class=\"node\">\n",
       "<title>https___www.simphony&#45;osp.eu_entity#2a325cba&#45;c391&#45;4ec2&#45;a3b7&#45;ec8aca0dacc9</title>\n",
       "<ellipse fill=\"none\" stroke=\"black\" cx=\"1743.31\" cy=\"-264.63\" rx=\"88.57\" ry=\"70.71\"/>\n",
       "<text text-anchor=\"start\" x=\"1702.44\" y=\"-293.33\" font-family=\"Times,serif\" font-size=\"14.00\">2a325cba...cc9</text>\n",
       "<text text-anchor=\"start\" x=\"1692.69\" y=\"-270.83\" font-family=\"Times,serif\" font-size=\"14.00\">classes: City (city)</text>\n",
       "<text text-anchor=\"start\" x=\"1695.31\" y=\"-248.33\" font-family=\"Times,serif\" font-size=\"14.00\">coordinates: [0 0]</text>\n",
       "<text text-anchor=\"start\" x=\"1711.06\" y=\"-225.83\" font-family=\"Times,serif\" font-size=\"14.00\">name: haifa</text>\n",
       "</g>\n",
       "<!-- https___www.simphony&#45;osp.eu_entity#7fb472e6&#45;ad6c&#45;4517&#45;a311&#45;4bb50361b021 -->\n",
       "<g id=\"node7\" class=\"node\">\n",
       "<title>https___www.simphony&#45;osp.eu_entity#7fb472e6&#45;ad6c&#45;4517&#45;a311&#45;4bb50361b021</title>\n",
       "<ellipse fill=\"none\" stroke=\"black\" cx=\"1635.31\" cy=\"-70.71\" rx=\"99.7\" ry=\"70.71\"/>\n",
       "<text text-anchor=\"start\" x=\"1594.06\" y=\"-99.41\" font-family=\"Times,serif\" font-size=\"14.00\">7fb472e6...021</text>\n",
       "<text text-anchor=\"start\" x=\"1576.81\" y=\"-76.91\" font-family=\"Times,serif\" font-size=\"14.00\">classes: Citizen (city)</text>\n",
       "<text text-anchor=\"start\" x=\"1598.94\" y=\"-54.41\" font-family=\"Times,serif\" font-size=\"14.00\">name: Kalish</text>\n",
       "<text text-anchor=\"start\" x=\"1615.44\" y=\"-31.91\" font-family=\"Times,serif\" font-size=\"14.00\">age: 55</text>\n",
       "</g>\n",
       "<!-- https___www.simphony&#45;osp.eu_entity#2a325cba&#45;c391&#45;4ec2&#45;a3b7&#45;ec8aca0dacc9&#45;&gt;https___www.simphony&#45;osp.eu_entity#7fb472e6&#45;ad6c&#45;4517&#45;a311&#45;4bb50361b021 -->\n",
       "<g id=\"edge2\" class=\"edge\">\n",
       "<title>https___www.simphony&#45;osp.eu_entity#2a325cba&#45;c391&#45;4ec2&#45;a3b7&#45;ec8aca0dacc9&#45;&gt;https___www.simphony&#45;osp.eu_entity#7fb472e6&#45;ad6c&#45;4517&#45;a311&#45;4bb50361b021</title>\n",
       "<path fill=\"none\" stroke=\"black\" d=\"M1707.35,-199.73C1697.63,-182.45 1687.03,-163.62 1677.02,-145.84\"/>\n",
       "<polygon fill=\"black\" stroke=\"black\" points=\"1679.81,-144.65 1671.85,-137.65 1673.71,-148.08 1679.81,-144.65\"/>\n",
       "<text text-anchor=\"middle\" x=\"1736.81\" y=\"-162.62\" font-family=\"Times,serif\" font-size=\"14.00\">has major (city)</text>\n",
       "</g>\n",
       "<!-- https___www.simphony&#45;osp.eu_entity#351547c5&#45;93e7&#45;46a9&#45;a4c9&#45;c876cd61fd5d -->\n",
       "<g id=\"node9\" class=\"node\">\n",
       "<title>https___www.simphony&#45;osp.eu_entity#351547c5&#45;93e7&#45;46a9&#45;a4c9&#45;c876cd61fd5d</title>\n",
       "<ellipse fill=\"none\" stroke=\"black\" cx=\"1852.31\" cy=\"-70.71\" rx=\"99.7\" ry=\"70.71\"/>\n",
       "<text text-anchor=\"start\" x=\"1809.94\" y=\"-99.41\" font-family=\"Times,serif\" font-size=\"14.00\">351547c5...d5d</text>\n",
       "<text text-anchor=\"start\" x=\"1793.81\" y=\"-76.91\" font-family=\"Times,serif\" font-size=\"14.00\">classes: Citizen (city)</text>\n",
       "<text text-anchor=\"start\" x=\"1832.44\" y=\"-54.41\" font-family=\"Times,serif\" font-size=\"14.00\">age: 66</text>\n",
       "<text text-anchor=\"start\" x=\"1814.81\" y=\"-31.91\" font-family=\"Times,serif\" font-size=\"14.00\">name: Mezna</text>\n",
       "</g>\n",
       "<!-- https___www.simphony&#45;osp.eu_entity#2a325cba&#45;c391&#45;4ec2&#45;a3b7&#45;ec8aca0dacc9&#45;&gt;https___www.simphony&#45;osp.eu_entity#351547c5&#45;93e7&#45;46a9&#45;a4c9&#45;c876cd61fd5d -->\n",
       "<g id=\"edge1\" class=\"edge\">\n",
       "<title>https___www.simphony&#45;osp.eu_entity#2a325cba&#45;c391&#45;4ec2&#45;a3b7&#45;ec8aca0dacc9&#45;&gt;https___www.simphony&#45;osp.eu_entity#351547c5&#45;93e7&#45;46a9&#45;a4c9&#45;c876cd61fd5d</title>\n",
       "<path fill=\"none\" stroke=\"black\" d=\"M1779.61,-199.73C1789.41,-182.45 1800.11,-163.62 1810.21,-145.84\"/>\n",
       "<polygon fill=\"black\" stroke=\"black\" points=\"1813.53,-148.07 1815.43,-137.65 1807.45,-144.62 1813.53,-148.07\"/>\n",
       "<text text-anchor=\"middle\" x=\"1843.81\" y=\"-162.62\" font-family=\"Times,serif\" font-size=\"14.00\">has major (city)</text>\n",
       "</g>\n",
       "<!-- https___www.simphony&#45;osp.eu_entity#e67b36cd&#45;4cca&#45;4723&#45;a85b&#45;64a0d3c96a27 -->\n",
       "<g id=\"node6\" class=\"node\">\n",
       "<title>https___www.simphony&#45;osp.eu_entity#e67b36cd&#45;4cca&#45;4723&#45;a85b&#45;64a0d3c96a27</title>\n",
       "<ellipse fill=\"none\" stroke=\"black\" cx=\"763.31\" cy=\"-264.63\" rx=\"88.57\" ry=\"70.71\"/>\n",
       "<text text-anchor=\"start\" x=\"721.69\" y=\"-293.33\" font-family=\"Times,serif\" font-size=\"14.00\">e67b36cd...a27</text>\n",
       "<text text-anchor=\"start\" x=\"712.69\" y=\"-270.83\" font-family=\"Times,serif\" font-size=\"14.00\">classes: City (city)</text>\n",
       "<text text-anchor=\"start\" x=\"715.31\" y=\"-248.33\" font-family=\"Times,serif\" font-size=\"14.00\">coordinates: [1 1]</text>\n",
       "<text text-anchor=\"start\" x=\"725.81\" y=\"-225.83\" font-family=\"Times,serif\" font-size=\"14.00\">name: london</text>\n",
       "</g>\n",
       "<!-- https___www.simphony&#45;osp.eu_entity#e67b36cd&#45;4cca&#45;4723&#45;a85b&#45;64a0d3c96a27&#45;&gt;https___www.simphony&#45;osp.eu_entity#17fe0e90&#45;e612&#45;4fd1&#45;a786&#45;2c816db2fe17 -->\n",
       "<g id=\"edge3\" class=\"edge\">\n",
       "<title>https___www.simphony&#45;osp.eu_entity#e67b36cd&#45;4cca&#45;4723&#45;a85b&#45;64a0d3c96a27&#45;&gt;https___www.simphony&#45;osp.eu_entity#17fe0e90&#45;e612&#45;4fd1&#45;a786&#45;2c816db2fe17</title>\n",
       "<path fill=\"none\" stroke=\"black\" d=\"M677.55,-245.45C583.64,-224.52 429.22,-187.07 300.31,-141.42 286.66,-136.59 272.54,-131.04 258.64,-125.24\"/>\n",
       "<polygon fill=\"black\" stroke=\"black\" points=\"260.14,-121.65 249.57,-120.98 257.41,-128.1 260.14,-121.65\"/>\n",
       "<text text-anchor=\"middle\" x=\"438.19\" y=\"-162.62\" font-family=\"Times,serif\" font-size=\"14.00\">has part (city)</text>\n",
       "</g>\n",
       "<!-- https___www.simphony&#45;osp.eu_entity#e67b36cd&#45;4cca&#45;4723&#45;a85b&#45;64a0d3c96a27&#45;&gt;https___www.simphony&#45;osp.eu_entity#e72787f7&#45;8fcc&#45;4ccc&#45;aa54&#45;1daa3ece4ee1 -->\n",
       "<g id=\"edge5\" class=\"edge\">\n",
       "<title>https___www.simphony&#45;osp.eu_entity#e67b36cd&#45;4cca&#45;4723&#45;a85b&#45;64a0d3c96a27&#45;&gt;https___www.simphony&#45;osp.eu_entity#e72787f7&#45;8fcc&#45;4ccc&#45;aa54&#45;1daa3ece4ee1</title>\n",
       "<path fill=\"none\" stroke=\"black\" d=\"M693.96,-220.56C652.26,-194.66 598.52,-161.28 552.5,-132.7\"/>\n",
       "<polygon fill=\"black\" stroke=\"black\" points=\"554.75,-129.35 544.4,-127.05 551.05,-135.3 554.75,-129.35\"/>\n",
       "<text text-anchor=\"middle\" x=\"656.19\" y=\"-162.62\" font-family=\"Times,serif\" font-size=\"14.00\">has part (city)</text>\n",
       "</g>\n",
       "<!-- https___www.simphony&#45;osp.eu_entity#e67b36cd&#45;4cca&#45;4723&#45;a85b&#45;64a0d3c96a27&#45;&gt;https___www.simphony&#45;osp.eu_entity#9369661f&#45;053e&#45;4521&#45;98e8&#45;8112dde80bfa -->\n",
       "<g id=\"edge4\" class=\"edge\">\n",
       "<title>https___www.simphony&#45;osp.eu_entity#e67b36cd&#45;4cca&#45;4723&#45;a85b&#45;64a0d3c96a27&#45;&gt;https___www.simphony&#45;osp.eu_entity#9369661f&#45;053e&#45;4521&#45;98e8&#45;8112dde80bfa</title>\n",
       "<path fill=\"none\" stroke=\"black\" d=\"M763.31,-193.53C763.31,-180.18 763.31,-166.11 763.31,-152.46\"/>\n",
       "<polygon fill=\"black\" stroke=\"black\" points=\"766.81,-152.62 763.31,-142.62 759.81,-152.62 766.81,-152.62\"/>\n",
       "<text text-anchor=\"middle\" x=\"801.19\" y=\"-162.62\" font-family=\"Times,serif\" font-size=\"14.00\">has part (city)</text>\n",
       "</g>\n",
       "<!-- https___www.simphony&#45;osp.eu_entity#e67b36cd&#45;4cca&#45;4723&#45;a85b&#45;64a0d3c96a27&#45;&gt;https___www.simphony&#45;osp.eu_entity#36088d6d&#45;20ac&#45;4151&#45;96ce&#45;2455cd379d16 -->\n",
       "<g id=\"edge6\" class=\"edge\">\n",
       "<title>https___www.simphony&#45;osp.eu_entity#e67b36cd&#45;4cca&#45;4723&#45;a85b&#45;64a0d3c96a27&#45;&gt;https___www.simphony&#45;osp.eu_entity#36088d6d&#45;20ac&#45;4151&#45;96ce&#45;2455cd379d16</title>\n",
       "<path fill=\"none\" stroke=\"black\" d=\"M832.66,-220.56C874.36,-194.66 928.1,-161.28 974.12,-132.7\"/>\n",
       "<polygon fill=\"black\" stroke=\"black\" points=\"975.57,-135.3 982.22,-127.05 971.88,-129.35 975.57,-135.3\"/>\n",
       "<text text-anchor=\"middle\" x=\"965.19\" y=\"-162.62\" font-family=\"Times,serif\" font-size=\"14.00\">has part (city)</text>\n",
       "</g>\n",
       "<!-- https___www.simphony&#45;osp.eu_entity#b7c27019&#45;6563&#45;46f3&#45;a4e7&#45;d6f2d7d55382 -->\n",
       "<g id=\"node8\" class=\"node\">\n",
       "<title>https___www.simphony&#45;osp.eu_entity#b7c27019&#45;6563&#45;46f3&#45;a4e7&#45;d6f2d7d55382</title>\n",
       "<ellipse fill=\"none\" stroke=\"black\" cx=\"1376.31\" cy=\"-70.71\" rx=\"141.07\" ry=\"70.71\"/>\n",
       "<text text-anchor=\"start\" x=\"1333.94\" y=\"-99.41\" font-family=\"Times,serif\" font-size=\"14.00\">b7c27019...382</text>\n",
       "<text text-anchor=\"start\" x=\"1298.31\" y=\"-76.91\" font-family=\"Times,serif\" font-size=\"14.00\">classes: Neighborhood (city)</text>\n",
       "<text text-anchor=\"start\" x=\"1288.56\" y=\"-54.41\" font-family=\"Times,serif\" font-size=\"14.00\">coordinates: [48.01684 &#160;7.843 &#160;]</text>\n",
       "<text text-anchor=\"start\" x=\"1332.44\" y=\"-31.91\" font-family=\"Times,serif\" font-size=\"14.00\">name: Battersea</text>\n",
       "</g>\n",
       "<!-- https___www.simphony&#45;osp.eu_entity#e67b36cd&#45;4cca&#45;4723&#45;a85b&#45;64a0d3c96a27&#45;&gt;https___www.simphony&#45;osp.eu_entity#b7c27019&#45;6563&#45;46f3&#45;a4e7&#45;d6f2d7d55382 -->\n",
       "<g id=\"edge7\" class=\"edge\">\n",
       "<title>https___www.simphony&#45;osp.eu_entity#e67b36cd&#45;4cca&#45;4723&#45;a85b&#45;64a0d3c96a27&#45;&gt;https___www.simphony&#45;osp.eu_entity#b7c27019&#45;6563&#45;46f3&#45;a4e7&#45;d6f2d7d55382</title>\n",
       "<path fill=\"none\" stroke=\"black\" d=\"M849.18,-245.76C943.19,-225.09 1097.68,-187.87 1226.31,-141.42 1239.57,-136.63 1253.26,-131.12 1266.72,-125.33\"/>\n",
       "<polygon fill=\"black\" stroke=\"black\" points=\"1267.71,-128.28 1275.48,-121.08 1264.91,-121.87 1267.71,-128.28\"/>\n",
       "<text text-anchor=\"middle\" x=\"1203.19\" y=\"-162.62\" font-family=\"Times,serif\" font-size=\"14.00\">has part (city)</text>\n",
       "</g>\n",
       "</g>\n",
       "</svg>\n"
      ],
      "text/plain": [
       "<simphony_osp.tools.semantic2dot.Semantic2Dot at 0x125aa3950>"
      ]
     },
     "execution_count": 18,
     "metadata": {},
     "output_type": "execute_result"
    }
   ],
   "source": [
    "semantic2dot(core_session)"
   ]
  },
  {
   "cell_type": "markdown",
   "id": "ac462b99",
   "metadata": {},
   "source": [
    "Now lets add Marylebone to haifa as well. \n"
   ]
  },
  {
   "cell_type": "code",
   "execution_count": 19,
   "id": "ef7e422e",
   "metadata": {},
   "outputs": [
    {
     "name": "stdout",
     "output_type": "stream",
     "text": [
      "<class 'set'>\n"
     ]
    }
   ],
   "source": [
    "print(type(neighborhoods))"
   ]
  },
  {
   "cell_type": "code",
   "execution_count": 20,
   "id": "fc462e67",
   "metadata": {},
   "outputs": [
    {
     "name": "stdout",
     "output_type": "stream",
     "text": [
      "- Ontology individual:\n",
      "  identifier: 17fe0e90-e612-4fd1-a786-2c816db2fe17\n",
      "  type: Neighborhood (city )\n",
      "  superclasses: Neighborhood (city ), Populated Place (city ), Geographical Place (city ), Thing (owl )\n",
      "  values: \u0000coordinates: [48.00779  7.86268]\n",
      "          \u0000name: Marylebone\n"
     ]
    }
   ],
   "source": [
    "for neighborhood in neighborhoods:\n",
    "    if \"Mary\" in str(neighborhood.name):\n",
    "        pretty_print (neighborhood)\n",
    "        marylebone=neighborhood"
   ]
  },
  {
   "cell_type": "code",
   "execution_count": 21,
   "id": "0db95fce",
   "metadata": {},
   "outputs": [
    {
     "name": "stdout",
     "output_type": "stream",
     "text": [
      "- Ontology individual:\n",
      "  identifier: 17fe0e90-e612-4fd1-a786-2c816db2fe17\n",
      "  type: Neighborhood (city )\n",
      "  superclasses: Neighborhood (city ), Populated Place (city ), Geographical Place (city ), Thing (owl )\n",
      "  values: \u0000coordinates: [48.00779  7.86268]\n",
      "          \u0000name: Marylebone\n"
     ]
    }
   ],
   "source": [
    "pretty_print(marylebone) # just double check"
   ]
  },
  {
   "cell_type": "code",
   "execution_count": 22,
   "id": "d432ab88",
   "metadata": {},
   "outputs": [],
   "source": [
    "haifa.connect(marylebone, rel=city.hasPart)"
   ]
  },
  {
   "cell_type": "code",
   "execution_count": 23,
   "id": "4cc58766",
   "metadata": {},
   "outputs": [
    {
     "data": {
      "image/svg+xml": [
       "<?xml version=\"1.0\" encoding=\"UTF-8\" standalone=\"no\"?>\n",
       "<!DOCTYPE svg PUBLIC \"-//W3C//DTD SVG 1.1//EN\"\n",
       " \"http://www.w3.org/Graphics/SVG/1.1/DTD/svg11.dtd\">\n",
       "<!-- Generated by graphviz version 8.0.5 (20230430.1635)\n",
       " -->\n",
       "<!-- Title: SimPhoNy semantic2dot Pages: 1 -->\n",
       "<svg width=\"1959pt\" height=\"343pt\"\n",
       " viewBox=\"0.00 0.00 1959.01 343.34\" xmlns=\"http://www.w3.org/2000/svg\" xmlns:xlink=\"http://www.w3.org/1999/xlink\">\n",
       "<g id=\"graph0\" class=\"graph\" transform=\"scale(1 1) rotate(0) translate(4 339.34)\">\n",
       "<title>SimPhoNy semantic2dot</title>\n",
       "<polygon fill=\"white\" stroke=\"none\" points=\"-4,4 -4,-339.34 1955.01,-339.34 1955.01,4 -4,4\"/>\n",
       "<!-- https___www.simphony&#45;osp.eu_entity#17fe0e90&#45;e612&#45;4fd1&#45;a786&#45;2c816db2fe17 -->\n",
       "<g id=\"node1\" class=\"node\">\n",
       "<title>https___www.simphony&#45;osp.eu_entity#17fe0e90&#45;e612&#45;4fd1&#45;a786&#45;2c816db2fe17</title>\n",
       "<ellipse fill=\"none\" stroke=\"black\" cx=\"579.7\" cy=\"-70.71\" rx=\"145.31\" ry=\"70.71\"/>\n",
       "<text text-anchor=\"start\" x=\"539.2\" y=\"-99.41\" font-family=\"Times,serif\" font-size=\"14.00\">17fe0e90...e17</text>\n",
       "<text text-anchor=\"start\" x=\"501.7\" y=\"-76.91\" font-family=\"Times,serif\" font-size=\"14.00\">classes: Neighborhood (city)</text>\n",
       "<text text-anchor=\"start\" x=\"527.95\" y=\"-54.41\" font-family=\"Times,serif\" font-size=\"14.00\">name: Marylebone</text>\n",
       "<text text-anchor=\"start\" x=\"488.95\" y=\"-31.91\" font-family=\"Times,serif\" font-size=\"14.00\">coordinates: [48.00779 &#160;7.86268]</text>\n",
       "</g>\n",
       "<!-- https___www.simphony&#45;osp.eu_entity#e72787f7&#45;8fcc&#45;4ccc&#45;aa54&#45;1daa3ece4ee1 -->\n",
       "<g id=\"node2\" class=\"node\">\n",
       "<title>https___www.simphony&#45;osp.eu_entity#e72787f7&#45;8fcc&#45;4ccc&#45;aa54&#45;1daa3ece4ee1</title>\n",
       "<ellipse fill=\"none\" stroke=\"black\" cx=\"1496.7\" cy=\"-70.71\" rx=\"145.31\" ry=\"70.71\"/>\n",
       "<text text-anchor=\"start\" x=\"1456.2\" y=\"-99.41\" font-family=\"Times,serif\" font-size=\"14.00\">e72787f7...ee1</text>\n",
       "<text text-anchor=\"start\" x=\"1418.7\" y=\"-76.91\" font-family=\"Times,serif\" font-size=\"14.00\">classes: Neighborhood (city)</text>\n",
       "<text text-anchor=\"start\" x=\"1440.45\" y=\"-54.41\" font-family=\"Times,serif\" font-size=\"14.00\">name: Webmly Park</text>\n",
       "<text text-anchor=\"start\" x=\"1405.95\" y=\"-31.91\" font-family=\"Times,serif\" font-size=\"14.00\">coordinates: [48.00021 &#160;7.86084]</text>\n",
       "</g>\n",
       "<!-- https___www.simphony&#45;osp.eu_entity#9369661f&#45;053e&#45;4521&#45;98e8&#45;8112dde80bfa -->\n",
       "<g id=\"node3\" class=\"node\">\n",
       "<title>https___www.simphony&#45;osp.eu_entity#9369661f&#45;053e&#45;4521&#45;98e8&#45;8112dde80bfa</title>\n",
       "<ellipse fill=\"none\" stroke=\"black\" cx=\"1805.7\" cy=\"-70.71\" rx=\"145.31\" ry=\"70.71\"/>\n",
       "<text text-anchor=\"start\" x=\"1765.58\" y=\"-99.41\" font-family=\"Times,serif\" font-size=\"14.00\">9369661f...bfa</text>\n",
       "<text text-anchor=\"start\" x=\"1727.7\" y=\"-76.91\" font-family=\"Times,serif\" font-size=\"14.00\">classes: Neighborhood (city)</text>\n",
       "<text text-anchor=\"start\" x=\"1714.95\" y=\"-54.41\" font-family=\"Times,serif\" font-size=\"14.00\">coordinates: [47.99888 &#160;7.83774]</text>\n",
       "<text text-anchor=\"start\" x=\"1763.33\" y=\"-31.91\" font-family=\"Times,serif\" font-size=\"14.00\">name: Alperton</text>\n",
       "</g>\n",
       "<!-- https___www.simphony&#45;osp.eu_entity#36088d6d&#45;20ac&#45;4151&#45;96ce&#45;2455cd379d16 -->\n",
       "<g id=\"node4\" class=\"node\">\n",
       "<title>https___www.simphony&#45;osp.eu_entity#36088d6d&#45;20ac&#45;4151&#45;96ce&#45;2455cd379d16</title>\n",
       "<ellipse fill=\"none\" stroke=\"black\" cx=\"888.7\" cy=\"-70.71\" rx=\"145.31\" ry=\"70.71\"/>\n",
       "<text text-anchor=\"start\" x=\"845.95\" y=\"-99.41\" font-family=\"Times,serif\" font-size=\"14.00\">36088d6d...d16</text>\n",
       "<text text-anchor=\"start\" x=\"810.7\" y=\"-76.91\" font-family=\"Times,serif\" font-size=\"14.00\">classes: Neighborhood (city)</text>\n",
       "<text text-anchor=\"start\" x=\"797.95\" y=\"-54.41\" font-family=\"Times,serif\" font-size=\"14.00\">coordinates: [47.99525 &#160;7.84726]</text>\n",
       "<text text-anchor=\"start\" x=\"846.33\" y=\"-31.91\" font-family=\"Times,serif\" font-size=\"14.00\">name: The City</text>\n",
       "</g>\n",
       "<!-- https___www.simphony&#45;osp.eu_entity#2a325cba&#45;c391&#45;4ec2&#45;a3b7&#45;ec8aca0dacc9 -->\n",
       "<g id=\"node5\" class=\"node\">\n",
       "<title>https___www.simphony&#45;osp.eu_entity#2a325cba&#45;c391&#45;4ec2&#45;a3b7&#45;ec8aca0dacc9</title>\n",
       "<ellipse fill=\"none\" stroke=\"black\" cx=\"316.7\" cy=\"-264.63\" rx=\"88.57\" ry=\"70.71\"/>\n",
       "<text text-anchor=\"start\" x=\"275.83\" y=\"-293.33\" font-family=\"Times,serif\" font-size=\"14.00\">2a325cba...cc9</text>\n",
       "<text text-anchor=\"start\" x=\"266.08\" y=\"-270.83\" font-family=\"Times,serif\" font-size=\"14.00\">classes: City (city)</text>\n",
       "<text text-anchor=\"start\" x=\"268.7\" y=\"-248.33\" font-family=\"Times,serif\" font-size=\"14.00\">coordinates: [0 0]</text>\n",
       "<text text-anchor=\"start\" x=\"284.45\" y=\"-225.83\" font-family=\"Times,serif\" font-size=\"14.00\">name: haifa</text>\n",
       "</g>\n",
       "<!-- https___www.simphony&#45;osp.eu_entity#2a325cba&#45;c391&#45;4ec2&#45;a3b7&#45;ec8aca0dacc9&#45;&gt;https___www.simphony&#45;osp.eu_entity#17fe0e90&#45;e612&#45;4fd1&#45;a786&#45;2c816db2fe17 -->\n",
       "<g id=\"edge5\" class=\"edge\">\n",
       "<title>https___www.simphony&#45;osp.eu_entity#2a325cba&#45;c391&#45;4ec2&#45;a3b7&#45;ec8aca0dacc9&#45;&gt;https___www.simphony&#45;osp.eu_entity#17fe0e90&#45;e612&#45;4fd1&#45;a786&#45;2c816db2fe17</title>\n",
       "<path fill=\"none\" stroke=\"black\" d=\"M381.71,-216.19C414.81,-192.04 455.52,-162.33 491.41,-136.14\"/>\n",
       "<polygon fill=\"black\" stroke=\"black\" points=\"492.93,-138.64 498.94,-129.91 488.8,-132.98 492.93,-138.64\"/>\n",
       "<text text-anchor=\"middle\" x=\"494.58\" y=\"-162.62\" font-family=\"Times,serif\" font-size=\"14.00\">has part (city)</text>\n",
       "</g>\n",
       "<!-- https___www.simphony&#45;osp.eu_entity#7fb472e6&#45;ad6c&#45;4517&#45;a311&#45;4bb50361b021 -->\n",
       "<g id=\"node7\" class=\"node\">\n",
       "<title>https___www.simphony&#45;osp.eu_entity#7fb472e6&#45;ad6c&#45;4517&#45;a311&#45;4bb50361b021</title>\n",
       "<ellipse fill=\"none\" stroke=\"black\" cx=\"99.7\" cy=\"-70.71\" rx=\"99.7\" ry=\"70.71\"/>\n",
       "<text text-anchor=\"start\" x=\"58.45\" y=\"-99.41\" font-family=\"Times,serif\" font-size=\"14.00\">7fb472e6...021</text>\n",
       "<text text-anchor=\"start\" x=\"41.2\" y=\"-76.91\" font-family=\"Times,serif\" font-size=\"14.00\">classes: Citizen (city)</text>\n",
       "<text text-anchor=\"start\" x=\"63.33\" y=\"-54.41\" font-family=\"Times,serif\" font-size=\"14.00\">name: Kalish</text>\n",
       "<text text-anchor=\"start\" x=\"79.83\" y=\"-31.91\" font-family=\"Times,serif\" font-size=\"14.00\">age: 55</text>\n",
       "</g>\n",
       "<!-- https___www.simphony&#45;osp.eu_entity#2a325cba&#45;c391&#45;4ec2&#45;a3b7&#45;ec8aca0dacc9&#45;&gt;https___www.simphony&#45;osp.eu_entity#7fb472e6&#45;ad6c&#45;4517&#45;a311&#45;4bb50361b021 -->\n",
       "<g id=\"edge1\" class=\"edge\">\n",
       "<title>https___www.simphony&#45;osp.eu_entity#2a325cba&#45;c391&#45;4ec2&#45;a3b7&#45;ec8aca0dacc9&#45;&gt;https___www.simphony&#45;osp.eu_entity#7fb472e6&#45;ad6c&#45;4517&#45;a311&#45;4bb50361b021</title>\n",
       "<path fill=\"none\" stroke=\"black\" d=\"M257.69,-211.44C230.5,-187.4 198.04,-158.68 169.63,-133.56\"/>\n",
       "<polygon fill=\"black\" stroke=\"black\" points=\"172.54,-131.58 162.73,-127.57 167.9,-136.82 172.54,-131.58\"/>\n",
       "<text text-anchor=\"middle\" x=\"259.2\" y=\"-162.62\" font-family=\"Times,serif\" font-size=\"14.00\">has major (city)</text>\n",
       "</g>\n",
       "<!-- https___www.simphony&#45;osp.eu_entity#351547c5&#45;93e7&#45;46a9&#45;a4c9&#45;c876cd61fd5d -->\n",
       "<g id=\"node9\" class=\"node\">\n",
       "<title>https___www.simphony&#45;osp.eu_entity#351547c5&#45;93e7&#45;46a9&#45;a4c9&#45;c876cd61fd5d</title>\n",
       "<ellipse fill=\"none\" stroke=\"black\" cx=\"316.7\" cy=\"-70.71\" rx=\"99.7\" ry=\"70.71\"/>\n",
       "<text text-anchor=\"start\" x=\"274.33\" y=\"-99.41\" font-family=\"Times,serif\" font-size=\"14.00\">351547c5...d5d</text>\n",
       "<text text-anchor=\"start\" x=\"258.2\" y=\"-76.91\" font-family=\"Times,serif\" font-size=\"14.00\">classes: Citizen (city)</text>\n",
       "<text text-anchor=\"start\" x=\"296.83\" y=\"-54.41\" font-family=\"Times,serif\" font-size=\"14.00\">age: 66</text>\n",
       "<text text-anchor=\"start\" x=\"279.2\" y=\"-31.91\" font-family=\"Times,serif\" font-size=\"14.00\">name: Mezna</text>\n",
       "</g>\n",
       "<!-- https___www.simphony&#45;osp.eu_entity#2a325cba&#45;c391&#45;4ec2&#45;a3b7&#45;ec8aca0dacc9&#45;&gt;https___www.simphony&#45;osp.eu_entity#351547c5&#45;93e7&#45;46a9&#45;a4c9&#45;c876cd61fd5d -->\n",
       "<g id=\"edge4\" class=\"edge\">\n",
       "<title>https___www.simphony&#45;osp.eu_entity#2a325cba&#45;c391&#45;4ec2&#45;a3b7&#45;ec8aca0dacc9&#45;&gt;https___www.simphony&#45;osp.eu_entity#351547c5&#45;93e7&#45;46a9&#45;a4c9&#45;c876cd61fd5d</title>\n",
       "<path fill=\"none\" stroke=\"black\" d=\"M316.7,-193.53C316.7,-180.18 316.7,-166.11 316.7,-152.46\"/>\n",
       "<polygon fill=\"black\" stroke=\"black\" points=\"320.2,-152.62 316.7,-142.62 313.2,-152.62 320.2,-152.62\"/>\n",
       "<text text-anchor=\"middle\" x=\"360.2\" y=\"-162.62\" font-family=\"Times,serif\" font-size=\"14.00\">has major (city)</text>\n",
       "</g>\n",
       "<!-- https___www.simphony&#45;osp.eu_entity#e67b36cd&#45;4cca&#45;4723&#45;a85b&#45;64a0d3c96a27 -->\n",
       "<g id=\"node6\" class=\"node\">\n",
       "<title>https___www.simphony&#45;osp.eu_entity#e67b36cd&#45;4cca&#45;4723&#45;a85b&#45;64a0d3c96a27</title>\n",
       "<ellipse fill=\"none\" stroke=\"black\" cx=\"1192.7\" cy=\"-264.63\" rx=\"88.57\" ry=\"70.71\"/>\n",
       "<text text-anchor=\"start\" x=\"1151.08\" y=\"-293.33\" font-family=\"Times,serif\" font-size=\"14.00\">e67b36cd...a27</text>\n",
       "<text text-anchor=\"start\" x=\"1142.08\" y=\"-270.83\" font-family=\"Times,serif\" font-size=\"14.00\">classes: City (city)</text>\n",
       "<text text-anchor=\"start\" x=\"1144.7\" y=\"-248.33\" font-family=\"Times,serif\" font-size=\"14.00\">coordinates: [1 1]</text>\n",
       "<text text-anchor=\"start\" x=\"1155.2\" y=\"-225.83\" font-family=\"Times,serif\" font-size=\"14.00\">name: london</text>\n",
       "</g>\n",
       "<!-- https___www.simphony&#45;osp.eu_entity#e67b36cd&#45;4cca&#45;4723&#45;a85b&#45;64a0d3c96a27&#45;&gt;https___www.simphony&#45;osp.eu_entity#17fe0e90&#45;e612&#45;4fd1&#45;a786&#45;2c816db2fe17 -->\n",
       "<g id=\"edge2\" class=\"edge\">\n",
       "<title>https___www.simphony&#45;osp.eu_entity#e67b36cd&#45;4cca&#45;4723&#45;a85b&#45;64a0d3c96a27&#45;&gt;https___www.simphony&#45;osp.eu_entity#17fe0e90&#45;e612&#45;4fd1&#45;a786&#45;2c816db2fe17</title>\n",
       "<path fill=\"none\" stroke=\"black\" d=\"M1107.46,-245.24C1014.53,-224.2 862.06,-186.72 734.7,-141.42 721.06,-136.57 706.94,-131.01 693.05,-125.2\"/>\n",
       "<polygon fill=\"black\" stroke=\"black\" points=\"694.55,-121.62 683.98,-120.94 691.82,-128.06 694.55,-121.62\"/>\n",
       "<text text-anchor=\"middle\" x=\"871.58\" y=\"-162.62\" font-family=\"Times,serif\" font-size=\"14.00\">has part (city)</text>\n",
       "</g>\n",
       "<!-- https___www.simphony&#45;osp.eu_entity#e67b36cd&#45;4cca&#45;4723&#45;a85b&#45;64a0d3c96a27&#45;&gt;https___www.simphony&#45;osp.eu_entity#e72787f7&#45;8fcc&#45;4ccc&#45;aa54&#45;1daa3ece4ee1 -->\n",
       "<g id=\"edge7\" class=\"edge\">\n",
       "<title>https___www.simphony&#45;osp.eu_entity#e67b36cd&#45;4cca&#45;4723&#45;a85b&#45;64a0d3c96a27&#45;&gt;https___www.simphony&#45;osp.eu_entity#e72787f7&#45;8fcc&#45;4ccc&#45;aa54&#45;1daa3ece4ee1</title>\n",
       "<path fill=\"none\" stroke=\"black\" d=\"M1261.68,-220.08C1302.41,-194.37 1354.61,-161.42 1399.46,-133.1\"/>\n",
       "<polygon fill=\"black\" stroke=\"black\" points=\"1401.03,-135.62 1407.62,-127.32 1397.3,-129.7 1401.03,-135.62\"/>\n",
       "<text text-anchor=\"middle\" x=\"1391.58\" y=\"-162.62\" font-family=\"Times,serif\" font-size=\"14.00\">has part (city)</text>\n",
       "</g>\n",
       "<!-- https___www.simphony&#45;osp.eu_entity#e67b36cd&#45;4cca&#45;4723&#45;a85b&#45;64a0d3c96a27&#45;&gt;https___www.simphony&#45;osp.eu_entity#9369661f&#45;053e&#45;4521&#45;98e8&#45;8112dde80bfa -->\n",
       "<g id=\"edge6\" class=\"edge\">\n",
       "<title>https___www.simphony&#45;osp.eu_entity#e67b36cd&#45;4cca&#45;4723&#45;a85b&#45;64a0d3c96a27&#45;&gt;https___www.simphony&#45;osp.eu_entity#9369661f&#45;053e&#45;4521&#45;98e8&#45;8112dde80bfa</title>\n",
       "<path fill=\"none\" stroke=\"black\" d=\"M1277.95,-245.24C1370.88,-224.2 1523.35,-186.72 1650.7,-141.42 1664.35,-136.57 1678.46,-131.01 1692.36,-125.2\"/>\n",
       "<polygon fill=\"black\" stroke=\"black\" points=\"1693.59,-128.06 1701.43,-120.94 1690.85,-121.62 1693.59,-128.06\"/>\n",
       "<text text-anchor=\"middle\" x=\"1626.58\" y=\"-162.62\" font-family=\"Times,serif\" font-size=\"14.00\">has part (city)</text>\n",
       "</g>\n",
       "<!-- https___www.simphony&#45;osp.eu_entity#e67b36cd&#45;4cca&#45;4723&#45;a85b&#45;64a0d3c96a27&#45;&gt;https___www.simphony&#45;osp.eu_entity#36088d6d&#45;20ac&#45;4151&#45;96ce&#45;2455cd379d16 -->\n",
       "<g id=\"edge3\" class=\"edge\">\n",
       "<title>https___www.simphony&#45;osp.eu_entity#e67b36cd&#45;4cca&#45;4723&#45;a85b&#45;64a0d3c96a27&#45;&gt;https___www.simphony&#45;osp.eu_entity#36088d6d&#45;20ac&#45;4151&#45;96ce&#45;2455cd379d16</title>\n",
       "<path fill=\"none\" stroke=\"black\" d=\"M1123.72,-220.08C1082.99,-194.37 1030.8,-161.42 985.94,-133.1\"/>\n",
       "<polygon fill=\"black\" stroke=\"black\" points=\"988.11,-129.7 977.78,-127.32 984.37,-135.62 988.11,-129.7\"/>\n",
       "<text text-anchor=\"middle\" x=\"1088.58\" y=\"-162.62\" font-family=\"Times,serif\" font-size=\"14.00\">has part (city)</text>\n",
       "</g>\n",
       "<!-- https___www.simphony&#45;osp.eu_entity#b7c27019&#45;6563&#45;46f3&#45;a4e7&#45;d6f2d7d55382 -->\n",
       "<g id=\"node8\" class=\"node\">\n",
       "<title>https___www.simphony&#45;osp.eu_entity#b7c27019&#45;6563&#45;46f3&#45;a4e7&#45;d6f2d7d55382</title>\n",
       "<ellipse fill=\"none\" stroke=\"black\" cx=\"1192.7\" cy=\"-70.71\" rx=\"141.07\" ry=\"70.71\"/>\n",
       "<text text-anchor=\"start\" x=\"1150.33\" y=\"-99.41\" font-family=\"Times,serif\" font-size=\"14.00\">b7c27019...382</text>\n",
       "<text text-anchor=\"start\" x=\"1114.7\" y=\"-76.91\" font-family=\"Times,serif\" font-size=\"14.00\">classes: Neighborhood (city)</text>\n",
       "<text text-anchor=\"start\" x=\"1104.95\" y=\"-54.41\" font-family=\"Times,serif\" font-size=\"14.00\">coordinates: [48.01684 &#160;7.843 &#160;]</text>\n",
       "<text text-anchor=\"start\" x=\"1148.83\" y=\"-31.91\" font-family=\"Times,serif\" font-size=\"14.00\">name: Battersea</text>\n",
       "</g>\n",
       "<!-- https___www.simphony&#45;osp.eu_entity#e67b36cd&#45;4cca&#45;4723&#45;a85b&#45;64a0d3c96a27&#45;&gt;https___www.simphony&#45;osp.eu_entity#b7c27019&#45;6563&#45;46f3&#45;a4e7&#45;d6f2d7d55382 -->\n",
       "<g id=\"edge8\" class=\"edge\">\n",
       "<title>https___www.simphony&#45;osp.eu_entity#e67b36cd&#45;4cca&#45;4723&#45;a85b&#45;64a0d3c96a27&#45;&gt;https___www.simphony&#45;osp.eu_entity#b7c27019&#45;6563&#45;46f3&#45;a4e7&#45;d6f2d7d55382</title>\n",
       "<path fill=\"none\" stroke=\"black\" d=\"M1192.7,-193.53C1192.7,-180.18 1192.7,-166.11 1192.7,-152.46\"/>\n",
       "<polygon fill=\"black\" stroke=\"black\" points=\"1196.2,-152.62 1192.7,-142.62 1189.2,-152.62 1196.2,-152.62\"/>\n",
       "<text text-anchor=\"middle\" x=\"1230.58\" y=\"-162.62\" font-family=\"Times,serif\" font-size=\"14.00\">has part (city)</text>\n",
       "</g>\n",
       "</g>\n",
       "</svg>\n"
      ],
      "text/plain": [
       "<simphony_osp.tools.semantic2dot.Semantic2Dot at 0x125a98610>"
      ]
     },
     "execution_count": 23,
     "metadata": {},
     "output_type": "execute_result"
    }
   ],
   "source": [
    "semantic2dot(core_session)"
   ]
  },
  {
   "cell_type": "code",
   "execution_count": 24,
   "id": "fb62feb5",
   "metadata": {},
   "outputs": [
    {
     "name": "stdout",
     "output_type": "stream",
     "text": [
      "- Ontology individual:\n",
      "  identifier: e67b36cd-4cca-4723-a85b-64a0d3c96a27\n",
      "  type: City (city )\n",
      "  superclasses: City (city ), Populated Place (city ), Geographical Place (city ), Thing (owl )\n",
      "  values: \u0000coordinates: [1 1]\n",
      "          \u0000name: london\n",
      "   |_Relationship has part (city ) (city):\n",
      "     - Ontology individual of class Neighborhood\n",
      "      . identifier: 17fe0e90-e612-4fd1-a786-2c816db2fe17\n",
      "      . \u0000coordinates: [48.00779  7.86268]\n",
      "      . \u0000name: Marylebone\n",
      "     - Ontology individual of class Neighborhood\n",
      "      . identifier: 36088d6d-20ac-4151-96ce-2455cd379d16\n",
      "      . \u0000coordinates: [47.99525  7.84726]\n",
      "      . \u0000name: The City\n",
      "     - Ontology individual of class Neighborhood\n",
      "      . identifier: 9369661f-053e-4521-98e8-8112dde80bfa\n",
      "      . \u0000coordinates: [47.99888  7.83774]\n",
      "      . \u0000name: Alperton\n",
      "     - Ontology individual of class Neighborhood\n",
      "      . identifier: b7c27019-6563-46f3-a4e7-d6f2d7d55382\n",
      "      . \u0000coordinates: [48.01684  7.843  ]\n",
      "      . \u0000name: Battersea\n",
      "     - Ontology individual of class Neighborhood\n",
      "        identifier: e72787f7-8fcc-4ccc-aa54-1daa3ece4ee1\n",
      "        \u0000coordinates: [48.00021  7.86084]\n",
      "        \u0000name: Webmly Park\n"
     ]
    }
   ],
   "source": [
    "pretty_print(london)"
   ]
  },
  {
   "cell_type": "code",
   "execution_count": 25,
   "id": "83d5c234",
   "metadata": {},
   "outputs": [
    {
     "name": "stdout",
     "output_type": "stream",
     "text": [
      "- Ontology individual:\n",
      "  identifier: 2a325cba-c391-4ec2-a3b7-ec8aca0dacc9\n",
      "  type: City (city )\n",
      "  superclasses: City (city ), Populated Place (city ), Geographical Place (city ), Thing (owl )\n",
      "  values: \u0000coordinates: [0 0]\n",
      "          \u0000name: haifa\n",
      "   |_Relationship has major (city ) (city):\n",
      "   | - Ontology individual of class Citizen\n",
      "   |  . identifier: 351547c5-93e7-46a9-a4c9-c876cd61fd5d\n",
      "   |  . \u0000age: 66\n",
      "   |  . \u0000name: Mezna\n",
      "   | - Ontology individual of class Citizen\n",
      "   |    identifier: 7fb472e6-ad6c-4517-a311-4bb50361b021\n",
      "   |    \u0000age: 55\n",
      "   |    \u0000name: Kalish\n",
      "   |_Relationship has part (city ) (city):\n",
      "     - Ontology individual of class Neighborhood\n",
      "        identifier: 17fe0e90-e612-4fd1-a786-2c816db2fe17\n",
      "        \u0000coordinates: [48.00779  7.86268]\n",
      "        \u0000name: Marylebone\n"
     ]
    }
   ],
   "source": [
    "pretty_print(haifa)"
   ]
  },
  {
   "cell_type": "code",
   "execution_count": 26,
   "id": "acbd02b9",
   "metadata": {},
   "outputs": [
    {
     "name": "stdout",
     "output_type": "stream",
     "text": [
      "- Ontology individual:\n",
      "  identifier: b7c27019-6563-46f3-a4e7-d6f2d7d55382\n",
      "  type: Neighborhood (city )\n",
      "  superclasses: Neighborhood (city ), Populated Place (city ), Geographical Place (city ), Thing (owl )\n",
      "  values: \u0000coordinates: [48.01684  7.843  ]\n",
      "          \u0000name: Battersea\n"
     ]
    }
   ],
   "source": [
    "for neighborhood in neighborhoods:\n",
    "    if \"Bat\" in str(neighborhood.name):\n",
    "        pretty_print (neighborhood)\n",
    "        bater=neighborhood"
   ]
  },
  {
   "cell_type": "code",
   "execution_count": 27,
   "id": "5a6250ca",
   "metadata": {},
   "outputs": [
    {
     "data": {
      "text/plain": [
       "<OntologyIndividual: b7c27019-6563-46f3-a4e7-d6f2d7d55382>"
      ]
     },
     "execution_count": 27,
     "metadata": {},
     "output_type": "execute_result"
    }
   ],
   "source": [
    "bater"
   ]
  },
  {
   "cell_type": "code",
   "execution_count": 28,
   "id": "308e5094",
   "metadata": {},
   "outputs": [],
   "source": [
    "haifa.connect(bater, rel=city.hasPart)"
   ]
  },
  {
   "cell_type": "code",
   "execution_count": 29,
   "id": "cfbcef47",
   "metadata": {},
   "outputs": [
    {
     "name": "stdout",
     "output_type": "stream",
     "text": [
      "- Ontology individual:\n",
      "  identifier: 2a325cba-c391-4ec2-a3b7-ec8aca0dacc9\n",
      "  type: City (city )\n",
      "  superclasses: City (city ), Populated Place (city ), Geographical Place (city ), Thing (owl )\n",
      "  values: \u0000coordinates: [0 0]\n",
      "          \u0000name: haifa\n",
      "   |_Relationship has major (city ) (city):\n",
      "   | - Ontology individual of class Citizen\n",
      "   |  . identifier: 351547c5-93e7-46a9-a4c9-c876cd61fd5d\n",
      "   |  . \u0000age: 66\n",
      "   |  . \u0000name: Mezna\n",
      "   | - Ontology individual of class Citizen\n",
      "   |    identifier: 7fb472e6-ad6c-4517-a311-4bb50361b021\n",
      "   |    \u0000age: 55\n",
      "   |    \u0000name: Kalish\n",
      "   |_Relationship has part (city ) (city):\n",
      "     - Ontology individual of class Neighborhood\n",
      "      . identifier: 17fe0e90-e612-4fd1-a786-2c816db2fe17\n",
      "      . \u0000coordinates: [48.00779  7.86268]\n",
      "      . \u0000name: Marylebone\n",
      "     - Ontology individual of class Neighborhood\n",
      "        identifier: b7c27019-6563-46f3-a4e7-d6f2d7d55382\n",
      "        \u0000coordinates: [48.01684  7.843  ]\n",
      "        \u0000name: Battersea\n"
     ]
    }
   ],
   "source": [
    "pretty_print(haifa)"
   ]
  },
  {
   "cell_type": "code",
   "execution_count": 30,
   "id": "64bcead6",
   "metadata": {},
   "outputs": [
    {
     "data": {
      "image/svg+xml": [
       "<?xml version=\"1.0\" encoding=\"UTF-8\" standalone=\"no\"?>\n",
       "<!DOCTYPE svg PUBLIC \"-//W3C//DTD SVG 1.1//EN\"\n",
       " \"http://www.w3.org/Graphics/SVG/1.1/DTD/svg11.dtd\">\n",
       "<!-- Generated by graphviz version 8.0.5 (20230430.1635)\n",
       " -->\n",
       "<!-- Title: SimPhoNy semantic2dot Pages: 1 -->\n",
       "<svg width=\"1960pt\" height=\"343pt\"\n",
       " viewBox=\"0.00 0.00 1960.01 343.34\" xmlns=\"http://www.w3.org/2000/svg\" xmlns:xlink=\"http://www.w3.org/1999/xlink\">\n",
       "<g id=\"graph0\" class=\"graph\" transform=\"scale(1 1) rotate(0) translate(4 339.34)\">\n",
       "<title>SimPhoNy semantic2dot</title>\n",
       "<polygon fill=\"white\" stroke=\"none\" points=\"-4,4 -4,-339.34 1956.01,-339.34 1956.01,4 -4,4\"/>\n",
       "<!-- https___www.simphony&#45;osp.eu_entity#17fe0e90&#45;e612&#45;4fd1&#45;a786&#45;2c816db2fe17 -->\n",
       "<g id=\"node1\" class=\"node\">\n",
       "<title>https___www.simphony&#45;osp.eu_entity#17fe0e90&#45;e612&#45;4fd1&#45;a786&#45;2c816db2fe17</title>\n",
       "<ellipse fill=\"none\" stroke=\"black\" cx=\"879.7\" cy=\"-70.71\" rx=\"145.31\" ry=\"70.71\"/>\n",
       "<text text-anchor=\"start\" x=\"839.2\" y=\"-99.41\" font-family=\"Times,serif\" font-size=\"14.00\">17fe0e90...e17</text>\n",
       "<text text-anchor=\"start\" x=\"801.7\" y=\"-76.91\" font-family=\"Times,serif\" font-size=\"14.00\">classes: Neighborhood (city)</text>\n",
       "<text text-anchor=\"start\" x=\"827.95\" y=\"-54.41\" font-family=\"Times,serif\" font-size=\"14.00\">name: Marylebone</text>\n",
       "<text text-anchor=\"start\" x=\"788.95\" y=\"-31.91\" font-family=\"Times,serif\" font-size=\"14.00\">coordinates: [48.00779 &#160;7.86268]</text>\n",
       "</g>\n",
       "<!-- https___www.simphony&#45;osp.eu_entity#e72787f7&#45;8fcc&#45;4ccc&#45;aa54&#45;1daa3ece4ee1 -->\n",
       "<g id=\"node2\" class=\"node\">\n",
       "<title>https___www.simphony&#45;osp.eu_entity#e72787f7&#45;8fcc&#45;4ccc&#45;aa54&#45;1daa3ece4ee1</title>\n",
       "<ellipse fill=\"none\" stroke=\"black\" cx=\"1188.7\" cy=\"-70.71\" rx=\"145.31\" ry=\"70.71\"/>\n",
       "<text text-anchor=\"start\" x=\"1148.2\" y=\"-99.41\" font-family=\"Times,serif\" font-size=\"14.00\">e72787f7...ee1</text>\n",
       "<text text-anchor=\"start\" x=\"1110.7\" y=\"-76.91\" font-family=\"Times,serif\" font-size=\"14.00\">classes: Neighborhood (city)</text>\n",
       "<text text-anchor=\"start\" x=\"1132.45\" y=\"-54.41\" font-family=\"Times,serif\" font-size=\"14.00\">name: Webmly Park</text>\n",
       "<text text-anchor=\"start\" x=\"1097.95\" y=\"-31.91\" font-family=\"Times,serif\" font-size=\"14.00\">coordinates: [48.00021 &#160;7.86084]</text>\n",
       "</g>\n",
       "<!-- https___www.simphony&#45;osp.eu_entity#9369661f&#45;053e&#45;4521&#45;98e8&#45;8112dde80bfa -->\n",
       "<g id=\"node3\" class=\"node\">\n",
       "<title>https___www.simphony&#45;osp.eu_entity#9369661f&#45;053e&#45;4521&#45;98e8&#45;8112dde80bfa</title>\n",
       "<ellipse fill=\"none\" stroke=\"black\" cx=\"1497.7\" cy=\"-70.71\" rx=\"145.31\" ry=\"70.71\"/>\n",
       "<text text-anchor=\"start\" x=\"1457.58\" y=\"-99.41\" font-family=\"Times,serif\" font-size=\"14.00\">9369661f...bfa</text>\n",
       "<text text-anchor=\"start\" x=\"1419.7\" y=\"-76.91\" font-family=\"Times,serif\" font-size=\"14.00\">classes: Neighborhood (city)</text>\n",
       "<text text-anchor=\"start\" x=\"1406.95\" y=\"-54.41\" font-family=\"Times,serif\" font-size=\"14.00\">coordinates: [47.99888 &#160;7.83774]</text>\n",
       "<text text-anchor=\"start\" x=\"1455.33\" y=\"-31.91\" font-family=\"Times,serif\" font-size=\"14.00\">name: Alperton</text>\n",
       "</g>\n",
       "<!-- https___www.simphony&#45;osp.eu_entity#36088d6d&#45;20ac&#45;4151&#45;96ce&#45;2455cd379d16 -->\n",
       "<g id=\"node4\" class=\"node\">\n",
       "<title>https___www.simphony&#45;osp.eu_entity#36088d6d&#45;20ac&#45;4151&#45;96ce&#45;2455cd379d16</title>\n",
       "<ellipse fill=\"none\" stroke=\"black\" cx=\"1806.7\" cy=\"-70.71\" rx=\"145.31\" ry=\"70.71\"/>\n",
       "<text text-anchor=\"start\" x=\"1763.95\" y=\"-99.41\" font-family=\"Times,serif\" font-size=\"14.00\">36088d6d...d16</text>\n",
       "<text text-anchor=\"start\" x=\"1728.7\" y=\"-76.91\" font-family=\"Times,serif\" font-size=\"14.00\">classes: Neighborhood (city)</text>\n",
       "<text text-anchor=\"start\" x=\"1715.95\" y=\"-54.41\" font-family=\"Times,serif\" font-size=\"14.00\">coordinates: [47.99525 &#160;7.84726]</text>\n",
       "<text text-anchor=\"start\" x=\"1764.33\" y=\"-31.91\" font-family=\"Times,serif\" font-size=\"14.00\">name: The City</text>\n",
       "</g>\n",
       "<!-- https___www.simphony&#45;osp.eu_entity#2a325cba&#45;c391&#45;4ec2&#45;a3b7&#45;ec8aca0dacc9 -->\n",
       "<g id=\"node5\" class=\"node\">\n",
       "<title>https___www.simphony&#45;osp.eu_entity#2a325cba&#45;c391&#45;4ec2&#45;a3b7&#45;ec8aca0dacc9</title>\n",
       "<ellipse fill=\"none\" stroke=\"black\" cx=\"381.7\" cy=\"-264.63\" rx=\"88.57\" ry=\"70.71\"/>\n",
       "<text text-anchor=\"start\" x=\"340.83\" y=\"-293.33\" font-family=\"Times,serif\" font-size=\"14.00\">2a325cba...cc9</text>\n",
       "<text text-anchor=\"start\" x=\"331.08\" y=\"-270.83\" font-family=\"Times,serif\" font-size=\"14.00\">classes: City (city)</text>\n",
       "<text text-anchor=\"start\" x=\"333.7\" y=\"-248.33\" font-family=\"Times,serif\" font-size=\"14.00\">coordinates: [0 0]</text>\n",
       "<text text-anchor=\"start\" x=\"349.45\" y=\"-225.83\" font-family=\"Times,serif\" font-size=\"14.00\">name: haifa</text>\n",
       "</g>\n",
       "<!-- https___www.simphony&#45;osp.eu_entity#2a325cba&#45;c391&#45;4ec2&#45;a3b7&#45;ec8aca0dacc9&#45;&gt;https___www.simphony&#45;osp.eu_entity#17fe0e90&#45;e612&#45;4fd1&#45;a786&#45;2c816db2fe17 -->\n",
       "<g id=\"edge6\" class=\"edge\">\n",
       "<title>https___www.simphony&#45;osp.eu_entity#2a325cba&#45;c391&#45;4ec2&#45;a3b7&#45;ec8aca0dacc9&#45;&gt;https___www.simphony&#45;osp.eu_entity#17fe0e90&#45;e612&#45;4fd1&#45;a786&#45;2c816db2fe17</title>\n",
       "<path fill=\"none\" stroke=\"black\" d=\"M463.39,-236.76C533.55,-213.17 637.09,-177.15 725.7,-141.42 738.73,-136.17 752.28,-130.44 765.69,-124.6\"/>\n",
       "<polygon fill=\"black\" stroke=\"black\" points=\"766.67,-127.56 774.42,-120.33 763.85,-121.14 766.67,-127.56\"/>\n",
       "<text text-anchor=\"middle\" x=\"717.58\" y=\"-162.62\" font-family=\"Times,serif\" font-size=\"14.00\">has part (city)</text>\n",
       "</g>\n",
       "<!-- https___www.simphony&#45;osp.eu_entity#7fb472e6&#45;ad6c&#45;4517&#45;a311&#45;4bb50361b021 -->\n",
       "<g id=\"node7\" class=\"node\">\n",
       "<title>https___www.simphony&#45;osp.eu_entity#7fb472e6&#45;ad6c&#45;4517&#45;a311&#45;4bb50361b021</title>\n",
       "<ellipse fill=\"none\" stroke=\"black\" cx=\"99.7\" cy=\"-70.71\" rx=\"99.7\" ry=\"70.71\"/>\n",
       "<text text-anchor=\"start\" x=\"58.45\" y=\"-99.41\" font-family=\"Times,serif\" font-size=\"14.00\">7fb472e6...021</text>\n",
       "<text text-anchor=\"start\" x=\"41.2\" y=\"-76.91\" font-family=\"Times,serif\" font-size=\"14.00\">classes: Citizen (city)</text>\n",
       "<text text-anchor=\"start\" x=\"63.33\" y=\"-54.41\" font-family=\"Times,serif\" font-size=\"14.00\">name: Kalish</text>\n",
       "<text text-anchor=\"start\" x=\"79.83\" y=\"-31.91\" font-family=\"Times,serif\" font-size=\"14.00\">age: 55</text>\n",
       "</g>\n",
       "<!-- https___www.simphony&#45;osp.eu_entity#2a325cba&#45;c391&#45;4ec2&#45;a3b7&#45;ec8aca0dacc9&#45;&gt;https___www.simphony&#45;osp.eu_entity#7fb472e6&#45;ad6c&#45;4517&#45;a311&#45;4bb50361b021 -->\n",
       "<g id=\"edge1\" class=\"edge\">\n",
       "<title>https___www.simphony&#45;osp.eu_entity#2a325cba&#45;c391&#45;4ec2&#45;a3b7&#45;ec8aca0dacc9&#45;&gt;https___www.simphony&#45;osp.eu_entity#7fb472e6&#45;ad6c&#45;4517&#45;a311&#45;4bb50361b021</title>\n",
       "<path fill=\"none\" stroke=\"black\" d=\"M314.51,-217.91C274.21,-190.48 222.7,-155.42 180.22,-126.51\"/>\n",
       "<polygon fill=\"black\" stroke=\"black\" points=\"182.54,-123.17 172.3,-120.44 178.6,-128.96 182.54,-123.17\"/>\n",
       "<text text-anchor=\"middle\" x=\"293.2\" y=\"-162.62\" font-family=\"Times,serif\" font-size=\"14.00\">has major (city)</text>\n",
       "</g>\n",
       "<!-- https___www.simphony&#45;osp.eu_entity#b7c27019&#45;6563&#45;46f3&#45;a4e7&#45;d6f2d7d55382 -->\n",
       "<g id=\"node8\" class=\"node\">\n",
       "<title>https___www.simphony&#45;osp.eu_entity#b7c27019&#45;6563&#45;46f3&#45;a4e7&#45;d6f2d7d55382</title>\n",
       "<ellipse fill=\"none\" stroke=\"black\" cx=\"575.7\" cy=\"-70.71\" rx=\"141.07\" ry=\"70.71\"/>\n",
       "<text text-anchor=\"start\" x=\"533.33\" y=\"-99.41\" font-family=\"Times,serif\" font-size=\"14.00\">b7c27019...382</text>\n",
       "<text text-anchor=\"start\" x=\"497.7\" y=\"-76.91\" font-family=\"Times,serif\" font-size=\"14.00\">classes: Neighborhood (city)</text>\n",
       "<text text-anchor=\"start\" x=\"487.95\" y=\"-54.41\" font-family=\"Times,serif\" font-size=\"14.00\">coordinates: [48.01684 &#160;7.843 &#160;]</text>\n",
       "<text text-anchor=\"start\" x=\"531.83\" y=\"-31.91\" font-family=\"Times,serif\" font-size=\"14.00\">name: Battersea</text>\n",
       "</g>\n",
       "<!-- https___www.simphony&#45;osp.eu_entity#2a325cba&#45;c391&#45;4ec2&#45;a3b7&#45;ec8aca0dacc9&#45;&gt;https___www.simphony&#45;osp.eu_entity#b7c27019&#45;6563&#45;46f3&#45;a4e7&#45;d6f2d7d55382 -->\n",
       "<g id=\"edge4\" class=\"edge\">\n",
       "<title>https___www.simphony&#45;osp.eu_entity#2a325cba&#45;c391&#45;4ec2&#45;a3b7&#45;ec8aca0dacc9&#45;&gt;https___www.simphony&#45;osp.eu_entity#b7c27019&#45;6563&#45;46f3&#45;a4e7&#45;d6f2d7d55382</title>\n",
       "<path fill=\"none\" stroke=\"black\" d=\"M437.04,-208.89C458.07,-188.08 482.34,-164.07 504.63,-142.02\"/>\n",
       "<polygon fill=\"black\" stroke=\"black\" points=\"506.78,-144.83 511.43,-135.3 501.86,-139.85 506.78,-144.83\"/>\n",
       "<text text-anchor=\"middle\" x=\"522.58\" y=\"-162.62\" font-family=\"Times,serif\" font-size=\"14.00\">has part (city)</text>\n",
       "</g>\n",
       "<!-- https___www.simphony&#45;osp.eu_entity#351547c5&#45;93e7&#45;46a9&#45;a4c9&#45;c876cd61fd5d -->\n",
       "<g id=\"node9\" class=\"node\">\n",
       "<title>https___www.simphony&#45;osp.eu_entity#351547c5&#45;93e7&#45;46a9&#45;a4c9&#45;c876cd61fd5d</title>\n",
       "<ellipse fill=\"none\" stroke=\"black\" cx=\"316.7\" cy=\"-70.71\" rx=\"99.7\" ry=\"70.71\"/>\n",
       "<text text-anchor=\"start\" x=\"274.33\" y=\"-99.41\" font-family=\"Times,serif\" font-size=\"14.00\">351547c5...d5d</text>\n",
       "<text text-anchor=\"start\" x=\"258.2\" y=\"-76.91\" font-family=\"Times,serif\" font-size=\"14.00\">classes: Citizen (city)</text>\n",
       "<text text-anchor=\"start\" x=\"296.83\" y=\"-54.41\" font-family=\"Times,serif\" font-size=\"14.00\">age: 66</text>\n",
       "<text text-anchor=\"start\" x=\"279.2\" y=\"-31.91\" font-family=\"Times,serif\" font-size=\"14.00\">name: Mezna</text>\n",
       "</g>\n",
       "<!-- https___www.simphony&#45;osp.eu_entity#2a325cba&#45;c391&#45;4ec2&#45;a3b7&#45;ec8aca0dacc9&#45;&gt;https___www.simphony&#45;osp.eu_entity#351547c5&#45;93e7&#45;46a9&#45;a4c9&#45;c876cd61fd5d -->\n",
       "<g id=\"edge5\" class=\"edge\">\n",
       "<title>https___www.simphony&#45;osp.eu_entity#2a325cba&#45;c391&#45;4ec2&#45;a3b7&#45;ec8aca0dacc9&#45;&gt;https___www.simphony&#45;osp.eu_entity#351547c5&#45;93e7&#45;46a9&#45;a4c9&#45;c876cd61fd5d</title>\n",
       "<path fill=\"none\" stroke=\"black\" d=\"M358.79,-195.97C353.77,-181.15 348.41,-165.34 343.26,-150.14\"/>\n",
       "<polygon fill=\"black\" stroke=\"black\" points=\"346.26,-149.08 339.74,-140.73 339.63,-151.33 346.26,-149.08\"/>\n",
       "<text text-anchor=\"middle\" x=\"395.2\" y=\"-162.62\" font-family=\"Times,serif\" font-size=\"14.00\">has major (city)</text>\n",
       "</g>\n",
       "<!-- https___www.simphony&#45;osp.eu_entity#e67b36cd&#45;4cca&#45;4723&#45;a85b&#45;64a0d3c96a27 -->\n",
       "<g id=\"node6\" class=\"node\">\n",
       "<title>https___www.simphony&#45;osp.eu_entity#e67b36cd&#45;4cca&#45;4723&#45;a85b&#45;64a0d3c96a27</title>\n",
       "<ellipse fill=\"none\" stroke=\"black\" cx=\"1188.7\" cy=\"-264.63\" rx=\"88.57\" ry=\"70.71\"/>\n",
       "<text text-anchor=\"start\" x=\"1147.08\" y=\"-293.33\" font-family=\"Times,serif\" font-size=\"14.00\">e67b36cd...a27</text>\n",
       "<text text-anchor=\"start\" x=\"1138.08\" y=\"-270.83\" font-family=\"Times,serif\" font-size=\"14.00\">classes: City (city)</text>\n",
       "<text text-anchor=\"start\" x=\"1140.7\" y=\"-248.33\" font-family=\"Times,serif\" font-size=\"14.00\">coordinates: [1 1]</text>\n",
       "<text text-anchor=\"start\" x=\"1151.2\" y=\"-225.83\" font-family=\"Times,serif\" font-size=\"14.00\">name: london</text>\n",
       "</g>\n",
       "<!-- https___www.simphony&#45;osp.eu_entity#e67b36cd&#45;4cca&#45;4723&#45;a85b&#45;64a0d3c96a27&#45;&gt;https___www.simphony&#45;osp.eu_entity#17fe0e90&#45;e612&#45;4fd1&#45;a786&#45;2c816db2fe17 -->\n",
       "<g id=\"edge2\" class=\"edge\">\n",
       "<title>https___www.simphony&#45;osp.eu_entity#e67b36cd&#45;4cca&#45;4723&#45;a85b&#45;64a0d3c96a27&#45;&gt;https___www.simphony&#45;osp.eu_entity#17fe0e90&#45;e612&#45;4fd1&#45;a786&#45;2c816db2fe17</title>\n",
       "<path fill=\"none\" stroke=\"black\" d=\"M1130.53,-211C1109.64,-193.45 1085.38,-174.54 1061.7,-159.42 1041.49,-146.52 1019.08,-134.25 997.11,-123.2\"/>\n",
       "<polygon fill=\"black\" stroke=\"black\" points=\"998.9,-119.68 988.39,-118.37 995.79,-125.95 998.9,-119.68\"/>\n",
       "<text text-anchor=\"middle\" x=\"1121.58\" y=\"-162.62\" font-family=\"Times,serif\" font-size=\"14.00\">has part (city)</text>\n",
       "</g>\n",
       "<!-- https___www.simphony&#45;osp.eu_entity#e67b36cd&#45;4cca&#45;4723&#45;a85b&#45;64a0d3c96a27&#45;&gt;https___www.simphony&#45;osp.eu_entity#e72787f7&#45;8fcc&#45;4ccc&#45;aa54&#45;1daa3ece4ee1 -->\n",
       "<g id=\"edge8\" class=\"edge\">\n",
       "<title>https___www.simphony&#45;osp.eu_entity#e67b36cd&#45;4cca&#45;4723&#45;a85b&#45;64a0d3c96a27&#45;&gt;https___www.simphony&#45;osp.eu_entity#e72787f7&#45;8fcc&#45;4ccc&#45;aa54&#45;1daa3ece4ee1</title>\n",
       "<path fill=\"none\" stroke=\"black\" d=\"M1188.7,-193.53C1188.7,-180.18 1188.7,-166.11 1188.7,-152.46\"/>\n",
       "<polygon fill=\"black\" stroke=\"black\" points=\"1192.2,-152.62 1188.7,-142.62 1185.2,-152.62 1192.2,-152.62\"/>\n",
       "<text text-anchor=\"middle\" x=\"1226.58\" y=\"-162.62\" font-family=\"Times,serif\" font-size=\"14.00\">has part (city)</text>\n",
       "</g>\n",
       "<!-- https___www.simphony&#45;osp.eu_entity#e67b36cd&#45;4cca&#45;4723&#45;a85b&#45;64a0d3c96a27&#45;&gt;https___www.simphony&#45;osp.eu_entity#9369661f&#45;053e&#45;4521&#45;98e8&#45;8112dde80bfa -->\n",
       "<g id=\"edge7\" class=\"edge\">\n",
       "<title>https___www.simphony&#45;osp.eu_entity#e67b36cd&#45;4cca&#45;4723&#45;a85b&#45;64a0d3c96a27&#45;&gt;https___www.simphony&#45;osp.eu_entity#9369661f&#45;053e&#45;4521&#45;98e8&#45;8112dde80bfa</title>\n",
       "<path fill=\"none\" stroke=\"black\" d=\"M1258.05,-220.56C1299.75,-194.66 1353.49,-161.28 1399.51,-132.7\"/>\n",
       "<polygon fill=\"black\" stroke=\"black\" points=\"1400.96,-135.3 1407.61,-127.05 1397.27,-129.35 1400.96,-135.3\"/>\n",
       "<text text-anchor=\"middle\" x=\"1389.58\" y=\"-162.62\" font-family=\"Times,serif\" font-size=\"14.00\">has part (city)</text>\n",
       "</g>\n",
       "<!-- https___www.simphony&#45;osp.eu_entity#e67b36cd&#45;4cca&#45;4723&#45;a85b&#45;64a0d3c96a27&#45;&gt;https___www.simphony&#45;osp.eu_entity#36088d6d&#45;20ac&#45;4151&#45;96ce&#45;2455cd379d16 -->\n",
       "<g id=\"edge3\" class=\"edge\">\n",
       "<title>https___www.simphony&#45;osp.eu_entity#e67b36cd&#45;4cca&#45;4723&#45;a85b&#45;64a0d3c96a27&#45;&gt;https___www.simphony&#45;osp.eu_entity#36088d6d&#45;20ac&#45;4151&#45;96ce&#45;2455cd379d16</title>\n",
       "<path fill=\"none\" stroke=\"black\" d=\"M1274.46,-245.45C1368.37,-224.52 1522.79,-187.07 1651.7,-141.42 1665.35,-136.59 1679.47,-131.04 1693.37,-125.24\"/>\n",
       "<polygon fill=\"black\" stroke=\"black\" points=\"1694.6,-128.1 1702.44,-120.98 1691.87,-121.65 1694.6,-128.1\"/>\n",
       "<text text-anchor=\"middle\" x=\"1627.58\" y=\"-162.62\" font-family=\"Times,serif\" font-size=\"14.00\">has part (city)</text>\n",
       "</g>\n",
       "<!-- https___www.simphony&#45;osp.eu_entity#e67b36cd&#45;4cca&#45;4723&#45;a85b&#45;64a0d3c96a27&#45;&gt;https___www.simphony&#45;osp.eu_entity#b7c27019&#45;6563&#45;46f3&#45;a4e7&#45;d6f2d7d55382 -->\n",
       "<g id=\"edge9\" class=\"edge\">\n",
       "<title>https___www.simphony&#45;osp.eu_entity#e67b36cd&#45;4cca&#45;4723&#45;a85b&#45;64a0d3c96a27&#45;&gt;https___www.simphony&#45;osp.eu_entity#b7c27019&#45;6563&#45;46f3&#45;a4e7&#45;d6f2d7d55382</title>\n",
       "<path fill=\"none\" stroke=\"black\" d=\"M1102.83,-245.76C1008.83,-225.09 854.33,-187.87 725.7,-141.42 712.44,-136.63 698.76,-131.12 685.29,-125.33\"/>\n",
       "<polygon fill=\"black\" stroke=\"black\" points=\"687.1,-121.87 676.53,-121.08 684.3,-128.28 687.1,-121.87\"/>\n",
       "<text text-anchor=\"middle\" x=\"863.58\" y=\"-162.62\" font-family=\"Times,serif\" font-size=\"14.00\">has part (city)</text>\n",
       "</g>\n",
       "</g>\n",
       "</svg>\n"
      ],
      "text/plain": [
       "<simphony_osp.tools.semantic2dot.Semantic2Dot at 0x125ac3810>"
      ]
     },
     "execution_count": 30,
     "metadata": {},
     "output_type": "execute_result"
    }
   ],
   "source": [
    "semantic2dot(core_session)"
   ]
  },
  {
   "cell_type": "code",
   "execution_count": null,
   "id": "1b61d085",
   "metadata": {},
   "outputs": [],
   "source": []
  }
 ],
 "metadata": {
  "kernelspec": {
   "display_name": "simphony_4",
   "language": "python",
   "name": "simphony_4"
  },
  "language_info": {
   "codemirror_mode": {
    "name": "ipython",
    "version": 3
   },
   "file_extension": ".py",
   "mimetype": "text/x-python",
   "name": "python",
   "nbconvert_exporter": "python",
   "pygments_lexer": "ipython3",
   "version": "3.11.3"
  }
 },
 "nbformat": 4,
 "nbformat_minor": 5
}
