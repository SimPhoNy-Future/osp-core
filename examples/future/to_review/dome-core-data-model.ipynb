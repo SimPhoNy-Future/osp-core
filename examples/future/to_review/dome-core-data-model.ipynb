{
 "cells": [
  {
   "cell_type": "code",
   "execution_count": 12,
   "id": "7038f63e",
   "metadata": {},
   "outputs": [],
   "source": [
    "from simphony_osp.namespaces import city\n",
    "from simphony_osp.tools import pretty_print\n",
    "from rdflib import Graph, URIRef, Literal\n",
    "from rdflib.namespace import FOAF\n",
    "from simphony_osp.tools import export_file, import_file, search\n",
    "from simphony_osp.session import core_session\n",
    "from simphony_osp.ontology import OntologyIndividual\n"
   ]
  },
  {
   "cell_type": "code",
   "execution_count": 3,
   "id": "00fa902e",
   "metadata": {},
   "outputs": [],
   "source": [
    "\n",
    "freiburg = city.City(name=\"Freiburg\", coordinates=[47.997791, 7.842609])\n",
    "\n",
    "neighborhoods = {\n",
    "    city.Neighborhood(name=name, coordinates=coordinates)\n",
    "    for name, coordinates in [\n",
    "        ('Altstadt', [47.99525, 7.84726]),\n",
    "        ('Stühlinger', [47.99888, 7.83774]),\n",
    "        ('Neuburg', [48.00021, 7.86084]),\n",
    "        ('Herdern', [48.00779, 7.86268]),\n",
    "        ('Brühl', [48.01684, 7.843]),\n",
    "    ]\n",
    "}\n",
    "\n",
    "citizen_1 = city.Citizen(name='Nikola', age=35)\n",
    "citizen_2 = city.Citizen(name='Lena', age=70)\n",
    "\n",
    "freiburg[city.hasPart] |= neighborhoods\n",
    "freiburg[city.hasInhabitant] += citizen_1, citizen_2"
   ]
  },
  {
   "cell_type": "code",
   "execution_count": 4,
   "id": "28954bcd",
   "metadata": {},
   "outputs": [
    {
     "data": {
      "text/plain": [
       "<OntologyIndividual: 2cf7d72b-9cfd-4f24-8a19-317b8483933a>"
      ]
     },
     "execution_count": 4,
     "metadata": {},
     "output_type": "execute_result"
    }
   ],
   "source": [
    "freiburg"
   ]
  },
  {
   "cell_type": "code",
   "execution_count": 13,
   "id": "4534e93c",
   "metadata": {},
   "outputs": [],
   "source": [
    "from simphony_osp.tools import semantic2dot  # explained in a later section"
   ]
  },
  {
   "cell_type": "code",
   "execution_count": 14,
   "id": "16671e5e",
   "metadata": {},
   "outputs": [],
   "source": [
    "from simphony_osp.session import Session\n",
    "\n",
    "session = Session()"
   ]
  },
  {
   "cell_type": "code",
   "execution_count": null,
   "id": "9e22003f",
   "metadata": {},
   "outputs": [],
   "source": []
  },
  {
   "cell_type": "code",
   "execution_count": 16,
   "id": "1ffd4d84",
   "metadata": {},
   "outputs": [
    {
     "data": {
      "text/plain": [
       "[<OntologyIndividual: 2cf7d72b-9cfd-4f24-8a19-317b8483933a>]"
      ]
     },
     "execution_count": 16,
     "metadata": {},
     "output_type": "execute_result"
    }
   ],
   "source": [
    "list(session)"
   ]
  },
  {
   "cell_type": "code",
   "execution_count": 17,
   "id": "5f9870d4",
   "metadata": {},
   "outputs": [
    {
     "data": {
      "text/plain": [
       "<OntologyIndividual: 2cf7d72b-9cfd-4f24-8a19-317b8483933a>"
      ]
     },
     "execution_count": 17,
     "metadata": {},
     "output_type": "execute_result"
    }
   ],
   "source": [
    "freiburg\n"
   ]
  },
  {
   "cell_type": "code",
   "execution_count": 18,
   "id": "15061074",
   "metadata": {},
   "outputs": [
    {
     "data": {
      "text/plain": [
       "[<OntologyIndividual: 97462f3c-2200-44b1-8c30-75d12628b6ce>,\n",
       " <OntologyIndividual: 223ca95f-517e-4f8f-a583-2a4ef0d4b9d8>]"
      ]
     },
     "execution_count": 18,
     "metadata": {},
     "output_type": "execute_result"
    }
   ],
   "source": [
    "session.add(citizen_1, citizen_2)"
   ]
  },
  {
   "cell_type": "code",
   "execution_count": 19,
   "id": "0f2d707d",
   "metadata": {},
   "outputs": [
    {
     "data": {
      "text/plain": [
       "[<OntologyIndividual: 2cf7d72b-9cfd-4f24-8a19-317b8483933a>,\n",
       " <OntologyIndividual: 97462f3c-2200-44b1-8c30-75d12628b6ce>,\n",
       " <OntologyIndividual: 223ca95f-517e-4f8f-a583-2a4ef0d4b9d8>]"
      ]
     },
     "execution_count": 19,
     "metadata": {},
     "output_type": "execute_result"
    }
   ],
   "source": [
    "list(session)"
   ]
  },
  {
   "cell_type": "code",
   "execution_count": 20,
   "id": "4821de26",
   "metadata": {},
   "outputs": [
    {
     "data": {
      "text/plain": [
       "{<OntologyIndividual: 200d6c1b-5845-4d16-8715-dc05d3be82d0>,\n",
       " <OntologyIndividual: 947a0d47-49ec-443c-8b69-90df9c7dd147>,\n",
       " <OntologyIndividual: 9f30b761-8188-4ce1-b3e1-225bc5542945>,\n",
       " <OntologyIndividual: ab54296a-1e75-4e5f-b5dd-6edb90411812>,\n",
       " <OntologyIndividual: e411a1d6-ea3f-4e74-87ba-1775cf270e14>}"
      ]
     },
     "execution_count": 20,
     "metadata": {},
     "output_type": "execute_result"
    }
   ],
   "source": [
    "neighborhoods\n"
   ]
  },
  {
   "cell_type": "code",
   "execution_count": 21,
   "id": "43b783f4",
   "metadata": {},
   "outputs": [],
   "source": [
    "session.clear()\n"
   ]
  },
  {
   "cell_type": "code",
   "execution_count": 22,
   "id": "8060f4e4",
   "metadata": {},
   "outputs": [],
   "source": [
    "copies = session.add(freiburg, neighborhoods)"
   ]
  },
  {
   "cell_type": "code",
   "execution_count": 23,
   "id": "891d3103",
   "metadata": {},
   "outputs": [
    {
     "data": {
      "text/plain": [
       "[<OntologyIndividual: 2cf7d72b-9cfd-4f24-8a19-317b8483933a>,\n",
       " <OntologyIndividual: 947a0d47-49ec-443c-8b69-90df9c7dd147>,\n",
       " <OntologyIndividual: ab54296a-1e75-4e5f-b5dd-6edb90411812>,\n",
       " <OntologyIndividual: 200d6c1b-5845-4d16-8715-dc05d3be82d0>,\n",
       " <OntologyIndividual: 9f30b761-8188-4ce1-b3e1-225bc5542945>,\n",
       " <OntologyIndividual: e411a1d6-ea3f-4e74-87ba-1775cf270e14>]"
      ]
     },
     "execution_count": 23,
     "metadata": {},
     "output_type": "execute_result"
    }
   ],
   "source": [
    "copies\n",
    "\n"
   ]
  },
  {
   "cell_type": "code",
   "execution_count": 24,
   "id": "c49e88d2",
   "metadata": {},
   "outputs": [
    {
     "ename": "RuntimeError",
     "evalue": "Two or more python classes (<class 'simphony_osp.ontology.attribute.OntologyAttribute'>, <class 'simphony_osp.ontology.relationship.OntologyRelationship'>) could be spawned from http://xmlns.com/foaf/0.1/homepage.",
     "output_type": "error",
     "traceback": [
      "\u001b[0;31m---------------------------------------------------------------------------\u001b[0m",
      "\u001b[0;31mRuntimeError\u001b[0m                              Traceback (most recent call last)",
      "Cell \u001b[0;32mIn[24], line 1\u001b[0m\n\u001b[0;32m----> 1\u001b[0m \u001b[43mpretty_print\u001b[49m\u001b[43m(\u001b[49m\u001b[43mcopies\u001b[49m\u001b[43m[\u001b[49m\u001b[38;5;241;43m0\u001b[39;49m\u001b[43m]\u001b[49m\u001b[43m)\u001b[49m\n",
      "File \u001b[0;32m~/dev/simphony_4_git/simphony-osp/simphony_osp/tools/pretty_print.py:77\u001b[0m, in \u001b[0;36mpretty_print\u001b[0;34m(entity, rel, file)\u001b[0m\n\u001b[1;32m     75\u001b[0m         pp[\u001b[38;5;124m\"\u001b[39m\u001b[38;5;124mattributes\u001b[39m\u001b[38;5;124m\"\u001b[39m] \u001b[38;5;241m=\u001b[39m \u001b[38;5;124mf\u001b[39m\u001b[38;5;124m\"\u001b[39m\u001b[38;5;130;01m\\n\u001b[39;00m\u001b[38;5;124m  values: \u001b[39m\u001b[38;5;132;01m{\u001b[39;00mvalues_str\u001b[38;5;132;01m}\u001b[39;00m\u001b[38;5;124m\"\u001b[39m\n\u001b[1;32m     76\u001b[0m     \u001b[38;5;66;03m# Subelements\u001b[39;00m\n\u001b[0;32m---> 77\u001b[0m     pp[\u001b[38;5;124m\"\u001b[39m\u001b[38;5;124msubelements\u001b[39m\u001b[38;5;124m\"\u001b[39m] \u001b[38;5;241m=\u001b[39m \u001b[43m_pp_individual_subelements\u001b[49m\u001b[43m(\u001b[49m\u001b[43mentity\u001b[49m\u001b[43m,\u001b[49m\u001b[43m \u001b[49m\u001b[43mrel\u001b[49m\u001b[43m)\u001b[49m\n\u001b[1;32m     79\u001b[0m pp[\u001b[38;5;124m\"\u001b[39m\u001b[38;5;124midentifier\u001b[39m\u001b[38;5;124m\"\u001b[39m] \u001b[38;5;241m=\u001b[39m \u001b[38;5;124mf\u001b[39m\u001b[38;5;124m\"\u001b[39m\u001b[38;5;130;01m\\n\u001b[39;00m\u001b[38;5;124m  identifier: \u001b[39m\u001b[38;5;132;01m{\u001b[39;00mentity\u001b[38;5;241m.\u001b[39muid\u001b[38;5;132;01m}\u001b[39;00m\u001b[38;5;124m\"\u001b[39m\n\u001b[1;32m     81\u001b[0m pp \u001b[38;5;241m=\u001b[39m reduce(add, pp\u001b[38;5;241m.\u001b[39mvalues())\n",
      "File \u001b[0;32m~/dev/simphony_4_git/simphony-osp/simphony_osp/tools/pretty_print.py:171\u001b[0m, in \u001b[0;36m_pp_individual_subelements\u001b[0;34m(individual, rel, level_indentation, visited)\u001b[0m\n\u001b[1;32m    166\u001b[0m         \u001b[38;5;28;01mpass\u001b[39;00m\n\u001b[1;32m    167\u001b[0m filtered_relationships \u001b[38;5;241m=\u001b[39m \u001b[38;5;28mfilter\u001b[39m(\n\u001b[1;32m    168\u001b[0m     \u001b[38;5;28;01mlambda\u001b[39;00m x: \u001b[38;5;28many\u001b[39m(x\u001b[38;5;241m.\u001b[39mis_subclass_of(r) \u001b[38;5;28;01mfor\u001b[39;00m r \u001b[38;5;129;01min\u001b[39;00m rels),\n\u001b[1;32m    169\u001b[0m     consider_relationships,\n\u001b[1;32m    170\u001b[0m )\n\u001b[0;32m--> 171\u001b[0m sorted_relationships \u001b[38;5;241m=\u001b[39m \u001b[38;5;28msorted\u001b[39m(filtered_relationships, key\u001b[38;5;241m=\u001b[39m\u001b[38;5;28mstr\u001b[39m)\n\u001b[1;32m    173\u001b[0m visited \u001b[38;5;241m=\u001b[39m visited \u001b[38;5;129;01mor\u001b[39;00m \u001b[38;5;28mset\u001b[39m()\n\u001b[1;32m    174\u001b[0m visited\u001b[38;5;241m.\u001b[39madd(individual\u001b[38;5;241m.\u001b[39muid)\n",
      "File \u001b[0;32m~/dev/simphony_4_git/simphony-osp/simphony_osp/tools/pretty_print.py:168\u001b[0m, in \u001b[0;36m_pp_individual_subelements.<locals>.<lambda>\u001b[0;34m(x)\u001b[0m\n\u001b[1;32m    165\u001b[0m     \u001b[38;5;28;01mexcept\u001b[39;00m \u001b[38;5;167;01mKeyError\u001b[39;00m:\n\u001b[1;32m    166\u001b[0m         \u001b[38;5;28;01mpass\u001b[39;00m\n\u001b[1;32m    167\u001b[0m filtered_relationships \u001b[38;5;241m=\u001b[39m \u001b[38;5;28mfilter\u001b[39m(\n\u001b[0;32m--> 168\u001b[0m     \u001b[38;5;28;01mlambda\u001b[39;00m x: \u001b[38;5;28;43many\u001b[39;49m\u001b[43m(\u001b[49m\u001b[43mx\u001b[49m\u001b[38;5;241;43m.\u001b[39;49m\u001b[43mis_subclass_of\u001b[49m\u001b[43m(\u001b[49m\u001b[43mr\u001b[49m\u001b[43m)\u001b[49m\u001b[43m \u001b[49m\u001b[38;5;28;43;01mfor\u001b[39;49;00m\u001b[43m \u001b[49m\u001b[43mr\u001b[49m\u001b[43m \u001b[49m\u001b[38;5;129;43;01min\u001b[39;49;00m\u001b[43m \u001b[49m\u001b[43mrels\u001b[49m\u001b[43m)\u001b[49m,\n\u001b[1;32m    169\u001b[0m     consider_relationships,\n\u001b[1;32m    170\u001b[0m )\n\u001b[1;32m    171\u001b[0m sorted_relationships \u001b[38;5;241m=\u001b[39m \u001b[38;5;28msorted\u001b[39m(filtered_relationships, key\u001b[38;5;241m=\u001b[39m\u001b[38;5;28mstr\u001b[39m)\n\u001b[1;32m    173\u001b[0m visited \u001b[38;5;241m=\u001b[39m visited \u001b[38;5;129;01mor\u001b[39;00m \u001b[38;5;28mset\u001b[39m()\n",
      "File \u001b[0;32m~/dev/simphony_4_git/simphony-osp/simphony_osp/tools/pretty_print.py:168\u001b[0m, in \u001b[0;36m<genexpr>\u001b[0;34m(.0)\u001b[0m\n\u001b[1;32m    165\u001b[0m     \u001b[38;5;28;01mexcept\u001b[39;00m \u001b[38;5;167;01mKeyError\u001b[39;00m:\n\u001b[1;32m    166\u001b[0m         \u001b[38;5;28;01mpass\u001b[39;00m\n\u001b[1;32m    167\u001b[0m filtered_relationships \u001b[38;5;241m=\u001b[39m \u001b[38;5;28mfilter\u001b[39m(\n\u001b[0;32m--> 168\u001b[0m     \u001b[38;5;28;01mlambda\u001b[39;00m x: \u001b[38;5;28many\u001b[39m(\u001b[43mx\u001b[49m\u001b[38;5;241;43m.\u001b[39;49m\u001b[43mis_subclass_of\u001b[49m\u001b[43m(\u001b[49m\u001b[43mr\u001b[49m\u001b[43m)\u001b[49m \u001b[38;5;28;01mfor\u001b[39;00m r \u001b[38;5;129;01min\u001b[39;00m rels),\n\u001b[1;32m    169\u001b[0m     consider_relationships,\n\u001b[1;32m    170\u001b[0m )\n\u001b[1;32m    171\u001b[0m sorted_relationships \u001b[38;5;241m=\u001b[39m \u001b[38;5;28msorted\u001b[39m(filtered_relationships, key\u001b[38;5;241m=\u001b[39m\u001b[38;5;28mstr\u001b[39m)\n\u001b[1;32m    173\u001b[0m visited \u001b[38;5;241m=\u001b[39m visited \u001b[38;5;129;01mor\u001b[39;00m \u001b[38;5;28mset\u001b[39m()\n",
      "File \u001b[0;32m~/dev/simphony_4_git/simphony-osp/simphony_osp/ontology/entity.py:196\u001b[0m, in \u001b[0;36mOntologyEntity.is_subclass_of\u001b[0;34m(self, other)\u001b[0m\n\u001b[1;32m    186\u001b[0m \u001b[38;5;28;01mdef\u001b[39;00m \u001b[38;5;21mis_subclass_of\u001b[39m(\u001b[38;5;28mself\u001b[39m, other: OntologyEntity) \u001b[38;5;241m-\u001b[39m\u001b[38;5;241m>\u001b[39m \u001b[38;5;28mbool\u001b[39m:\n\u001b[1;32m    187\u001b[0m \u001b[38;5;250m    \u001b[39m\u001b[38;5;124;03m\"\"\"Perform a subclass check.\u001b[39;00m\n\u001b[1;32m    188\u001b[0m \n\u001b[1;32m    189\u001b[0m \u001b[38;5;124;03m    Args:\u001b[39;00m\n\u001b[0;32m   (...)\u001b[0m\n\u001b[1;32m    194\u001b[0m \n\u001b[1;32m    195\u001b[0m \u001b[38;5;124;03m    \"\"\"\u001b[39;00m\n\u001b[0;32m--> 196\u001b[0m     \u001b[38;5;28;01mreturn\u001b[39;00m \u001b[38;5;28mself\u001b[39m \u001b[38;5;129;01min\u001b[39;00m \u001b[43mother\u001b[49m\u001b[38;5;241;43m.\u001b[39;49m\u001b[43msubclasses\u001b[49m\n",
      "File \u001b[0;32m~/dev/simphony_4_git/simphony-osp/simphony_osp/utils/cache.py:137\u001b[0m, in \u001b[0;36mlru_cache_timestamp.<locals>.decorator.<locals>.wrapper\u001b[0;34m(self, *args, **kwargs)\u001b[0m\n\u001b[1;32m    134\u001b[0m     cached_function\u001b[38;5;241m.\u001b[39mcache_clear()\n\u001b[1;32m    135\u001b[0m     holder[\u001b[38;5;28mself\u001b[39m] \u001b[38;5;241m=\u001b[39m datetime\u001b[38;5;241m.\u001b[39mnow(), cached_function\n\u001b[0;32m--> 137\u001b[0m \u001b[38;5;28;01mreturn\u001b[39;00m \u001b[43mcached_function\u001b[49m\u001b[43m(\u001b[49m\u001b[38;5;28;43mself\u001b[39;49m\u001b[43m,\u001b[49m\u001b[43m \u001b[49m\u001b[38;5;241;43m*\u001b[39;49m\u001b[43margs\u001b[49m\u001b[43m,\u001b[49m\u001b[43m \u001b[49m\u001b[38;5;241;43m*\u001b[39;49m\u001b[38;5;241;43m*\u001b[39;49m\u001b[43mkwargs\u001b[49m\u001b[43m)\u001b[49m\n",
      "File \u001b[0;32m~/dev/simphony_4_git/simphony-osp/simphony_osp/utils/cache.py:30\u001b[0m, in \u001b[0;36mlru_cache_weak.<locals>.decorator.<locals>.wrapper\u001b[0;34m(self, *args, **kwargs)\u001b[0m\n\u001b[1;32m     28\u001b[0m \u001b[38;5;129m@wraps\u001b[39m(func)\n\u001b[1;32m     29\u001b[0m \u001b[38;5;28;01mdef\u001b[39;00m \u001b[38;5;21mwrapper\u001b[39m(\u001b[38;5;28mself\u001b[39m, \u001b[38;5;241m*\u001b[39margs, \u001b[38;5;241m*\u001b[39m\u001b[38;5;241m*\u001b[39mkwargs):\n\u001b[0;32m---> 30\u001b[0m     \u001b[38;5;28;01mreturn\u001b[39;00m \u001b[43m_cached\u001b[49m\u001b[43m(\u001b[49m\u001b[43mref\u001b[49m\u001b[43m(\u001b[49m\u001b[38;5;28;43mself\u001b[39;49m\u001b[43m)\u001b[49m\u001b[43m,\u001b[49m\u001b[43m \u001b[49m\u001b[38;5;241;43m*\u001b[39;49m\u001b[43margs\u001b[49m\u001b[43m,\u001b[49m\u001b[43m \u001b[49m\u001b[38;5;241;43m*\u001b[39;49m\u001b[38;5;241;43m*\u001b[39;49m\u001b[43mkwargs\u001b[49m\u001b[43m)\u001b[49m\n",
      "File \u001b[0;32m~/dev/simphony_4_git/simphony-osp/simphony_osp/utils/cache.py:26\u001b[0m, in \u001b[0;36mlru_cache_weak.<locals>.decorator.<locals>._cached\u001b[0;34m(_self_weak_ref, *args, **kwargs)\u001b[0m\n\u001b[1;32m     24\u001b[0m \u001b[38;5;129m@lru_cache\u001b[39m(maxsize\u001b[38;5;241m=\u001b[39mmaxsize, typed\u001b[38;5;241m=\u001b[39mtyped)\n\u001b[1;32m     25\u001b[0m \u001b[38;5;28;01mdef\u001b[39;00m \u001b[38;5;21m_cached\u001b[39m(_self_weak_ref, \u001b[38;5;241m*\u001b[39margs, \u001b[38;5;241m*\u001b[39m\u001b[38;5;241m*\u001b[39mkwargs):\n\u001b[0;32m---> 26\u001b[0m     \u001b[38;5;28;01mreturn\u001b[39;00m \u001b[43mfunc\u001b[49m\u001b[43m(\u001b[49m\u001b[43m_self_weak_ref\u001b[49m\u001b[43m(\u001b[49m\u001b[43m)\u001b[49m\u001b[43m,\u001b[49m\u001b[43m \u001b[49m\u001b[38;5;241;43m*\u001b[39;49m\u001b[43margs\u001b[49m\u001b[43m,\u001b[49m\u001b[43m \u001b[49m\u001b[38;5;241;43m*\u001b[39;49m\u001b[38;5;241;43m*\u001b[39;49m\u001b[43mkwargs\u001b[49m\u001b[43m)\u001b[49m\n",
      "File \u001b[0;32m~/dev/simphony_4_git/simphony-osp/simphony_osp/utils/cache.py:110\u001b[0m, in \u001b[0;36mlru_cache_timestamp.<locals>.decorator.<locals>.wrapper.<locals>.cached_function\u001b[0;34m(self_function, *args_function, **kwargs_function)\u001b[0m\n\u001b[1;32m    106\u001b[0m \u001b[38;5;129m@lru_cache_weak\u001b[39m(maxsize\u001b[38;5;241m=\u001b[39mmaxsize, typed\u001b[38;5;241m=\u001b[39mtyped)\n\u001b[1;32m    107\u001b[0m \u001b[38;5;28;01mdef\u001b[39;00m \u001b[38;5;21mcached_function\u001b[39m(\n\u001b[1;32m    108\u001b[0m     self_function, \u001b[38;5;241m*\u001b[39margs_function, \u001b[38;5;241m*\u001b[39m\u001b[38;5;241m*\u001b[39mkwargs_function\n\u001b[1;32m    109\u001b[0m ):\n\u001b[0;32m--> 110\u001b[0m     \u001b[38;5;28;01mreturn\u001b[39;00m \u001b[43mfunc\u001b[49m\u001b[43m(\u001b[49m\n\u001b[1;32m    111\u001b[0m \u001b[43m        \u001b[49m\u001b[43mself_function\u001b[49m\u001b[43m,\u001b[49m\u001b[43m \u001b[49m\u001b[38;5;241;43m*\u001b[39;49m\u001b[43margs_function\u001b[49m\u001b[43m,\u001b[49m\u001b[43m \u001b[49m\u001b[38;5;241;43m*\u001b[39;49m\u001b[38;5;241;43m*\u001b[39;49m\u001b[43mkwargs_function\u001b[49m\n\u001b[1;32m    112\u001b[0m \u001b[43m    \u001b[49m\u001b[43m)\u001b[49m\n",
      "File \u001b[0;32m~/dev/simphony_4_git/simphony-osp/simphony_osp/ontology/entity.py:173\u001b[0m, in \u001b[0;36mOntologyEntity.subclasses\u001b[0;34m(self)\u001b[0m\n\u001b[1;32m    164\u001b[0m \u001b[38;5;129m@property\u001b[39m\n\u001b[1;32m    165\u001b[0m \u001b[38;5;129m@lru_cache_timestamp\u001b[39m(\u001b[38;5;28;01mlambda\u001b[39;00m \u001b[38;5;28mself\u001b[39m: \u001b[38;5;28mself\u001b[39m\u001b[38;5;241m.\u001b[39msession\u001b[38;5;241m.\u001b[39mentity_cache_timestamp)\n\u001b[1;32m    166\u001b[0m \u001b[38;5;28;01mdef\u001b[39;00m \u001b[38;5;21msubclasses\u001b[39m(\u001b[38;5;28mself\u001b[39m: ONTOLOGY_ENTITY) \u001b[38;5;241m-\u001b[39m\u001b[38;5;241m>\u001b[39m FrozenSet[ONTOLOGY_ENTITY]:\n\u001b[1;32m    167\u001b[0m \u001b[38;5;250m    \u001b[39m\u001b[38;5;124;03m\"\"\"Get the subclasses of the entity.\u001b[39;00m\n\u001b[1;32m    168\u001b[0m \n\u001b[1;32m    169\u001b[0m \u001b[38;5;124;03m    Returns:\u001b[39;00m\n\u001b[1;32m    170\u001b[0m \u001b[38;5;124;03m        The subclasses of the entity\u001b[39;00m\n\u001b[1;32m    171\u001b[0m \n\u001b[1;32m    172\u001b[0m \u001b[38;5;124;03m    \"\"\"\u001b[39;00m\n\u001b[0;32m--> 173\u001b[0m     \u001b[38;5;28;01mreturn\u001b[39;00m \u001b[38;5;28;43mfrozenset\u001b[39;49m\u001b[43m(\u001b[49m\u001b[38;5;28;43mself\u001b[39;49m\u001b[38;5;241;43m.\u001b[39;49m\u001b[43m_get_subclasses\u001b[49m\u001b[43m(\u001b[49m\u001b[43m)\u001b[49m\u001b[43m)\u001b[49m\n",
      "File \u001b[0;32m~/dev/simphony_4_git/simphony-osp/simphony_osp/ontology/relationship.py:116\u001b[0m, in \u001b[0;36mOntologyRelationship._get_subclasses\u001b[0;34m(self)\u001b[0m\n\u001b[1;32m    113\u001b[0m \u001b[38;5;28;01myield\u001b[39;00m \u001b[38;5;28mself\u001b[39m\n\u001b[1;32m    115\u001b[0m \u001b[38;5;28;01mif\u001b[39;00m \u001b[38;5;28mself\u001b[39m\u001b[38;5;241m.\u001b[39midentifier \u001b[38;5;241m==\u001b[39m OWL\u001b[38;5;241m.\u001b[39mtopObjectProperty:\n\u001b[0;32m--> 116\u001b[0m     \u001b[38;5;28;01myield from\u001b[39;00m (\n\u001b[1;32m    117\u001b[0m         \u001b[38;5;28mself\u001b[39m\u001b[38;5;241m.\u001b[39msession\u001b[38;5;241m.\u001b[39mfrom_identifier_typed(\n\u001b[1;32m    118\u001b[0m             s, typing\u001b[38;5;241m=\u001b[39mOntologyRelationship\n\u001b[1;32m    119\u001b[0m         )\n\u001b[1;32m    120\u001b[0m         \u001b[38;5;28;01mfor\u001b[39;00m s \u001b[38;5;129;01min\u001b[39;00m \u001b[38;5;28mself\u001b[39m\u001b[38;5;241m.\u001b[39msession\u001b[38;5;241m.\u001b[39mgraph\u001b[38;5;241m.\u001b[39msubjects(\n\u001b[1;32m    121\u001b[0m             RDF\u001b[38;5;241m.\u001b[39mtype, OWL\u001b[38;5;241m.\u001b[39mObjectProperty\n\u001b[1;32m    122\u001b[0m         )\n\u001b[1;32m    123\u001b[0m     )\n\u001b[1;32m    124\u001b[0m \u001b[38;5;28;01melse\u001b[39;00m:\n\u001b[1;32m    126\u001b[0m     \u001b[38;5;28;01mdef\u001b[39;00m \u001b[38;5;21mclosure\u001b[39m(node, graph):\n",
      "File \u001b[0;32m~/dev/simphony_4_git/simphony-osp/simphony_osp/ontology/relationship.py:117\u001b[0m, in \u001b[0;36m<genexpr>\u001b[0;34m(.0)\u001b[0m\n\u001b[1;32m    113\u001b[0m \u001b[38;5;28;01myield\u001b[39;00m \u001b[38;5;28mself\u001b[39m\n\u001b[1;32m    115\u001b[0m \u001b[38;5;28;01mif\u001b[39;00m \u001b[38;5;28mself\u001b[39m\u001b[38;5;241m.\u001b[39midentifier \u001b[38;5;241m==\u001b[39m OWL\u001b[38;5;241m.\u001b[39mtopObjectProperty:\n\u001b[1;32m    116\u001b[0m     \u001b[38;5;28;01myield from\u001b[39;00m (\n\u001b[0;32m--> 117\u001b[0m         \u001b[38;5;28;43mself\u001b[39;49m\u001b[38;5;241;43m.\u001b[39;49m\u001b[43msession\u001b[49m\u001b[38;5;241;43m.\u001b[39;49m\u001b[43mfrom_identifier_typed\u001b[49m\u001b[43m(\u001b[49m\n\u001b[1;32m    118\u001b[0m \u001b[43m            \u001b[49m\u001b[43ms\u001b[49m\u001b[43m,\u001b[49m\u001b[43m \u001b[49m\u001b[43mtyping\u001b[49m\u001b[38;5;241;43m=\u001b[39;49m\u001b[43mOntologyRelationship\u001b[49m\n\u001b[1;32m    119\u001b[0m \u001b[43m        \u001b[49m\u001b[43m)\u001b[49m\n\u001b[1;32m    120\u001b[0m         \u001b[38;5;28;01mfor\u001b[39;00m s \u001b[38;5;129;01min\u001b[39;00m \u001b[38;5;28mself\u001b[39m\u001b[38;5;241m.\u001b[39msession\u001b[38;5;241m.\u001b[39mgraph\u001b[38;5;241m.\u001b[39msubjects(\n\u001b[1;32m    121\u001b[0m             RDF\u001b[38;5;241m.\u001b[39mtype, OWL\u001b[38;5;241m.\u001b[39mObjectProperty\n\u001b[1;32m    122\u001b[0m         )\n\u001b[1;32m    123\u001b[0m     )\n\u001b[1;32m    124\u001b[0m \u001b[38;5;28;01melse\u001b[39;00m:\n\u001b[1;32m    126\u001b[0m     \u001b[38;5;28;01mdef\u001b[39;00m \u001b[38;5;21mclosure\u001b[39m(node, graph):\n",
      "File \u001b[0;32m~/dev/simphony_4_git/simphony-osp/simphony_osp/session/session.py:1353\u001b[0m, in \u001b[0;36mSession.from_identifier_typed\u001b[0;34m(self, identifier, typing)\u001b[0m\n\u001b[1;32m   1337\u001b[0m \u001b[38;5;28;01mdef\u001b[39;00m \u001b[38;5;21mfrom_identifier_typed\u001b[39m(\n\u001b[1;32m   1338\u001b[0m     \u001b[38;5;28mself\u001b[39m, identifier: Node, typing: Type[ENTITY]\n\u001b[1;32m   1339\u001b[0m ) \u001b[38;5;241m-\u001b[39m\u001b[38;5;241m>\u001b[39m ENTITY:\n\u001b[1;32m   1340\u001b[0m \u001b[38;5;250m    \u001b[39m\u001b[38;5;124;03m\"\"\"Get an ontology entity from its identifier, enforcing a type check.\u001b[39;00m\n\u001b[1;32m   1341\u001b[0m \n\u001b[1;32m   1342\u001b[0m \u001b[38;5;124;03m    Args:\u001b[39;00m\n\u001b[0;32m   (...)\u001b[0m\n\u001b[1;32m   1351\u001b[0m \u001b[38;5;124;03m        The OntologyEntity.\u001b[39;00m\n\u001b[1;32m   1352\u001b[0m \u001b[38;5;124;03m    \"\"\"\u001b[39;00m\n\u001b[0;32m-> 1353\u001b[0m     entity \u001b[38;5;241m=\u001b[39m \u001b[38;5;28;43mself\u001b[39;49m\u001b[38;5;241;43m.\u001b[39;49m\u001b[43mfrom_identifier\u001b[49m\u001b[43m(\u001b[49m\u001b[43midentifier\u001b[49m\u001b[43m)\u001b[49m\n\u001b[1;32m   1354\u001b[0m     \u001b[38;5;28;01mif\u001b[39;00m \u001b[38;5;129;01mnot\u001b[39;00m \u001b[38;5;28misinstance\u001b[39m(entity, typing):\n\u001b[1;32m   1355\u001b[0m         \u001b[38;5;28;01mraise\u001b[39;00m \u001b[38;5;167;01mTypeError\u001b[39;00m(\u001b[38;5;124mf\u001b[39m\u001b[38;5;124m\"\u001b[39m\u001b[38;5;132;01m{\u001b[39;00midentifier\u001b[38;5;132;01m}\u001b[39;00m\u001b[38;5;124m is not of class \u001b[39m\u001b[38;5;132;01m{\u001b[39;00mtyping\u001b[38;5;132;01m}\u001b[39;00m\u001b[38;5;124m.\u001b[39m\u001b[38;5;124m\"\u001b[39m)\n",
      "File \u001b[0;32m~/dev/simphony_4_git/simphony-osp/simphony_osp/utils/cache.py:30\u001b[0m, in \u001b[0;36mlru_cache_weak.<locals>.decorator.<locals>.wrapper\u001b[0;34m(self, *args, **kwargs)\u001b[0m\n\u001b[1;32m     28\u001b[0m \u001b[38;5;129m@wraps\u001b[39m(func)\n\u001b[1;32m     29\u001b[0m \u001b[38;5;28;01mdef\u001b[39;00m \u001b[38;5;21mwrapper\u001b[39m(\u001b[38;5;28mself\u001b[39m, \u001b[38;5;241m*\u001b[39margs, \u001b[38;5;241m*\u001b[39m\u001b[38;5;241m*\u001b[39mkwargs):\n\u001b[0;32m---> 30\u001b[0m     \u001b[38;5;28;01mreturn\u001b[39;00m \u001b[43m_cached\u001b[49m\u001b[43m(\u001b[49m\u001b[43mref\u001b[49m\u001b[43m(\u001b[49m\u001b[38;5;28;43mself\u001b[39;49m\u001b[43m)\u001b[49m\u001b[43m,\u001b[49m\u001b[43m \u001b[49m\u001b[38;5;241;43m*\u001b[39;49m\u001b[43margs\u001b[49m\u001b[43m,\u001b[49m\u001b[43m \u001b[49m\u001b[38;5;241;43m*\u001b[39;49m\u001b[38;5;241;43m*\u001b[39;49m\u001b[43mkwargs\u001b[49m\u001b[43m)\u001b[49m\n",
      "File \u001b[0;32m~/dev/simphony_4_git/simphony-osp/simphony_osp/utils/cache.py:26\u001b[0m, in \u001b[0;36mlru_cache_weak.<locals>.decorator.<locals>._cached\u001b[0;34m(_self_weak_ref, *args, **kwargs)\u001b[0m\n\u001b[1;32m     24\u001b[0m \u001b[38;5;129m@lru_cache\u001b[39m(maxsize\u001b[38;5;241m=\u001b[39mmaxsize, typed\u001b[38;5;241m=\u001b[39mtyped)\n\u001b[1;32m     25\u001b[0m \u001b[38;5;28;01mdef\u001b[39;00m \u001b[38;5;21m_cached\u001b[39m(_self_weak_ref, \u001b[38;5;241m*\u001b[39margs, \u001b[38;5;241m*\u001b[39m\u001b[38;5;241m*\u001b[39mkwargs):\n\u001b[0;32m---> 26\u001b[0m     \u001b[38;5;28;01mreturn\u001b[39;00m \u001b[43mfunc\u001b[49m\u001b[43m(\u001b[49m\u001b[43m_self_weak_ref\u001b[49m\u001b[43m(\u001b[49m\u001b[43m)\u001b[49m\u001b[43m,\u001b[49m\u001b[43m \u001b[49m\u001b[38;5;241;43m*\u001b[39;49m\u001b[43margs\u001b[49m\u001b[43m,\u001b[49m\u001b[43m \u001b[49m\u001b[38;5;241;43m*\u001b[39;49m\u001b[38;5;241;43m*\u001b[39;49m\u001b[43mkwargs\u001b[49m\u001b[43m)\u001b[49m\n",
      "File \u001b[0;32m~/dev/simphony_4_git/simphony-osp/simphony_osp/session/session.py:1321\u001b[0m, in \u001b[0;36mSession.from_identifier\u001b[0;34m(self, identifier)\u001b[0m\n\u001b[1;32m   1319\u001b[0m \u001b[38;5;250m\u001b[39m\u001b[38;5;124;03m\"\"\"Finally return the single compatible class or raise an exception.\"\"\"\u001b[39;00m\n\u001b[1;32m   1320\u001b[0m \u001b[38;5;28;01mif\u001b[39;00m \u001b[38;5;28mlen\u001b[39m(compatible) \u001b[38;5;241m>\u001b[39m\u001b[38;5;241m=\u001b[39m \u001b[38;5;241m2\u001b[39m:\n\u001b[0;32m-> 1321\u001b[0m     \u001b[38;5;28;01mraise\u001b[39;00m \u001b[38;5;167;01mRuntimeError\u001b[39;00m(\n\u001b[1;32m   1322\u001b[0m         \u001b[38;5;124mf\u001b[39m\u001b[38;5;124m\"\u001b[39m\u001b[38;5;124mTwo or more python classes (\u001b[39m\u001b[38;5;124m\"\u001b[39m\n\u001b[1;32m   1323\u001b[0m         \u001b[38;5;124mf\u001b[39m\u001b[38;5;124m\"\u001b[39m\u001b[38;5;132;01m{\u001b[39;00m\u001b[38;5;124m'\u001b[39m\u001b[38;5;124m, \u001b[39m\u001b[38;5;124m'\u001b[39m\u001b[38;5;241m.\u001b[39mjoin(\u001b[38;5;28mmap\u001b[39m(\u001b[38;5;28mstr\u001b[39m,\u001b[38;5;250m \u001b[39mcompatible))\u001b[38;5;132;01m}\u001b[39;00m\u001b[38;5;124m) \u001b[39m\u001b[38;5;124m\"\u001b[39m\n\u001b[1;32m   1324\u001b[0m         \u001b[38;5;124mf\u001b[39m\u001b[38;5;124m\"\u001b[39m\u001b[38;5;124mcould be spawned from \u001b[39m\u001b[38;5;132;01m{\u001b[39;00midentifier\u001b[38;5;132;01m}\u001b[39;00m\u001b[38;5;124m.\u001b[39m\u001b[38;5;124m\"\u001b[39m\n\u001b[1;32m   1325\u001b[0m     )\n\u001b[1;32m   1326\u001b[0m \u001b[38;5;28;01mtry\u001b[39;00m:\n\u001b[1;32m   1327\u001b[0m     python_class \u001b[38;5;241m=\u001b[39m compatible\u001b[38;5;241m.\u001b[39mpop()\n",
      "\u001b[0;31mRuntimeError\u001b[0m: Two or more python classes (<class 'simphony_osp.ontology.attribute.OntologyAttribute'>, <class 'simphony_osp.ontology.relationship.OntologyRelationship'>) could be spawned from http://xmlns.com/foaf/0.1/homepage."
     ]
    }
   ],
   "source": [
    "pretty_print(copies[0])"
   ]
  },
  {
   "cell_type": "code",
   "execution_count": 25,
   "id": "20907b9b",
   "metadata": {},
   "outputs": [
    {
     "ename": "RuntimeError",
     "evalue": "Two or more python classes (<class 'simphony_osp.ontology.attribute.OntologyAttribute'>, <class 'simphony_osp.ontology.relationship.OntologyRelationship'>) could be spawned from http://xmlns.com/foaf/0.1/homepage.",
     "output_type": "error",
     "traceback": [
      "\u001b[0;31m---------------------------------------------------------------------------\u001b[0m",
      "\u001b[0;31mRuntimeError\u001b[0m                              Traceback (most recent call last)",
      "Cell \u001b[0;32mIn[25], line 2\u001b[0m\n\u001b[1;32m      1\u001b[0m \u001b[38;5;28;01mfor\u001b[39;00m i \u001b[38;5;129;01min\u001b[39;00m session:\n\u001b[0;32m----> 2\u001b[0m     \u001b[43mpretty_print\u001b[49m\u001b[43m(\u001b[49m\u001b[43mi\u001b[49m\u001b[43m)\u001b[49m\n",
      "File \u001b[0;32m~/dev/simphony_4_git/simphony-osp/simphony_osp/tools/pretty_print.py:77\u001b[0m, in \u001b[0;36mpretty_print\u001b[0;34m(entity, rel, file)\u001b[0m\n\u001b[1;32m     75\u001b[0m         pp[\u001b[38;5;124m\"\u001b[39m\u001b[38;5;124mattributes\u001b[39m\u001b[38;5;124m\"\u001b[39m] \u001b[38;5;241m=\u001b[39m \u001b[38;5;124mf\u001b[39m\u001b[38;5;124m\"\u001b[39m\u001b[38;5;130;01m\\n\u001b[39;00m\u001b[38;5;124m  values: \u001b[39m\u001b[38;5;132;01m{\u001b[39;00mvalues_str\u001b[38;5;132;01m}\u001b[39;00m\u001b[38;5;124m\"\u001b[39m\n\u001b[1;32m     76\u001b[0m     \u001b[38;5;66;03m# Subelements\u001b[39;00m\n\u001b[0;32m---> 77\u001b[0m     pp[\u001b[38;5;124m\"\u001b[39m\u001b[38;5;124msubelements\u001b[39m\u001b[38;5;124m\"\u001b[39m] \u001b[38;5;241m=\u001b[39m \u001b[43m_pp_individual_subelements\u001b[49m\u001b[43m(\u001b[49m\u001b[43mentity\u001b[49m\u001b[43m,\u001b[49m\u001b[43m \u001b[49m\u001b[43mrel\u001b[49m\u001b[43m)\u001b[49m\n\u001b[1;32m     79\u001b[0m pp[\u001b[38;5;124m\"\u001b[39m\u001b[38;5;124midentifier\u001b[39m\u001b[38;5;124m\"\u001b[39m] \u001b[38;5;241m=\u001b[39m \u001b[38;5;124mf\u001b[39m\u001b[38;5;124m\"\u001b[39m\u001b[38;5;130;01m\\n\u001b[39;00m\u001b[38;5;124m  identifier: \u001b[39m\u001b[38;5;132;01m{\u001b[39;00mentity\u001b[38;5;241m.\u001b[39muid\u001b[38;5;132;01m}\u001b[39;00m\u001b[38;5;124m\"\u001b[39m\n\u001b[1;32m     81\u001b[0m pp \u001b[38;5;241m=\u001b[39m reduce(add, pp\u001b[38;5;241m.\u001b[39mvalues())\n",
      "File \u001b[0;32m~/dev/simphony_4_git/simphony-osp/simphony_osp/tools/pretty_print.py:171\u001b[0m, in \u001b[0;36m_pp_individual_subelements\u001b[0;34m(individual, rel, level_indentation, visited)\u001b[0m\n\u001b[1;32m    166\u001b[0m         \u001b[38;5;28;01mpass\u001b[39;00m\n\u001b[1;32m    167\u001b[0m filtered_relationships \u001b[38;5;241m=\u001b[39m \u001b[38;5;28mfilter\u001b[39m(\n\u001b[1;32m    168\u001b[0m     \u001b[38;5;28;01mlambda\u001b[39;00m x: \u001b[38;5;28many\u001b[39m(x\u001b[38;5;241m.\u001b[39mis_subclass_of(r) \u001b[38;5;28;01mfor\u001b[39;00m r \u001b[38;5;129;01min\u001b[39;00m rels),\n\u001b[1;32m    169\u001b[0m     consider_relationships,\n\u001b[1;32m    170\u001b[0m )\n\u001b[0;32m--> 171\u001b[0m sorted_relationships \u001b[38;5;241m=\u001b[39m \u001b[38;5;28msorted\u001b[39m(filtered_relationships, key\u001b[38;5;241m=\u001b[39m\u001b[38;5;28mstr\u001b[39m)\n\u001b[1;32m    173\u001b[0m visited \u001b[38;5;241m=\u001b[39m visited \u001b[38;5;129;01mor\u001b[39;00m \u001b[38;5;28mset\u001b[39m()\n\u001b[1;32m    174\u001b[0m visited\u001b[38;5;241m.\u001b[39madd(individual\u001b[38;5;241m.\u001b[39muid)\n",
      "File \u001b[0;32m~/dev/simphony_4_git/simphony-osp/simphony_osp/tools/pretty_print.py:168\u001b[0m, in \u001b[0;36m_pp_individual_subelements.<locals>.<lambda>\u001b[0;34m(x)\u001b[0m\n\u001b[1;32m    165\u001b[0m     \u001b[38;5;28;01mexcept\u001b[39;00m \u001b[38;5;167;01mKeyError\u001b[39;00m:\n\u001b[1;32m    166\u001b[0m         \u001b[38;5;28;01mpass\u001b[39;00m\n\u001b[1;32m    167\u001b[0m filtered_relationships \u001b[38;5;241m=\u001b[39m \u001b[38;5;28mfilter\u001b[39m(\n\u001b[0;32m--> 168\u001b[0m     \u001b[38;5;28;01mlambda\u001b[39;00m x: \u001b[38;5;28;43many\u001b[39;49m\u001b[43m(\u001b[49m\u001b[43mx\u001b[49m\u001b[38;5;241;43m.\u001b[39;49m\u001b[43mis_subclass_of\u001b[49m\u001b[43m(\u001b[49m\u001b[43mr\u001b[49m\u001b[43m)\u001b[49m\u001b[43m \u001b[49m\u001b[38;5;28;43;01mfor\u001b[39;49;00m\u001b[43m \u001b[49m\u001b[43mr\u001b[49m\u001b[43m \u001b[49m\u001b[38;5;129;43;01min\u001b[39;49;00m\u001b[43m \u001b[49m\u001b[43mrels\u001b[49m\u001b[43m)\u001b[49m,\n\u001b[1;32m    169\u001b[0m     consider_relationships,\n\u001b[1;32m    170\u001b[0m )\n\u001b[1;32m    171\u001b[0m sorted_relationships \u001b[38;5;241m=\u001b[39m \u001b[38;5;28msorted\u001b[39m(filtered_relationships, key\u001b[38;5;241m=\u001b[39m\u001b[38;5;28mstr\u001b[39m)\n\u001b[1;32m    173\u001b[0m visited \u001b[38;5;241m=\u001b[39m visited \u001b[38;5;129;01mor\u001b[39;00m \u001b[38;5;28mset\u001b[39m()\n",
      "File \u001b[0;32m~/dev/simphony_4_git/simphony-osp/simphony_osp/tools/pretty_print.py:168\u001b[0m, in \u001b[0;36m<genexpr>\u001b[0;34m(.0)\u001b[0m\n\u001b[1;32m    165\u001b[0m     \u001b[38;5;28;01mexcept\u001b[39;00m \u001b[38;5;167;01mKeyError\u001b[39;00m:\n\u001b[1;32m    166\u001b[0m         \u001b[38;5;28;01mpass\u001b[39;00m\n\u001b[1;32m    167\u001b[0m filtered_relationships \u001b[38;5;241m=\u001b[39m \u001b[38;5;28mfilter\u001b[39m(\n\u001b[0;32m--> 168\u001b[0m     \u001b[38;5;28;01mlambda\u001b[39;00m x: \u001b[38;5;28many\u001b[39m(\u001b[43mx\u001b[49m\u001b[38;5;241;43m.\u001b[39;49m\u001b[43mis_subclass_of\u001b[49m\u001b[43m(\u001b[49m\u001b[43mr\u001b[49m\u001b[43m)\u001b[49m \u001b[38;5;28;01mfor\u001b[39;00m r \u001b[38;5;129;01min\u001b[39;00m rels),\n\u001b[1;32m    169\u001b[0m     consider_relationships,\n\u001b[1;32m    170\u001b[0m )\n\u001b[1;32m    171\u001b[0m sorted_relationships \u001b[38;5;241m=\u001b[39m \u001b[38;5;28msorted\u001b[39m(filtered_relationships, key\u001b[38;5;241m=\u001b[39m\u001b[38;5;28mstr\u001b[39m)\n\u001b[1;32m    173\u001b[0m visited \u001b[38;5;241m=\u001b[39m visited \u001b[38;5;129;01mor\u001b[39;00m \u001b[38;5;28mset\u001b[39m()\n",
      "File \u001b[0;32m~/dev/simphony_4_git/simphony-osp/simphony_osp/ontology/entity.py:196\u001b[0m, in \u001b[0;36mOntologyEntity.is_subclass_of\u001b[0;34m(self, other)\u001b[0m\n\u001b[1;32m    186\u001b[0m \u001b[38;5;28;01mdef\u001b[39;00m \u001b[38;5;21mis_subclass_of\u001b[39m(\u001b[38;5;28mself\u001b[39m, other: OntologyEntity) \u001b[38;5;241m-\u001b[39m\u001b[38;5;241m>\u001b[39m \u001b[38;5;28mbool\u001b[39m:\n\u001b[1;32m    187\u001b[0m \u001b[38;5;250m    \u001b[39m\u001b[38;5;124;03m\"\"\"Perform a subclass check.\u001b[39;00m\n\u001b[1;32m    188\u001b[0m \n\u001b[1;32m    189\u001b[0m \u001b[38;5;124;03m    Args:\u001b[39;00m\n\u001b[0;32m   (...)\u001b[0m\n\u001b[1;32m    194\u001b[0m \n\u001b[1;32m    195\u001b[0m \u001b[38;5;124;03m    \"\"\"\u001b[39;00m\n\u001b[0;32m--> 196\u001b[0m     \u001b[38;5;28;01mreturn\u001b[39;00m \u001b[38;5;28mself\u001b[39m \u001b[38;5;129;01min\u001b[39;00m \u001b[43mother\u001b[49m\u001b[38;5;241;43m.\u001b[39;49m\u001b[43msubclasses\u001b[49m\n",
      "File \u001b[0;32m~/dev/simphony_4_git/simphony-osp/simphony_osp/utils/cache.py:137\u001b[0m, in \u001b[0;36mlru_cache_timestamp.<locals>.decorator.<locals>.wrapper\u001b[0;34m(self, *args, **kwargs)\u001b[0m\n\u001b[1;32m    134\u001b[0m     cached_function\u001b[38;5;241m.\u001b[39mcache_clear()\n\u001b[1;32m    135\u001b[0m     holder[\u001b[38;5;28mself\u001b[39m] \u001b[38;5;241m=\u001b[39m datetime\u001b[38;5;241m.\u001b[39mnow(), cached_function\n\u001b[0;32m--> 137\u001b[0m \u001b[38;5;28;01mreturn\u001b[39;00m \u001b[43mcached_function\u001b[49m\u001b[43m(\u001b[49m\u001b[38;5;28;43mself\u001b[39;49m\u001b[43m,\u001b[49m\u001b[43m \u001b[49m\u001b[38;5;241;43m*\u001b[39;49m\u001b[43margs\u001b[49m\u001b[43m,\u001b[49m\u001b[43m \u001b[49m\u001b[38;5;241;43m*\u001b[39;49m\u001b[38;5;241;43m*\u001b[39;49m\u001b[43mkwargs\u001b[49m\u001b[43m)\u001b[49m\n",
      "File \u001b[0;32m~/dev/simphony_4_git/simphony-osp/simphony_osp/utils/cache.py:30\u001b[0m, in \u001b[0;36mlru_cache_weak.<locals>.decorator.<locals>.wrapper\u001b[0;34m(self, *args, **kwargs)\u001b[0m\n\u001b[1;32m     28\u001b[0m \u001b[38;5;129m@wraps\u001b[39m(func)\n\u001b[1;32m     29\u001b[0m \u001b[38;5;28;01mdef\u001b[39;00m \u001b[38;5;21mwrapper\u001b[39m(\u001b[38;5;28mself\u001b[39m, \u001b[38;5;241m*\u001b[39margs, \u001b[38;5;241m*\u001b[39m\u001b[38;5;241m*\u001b[39mkwargs):\n\u001b[0;32m---> 30\u001b[0m     \u001b[38;5;28;01mreturn\u001b[39;00m \u001b[43m_cached\u001b[49m\u001b[43m(\u001b[49m\u001b[43mref\u001b[49m\u001b[43m(\u001b[49m\u001b[38;5;28;43mself\u001b[39;49m\u001b[43m)\u001b[49m\u001b[43m,\u001b[49m\u001b[43m \u001b[49m\u001b[38;5;241;43m*\u001b[39;49m\u001b[43margs\u001b[49m\u001b[43m,\u001b[49m\u001b[43m \u001b[49m\u001b[38;5;241;43m*\u001b[39;49m\u001b[38;5;241;43m*\u001b[39;49m\u001b[43mkwargs\u001b[49m\u001b[43m)\u001b[49m\n",
      "File \u001b[0;32m~/dev/simphony_4_git/simphony-osp/simphony_osp/utils/cache.py:26\u001b[0m, in \u001b[0;36mlru_cache_weak.<locals>.decorator.<locals>._cached\u001b[0;34m(_self_weak_ref, *args, **kwargs)\u001b[0m\n\u001b[1;32m     24\u001b[0m \u001b[38;5;129m@lru_cache\u001b[39m(maxsize\u001b[38;5;241m=\u001b[39mmaxsize, typed\u001b[38;5;241m=\u001b[39mtyped)\n\u001b[1;32m     25\u001b[0m \u001b[38;5;28;01mdef\u001b[39;00m \u001b[38;5;21m_cached\u001b[39m(_self_weak_ref, \u001b[38;5;241m*\u001b[39margs, \u001b[38;5;241m*\u001b[39m\u001b[38;5;241m*\u001b[39mkwargs):\n\u001b[0;32m---> 26\u001b[0m     \u001b[38;5;28;01mreturn\u001b[39;00m \u001b[43mfunc\u001b[49m\u001b[43m(\u001b[49m\u001b[43m_self_weak_ref\u001b[49m\u001b[43m(\u001b[49m\u001b[43m)\u001b[49m\u001b[43m,\u001b[49m\u001b[43m \u001b[49m\u001b[38;5;241;43m*\u001b[39;49m\u001b[43margs\u001b[49m\u001b[43m,\u001b[49m\u001b[43m \u001b[49m\u001b[38;5;241;43m*\u001b[39;49m\u001b[38;5;241;43m*\u001b[39;49m\u001b[43mkwargs\u001b[49m\u001b[43m)\u001b[49m\n",
      "File \u001b[0;32m~/dev/simphony_4_git/simphony-osp/simphony_osp/utils/cache.py:110\u001b[0m, in \u001b[0;36mlru_cache_timestamp.<locals>.decorator.<locals>.wrapper.<locals>.cached_function\u001b[0;34m(self_function, *args_function, **kwargs_function)\u001b[0m\n\u001b[1;32m    106\u001b[0m \u001b[38;5;129m@lru_cache_weak\u001b[39m(maxsize\u001b[38;5;241m=\u001b[39mmaxsize, typed\u001b[38;5;241m=\u001b[39mtyped)\n\u001b[1;32m    107\u001b[0m \u001b[38;5;28;01mdef\u001b[39;00m \u001b[38;5;21mcached_function\u001b[39m(\n\u001b[1;32m    108\u001b[0m     self_function, \u001b[38;5;241m*\u001b[39margs_function, \u001b[38;5;241m*\u001b[39m\u001b[38;5;241m*\u001b[39mkwargs_function\n\u001b[1;32m    109\u001b[0m ):\n\u001b[0;32m--> 110\u001b[0m     \u001b[38;5;28;01mreturn\u001b[39;00m \u001b[43mfunc\u001b[49m\u001b[43m(\u001b[49m\n\u001b[1;32m    111\u001b[0m \u001b[43m        \u001b[49m\u001b[43mself_function\u001b[49m\u001b[43m,\u001b[49m\u001b[43m \u001b[49m\u001b[38;5;241;43m*\u001b[39;49m\u001b[43margs_function\u001b[49m\u001b[43m,\u001b[49m\u001b[43m \u001b[49m\u001b[38;5;241;43m*\u001b[39;49m\u001b[38;5;241;43m*\u001b[39;49m\u001b[43mkwargs_function\u001b[49m\n\u001b[1;32m    112\u001b[0m \u001b[43m    \u001b[49m\u001b[43m)\u001b[49m\n",
      "File \u001b[0;32m~/dev/simphony_4_git/simphony-osp/simphony_osp/ontology/entity.py:173\u001b[0m, in \u001b[0;36mOntologyEntity.subclasses\u001b[0;34m(self)\u001b[0m\n\u001b[1;32m    164\u001b[0m \u001b[38;5;129m@property\u001b[39m\n\u001b[1;32m    165\u001b[0m \u001b[38;5;129m@lru_cache_timestamp\u001b[39m(\u001b[38;5;28;01mlambda\u001b[39;00m \u001b[38;5;28mself\u001b[39m: \u001b[38;5;28mself\u001b[39m\u001b[38;5;241m.\u001b[39msession\u001b[38;5;241m.\u001b[39mentity_cache_timestamp)\n\u001b[1;32m    166\u001b[0m \u001b[38;5;28;01mdef\u001b[39;00m \u001b[38;5;21msubclasses\u001b[39m(\u001b[38;5;28mself\u001b[39m: ONTOLOGY_ENTITY) \u001b[38;5;241m-\u001b[39m\u001b[38;5;241m>\u001b[39m FrozenSet[ONTOLOGY_ENTITY]:\n\u001b[1;32m    167\u001b[0m \u001b[38;5;250m    \u001b[39m\u001b[38;5;124;03m\"\"\"Get the subclasses of the entity.\u001b[39;00m\n\u001b[1;32m    168\u001b[0m \n\u001b[1;32m    169\u001b[0m \u001b[38;5;124;03m    Returns:\u001b[39;00m\n\u001b[1;32m    170\u001b[0m \u001b[38;5;124;03m        The subclasses of the entity\u001b[39;00m\n\u001b[1;32m    171\u001b[0m \n\u001b[1;32m    172\u001b[0m \u001b[38;5;124;03m    \"\"\"\u001b[39;00m\n\u001b[0;32m--> 173\u001b[0m     \u001b[38;5;28;01mreturn\u001b[39;00m \u001b[38;5;28;43mfrozenset\u001b[39;49m\u001b[43m(\u001b[49m\u001b[38;5;28;43mself\u001b[39;49m\u001b[38;5;241;43m.\u001b[39;49m\u001b[43m_get_subclasses\u001b[49m\u001b[43m(\u001b[49m\u001b[43m)\u001b[49m\u001b[43m)\u001b[49m\n",
      "File \u001b[0;32m~/dev/simphony_4_git/simphony-osp/simphony_osp/ontology/relationship.py:116\u001b[0m, in \u001b[0;36mOntologyRelationship._get_subclasses\u001b[0;34m(self)\u001b[0m\n\u001b[1;32m    113\u001b[0m \u001b[38;5;28;01myield\u001b[39;00m \u001b[38;5;28mself\u001b[39m\n\u001b[1;32m    115\u001b[0m \u001b[38;5;28;01mif\u001b[39;00m \u001b[38;5;28mself\u001b[39m\u001b[38;5;241m.\u001b[39midentifier \u001b[38;5;241m==\u001b[39m OWL\u001b[38;5;241m.\u001b[39mtopObjectProperty:\n\u001b[0;32m--> 116\u001b[0m     \u001b[38;5;28;01myield from\u001b[39;00m (\n\u001b[1;32m    117\u001b[0m         \u001b[38;5;28mself\u001b[39m\u001b[38;5;241m.\u001b[39msession\u001b[38;5;241m.\u001b[39mfrom_identifier_typed(\n\u001b[1;32m    118\u001b[0m             s, typing\u001b[38;5;241m=\u001b[39mOntologyRelationship\n\u001b[1;32m    119\u001b[0m         )\n\u001b[1;32m    120\u001b[0m         \u001b[38;5;28;01mfor\u001b[39;00m s \u001b[38;5;129;01min\u001b[39;00m \u001b[38;5;28mself\u001b[39m\u001b[38;5;241m.\u001b[39msession\u001b[38;5;241m.\u001b[39mgraph\u001b[38;5;241m.\u001b[39msubjects(\n\u001b[1;32m    121\u001b[0m             RDF\u001b[38;5;241m.\u001b[39mtype, OWL\u001b[38;5;241m.\u001b[39mObjectProperty\n\u001b[1;32m    122\u001b[0m         )\n\u001b[1;32m    123\u001b[0m     )\n\u001b[1;32m    124\u001b[0m \u001b[38;5;28;01melse\u001b[39;00m:\n\u001b[1;32m    126\u001b[0m     \u001b[38;5;28;01mdef\u001b[39;00m \u001b[38;5;21mclosure\u001b[39m(node, graph):\n",
      "File \u001b[0;32m~/dev/simphony_4_git/simphony-osp/simphony_osp/ontology/relationship.py:117\u001b[0m, in \u001b[0;36m<genexpr>\u001b[0;34m(.0)\u001b[0m\n\u001b[1;32m    113\u001b[0m \u001b[38;5;28;01myield\u001b[39;00m \u001b[38;5;28mself\u001b[39m\n\u001b[1;32m    115\u001b[0m \u001b[38;5;28;01mif\u001b[39;00m \u001b[38;5;28mself\u001b[39m\u001b[38;5;241m.\u001b[39midentifier \u001b[38;5;241m==\u001b[39m OWL\u001b[38;5;241m.\u001b[39mtopObjectProperty:\n\u001b[1;32m    116\u001b[0m     \u001b[38;5;28;01myield from\u001b[39;00m (\n\u001b[0;32m--> 117\u001b[0m         \u001b[38;5;28;43mself\u001b[39;49m\u001b[38;5;241;43m.\u001b[39;49m\u001b[43msession\u001b[49m\u001b[38;5;241;43m.\u001b[39;49m\u001b[43mfrom_identifier_typed\u001b[49m\u001b[43m(\u001b[49m\n\u001b[1;32m    118\u001b[0m \u001b[43m            \u001b[49m\u001b[43ms\u001b[49m\u001b[43m,\u001b[49m\u001b[43m \u001b[49m\u001b[43mtyping\u001b[49m\u001b[38;5;241;43m=\u001b[39;49m\u001b[43mOntologyRelationship\u001b[49m\n\u001b[1;32m    119\u001b[0m \u001b[43m        \u001b[49m\u001b[43m)\u001b[49m\n\u001b[1;32m    120\u001b[0m         \u001b[38;5;28;01mfor\u001b[39;00m s \u001b[38;5;129;01min\u001b[39;00m \u001b[38;5;28mself\u001b[39m\u001b[38;5;241m.\u001b[39msession\u001b[38;5;241m.\u001b[39mgraph\u001b[38;5;241m.\u001b[39msubjects(\n\u001b[1;32m    121\u001b[0m             RDF\u001b[38;5;241m.\u001b[39mtype, OWL\u001b[38;5;241m.\u001b[39mObjectProperty\n\u001b[1;32m    122\u001b[0m         )\n\u001b[1;32m    123\u001b[0m     )\n\u001b[1;32m    124\u001b[0m \u001b[38;5;28;01melse\u001b[39;00m:\n\u001b[1;32m    126\u001b[0m     \u001b[38;5;28;01mdef\u001b[39;00m \u001b[38;5;21mclosure\u001b[39m(node, graph):\n",
      "File \u001b[0;32m~/dev/simphony_4_git/simphony-osp/simphony_osp/session/session.py:1353\u001b[0m, in \u001b[0;36mSession.from_identifier_typed\u001b[0;34m(self, identifier, typing)\u001b[0m\n\u001b[1;32m   1337\u001b[0m \u001b[38;5;28;01mdef\u001b[39;00m \u001b[38;5;21mfrom_identifier_typed\u001b[39m(\n\u001b[1;32m   1338\u001b[0m     \u001b[38;5;28mself\u001b[39m, identifier: Node, typing: Type[ENTITY]\n\u001b[1;32m   1339\u001b[0m ) \u001b[38;5;241m-\u001b[39m\u001b[38;5;241m>\u001b[39m ENTITY:\n\u001b[1;32m   1340\u001b[0m \u001b[38;5;250m    \u001b[39m\u001b[38;5;124;03m\"\"\"Get an ontology entity from its identifier, enforcing a type check.\u001b[39;00m\n\u001b[1;32m   1341\u001b[0m \n\u001b[1;32m   1342\u001b[0m \u001b[38;5;124;03m    Args:\u001b[39;00m\n\u001b[0;32m   (...)\u001b[0m\n\u001b[1;32m   1351\u001b[0m \u001b[38;5;124;03m        The OntologyEntity.\u001b[39;00m\n\u001b[1;32m   1352\u001b[0m \u001b[38;5;124;03m    \"\"\"\u001b[39;00m\n\u001b[0;32m-> 1353\u001b[0m     entity \u001b[38;5;241m=\u001b[39m \u001b[38;5;28;43mself\u001b[39;49m\u001b[38;5;241;43m.\u001b[39;49m\u001b[43mfrom_identifier\u001b[49m\u001b[43m(\u001b[49m\u001b[43midentifier\u001b[49m\u001b[43m)\u001b[49m\n\u001b[1;32m   1354\u001b[0m     \u001b[38;5;28;01mif\u001b[39;00m \u001b[38;5;129;01mnot\u001b[39;00m \u001b[38;5;28misinstance\u001b[39m(entity, typing):\n\u001b[1;32m   1355\u001b[0m         \u001b[38;5;28;01mraise\u001b[39;00m \u001b[38;5;167;01mTypeError\u001b[39;00m(\u001b[38;5;124mf\u001b[39m\u001b[38;5;124m\"\u001b[39m\u001b[38;5;132;01m{\u001b[39;00midentifier\u001b[38;5;132;01m}\u001b[39;00m\u001b[38;5;124m is not of class \u001b[39m\u001b[38;5;132;01m{\u001b[39;00mtyping\u001b[38;5;132;01m}\u001b[39;00m\u001b[38;5;124m.\u001b[39m\u001b[38;5;124m\"\u001b[39m)\n",
      "File \u001b[0;32m~/dev/simphony_4_git/simphony-osp/simphony_osp/utils/cache.py:30\u001b[0m, in \u001b[0;36mlru_cache_weak.<locals>.decorator.<locals>.wrapper\u001b[0;34m(self, *args, **kwargs)\u001b[0m\n\u001b[1;32m     28\u001b[0m \u001b[38;5;129m@wraps\u001b[39m(func)\n\u001b[1;32m     29\u001b[0m \u001b[38;5;28;01mdef\u001b[39;00m \u001b[38;5;21mwrapper\u001b[39m(\u001b[38;5;28mself\u001b[39m, \u001b[38;5;241m*\u001b[39margs, \u001b[38;5;241m*\u001b[39m\u001b[38;5;241m*\u001b[39mkwargs):\n\u001b[0;32m---> 30\u001b[0m     \u001b[38;5;28;01mreturn\u001b[39;00m \u001b[43m_cached\u001b[49m\u001b[43m(\u001b[49m\u001b[43mref\u001b[49m\u001b[43m(\u001b[49m\u001b[38;5;28;43mself\u001b[39;49m\u001b[43m)\u001b[49m\u001b[43m,\u001b[49m\u001b[43m \u001b[49m\u001b[38;5;241;43m*\u001b[39;49m\u001b[43margs\u001b[49m\u001b[43m,\u001b[49m\u001b[43m \u001b[49m\u001b[38;5;241;43m*\u001b[39;49m\u001b[38;5;241;43m*\u001b[39;49m\u001b[43mkwargs\u001b[49m\u001b[43m)\u001b[49m\n",
      "File \u001b[0;32m~/dev/simphony_4_git/simphony-osp/simphony_osp/utils/cache.py:26\u001b[0m, in \u001b[0;36mlru_cache_weak.<locals>.decorator.<locals>._cached\u001b[0;34m(_self_weak_ref, *args, **kwargs)\u001b[0m\n\u001b[1;32m     24\u001b[0m \u001b[38;5;129m@lru_cache\u001b[39m(maxsize\u001b[38;5;241m=\u001b[39mmaxsize, typed\u001b[38;5;241m=\u001b[39mtyped)\n\u001b[1;32m     25\u001b[0m \u001b[38;5;28;01mdef\u001b[39;00m \u001b[38;5;21m_cached\u001b[39m(_self_weak_ref, \u001b[38;5;241m*\u001b[39margs, \u001b[38;5;241m*\u001b[39m\u001b[38;5;241m*\u001b[39mkwargs):\n\u001b[0;32m---> 26\u001b[0m     \u001b[38;5;28;01mreturn\u001b[39;00m \u001b[43mfunc\u001b[49m\u001b[43m(\u001b[49m\u001b[43m_self_weak_ref\u001b[49m\u001b[43m(\u001b[49m\u001b[43m)\u001b[49m\u001b[43m,\u001b[49m\u001b[43m \u001b[49m\u001b[38;5;241;43m*\u001b[39;49m\u001b[43margs\u001b[49m\u001b[43m,\u001b[49m\u001b[43m \u001b[49m\u001b[38;5;241;43m*\u001b[39;49m\u001b[38;5;241;43m*\u001b[39;49m\u001b[43mkwargs\u001b[49m\u001b[43m)\u001b[49m\n",
      "File \u001b[0;32m~/dev/simphony_4_git/simphony-osp/simphony_osp/session/session.py:1321\u001b[0m, in \u001b[0;36mSession.from_identifier\u001b[0;34m(self, identifier)\u001b[0m\n\u001b[1;32m   1319\u001b[0m \u001b[38;5;250m\u001b[39m\u001b[38;5;124;03m\"\"\"Finally return the single compatible class or raise an exception.\"\"\"\u001b[39;00m\n\u001b[1;32m   1320\u001b[0m \u001b[38;5;28;01mif\u001b[39;00m \u001b[38;5;28mlen\u001b[39m(compatible) \u001b[38;5;241m>\u001b[39m\u001b[38;5;241m=\u001b[39m \u001b[38;5;241m2\u001b[39m:\n\u001b[0;32m-> 1321\u001b[0m     \u001b[38;5;28;01mraise\u001b[39;00m \u001b[38;5;167;01mRuntimeError\u001b[39;00m(\n\u001b[1;32m   1322\u001b[0m         \u001b[38;5;124mf\u001b[39m\u001b[38;5;124m\"\u001b[39m\u001b[38;5;124mTwo or more python classes (\u001b[39m\u001b[38;5;124m\"\u001b[39m\n\u001b[1;32m   1323\u001b[0m         \u001b[38;5;124mf\u001b[39m\u001b[38;5;124m\"\u001b[39m\u001b[38;5;132;01m{\u001b[39;00m\u001b[38;5;124m'\u001b[39m\u001b[38;5;124m, \u001b[39m\u001b[38;5;124m'\u001b[39m\u001b[38;5;241m.\u001b[39mjoin(\u001b[38;5;28mmap\u001b[39m(\u001b[38;5;28mstr\u001b[39m,\u001b[38;5;250m \u001b[39mcompatible))\u001b[38;5;132;01m}\u001b[39;00m\u001b[38;5;124m) \u001b[39m\u001b[38;5;124m\"\u001b[39m\n\u001b[1;32m   1324\u001b[0m         \u001b[38;5;124mf\u001b[39m\u001b[38;5;124m\"\u001b[39m\u001b[38;5;124mcould be spawned from \u001b[39m\u001b[38;5;132;01m{\u001b[39;00midentifier\u001b[38;5;132;01m}\u001b[39;00m\u001b[38;5;124m.\u001b[39m\u001b[38;5;124m\"\u001b[39m\n\u001b[1;32m   1325\u001b[0m     )\n\u001b[1;32m   1326\u001b[0m \u001b[38;5;28;01mtry\u001b[39;00m:\n\u001b[1;32m   1327\u001b[0m     python_class \u001b[38;5;241m=\u001b[39m compatible\u001b[38;5;241m.\u001b[39mpop()\n",
      "\u001b[0;31mRuntimeError\u001b[0m: Two or more python classes (<class 'simphony_osp.ontology.attribute.OntologyAttribute'>, <class 'simphony_osp.ontology.relationship.OntologyRelationship'>) could be spawned from http://xmlns.com/foaf/0.1/homepage."
     ]
    }
   ],
   "source": [
    "for i in session:\n",
    "    pretty_print(i)"
   ]
  },
  {
   "cell_type": "code",
   "execution_count": 17,
   "id": "5c7fab64",
   "metadata": {},
   "outputs": [
    {
     "data": {
      "text/plain": [
       "6"
      ]
     },
     "execution_count": 17,
     "metadata": {},
     "output_type": "execute_result"
    }
   ],
   "source": [
    "len(session)"
   ]
  },
  {
   "cell_type": "code",
   "execution_count": 18,
   "id": "02115e93",
   "metadata": {},
   "outputs": [],
   "source": [
    "str1=\"\""
   ]
  },
  {
   "cell_type": "code",
   "execution_count": 19,
   "id": "a353f4cc",
   "metadata": {},
   "outputs": [
    {
     "data": {
      "text/plain": [
       "'Freiburg'"
      ]
     },
     "execution_count": 19,
     "metadata": {},
     "output_type": "execute_result"
    }
   ],
   "source": [
    "freiburg.name\n"
   ]
  },
  {
   "cell_type": "code",
   "execution_count": 20,
   "id": "6783208b",
   "metadata": {},
   "outputs": [],
   "source": [
    "s=export_file( individuals_or_session=session,main = None,format  = \"application/ld+json\",    all_triples= True, all_statements= True)"
   ]
  },
  {
   "cell_type": "code",
   "execution_count": 21,
   "id": "0d728e90",
   "metadata": {},
   "outputs": [
    {
     "name": "stdout",
     "output_type": "stream",
     "text": [
      "[\n",
      "  {\n",
      "    \"@id\": \"https://www.simphony-osp.eu/entity#71253f0a-9ba5-4c83-8b69-d347c30d5a5b\",\n",
      "    \"@type\": [\n",
      "      \"https://www.simphony-osp.eu/city#Neighborhood\"\n",
      "    ],\n",
      "    \"https://www.simphony-osp.eu/city#coordinates\": [\n",
      "      {\n",
      "        \"@type\": \"https://www.simphony-osp.eu/types#Vector\",\n",
      "        \"@value\": \"13YFp0RR93>yVq_1^`Gv#9Dj`fN>u{\"\n",
      "      }\n",
      "    ],\n",
      "    \"https://www.simphony-osp.eu/city#name\": [\n",
      "      {\n",
      "        \"@value\": \"Neuburg\"\n",
      "      }\n",
      "    ]\n",
      "  },\n",
      "  {\n",
      "    \"@id\": \"https://www.simphony-osp.eu/entity#259ba6a5-4ce6-4494-a038-cea7b870e376\",\n",
      "    \"@type\": [\n",
      "      \"https://www.simphony-osp.eu/city#Neighborhood\"\n",
      "    ],\n",
      "    \"https://www.simphony-osp.eu/city#coordinates\": [\n",
      "      {\n",
      "        \"@type\": \"https://www.simphony-osp.eu/types#Vector\",\n",
      "        \"@value\": \"13YFp0RR93FrGm}{{TopGpEa9Vsjrr\"\n",
      "      }\n",
      "    ],\n",
      "    \"https://www.simphony-osp.eu/city#name\": [\n",
      "      {\n",
      "        \"@value\": \"Herdern\"\n",
      "      }\n",
      "    ]\n",
      "  },\n",
      "  {\n",
      "    \"@id\": \"https://www.simphony-osp.eu/entity#6b46a972-7227-40af-9d2a-b97fd176ee7a\",\n",
      "    \"@type\": [\n",
      "      \"https://www.simphony-osp.eu/city#City\"\n",
      "    ],\n",
      "    \"https://www.simphony-osp.eu/city#coordinates\": [\n",
      "      {\n",
      "        \"@type\": \"https://www.simphony-osp.eu/types#Vector\",\n",
      "        \"@value\": \"13YFp0RR93AD@t&xBo{#)k4YS)LtJz\"\n",
      "      }\n",
      "    ],\n",
      "    \"https://www.simphony-osp.eu/city#hasPart\": [\n",
      "      {\n",
      "        \"@id\": \"https://www.simphony-osp.eu/entity#259ba6a5-4ce6-4494-a038-cea7b870e376\"\n",
      "      },\n",
      "      {\n",
      "        \"@id\": \"https://www.simphony-osp.eu/entity#71253f0a-9ba5-4c83-8b69-d347c30d5a5b\"\n",
      "      },\n",
      "      {\n",
      "        \"@id\": \"https://www.simphony-osp.eu/entity#ab80de8e-a283-4af3-b7e1-7da11d5a7228\"\n",
      "      },\n",
      "      {\n",
      "        \"@id\": \"https://www.simphony-osp.eu/entity#1d6fd8ad-b3ae-406e-897d-ebacd07044e9\"\n",
      "      },\n",
      "      {\n",
      "        \"@id\": \"https://www.simphony-osp.eu/entity#d313ade1-0c28-40bb-852a-8ce843ea3c5b\"\n",
      "      }\n",
      "    ],\n",
      "    \"https://www.simphony-osp.eu/city#name\": [\n",
      "      {\n",
      "        \"@value\": \"Freiburg\"\n",
      "      }\n",
      "    ]\n",
      "  },\n",
      "  {\n",
      "    \"@id\": \"https://www.simphony-osp.eu/entity#1d6fd8ad-b3ae-406e-897d-ebacd07044e9\",\n",
      "    \"@type\": [\n",
      "      \"https://www.simphony-osp.eu/city#Neighborhood\"\n",
      "    ],\n",
      "    \"https://www.simphony-osp.eu/city#coordinates\": [\n",
      "      {\n",
      "        \"@type\": \"https://www.simphony-osp.eu/types#Vector\",\n",
      "        \"@value\": \"13YFp0RR93a!|rd+y6&EL^QgC*jXPy\"\n",
      "      }\n",
      "    ],\n",
      "    \"https://www.simphony-osp.eu/city#name\": [\n",
      "      {\n",
      "        \"@value\": \"Stühlinger\"\n",
      "      }\n",
      "    ]\n",
      "  },\n",
      "  {\n",
      "    \"@id\": \"https://www.simphony-osp.eu/entity#ab80de8e-a283-4af3-b7e1-7da11d5a7228\",\n",
      "    \"@type\": [\n",
      "      \"https://www.simphony-osp.eu/city#Neighborhood\"\n",
      "    ],\n",
      "    \"https://www.simphony-osp.eu/city#coordinates\": [\n",
      "      {\n",
      "        \"@type\": \"https://www.simphony-osp.eu/types#Vector\",\n",
      "        \"@value\": \"13YFp0RR93;GrncCjv-7tQ=ZoJ6|6_\"\n",
      "      }\n",
      "    ],\n",
      "    \"https://www.simphony-osp.eu/city#name\": [\n",
      "      {\n",
      "        \"@value\": \"Brühl\"\n",
      "      }\n",
      "    ]\n",
      "  },\n",
      "  {\n",
      "    \"@id\": \"https://www.simphony-osp.eu/entity#d313ade1-0c28-40bb-852a-8ce843ea3c5b\",\n",
      "    \"@type\": [\n",
      "      \"https://www.simphony-osp.eu/city#Neighborhood\"\n",
      "    ],\n",
      "    \"https://www.simphony-osp.eu/city#coordinates\": [\n",
      "      {\n",
      "        \"@type\": \"https://www.simphony-osp.eu/types#Vector\",\n",
      "        \"@value\": \"13YFp0RR932&^1hWdBD%`qdmDm}4J6\"\n",
      "      }\n",
      "    ],\n",
      "    \"https://www.simphony-osp.eu/city#name\": [\n",
      "      {\n",
      "        \"@value\": \"Altstadt\"\n",
      "      }\n",
      "    ]\n",
      "  }\n",
      "]\n"
     ]
    }
   ],
   "source": [
    "print(s)"
   ]
  },
  {
   "cell_type": "code",
   "execution_count": 22,
   "id": "bfa47de1",
   "metadata": {},
   "outputs": [
    {
     "data": {
      "text/plain": [
       "[<OntologyIndividual: 6b46a972-7227-40af-9d2a-b97fd176ee7a>,\n",
       " <OntologyIndividual: d313ade1-0c28-40bb-852a-8ce843ea3c5b>,\n",
       " <OntologyIndividual: 1d6fd8ad-b3ae-406e-897d-ebacd07044e9>,\n",
       " <OntologyIndividual: 71253f0a-9ba5-4c83-8b69-d347c30d5a5b>,\n",
       " <OntologyIndividual: 259ba6a5-4ce6-4494-a038-cea7b870e376>,\n",
       " <OntologyIndividual: ab80de8e-a283-4af3-b7e1-7da11d5a7228>,\n",
       " <OntologyIndividual: 692210ed-9fb1-4310-9a06-fbe3e2ec0a5c>,\n",
       " <OntologyIndividual: 4d7abafe-8f29-43a0-80cf-0a69d110158d>]"
      ]
     },
     "execution_count": 22,
     "metadata": {},
     "output_type": "execute_result"
    }
   ],
   "source": [
    "list(core_session)"
   ]
  },
  {
   "cell_type": "code",
   "execution_count": 23,
   "id": "cd2bf429",
   "metadata": {},
   "outputs": [
    {
     "data": {
      "text/plain": [
       "<OntologyIndividual: 692210ed-9fb1-4310-9a06-fbe3e2ec0a5c>"
      ]
     },
     "execution_count": 23,
     "metadata": {},
     "output_type": "execute_result"
    }
   ],
   "source": [
    "core_session.get(citizen_1 )"
   ]
  },
  {
   "cell_type": "code",
   "execution_count": 24,
   "id": "63730a42",
   "metadata": {},
   "outputs": [],
   "source": [
    "from simphony_osp.namespaces import city, owl, rdfs\n",
    "from simphony_osp.session import core_session\n",
    "\n",
    "# Create a city called \"Freiburg\"\n",
    "freiburg = city.City(name=\"Freiburg\", coordinates=[47.997791, 7.842609])\n",
    "freiburg_neighborhoods = [\n",
    "    city.Neighborhood(name=name, coordinates=coordinates)\n",
    "    for name, coordinates in [\n",
    "        ('Altstadt', [47.99525, 7.84726]),\n",
    "        ('Stühlinger', [47.99888, 7.83774]),\n",
    "        ('Neuburg', [48.00021, 7.86084]),\n",
    "        ('Herdern', [48.00779, 7.86268]),\n",
    "        ('Brühl', [48.01684, 7.843]),\n",
    "    ]\n",
    "]\n",
    "freiburg_citizens = {\n",
    "    city.Citizen(name='Nikola', age=35,\n",
    "                 iri=\"http://example.org/entities#Nikola\"),\n",
    "    city.Citizen(name='Lena', age=70,\n",
    "                 iri=\"http://example.org/entities#Lena\"),\n",
    "}\n",
    "freiburg[city.hasPart] |= freiburg_neighborhoods\n",
    "freiburg[city.hasInhabitant] |= freiburg_citizens\n",
    "\n",
    "# Create a city called \"Paris\"\n",
    "paris = city.City(name=\"Paris\", coordinates=[48.85333, 2.34885])\n",
    "paris_neighborhoods = {\n",
    "    city.Neighborhood(name=name, coordinates=coordinates)\n",
    "    for name, coordinates in [\n",
    "        ('Louvre', [48.86466, 2.33487]),\n",
    "        ('Bourse', [48.86864, 2.34146]),\n",
    "        ('Temple', [48.86101, 2.36037]),\n",
    "        ('Hôtel-de-Ville', [48.85447, 2.35902]),\n",
    "        ('Panthéon', [48.84466, 2.3471]),\n",
    "    ]\n",
    "}\n",
    "paris_citizens = {\n",
    "    city.Citizen(name='François', age=32)\n",
    "}\n",
    "paris[city.hasPart] |= paris_neighborhoods\n",
    "paris[city.hasInhabitant] = paris_citizens"
   ]
  },
  {
   "cell_type": "code",
   "execution_count": 25,
   "id": "1cb45ebf",
   "metadata": {},
   "outputs": [
    {
     "data": {
      "image/svg+xml": [
       "<?xml version=\"1.0\" encoding=\"UTF-8\" standalone=\"no\"?>\n",
       "<!DOCTYPE svg PUBLIC \"-//W3C//DTD SVG 1.1//EN\"\n",
       " \"http://www.w3.org/Graphics/SVG/1.1/DTD/svg11.dtd\">\n",
       "<!-- Generated by graphviz version 8.0.5 (20230430.1635)\n",
       " -->\n",
       "<!-- Title: SimPhoNy semantic2dot Pages: 1 -->\n",
       "<svg width=\"3901pt\" height=\"407pt\"\n",
       " viewBox=\"0.00 0.00 3901.38 406.98\" xmlns=\"http://www.w3.org/2000/svg\" xmlns:xlink=\"http://www.w3.org/1999/xlink\">\n",
       "<g id=\"graph0\" class=\"graph\" transform=\"scale(1 1) rotate(0) translate(4 402.98)\">\n",
       "<title>SimPhoNy semantic2dot</title>\n",
       "<polygon fill=\"white\" stroke=\"none\" points=\"-4,4 -4,-402.98 3897.38,-402.98 3897.38,4 -4,4\"/>\n",
       "<!-- https___www.simphony&#45;osp.eu_entity#0e56ff32&#45;7d95&#45;4690&#45;8424&#45;d2f60bdb8e8f -->\n",
       "<g id=\"node1\" class=\"node\">\n",
       "<title>https___www.simphony&#45;osp.eu_entity#0e56ff32&#45;7d95&#45;4690&#45;8424&#45;d2f60bdb8e8f</title>\n",
       "<ellipse fill=\"lightblue\" stroke=\"lightblue\" cx=\"141.07\" cy=\"-86.62\" rx=\"141.07\" ry=\"86.62\"/>\n",
       "<text text-anchor=\"start\" x=\"102.44\" y=\"-126.57\" font-family=\"Times,serif\" font-size=\"14.00\">0e56ff32...e8f</text>\n",
       "<text text-anchor=\"start\" x=\"63.07\" y=\"-104.07\" font-family=\"Times,serif\" font-size=\"14.00\">classes: Neighborhood (city)</text>\n",
       "<text text-anchor=\"start\" x=\"106.94\" y=\"-81.57\" font-family=\"Times,serif\" font-size=\"14.00\">name: Brühl</text>\n",
       "<text text-anchor=\"start\" x=\"53.32\" y=\"-59.07\" font-family=\"Times,serif\" font-size=\"14.00\">coordinates: [48.01684 &#160;7.843 &#160;]</text>\n",
       "<text text-anchor=\"start\" x=\"81.07\" y=\"-36.57\" font-family=\"Times,serif\" font-size=\"14.00\">session: 0x113630be0</text>\n",
       "</g>\n",
       "<!-- https___www.simphony&#45;osp.eu_entity#5b127b18&#45;d26d&#45;4c3e&#45;ab6c&#45;a4e2d9a5448e -->\n",
       "<g id=\"node2\" class=\"node\">\n",
       "<title>https___www.simphony&#45;osp.eu_entity#5b127b18&#45;d26d&#45;4c3e&#45;ab6c&#45;a4e2d9a5448e</title>\n",
       "<ellipse fill=\"lightblue\" stroke=\"lightblue\" cx=\"2297.07\" cy=\"-86.62\" rx=\"145.31\" ry=\"86.62\"/>\n",
       "<text text-anchor=\"start\" x=\"2254.69\" y=\"-126.57\" font-family=\"Times,serif\" font-size=\"14.00\">5b127b18...48e</text>\n",
       "<text text-anchor=\"start\" x=\"2219.07\" y=\"-104.07\" font-family=\"Times,serif\" font-size=\"14.00\">classes: Neighborhood (city)</text>\n",
       "<text text-anchor=\"start\" x=\"2238.94\" y=\"-81.57\" font-family=\"Times,serif\" font-size=\"14.00\">name: Hôtel&#45;de&#45;Ville</text>\n",
       "<text text-anchor=\"start\" x=\"2206.32\" y=\"-59.07\" font-family=\"Times,serif\" font-size=\"14.00\">coordinates: [48.85447 &#160;2.35902]</text>\n",
       "<text text-anchor=\"start\" x=\"2237.07\" y=\"-36.57\" font-family=\"Times,serif\" font-size=\"14.00\">session: 0x113630be0</text>\n",
       "</g>\n",
       "<!-- https___www.simphony&#45;osp.eu_entity#d568d42c&#45;4cd2&#45;45c4&#45;afd9&#45;2bf74d4197e6 -->\n",
       "<g id=\"node3\" class=\"node\">\n",
       "<title>https___www.simphony&#45;osp.eu_entity#d568d42c&#45;4cd2&#45;45c4&#45;afd9&#45;2bf74d4197e6</title>\n",
       "<ellipse fill=\"lightblue\" stroke=\"lightblue\" cx=\"2606.07\" cy=\"-86.62\" rx=\"145.31\" ry=\"86.62\"/>\n",
       "<text text-anchor=\"start\" x=\"2564.07\" y=\"-126.57\" font-family=\"Times,serif\" font-size=\"14.00\">d568d42c...7e6</text>\n",
       "<text text-anchor=\"start\" x=\"2528.07\" y=\"-104.07\" font-family=\"Times,serif\" font-size=\"14.00\">classes: Neighborhood (city)</text>\n",
       "<text text-anchor=\"start\" x=\"2567.82\" y=\"-81.57\" font-family=\"Times,serif\" font-size=\"14.00\">name: Louvre</text>\n",
       "<text text-anchor=\"start\" x=\"2515.32\" y=\"-59.07\" font-family=\"Times,serif\" font-size=\"14.00\">coordinates: [48.86466 &#160;2.33487]</text>\n",
       "<text text-anchor=\"start\" x=\"2546.07\" y=\"-36.57\" font-family=\"Times,serif\" font-size=\"14.00\">session: 0x113630be0</text>\n",
       "</g>\n",
       "<!-- https___www.simphony&#45;osp.eu_entity#8006c9c0&#45;6fb2&#45;4074&#45;85a8&#45;4dae2484894e -->\n",
       "<g id=\"node4\" class=\"node\">\n",
       "<title>https___www.simphony&#45;osp.eu_entity#8006c9c0&#45;6fb2&#45;4074&#45;85a8&#45;4dae2484894e</title>\n",
       "<ellipse fill=\"lightblue\" stroke=\"lightblue\" cx=\"445.07\" cy=\"-86.62\" rx=\"145.31\" ry=\"86.62\"/>\n",
       "<text text-anchor=\"start\" x=\"403.44\" y=\"-126.57\" font-family=\"Times,serif\" font-size=\"14.00\">8006c9c0...94e</text>\n",
       "<text text-anchor=\"start\" x=\"367.07\" y=\"-104.07\" font-family=\"Times,serif\" font-size=\"14.00\">classes: Neighborhood (city)</text>\n",
       "<text text-anchor=\"start\" x=\"405.32\" y=\"-81.57\" font-family=\"Times,serif\" font-size=\"14.00\">name: Altstadt</text>\n",
       "<text text-anchor=\"start\" x=\"354.32\" y=\"-59.07\" font-family=\"Times,serif\" font-size=\"14.00\">coordinates: [47.99525 &#160;7.84726]</text>\n",
       "<text text-anchor=\"start\" x=\"385.07\" y=\"-36.57\" font-family=\"Times,serif\" font-size=\"14.00\">session: 0x113630be0</text>\n",
       "</g>\n",
       "<!-- https___www.simphony&#45;osp.eu_entity#46045725&#45;dc27&#45;4dd6&#45;861a&#45;bab002167681 -->\n",
       "<g id=\"node5\" class=\"node\">\n",
       "<title>https___www.simphony&#45;osp.eu_entity#46045725&#45;dc27&#45;4dd6&#45;861a&#45;bab002167681</title>\n",
       "<ellipse fill=\"lightblue\" stroke=\"lightblue\" cx=\"2871.07\" cy=\"-86.62\" rx=\"101.82\" ry=\"86.62\"/>\n",
       "<text text-anchor=\"start\" x=\"2828.32\" y=\"-126.57\" font-family=\"Times,serif\" font-size=\"14.00\">46045725...681</text>\n",
       "<text text-anchor=\"start\" x=\"2812.57\" y=\"-104.07\" font-family=\"Times,serif\" font-size=\"14.00\">classes: Citizen (city)</text>\n",
       "<text text-anchor=\"start\" x=\"2851.19\" y=\"-81.57\" font-family=\"Times,serif\" font-size=\"14.00\">age: 32</text>\n",
       "<text text-anchor=\"start\" x=\"2829.07\" y=\"-59.07\" font-family=\"Times,serif\" font-size=\"14.00\">name: François</text>\n",
       "<text text-anchor=\"start\" x=\"2811.07\" y=\"-36.57\" font-family=\"Times,serif\" font-size=\"14.00\">session: 0x113630be0</text>\n",
       "</g>\n",
       "<!-- http___example.org_entities#Lena -->\n",
       "<g id=\"node6\" class=\"node\">\n",
       "<title>http___example.org_entities#Lena</title>\n",
       "<ellipse fill=\"lightblue\" stroke=\"lightblue\" cx=\"750.07\" cy=\"-86.62\" rx=\"142.13\" ry=\"86.62\"/>\n",
       "<text text-anchor=\"start\" x=\"661.57\" y=\"-126.57\" font-family=\"Times,serif\" font-size=\"14.00\">http://example.org/entities#Lena</text>\n",
       "<text text-anchor=\"start\" x=\"691.57\" y=\"-104.07\" font-family=\"Times,serif\" font-size=\"14.00\">classes: Citizen (city)</text>\n",
       "<text text-anchor=\"start\" x=\"717.82\" y=\"-81.57\" font-family=\"Times,serif\" font-size=\"14.00\">name: Lena</text>\n",
       "<text text-anchor=\"start\" x=\"730.19\" y=\"-59.07\" font-family=\"Times,serif\" font-size=\"14.00\">age: 70</text>\n",
       "<text text-anchor=\"start\" x=\"690.07\" y=\"-36.57\" font-family=\"Times,serif\" font-size=\"14.00\">session: 0x113630be0</text>\n",
       "</g>\n",
       "<!-- https___www.simphony&#45;osp.eu_entity#e81af5ee&#45;3f22&#45;4a2c&#45;87b9&#45;06d406e90a02 -->\n",
       "<g id=\"node7\" class=\"node\">\n",
       "<title>https___www.simphony&#45;osp.eu_entity#e81af5ee&#45;3f22&#45;4a2c&#45;87b9&#45;06d406e90a02</title>\n",
       "<ellipse fill=\"lightblue\" stroke=\"lightblue\" cx=\"1055.07\" cy=\"-86.62\" rx=\"145.31\" ry=\"86.62\"/>\n",
       "<text text-anchor=\"start\" x=\"1015.32\" y=\"-126.57\" font-family=\"Times,serif\" font-size=\"14.00\">e81af5ee...a02</text>\n",
       "<text text-anchor=\"start\" x=\"977.07\" y=\"-104.07\" font-family=\"Times,serif\" font-size=\"14.00\">classes: Neighborhood (city)</text>\n",
       "<text text-anchor=\"start\" x=\"964.32\" y=\"-81.57\" font-family=\"Times,serif\" font-size=\"14.00\">coordinates: [47.99888 &#160;7.83774]</text>\n",
       "<text text-anchor=\"start\" x=\"1008.19\" y=\"-59.07\" font-family=\"Times,serif\" font-size=\"14.00\">name: Stühlinger</text>\n",
       "<text text-anchor=\"start\" x=\"995.07\" y=\"-36.57\" font-family=\"Times,serif\" font-size=\"14.00\">session: 0x113630be0</text>\n",
       "</g>\n",
       "<!-- http___example.org_entities#Nikola -->\n",
       "<g id=\"node8\" class=\"node\">\n",
       "<title>http___example.org_entities#Nikola</title>\n",
       "<ellipse fill=\"lightblue\" stroke=\"lightblue\" cx=\"1367.07\" cy=\"-86.62\" rx=\"149.02\" ry=\"86.62\"/>\n",
       "<text text-anchor=\"start\" x=\"1273.69\" y=\"-126.57\" font-family=\"Times,serif\" font-size=\"14.00\">http://example.org/entities#Nikola</text>\n",
       "<text text-anchor=\"start\" x=\"1308.57\" y=\"-104.07\" font-family=\"Times,serif\" font-size=\"14.00\">classes: Citizen (city)</text>\n",
       "<text text-anchor=\"start\" x=\"1347.19\" y=\"-81.57\" font-family=\"Times,serif\" font-size=\"14.00\">age: 35</text>\n",
       "<text text-anchor=\"start\" x=\"1329.94\" y=\"-59.07\" font-family=\"Times,serif\" font-size=\"14.00\">name: Nikola</text>\n",
       "<text text-anchor=\"start\" x=\"1307.07\" y=\"-36.57\" font-family=\"Times,serif\" font-size=\"14.00\">session: 0x113630be0</text>\n",
       "</g>\n",
       "<!-- https___www.simphony&#45;osp.eu_entity#b0250a68&#45;63a3&#45;496a&#45;8692&#45;f4ad9d3cc467 -->\n",
       "<g id=\"node9\" class=\"node\">\n",
       "<title>https___www.simphony&#45;osp.eu_entity#b0250a68&#45;63a3&#45;496a&#45;8692&#45;f4ad9d3cc467</title>\n",
       "<ellipse fill=\"lightblue\" stroke=\"lightblue\" cx=\"3136.07\" cy=\"-86.62\" rx=\"145.31\" ry=\"86.62\"/>\n",
       "<text text-anchor=\"start\" x=\"3093.69\" y=\"-126.57\" font-family=\"Times,serif\" font-size=\"14.00\">b0250a68...467</text>\n",
       "<text text-anchor=\"start\" x=\"3058.07\" y=\"-104.07\" font-family=\"Times,serif\" font-size=\"14.00\">classes: Neighborhood (city)</text>\n",
       "<text text-anchor=\"start\" x=\"3096.69\" y=\"-81.57\" font-family=\"Times,serif\" font-size=\"14.00\">name: Temple</text>\n",
       "<text text-anchor=\"start\" x=\"3045.32\" y=\"-59.07\" font-family=\"Times,serif\" font-size=\"14.00\">coordinates: [48.86101 &#160;2.36037]</text>\n",
       "<text text-anchor=\"start\" x=\"3076.07\" y=\"-36.57\" font-family=\"Times,serif\" font-size=\"14.00\">session: 0x113630be0</text>\n",
       "</g>\n",
       "<!-- https___www.simphony&#45;osp.eu_entity#c3887bb1&#45;1490&#45;4b38&#45;9610&#45;f95cfa4ed822 -->\n",
       "<g id=\"node10\" class=\"node\">\n",
       "<title>https___www.simphony&#45;osp.eu_entity#c3887bb1&#45;1490&#45;4b38&#45;9610&#45;f95cfa4ed822</title>\n",
       "<ellipse fill=\"lightblue\" stroke=\"lightblue\" cx=\"1679.07\" cy=\"-86.62\" rx=\"145.31\" ry=\"86.62\"/>\n",
       "<text text-anchor=\"start\" x=\"1636.69\" y=\"-126.57\" font-family=\"Times,serif\" font-size=\"14.00\">c3887bb1...822</text>\n",
       "<text text-anchor=\"start\" x=\"1601.07\" y=\"-104.07\" font-family=\"Times,serif\" font-size=\"14.00\">classes: Neighborhood (city)</text>\n",
       "<text text-anchor=\"start\" x=\"1638.19\" y=\"-81.57\" font-family=\"Times,serif\" font-size=\"14.00\">name: Herdern</text>\n",
       "<text text-anchor=\"start\" x=\"1588.32\" y=\"-59.07\" font-family=\"Times,serif\" font-size=\"14.00\">coordinates: [48.00779 &#160;7.86268]</text>\n",
       "<text text-anchor=\"start\" x=\"1619.07\" y=\"-36.57\" font-family=\"Times,serif\" font-size=\"14.00\">session: 0x113630be0</text>\n",
       "</g>\n",
       "<!-- https___www.simphony&#45;osp.eu_entity#83c93fb8&#45;29bf&#45;47ef&#45;8b86&#45;1be787ba4089 -->\n",
       "<g id=\"node11\" class=\"node\">\n",
       "<title>https___www.simphony&#45;osp.eu_entity#83c93fb8&#45;29bf&#45;47ef&#45;8b86&#45;1be787ba4089</title>\n",
       "<ellipse fill=\"lightblue\" stroke=\"lightblue\" cx=\"3442.07\" cy=\"-86.62\" rx=\"143.19\" ry=\"86.62\"/>\n",
       "<text text-anchor=\"start\" x=\"3400.82\" y=\"-126.57\" font-family=\"Times,serif\" font-size=\"14.00\">83c93fb8...089</text>\n",
       "<text text-anchor=\"start\" x=\"3364.07\" y=\"-104.07\" font-family=\"Times,serif\" font-size=\"14.00\">classes: Neighborhood (city)</text>\n",
       "<text text-anchor=\"start\" x=\"3352.82\" y=\"-81.57\" font-family=\"Times,serif\" font-size=\"14.00\">coordinates: [48.84466 &#160;2.3471 ]</text>\n",
       "<text text-anchor=\"start\" x=\"3398.19\" y=\"-59.07\" font-family=\"Times,serif\" font-size=\"14.00\">name: Panthéon</text>\n",
       "<text text-anchor=\"start\" x=\"3382.07\" y=\"-36.57\" font-family=\"Times,serif\" font-size=\"14.00\">session: 0x113630be0</text>\n",
       "</g>\n",
       "<!-- https___www.simphony&#45;osp.eu_entity#ddf4d1b0&#45;2d56&#45;4bec&#45;9810&#45;c8c57059ce7f -->\n",
       "<g id=\"node12\" class=\"node\">\n",
       "<title>https___www.simphony&#45;osp.eu_entity#ddf4d1b0&#45;2d56&#45;4bec&#45;9810&#45;c8c57059ce7f</title>\n",
       "<ellipse fill=\"lightblue\" stroke=\"lightblue\" cx=\"1988.07\" cy=\"-86.62\" rx=\"145.31\" ry=\"86.62\"/>\n",
       "<text text-anchor=\"start\" x=\"1947.94\" y=\"-126.57\" font-family=\"Times,serif\" font-size=\"14.00\">ddf4d1b0...e7f</text>\n",
       "<text text-anchor=\"start\" x=\"1910.07\" y=\"-104.07\" font-family=\"Times,serif\" font-size=\"14.00\">classes: Neighborhood (city)</text>\n",
       "<text text-anchor=\"start\" x=\"1897.32\" y=\"-81.57\" font-family=\"Times,serif\" font-size=\"14.00\">coordinates: [48.00021 &#160;7.86084]</text>\n",
       "<text text-anchor=\"start\" x=\"1945.69\" y=\"-59.07\" font-family=\"Times,serif\" font-size=\"14.00\">name: Neuburg</text>\n",
       "<text text-anchor=\"start\" x=\"1928.07\" y=\"-36.57\" font-family=\"Times,serif\" font-size=\"14.00\">session: 0x113630be0</text>\n",
       "</g>\n",
       "<!-- https___www.simphony&#45;osp.eu_entity#8fe5ba6c&#45;2c8d&#45;4499&#45;9a26&#45;496fcbeef3d5 -->\n",
       "<g id=\"node13\" class=\"node\">\n",
       "<title>https___www.simphony&#45;osp.eu_entity#8fe5ba6c&#45;2c8d&#45;4499&#45;9a26&#45;496fcbeef3d5</title>\n",
       "<ellipse fill=\"lightblue\" stroke=\"lightblue\" cx=\"3748.07\" cy=\"-86.62\" rx=\"145.31\" ry=\"86.62\"/>\n",
       "<text text-anchor=\"start\" x=\"3707.57\" y=\"-126.57\" font-family=\"Times,serif\" font-size=\"14.00\">8fe5ba6c...3d5</text>\n",
       "<text text-anchor=\"start\" x=\"3670.07\" y=\"-104.07\" font-family=\"Times,serif\" font-size=\"14.00\">classes: Neighborhood (city)</text>\n",
       "<text text-anchor=\"start\" x=\"3657.32\" y=\"-81.57\" font-family=\"Times,serif\" font-size=\"14.00\">coordinates: [48.86864 &#160;2.34146]</text>\n",
       "<text text-anchor=\"start\" x=\"3710.19\" y=\"-59.07\" font-family=\"Times,serif\" font-size=\"14.00\">name: Bourse</text>\n",
       "<text text-anchor=\"start\" x=\"3688.07\" y=\"-36.57\" font-family=\"Times,serif\" font-size=\"14.00\">session: 0x113630be0</text>\n",
       "</g>\n",
       "<!-- https___www.simphony&#45;osp.eu_entity#c3ca93d5&#45;3fd2&#45;4bbc&#45;bc2c&#45;994a69553f7a -->\n",
       "<g id=\"node14\" class=\"node\">\n",
       "<title>https___www.simphony&#45;osp.eu_entity#c3ca93d5&#45;3fd2&#45;4bbc&#45;bc2c&#45;994a69553f7a</title>\n",
       "<ellipse fill=\"lightblue\" stroke=\"lightblue\" cx=\"1055.07\" cy=\"-312.36\" rx=\"154.86\" ry=\"86.62\"/>\n",
       "<text text-anchor=\"start\" x=\"1014.94\" y=\"-352.31\" font-family=\"Times,serif\" font-size=\"14.00\">c3ca93d5...f7a</text>\n",
       "<text text-anchor=\"start\" x=\"1004.44\" y=\"-329.81\" font-family=\"Times,serif\" font-size=\"14.00\">classes: City (city)</text>\n",
       "<text text-anchor=\"start\" x=\"957.57\" y=\"-307.31\" font-family=\"Times,serif\" font-size=\"14.00\">coordinates: [47.997791 &#160;7.842609]</text>\n",
       "<text text-anchor=\"start\" x=\"1013.07\" y=\"-284.81\" font-family=\"Times,serif\" font-size=\"14.00\">name: Freiburg</text>\n",
       "<text text-anchor=\"start\" x=\"995.07\" y=\"-262.31\" font-family=\"Times,serif\" font-size=\"14.00\">session: 0x113630be0</text>\n",
       "</g>\n",
       "<!-- https___www.simphony&#45;osp.eu_entity#c3ca93d5&#45;3fd2&#45;4bbc&#45;bc2c&#45;994a69553f7a&#45;&gt;https___www.simphony&#45;osp.eu_entity#0e56ff32&#45;7d95&#45;4690&#45;8424&#45;d2f60bdb8e8f -->\n",
       "<g id=\"edge2\" class=\"edge\">\n",
       "<title>https___www.simphony&#45;osp.eu_entity#c3ca93d5&#45;3fd2&#45;4bbc&#45;bc2c&#45;994a69553f7a&#45;&gt;https___www.simphony&#45;osp.eu_entity#0e56ff32&#45;7d95&#45;4690&#45;8424&#45;d2f60bdb8e8f</title>\n",
       "<path fill=\"none\" stroke=\"black\" d=\"M901.78,-299.05C744.61,-282.91 495.01,-247.4 291.07,-173.24 276.76,-168.04 262.22,-161.53 248.11,-154.44\"/>\n",
       "<polygon fill=\"black\" stroke=\"black\" points=\"249.92,-150.91 239.42,-149.45 246.71,-157.14 249.92,-150.91\"/>\n",
       "<text text-anchor=\"middle\" x=\"429.94\" y=\"-194.44\" font-family=\"Times,serif\" font-size=\"14.00\">has part (city)</text>\n",
       "</g>\n",
       "<!-- https___www.simphony&#45;osp.eu_entity#c3ca93d5&#45;3fd2&#45;4bbc&#45;bc2c&#45;994a69553f7a&#45;&gt;https___www.simphony&#45;osp.eu_entity#8006c9c0&#45;6fb2&#45;4074&#45;85a8&#45;4dae2484894e -->\n",
       "<g id=\"edge6\" class=\"edge\">\n",
       "<title>https___www.simphony&#45;osp.eu_entity#c3ca93d5&#45;3fd2&#45;4bbc&#45;bc2c&#45;994a69553f7a&#45;&gt;https___www.simphony&#45;osp.eu_entity#8006c9c0&#45;6fb2&#45;4074&#45;85a8&#45;4dae2484894e</title>\n",
       "<path fill=\"none\" stroke=\"black\" d=\"M913.39,-276.82C821.95,-252.5 701.41,-216.6 599.07,-173.24 585.22,-167.37 571.02,-160.6 557.1,-153.49\"/>\n",
       "<polygon fill=\"black\" stroke=\"black\" points=\"559,-150.02 548.52,-148.52 555.78,-156.23 559,-150.02\"/>\n",
       "<text text-anchor=\"middle\" x=\"721.94\" y=\"-194.44\" font-family=\"Times,serif\" font-size=\"14.00\">has part (city)</text>\n",
       "</g>\n",
       "<!-- https___www.simphony&#45;osp.eu_entity#c3ca93d5&#45;3fd2&#45;4bbc&#45;bc2c&#45;994a69553f7a&#45;&gt;http___example.org_entities#Lena -->\n",
       "<g id=\"edge3\" class=\"edge\">\n",
       "<title>https___www.simphony&#45;osp.eu_entity#c3ca93d5&#45;3fd2&#45;4bbc&#45;bc2c&#45;994a69553f7a&#45;&gt;http___example.org_entities#Lena</title>\n",
       "<path fill=\"none\" stroke=\"black\" d=\"M961.9,-243.02C926.14,-216.78 885.22,-186.77 848.94,-160.15\"/>\n",
       "<polygon fill=\"black\" stroke=\"black\" points=\"851.44,-156.91 841.31,-153.82 847.3,-162.56 851.44,-156.91\"/>\n",
       "<text text-anchor=\"middle\" x=\"966.44\" y=\"-194.44\" font-family=\"Times,serif\" font-size=\"14.00\">has inhabitant (city)</text>\n",
       "</g>\n",
       "<!-- https___www.simphony&#45;osp.eu_entity#c3ca93d5&#45;3fd2&#45;4bbc&#45;bc2c&#45;994a69553f7a&#45;&gt;https___www.simphony&#45;osp.eu_entity#e81af5ee&#45;3f22&#45;4a2c&#45;87b9&#45;06d406e90a02 -->\n",
       "<g id=\"edge7\" class=\"edge\">\n",
       "<title>https___www.simphony&#45;osp.eu_entity#c3ca93d5&#45;3fd2&#45;4bbc&#45;bc2c&#45;994a69553f7a&#45;&gt;https___www.simphony&#45;osp.eu_entity#e81af5ee&#45;3f22&#45;4a2c&#45;87b9&#45;06d406e90a02</title>\n",
       "<path fill=\"none\" stroke=\"black\" d=\"M1055.07,-225.5C1055.07,-212.08 1055.07,-198.13 1055.07,-184.49\"/>\n",
       "<polygon fill=\"black\" stroke=\"black\" points=\"1058.57,-184.62 1055.07,-174.62 1051.57,-184.62 1058.57,-184.62\"/>\n",
       "<text text-anchor=\"middle\" x=\"1092.94\" y=\"-194.44\" font-family=\"Times,serif\" font-size=\"14.00\">has part (city)</text>\n",
       "</g>\n",
       "<!-- https___www.simphony&#45;osp.eu_entity#c3ca93d5&#45;3fd2&#45;4bbc&#45;bc2c&#45;994a69553f7a&#45;&gt;http___example.org_entities#Nikola -->\n",
       "<g id=\"edge8\" class=\"edge\">\n",
       "<title>https___www.simphony&#45;osp.eu_entity#c3ca93d5&#45;3fd2&#45;4bbc&#45;bc2c&#45;994a69553f7a&#45;&gt;http___example.org_entities#Nikola</title>\n",
       "<path fill=\"none\" stroke=\"black\" d=\"M1149.52,-243.62C1185.97,-217.49 1227.76,-187.52 1264.9,-160.89\"/>\n",
       "<polygon fill=\"black\" stroke=\"black\" points=\"1266.65,-163.22 1272.74,-154.55 1262.57,-157.53 1266.65,-163.22\"/>\n",
       "<text text-anchor=\"middle\" x=\"1275.44\" y=\"-194.44\" font-family=\"Times,serif\" font-size=\"14.00\">has inhabitant (city)</text>\n",
       "</g>\n",
       "<!-- https___www.simphony&#45;osp.eu_entity#c3ca93d5&#45;3fd2&#45;4bbc&#45;bc2c&#45;994a69553f7a&#45;&gt;https___www.simphony&#45;osp.eu_entity#c3887bb1&#45;1490&#45;4b38&#45;9610&#45;f95cfa4ed822 -->\n",
       "<g id=\"edge1\" class=\"edge\">\n",
       "<title>https___www.simphony&#45;osp.eu_entity#c3ca93d5&#45;3fd2&#45;4bbc&#45;bc2c&#45;994a69553f7a&#45;&gt;https___www.simphony&#45;osp.eu_entity#c3887bb1&#45;1490&#45;4b38&#45;9610&#45;f95cfa4ed822</title>\n",
       "<path fill=\"none\" stroke=\"black\" d=\"M1197.74,-278.22C1292.4,-254.11 1418.38,-217.92 1525.07,-173.24 1539.05,-167.38 1553.39,-160.59 1567.43,-153.43\"/>\n",
       "<polygon fill=\"black\" stroke=\"black\" points=\"1568.82,-156.13 1576.09,-148.43 1565.6,-149.92 1568.82,-156.13\"/>\n",
       "<text text-anchor=\"middle\" x=\"1513.94\" y=\"-194.44\" font-family=\"Times,serif\" font-size=\"14.00\">has part (city)</text>\n",
       "</g>\n",
       "<!-- https___www.simphony&#45;osp.eu_entity#c3ca93d5&#45;3fd2&#45;4bbc&#45;bc2c&#45;994a69553f7a&#45;&gt;https___www.simphony&#45;osp.eu_entity#ddf4d1b0&#45;2d56&#45;4bec&#45;9810&#45;c8c57059ce7f -->\n",
       "<g id=\"edge5\" class=\"edge\">\n",
       "<title>https___www.simphony&#45;osp.eu_entity#c3ca93d5&#45;3fd2&#45;4bbc&#45;bc2c&#45;994a69553f7a&#45;&gt;https___www.simphony&#45;osp.eu_entity#ddf4d1b0&#45;2d56&#45;4bec&#45;9810&#45;c8c57059ce7f</title>\n",
       "<path fill=\"none\" stroke=\"black\" d=\"M1208.35,-299.13C1368.06,-282.95 1623.73,-247.34 1833.07,-173.24 1847.93,-167.98 1863.05,-161.4 1877.74,-154.22\"/>\n",
       "<polygon fill=\"black\" stroke=\"black\" points=\"1878.94,-157.04 1886.32,-149.43 1875.81,-150.78 1878.94,-157.04\"/>\n",
       "<text text-anchor=\"middle\" x=\"1810.94\" y=\"-194.44\" font-family=\"Times,serif\" font-size=\"14.00\">has part (city)</text>\n",
       "</g>\n",
       "<!-- https___www.simphony&#45;osp.eu_entity#32cf78cf&#45;4c27&#45;481a&#45;8aba&#45;e43184edd31f -->\n",
       "<g id=\"node15\" class=\"node\">\n",
       "<title>https___www.simphony&#45;osp.eu_entity#32cf78cf&#45;4c27&#45;481a&#45;8aba&#45;e43184edd31f</title>\n",
       "<ellipse fill=\"lightblue\" stroke=\"lightblue\" cx=\"3003.07\" cy=\"-312.36\" rx=\"145.31\" ry=\"86.62\"/>\n",
       "<text text-anchor=\"start\" x=\"2964.44\" y=\"-352.31\" font-family=\"Times,serif\" font-size=\"14.00\">32cf78cf...31f</text>\n",
       "<text text-anchor=\"start\" x=\"2952.44\" y=\"-329.81\" font-family=\"Times,serif\" font-size=\"14.00\">classes: City (city)</text>\n",
       "<text text-anchor=\"start\" x=\"2970.82\" y=\"-307.31\" font-family=\"Times,serif\" font-size=\"14.00\">name: Paris</text>\n",
       "<text text-anchor=\"start\" x=\"2912.32\" y=\"-284.81\" font-family=\"Times,serif\" font-size=\"14.00\">coordinates: [48.85333 &#160;2.34885]</text>\n",
       "<text text-anchor=\"start\" x=\"2943.07\" y=\"-262.31\" font-family=\"Times,serif\" font-size=\"14.00\">session: 0x113630be0</text>\n",
       "</g>\n",
       "<!-- https___www.simphony&#45;osp.eu_entity#32cf78cf&#45;4c27&#45;481a&#45;8aba&#45;e43184edd31f&#45;&gt;https___www.simphony&#45;osp.eu_entity#5b127b18&#45;d26d&#45;4c3e&#45;ab6c&#45;a4e2d9a5448e -->\n",
       "<g id=\"edge12\" class=\"edge\">\n",
       "<title>https___www.simphony&#45;osp.eu_entity#32cf78cf&#45;4c27&#45;481a&#45;8aba&#45;e43184edd31f&#45;&gt;https___www.simphony&#45;osp.eu_entity#5b127b18&#45;d26d&#45;4c3e&#45;ab6c&#45;a4e2d9a5448e</title>\n",
       "<path fill=\"none\" stroke=\"black\" d=\"M2863.84,-286.85C2750.54,-264.46 2587.76,-226.68 2452.07,-173.24 2437.64,-167.56 2422.87,-160.79 2408.47,-153.59\"/>\n",
       "<polygon fill=\"black\" stroke=\"black\" points=\"2410.56,-150.21 2400.07,-148.79 2407.39,-156.45 2410.56,-150.21\"/>\n",
       "<text text-anchor=\"middle\" x=\"2577.94\" y=\"-194.44\" font-family=\"Times,serif\" font-size=\"14.00\">has part (city)</text>\n",
       "</g>\n",
       "<!-- https___www.simphony&#45;osp.eu_entity#32cf78cf&#45;4c27&#45;481a&#45;8aba&#45;e43184edd31f&#45;&gt;https___www.simphony&#45;osp.eu_entity#d568d42c&#45;4cd2&#45;45c4&#45;afd9&#45;2bf74d4197e6 -->\n",
       "<g id=\"edge4\" class=\"edge\">\n",
       "<title>https___www.simphony&#45;osp.eu_entity#32cf78cf&#45;4c27&#45;481a&#45;8aba&#45;e43184edd31f&#45;&gt;https___www.simphony&#45;osp.eu_entity#d568d42c&#45;4cd2&#45;45c4&#45;afd9&#45;2bf74d4197e6</title>\n",
       "<path fill=\"none\" stroke=\"black\" d=\"M2897.98,-252.14C2843.25,-221.29 2776.25,-183.53 2720.25,-151.97\"/>\n",
       "<polygon fill=\"black\" stroke=\"black\" points=\"2722.44,-148.62 2712.01,-146.76 2719,-154.72 2722.44,-148.62\"/>\n",
       "<text text-anchor=\"middle\" x=\"2854.94\" y=\"-194.44\" font-family=\"Times,serif\" font-size=\"14.00\">has part (city)</text>\n",
       "</g>\n",
       "<!-- https___www.simphony&#45;osp.eu_entity#32cf78cf&#45;4c27&#45;481a&#45;8aba&#45;e43184edd31f&#45;&gt;https___www.simphony&#45;osp.eu_entity#46045725&#45;dc27&#45;4dd6&#45;861a&#45;bab002167681 -->\n",
       "<g id=\"edge9\" class=\"edge\">\n",
       "<title>https___www.simphony&#45;osp.eu_entity#32cf78cf&#45;4c27&#45;481a&#45;8aba&#45;e43184edd31f&#45;&gt;https___www.simphony&#45;osp.eu_entity#46045725&#45;dc27&#45;4dd6&#45;861a&#45;bab002167681</title>\n",
       "<path fill=\"none\" stroke=\"black\" d=\"M2955.23,-230.27C2944.37,-211.87 2932.8,-192.26 2921.83,-173.66\"/>\n",
       "<polygon fill=\"black\" stroke=\"black\" points=\"2924.42,-172.17 2916.33,-165.33 2918.39,-175.72 2924.42,-172.17\"/>\n",
       "<text text-anchor=\"middle\" x=\"2995.44\" y=\"-194.44\" font-family=\"Times,serif\" font-size=\"14.00\">has inhabitant (city)</text>\n",
       "</g>\n",
       "<!-- https___www.simphony&#45;osp.eu_entity#32cf78cf&#45;4c27&#45;481a&#45;8aba&#45;e43184edd31f&#45;&gt;https___www.simphony&#45;osp.eu_entity#b0250a68&#45;63a3&#45;496a&#45;8692&#45;f4ad9d3cc467 -->\n",
       "<g id=\"edge13\" class=\"edge\">\n",
       "<title>https___www.simphony&#45;osp.eu_entity#32cf78cf&#45;4c27&#45;481a&#45;8aba&#45;e43184edd31f&#45;&gt;https___www.simphony&#45;osp.eu_entity#b0250a68&#45;63a3&#45;496a&#45;8692&#45;f4ad9d3cc467</title>\n",
       "<path fill=\"none\" stroke=\"black\" d=\"M3051.27,-230.27C3061.4,-213.23 3072.14,-195.16 3082.46,-177.81\"/>\n",
       "<polygon fill=\"black\" stroke=\"black\" points=\"3085.7,-180.2 3087.8,-169.81 3079.69,-176.62 3085.7,-180.2\"/>\n",
       "<text text-anchor=\"middle\" x=\"3111.94\" y=\"-194.44\" font-family=\"Times,serif\" font-size=\"14.00\">has part (city)</text>\n",
       "</g>\n",
       "<!-- https___www.simphony&#45;osp.eu_entity#32cf78cf&#45;4c27&#45;481a&#45;8aba&#45;e43184edd31f&#45;&gt;https___www.simphony&#45;osp.eu_entity#83c93fb8&#45;29bf&#45;47ef&#45;8b86&#45;1be787ba4089 -->\n",
       "<g id=\"edge10\" class=\"edge\">\n",
       "<title>https___www.simphony&#45;osp.eu_entity#32cf78cf&#45;4c27&#45;481a&#45;8aba&#45;e43184edd31f&#45;&gt;https___www.simphony&#45;osp.eu_entity#83c93fb8&#45;29bf&#45;47ef&#45;8b86&#45;1be787ba4089</title>\n",
       "<path fill=\"none\" stroke=\"black\" d=\"M3117.39,-258.42C3170.32,-233.37 3233.81,-202.59 3290.07,-173.24 3302.82,-166.59 3316.07,-159.46 3329.19,-152.26\"/>\n",
       "<polygon fill=\"black\" stroke=\"black\" points=\"3330.65,-154.91 3337.71,-147.01 3327.27,-148.77 3330.65,-154.91\"/>\n",
       "<text text-anchor=\"middle\" x=\"3289.94\" y=\"-194.44\" font-family=\"Times,serif\" font-size=\"14.00\">has part (city)</text>\n",
       "</g>\n",
       "<!-- https___www.simphony&#45;osp.eu_entity#32cf78cf&#45;4c27&#45;481a&#45;8aba&#45;e43184edd31f&#45;&gt;https___www.simphony&#45;osp.eu_entity#8fe5ba6c&#45;2c8d&#45;4499&#45;9a26&#45;496fcbeef3d5 -->\n",
       "<g id=\"edge11\" class=\"edge\">\n",
       "<title>https___www.simphony&#45;osp.eu_entity#32cf78cf&#45;4c27&#45;481a&#45;8aba&#45;e43184edd31f&#45;&gt;https___www.simphony&#45;osp.eu_entity#8fe5ba6c&#45;2c8d&#45;4499&#45;9a26&#45;496fcbeef3d5</title>\n",
       "<path fill=\"none\" stroke=\"black\" d=\"M3143.66,-289.85C3265.51,-268.56 3445.15,-230.74 3594.07,-173.24 3608.33,-167.73 3622.89,-161.12 3637.09,-154.03\"/>\n",
       "<polygon fill=\"black\" stroke=\"black\" points=\"3638.53,-156.71 3645.85,-149.06 3635.35,-150.48 3638.53,-156.71\"/>\n",
       "<text text-anchor=\"middle\" x=\"3570.94\" y=\"-194.44\" font-family=\"Times,serif\" font-size=\"14.00\">has part (city)</text>\n",
       "</g>\n",
       "</g>\n",
       "</svg>\n"
      ],
      "text/plain": [
       "<simphony_osp.tools.semantic2dot.Semantic2Dot at 0x117b6d6d0>"
      ]
     },
     "execution_count": 25,
     "metadata": {},
     "output_type": "execute_result"
    }
   ],
   "source": [
    "semantic2dot(freiburg, *freiburg_neighborhoods, *freiburg_citizens,\n",
    "             paris, *paris_neighborhoods, *paris_citizens)"
   ]
  },
  {
   "cell_type": "code",
   "execution_count": 26,
   "id": "cbdc44e2",
   "metadata": {},
   "outputs": [],
   "source": [
    "\n",
    "found = list(\n",
    "    search.find(freiburg)\n",
    ")"
   ]
  },
  {
   "cell_type": "code",
   "execution_count": 27,
   "id": "6725856e",
   "metadata": {},
   "outputs": [
    {
     "data": {
      "text/plain": [
       "[<OntologyIndividual: c3ca93d5-3fd2-4bbc-bc2c-994a69553f7a>,\n",
       " <OntologyIndividual: 0e56ff32-7d95-4690-8424-d2f60bdb8e8f>,\n",
       " <OntologyIndividual: 8006c9c0-6fb2-4074-85a8-4dae2484894e>,\n",
       " <OntologyIndividual: http://example.org/entities#Lena>,\n",
       " <OntologyIndividual: http://example.org/entities#Nikola>,\n",
       " <OntologyIndividual: c3887bb1-1490-4b38-9610-f95cfa4ed822>,\n",
       " <OntologyIndividual: ddf4d1b0-2d56-4bec-9810-c8c57059ce7f>,\n",
       " <OntologyIndividual: e81af5ee-3f22-4a2c-87b9-06d406e90a02>]"
      ]
     },
     "execution_count": 27,
     "metadata": {},
     "output_type": "execute_result"
    }
   ],
   "source": [
    "found\n"
   ]
  },
  {
   "cell_type": "code",
   "execution_count": 28,
   "id": "3795ad37",
   "metadata": {},
   "outputs": [
    {
     "data": {
      "image/svg+xml": [
       "<?xml version=\"1.0\" encoding=\"UTF-8\" standalone=\"no\"?>\n",
       "<!DOCTYPE svg PUBLIC \"-//W3C//DTD SVG 1.1//EN\"\n",
       " \"http://www.w3.org/Graphics/SVG/1.1/DTD/svg11.dtd\">\n",
       "<!-- Generated by graphviz version 8.0.5 (20230430.1635)\n",
       " -->\n",
       "<!-- Title: SimPhoNy semantic2dot Pages: 1 -->\n",
       "<svg width=\"2142pt\" height=\"407pt\"\n",
       " viewBox=\"0.00 0.00 2142.38 406.98\" xmlns=\"http://www.w3.org/2000/svg\" xmlns:xlink=\"http://www.w3.org/1999/xlink\">\n",
       "<g id=\"graph0\" class=\"graph\" transform=\"scale(1 1) rotate(0) translate(4 402.98)\">\n",
       "<title>SimPhoNy semantic2dot</title>\n",
       "<polygon fill=\"white\" stroke=\"none\" points=\"-4,4 -4,-402.98 2138.38,-402.98 2138.38,4 -4,4\"/>\n",
       "<!-- https___www.simphony&#45;osp.eu_entity#0e56ff32&#45;7d95&#45;4690&#45;8424&#45;d2f60bdb8e8f -->\n",
       "<g id=\"node1\" class=\"node\">\n",
       "<title>https___www.simphony&#45;osp.eu_entity#0e56ff32&#45;7d95&#45;4690&#45;8424&#45;d2f60bdb8e8f</title>\n",
       "<ellipse fill=\"lightblue\" stroke=\"lightblue\" cx=\"141.07\" cy=\"-86.62\" rx=\"141.07\" ry=\"86.62\"/>\n",
       "<text text-anchor=\"start\" x=\"102.44\" y=\"-126.57\" font-family=\"Times,serif\" font-size=\"14.00\">0e56ff32...e8f</text>\n",
       "<text text-anchor=\"start\" x=\"63.07\" y=\"-104.07\" font-family=\"Times,serif\" font-size=\"14.00\">classes: Neighborhood (city)</text>\n",
       "<text text-anchor=\"start\" x=\"106.94\" y=\"-81.57\" font-family=\"Times,serif\" font-size=\"14.00\">name: Brühl</text>\n",
       "<text text-anchor=\"start\" x=\"53.32\" y=\"-59.07\" font-family=\"Times,serif\" font-size=\"14.00\">coordinates: [48.01684 &#160;7.843 &#160;]</text>\n",
       "<text text-anchor=\"start\" x=\"81.07\" y=\"-36.57\" font-family=\"Times,serif\" font-size=\"14.00\">session: 0x113630be0</text>\n",
       "</g>\n",
       "<!-- https___www.simphony&#45;osp.eu_entity#8006c9c0&#45;6fb2&#45;4074&#45;85a8&#45;4dae2484894e -->\n",
       "<g id=\"node2\" class=\"node\">\n",
       "<title>https___www.simphony&#45;osp.eu_entity#8006c9c0&#45;6fb2&#45;4074&#45;85a8&#45;4dae2484894e</title>\n",
       "<ellipse fill=\"lightblue\" stroke=\"lightblue\" cx=\"445.07\" cy=\"-86.62\" rx=\"145.31\" ry=\"86.62\"/>\n",
       "<text text-anchor=\"start\" x=\"403.44\" y=\"-126.57\" font-family=\"Times,serif\" font-size=\"14.00\">8006c9c0...94e</text>\n",
       "<text text-anchor=\"start\" x=\"367.07\" y=\"-104.07\" font-family=\"Times,serif\" font-size=\"14.00\">classes: Neighborhood (city)</text>\n",
       "<text text-anchor=\"start\" x=\"405.32\" y=\"-81.57\" font-family=\"Times,serif\" font-size=\"14.00\">name: Altstadt</text>\n",
       "<text text-anchor=\"start\" x=\"354.32\" y=\"-59.07\" font-family=\"Times,serif\" font-size=\"14.00\">coordinates: [47.99525 &#160;7.84726]</text>\n",
       "<text text-anchor=\"start\" x=\"385.07\" y=\"-36.57\" font-family=\"Times,serif\" font-size=\"14.00\">session: 0x113630be0</text>\n",
       "</g>\n",
       "<!-- http___example.org_entities#Lena -->\n",
       "<g id=\"node3\" class=\"node\">\n",
       "<title>http___example.org_entities#Lena</title>\n",
       "<ellipse fill=\"lightblue\" stroke=\"lightblue\" cx=\"750.07\" cy=\"-86.62\" rx=\"142.13\" ry=\"86.62\"/>\n",
       "<text text-anchor=\"start\" x=\"661.57\" y=\"-126.57\" font-family=\"Times,serif\" font-size=\"14.00\">http://example.org/entities#Lena</text>\n",
       "<text text-anchor=\"start\" x=\"691.57\" y=\"-104.07\" font-family=\"Times,serif\" font-size=\"14.00\">classes: Citizen (city)</text>\n",
       "<text text-anchor=\"start\" x=\"717.82\" y=\"-81.57\" font-family=\"Times,serif\" font-size=\"14.00\">name: Lena</text>\n",
       "<text text-anchor=\"start\" x=\"730.19\" y=\"-59.07\" font-family=\"Times,serif\" font-size=\"14.00\">age: 70</text>\n",
       "<text text-anchor=\"start\" x=\"690.07\" y=\"-36.57\" font-family=\"Times,serif\" font-size=\"14.00\">session: 0x113630be0</text>\n",
       "</g>\n",
       "<!-- https___www.simphony&#45;osp.eu_entity#c3ca93d5&#45;3fd2&#45;4bbc&#45;bc2c&#45;994a69553f7a -->\n",
       "<g id=\"node4\" class=\"node\">\n",
       "<title>https___www.simphony&#45;osp.eu_entity#c3ca93d5&#45;3fd2&#45;4bbc&#45;bc2c&#45;994a69553f7a</title>\n",
       "<ellipse fill=\"lightblue\" stroke=\"lightblue\" cx=\"1059.07\" cy=\"-312.36\" rx=\"154.86\" ry=\"86.62\"/>\n",
       "<text text-anchor=\"start\" x=\"1018.94\" y=\"-352.31\" font-family=\"Times,serif\" font-size=\"14.00\">c3ca93d5...f7a</text>\n",
       "<text text-anchor=\"start\" x=\"1008.44\" y=\"-329.81\" font-family=\"Times,serif\" font-size=\"14.00\">classes: City (city)</text>\n",
       "<text text-anchor=\"start\" x=\"961.57\" y=\"-307.31\" font-family=\"Times,serif\" font-size=\"14.00\">coordinates: [47.997791 &#160;7.842609]</text>\n",
       "<text text-anchor=\"start\" x=\"1017.07\" y=\"-284.81\" font-family=\"Times,serif\" font-size=\"14.00\">name: Freiburg</text>\n",
       "<text text-anchor=\"start\" x=\"999.07\" y=\"-262.31\" font-family=\"Times,serif\" font-size=\"14.00\">session: 0x113630be0</text>\n",
       "</g>\n",
       "<!-- https___www.simphony&#45;osp.eu_entity#c3ca93d5&#45;3fd2&#45;4bbc&#45;bc2c&#45;994a69553f7a&#45;&gt;https___www.simphony&#45;osp.eu_entity#0e56ff32&#45;7d95&#45;4690&#45;8424&#45;d2f60bdb8e8f -->\n",
       "<g id=\"edge3\" class=\"edge\">\n",
       "<title>https___www.simphony&#45;osp.eu_entity#c3ca93d5&#45;3fd2&#45;4bbc&#45;bc2c&#45;994a69553f7a&#45;&gt;https___www.simphony&#45;osp.eu_entity#0e56ff32&#45;7d95&#45;4690&#45;8424&#45;d2f60bdb8e8f</title>\n",
       "<path fill=\"none\" stroke=\"black\" d=\"M905.71,-299.25C747.77,-283.23 496.4,-247.8 291.07,-173.24 276.76,-168.04 262.22,-161.54 248.11,-154.45\"/>\n",
       "<polygon fill=\"black\" stroke=\"black\" points=\"249.91,-150.93 239.42,-149.46 246.71,-157.15 249.91,-150.93\"/>\n",
       "<text text-anchor=\"middle\" x=\"429.94\" y=\"-194.44\" font-family=\"Times,serif\" font-size=\"14.00\">has part (city)</text>\n",
       "</g>\n",
       "<!-- https___www.simphony&#45;osp.eu_entity#c3ca93d5&#45;3fd2&#45;4bbc&#45;bc2c&#45;994a69553f7a&#45;&gt;https___www.simphony&#45;osp.eu_entity#8006c9c0&#45;6fb2&#45;4074&#45;85a8&#45;4dae2484894e -->\n",
       "<g id=\"edge6\" class=\"edge\">\n",
       "<title>https___www.simphony&#45;osp.eu_entity#c3ca93d5&#45;3fd2&#45;4bbc&#45;bc2c&#45;994a69553f7a&#45;&gt;https___www.simphony&#45;osp.eu_entity#8006c9c0&#45;6fb2&#45;4074&#45;85a8&#45;4dae2484894e</title>\n",
       "<path fill=\"none\" stroke=\"black\" d=\"M917.16,-277.24C824.79,-252.98 702.67,-216.99 599.07,-173.24 585.22,-167.39 571,-160.63 557.08,-153.53\"/>\n",
       "<polygon fill=\"black\" stroke=\"black\" points=\"558.99,-150.05 548.5,-148.56 555.77,-156.27 558.99,-150.05\"/>\n",
       "<text text-anchor=\"middle\" x=\"722.94\" y=\"-194.44\" font-family=\"Times,serif\" font-size=\"14.00\">has part (city)</text>\n",
       "</g>\n",
       "<!-- https___www.simphony&#45;osp.eu_entity#c3ca93d5&#45;3fd2&#45;4bbc&#45;bc2c&#45;994a69553f7a&#45;&gt;http___example.org_entities#Lena -->\n",
       "<g id=\"edge5\" class=\"edge\">\n",
       "<title>https___www.simphony&#45;osp.eu_entity#c3ca93d5&#45;3fd2&#45;4bbc&#45;bc2c&#45;994a69553f7a&#45;&gt;http___example.org_entities#Lena</title>\n",
       "<path fill=\"none\" stroke=\"black\" d=\"M965.1,-243.32C928.69,-216.96 886.95,-186.74 849.99,-159.98\"/>\n",
       "<polygon fill=\"black\" stroke=\"black\" points=\"852.36,-156.64 842.2,-153.61 848.25,-162.31 852.36,-156.64\"/>\n",
       "<text text-anchor=\"middle\" x=\"968.44\" y=\"-194.44\" font-family=\"Times,serif\" font-size=\"14.00\">has inhabitant (city)</text>\n",
       "</g>\n",
       "<!-- http___example.org_entities#Nikola -->\n",
       "<g id=\"node5\" class=\"node\">\n",
       "<title>http___example.org_entities#Nikola</title>\n",
       "<ellipse fill=\"lightblue\" stroke=\"lightblue\" cx=\"1059.07\" cy=\"-86.62\" rx=\"149.02\" ry=\"86.62\"/>\n",
       "<text text-anchor=\"start\" x=\"965.69\" y=\"-126.57\" font-family=\"Times,serif\" font-size=\"14.00\">http://example.org/entities#Nikola</text>\n",
       "<text text-anchor=\"start\" x=\"1000.57\" y=\"-104.07\" font-family=\"Times,serif\" font-size=\"14.00\">classes: Citizen (city)</text>\n",
       "<text text-anchor=\"start\" x=\"1039.19\" y=\"-81.57\" font-family=\"Times,serif\" font-size=\"14.00\">age: 35</text>\n",
       "<text text-anchor=\"start\" x=\"1021.94\" y=\"-59.07\" font-family=\"Times,serif\" font-size=\"14.00\">name: Nikola</text>\n",
       "<text text-anchor=\"start\" x=\"999.07\" y=\"-36.57\" font-family=\"Times,serif\" font-size=\"14.00\">session: 0x113630be0</text>\n",
       "</g>\n",
       "<!-- https___www.simphony&#45;osp.eu_entity#c3ca93d5&#45;3fd2&#45;4bbc&#45;bc2c&#45;994a69553f7a&#45;&gt;http___example.org_entities#Nikola -->\n",
       "<g id=\"edge2\" class=\"edge\">\n",
       "<title>https___www.simphony&#45;osp.eu_entity#c3ca93d5&#45;3fd2&#45;4bbc&#45;bc2c&#45;994a69553f7a&#45;&gt;http___example.org_entities#Nikola</title>\n",
       "<path fill=\"none\" stroke=\"black\" d=\"M1059.07,-225.5C1059.07,-212.08 1059.07,-198.13 1059.07,-184.49\"/>\n",
       "<polygon fill=\"black\" stroke=\"black\" points=\"1062.57,-184.62 1059.07,-174.62 1055.57,-184.62 1062.57,-184.62\"/>\n",
       "<text text-anchor=\"middle\" x=\"1113.44\" y=\"-194.44\" font-family=\"Times,serif\" font-size=\"14.00\">has inhabitant (city)</text>\n",
       "</g>\n",
       "<!-- https___www.simphony&#45;osp.eu_entity#c3887bb1&#45;1490&#45;4b38&#45;9610&#45;f95cfa4ed822 -->\n",
       "<g id=\"node6\" class=\"node\">\n",
       "<title>https___www.simphony&#45;osp.eu_entity#c3887bb1&#45;1490&#45;4b38&#45;9610&#45;f95cfa4ed822</title>\n",
       "<ellipse fill=\"lightblue\" stroke=\"lightblue\" cx=\"1371.07\" cy=\"-86.62\" rx=\"145.31\" ry=\"86.62\"/>\n",
       "<text text-anchor=\"start\" x=\"1328.69\" y=\"-126.57\" font-family=\"Times,serif\" font-size=\"14.00\">c3887bb1...822</text>\n",
       "<text text-anchor=\"start\" x=\"1293.07\" y=\"-104.07\" font-family=\"Times,serif\" font-size=\"14.00\">classes: Neighborhood (city)</text>\n",
       "<text text-anchor=\"start\" x=\"1330.19\" y=\"-81.57\" font-family=\"Times,serif\" font-size=\"14.00\">name: Herdern</text>\n",
       "<text text-anchor=\"start\" x=\"1280.32\" y=\"-59.07\" font-family=\"Times,serif\" font-size=\"14.00\">coordinates: [48.00779 &#160;7.86268]</text>\n",
       "<text text-anchor=\"start\" x=\"1311.07\" y=\"-36.57\" font-family=\"Times,serif\" font-size=\"14.00\">session: 0x113630be0</text>\n",
       "</g>\n",
       "<!-- https___www.simphony&#45;osp.eu_entity#c3ca93d5&#45;3fd2&#45;4bbc&#45;bc2c&#45;994a69553f7a&#45;&gt;https___www.simphony&#45;osp.eu_entity#c3887bb1&#45;1490&#45;4b38&#45;9610&#45;f95cfa4ed822 -->\n",
       "<g id=\"edge1\" class=\"edge\">\n",
       "<title>https___www.simphony&#45;osp.eu_entity#c3ca93d5&#45;3fd2&#45;4bbc&#45;bc2c&#45;994a69553f7a&#45;&gt;https___www.simphony&#45;osp.eu_entity#c3887bb1&#45;1490&#45;4b38&#45;9610&#45;f95cfa4ed822</title>\n",
       "<path fill=\"none\" stroke=\"black\" d=\"M1153.52,-243.62C1190.3,-217.25 1232.52,-186.98 1269.91,-160.16\"/>\n",
       "<polygon fill=\"black\" stroke=\"black\" points=\"1271.72,-162.45 1277.81,-153.78 1267.64,-156.76 1271.72,-162.45\"/>\n",
       "<text text-anchor=\"middle\" x=\"1262.94\" y=\"-194.44\" font-family=\"Times,serif\" font-size=\"14.00\">has part (city)</text>\n",
       "</g>\n",
       "<!-- https___www.simphony&#45;osp.eu_entity#ddf4d1b0&#45;2d56&#45;4bec&#45;9810&#45;c8c57059ce7f -->\n",
       "<g id=\"node7\" class=\"node\">\n",
       "<title>https___www.simphony&#45;osp.eu_entity#ddf4d1b0&#45;2d56&#45;4bec&#45;9810&#45;c8c57059ce7f</title>\n",
       "<ellipse fill=\"lightblue\" stroke=\"lightblue\" cx=\"1680.07\" cy=\"-86.62\" rx=\"145.31\" ry=\"86.62\"/>\n",
       "<text text-anchor=\"start\" x=\"1639.94\" y=\"-126.57\" font-family=\"Times,serif\" font-size=\"14.00\">ddf4d1b0...e7f</text>\n",
       "<text text-anchor=\"start\" x=\"1602.07\" y=\"-104.07\" font-family=\"Times,serif\" font-size=\"14.00\">classes: Neighborhood (city)</text>\n",
       "<text text-anchor=\"start\" x=\"1589.32\" y=\"-81.57\" font-family=\"Times,serif\" font-size=\"14.00\">coordinates: [48.00021 &#160;7.86084]</text>\n",
       "<text text-anchor=\"start\" x=\"1637.69\" y=\"-59.07\" font-family=\"Times,serif\" font-size=\"14.00\">name: Neuburg</text>\n",
       "<text text-anchor=\"start\" x=\"1620.07\" y=\"-36.57\" font-family=\"Times,serif\" font-size=\"14.00\">session: 0x113630be0</text>\n",
       "</g>\n",
       "<!-- https___www.simphony&#45;osp.eu_entity#c3ca93d5&#45;3fd2&#45;4bbc&#45;bc2c&#45;994a69553f7a&#45;&gt;https___www.simphony&#45;osp.eu_entity#ddf4d1b0&#45;2d56&#45;4bec&#45;9810&#45;c8c57059ce7f -->\n",
       "<g id=\"edge4\" class=\"edge\">\n",
       "<title>https___www.simphony&#45;osp.eu_entity#c3ca93d5&#45;3fd2&#45;4bbc&#45;bc2c&#45;994a69553f7a&#45;&gt;https___www.simphony&#45;osp.eu_entity#ddf4d1b0&#45;2d56&#45;4bec&#45;9810&#45;c8c57059ce7f</title>\n",
       "<path fill=\"none\" stroke=\"black\" d=\"M1201.51,-277.71C1295.22,-253.5 1419.6,-217.39 1525.07,-173.24 1539.12,-167.36 1553.55,-160.54 1567.67,-153.38\"/>\n",
       "<polygon fill=\"black\" stroke=\"black\" points=\"1569.1,-156.06 1576.39,-148.37 1565.89,-149.84 1569.1,-156.06\"/>\n",
       "<text text-anchor=\"middle\" x=\"1514.94\" y=\"-194.44\" font-family=\"Times,serif\" font-size=\"14.00\">has part (city)</text>\n",
       "</g>\n",
       "<!-- https___www.simphony&#45;osp.eu_entity#e81af5ee&#45;3f22&#45;4a2c&#45;87b9&#45;06d406e90a02 -->\n",
       "<g id=\"node8\" class=\"node\">\n",
       "<title>https___www.simphony&#45;osp.eu_entity#e81af5ee&#45;3f22&#45;4a2c&#45;87b9&#45;06d406e90a02</title>\n",
       "<ellipse fill=\"lightblue\" stroke=\"lightblue\" cx=\"1989.07\" cy=\"-86.62\" rx=\"145.31\" ry=\"86.62\"/>\n",
       "<text text-anchor=\"start\" x=\"1949.32\" y=\"-126.57\" font-family=\"Times,serif\" font-size=\"14.00\">e81af5ee...a02</text>\n",
       "<text text-anchor=\"start\" x=\"1911.07\" y=\"-104.07\" font-family=\"Times,serif\" font-size=\"14.00\">classes: Neighborhood (city)</text>\n",
       "<text text-anchor=\"start\" x=\"1898.32\" y=\"-81.57\" font-family=\"Times,serif\" font-size=\"14.00\">coordinates: [47.99888 &#160;7.83774]</text>\n",
       "<text text-anchor=\"start\" x=\"1942.19\" y=\"-59.07\" font-family=\"Times,serif\" font-size=\"14.00\">name: Stühlinger</text>\n",
       "<text text-anchor=\"start\" x=\"1929.07\" y=\"-36.57\" font-family=\"Times,serif\" font-size=\"14.00\">session: 0x113630be0</text>\n",
       "</g>\n",
       "<!-- https___www.simphony&#45;osp.eu_entity#c3ca93d5&#45;3fd2&#45;4bbc&#45;bc2c&#45;994a69553f7a&#45;&gt;https___www.simphony&#45;osp.eu_entity#e81af5ee&#45;3f22&#45;4a2c&#45;87b9&#45;06d406e90a02 -->\n",
       "<g id=\"edge7\" class=\"edge\">\n",
       "<title>https___www.simphony&#45;osp.eu_entity#c3ca93d5&#45;3fd2&#45;4bbc&#45;bc2c&#45;994a69553f7a&#45;&gt;https___www.simphony&#45;osp.eu_entity#e81af5ee&#45;3f22&#45;4a2c&#45;87b9&#45;06d406e90a02</title>\n",
       "<path fill=\"none\" stroke=\"black\" d=\"M1212.5,-298.97C1371.64,-282.69 1625.86,-247.01 1834.07,-173.24 1848.92,-167.98 1864.05,-161.39 1878.73,-154.21\"/>\n",
       "<polygon fill=\"black\" stroke=\"black\" points=\"1879.93,-157.03 1887.31,-149.42 1876.8,-150.77 1879.93,-157.03\"/>\n",
       "<text text-anchor=\"middle\" x=\"1811.94\" y=\"-194.44\" font-family=\"Times,serif\" font-size=\"14.00\">has part (city)</text>\n",
       "</g>\n",
       "</g>\n",
       "</svg>\n"
      ],
      "text/plain": [
       "<simphony_osp.tools.semantic2dot.Semantic2Dot at 0x117b5e5d0>"
      ]
     },
     "execution_count": 28,
     "metadata": {},
     "output_type": "execute_result"
    }
   ],
   "source": [
    "semantic2dot(*found)"
   ]
  },
  {
   "cell_type": "code",
   "execution_count": 29,
   "id": "364e196b",
   "metadata": {},
   "outputs": [
    {
     "data": {
      "image/svg+xml": [
       "<?xml version=\"1.0\" encoding=\"UTF-8\" standalone=\"no\"?>\n",
       "<!DOCTYPE svg PUBLIC \"-//W3C//DTD SVG 1.1//EN\"\n",
       " \"http://www.w3.org/Graphics/SVG/1.1/DTD/svg11.dtd\">\n",
       "<!-- Generated by graphviz version 8.0.5 (20230430.1635)\n",
       " -->\n",
       "<!-- Title: SimPhoNy semantic2dot Pages: 1 -->\n",
       "<svg width=\"608pt\" height=\"407pt\"\n",
       " viewBox=\"0.00 0.00 608.15 406.98\" xmlns=\"http://www.w3.org/2000/svg\" xmlns:xlink=\"http://www.w3.org/1999/xlink\">\n",
       "<g id=\"graph0\" class=\"graph\" transform=\"scale(1 1) rotate(0) translate(4 402.98)\">\n",
       "<title>SimPhoNy semantic2dot</title>\n",
       "<polygon fill=\"white\" stroke=\"none\" points=\"-4,4 -4,-402.98 604.15,-402.98 604.15,4 -4,4\"/>\n",
       "<!-- http___example.org_entities#Lena -->\n",
       "<g id=\"node1\" class=\"node\">\n",
       "<title>http___example.org_entities#Lena</title>\n",
       "<ellipse fill=\"lightblue\" stroke=\"lightblue\" cx=\"142.13\" cy=\"-86.62\" rx=\"142.13\" ry=\"86.62\"/>\n",
       "<text text-anchor=\"start\" x=\"53.63\" y=\"-126.57\" font-family=\"Times,serif\" font-size=\"14.00\">http://example.org/entities#Lena</text>\n",
       "<text text-anchor=\"start\" x=\"83.63\" y=\"-104.07\" font-family=\"Times,serif\" font-size=\"14.00\">classes: Citizen (city)</text>\n",
       "<text text-anchor=\"start\" x=\"109.88\" y=\"-81.57\" font-family=\"Times,serif\" font-size=\"14.00\">name: Lena</text>\n",
       "<text text-anchor=\"start\" x=\"122.25\" y=\"-59.07\" font-family=\"Times,serif\" font-size=\"14.00\">age: 70</text>\n",
       "<text text-anchor=\"start\" x=\"82.13\" y=\"-36.57\" font-family=\"Times,serif\" font-size=\"14.00\">session: 0x113630be0</text>\n",
       "</g>\n",
       "<!-- http___example.org_entities#Nikola -->\n",
       "<g id=\"node2\" class=\"node\">\n",
       "<title>http___example.org_entities#Nikola</title>\n",
       "<ellipse fill=\"lightblue\" stroke=\"lightblue\" cx=\"451.13\" cy=\"-86.62\" rx=\"149.02\" ry=\"86.62\"/>\n",
       "<text text-anchor=\"start\" x=\"357.75\" y=\"-126.57\" font-family=\"Times,serif\" font-size=\"14.00\">http://example.org/entities#Nikola</text>\n",
       "<text text-anchor=\"start\" x=\"392.63\" y=\"-104.07\" font-family=\"Times,serif\" font-size=\"14.00\">classes: Citizen (city)</text>\n",
       "<text text-anchor=\"start\" x=\"431.25\" y=\"-81.57\" font-family=\"Times,serif\" font-size=\"14.00\">age: 35</text>\n",
       "<text text-anchor=\"start\" x=\"414\" y=\"-59.07\" font-family=\"Times,serif\" font-size=\"14.00\">name: Nikola</text>\n",
       "<text text-anchor=\"start\" x=\"391.13\" y=\"-36.57\" font-family=\"Times,serif\" font-size=\"14.00\">session: 0x113630be0</text>\n",
       "</g>\n",
       "<!-- https___www.simphony&#45;osp.eu_entity#c3ca93d5&#45;3fd2&#45;4bbc&#45;bc2c&#45;994a69553f7a -->\n",
       "<g id=\"node3\" class=\"node\">\n",
       "<title>https___www.simphony&#45;osp.eu_entity#c3ca93d5&#45;3fd2&#45;4bbc&#45;bc2c&#45;994a69553f7a</title>\n",
       "<ellipse fill=\"lightblue\" stroke=\"lightblue\" cx=\"296.13\" cy=\"-312.36\" rx=\"154.86\" ry=\"86.62\"/>\n",
       "<text text-anchor=\"start\" x=\"256\" y=\"-352.31\" font-family=\"Times,serif\" font-size=\"14.00\">c3ca93d5...f7a</text>\n",
       "<text text-anchor=\"start\" x=\"245.5\" y=\"-329.81\" font-family=\"Times,serif\" font-size=\"14.00\">classes: City (city)</text>\n",
       "<text text-anchor=\"start\" x=\"198.63\" y=\"-307.31\" font-family=\"Times,serif\" font-size=\"14.00\">coordinates: [47.997791 &#160;7.842609]</text>\n",
       "<text text-anchor=\"start\" x=\"254.13\" y=\"-284.81\" font-family=\"Times,serif\" font-size=\"14.00\">name: Freiburg</text>\n",
       "<text text-anchor=\"start\" x=\"236.13\" y=\"-262.31\" font-family=\"Times,serif\" font-size=\"14.00\">session: 0x113630be0</text>\n",
       "</g>\n",
       "<!-- https___www.simphony&#45;osp.eu_entity#c3ca93d5&#45;3fd2&#45;4bbc&#45;bc2c&#45;994a69553f7a&#45;&gt;http___example.org_entities#Lena -->\n",
       "<g id=\"edge2\" class=\"edge\">\n",
       "<title>https___www.simphony&#45;osp.eu_entity#c3ca93d5&#45;3fd2&#45;4bbc&#45;bc2c&#45;994a69553f7a&#45;&gt;http___example.org_entities#Lena</title>\n",
       "<path fill=\"none\" stroke=\"black\" d=\"M240.97,-231.22C228.58,-213.22 215.37,-194.03 202.78,-175.73\"/>\n",
       "<polygon fill=\"black\" stroke=\"black\" points=\"205.2,-174.08 196.65,-167.83 199.43,-178.05 205.2,-174.08\"/>\n",
       "<text text-anchor=\"middle\" x=\"278.5\" y=\"-194.44\" font-family=\"Times,serif\" font-size=\"14.00\">has inhabitant (city)</text>\n",
       "</g>\n",
       "<!-- https___www.simphony&#45;osp.eu_entity#c3ca93d5&#45;3fd2&#45;4bbc&#45;bc2c&#45;994a69553f7a&#45;&gt;http___example.org_entities#Nikola -->\n",
       "<g id=\"edge1\" class=\"edge\">\n",
       "<title>https___www.simphony&#45;osp.eu_entity#c3ca93d5&#45;3fd2&#45;4bbc&#45;bc2c&#45;994a69553f7a&#45;&gt;http___example.org_entities#Nikola</title>\n",
       "<path fill=\"none\" stroke=\"black\" d=\"M351.65,-231.22C364.04,-213.33 377.25,-194.26 389.86,-176.06\"/>\n",
       "<polygon fill=\"black\" stroke=\"black\" points=\"393.18,-178.42 396,-168.2 387.42,-174.43 393.18,-178.42\"/>\n",
       "<text text-anchor=\"middle\" x=\"432.5\" y=\"-194.44\" font-family=\"Times,serif\" font-size=\"14.00\">has inhabitant (city)</text>\n",
       "</g>\n",
       "</g>\n",
       "</svg>\n"
      ],
      "text/plain": [
       "<simphony_osp.tools.semantic2dot.Semantic2Dot at 0x11232fa90>"
      ]
     },
     "execution_count": 29,
     "metadata": {},
     "output_type": "execute_result"
    }
   ],
   "source": [
    "found = list(\n",
    "    search.find(\n",
    "        freiburg,\n",
    "        rel=(city.hasInhabitant, city.hasWorker)  # if only one relationship has to be considered, just pass it directly (i.e. `rel=city.hasInhabitant`)\n",
    "    )\n",
    ")\n",
    "\n",
    "semantic2dot(*found)"
   ]
  },
  {
   "cell_type": "code",
   "execution_count": 30,
   "id": "21279eb6",
   "metadata": {},
   "outputs": [],
   "source": [
    "s=export_file( individuals_or_session=found,main = None,format  = \"application/ld+json\",    all_triples= True, all_statements= True)"
   ]
  },
  {
   "cell_type": "code",
   "execution_count": 31,
   "id": "1923c859",
   "metadata": {},
   "outputs": [
    {
     "name": "stdout",
     "output_type": "stream",
     "text": [
      "[\n",
      "  {\n",
      "    \"@id\": \"https://www.simphony-osp.eu/entity#c3ca93d5-3fd2-4bbc-bc2c-994a69553f7a\",\n",
      "    \"@type\": [\n",
      "      \"https://www.simphony-osp.eu/city#City\"\n",
      "    ],\n",
      "    \"https://www.simphony-osp.eu/city#coordinates\": [\n",
      "      {\n",
      "        \"@type\": \"https://www.simphony-osp.eu/types#Vector\",\n",
      "        \"@value\": \"13YFp0RR93AD@t&xBo{#)k4YS)LtJz\"\n",
      "      }\n",
      "    ],\n",
      "    \"https://www.simphony-osp.eu/city#hasInhabitant\": [\n",
      "      {\n",
      "        \"@id\": \"http://example.org/entities#Nikola\"\n",
      "      },\n",
      "      {\n",
      "        \"@id\": \"http://example.org/entities#Lena\"\n",
      "      }\n",
      "    ],\n",
      "    \"https://www.simphony-osp.eu/city#hasPart\": [\n",
      "      {\n",
      "        \"@id\": \"https://www.simphony-osp.eu/entity#ddf4d1b0-2d56-4bec-9810-c8c57059ce7f\"\n",
      "      },\n",
      "      {\n",
      "        \"@id\": \"https://www.simphony-osp.eu/entity#c3887bb1-1490-4b38-9610-f95cfa4ed822\"\n",
      "      },\n",
      "      {\n",
      "        \"@id\": \"https://www.simphony-osp.eu/entity#e81af5ee-3f22-4a2c-87b9-06d406e90a02\"\n",
      "      },\n",
      "      {\n",
      "        \"@id\": \"https://www.simphony-osp.eu/entity#0e56ff32-7d95-4690-8424-d2f60bdb8e8f\"\n",
      "      },\n",
      "      {\n",
      "        \"@id\": \"https://www.simphony-osp.eu/entity#8006c9c0-6fb2-4074-85a8-4dae2484894e\"\n",
      "      }\n",
      "    ],\n",
      "    \"https://www.simphony-osp.eu/city#name\": [\n",
      "      {\n",
      "        \"@value\": \"Freiburg\"\n",
      "      }\n",
      "    ]\n",
      "  },\n",
      "  {\n",
      "    \"@id\": \"http://example.org/entities#Lena\",\n",
      "    \"@type\": [\n",
      "      \"https://www.simphony-osp.eu/city#Citizen\"\n",
      "    ],\n",
      "    \"https://www.simphony-osp.eu/city#age\": [\n",
      "      {\n",
      "        \"@value\": 70\n",
      "      }\n",
      "    ],\n",
      "    \"https://www.simphony-osp.eu/city#name\": [\n",
      "      {\n",
      "        \"@value\": \"Lena\"\n",
      "      }\n",
      "    ]\n",
      "  },\n",
      "  {\n",
      "    \"@id\": \"http://example.org/entities#Nikola\",\n",
      "    \"@type\": [\n",
      "      \"https://www.simphony-osp.eu/city#Citizen\"\n",
      "    ],\n",
      "    \"https://www.simphony-osp.eu/city#age\": [\n",
      "      {\n",
      "        \"@value\": 35\n",
      "      }\n",
      "    ],\n",
      "    \"https://www.simphony-osp.eu/city#name\": [\n",
      "      {\n",
      "        \"@value\": \"Nikola\"\n",
      "      }\n",
      "    ]\n",
      "  }\n",
      "]\n"
     ]
    }
   ],
   "source": [
    "print(s)    "
   ]
  },
  {
   "cell_type": "code",
   "execution_count": 32,
   "id": "eb28df01",
   "metadata": {},
   "outputs": [
    {
     "name": "stdout",
     "output_type": "stream",
     "text": [
      "10 True\n",
      "(rdflib.term.Literal('13YFp0RR93AD@t&xBo{#)k4YS)LtJz', datatype=rdflib.term.URIRef('https://www.simphony-osp.eu/types#Vector')),)\n",
      "rdflib.term.Literal('13YFp0RR93AD@t&xBo{#)k4YS)LtJz', datatype=rdflib.term.URIRef('https://www.simphony-osp.eu/types#Vector'))\n",
      "rdflib.term.Literal('13YFp0RR93AD@t&xBo{#)k4YS)LtJz', datatype=rdflib.term.URIRef('https://www.simphony-osp.eu/types#Vector'))\n",
      "None\n",
      "{'o': rdflib.term.Literal('13YFp0RR93AD@t&xBo{#)k4YS)LtJz', datatype=rdflib.term.URIRef('https://www.simphony-osp.eu/types#Vector'))}\n",
      "(rdflib.term.Literal('Freiburg', datatype=rdflib.term.URIRef('http://www.w3.org/2001/XMLSchema#string')),)\n",
      "rdflib.term.Literal('Freiburg', datatype=rdflib.term.URIRef('http://www.w3.org/2001/XMLSchema#string'))\n",
      "rdflib.term.Literal('Freiburg', datatype=rdflib.term.URIRef('http://www.w3.org/2001/XMLSchema#string'))\n",
      "None\n",
      "{'o': rdflib.term.Literal('Freiburg', datatype=rdflib.term.URIRef('http://www.w3.org/2001/XMLSchema#string'))}\n",
      "(rdflib.term.URIRef('https://www.simphony-osp.eu/city#City'),)\n",
      "rdflib.term.URIRef('https://www.simphony-osp.eu/city#City')\n",
      "rdflib.term.URIRef('https://www.simphony-osp.eu/city#City')\n",
      "None\n",
      "{'o': rdflib.term.URIRef('https://www.simphony-osp.eu/city#City')}\n",
      "(rdflib.term.URIRef('https://www.simphony-osp.eu/entity#8006c9c0-6fb2-4074-85a8-4dae2484894e'),)\n",
      "rdflib.term.URIRef('https://www.simphony-osp.eu/entity#8006c9c0-6fb2-4074-85a8-4dae2484894e')\n",
      "rdflib.term.URIRef('https://www.simphony-osp.eu/entity#8006c9c0-6fb2-4074-85a8-4dae2484894e')\n",
      "None\n",
      "{'o': rdflib.term.URIRef('https://www.simphony-osp.eu/entity#8006c9c0-6fb2-4074-85a8-4dae2484894e')}\n",
      "(rdflib.term.URIRef('https://www.simphony-osp.eu/entity#e81af5ee-3f22-4a2c-87b9-06d406e90a02'),)\n",
      "rdflib.term.URIRef('https://www.simphony-osp.eu/entity#e81af5ee-3f22-4a2c-87b9-06d406e90a02')\n",
      "rdflib.term.URIRef('https://www.simphony-osp.eu/entity#e81af5ee-3f22-4a2c-87b9-06d406e90a02')\n",
      "None\n",
      "{'o': rdflib.term.URIRef('https://www.simphony-osp.eu/entity#e81af5ee-3f22-4a2c-87b9-06d406e90a02')}\n",
      "(rdflib.term.URIRef('https://www.simphony-osp.eu/entity#ddf4d1b0-2d56-4bec-9810-c8c57059ce7f'),)\n",
      "rdflib.term.URIRef('https://www.simphony-osp.eu/entity#ddf4d1b0-2d56-4bec-9810-c8c57059ce7f')\n",
      "rdflib.term.URIRef('https://www.simphony-osp.eu/entity#ddf4d1b0-2d56-4bec-9810-c8c57059ce7f')\n",
      "None\n",
      "{'o': rdflib.term.URIRef('https://www.simphony-osp.eu/entity#ddf4d1b0-2d56-4bec-9810-c8c57059ce7f')}\n",
      "(rdflib.term.URIRef('https://www.simphony-osp.eu/entity#c3887bb1-1490-4b38-9610-f95cfa4ed822'),)\n",
      "rdflib.term.URIRef('https://www.simphony-osp.eu/entity#c3887bb1-1490-4b38-9610-f95cfa4ed822')\n",
      "rdflib.term.URIRef('https://www.simphony-osp.eu/entity#c3887bb1-1490-4b38-9610-f95cfa4ed822')\n",
      "None\n",
      "{'o': rdflib.term.URIRef('https://www.simphony-osp.eu/entity#c3887bb1-1490-4b38-9610-f95cfa4ed822')}\n",
      "(rdflib.term.URIRef('https://www.simphony-osp.eu/entity#0e56ff32-7d95-4690-8424-d2f60bdb8e8f'),)\n",
      "rdflib.term.URIRef('https://www.simphony-osp.eu/entity#0e56ff32-7d95-4690-8424-d2f60bdb8e8f')\n",
      "rdflib.term.URIRef('https://www.simphony-osp.eu/entity#0e56ff32-7d95-4690-8424-d2f60bdb8e8f')\n",
      "None\n",
      "{'o': rdflib.term.URIRef('https://www.simphony-osp.eu/entity#0e56ff32-7d95-4690-8424-d2f60bdb8e8f')}\n",
      "(rdflib.term.URIRef('http://example.org/entities#Lena'),)\n",
      "rdflib.term.URIRef('http://example.org/entities#Lena')\n",
      "rdflib.term.URIRef('http://example.org/entities#Lena')\n",
      "None\n",
      "{'o': rdflib.term.URIRef('http://example.org/entities#Lena')}\n",
      "(rdflib.term.URIRef('http://example.org/entities#Nikola'),)\n",
      "rdflib.term.URIRef('http://example.org/entities#Nikola')\n",
      "rdflib.term.URIRef('http://example.org/entities#Nikola')\n",
      "None\n",
      "{'o': rdflib.term.URIRef('http://example.org/entities#Nikola')}\n"
     ]
    }
   ],
   "source": [
    "result = search.sparql(  # no session specified, uses the default session (Core Session in this example)\n",
    "    f\"\"\"SELECT ?o WHERE {{\n",
    "        <{freiburg.identifier}> ?p ?o .\n",
    "    }}\n",
    "    \"\"\"\n",
    ")\n",
    "\n",
    "print(\n",
    "    len(result),  # number of rows in the result\n",
    "    bool(result)  # True when at least one match has been found\n",
    ")\n",
    "\n",
    "for row in result:  # iterating the result yields ResultRow objects\n",
    "    print(row.__repr__())\n",
    "    # ResultRows inherint from tuples\n",
    "    # the order of the variables passed to the query is respected\n",
    "\n",
    "    print(row[0].__repr__())  # a specific variable can be accessed using either its position,\n",
    "    print(row['o'].__repr__())  # or name\n",
    "\n",
    "    print(row.get('unknown_variable', None))  # a dict-like `get` method is available\n",
    "\n",
    "    print(row.asdict())  # transforms the row into a dictionary"
   ]
  },
  {
   "cell_type": "code",
   "execution_count": 33,
   "id": "eccff082",
   "metadata": {},
   "outputs": [
    {
     "name": "stdout",
     "output_type": "stream",
     "text": [
      "- Ontology individual:\n",
      "  identifier: 6b46a972-7227-40af-9d2a-b97fd176ee7a\n",
      "  type: City (city)\n",
      "  superclasses: None (owl), Geographical Place (city), City (city), Populated Place (city)\n",
      "  values: \u0000coordinates: [47.997791  7.842609]\n",
      "          \u0000name: Freiburg\n",
      "   |_Relationship has part (city):\n",
      "     - Ontology individual of class Neighborhood\n",
      "      . identifier: 1d6fd8ad-b3ae-406e-897d-ebacd07044e9\n",
      "      . \u0000coordinates: [47.99888  7.83774]\n",
      "      . \u0000name: Stühlinger\n",
      "     - Ontology individual of class Neighborhood\n",
      "      . identifier: 259ba6a5-4ce6-4494-a038-cea7b870e376\n",
      "      . \u0000coordinates: [48.00779  7.86268]\n",
      "      . \u0000name: Herdern\n",
      "     - Ontology individual of class Neighborhood\n",
      "      . identifier: 71253f0a-9ba5-4c83-8b69-d347c30d5a5b\n",
      "      . \u0000coordinates: [48.00021  7.86084]\n",
      "      . \u0000name: Neuburg\n",
      "     - Ontology individual of class Neighborhood\n",
      "      . identifier: ab80de8e-a283-4af3-b7e1-7da11d5a7228\n",
      "      . \u0000coordinates: [48.01684  7.843  ]\n",
      "      . \u0000name: Brühl\n",
      "     - Ontology individual of class Neighborhood\n",
      "        identifier: d313ade1-0c28-40bb-852a-8ce843ea3c5b\n",
      "        \u0000coordinates: [47.99525  7.84726]\n",
      "        \u0000name: Altstadt\n",
      "- Ontology individual:\n",
      "  identifier: d313ade1-0c28-40bb-852a-8ce843ea3c5b\n",
      "  type: Neighborhood (city)\n",
      "  superclasses: None (owl), Geographical Place (city), Populated Place (city), Neighborhood (city)\n",
      "  values: \u0000coordinates: [47.99525  7.84726]\n",
      "          \u0000name: Altstadt\n",
      "- Ontology individual:\n",
      "  identifier: 71253f0a-9ba5-4c83-8b69-d347c30d5a5b\n",
      "  type: Neighborhood (city)\n",
      "  superclasses: None (owl), Geographical Place (city), Populated Place (city), Neighborhood (city)\n",
      "  values: \u0000coordinates: [48.00021  7.86084]\n",
      "          \u0000name: Neuburg\n",
      "- Ontology individual:\n",
      "  identifier: 1d6fd8ad-b3ae-406e-897d-ebacd07044e9\n",
      "  type: Neighborhood (city)\n",
      "  superclasses: None (owl), Geographical Place (city), Populated Place (city), Neighborhood (city)\n",
      "  values: \u0000coordinates: [47.99888  7.83774]\n",
      "          \u0000name: Stühlinger\n",
      "- Ontology individual:\n",
      "  identifier: 259ba6a5-4ce6-4494-a038-cea7b870e376\n",
      "  type: Neighborhood (city)\n",
      "  superclasses: None (owl), Geographical Place (city), Populated Place (city), Neighborhood (city)\n",
      "  values: \u0000coordinates: [48.00779  7.86268]\n",
      "          \u0000name: Herdern\n",
      "- Ontology individual:\n",
      "  identifier: ab80de8e-a283-4af3-b7e1-7da11d5a7228\n",
      "  type: Neighborhood (city)\n",
      "  superclasses: None (owl), Geographical Place (city), Populated Place (city), Neighborhood (city)\n",
      "  values: \u0000coordinates: [48.01684  7.843  ]\n",
      "          \u0000name: Brühl\n"
     ]
    }
   ],
   "source": [
    "for i in session:\n",
    "    pretty_print(i)"
   ]
  },
  {
   "cell_type": "code",
   "execution_count": 34,
   "id": "ee12bb81",
   "metadata": {},
   "outputs": [
    {
     "data": {
      "text/plain": [
       "rdflib.term.URIRef('https://www.simphony-osp.eu/city#Citizen')"
      ]
     },
     "execution_count": 34,
     "metadata": {},
     "output_type": "execute_result"
    }
   ],
   "source": [
    "city.Citizen.identifier"
   ]
  },
  {
   "cell_type": "code",
   "execution_count": 35,
   "id": "42faced0",
   "metadata": {},
   "outputs": [
    {
     "data": {
      "text/plain": [
       "<bound method OntologyEntity.is_subclass_of of <OntologyClass: Floor https://www.simphony-osp.eu/city#Floor>>"
      ]
     },
     "execution_count": 35,
     "metadata": {},
     "output_type": "execute_result"
    }
   ],
   "source": [
    "city['Floor'].is_subclass_of"
   ]
  },
  {
   "cell_type": "code",
   "execution_count": 36,
   "id": "763b02e5",
   "metadata": {},
   "outputs": [
    {
     "name": "stdout",
     "output_type": "stream",
     "text": [
      "Query without ontology: 0 results\n",
      "Query with ontology: 5 results\n",
      "(<OntologyIndividual: 692210ed-9fb1-4310-9a06-fbe3e2ec0a5c>, 'Nikola', 35)\n",
      "(<OntologyIndividual: 4d7abafe-8f29-43a0-80cf-0a69d110158d>, 'Lena', 70)\n",
      "(<OntologyIndividual: http://example.org/entities#Nikola>, 'Nikola', 35)\n",
      "(<OntologyIndividual: http://example.org/entities#Lena>, 'Lena', 70)\n",
      "(<OntologyIndividual: 46045725-dc27-4dd6-861a-bab002167681>, 'François', 32)\n"
     ]
    }
   ],
   "source": [
    "result = search.sparql(\n",
    "    f\"\"\"SELECT ?person ?name ?age WHERE {{\n",
    "        ?person rdf:type/rdfs:subClassOf <{city.Person.identifier}> .\n",
    "        ?person <{city['name'].identifier}> ?name .\n",
    "        ?person <{city.age.identifier}> ?age .\n",
    "    }}\n",
    "    \"\"\",\n",
    "    ontology=False\n",
    ")\n",
    "\n",
    "print(\"Query without ontology:\", len(result), \"results\")\n",
    "\n",
    "result = search.sparql(\n",
    "    f\"\"\"SELECT ?person ?name ?age WHERE {{\n",
    "        ?person rdf:type <{city.Citizen.identifier}> .\n",
    "        ?person <{city['name'].identifier}> ?name .\n",
    "        ?person <{city.age.identifier}> ?age .\n",
    "    }}\n",
    "    \"\"\",\n",
    "    ontology=True\n",
    ")\n",
    "\n",
    "print(\"Query with ontology:\", len(result), \"results\")\n",
    "\n",
    "for row in result(person=OntologyIndividual, name=str, age=int):\n",
    "    print(row)"
   ]
  },
  {
   "cell_type": "code",
   "execution_count": 37,
   "id": "a87a3c86",
   "metadata": {},
   "outputs": [],
   "source": [
    "export_file(core_session, file='./dome-core-data-session.ttl', format='turtle')"
   ]
  },
  {
   "cell_type": "code",
   "execution_count": 38,
   "id": "f1e89791",
   "metadata": {},
   "outputs": [
    {
     "data": {
      "text/plain": [
       "'/Users/adham/dev/simphony_4_git/simphony-osp'"
      ]
     },
     "execution_count": 38,
     "metadata": {},
     "output_type": "execute_result"
    }
   ],
   "source": [
    "pwd()"
   ]
  },
  {
   "cell_type": "code",
   "execution_count": null,
   "id": "9ae58eca",
   "metadata": {},
   "outputs": [],
   "source": []
  },
  {
   "cell_type": "code",
   "execution_count": 39,
   "id": "8c65b843",
   "metadata": {},
   "outputs": [],
   "source": [
    "a=boe.Atom()"
   ]
  },
  {
   "cell_type": "code",
   "execution_count": 40,
   "id": "a7e7bffb",
   "metadata": {},
   "outputs": [],
   "source": [
    "m=boe.Mass()"
   ]
  },
  {
   "cell_type": "code",
   "execution_count": null,
   "id": "d80a1a7a",
   "metadata": {},
   "outputs": [],
   "source": []
  }
 ],
 "metadata": {
  "kernelspec": {
   "display_name": ".venv",
   "language": "python",
   "name": ".venv"
  },
  "language_info": {
   "codemirror_mode": {
    "name": "ipython",
    "version": 3
   },
   "file_extension": ".py",
   "mimetype": "text/x-python",
   "name": "python",
   "nbconvert_exporter": "python",
   "pygments_lexer": "ipython3",
   "version": "3.11.3"
  }
 },
 "nbformat": 4,
 "nbformat_minor": 5
}
