{
 "cells": [
  {
   "cell_type": "code",
   "execution_count": 11,
   "id": "ae5debe5",
   "metadata": {},
   "outputs": [],
   "source": [
    "from simphony_osp.namespaces import city\n",
    "from simphony_osp.tools import pretty_print\n",
    "from rdflib import Graph, URIRef, Literal\n",
    "from rdflib.namespace import FOAF\n",
    "from simphony_osp.tools import export_file, import_file, search\n",
    "from simphony_osp.session import core_session\n",
    "from simphony_osp.ontology import OntologyIndividual\n",
    "from simphony_osp.tools import semantic2dot"
   ]
  },
  {
   "cell_type": "code",
   "execution_count": 12,
   "id": "0536c53d",
   "metadata": {},
   "outputs": [],
   "source": [
    "\n",
    "freiburg = city.City(name=\"Freiburg\", coordinates=[47.997791, 7.842609])\n",
    "\n",
    "neighborhoods = {\n",
    "    city.Neighborhood(name=name, coordinates=coordinates)\n",
    "    for name, coordinates in [\n",
    "        ('Altstadt', [47.99525, 7.84726]),\n",
    "        ('Stühlinger', [47.99888, 7.83774]),\n",
    "        ('Neuburg', [48.00021, 7.86084]),\n",
    "        ('Herdern', [48.00779, 7.86268]),\n",
    "        ('Brühl', [48.01684, 7.843]),\n",
    "    ]\n",
    "}\n",
    "\n",
    "citizen_1 = city.Citizen(name='Nikola', age=35)\n",
    "citizen_2 = city.Citizen(name='Lena', age=70)\n",
    "\n",
    "freiburg[city.hasPart] |= neighborhoods\n",
    "freiburg[city.hasInhabitant] += citizen_1, citizen_2"
   ]
  },
  {
   "cell_type": "code",
   "execution_count": 10,
   "id": "7eb0779c",
   "metadata": {},
   "outputs": [
    {
     "ename": "RuntimeError",
     "evalue": "Two or more python classes (<class 'simphony_osp.ontology.relationship.OntologyRelationship'>, <class 'simphony_osp.ontology.attribute.OntologyAttribute'>) could be spawned from http://xmlns.com/foaf/0.1/homepage.",
     "output_type": "error",
     "traceback": [
      "\u001b[0;31m---------------------------------------------------------------------------\u001b[0m",
      "\u001b[0;31mRuntimeError\u001b[0m                              Traceback (most recent call last)",
      "Cell \u001b[0;32mIn[10], line 3\u001b[0m\n\u001b[1;32m      1\u001b[0m \u001b[38;5;28;01mfrom\u001b[39;00m \u001b[38;5;21;01msimphony_osp\u001b[39;00m\u001b[38;5;21;01m.\u001b[39;00m\u001b[38;5;21;01mtools\u001b[39;00m \u001b[38;5;28;01mimport\u001b[39;00m semantic2dot  \u001b[38;5;66;03m# explained in a later section\u001b[39;00m\n\u001b[0;32m----> 3\u001b[0m \u001b[43msemantic2dot\u001b[49m\u001b[43m(\u001b[49m\u001b[43mfreiburg\u001b[49m\u001b[43m,\u001b[49m\u001b[43m \u001b[49m\u001b[38;5;241;43m*\u001b[39;49m\u001b[43mneighborhoods\u001b[49m\u001b[43m,\u001b[49m\u001b[43m \u001b[49m\u001b[43mcitizen_1\u001b[49m\u001b[43m,\u001b[49m\u001b[43m \u001b[49m\u001b[43mcitizen_2\u001b[49m\u001b[43m)\u001b[49m\n",
      "File \u001b[0;32m~/dev/simphony_4_git/simphony-osp/simphony_osp/tools/semantic2dot.py:556\u001b[0m, in \u001b[0;36msemantic2dot\u001b[0;34m(rel, *elements)\u001b[0m\n\u001b[1;32m    524\u001b[0m \u001b[38;5;28;01mdef\u001b[39;00m \u001b[38;5;21msemantic2dot\u001b[39m(\n\u001b[1;32m    525\u001b[0m     \u001b[38;5;241m*\u001b[39melements: Union[\n\u001b[1;32m    526\u001b[0m         OntologyIndividual,\n\u001b[0;32m   (...)\u001b[0m\n\u001b[1;32m    532\u001b[0m     ] \u001b[38;5;241m=\u001b[39m \u001b[38;5;28;01mNone\u001b[39;00m,\n\u001b[1;32m    533\u001b[0m ) \u001b[38;5;241m-\u001b[39m\u001b[38;5;241m>\u001b[39m Semantic2Dot:\n\u001b[1;32m    534\u001b[0m \u001b[38;5;250m    \u001b[39m\u001b[38;5;124;03m\"\"\"Utility for plotting ontology entities.\u001b[39;00m\n\u001b[1;32m    535\u001b[0m \n\u001b[1;32m    536\u001b[0m \u001b[38;5;124;03m    Note: If you are reading the SimPhoNy documentation API Reference, it\u001b[39;00m\n\u001b[0;32m   (...)\u001b[0m\n\u001b[1;32m    554\u001b[0m \u001b[38;5;124;03m            `simphony_osp.tools.search` to additionally plot such individuals.\u001b[39;00m\n\u001b[1;32m    555\u001b[0m \u001b[38;5;124;03m    \"\"\"\u001b[39;00m\n\u001b[0;32m--> 556\u001b[0m     \u001b[38;5;28;01mreturn\u001b[39;00m \u001b[43mSemantic2Dot\u001b[49m\u001b[43m(\u001b[49m\u001b[38;5;241;43m*\u001b[39;49m\u001b[43melements\u001b[49m\u001b[43m,\u001b[49m\u001b[43m \u001b[49m\u001b[43mrel\u001b[49m\u001b[38;5;241;43m=\u001b[39;49m\u001b[43mrel\u001b[49m\u001b[43m)\u001b[49m\n",
      "File \u001b[0;32m~/dev/simphony_4_git/simphony-osp/simphony_osp/tools/semantic2dot.py:109\u001b[0m, in \u001b[0;36mSemantic2Dot.__init__\u001b[0;34m(self, rel, *elements)\u001b[0m\n\u001b[1;32m     85\u001b[0m \u001b[38;5;28mself\u001b[39m\u001b[38;5;241m.\u001b[39m_requested \u001b[38;5;241m=\u001b[39m \u001b[38;5;28mfrozenset\u001b[39m(\n\u001b[1;32m     86\u001b[0m     {\n\u001b[1;32m     87\u001b[0m         part\n\u001b[0;32m   (...)\u001b[0m\n\u001b[1;32m    105\u001b[0m     }\n\u001b[1;32m    106\u001b[0m )\n\u001b[1;32m    108\u001b[0m \u001b[38;5;28mself\u001b[39m\u001b[38;5;241m.\u001b[39m_graph \u001b[38;5;241m=\u001b[39m Digraph(\u001b[38;5;28mformat\u001b[39m\u001b[38;5;241m=\u001b[39m\u001b[38;5;124m\"\u001b[39m\u001b[38;5;124mpng\u001b[39m\u001b[38;5;124m\"\u001b[39m, name\u001b[38;5;241m=\u001b[39m\u001b[38;5;124m\"\u001b[39m\u001b[38;5;124mSimPhoNy semantic2dot\u001b[39m\u001b[38;5;124m\"\u001b[39m)\n\u001b[0;32m--> 109\u001b[0m \u001b[38;5;28;43mself\u001b[39;49m\u001b[38;5;241;43m.\u001b[39;49m\u001b[43m_draw_all\u001b[49m\u001b[43m(\u001b[49m\u001b[43m)\u001b[49m\n",
      "File \u001b[0;32m~/dev/simphony_4_git/simphony-osp/simphony_osp/tools/semantic2dot.py:195\u001b[0m, in \u001b[0;36mSemantic2Dot._draw_all\u001b[0;34m(self)\u001b[0m\n\u001b[1;32m    190\u001b[0m         complementary_nodes \u001b[38;5;241m|\u001b[39m\u001b[38;5;241m=\u001b[39m superclasses\n\u001b[1;32m    191\u001b[0m         edges[\u001b[38;5;124m\"\u001b[39m\u001b[38;5;124mcomplementary_superclasses\u001b[39m\u001b[38;5;124m\"\u001b[39m] \u001b[38;5;241m|\u001b[39m\u001b[38;5;241m=\u001b[39m {\n\u001b[1;32m    192\u001b[0m             (node, superclass) \u001b[38;5;28;01mfor\u001b[39;00m superclass \u001b[38;5;129;01min\u001b[39;00m superclasses\n\u001b[1;32m    193\u001b[0m         }\n\u001b[0;32m--> 195\u001b[0m     \u001b[38;5;28;43mself\u001b[39;49m\u001b[38;5;241;43m.\u001b[39;49m\u001b[43m_draw_node\u001b[49m\u001b[43m(\u001b[49m\u001b[43mnode\u001b[49m\u001b[43m,\u001b[49m\u001b[43m \u001b[49m\u001b[43mcomplementary\u001b[49m\u001b[38;5;241;43m=\u001b[39;49m\u001b[38;5;28;43;01mFalse\u001b[39;49;00m\u001b[43m)\u001b[49m\n\u001b[1;32m    197\u001b[0m complementary_nodes \u001b[38;5;241m=\u001b[39m complementary_nodes \u001b[38;5;241m-\u001b[39m nodes\n\u001b[1;32m    199\u001b[0m \u001b[38;5;66;03m# draw complementary nodes\u001b[39;00m\n",
      "File \u001b[0;32m~/dev/simphony_4_git/simphony-osp/simphony_osp/tools/semantic2dot.py:293\u001b[0m, in \u001b[0;36mSemantic2Dot._draw_node\u001b[0;34m(self, entity, complementary)\u001b[0m\n\u001b[1;32m    281\u001b[0m \u001b[38;5;250m\u001b[39m\u001b[38;5;124;03m\"\"\"Choose the method to draw an ontology entity and call it.\u001b[39;00m\n\u001b[1;32m    282\u001b[0m \n\u001b[1;32m    283\u001b[0m \u001b[38;5;124;03mSelects the correct method to draw an ontology entity according to\u001b[39;00m\n\u001b[0;32m   (...)\u001b[0m\n\u001b[1;32m    290\u001b[0m \u001b[38;5;124;03m    TypeError: Unsupported entity type.\u001b[39;00m\n\u001b[1;32m    291\u001b[0m \u001b[38;5;124;03m\"\"\"\u001b[39;00m\n\u001b[1;32m    292\u001b[0m \u001b[38;5;28;01mif\u001b[39;00m \u001b[38;5;28misinstance\u001b[39m(entity, OntologyIndividual):\n\u001b[0;32m--> 293\u001b[0m     \u001b[38;5;28;43mself\u001b[39;49m\u001b[38;5;241;43m.\u001b[39;49m\u001b[43m_draw_node_individual\u001b[49m\u001b[43m(\u001b[49m\u001b[43mentity\u001b[49m\u001b[43m,\u001b[49m\u001b[43m \u001b[49m\u001b[43mcomplementary\u001b[49m\u001b[38;5;241;43m=\u001b[39;49m\u001b[43mcomplementary\u001b[49m\u001b[43m)\u001b[49m\n\u001b[1;32m    294\u001b[0m \u001b[38;5;28;01melif\u001b[39;00m \u001b[38;5;28misinstance\u001b[39m(entity, OntologyRelationship):\n\u001b[1;32m    295\u001b[0m     \u001b[38;5;28mself\u001b[39m\u001b[38;5;241m.\u001b[39m_draw_node_relationship(entity, complementary\u001b[38;5;241m=\u001b[39mcomplementary)\n",
      "File \u001b[0;32m~/dev/simphony_4_git/simphony-osp/simphony_osp/tools/semantic2dot.py:316\u001b[0m, in \u001b[0;36mSemantic2Dot._draw_node_individual\u001b[0;34m(self, individual, complementary)\u001b[0m\n\u001b[1;32m    303\u001b[0m \u001b[38;5;28;01mdef\u001b[39;00m \u001b[38;5;21m_draw_node_individual\u001b[39m(\n\u001b[1;32m    304\u001b[0m     \u001b[38;5;28mself\u001b[39m,\n\u001b[1;32m    305\u001b[0m     individual: OntologyIndividual,\n\u001b[1;32m    306\u001b[0m     complementary: \u001b[38;5;28mbool\u001b[39m \u001b[38;5;241m=\u001b[39m \u001b[38;5;28;01mFalse\u001b[39;00m,\n\u001b[1;32m    307\u001b[0m ) \u001b[38;5;241m-\u001b[39m\u001b[38;5;241m>\u001b[39m \u001b[38;5;28;01mNone\u001b[39;00m:\n\u001b[1;32m    308\u001b[0m \u001b[38;5;250m    \u001b[39m\u001b[38;5;124;03m\"\"\"Add an ontology individual as a node to the graph.\u001b[39;00m\n\u001b[1;32m    309\u001b[0m \n\u001b[1;32m    310\u001b[0m \u001b[38;5;124;03m    Args:\u001b[39;00m\n\u001b[1;32m    311\u001b[0m \u001b[38;5;124;03m        individual: Ontology individual to draw.\u001b[39;00m\n\u001b[1;32m    312\u001b[0m \u001b[38;5;124;03m        complementary: Whether the drawn entity is complementary or not.\u001b[39;00m\n\u001b[1;32m    313\u001b[0m \u001b[38;5;124;03m    \"\"\"\u001b[39;00m\n\u001b[1;32m    314\u001b[0m     attributes \u001b[38;5;241m=\u001b[39m \u001b[38;5;28mself\u001b[39m\u001b[38;5;241m.\u001b[39m_attribute\u001b[38;5;241m.\u001b[39mformat(\n\u001b[1;32m    315\u001b[0m         \u001b[38;5;124m\"\u001b[39m\u001b[38;5;124mclasses\u001b[39m\u001b[38;5;124m\"\u001b[39m,\n\u001b[0;32m--> 316\u001b[0m         \u001b[38;5;124;43m\"\u001b[39;49m\u001b[38;5;124;43m,\u001b[39;49m\u001b[38;5;124;43m\"\u001b[39;49m\u001b[38;5;241;43m.\u001b[39;49m\u001b[43mjoin\u001b[49m\u001b[43m(\u001b[49m\n\u001b[1;32m    317\u001b[0m \u001b[43m            \u001b[49m\u001b[38;5;28;43mstr\u001b[39;49m\u001b[43m(\u001b[49m\u001b[43mx\u001b[49m\u001b[43m)\u001b[49m\u001b[43m \u001b[49m\u001b[38;5;241;43m+\u001b[39;49m\u001b[43m \u001b[49m\u001b[43m(\u001b[49m\u001b[38;5;124;43mf\u001b[39;49m\u001b[38;5;124;43m\"\u001b[39;49m\u001b[38;5;124;43m (\u001b[39;49m\u001b[38;5;132;43;01m{\u001b[39;49;00m\u001b[43mx\u001b[49m\u001b[38;5;241;43m.\u001b[39;49m\u001b[43mnamespace\u001b[49m\u001b[38;5;241;43m.\u001b[39;49m\u001b[43mname\u001b[49m\u001b[38;5;132;43;01m}\u001b[39;49;00m\u001b[38;5;124;43m)\u001b[39;49m\u001b[38;5;124;43m\"\u001b[39;49m\u001b[43m \u001b[49m\u001b[38;5;28;43;01mif\u001b[39;49;00m\u001b[43m \u001b[49m\u001b[43mx\u001b[49m\u001b[38;5;241;43m.\u001b[39;49m\u001b[43mnamespace\u001b[49m\u001b[43m \u001b[49m\u001b[38;5;28;43;01melse\u001b[39;49;00m\u001b[43m \u001b[49m\u001b[38;5;124;43m\"\u001b[39;49m\u001b[38;5;124;43m\"\u001b[39;49m\u001b[43m)\u001b[49m\n\u001b[1;32m    318\u001b[0m \u001b[43m            \u001b[49m\u001b[38;5;28;43;01mfor\u001b[39;49;00m\u001b[43m \u001b[49m\u001b[43mx\u001b[49m\u001b[43m \u001b[49m\u001b[38;5;129;43;01min\u001b[39;49;00m\u001b[43m \u001b[49m\u001b[43mindividual\u001b[49m\u001b[38;5;241;43m.\u001b[39;49m\u001b[43mclasses\u001b[49m\n\u001b[1;32m    319\u001b[0m \u001b[43m        \u001b[49m\u001b[43m)\u001b[49m,\n\u001b[1;32m    320\u001b[0m     )\n\u001b[1;32m    322\u001b[0m     \u001b[38;5;28;01mfor\u001b[39;00m key, value \u001b[38;5;129;01min\u001b[39;00m individual\u001b[38;5;241m.\u001b[39mattributes\u001b[38;5;241m.\u001b[39mitems():\n\u001b[1;32m    323\u001b[0m         label \u001b[38;5;241m=\u001b[39m \u001b[38;5;28mself\u001b[39m\u001b[38;5;241m.\u001b[39m_get_element_label(key)\n",
      "File \u001b[0;32m~/dev/simphony_4_git/simphony-osp/simphony_osp/tools/semantic2dot.py:317\u001b[0m, in \u001b[0;36m<genexpr>\u001b[0;34m(.0)\u001b[0m\n\u001b[1;32m    303\u001b[0m \u001b[38;5;28;01mdef\u001b[39;00m \u001b[38;5;21m_draw_node_individual\u001b[39m(\n\u001b[1;32m    304\u001b[0m     \u001b[38;5;28mself\u001b[39m,\n\u001b[1;32m    305\u001b[0m     individual: OntologyIndividual,\n\u001b[1;32m    306\u001b[0m     complementary: \u001b[38;5;28mbool\u001b[39m \u001b[38;5;241m=\u001b[39m \u001b[38;5;28;01mFalse\u001b[39;00m,\n\u001b[1;32m    307\u001b[0m ) \u001b[38;5;241m-\u001b[39m\u001b[38;5;241m>\u001b[39m \u001b[38;5;28;01mNone\u001b[39;00m:\n\u001b[1;32m    308\u001b[0m \u001b[38;5;250m    \u001b[39m\u001b[38;5;124;03m\"\"\"Add an ontology individual as a node to the graph.\u001b[39;00m\n\u001b[1;32m    309\u001b[0m \n\u001b[1;32m    310\u001b[0m \u001b[38;5;124;03m    Args:\u001b[39;00m\n\u001b[1;32m    311\u001b[0m \u001b[38;5;124;03m        individual: Ontology individual to draw.\u001b[39;00m\n\u001b[1;32m    312\u001b[0m \u001b[38;5;124;03m        complementary: Whether the drawn entity is complementary or not.\u001b[39;00m\n\u001b[1;32m    313\u001b[0m \u001b[38;5;124;03m    \"\"\"\u001b[39;00m\n\u001b[1;32m    314\u001b[0m     attributes \u001b[38;5;241m=\u001b[39m \u001b[38;5;28mself\u001b[39m\u001b[38;5;241m.\u001b[39m_attribute\u001b[38;5;241m.\u001b[39mformat(\n\u001b[1;32m    315\u001b[0m         \u001b[38;5;124m\"\u001b[39m\u001b[38;5;124mclasses\u001b[39m\u001b[38;5;124m\"\u001b[39m,\n\u001b[1;32m    316\u001b[0m         \u001b[38;5;124m\"\u001b[39m\u001b[38;5;124m,\u001b[39m\u001b[38;5;124m\"\u001b[39m\u001b[38;5;241m.\u001b[39mjoin(\n\u001b[0;32m--> 317\u001b[0m             \u001b[38;5;28mstr\u001b[39m(x) \u001b[38;5;241m+\u001b[39m (\u001b[38;5;124mf\u001b[39m\u001b[38;5;124m\"\u001b[39m\u001b[38;5;124m (\u001b[39m\u001b[38;5;132;01m{\u001b[39;00mx\u001b[38;5;241m.\u001b[39mnamespace\u001b[38;5;241m.\u001b[39mname\u001b[38;5;132;01m}\u001b[39;00m\u001b[38;5;124m)\u001b[39m\u001b[38;5;124m\"\u001b[39m \u001b[38;5;28;01mif\u001b[39;00m x\u001b[38;5;241m.\u001b[39mnamespace \u001b[38;5;28;01melse\u001b[39;00m \u001b[38;5;124m\"\u001b[39m\u001b[38;5;124m\"\u001b[39m)\n\u001b[1;32m    318\u001b[0m             \u001b[38;5;28;01mfor\u001b[39;00m x \u001b[38;5;129;01min\u001b[39;00m individual\u001b[38;5;241m.\u001b[39mclasses\n\u001b[1;32m    319\u001b[0m         ),\n\u001b[1;32m    320\u001b[0m     )\n\u001b[1;32m    322\u001b[0m     \u001b[38;5;28;01mfor\u001b[39;00m key, value \u001b[38;5;129;01min\u001b[39;00m individual\u001b[38;5;241m.\u001b[39mattributes\u001b[38;5;241m.\u001b[39mitems():\n\u001b[1;32m    323\u001b[0m         label \u001b[38;5;241m=\u001b[39m \u001b[38;5;28mself\u001b[39m\u001b[38;5;241m.\u001b[39m_get_element_label(key)\n",
      "File \u001b[0;32m~/dev/simphony_4_git/simphony-osp/simphony_osp/ontology/namespace.py:175\u001b[0m, in \u001b[0;36mOntologyNamespace.__len__\u001b[0;34m(self)\u001b[0m\n\u001b[1;32m    173\u001b[0m \u001b[38;5;28;01mdef\u001b[39;00m \u001b[38;5;21m__len__\u001b[39m(\u001b[38;5;28mself\u001b[39m) \u001b[38;5;241m-\u001b[39m\u001b[38;5;241m>\u001b[39m \u001b[38;5;28mint\u001b[39m:\n\u001b[1;32m    174\u001b[0m \u001b[38;5;250m    \u001b[39m\u001b[38;5;124;03m\"\"\"Return the number of entities in the namespace.\"\"\"\u001b[39;00m\n\u001b[0;32m--> 175\u001b[0m     \u001b[38;5;28;01mreturn\u001b[39;00m \u001b[38;5;28;43msum\u001b[39;49m\u001b[43m(\u001b[49m\u001b[38;5;241;43m1\u001b[39;49m\u001b[43m \u001b[49m\u001b[38;5;28;43;01mfor\u001b[39;49;00m\u001b[43m \u001b[49m\u001b[43m_\u001b[49m\u001b[43m \u001b[49m\u001b[38;5;129;43;01min\u001b[39;49;00m\u001b[43m \u001b[49m\u001b[38;5;28;43mself\u001b[39;49m\u001b[43m)\u001b[49m\n",
      "File \u001b[0;32m~/dev/simphony_4_git/simphony-osp/simphony_osp/ontology/namespace.py:175\u001b[0m, in \u001b[0;36m<genexpr>\u001b[0;34m(.0)\u001b[0m\n\u001b[1;32m    173\u001b[0m \u001b[38;5;28;01mdef\u001b[39;00m \u001b[38;5;21m__len__\u001b[39m(\u001b[38;5;28mself\u001b[39m) \u001b[38;5;241m-\u001b[39m\u001b[38;5;241m>\u001b[39m \u001b[38;5;28mint\u001b[39m:\n\u001b[1;32m    174\u001b[0m \u001b[38;5;250m    \u001b[39m\u001b[38;5;124;03m\"\"\"Return the number of entities in the namespace.\"\"\"\u001b[39;00m\n\u001b[0;32m--> 175\u001b[0m     \u001b[38;5;28;01mreturn\u001b[39;00m \u001b[38;5;28msum\u001b[39m(\u001b[38;5;241m1\u001b[39m \u001b[38;5;28;01mfor\u001b[39;00m _ \u001b[38;5;129;01min\u001b[39;00m \u001b[38;5;28mself\u001b[39m)\n",
      "File \u001b[0;32m~/dev/simphony_4_git/simphony-osp/simphony_osp/ontology/namespace.py:138\u001b[0m, in \u001b[0;36m<genexpr>\u001b[0;34m(.0)\u001b[0m\n\u001b[1;32m    136\u001b[0m \u001b[38;5;28;01mdef\u001b[39;00m \u001b[38;5;21m__iter__\u001b[39m(\u001b[38;5;28mself\u001b[39m) \u001b[38;5;241m-\u001b[39m\u001b[38;5;241m>\u001b[39m Iterator[OntologyEntity]:\n\u001b[1;32m    137\u001b[0m \u001b[38;5;250m    \u001b[39m\u001b[38;5;124;03m\"\"\"Iterate over the ontology entities in the namespace.\"\"\"\u001b[39;00m\n\u001b[0;32m--> 138\u001b[0m     \u001b[38;5;28;01mreturn\u001b[39;00m (entity \u001b[38;5;28;01mfor\u001b[39;00m entity \u001b[38;5;129;01min\u001b[39;00m \u001b[38;5;28miter\u001b[39m(\u001b[38;5;28mself\u001b[39m\u001b[38;5;241m.\u001b[39montology) \u001b[38;5;28;01mif\u001b[39;00m entity \u001b[38;5;129;01min\u001b[39;00m \u001b[38;5;28mself\u001b[39m)\n",
      "File \u001b[0;32m~/dev/simphony_4_git/simphony-osp/simphony_osp/session/session.py:543\u001b[0m, in \u001b[0;36m<genexpr>\u001b[0;34m(.0)\u001b[0m\n\u001b[1;32m    536\u001b[0m \u001b[38;5;250m\u001b[39m\u001b[38;5;124;03m\"\"\"Iterate over all the ontology entities in the session.\u001b[39;00m\n\u001b[1;32m    537\u001b[0m \n\u001b[1;32m    538\u001b[0m \u001b[38;5;124;03mBe careful when using this operation, as it can be computationally very\u001b[39;00m\n\u001b[1;32m    539\u001b[0m \u001b[38;5;124;03mexpensive.\u001b[39;00m\n\u001b[1;32m    540\u001b[0m \u001b[38;5;124;03m\"\"\"\u001b[39;00m\n\u001b[1;32m    541\u001b[0m \u001b[38;5;66;03m# Warning: entities can be repeated.\u001b[39;00m\n\u001b[1;32m    542\u001b[0m \u001b[38;5;28;01mreturn\u001b[39;00m (\n\u001b[0;32m--> 543\u001b[0m     \u001b[38;5;28;43mself\u001b[39;49m\u001b[38;5;241;43m.\u001b[39;49m\u001b[43mfrom_identifier\u001b[49m\u001b[43m(\u001b[49m\u001b[43midentifier\u001b[49m\u001b[43m)\u001b[49m\n\u001b[1;32m    544\u001b[0m     \u001b[38;5;28;01mfor\u001b[39;00m identifier \u001b[38;5;129;01min\u001b[39;00m \u001b[38;5;28mself\u001b[39m\u001b[38;5;241m.\u001b[39miter_identifiers()\n\u001b[1;32m    545\u001b[0m )\n",
      "File \u001b[0;32m~/dev/simphony_4_git/simphony-osp/simphony_osp/utils/cache.py:30\u001b[0m, in \u001b[0;36mlru_cache_weak.<locals>.decorator.<locals>.wrapper\u001b[0;34m(self, *args, **kwargs)\u001b[0m\n\u001b[1;32m     28\u001b[0m \u001b[38;5;129m@wraps\u001b[39m(func)\n\u001b[1;32m     29\u001b[0m \u001b[38;5;28;01mdef\u001b[39;00m \u001b[38;5;21mwrapper\u001b[39m(\u001b[38;5;28mself\u001b[39m, \u001b[38;5;241m*\u001b[39margs, \u001b[38;5;241m*\u001b[39m\u001b[38;5;241m*\u001b[39mkwargs):\n\u001b[0;32m---> 30\u001b[0m     \u001b[38;5;28;01mreturn\u001b[39;00m \u001b[43m_cached\u001b[49m\u001b[43m(\u001b[49m\u001b[43mref\u001b[49m\u001b[43m(\u001b[49m\u001b[38;5;28;43mself\u001b[39;49m\u001b[43m)\u001b[49m\u001b[43m,\u001b[49m\u001b[43m \u001b[49m\u001b[38;5;241;43m*\u001b[39;49m\u001b[43margs\u001b[49m\u001b[43m,\u001b[49m\u001b[43m \u001b[49m\u001b[38;5;241;43m*\u001b[39;49m\u001b[38;5;241;43m*\u001b[39;49m\u001b[43mkwargs\u001b[49m\u001b[43m)\u001b[49m\n",
      "File \u001b[0;32m~/dev/simphony_4_git/simphony-osp/simphony_osp/utils/cache.py:26\u001b[0m, in \u001b[0;36mlru_cache_weak.<locals>.decorator.<locals>._cached\u001b[0;34m(_self_weak_ref, *args, **kwargs)\u001b[0m\n\u001b[1;32m     24\u001b[0m \u001b[38;5;129m@lru_cache\u001b[39m(maxsize\u001b[38;5;241m=\u001b[39mmaxsize, typed\u001b[38;5;241m=\u001b[39mtyped)\n\u001b[1;32m     25\u001b[0m \u001b[38;5;28;01mdef\u001b[39;00m \u001b[38;5;21m_cached\u001b[39m(_self_weak_ref, \u001b[38;5;241m*\u001b[39margs, \u001b[38;5;241m*\u001b[39m\u001b[38;5;241m*\u001b[39mkwargs):\n\u001b[0;32m---> 26\u001b[0m     \u001b[38;5;28;01mreturn\u001b[39;00m \u001b[43mfunc\u001b[49m\u001b[43m(\u001b[49m\u001b[43m_self_weak_ref\u001b[49m\u001b[43m(\u001b[49m\u001b[43m)\u001b[49m\u001b[43m,\u001b[49m\u001b[43m \u001b[49m\u001b[38;5;241;43m*\u001b[39;49m\u001b[43margs\u001b[49m\u001b[43m,\u001b[49m\u001b[43m \u001b[49m\u001b[38;5;241;43m*\u001b[39;49m\u001b[38;5;241;43m*\u001b[39;49m\u001b[43mkwargs\u001b[49m\u001b[43m)\u001b[49m\n",
      "File \u001b[0;32m~/dev/simphony_4_git/simphony-osp/simphony_osp/session/session.py:1321\u001b[0m, in \u001b[0;36mSession.from_identifier\u001b[0;34m(self, identifier)\u001b[0m\n\u001b[1;32m   1319\u001b[0m \u001b[38;5;250m\u001b[39m\u001b[38;5;124;03m\"\"\"Finally return the single compatible class or raise an exception.\"\"\"\u001b[39;00m\n\u001b[1;32m   1320\u001b[0m \u001b[38;5;28;01mif\u001b[39;00m \u001b[38;5;28mlen\u001b[39m(compatible) \u001b[38;5;241m>\u001b[39m\u001b[38;5;241m=\u001b[39m \u001b[38;5;241m2\u001b[39m:\n\u001b[0;32m-> 1321\u001b[0m     \u001b[38;5;28;01mraise\u001b[39;00m \u001b[38;5;167;01mRuntimeError\u001b[39;00m(\n\u001b[1;32m   1322\u001b[0m         \u001b[38;5;124mf\u001b[39m\u001b[38;5;124m\"\u001b[39m\u001b[38;5;124mTwo or more python classes (\u001b[39m\u001b[38;5;124m\"\u001b[39m\n\u001b[1;32m   1323\u001b[0m         \u001b[38;5;124mf\u001b[39m\u001b[38;5;124m\"\u001b[39m\u001b[38;5;132;01m{\u001b[39;00m\u001b[38;5;124m'\u001b[39m\u001b[38;5;124m, \u001b[39m\u001b[38;5;124m'\u001b[39m\u001b[38;5;241m.\u001b[39mjoin(\u001b[38;5;28mmap\u001b[39m(\u001b[38;5;28mstr\u001b[39m,\u001b[38;5;250m \u001b[39mcompatible))\u001b[38;5;132;01m}\u001b[39;00m\u001b[38;5;124m) \u001b[39m\u001b[38;5;124m\"\u001b[39m\n\u001b[1;32m   1324\u001b[0m         \u001b[38;5;124mf\u001b[39m\u001b[38;5;124m\"\u001b[39m\u001b[38;5;124mcould be spawned from \u001b[39m\u001b[38;5;132;01m{\u001b[39;00midentifier\u001b[38;5;132;01m}\u001b[39;00m\u001b[38;5;124m.\u001b[39m\u001b[38;5;124m\"\u001b[39m\n\u001b[1;32m   1325\u001b[0m     )\n\u001b[1;32m   1326\u001b[0m \u001b[38;5;28;01mtry\u001b[39;00m:\n\u001b[1;32m   1327\u001b[0m     python_class \u001b[38;5;241m=\u001b[39m compatible\u001b[38;5;241m.\u001b[39mpop()\n",
      "\u001b[0;31mRuntimeError\u001b[0m: Two or more python classes (<class 'simphony_osp.ontology.relationship.OntologyRelationship'>, <class 'simphony_osp.ontology.attribute.OntologyAttribute'>) could be spawned from http://xmlns.com/foaf/0.1/homepage."
     ]
    }
   ],
   "source": [
    "from simphony_osp.tools import semantic2dot  # explained in a later section\n",
    "\n",
    "semantic2dot(freiburg, *neighborhoods, citizen_1, citizen_2)"
   ]
  },
  {
   "cell_type": "code",
   "execution_count": 5,
   "id": "71372e43",
   "metadata": {},
   "outputs": [],
   "source": [
    "from simphony_osp.session import Session\n",
    "\n",
    "session = Session()"
   ]
  },
  {
   "cell_type": "code",
   "execution_count": 7,
   "id": "c1c65aff",
   "metadata": {},
   "outputs": [
    {
     "ename": "RuntimeError",
     "evalue": "Two or more python classes (<class 'simphony_osp.ontology.relationship.OntologyRelationship'>, <class 'simphony_osp.ontology.attribute.OntologyAttribute'>) could be spawned from http://xmlns.com/foaf/0.1/homepage.",
     "output_type": "error",
     "traceback": [
      "\u001b[0;31m---------------------------------------------------------------------------\u001b[0m",
      "\u001b[0;31mRuntimeError\u001b[0m                              Traceback (most recent call last)",
      "File \u001b[0;32m~/dev/simphony_4_git/simphony-osp/.venv/lib/python3.11/site-packages/IPython/core/formatters.py:708\u001b[0m, in \u001b[0;36mPlainTextFormatter.__call__\u001b[0;34m(self, obj)\u001b[0m\n\u001b[1;32m    701\u001b[0m stream \u001b[38;5;241m=\u001b[39m StringIO()\n\u001b[1;32m    702\u001b[0m printer \u001b[38;5;241m=\u001b[39m pretty\u001b[38;5;241m.\u001b[39mRepresentationPrinter(stream, \u001b[38;5;28mself\u001b[39m\u001b[38;5;241m.\u001b[39mverbose,\n\u001b[1;32m    703\u001b[0m     \u001b[38;5;28mself\u001b[39m\u001b[38;5;241m.\u001b[39mmax_width, \u001b[38;5;28mself\u001b[39m\u001b[38;5;241m.\u001b[39mnewline,\n\u001b[1;32m    704\u001b[0m     max_seq_length\u001b[38;5;241m=\u001b[39m\u001b[38;5;28mself\u001b[39m\u001b[38;5;241m.\u001b[39mmax_seq_length,\n\u001b[1;32m    705\u001b[0m     singleton_pprinters\u001b[38;5;241m=\u001b[39m\u001b[38;5;28mself\u001b[39m\u001b[38;5;241m.\u001b[39msingleton_printers,\n\u001b[1;32m    706\u001b[0m     type_pprinters\u001b[38;5;241m=\u001b[39m\u001b[38;5;28mself\u001b[39m\u001b[38;5;241m.\u001b[39mtype_printers,\n\u001b[1;32m    707\u001b[0m     deferred_pprinters\u001b[38;5;241m=\u001b[39m\u001b[38;5;28mself\u001b[39m\u001b[38;5;241m.\u001b[39mdeferred_printers)\n\u001b[0;32m--> 708\u001b[0m \u001b[43mprinter\u001b[49m\u001b[38;5;241;43m.\u001b[39;49m\u001b[43mpretty\u001b[49m\u001b[43m(\u001b[49m\u001b[43mobj\u001b[49m\u001b[43m)\u001b[49m\n\u001b[1;32m    709\u001b[0m printer\u001b[38;5;241m.\u001b[39mflush()\n\u001b[1;32m    710\u001b[0m \u001b[38;5;28;01mreturn\u001b[39;00m stream\u001b[38;5;241m.\u001b[39mgetvalue()\n",
      "File \u001b[0;32m~/dev/simphony_4_git/simphony-osp/.venv/lib/python3.11/site-packages/IPython/lib/pretty.py:393\u001b[0m, in \u001b[0;36mRepresentationPrinter.pretty\u001b[0;34m(self, obj)\u001b[0m\n\u001b[1;32m    390\u001b[0m \u001b[38;5;28;01mfor\u001b[39;00m \u001b[38;5;28mcls\u001b[39m \u001b[38;5;129;01min\u001b[39;00m _get_mro(obj_class):\n\u001b[1;32m    391\u001b[0m     \u001b[38;5;28;01mif\u001b[39;00m \u001b[38;5;28mcls\u001b[39m \u001b[38;5;129;01min\u001b[39;00m \u001b[38;5;28mself\u001b[39m\u001b[38;5;241m.\u001b[39mtype_pprinters:\n\u001b[1;32m    392\u001b[0m         \u001b[38;5;66;03m# printer registered in self.type_pprinters\u001b[39;00m\n\u001b[0;32m--> 393\u001b[0m         \u001b[38;5;28;01mreturn\u001b[39;00m \u001b[38;5;28;43mself\u001b[39;49m\u001b[38;5;241;43m.\u001b[39;49m\u001b[43mtype_pprinters\u001b[49m\u001b[43m[\u001b[49m\u001b[38;5;28;43mcls\u001b[39;49m\u001b[43m]\u001b[49m\u001b[43m(\u001b[49m\u001b[43mobj\u001b[49m\u001b[43m,\u001b[49m\u001b[43m \u001b[49m\u001b[38;5;28;43mself\u001b[39;49m\u001b[43m,\u001b[49m\u001b[43m \u001b[49m\u001b[43mcycle\u001b[49m\u001b[43m)\u001b[49m\n\u001b[1;32m    394\u001b[0m     \u001b[38;5;28;01melse\u001b[39;00m:\n\u001b[1;32m    395\u001b[0m         \u001b[38;5;66;03m# deferred printer\u001b[39;00m\n\u001b[1;32m    396\u001b[0m         printer \u001b[38;5;241m=\u001b[39m \u001b[38;5;28mself\u001b[39m\u001b[38;5;241m.\u001b[39m_in_deferred_types(\u001b[38;5;28mcls\u001b[39m)\n",
      "File \u001b[0;32m~/dev/simphony_4_git/simphony-osp/.venv/lib/python3.11/site-packages/IPython/lib/pretty.py:640\u001b[0m, in \u001b[0;36m_seq_pprinter_factory.<locals>.inner\u001b[0;34m(obj, p, cycle)\u001b[0m\n\u001b[1;32m    638\u001b[0m         p\u001b[38;5;241m.\u001b[39mtext(\u001b[38;5;124m'\u001b[39m\u001b[38;5;124m,\u001b[39m\u001b[38;5;124m'\u001b[39m)\n\u001b[1;32m    639\u001b[0m         p\u001b[38;5;241m.\u001b[39mbreakable()\n\u001b[0;32m--> 640\u001b[0m     \u001b[43mp\u001b[49m\u001b[38;5;241;43m.\u001b[39;49m\u001b[43mpretty\u001b[49m\u001b[43m(\u001b[49m\u001b[43mx\u001b[49m\u001b[43m)\u001b[49m\n\u001b[1;32m    641\u001b[0m \u001b[38;5;28;01mif\u001b[39;00m \u001b[38;5;28mlen\u001b[39m(obj) \u001b[38;5;241m==\u001b[39m \u001b[38;5;241m1\u001b[39m \u001b[38;5;129;01mand\u001b[39;00m \u001b[38;5;28misinstance\u001b[39m(obj, \u001b[38;5;28mtuple\u001b[39m):\n\u001b[1;32m    642\u001b[0m     \u001b[38;5;66;03m# Special case for 1-item tuples.\u001b[39;00m\n\u001b[1;32m    643\u001b[0m     p\u001b[38;5;241m.\u001b[39mtext(\u001b[38;5;124m'\u001b[39m\u001b[38;5;124m,\u001b[39m\u001b[38;5;124m'\u001b[39m)\n",
      "File \u001b[0;32m~/dev/simphony_4_git/simphony-osp/.venv/lib/python3.11/site-packages/IPython/lib/pretty.py:410\u001b[0m, in \u001b[0;36mRepresentationPrinter.pretty\u001b[0;34m(self, obj)\u001b[0m\n\u001b[1;32m    407\u001b[0m                         \u001b[38;5;28;01mreturn\u001b[39;00m meth(obj, \u001b[38;5;28mself\u001b[39m, cycle)\n\u001b[1;32m    408\u001b[0m                 \u001b[38;5;28;01mif\u001b[39;00m \u001b[38;5;28mcls\u001b[39m \u001b[38;5;129;01mis\u001b[39;00m \u001b[38;5;129;01mnot\u001b[39;00m \u001b[38;5;28mobject\u001b[39m \\\n\u001b[1;32m    409\u001b[0m                         \u001b[38;5;129;01mand\u001b[39;00m \u001b[38;5;28mcallable\u001b[39m(\u001b[38;5;28mcls\u001b[39m\u001b[38;5;241m.\u001b[39m\u001b[38;5;18m__dict__\u001b[39m\u001b[38;5;241m.\u001b[39mget(\u001b[38;5;124m'\u001b[39m\u001b[38;5;124m__repr__\u001b[39m\u001b[38;5;124m'\u001b[39m)):\n\u001b[0;32m--> 410\u001b[0m                     \u001b[38;5;28;01mreturn\u001b[39;00m \u001b[43m_repr_pprint\u001b[49m\u001b[43m(\u001b[49m\u001b[43mobj\u001b[49m\u001b[43m,\u001b[49m\u001b[43m \u001b[49m\u001b[38;5;28;43mself\u001b[39;49m\u001b[43m,\u001b[49m\u001b[43m \u001b[49m\u001b[43mcycle\u001b[49m\u001b[43m)\u001b[49m\n\u001b[1;32m    412\u001b[0m     \u001b[38;5;28;01mreturn\u001b[39;00m _default_pprint(obj, \u001b[38;5;28mself\u001b[39m, cycle)\n\u001b[1;32m    413\u001b[0m \u001b[38;5;28;01mfinally\u001b[39;00m:\n",
      "File \u001b[0;32m~/dev/simphony_4_git/simphony-osp/.venv/lib/python3.11/site-packages/IPython/lib/pretty.py:778\u001b[0m, in \u001b[0;36m_repr_pprint\u001b[0;34m(obj, p, cycle)\u001b[0m\n\u001b[1;32m    776\u001b[0m \u001b[38;5;250m\u001b[39m\u001b[38;5;124;03m\"\"\"A pprint that just redirects to the normal repr function.\"\"\"\u001b[39;00m\n\u001b[1;32m    777\u001b[0m \u001b[38;5;66;03m# Find newlines and replace them with p.break_()\u001b[39;00m\n\u001b[0;32m--> 778\u001b[0m output \u001b[38;5;241m=\u001b[39m \u001b[38;5;28mrepr\u001b[39m(obj)\n\u001b[1;32m    779\u001b[0m lines \u001b[38;5;241m=\u001b[39m output\u001b[38;5;241m.\u001b[39msplitlines()\n\u001b[1;32m    780\u001b[0m \u001b[38;5;28;01mwith\u001b[39;00m p\u001b[38;5;241m.\u001b[39mgroup():\n",
      "File \u001b[0;32m~/dev/simphony_4_git/simphony-osp/simphony_osp/ontology/individual.py:115\u001b[0m, in \u001b[0;36mObjectSet.__repr__\u001b[0;34m(self)\u001b[0m\n\u001b[1;32m    112\u001b[0m \u001b[38;5;28;01mdef\u001b[39;00m \u001b[38;5;21m__repr__\u001b[39m(\u001b[38;5;28mself\u001b[39m) \u001b[38;5;241m-\u001b[39m\u001b[38;5;241m>\u001b[39m \u001b[38;5;28mstr\u001b[39m:\n\u001b[1;32m    113\u001b[0m \u001b[38;5;250m    \u001b[39m\u001b[38;5;124;03m\"\"\"Return repr(self).\"\"\"\u001b[39;00m\n\u001b[1;32m    114\u001b[0m     \u001b[38;5;28;01mreturn\u001b[39;00m (\n\u001b[0;32m--> 115\u001b[0m         \u001b[38;5;28;43mset\u001b[39;49m\u001b[43m(\u001b[49m\u001b[38;5;28;43mself\u001b[39;49m\u001b[43m)\u001b[49m\u001b[38;5;241m.\u001b[39m\u001b[38;5;21m__repr__\u001b[39m()\n\u001b[1;32m    116\u001b[0m         \u001b[38;5;241m+\u001b[39m \u001b[38;5;124m\"\u001b[39m\u001b[38;5;124m <\u001b[39m\u001b[38;5;124m\"\u001b[39m\n\u001b[1;32m    117\u001b[0m         \u001b[38;5;241m+\u001b[39m (\u001b[38;5;124mf\u001b[39m\u001b[38;5;124m\"\u001b[39m\u001b[38;5;132;01m{\u001b[39;00m\u001b[38;5;28mself\u001b[39m\u001b[38;5;241m.\u001b[39m_predicate\u001b[38;5;132;01m}\u001b[39;00m\u001b[38;5;124m \u001b[39m\u001b[38;5;124m\"\u001b[39m \u001b[38;5;28;01mif\u001b[39;00m \u001b[38;5;28mself\u001b[39m\u001b[38;5;241m.\u001b[39m_predicate \u001b[38;5;129;01mis\u001b[39;00m \u001b[38;5;129;01mnot\u001b[39;00m \u001b[38;5;28;01mNone\u001b[39;00m \u001b[38;5;28;01melse\u001b[39;00m \u001b[38;5;124m\"\u001b[39m\u001b[38;5;124m\"\u001b[39m)\n\u001b[1;32m    118\u001b[0m         \u001b[38;5;241m+\u001b[39m \u001b[38;5;124mf\u001b[39m\u001b[38;5;124m\"\u001b[39m\u001b[38;5;124mof ontology individual \u001b[39m\u001b[38;5;132;01m{\u001b[39;00m\u001b[38;5;28mself\u001b[39m\u001b[38;5;241m.\u001b[39m_individual\u001b[38;5;132;01m}\u001b[39;00m\u001b[38;5;124m>\u001b[39m\u001b[38;5;124m\"\u001b[39m\n\u001b[1;32m    119\u001b[0m     )\n",
      "File \u001b[0;32m~/dev/simphony_4_git/simphony-osp/simphony_osp/ontology/individual.py:348\u001b[0m, in \u001b[0;36mRelationshipSet.__iter__\u001b[0;34m(self)\u001b[0m\n\u001b[1;32m    346\u001b[0m graph \u001b[38;5;241m=\u001b[39m \u001b[38;5;28mself\u001b[39m\u001b[38;5;241m.\u001b[39m_individual\u001b[38;5;241m.\u001b[39msession\u001b[38;5;241m.\u001b[39mgraph\n\u001b[1;32m    347\u001b[0m ontology \u001b[38;5;241m=\u001b[39m \u001b[38;5;28mself\u001b[39m\u001b[38;5;241m.\u001b[39m_individual\u001b[38;5;241m.\u001b[39msession\u001b[38;5;241m.\u001b[39montology\n\u001b[0;32m--> 348\u001b[0m predicates \u001b[38;5;241m=\u001b[39m \u001b[38;5;28;43mself\u001b[39;49m\u001b[38;5;241;43m.\u001b[39;49m\u001b[43m_predicates\u001b[49m\n\u001b[1;32m    350\u001b[0m \u001b[38;5;66;03m# Get the predicate IRIs to be considered.\u001b[39;00m\n\u001b[1;32m    351\u001b[0m predicates_direct \u001b[38;5;241m=\u001b[39m {predicate\u001b[38;5;241m.\u001b[39midentifier \u001b[38;5;28;01mfor\u001b[39;00m predicate \u001b[38;5;129;01min\u001b[39;00m predicates}\n",
      "File \u001b[0;32m~/dev/simphony_4_git/simphony-osp/simphony_osp/ontology/individual.py:191\u001b[0m, in \u001b[0;36mObjectSet._predicates\u001b[0;34m(self)\u001b[0m\n\u001b[1;32m    174\u001b[0m \u001b[38;5;129m@property\u001b[39m\n\u001b[1;32m    175\u001b[0m \u001b[38;5;28;01mdef\u001b[39;00m \u001b[38;5;21m_predicates\u001b[39m(\n\u001b[1;32m    176\u001b[0m     \u001b[38;5;28mself\u001b[39m,\n\u001b[0;32m   (...)\u001b[0m\n\u001b[1;32m    182\u001b[0m     ]\n\u001b[1;32m    183\u001b[0m ]:\n\u001b[1;32m    184\u001b[0m \u001b[38;5;250m    \u001b[39m\u001b[38;5;124;03m\"\"\"All the predicates to which this instance refers to.\u001b[39;00m\n\u001b[1;32m    185\u001b[0m \n\u001b[1;32m    186\u001b[0m \u001b[38;5;124;03m    Returns:\u001b[39;00m\n\u001b[1;32m    187\u001b[0m \u001b[38;5;124;03m        Such predicates, or `None` if no main predicate is\u001b[39;00m\n\u001b[1;32m    188\u001b[0m \u001b[38;5;124;03m        associated with this `ObjectSet`.\u001b[39;00m\n\u001b[1;32m    189\u001b[0m \u001b[38;5;124;03m    \"\"\"\u001b[39;00m\n\u001b[1;32m    190\u001b[0m     \u001b[38;5;28;01mreturn\u001b[39;00m \u001b[38;5;28mset\u001b[39m(\n\u001b[0;32m--> 191\u001b[0m         \u001b[38;5;28;43mself\u001b[39;49m\u001b[38;5;241;43m.\u001b[39;49m\u001b[43m_predicate\u001b[49m\u001b[38;5;241;43m.\u001b[39;49m\u001b[43msubclasses\u001b[49m \u001b[38;5;28;01mif\u001b[39;00m \u001b[38;5;28mself\u001b[39m\u001b[38;5;241m.\u001b[39m_predicate \u001b[38;5;129;01mis\u001b[39;00m \u001b[38;5;129;01mnot\u001b[39;00m \u001b[38;5;28;01mNone\u001b[39;00m \u001b[38;5;28;01melse\u001b[39;00m \u001b[38;5;28;01mNone\u001b[39;00m\n\u001b[1;32m    192\u001b[0m     )\n",
      "File \u001b[0;32m~/dev/simphony_4_git/simphony-osp/simphony_osp/utils/cache.py:137\u001b[0m, in \u001b[0;36mlru_cache_timestamp.<locals>.decorator.<locals>.wrapper\u001b[0;34m(self, *args, **kwargs)\u001b[0m\n\u001b[1;32m    134\u001b[0m     cached_function\u001b[38;5;241m.\u001b[39mcache_clear()\n\u001b[1;32m    135\u001b[0m     holder[\u001b[38;5;28mself\u001b[39m] \u001b[38;5;241m=\u001b[39m datetime\u001b[38;5;241m.\u001b[39mnow(), cached_function\n\u001b[0;32m--> 137\u001b[0m \u001b[38;5;28;01mreturn\u001b[39;00m \u001b[43mcached_function\u001b[49m\u001b[43m(\u001b[49m\u001b[38;5;28;43mself\u001b[39;49m\u001b[43m,\u001b[49m\u001b[43m \u001b[49m\u001b[38;5;241;43m*\u001b[39;49m\u001b[43margs\u001b[49m\u001b[43m,\u001b[49m\u001b[43m \u001b[49m\u001b[38;5;241;43m*\u001b[39;49m\u001b[38;5;241;43m*\u001b[39;49m\u001b[43mkwargs\u001b[49m\u001b[43m)\u001b[49m\n",
      "File \u001b[0;32m~/dev/simphony_4_git/simphony-osp/simphony_osp/utils/cache.py:30\u001b[0m, in \u001b[0;36mlru_cache_weak.<locals>.decorator.<locals>.wrapper\u001b[0;34m(self, *args, **kwargs)\u001b[0m\n\u001b[1;32m     28\u001b[0m \u001b[38;5;129m@wraps\u001b[39m(func)\n\u001b[1;32m     29\u001b[0m \u001b[38;5;28;01mdef\u001b[39;00m \u001b[38;5;21mwrapper\u001b[39m(\u001b[38;5;28mself\u001b[39m, \u001b[38;5;241m*\u001b[39margs, \u001b[38;5;241m*\u001b[39m\u001b[38;5;241m*\u001b[39mkwargs):\n\u001b[0;32m---> 30\u001b[0m     \u001b[38;5;28;01mreturn\u001b[39;00m \u001b[43m_cached\u001b[49m\u001b[43m(\u001b[49m\u001b[43mref\u001b[49m\u001b[43m(\u001b[49m\u001b[38;5;28;43mself\u001b[39;49m\u001b[43m)\u001b[49m\u001b[43m,\u001b[49m\u001b[43m \u001b[49m\u001b[38;5;241;43m*\u001b[39;49m\u001b[43margs\u001b[49m\u001b[43m,\u001b[49m\u001b[43m \u001b[49m\u001b[38;5;241;43m*\u001b[39;49m\u001b[38;5;241;43m*\u001b[39;49m\u001b[43mkwargs\u001b[49m\u001b[43m)\u001b[49m\n",
      "File \u001b[0;32m~/dev/simphony_4_git/simphony-osp/simphony_osp/utils/cache.py:26\u001b[0m, in \u001b[0;36mlru_cache_weak.<locals>.decorator.<locals>._cached\u001b[0;34m(_self_weak_ref, *args, **kwargs)\u001b[0m\n\u001b[1;32m     24\u001b[0m \u001b[38;5;129m@lru_cache\u001b[39m(maxsize\u001b[38;5;241m=\u001b[39mmaxsize, typed\u001b[38;5;241m=\u001b[39mtyped)\n\u001b[1;32m     25\u001b[0m \u001b[38;5;28;01mdef\u001b[39;00m \u001b[38;5;21m_cached\u001b[39m(_self_weak_ref, \u001b[38;5;241m*\u001b[39margs, \u001b[38;5;241m*\u001b[39m\u001b[38;5;241m*\u001b[39mkwargs):\n\u001b[0;32m---> 26\u001b[0m     \u001b[38;5;28;01mreturn\u001b[39;00m \u001b[43mfunc\u001b[49m\u001b[43m(\u001b[49m\u001b[43m_self_weak_ref\u001b[49m\u001b[43m(\u001b[49m\u001b[43m)\u001b[49m\u001b[43m,\u001b[49m\u001b[43m \u001b[49m\u001b[38;5;241;43m*\u001b[39;49m\u001b[43margs\u001b[49m\u001b[43m,\u001b[49m\u001b[43m \u001b[49m\u001b[38;5;241;43m*\u001b[39;49m\u001b[38;5;241;43m*\u001b[39;49m\u001b[43mkwargs\u001b[49m\u001b[43m)\u001b[49m\n",
      "File \u001b[0;32m~/dev/simphony_4_git/simphony-osp/simphony_osp/utils/cache.py:110\u001b[0m, in \u001b[0;36mlru_cache_timestamp.<locals>.decorator.<locals>.wrapper.<locals>.cached_function\u001b[0;34m(self_function, *args_function, **kwargs_function)\u001b[0m\n\u001b[1;32m    106\u001b[0m \u001b[38;5;129m@lru_cache_weak\u001b[39m(maxsize\u001b[38;5;241m=\u001b[39mmaxsize, typed\u001b[38;5;241m=\u001b[39mtyped)\n\u001b[1;32m    107\u001b[0m \u001b[38;5;28;01mdef\u001b[39;00m \u001b[38;5;21mcached_function\u001b[39m(\n\u001b[1;32m    108\u001b[0m     self_function, \u001b[38;5;241m*\u001b[39margs_function, \u001b[38;5;241m*\u001b[39m\u001b[38;5;241m*\u001b[39mkwargs_function\n\u001b[1;32m    109\u001b[0m ):\n\u001b[0;32m--> 110\u001b[0m     \u001b[38;5;28;01mreturn\u001b[39;00m \u001b[43mfunc\u001b[49m\u001b[43m(\u001b[49m\n\u001b[1;32m    111\u001b[0m \u001b[43m        \u001b[49m\u001b[43mself_function\u001b[49m\u001b[43m,\u001b[49m\u001b[43m \u001b[49m\u001b[38;5;241;43m*\u001b[39;49m\u001b[43margs_function\u001b[49m\u001b[43m,\u001b[49m\u001b[43m \u001b[49m\u001b[38;5;241;43m*\u001b[39;49m\u001b[38;5;241;43m*\u001b[39;49m\u001b[43mkwargs_function\u001b[49m\n\u001b[1;32m    112\u001b[0m \u001b[43m    \u001b[49m\u001b[43m)\u001b[49m\n",
      "File \u001b[0;32m~/dev/simphony_4_git/simphony-osp/simphony_osp/ontology/entity.py:173\u001b[0m, in \u001b[0;36mOntologyEntity.subclasses\u001b[0;34m(self)\u001b[0m\n\u001b[1;32m    164\u001b[0m \u001b[38;5;129m@property\u001b[39m\n\u001b[1;32m    165\u001b[0m \u001b[38;5;129m@lru_cache_timestamp\u001b[39m(\u001b[38;5;28;01mlambda\u001b[39;00m \u001b[38;5;28mself\u001b[39m: \u001b[38;5;28mself\u001b[39m\u001b[38;5;241m.\u001b[39msession\u001b[38;5;241m.\u001b[39mentity_cache_timestamp)\n\u001b[1;32m    166\u001b[0m \u001b[38;5;28;01mdef\u001b[39;00m \u001b[38;5;21msubclasses\u001b[39m(\u001b[38;5;28mself\u001b[39m: ONTOLOGY_ENTITY) \u001b[38;5;241m-\u001b[39m\u001b[38;5;241m>\u001b[39m FrozenSet[ONTOLOGY_ENTITY]:\n\u001b[1;32m    167\u001b[0m \u001b[38;5;250m    \u001b[39m\u001b[38;5;124;03m\"\"\"Get the subclasses of the entity.\u001b[39;00m\n\u001b[1;32m    168\u001b[0m \n\u001b[1;32m    169\u001b[0m \u001b[38;5;124;03m    Returns:\u001b[39;00m\n\u001b[1;32m    170\u001b[0m \u001b[38;5;124;03m        The subclasses of the entity\u001b[39;00m\n\u001b[1;32m    171\u001b[0m \n\u001b[1;32m    172\u001b[0m \u001b[38;5;124;03m    \"\"\"\u001b[39;00m\n\u001b[0;32m--> 173\u001b[0m     \u001b[38;5;28;01mreturn\u001b[39;00m \u001b[38;5;28;43mfrozenset\u001b[39;49m\u001b[43m(\u001b[49m\u001b[38;5;28;43mself\u001b[39;49m\u001b[38;5;241;43m.\u001b[39;49m\u001b[43m_get_subclasses\u001b[49m\u001b[43m(\u001b[49m\u001b[43m)\u001b[49m\u001b[43m)\u001b[49m\n",
      "File \u001b[0;32m~/dev/simphony_4_git/simphony-osp/simphony_osp/ontology/relationship.py:116\u001b[0m, in \u001b[0;36mOntologyRelationship._get_subclasses\u001b[0;34m(self)\u001b[0m\n\u001b[1;32m    113\u001b[0m \u001b[38;5;28;01myield\u001b[39;00m \u001b[38;5;28mself\u001b[39m\n\u001b[1;32m    115\u001b[0m \u001b[38;5;28;01mif\u001b[39;00m \u001b[38;5;28mself\u001b[39m\u001b[38;5;241m.\u001b[39midentifier \u001b[38;5;241m==\u001b[39m OWL\u001b[38;5;241m.\u001b[39mtopObjectProperty:\n\u001b[0;32m--> 116\u001b[0m     \u001b[38;5;28;01myield from\u001b[39;00m (\n\u001b[1;32m    117\u001b[0m         \u001b[38;5;28mself\u001b[39m\u001b[38;5;241m.\u001b[39msession\u001b[38;5;241m.\u001b[39mfrom_identifier_typed(\n\u001b[1;32m    118\u001b[0m             s, typing\u001b[38;5;241m=\u001b[39mOntologyRelationship\n\u001b[1;32m    119\u001b[0m         )\n\u001b[1;32m    120\u001b[0m         \u001b[38;5;28;01mfor\u001b[39;00m s \u001b[38;5;129;01min\u001b[39;00m \u001b[38;5;28mself\u001b[39m\u001b[38;5;241m.\u001b[39msession\u001b[38;5;241m.\u001b[39mgraph\u001b[38;5;241m.\u001b[39msubjects(\n\u001b[1;32m    121\u001b[0m             RDF\u001b[38;5;241m.\u001b[39mtype, OWL\u001b[38;5;241m.\u001b[39mObjectProperty\n\u001b[1;32m    122\u001b[0m         )\n\u001b[1;32m    123\u001b[0m     )\n\u001b[1;32m    124\u001b[0m \u001b[38;5;28;01melse\u001b[39;00m:\n\u001b[1;32m    126\u001b[0m     \u001b[38;5;28;01mdef\u001b[39;00m \u001b[38;5;21mclosure\u001b[39m(node, graph):\n",
      "File \u001b[0;32m~/dev/simphony_4_git/simphony-osp/simphony_osp/ontology/relationship.py:117\u001b[0m, in \u001b[0;36m<genexpr>\u001b[0;34m(.0)\u001b[0m\n\u001b[1;32m    113\u001b[0m \u001b[38;5;28;01myield\u001b[39;00m \u001b[38;5;28mself\u001b[39m\n\u001b[1;32m    115\u001b[0m \u001b[38;5;28;01mif\u001b[39;00m \u001b[38;5;28mself\u001b[39m\u001b[38;5;241m.\u001b[39midentifier \u001b[38;5;241m==\u001b[39m OWL\u001b[38;5;241m.\u001b[39mtopObjectProperty:\n\u001b[1;32m    116\u001b[0m     \u001b[38;5;28;01myield from\u001b[39;00m (\n\u001b[0;32m--> 117\u001b[0m         \u001b[38;5;28;43mself\u001b[39;49m\u001b[38;5;241;43m.\u001b[39;49m\u001b[43msession\u001b[49m\u001b[38;5;241;43m.\u001b[39;49m\u001b[43mfrom_identifier_typed\u001b[49m\u001b[43m(\u001b[49m\n\u001b[1;32m    118\u001b[0m \u001b[43m            \u001b[49m\u001b[43ms\u001b[49m\u001b[43m,\u001b[49m\u001b[43m \u001b[49m\u001b[43mtyping\u001b[49m\u001b[38;5;241;43m=\u001b[39;49m\u001b[43mOntologyRelationship\u001b[49m\n\u001b[1;32m    119\u001b[0m \u001b[43m        \u001b[49m\u001b[43m)\u001b[49m\n\u001b[1;32m    120\u001b[0m         \u001b[38;5;28;01mfor\u001b[39;00m s \u001b[38;5;129;01min\u001b[39;00m \u001b[38;5;28mself\u001b[39m\u001b[38;5;241m.\u001b[39msession\u001b[38;5;241m.\u001b[39mgraph\u001b[38;5;241m.\u001b[39msubjects(\n\u001b[1;32m    121\u001b[0m             RDF\u001b[38;5;241m.\u001b[39mtype, OWL\u001b[38;5;241m.\u001b[39mObjectProperty\n\u001b[1;32m    122\u001b[0m         )\n\u001b[1;32m    123\u001b[0m     )\n\u001b[1;32m    124\u001b[0m \u001b[38;5;28;01melse\u001b[39;00m:\n\u001b[1;32m    126\u001b[0m     \u001b[38;5;28;01mdef\u001b[39;00m \u001b[38;5;21mclosure\u001b[39m(node, graph):\n",
      "File \u001b[0;32m~/dev/simphony_4_git/simphony-osp/simphony_osp/session/session.py:1353\u001b[0m, in \u001b[0;36mSession.from_identifier_typed\u001b[0;34m(self, identifier, typing)\u001b[0m\n\u001b[1;32m   1337\u001b[0m \u001b[38;5;28;01mdef\u001b[39;00m \u001b[38;5;21mfrom_identifier_typed\u001b[39m(\n\u001b[1;32m   1338\u001b[0m     \u001b[38;5;28mself\u001b[39m, identifier: Node, typing: Type[ENTITY]\n\u001b[1;32m   1339\u001b[0m ) \u001b[38;5;241m-\u001b[39m\u001b[38;5;241m>\u001b[39m ENTITY:\n\u001b[1;32m   1340\u001b[0m \u001b[38;5;250m    \u001b[39m\u001b[38;5;124;03m\"\"\"Get an ontology entity from its identifier, enforcing a type check.\u001b[39;00m\n\u001b[1;32m   1341\u001b[0m \n\u001b[1;32m   1342\u001b[0m \u001b[38;5;124;03m    Args:\u001b[39;00m\n\u001b[0;32m   (...)\u001b[0m\n\u001b[1;32m   1351\u001b[0m \u001b[38;5;124;03m        The OntologyEntity.\u001b[39;00m\n\u001b[1;32m   1352\u001b[0m \u001b[38;5;124;03m    \"\"\"\u001b[39;00m\n\u001b[0;32m-> 1353\u001b[0m     entity \u001b[38;5;241m=\u001b[39m \u001b[38;5;28;43mself\u001b[39;49m\u001b[38;5;241;43m.\u001b[39;49m\u001b[43mfrom_identifier\u001b[49m\u001b[43m(\u001b[49m\u001b[43midentifier\u001b[49m\u001b[43m)\u001b[49m\n\u001b[1;32m   1354\u001b[0m     \u001b[38;5;28;01mif\u001b[39;00m \u001b[38;5;129;01mnot\u001b[39;00m \u001b[38;5;28misinstance\u001b[39m(entity, typing):\n\u001b[1;32m   1355\u001b[0m         \u001b[38;5;28;01mraise\u001b[39;00m \u001b[38;5;167;01mTypeError\u001b[39;00m(\u001b[38;5;124mf\u001b[39m\u001b[38;5;124m\"\u001b[39m\u001b[38;5;132;01m{\u001b[39;00midentifier\u001b[38;5;132;01m}\u001b[39;00m\u001b[38;5;124m is not of class \u001b[39m\u001b[38;5;132;01m{\u001b[39;00mtyping\u001b[38;5;132;01m}\u001b[39;00m\u001b[38;5;124m.\u001b[39m\u001b[38;5;124m\"\u001b[39m)\n",
      "File \u001b[0;32m~/dev/simphony_4_git/simphony-osp/simphony_osp/utils/cache.py:30\u001b[0m, in \u001b[0;36mlru_cache_weak.<locals>.decorator.<locals>.wrapper\u001b[0;34m(self, *args, **kwargs)\u001b[0m\n\u001b[1;32m     28\u001b[0m \u001b[38;5;129m@wraps\u001b[39m(func)\n\u001b[1;32m     29\u001b[0m \u001b[38;5;28;01mdef\u001b[39;00m \u001b[38;5;21mwrapper\u001b[39m(\u001b[38;5;28mself\u001b[39m, \u001b[38;5;241m*\u001b[39margs, \u001b[38;5;241m*\u001b[39m\u001b[38;5;241m*\u001b[39mkwargs):\n\u001b[0;32m---> 30\u001b[0m     \u001b[38;5;28;01mreturn\u001b[39;00m \u001b[43m_cached\u001b[49m\u001b[43m(\u001b[49m\u001b[43mref\u001b[49m\u001b[43m(\u001b[49m\u001b[38;5;28;43mself\u001b[39;49m\u001b[43m)\u001b[49m\u001b[43m,\u001b[49m\u001b[43m \u001b[49m\u001b[38;5;241;43m*\u001b[39;49m\u001b[43margs\u001b[49m\u001b[43m,\u001b[49m\u001b[43m \u001b[49m\u001b[38;5;241;43m*\u001b[39;49m\u001b[38;5;241;43m*\u001b[39;49m\u001b[43mkwargs\u001b[49m\u001b[43m)\u001b[49m\n",
      "File \u001b[0;32m~/dev/simphony_4_git/simphony-osp/simphony_osp/utils/cache.py:26\u001b[0m, in \u001b[0;36mlru_cache_weak.<locals>.decorator.<locals>._cached\u001b[0;34m(_self_weak_ref, *args, **kwargs)\u001b[0m\n\u001b[1;32m     24\u001b[0m \u001b[38;5;129m@lru_cache\u001b[39m(maxsize\u001b[38;5;241m=\u001b[39mmaxsize, typed\u001b[38;5;241m=\u001b[39mtyped)\n\u001b[1;32m     25\u001b[0m \u001b[38;5;28;01mdef\u001b[39;00m \u001b[38;5;21m_cached\u001b[39m(_self_weak_ref, \u001b[38;5;241m*\u001b[39margs, \u001b[38;5;241m*\u001b[39m\u001b[38;5;241m*\u001b[39mkwargs):\n\u001b[0;32m---> 26\u001b[0m     \u001b[38;5;28;01mreturn\u001b[39;00m \u001b[43mfunc\u001b[49m\u001b[43m(\u001b[49m\u001b[43m_self_weak_ref\u001b[49m\u001b[43m(\u001b[49m\u001b[43m)\u001b[49m\u001b[43m,\u001b[49m\u001b[43m \u001b[49m\u001b[38;5;241;43m*\u001b[39;49m\u001b[43margs\u001b[49m\u001b[43m,\u001b[49m\u001b[43m \u001b[49m\u001b[38;5;241;43m*\u001b[39;49m\u001b[38;5;241;43m*\u001b[39;49m\u001b[43mkwargs\u001b[49m\u001b[43m)\u001b[49m\n",
      "File \u001b[0;32m~/dev/simphony_4_git/simphony-osp/simphony_osp/session/session.py:1321\u001b[0m, in \u001b[0;36mSession.from_identifier\u001b[0;34m(self, identifier)\u001b[0m\n\u001b[1;32m   1319\u001b[0m \u001b[38;5;250m\u001b[39m\u001b[38;5;124;03m\"\"\"Finally return the single compatible class or raise an exception.\"\"\"\u001b[39;00m\n\u001b[1;32m   1320\u001b[0m \u001b[38;5;28;01mif\u001b[39;00m \u001b[38;5;28mlen\u001b[39m(compatible) \u001b[38;5;241m>\u001b[39m\u001b[38;5;241m=\u001b[39m \u001b[38;5;241m2\u001b[39m:\n\u001b[0;32m-> 1321\u001b[0m     \u001b[38;5;28;01mraise\u001b[39;00m \u001b[38;5;167;01mRuntimeError\u001b[39;00m(\n\u001b[1;32m   1322\u001b[0m         \u001b[38;5;124mf\u001b[39m\u001b[38;5;124m\"\u001b[39m\u001b[38;5;124mTwo or more python classes (\u001b[39m\u001b[38;5;124m\"\u001b[39m\n\u001b[1;32m   1323\u001b[0m         \u001b[38;5;124mf\u001b[39m\u001b[38;5;124m\"\u001b[39m\u001b[38;5;132;01m{\u001b[39;00m\u001b[38;5;124m'\u001b[39m\u001b[38;5;124m, \u001b[39m\u001b[38;5;124m'\u001b[39m\u001b[38;5;241m.\u001b[39mjoin(\u001b[38;5;28mmap\u001b[39m(\u001b[38;5;28mstr\u001b[39m,\u001b[38;5;250m \u001b[39mcompatible))\u001b[38;5;132;01m}\u001b[39;00m\u001b[38;5;124m) \u001b[39m\u001b[38;5;124m\"\u001b[39m\n\u001b[1;32m   1324\u001b[0m         \u001b[38;5;124mf\u001b[39m\u001b[38;5;124m\"\u001b[39m\u001b[38;5;124mcould be spawned from \u001b[39m\u001b[38;5;132;01m{\u001b[39;00midentifier\u001b[38;5;132;01m}\u001b[39;00m\u001b[38;5;124m.\u001b[39m\u001b[38;5;124m\"\u001b[39m\n\u001b[1;32m   1325\u001b[0m     )\n\u001b[1;32m   1326\u001b[0m \u001b[38;5;28;01mtry\u001b[39;00m:\n\u001b[1;32m   1327\u001b[0m     python_class \u001b[38;5;241m=\u001b[39m compatible\u001b[38;5;241m.\u001b[39mpop()\n",
      "\u001b[0;31mRuntimeError\u001b[0m: Two or more python classes (<class 'simphony_osp.ontology.relationship.OntologyRelationship'>, <class 'simphony_osp.ontology.attribute.OntologyAttribute'>) could be spawned from http://xmlns.com/foaf/0.1/homepage."
     ]
    }
   ],
   "source": [
    "freiburg_copy = session.add(freiburg)\n",
    "list(session), freiburg_copy.name, freiburg_copy.coordinates, freiburg_copy.get()"
   ]
  },
  {
   "cell_type": "code",
   "execution_count": 8,
   "id": "00aead06",
   "metadata": {},
   "outputs": [
    {
     "data": {
      "text/plain": [
       "[<OntologyIndividual: aef1568d-0607-4e1c-b100-d4a32050b4f0>]"
      ]
     },
     "execution_count": 8,
     "metadata": {},
     "output_type": "execute_result"
    }
   ],
   "source": [
    "list(session)"
   ]
  },
  {
   "cell_type": "code",
   "execution_count": 9,
   "id": "3d369f7a",
   "metadata": {},
   "outputs": [
    {
     "data": {
      "text/plain": [
       "<OntologyIndividual: aef1568d-0607-4e1c-b100-d4a32050b4f0>"
      ]
     },
     "execution_count": 9,
     "metadata": {},
     "output_type": "execute_result"
    }
   ],
   "source": [
    "freiburg\n"
   ]
  },
  {
   "cell_type": "code",
   "execution_count": 10,
   "id": "ac0915c6",
   "metadata": {},
   "outputs": [
    {
     "data": {
      "text/plain": [
       "[<OntologyIndividual: 5999086e-eabc-41b1-9017-7a6d3e0be4c9>,\n",
       " <OntologyIndividual: 0012cf9f-11e6-48d9-83e6-6f6a0bbb4c09>]"
      ]
     },
     "execution_count": 10,
     "metadata": {},
     "output_type": "execute_result"
    }
   ],
   "source": [
    "session.add(citizen_1, citizen_2)"
   ]
  },
  {
   "cell_type": "code",
   "execution_count": 11,
   "id": "878f11d3",
   "metadata": {},
   "outputs": [
    {
     "data": {
      "text/plain": [
       "[<OntologyIndividual: aef1568d-0607-4e1c-b100-d4a32050b4f0>,\n",
       " <OntologyIndividual: 5999086e-eabc-41b1-9017-7a6d3e0be4c9>,\n",
       " <OntologyIndividual: 0012cf9f-11e6-48d9-83e6-6f6a0bbb4c09>]"
      ]
     },
     "execution_count": 11,
     "metadata": {},
     "output_type": "execute_result"
    }
   ],
   "source": [
    "list(session)"
   ]
  },
  {
   "cell_type": "code",
   "execution_count": 12,
   "id": "d69ba13b",
   "metadata": {},
   "outputs": [
    {
     "data": {
      "text/plain": [
       "{<OntologyIndividual: 85d5930a-c43b-4f89-9fdf-593805eb526a>,\n",
       " <OntologyIndividual: 9243eedf-59e8-4041-8d48-72f35747d9e1>,\n",
       " <OntologyIndividual: 934510d0-4652-478f-8fa9-2b1886a3c2ab>,\n",
       " <OntologyIndividual: ae9e38b6-981f-49c6-95e4-83ea103e6671>,\n",
       " <OntologyIndividual: e6d9f014-adfc-4bed-bc42-c130b14c0f78>}"
      ]
     },
     "execution_count": 12,
     "metadata": {},
     "output_type": "execute_result"
    }
   ],
   "source": [
    "neighborhoods\n"
   ]
  },
  {
   "cell_type": "code",
   "execution_count": 13,
   "id": "41693c47",
   "metadata": {},
   "outputs": [],
   "source": [
    "session.clear()\n"
   ]
  },
  {
   "cell_type": "code",
   "execution_count": 14,
   "id": "8703ba82",
   "metadata": {},
   "outputs": [],
   "source": [
    "copies = session.add(freiburg, neighborhoods)"
   ]
  },
  {
   "cell_type": "code",
   "execution_count": 15,
   "id": "60527a28",
   "metadata": {},
   "outputs": [
    {
     "data": {
      "text/plain": [
       "[<OntologyIndividual: aef1568d-0607-4e1c-b100-d4a32050b4f0>,\n",
       " <OntologyIndividual: 9243eedf-59e8-4041-8d48-72f35747d9e1>,\n",
       " <OntologyIndividual: e6d9f014-adfc-4bed-bc42-c130b14c0f78>,\n",
       " <OntologyIndividual: ae9e38b6-981f-49c6-95e4-83ea103e6671>,\n",
       " <OntologyIndividual: 85d5930a-c43b-4f89-9fdf-593805eb526a>,\n",
       " <OntologyIndividual: 934510d0-4652-478f-8fa9-2b1886a3c2ab>]"
      ]
     },
     "execution_count": 15,
     "metadata": {},
     "output_type": "execute_result"
    }
   ],
   "source": [
    "copies\n",
    "\n"
   ]
  },
  {
   "cell_type": "code",
   "execution_count": 16,
   "id": "2f6210de",
   "metadata": {},
   "outputs": [
    {
     "ename": "RuntimeError",
     "evalue": "Two or more python classes (<class 'simphony_osp.ontology.relationship.OntologyRelationship'>, <class 'simphony_osp.ontology.attribute.OntologyAttribute'>) could be spawned from http://xmlns.com/foaf/0.1/homepage.",
     "output_type": "error",
     "traceback": [
      "\u001b[0;31m---------------------------------------------------------------------------\u001b[0m",
      "\u001b[0;31mRuntimeError\u001b[0m                              Traceback (most recent call last)",
      "Cell \u001b[0;32mIn[16], line 1\u001b[0m\n\u001b[0;32m----> 1\u001b[0m \u001b[43mpretty_print\u001b[49m\u001b[43m(\u001b[49m\u001b[43mcopies\u001b[49m\u001b[43m[\u001b[49m\u001b[38;5;241;43m0\u001b[39;49m\u001b[43m]\u001b[49m\u001b[43m)\u001b[49m\n",
      "File \u001b[0;32m~/dev/simphony_4_git/simphony-osp/simphony_osp/tools/pretty_print.py:77\u001b[0m, in \u001b[0;36mpretty_print\u001b[0;34m(entity, rel, file)\u001b[0m\n\u001b[1;32m     75\u001b[0m         pp[\u001b[38;5;124m\"\u001b[39m\u001b[38;5;124mattributes\u001b[39m\u001b[38;5;124m\"\u001b[39m] \u001b[38;5;241m=\u001b[39m \u001b[38;5;124mf\u001b[39m\u001b[38;5;124m\"\u001b[39m\u001b[38;5;130;01m\\n\u001b[39;00m\u001b[38;5;124m  values: \u001b[39m\u001b[38;5;132;01m{\u001b[39;00mvalues_str\u001b[38;5;132;01m}\u001b[39;00m\u001b[38;5;124m\"\u001b[39m\n\u001b[1;32m     76\u001b[0m     \u001b[38;5;66;03m# Subelements\u001b[39;00m\n\u001b[0;32m---> 77\u001b[0m     pp[\u001b[38;5;124m\"\u001b[39m\u001b[38;5;124msubelements\u001b[39m\u001b[38;5;124m\"\u001b[39m] \u001b[38;5;241m=\u001b[39m \u001b[43m_pp_individual_subelements\u001b[49m\u001b[43m(\u001b[49m\u001b[43mentity\u001b[49m\u001b[43m,\u001b[49m\u001b[43m \u001b[49m\u001b[43mrel\u001b[49m\u001b[43m)\u001b[49m\n\u001b[1;32m     79\u001b[0m pp[\u001b[38;5;124m\"\u001b[39m\u001b[38;5;124midentifier\u001b[39m\u001b[38;5;124m\"\u001b[39m] \u001b[38;5;241m=\u001b[39m \u001b[38;5;124mf\u001b[39m\u001b[38;5;124m\"\u001b[39m\u001b[38;5;130;01m\\n\u001b[39;00m\u001b[38;5;124m  identifier: \u001b[39m\u001b[38;5;132;01m{\u001b[39;00mentity\u001b[38;5;241m.\u001b[39muid\u001b[38;5;132;01m}\u001b[39;00m\u001b[38;5;124m\"\u001b[39m\n\u001b[1;32m     81\u001b[0m pp \u001b[38;5;241m=\u001b[39m reduce(add, pp\u001b[38;5;241m.\u001b[39mvalues())\n",
      "File \u001b[0;32m~/dev/simphony_4_git/simphony-osp/simphony_osp/tools/pretty_print.py:171\u001b[0m, in \u001b[0;36m_pp_individual_subelements\u001b[0;34m(individual, rel, level_indentation, visited)\u001b[0m\n\u001b[1;32m    166\u001b[0m         \u001b[38;5;28;01mpass\u001b[39;00m\n\u001b[1;32m    167\u001b[0m filtered_relationships \u001b[38;5;241m=\u001b[39m \u001b[38;5;28mfilter\u001b[39m(\n\u001b[1;32m    168\u001b[0m     \u001b[38;5;28;01mlambda\u001b[39;00m x: \u001b[38;5;28many\u001b[39m(x\u001b[38;5;241m.\u001b[39mis_subclass_of(r) \u001b[38;5;28;01mfor\u001b[39;00m r \u001b[38;5;129;01min\u001b[39;00m rels),\n\u001b[1;32m    169\u001b[0m     consider_relationships,\n\u001b[1;32m    170\u001b[0m )\n\u001b[0;32m--> 171\u001b[0m sorted_relationships \u001b[38;5;241m=\u001b[39m \u001b[38;5;28msorted\u001b[39m(filtered_relationships, key\u001b[38;5;241m=\u001b[39m\u001b[38;5;28mstr\u001b[39m)\n\u001b[1;32m    173\u001b[0m visited \u001b[38;5;241m=\u001b[39m visited \u001b[38;5;129;01mor\u001b[39;00m \u001b[38;5;28mset\u001b[39m()\n\u001b[1;32m    174\u001b[0m visited\u001b[38;5;241m.\u001b[39madd(individual\u001b[38;5;241m.\u001b[39muid)\n",
      "File \u001b[0;32m~/dev/simphony_4_git/simphony-osp/simphony_osp/tools/pretty_print.py:168\u001b[0m, in \u001b[0;36m_pp_individual_subelements.<locals>.<lambda>\u001b[0;34m(x)\u001b[0m\n\u001b[1;32m    165\u001b[0m     \u001b[38;5;28;01mexcept\u001b[39;00m \u001b[38;5;167;01mKeyError\u001b[39;00m:\n\u001b[1;32m    166\u001b[0m         \u001b[38;5;28;01mpass\u001b[39;00m\n\u001b[1;32m    167\u001b[0m filtered_relationships \u001b[38;5;241m=\u001b[39m \u001b[38;5;28mfilter\u001b[39m(\n\u001b[0;32m--> 168\u001b[0m     \u001b[38;5;28;01mlambda\u001b[39;00m x: \u001b[38;5;28;43many\u001b[39;49m\u001b[43m(\u001b[49m\u001b[43mx\u001b[49m\u001b[38;5;241;43m.\u001b[39;49m\u001b[43mis_subclass_of\u001b[49m\u001b[43m(\u001b[49m\u001b[43mr\u001b[49m\u001b[43m)\u001b[49m\u001b[43m \u001b[49m\u001b[38;5;28;43;01mfor\u001b[39;49;00m\u001b[43m \u001b[49m\u001b[43mr\u001b[49m\u001b[43m \u001b[49m\u001b[38;5;129;43;01min\u001b[39;49;00m\u001b[43m \u001b[49m\u001b[43mrels\u001b[49m\u001b[43m)\u001b[49m,\n\u001b[1;32m    169\u001b[0m     consider_relationships,\n\u001b[1;32m    170\u001b[0m )\n\u001b[1;32m    171\u001b[0m sorted_relationships \u001b[38;5;241m=\u001b[39m \u001b[38;5;28msorted\u001b[39m(filtered_relationships, key\u001b[38;5;241m=\u001b[39m\u001b[38;5;28mstr\u001b[39m)\n\u001b[1;32m    173\u001b[0m visited \u001b[38;5;241m=\u001b[39m visited \u001b[38;5;129;01mor\u001b[39;00m \u001b[38;5;28mset\u001b[39m()\n",
      "File \u001b[0;32m~/dev/simphony_4_git/simphony-osp/simphony_osp/tools/pretty_print.py:168\u001b[0m, in \u001b[0;36m<genexpr>\u001b[0;34m(.0)\u001b[0m\n\u001b[1;32m    165\u001b[0m     \u001b[38;5;28;01mexcept\u001b[39;00m \u001b[38;5;167;01mKeyError\u001b[39;00m:\n\u001b[1;32m    166\u001b[0m         \u001b[38;5;28;01mpass\u001b[39;00m\n\u001b[1;32m    167\u001b[0m filtered_relationships \u001b[38;5;241m=\u001b[39m \u001b[38;5;28mfilter\u001b[39m(\n\u001b[0;32m--> 168\u001b[0m     \u001b[38;5;28;01mlambda\u001b[39;00m x: \u001b[38;5;28many\u001b[39m(\u001b[43mx\u001b[49m\u001b[38;5;241;43m.\u001b[39;49m\u001b[43mis_subclass_of\u001b[49m\u001b[43m(\u001b[49m\u001b[43mr\u001b[49m\u001b[43m)\u001b[49m \u001b[38;5;28;01mfor\u001b[39;00m r \u001b[38;5;129;01min\u001b[39;00m rels),\n\u001b[1;32m    169\u001b[0m     consider_relationships,\n\u001b[1;32m    170\u001b[0m )\n\u001b[1;32m    171\u001b[0m sorted_relationships \u001b[38;5;241m=\u001b[39m \u001b[38;5;28msorted\u001b[39m(filtered_relationships, key\u001b[38;5;241m=\u001b[39m\u001b[38;5;28mstr\u001b[39m)\n\u001b[1;32m    173\u001b[0m visited \u001b[38;5;241m=\u001b[39m visited \u001b[38;5;129;01mor\u001b[39;00m \u001b[38;5;28mset\u001b[39m()\n",
      "File \u001b[0;32m~/dev/simphony_4_git/simphony-osp/simphony_osp/ontology/entity.py:196\u001b[0m, in \u001b[0;36mOntologyEntity.is_subclass_of\u001b[0;34m(self, other)\u001b[0m\n\u001b[1;32m    186\u001b[0m \u001b[38;5;28;01mdef\u001b[39;00m \u001b[38;5;21mis_subclass_of\u001b[39m(\u001b[38;5;28mself\u001b[39m, other: OntologyEntity) \u001b[38;5;241m-\u001b[39m\u001b[38;5;241m>\u001b[39m \u001b[38;5;28mbool\u001b[39m:\n\u001b[1;32m    187\u001b[0m \u001b[38;5;250m    \u001b[39m\u001b[38;5;124;03m\"\"\"Perform a subclass check.\u001b[39;00m\n\u001b[1;32m    188\u001b[0m \n\u001b[1;32m    189\u001b[0m \u001b[38;5;124;03m    Args:\u001b[39;00m\n\u001b[0;32m   (...)\u001b[0m\n\u001b[1;32m    194\u001b[0m \n\u001b[1;32m    195\u001b[0m \u001b[38;5;124;03m    \"\"\"\u001b[39;00m\n\u001b[0;32m--> 196\u001b[0m     \u001b[38;5;28;01mreturn\u001b[39;00m \u001b[38;5;28mself\u001b[39m \u001b[38;5;129;01min\u001b[39;00m \u001b[43mother\u001b[49m\u001b[38;5;241;43m.\u001b[39;49m\u001b[43msubclasses\u001b[49m\n",
      "File \u001b[0;32m~/dev/simphony_4_git/simphony-osp/simphony_osp/utils/cache.py:137\u001b[0m, in \u001b[0;36mlru_cache_timestamp.<locals>.decorator.<locals>.wrapper\u001b[0;34m(self, *args, **kwargs)\u001b[0m\n\u001b[1;32m    134\u001b[0m     cached_function\u001b[38;5;241m.\u001b[39mcache_clear()\n\u001b[1;32m    135\u001b[0m     holder[\u001b[38;5;28mself\u001b[39m] \u001b[38;5;241m=\u001b[39m datetime\u001b[38;5;241m.\u001b[39mnow(), cached_function\n\u001b[0;32m--> 137\u001b[0m \u001b[38;5;28;01mreturn\u001b[39;00m \u001b[43mcached_function\u001b[49m\u001b[43m(\u001b[49m\u001b[38;5;28;43mself\u001b[39;49m\u001b[43m,\u001b[49m\u001b[43m \u001b[49m\u001b[38;5;241;43m*\u001b[39;49m\u001b[43margs\u001b[49m\u001b[43m,\u001b[49m\u001b[43m \u001b[49m\u001b[38;5;241;43m*\u001b[39;49m\u001b[38;5;241;43m*\u001b[39;49m\u001b[43mkwargs\u001b[49m\u001b[43m)\u001b[49m\n",
      "File \u001b[0;32m~/dev/simphony_4_git/simphony-osp/simphony_osp/utils/cache.py:30\u001b[0m, in \u001b[0;36mlru_cache_weak.<locals>.decorator.<locals>.wrapper\u001b[0;34m(self, *args, **kwargs)\u001b[0m\n\u001b[1;32m     28\u001b[0m \u001b[38;5;129m@wraps\u001b[39m(func)\n\u001b[1;32m     29\u001b[0m \u001b[38;5;28;01mdef\u001b[39;00m \u001b[38;5;21mwrapper\u001b[39m(\u001b[38;5;28mself\u001b[39m, \u001b[38;5;241m*\u001b[39margs, \u001b[38;5;241m*\u001b[39m\u001b[38;5;241m*\u001b[39mkwargs):\n\u001b[0;32m---> 30\u001b[0m     \u001b[38;5;28;01mreturn\u001b[39;00m \u001b[43m_cached\u001b[49m\u001b[43m(\u001b[49m\u001b[43mref\u001b[49m\u001b[43m(\u001b[49m\u001b[38;5;28;43mself\u001b[39;49m\u001b[43m)\u001b[49m\u001b[43m,\u001b[49m\u001b[43m \u001b[49m\u001b[38;5;241;43m*\u001b[39;49m\u001b[43margs\u001b[49m\u001b[43m,\u001b[49m\u001b[43m \u001b[49m\u001b[38;5;241;43m*\u001b[39;49m\u001b[38;5;241;43m*\u001b[39;49m\u001b[43mkwargs\u001b[49m\u001b[43m)\u001b[49m\n",
      "File \u001b[0;32m~/dev/simphony_4_git/simphony-osp/simphony_osp/utils/cache.py:26\u001b[0m, in \u001b[0;36mlru_cache_weak.<locals>.decorator.<locals>._cached\u001b[0;34m(_self_weak_ref, *args, **kwargs)\u001b[0m\n\u001b[1;32m     24\u001b[0m \u001b[38;5;129m@lru_cache\u001b[39m(maxsize\u001b[38;5;241m=\u001b[39mmaxsize, typed\u001b[38;5;241m=\u001b[39mtyped)\n\u001b[1;32m     25\u001b[0m \u001b[38;5;28;01mdef\u001b[39;00m \u001b[38;5;21m_cached\u001b[39m(_self_weak_ref, \u001b[38;5;241m*\u001b[39margs, \u001b[38;5;241m*\u001b[39m\u001b[38;5;241m*\u001b[39mkwargs):\n\u001b[0;32m---> 26\u001b[0m     \u001b[38;5;28;01mreturn\u001b[39;00m \u001b[43mfunc\u001b[49m\u001b[43m(\u001b[49m\u001b[43m_self_weak_ref\u001b[49m\u001b[43m(\u001b[49m\u001b[43m)\u001b[49m\u001b[43m,\u001b[49m\u001b[43m \u001b[49m\u001b[38;5;241;43m*\u001b[39;49m\u001b[43margs\u001b[49m\u001b[43m,\u001b[49m\u001b[43m \u001b[49m\u001b[38;5;241;43m*\u001b[39;49m\u001b[38;5;241;43m*\u001b[39;49m\u001b[43mkwargs\u001b[49m\u001b[43m)\u001b[49m\n",
      "File \u001b[0;32m~/dev/simphony_4_git/simphony-osp/simphony_osp/utils/cache.py:110\u001b[0m, in \u001b[0;36mlru_cache_timestamp.<locals>.decorator.<locals>.wrapper.<locals>.cached_function\u001b[0;34m(self_function, *args_function, **kwargs_function)\u001b[0m\n\u001b[1;32m    106\u001b[0m \u001b[38;5;129m@lru_cache_weak\u001b[39m(maxsize\u001b[38;5;241m=\u001b[39mmaxsize, typed\u001b[38;5;241m=\u001b[39mtyped)\n\u001b[1;32m    107\u001b[0m \u001b[38;5;28;01mdef\u001b[39;00m \u001b[38;5;21mcached_function\u001b[39m(\n\u001b[1;32m    108\u001b[0m     self_function, \u001b[38;5;241m*\u001b[39margs_function, \u001b[38;5;241m*\u001b[39m\u001b[38;5;241m*\u001b[39mkwargs_function\n\u001b[1;32m    109\u001b[0m ):\n\u001b[0;32m--> 110\u001b[0m     \u001b[38;5;28;01mreturn\u001b[39;00m \u001b[43mfunc\u001b[49m\u001b[43m(\u001b[49m\n\u001b[1;32m    111\u001b[0m \u001b[43m        \u001b[49m\u001b[43mself_function\u001b[49m\u001b[43m,\u001b[49m\u001b[43m \u001b[49m\u001b[38;5;241;43m*\u001b[39;49m\u001b[43margs_function\u001b[49m\u001b[43m,\u001b[49m\u001b[43m \u001b[49m\u001b[38;5;241;43m*\u001b[39;49m\u001b[38;5;241;43m*\u001b[39;49m\u001b[43mkwargs_function\u001b[49m\n\u001b[1;32m    112\u001b[0m \u001b[43m    \u001b[49m\u001b[43m)\u001b[49m\n",
      "File \u001b[0;32m~/dev/simphony_4_git/simphony-osp/simphony_osp/ontology/entity.py:173\u001b[0m, in \u001b[0;36mOntologyEntity.subclasses\u001b[0;34m(self)\u001b[0m\n\u001b[1;32m    164\u001b[0m \u001b[38;5;129m@property\u001b[39m\n\u001b[1;32m    165\u001b[0m \u001b[38;5;129m@lru_cache_timestamp\u001b[39m(\u001b[38;5;28;01mlambda\u001b[39;00m \u001b[38;5;28mself\u001b[39m: \u001b[38;5;28mself\u001b[39m\u001b[38;5;241m.\u001b[39msession\u001b[38;5;241m.\u001b[39mentity_cache_timestamp)\n\u001b[1;32m    166\u001b[0m \u001b[38;5;28;01mdef\u001b[39;00m \u001b[38;5;21msubclasses\u001b[39m(\u001b[38;5;28mself\u001b[39m: ONTOLOGY_ENTITY) \u001b[38;5;241m-\u001b[39m\u001b[38;5;241m>\u001b[39m FrozenSet[ONTOLOGY_ENTITY]:\n\u001b[1;32m    167\u001b[0m \u001b[38;5;250m    \u001b[39m\u001b[38;5;124;03m\"\"\"Get the subclasses of the entity.\u001b[39;00m\n\u001b[1;32m    168\u001b[0m \n\u001b[1;32m    169\u001b[0m \u001b[38;5;124;03m    Returns:\u001b[39;00m\n\u001b[1;32m    170\u001b[0m \u001b[38;5;124;03m        The subclasses of the entity\u001b[39;00m\n\u001b[1;32m    171\u001b[0m \n\u001b[1;32m    172\u001b[0m \u001b[38;5;124;03m    \"\"\"\u001b[39;00m\n\u001b[0;32m--> 173\u001b[0m     \u001b[38;5;28;01mreturn\u001b[39;00m \u001b[38;5;28;43mfrozenset\u001b[39;49m\u001b[43m(\u001b[49m\u001b[38;5;28;43mself\u001b[39;49m\u001b[38;5;241;43m.\u001b[39;49m\u001b[43m_get_subclasses\u001b[49m\u001b[43m(\u001b[49m\u001b[43m)\u001b[49m\u001b[43m)\u001b[49m\n",
      "File \u001b[0;32m~/dev/simphony_4_git/simphony-osp/simphony_osp/ontology/relationship.py:116\u001b[0m, in \u001b[0;36mOntologyRelationship._get_subclasses\u001b[0;34m(self)\u001b[0m\n\u001b[1;32m    113\u001b[0m \u001b[38;5;28;01myield\u001b[39;00m \u001b[38;5;28mself\u001b[39m\n\u001b[1;32m    115\u001b[0m \u001b[38;5;28;01mif\u001b[39;00m \u001b[38;5;28mself\u001b[39m\u001b[38;5;241m.\u001b[39midentifier \u001b[38;5;241m==\u001b[39m OWL\u001b[38;5;241m.\u001b[39mtopObjectProperty:\n\u001b[0;32m--> 116\u001b[0m     \u001b[38;5;28;01myield from\u001b[39;00m (\n\u001b[1;32m    117\u001b[0m         \u001b[38;5;28mself\u001b[39m\u001b[38;5;241m.\u001b[39msession\u001b[38;5;241m.\u001b[39mfrom_identifier_typed(\n\u001b[1;32m    118\u001b[0m             s, typing\u001b[38;5;241m=\u001b[39mOntologyRelationship\n\u001b[1;32m    119\u001b[0m         )\n\u001b[1;32m    120\u001b[0m         \u001b[38;5;28;01mfor\u001b[39;00m s \u001b[38;5;129;01min\u001b[39;00m \u001b[38;5;28mself\u001b[39m\u001b[38;5;241m.\u001b[39msession\u001b[38;5;241m.\u001b[39mgraph\u001b[38;5;241m.\u001b[39msubjects(\n\u001b[1;32m    121\u001b[0m             RDF\u001b[38;5;241m.\u001b[39mtype, OWL\u001b[38;5;241m.\u001b[39mObjectProperty\n\u001b[1;32m    122\u001b[0m         )\n\u001b[1;32m    123\u001b[0m     )\n\u001b[1;32m    124\u001b[0m \u001b[38;5;28;01melse\u001b[39;00m:\n\u001b[1;32m    126\u001b[0m     \u001b[38;5;28;01mdef\u001b[39;00m \u001b[38;5;21mclosure\u001b[39m(node, graph):\n",
      "File \u001b[0;32m~/dev/simphony_4_git/simphony-osp/simphony_osp/ontology/relationship.py:117\u001b[0m, in \u001b[0;36m<genexpr>\u001b[0;34m(.0)\u001b[0m\n\u001b[1;32m    113\u001b[0m \u001b[38;5;28;01myield\u001b[39;00m \u001b[38;5;28mself\u001b[39m\n\u001b[1;32m    115\u001b[0m \u001b[38;5;28;01mif\u001b[39;00m \u001b[38;5;28mself\u001b[39m\u001b[38;5;241m.\u001b[39midentifier \u001b[38;5;241m==\u001b[39m OWL\u001b[38;5;241m.\u001b[39mtopObjectProperty:\n\u001b[1;32m    116\u001b[0m     \u001b[38;5;28;01myield from\u001b[39;00m (\n\u001b[0;32m--> 117\u001b[0m         \u001b[38;5;28;43mself\u001b[39;49m\u001b[38;5;241;43m.\u001b[39;49m\u001b[43msession\u001b[49m\u001b[38;5;241;43m.\u001b[39;49m\u001b[43mfrom_identifier_typed\u001b[49m\u001b[43m(\u001b[49m\n\u001b[1;32m    118\u001b[0m \u001b[43m            \u001b[49m\u001b[43ms\u001b[49m\u001b[43m,\u001b[49m\u001b[43m \u001b[49m\u001b[43mtyping\u001b[49m\u001b[38;5;241;43m=\u001b[39;49m\u001b[43mOntologyRelationship\u001b[49m\n\u001b[1;32m    119\u001b[0m \u001b[43m        \u001b[49m\u001b[43m)\u001b[49m\n\u001b[1;32m    120\u001b[0m         \u001b[38;5;28;01mfor\u001b[39;00m s \u001b[38;5;129;01min\u001b[39;00m \u001b[38;5;28mself\u001b[39m\u001b[38;5;241m.\u001b[39msession\u001b[38;5;241m.\u001b[39mgraph\u001b[38;5;241m.\u001b[39msubjects(\n\u001b[1;32m    121\u001b[0m             RDF\u001b[38;5;241m.\u001b[39mtype, OWL\u001b[38;5;241m.\u001b[39mObjectProperty\n\u001b[1;32m    122\u001b[0m         )\n\u001b[1;32m    123\u001b[0m     )\n\u001b[1;32m    124\u001b[0m \u001b[38;5;28;01melse\u001b[39;00m:\n\u001b[1;32m    126\u001b[0m     \u001b[38;5;28;01mdef\u001b[39;00m \u001b[38;5;21mclosure\u001b[39m(node, graph):\n",
      "File \u001b[0;32m~/dev/simphony_4_git/simphony-osp/simphony_osp/session/session.py:1353\u001b[0m, in \u001b[0;36mSession.from_identifier_typed\u001b[0;34m(self, identifier, typing)\u001b[0m\n\u001b[1;32m   1337\u001b[0m \u001b[38;5;28;01mdef\u001b[39;00m \u001b[38;5;21mfrom_identifier_typed\u001b[39m(\n\u001b[1;32m   1338\u001b[0m     \u001b[38;5;28mself\u001b[39m, identifier: Node, typing: Type[ENTITY]\n\u001b[1;32m   1339\u001b[0m ) \u001b[38;5;241m-\u001b[39m\u001b[38;5;241m>\u001b[39m ENTITY:\n\u001b[1;32m   1340\u001b[0m \u001b[38;5;250m    \u001b[39m\u001b[38;5;124;03m\"\"\"Get an ontology entity from its identifier, enforcing a type check.\u001b[39;00m\n\u001b[1;32m   1341\u001b[0m \n\u001b[1;32m   1342\u001b[0m \u001b[38;5;124;03m    Args:\u001b[39;00m\n\u001b[0;32m   (...)\u001b[0m\n\u001b[1;32m   1351\u001b[0m \u001b[38;5;124;03m        The OntologyEntity.\u001b[39;00m\n\u001b[1;32m   1352\u001b[0m \u001b[38;5;124;03m    \"\"\"\u001b[39;00m\n\u001b[0;32m-> 1353\u001b[0m     entity \u001b[38;5;241m=\u001b[39m \u001b[38;5;28;43mself\u001b[39;49m\u001b[38;5;241;43m.\u001b[39;49m\u001b[43mfrom_identifier\u001b[49m\u001b[43m(\u001b[49m\u001b[43midentifier\u001b[49m\u001b[43m)\u001b[49m\n\u001b[1;32m   1354\u001b[0m     \u001b[38;5;28;01mif\u001b[39;00m \u001b[38;5;129;01mnot\u001b[39;00m \u001b[38;5;28misinstance\u001b[39m(entity, typing):\n\u001b[1;32m   1355\u001b[0m         \u001b[38;5;28;01mraise\u001b[39;00m \u001b[38;5;167;01mTypeError\u001b[39;00m(\u001b[38;5;124mf\u001b[39m\u001b[38;5;124m\"\u001b[39m\u001b[38;5;132;01m{\u001b[39;00midentifier\u001b[38;5;132;01m}\u001b[39;00m\u001b[38;5;124m is not of class \u001b[39m\u001b[38;5;132;01m{\u001b[39;00mtyping\u001b[38;5;132;01m}\u001b[39;00m\u001b[38;5;124m.\u001b[39m\u001b[38;5;124m\"\u001b[39m)\n",
      "File \u001b[0;32m~/dev/simphony_4_git/simphony-osp/simphony_osp/utils/cache.py:30\u001b[0m, in \u001b[0;36mlru_cache_weak.<locals>.decorator.<locals>.wrapper\u001b[0;34m(self, *args, **kwargs)\u001b[0m\n\u001b[1;32m     28\u001b[0m \u001b[38;5;129m@wraps\u001b[39m(func)\n\u001b[1;32m     29\u001b[0m \u001b[38;5;28;01mdef\u001b[39;00m \u001b[38;5;21mwrapper\u001b[39m(\u001b[38;5;28mself\u001b[39m, \u001b[38;5;241m*\u001b[39margs, \u001b[38;5;241m*\u001b[39m\u001b[38;5;241m*\u001b[39mkwargs):\n\u001b[0;32m---> 30\u001b[0m     \u001b[38;5;28;01mreturn\u001b[39;00m \u001b[43m_cached\u001b[49m\u001b[43m(\u001b[49m\u001b[43mref\u001b[49m\u001b[43m(\u001b[49m\u001b[38;5;28;43mself\u001b[39;49m\u001b[43m)\u001b[49m\u001b[43m,\u001b[49m\u001b[43m \u001b[49m\u001b[38;5;241;43m*\u001b[39;49m\u001b[43margs\u001b[49m\u001b[43m,\u001b[49m\u001b[43m \u001b[49m\u001b[38;5;241;43m*\u001b[39;49m\u001b[38;5;241;43m*\u001b[39;49m\u001b[43mkwargs\u001b[49m\u001b[43m)\u001b[49m\n",
      "File \u001b[0;32m~/dev/simphony_4_git/simphony-osp/simphony_osp/utils/cache.py:26\u001b[0m, in \u001b[0;36mlru_cache_weak.<locals>.decorator.<locals>._cached\u001b[0;34m(_self_weak_ref, *args, **kwargs)\u001b[0m\n\u001b[1;32m     24\u001b[0m \u001b[38;5;129m@lru_cache\u001b[39m(maxsize\u001b[38;5;241m=\u001b[39mmaxsize, typed\u001b[38;5;241m=\u001b[39mtyped)\n\u001b[1;32m     25\u001b[0m \u001b[38;5;28;01mdef\u001b[39;00m \u001b[38;5;21m_cached\u001b[39m(_self_weak_ref, \u001b[38;5;241m*\u001b[39margs, \u001b[38;5;241m*\u001b[39m\u001b[38;5;241m*\u001b[39mkwargs):\n\u001b[0;32m---> 26\u001b[0m     \u001b[38;5;28;01mreturn\u001b[39;00m \u001b[43mfunc\u001b[49m\u001b[43m(\u001b[49m\u001b[43m_self_weak_ref\u001b[49m\u001b[43m(\u001b[49m\u001b[43m)\u001b[49m\u001b[43m,\u001b[49m\u001b[43m \u001b[49m\u001b[38;5;241;43m*\u001b[39;49m\u001b[43margs\u001b[49m\u001b[43m,\u001b[49m\u001b[43m \u001b[49m\u001b[38;5;241;43m*\u001b[39;49m\u001b[38;5;241;43m*\u001b[39;49m\u001b[43mkwargs\u001b[49m\u001b[43m)\u001b[49m\n",
      "File \u001b[0;32m~/dev/simphony_4_git/simphony-osp/simphony_osp/session/session.py:1321\u001b[0m, in \u001b[0;36mSession.from_identifier\u001b[0;34m(self, identifier)\u001b[0m\n\u001b[1;32m   1319\u001b[0m \u001b[38;5;250m\u001b[39m\u001b[38;5;124;03m\"\"\"Finally return the single compatible class or raise an exception.\"\"\"\u001b[39;00m\n\u001b[1;32m   1320\u001b[0m \u001b[38;5;28;01mif\u001b[39;00m \u001b[38;5;28mlen\u001b[39m(compatible) \u001b[38;5;241m>\u001b[39m\u001b[38;5;241m=\u001b[39m \u001b[38;5;241m2\u001b[39m:\n\u001b[0;32m-> 1321\u001b[0m     \u001b[38;5;28;01mraise\u001b[39;00m \u001b[38;5;167;01mRuntimeError\u001b[39;00m(\n\u001b[1;32m   1322\u001b[0m         \u001b[38;5;124mf\u001b[39m\u001b[38;5;124m\"\u001b[39m\u001b[38;5;124mTwo or more python classes (\u001b[39m\u001b[38;5;124m\"\u001b[39m\n\u001b[1;32m   1323\u001b[0m         \u001b[38;5;124mf\u001b[39m\u001b[38;5;124m\"\u001b[39m\u001b[38;5;132;01m{\u001b[39;00m\u001b[38;5;124m'\u001b[39m\u001b[38;5;124m, \u001b[39m\u001b[38;5;124m'\u001b[39m\u001b[38;5;241m.\u001b[39mjoin(\u001b[38;5;28mmap\u001b[39m(\u001b[38;5;28mstr\u001b[39m,\u001b[38;5;250m \u001b[39mcompatible))\u001b[38;5;132;01m}\u001b[39;00m\u001b[38;5;124m) \u001b[39m\u001b[38;5;124m\"\u001b[39m\n\u001b[1;32m   1324\u001b[0m         \u001b[38;5;124mf\u001b[39m\u001b[38;5;124m\"\u001b[39m\u001b[38;5;124mcould be spawned from \u001b[39m\u001b[38;5;132;01m{\u001b[39;00midentifier\u001b[38;5;132;01m}\u001b[39;00m\u001b[38;5;124m.\u001b[39m\u001b[38;5;124m\"\u001b[39m\n\u001b[1;32m   1325\u001b[0m     )\n\u001b[1;32m   1326\u001b[0m \u001b[38;5;28;01mtry\u001b[39;00m:\n\u001b[1;32m   1327\u001b[0m     python_class \u001b[38;5;241m=\u001b[39m compatible\u001b[38;5;241m.\u001b[39mpop()\n",
      "\u001b[0;31mRuntimeError\u001b[0m: Two or more python classes (<class 'simphony_osp.ontology.relationship.OntologyRelationship'>, <class 'simphony_osp.ontology.attribute.OntologyAttribute'>) could be spawned from http://xmlns.com/foaf/0.1/homepage."
     ]
    }
   ],
   "source": [
    "pretty_print(copies[0])"
   ]
  },
  {
   "cell_type": "code",
   "execution_count": 17,
   "id": "1a96f622",
   "metadata": {},
   "outputs": [
    {
     "ename": "RuntimeError",
     "evalue": "Two or more python classes (<class 'simphony_osp.ontology.relationship.OntologyRelationship'>, <class 'simphony_osp.ontology.attribute.OntologyAttribute'>) could be spawned from http://xmlns.com/foaf/0.1/homepage.",
     "output_type": "error",
     "traceback": [
      "\u001b[0;31m---------------------------------------------------------------------------\u001b[0m",
      "\u001b[0;31mRuntimeError\u001b[0m                              Traceback (most recent call last)",
      "Cell \u001b[0;32mIn[17], line 2\u001b[0m\n\u001b[1;32m      1\u001b[0m \u001b[38;5;28;01mfor\u001b[39;00m i \u001b[38;5;129;01min\u001b[39;00m session:\n\u001b[0;32m----> 2\u001b[0m     \u001b[43mpretty_print\u001b[49m\u001b[43m(\u001b[49m\u001b[43mi\u001b[49m\u001b[43m)\u001b[49m\n",
      "File \u001b[0;32m~/dev/simphony_4_git/simphony-osp/simphony_osp/tools/pretty_print.py:77\u001b[0m, in \u001b[0;36mpretty_print\u001b[0;34m(entity, rel, file)\u001b[0m\n\u001b[1;32m     75\u001b[0m         pp[\u001b[38;5;124m\"\u001b[39m\u001b[38;5;124mattributes\u001b[39m\u001b[38;5;124m\"\u001b[39m] \u001b[38;5;241m=\u001b[39m \u001b[38;5;124mf\u001b[39m\u001b[38;5;124m\"\u001b[39m\u001b[38;5;130;01m\\n\u001b[39;00m\u001b[38;5;124m  values: \u001b[39m\u001b[38;5;132;01m{\u001b[39;00mvalues_str\u001b[38;5;132;01m}\u001b[39;00m\u001b[38;5;124m\"\u001b[39m\n\u001b[1;32m     76\u001b[0m     \u001b[38;5;66;03m# Subelements\u001b[39;00m\n\u001b[0;32m---> 77\u001b[0m     pp[\u001b[38;5;124m\"\u001b[39m\u001b[38;5;124msubelements\u001b[39m\u001b[38;5;124m\"\u001b[39m] \u001b[38;5;241m=\u001b[39m \u001b[43m_pp_individual_subelements\u001b[49m\u001b[43m(\u001b[49m\u001b[43mentity\u001b[49m\u001b[43m,\u001b[49m\u001b[43m \u001b[49m\u001b[43mrel\u001b[49m\u001b[43m)\u001b[49m\n\u001b[1;32m     79\u001b[0m pp[\u001b[38;5;124m\"\u001b[39m\u001b[38;5;124midentifier\u001b[39m\u001b[38;5;124m\"\u001b[39m] \u001b[38;5;241m=\u001b[39m \u001b[38;5;124mf\u001b[39m\u001b[38;5;124m\"\u001b[39m\u001b[38;5;130;01m\\n\u001b[39;00m\u001b[38;5;124m  identifier: \u001b[39m\u001b[38;5;132;01m{\u001b[39;00mentity\u001b[38;5;241m.\u001b[39muid\u001b[38;5;132;01m}\u001b[39;00m\u001b[38;5;124m\"\u001b[39m\n\u001b[1;32m     81\u001b[0m pp \u001b[38;5;241m=\u001b[39m reduce(add, pp\u001b[38;5;241m.\u001b[39mvalues())\n",
      "File \u001b[0;32m~/dev/simphony_4_git/simphony-osp/simphony_osp/tools/pretty_print.py:171\u001b[0m, in \u001b[0;36m_pp_individual_subelements\u001b[0;34m(individual, rel, level_indentation, visited)\u001b[0m\n\u001b[1;32m    166\u001b[0m         \u001b[38;5;28;01mpass\u001b[39;00m\n\u001b[1;32m    167\u001b[0m filtered_relationships \u001b[38;5;241m=\u001b[39m \u001b[38;5;28mfilter\u001b[39m(\n\u001b[1;32m    168\u001b[0m     \u001b[38;5;28;01mlambda\u001b[39;00m x: \u001b[38;5;28many\u001b[39m(x\u001b[38;5;241m.\u001b[39mis_subclass_of(r) \u001b[38;5;28;01mfor\u001b[39;00m r \u001b[38;5;129;01min\u001b[39;00m rels),\n\u001b[1;32m    169\u001b[0m     consider_relationships,\n\u001b[1;32m    170\u001b[0m )\n\u001b[0;32m--> 171\u001b[0m sorted_relationships \u001b[38;5;241m=\u001b[39m \u001b[38;5;28msorted\u001b[39m(filtered_relationships, key\u001b[38;5;241m=\u001b[39m\u001b[38;5;28mstr\u001b[39m)\n\u001b[1;32m    173\u001b[0m visited \u001b[38;5;241m=\u001b[39m visited \u001b[38;5;129;01mor\u001b[39;00m \u001b[38;5;28mset\u001b[39m()\n\u001b[1;32m    174\u001b[0m visited\u001b[38;5;241m.\u001b[39madd(individual\u001b[38;5;241m.\u001b[39muid)\n",
      "File \u001b[0;32m~/dev/simphony_4_git/simphony-osp/simphony_osp/tools/pretty_print.py:168\u001b[0m, in \u001b[0;36m_pp_individual_subelements.<locals>.<lambda>\u001b[0;34m(x)\u001b[0m\n\u001b[1;32m    165\u001b[0m     \u001b[38;5;28;01mexcept\u001b[39;00m \u001b[38;5;167;01mKeyError\u001b[39;00m:\n\u001b[1;32m    166\u001b[0m         \u001b[38;5;28;01mpass\u001b[39;00m\n\u001b[1;32m    167\u001b[0m filtered_relationships \u001b[38;5;241m=\u001b[39m \u001b[38;5;28mfilter\u001b[39m(\n\u001b[0;32m--> 168\u001b[0m     \u001b[38;5;28;01mlambda\u001b[39;00m x: \u001b[38;5;28;43many\u001b[39;49m\u001b[43m(\u001b[49m\u001b[43mx\u001b[49m\u001b[38;5;241;43m.\u001b[39;49m\u001b[43mis_subclass_of\u001b[49m\u001b[43m(\u001b[49m\u001b[43mr\u001b[49m\u001b[43m)\u001b[49m\u001b[43m \u001b[49m\u001b[38;5;28;43;01mfor\u001b[39;49;00m\u001b[43m \u001b[49m\u001b[43mr\u001b[49m\u001b[43m \u001b[49m\u001b[38;5;129;43;01min\u001b[39;49;00m\u001b[43m \u001b[49m\u001b[43mrels\u001b[49m\u001b[43m)\u001b[49m,\n\u001b[1;32m    169\u001b[0m     consider_relationships,\n\u001b[1;32m    170\u001b[0m )\n\u001b[1;32m    171\u001b[0m sorted_relationships \u001b[38;5;241m=\u001b[39m \u001b[38;5;28msorted\u001b[39m(filtered_relationships, key\u001b[38;5;241m=\u001b[39m\u001b[38;5;28mstr\u001b[39m)\n\u001b[1;32m    173\u001b[0m visited \u001b[38;5;241m=\u001b[39m visited \u001b[38;5;129;01mor\u001b[39;00m \u001b[38;5;28mset\u001b[39m()\n",
      "File \u001b[0;32m~/dev/simphony_4_git/simphony-osp/simphony_osp/tools/pretty_print.py:168\u001b[0m, in \u001b[0;36m<genexpr>\u001b[0;34m(.0)\u001b[0m\n\u001b[1;32m    165\u001b[0m     \u001b[38;5;28;01mexcept\u001b[39;00m \u001b[38;5;167;01mKeyError\u001b[39;00m:\n\u001b[1;32m    166\u001b[0m         \u001b[38;5;28;01mpass\u001b[39;00m\n\u001b[1;32m    167\u001b[0m filtered_relationships \u001b[38;5;241m=\u001b[39m \u001b[38;5;28mfilter\u001b[39m(\n\u001b[0;32m--> 168\u001b[0m     \u001b[38;5;28;01mlambda\u001b[39;00m x: \u001b[38;5;28many\u001b[39m(\u001b[43mx\u001b[49m\u001b[38;5;241;43m.\u001b[39;49m\u001b[43mis_subclass_of\u001b[49m\u001b[43m(\u001b[49m\u001b[43mr\u001b[49m\u001b[43m)\u001b[49m \u001b[38;5;28;01mfor\u001b[39;00m r \u001b[38;5;129;01min\u001b[39;00m rels),\n\u001b[1;32m    169\u001b[0m     consider_relationships,\n\u001b[1;32m    170\u001b[0m )\n\u001b[1;32m    171\u001b[0m sorted_relationships \u001b[38;5;241m=\u001b[39m \u001b[38;5;28msorted\u001b[39m(filtered_relationships, key\u001b[38;5;241m=\u001b[39m\u001b[38;5;28mstr\u001b[39m)\n\u001b[1;32m    173\u001b[0m visited \u001b[38;5;241m=\u001b[39m visited \u001b[38;5;129;01mor\u001b[39;00m \u001b[38;5;28mset\u001b[39m()\n",
      "File \u001b[0;32m~/dev/simphony_4_git/simphony-osp/simphony_osp/ontology/entity.py:196\u001b[0m, in \u001b[0;36mOntologyEntity.is_subclass_of\u001b[0;34m(self, other)\u001b[0m\n\u001b[1;32m    186\u001b[0m \u001b[38;5;28;01mdef\u001b[39;00m \u001b[38;5;21mis_subclass_of\u001b[39m(\u001b[38;5;28mself\u001b[39m, other: OntologyEntity) \u001b[38;5;241m-\u001b[39m\u001b[38;5;241m>\u001b[39m \u001b[38;5;28mbool\u001b[39m:\n\u001b[1;32m    187\u001b[0m \u001b[38;5;250m    \u001b[39m\u001b[38;5;124;03m\"\"\"Perform a subclass check.\u001b[39;00m\n\u001b[1;32m    188\u001b[0m \n\u001b[1;32m    189\u001b[0m \u001b[38;5;124;03m    Args:\u001b[39;00m\n\u001b[0;32m   (...)\u001b[0m\n\u001b[1;32m    194\u001b[0m \n\u001b[1;32m    195\u001b[0m \u001b[38;5;124;03m    \"\"\"\u001b[39;00m\n\u001b[0;32m--> 196\u001b[0m     \u001b[38;5;28;01mreturn\u001b[39;00m \u001b[38;5;28mself\u001b[39m \u001b[38;5;129;01min\u001b[39;00m \u001b[43mother\u001b[49m\u001b[38;5;241;43m.\u001b[39;49m\u001b[43msubclasses\u001b[49m\n",
      "File \u001b[0;32m~/dev/simphony_4_git/simphony-osp/simphony_osp/utils/cache.py:137\u001b[0m, in \u001b[0;36mlru_cache_timestamp.<locals>.decorator.<locals>.wrapper\u001b[0;34m(self, *args, **kwargs)\u001b[0m\n\u001b[1;32m    134\u001b[0m     cached_function\u001b[38;5;241m.\u001b[39mcache_clear()\n\u001b[1;32m    135\u001b[0m     holder[\u001b[38;5;28mself\u001b[39m] \u001b[38;5;241m=\u001b[39m datetime\u001b[38;5;241m.\u001b[39mnow(), cached_function\n\u001b[0;32m--> 137\u001b[0m \u001b[38;5;28;01mreturn\u001b[39;00m \u001b[43mcached_function\u001b[49m\u001b[43m(\u001b[49m\u001b[38;5;28;43mself\u001b[39;49m\u001b[43m,\u001b[49m\u001b[43m \u001b[49m\u001b[38;5;241;43m*\u001b[39;49m\u001b[43margs\u001b[49m\u001b[43m,\u001b[49m\u001b[43m \u001b[49m\u001b[38;5;241;43m*\u001b[39;49m\u001b[38;5;241;43m*\u001b[39;49m\u001b[43mkwargs\u001b[49m\u001b[43m)\u001b[49m\n",
      "File \u001b[0;32m~/dev/simphony_4_git/simphony-osp/simphony_osp/utils/cache.py:30\u001b[0m, in \u001b[0;36mlru_cache_weak.<locals>.decorator.<locals>.wrapper\u001b[0;34m(self, *args, **kwargs)\u001b[0m\n\u001b[1;32m     28\u001b[0m \u001b[38;5;129m@wraps\u001b[39m(func)\n\u001b[1;32m     29\u001b[0m \u001b[38;5;28;01mdef\u001b[39;00m \u001b[38;5;21mwrapper\u001b[39m(\u001b[38;5;28mself\u001b[39m, \u001b[38;5;241m*\u001b[39margs, \u001b[38;5;241m*\u001b[39m\u001b[38;5;241m*\u001b[39mkwargs):\n\u001b[0;32m---> 30\u001b[0m     \u001b[38;5;28;01mreturn\u001b[39;00m \u001b[43m_cached\u001b[49m\u001b[43m(\u001b[49m\u001b[43mref\u001b[49m\u001b[43m(\u001b[49m\u001b[38;5;28;43mself\u001b[39;49m\u001b[43m)\u001b[49m\u001b[43m,\u001b[49m\u001b[43m \u001b[49m\u001b[38;5;241;43m*\u001b[39;49m\u001b[43margs\u001b[49m\u001b[43m,\u001b[49m\u001b[43m \u001b[49m\u001b[38;5;241;43m*\u001b[39;49m\u001b[38;5;241;43m*\u001b[39;49m\u001b[43mkwargs\u001b[49m\u001b[43m)\u001b[49m\n",
      "File \u001b[0;32m~/dev/simphony_4_git/simphony-osp/simphony_osp/utils/cache.py:26\u001b[0m, in \u001b[0;36mlru_cache_weak.<locals>.decorator.<locals>._cached\u001b[0;34m(_self_weak_ref, *args, **kwargs)\u001b[0m\n\u001b[1;32m     24\u001b[0m \u001b[38;5;129m@lru_cache\u001b[39m(maxsize\u001b[38;5;241m=\u001b[39mmaxsize, typed\u001b[38;5;241m=\u001b[39mtyped)\n\u001b[1;32m     25\u001b[0m \u001b[38;5;28;01mdef\u001b[39;00m \u001b[38;5;21m_cached\u001b[39m(_self_weak_ref, \u001b[38;5;241m*\u001b[39margs, \u001b[38;5;241m*\u001b[39m\u001b[38;5;241m*\u001b[39mkwargs):\n\u001b[0;32m---> 26\u001b[0m     \u001b[38;5;28;01mreturn\u001b[39;00m \u001b[43mfunc\u001b[49m\u001b[43m(\u001b[49m\u001b[43m_self_weak_ref\u001b[49m\u001b[43m(\u001b[49m\u001b[43m)\u001b[49m\u001b[43m,\u001b[49m\u001b[43m \u001b[49m\u001b[38;5;241;43m*\u001b[39;49m\u001b[43margs\u001b[49m\u001b[43m,\u001b[49m\u001b[43m \u001b[49m\u001b[38;5;241;43m*\u001b[39;49m\u001b[38;5;241;43m*\u001b[39;49m\u001b[43mkwargs\u001b[49m\u001b[43m)\u001b[49m\n",
      "File \u001b[0;32m~/dev/simphony_4_git/simphony-osp/simphony_osp/utils/cache.py:110\u001b[0m, in \u001b[0;36mlru_cache_timestamp.<locals>.decorator.<locals>.wrapper.<locals>.cached_function\u001b[0;34m(self_function, *args_function, **kwargs_function)\u001b[0m\n\u001b[1;32m    106\u001b[0m \u001b[38;5;129m@lru_cache_weak\u001b[39m(maxsize\u001b[38;5;241m=\u001b[39mmaxsize, typed\u001b[38;5;241m=\u001b[39mtyped)\n\u001b[1;32m    107\u001b[0m \u001b[38;5;28;01mdef\u001b[39;00m \u001b[38;5;21mcached_function\u001b[39m(\n\u001b[1;32m    108\u001b[0m     self_function, \u001b[38;5;241m*\u001b[39margs_function, \u001b[38;5;241m*\u001b[39m\u001b[38;5;241m*\u001b[39mkwargs_function\n\u001b[1;32m    109\u001b[0m ):\n\u001b[0;32m--> 110\u001b[0m     \u001b[38;5;28;01mreturn\u001b[39;00m \u001b[43mfunc\u001b[49m\u001b[43m(\u001b[49m\n\u001b[1;32m    111\u001b[0m \u001b[43m        \u001b[49m\u001b[43mself_function\u001b[49m\u001b[43m,\u001b[49m\u001b[43m \u001b[49m\u001b[38;5;241;43m*\u001b[39;49m\u001b[43margs_function\u001b[49m\u001b[43m,\u001b[49m\u001b[43m \u001b[49m\u001b[38;5;241;43m*\u001b[39;49m\u001b[38;5;241;43m*\u001b[39;49m\u001b[43mkwargs_function\u001b[49m\n\u001b[1;32m    112\u001b[0m \u001b[43m    \u001b[49m\u001b[43m)\u001b[49m\n",
      "File \u001b[0;32m~/dev/simphony_4_git/simphony-osp/simphony_osp/ontology/entity.py:173\u001b[0m, in \u001b[0;36mOntologyEntity.subclasses\u001b[0;34m(self)\u001b[0m\n\u001b[1;32m    164\u001b[0m \u001b[38;5;129m@property\u001b[39m\n\u001b[1;32m    165\u001b[0m \u001b[38;5;129m@lru_cache_timestamp\u001b[39m(\u001b[38;5;28;01mlambda\u001b[39;00m \u001b[38;5;28mself\u001b[39m: \u001b[38;5;28mself\u001b[39m\u001b[38;5;241m.\u001b[39msession\u001b[38;5;241m.\u001b[39mentity_cache_timestamp)\n\u001b[1;32m    166\u001b[0m \u001b[38;5;28;01mdef\u001b[39;00m \u001b[38;5;21msubclasses\u001b[39m(\u001b[38;5;28mself\u001b[39m: ONTOLOGY_ENTITY) \u001b[38;5;241m-\u001b[39m\u001b[38;5;241m>\u001b[39m FrozenSet[ONTOLOGY_ENTITY]:\n\u001b[1;32m    167\u001b[0m \u001b[38;5;250m    \u001b[39m\u001b[38;5;124;03m\"\"\"Get the subclasses of the entity.\u001b[39;00m\n\u001b[1;32m    168\u001b[0m \n\u001b[1;32m    169\u001b[0m \u001b[38;5;124;03m    Returns:\u001b[39;00m\n\u001b[1;32m    170\u001b[0m \u001b[38;5;124;03m        The subclasses of the entity\u001b[39;00m\n\u001b[1;32m    171\u001b[0m \n\u001b[1;32m    172\u001b[0m \u001b[38;5;124;03m    \"\"\"\u001b[39;00m\n\u001b[0;32m--> 173\u001b[0m     \u001b[38;5;28;01mreturn\u001b[39;00m \u001b[38;5;28;43mfrozenset\u001b[39;49m\u001b[43m(\u001b[49m\u001b[38;5;28;43mself\u001b[39;49m\u001b[38;5;241;43m.\u001b[39;49m\u001b[43m_get_subclasses\u001b[49m\u001b[43m(\u001b[49m\u001b[43m)\u001b[49m\u001b[43m)\u001b[49m\n",
      "File \u001b[0;32m~/dev/simphony_4_git/simphony-osp/simphony_osp/ontology/relationship.py:116\u001b[0m, in \u001b[0;36mOntologyRelationship._get_subclasses\u001b[0;34m(self)\u001b[0m\n\u001b[1;32m    113\u001b[0m \u001b[38;5;28;01myield\u001b[39;00m \u001b[38;5;28mself\u001b[39m\n\u001b[1;32m    115\u001b[0m \u001b[38;5;28;01mif\u001b[39;00m \u001b[38;5;28mself\u001b[39m\u001b[38;5;241m.\u001b[39midentifier \u001b[38;5;241m==\u001b[39m OWL\u001b[38;5;241m.\u001b[39mtopObjectProperty:\n\u001b[0;32m--> 116\u001b[0m     \u001b[38;5;28;01myield from\u001b[39;00m (\n\u001b[1;32m    117\u001b[0m         \u001b[38;5;28mself\u001b[39m\u001b[38;5;241m.\u001b[39msession\u001b[38;5;241m.\u001b[39mfrom_identifier_typed(\n\u001b[1;32m    118\u001b[0m             s, typing\u001b[38;5;241m=\u001b[39mOntologyRelationship\n\u001b[1;32m    119\u001b[0m         )\n\u001b[1;32m    120\u001b[0m         \u001b[38;5;28;01mfor\u001b[39;00m s \u001b[38;5;129;01min\u001b[39;00m \u001b[38;5;28mself\u001b[39m\u001b[38;5;241m.\u001b[39msession\u001b[38;5;241m.\u001b[39mgraph\u001b[38;5;241m.\u001b[39msubjects(\n\u001b[1;32m    121\u001b[0m             RDF\u001b[38;5;241m.\u001b[39mtype, OWL\u001b[38;5;241m.\u001b[39mObjectProperty\n\u001b[1;32m    122\u001b[0m         )\n\u001b[1;32m    123\u001b[0m     )\n\u001b[1;32m    124\u001b[0m \u001b[38;5;28;01melse\u001b[39;00m:\n\u001b[1;32m    126\u001b[0m     \u001b[38;5;28;01mdef\u001b[39;00m \u001b[38;5;21mclosure\u001b[39m(node, graph):\n",
      "File \u001b[0;32m~/dev/simphony_4_git/simphony-osp/simphony_osp/ontology/relationship.py:117\u001b[0m, in \u001b[0;36m<genexpr>\u001b[0;34m(.0)\u001b[0m\n\u001b[1;32m    113\u001b[0m \u001b[38;5;28;01myield\u001b[39;00m \u001b[38;5;28mself\u001b[39m\n\u001b[1;32m    115\u001b[0m \u001b[38;5;28;01mif\u001b[39;00m \u001b[38;5;28mself\u001b[39m\u001b[38;5;241m.\u001b[39midentifier \u001b[38;5;241m==\u001b[39m OWL\u001b[38;5;241m.\u001b[39mtopObjectProperty:\n\u001b[1;32m    116\u001b[0m     \u001b[38;5;28;01myield from\u001b[39;00m (\n\u001b[0;32m--> 117\u001b[0m         \u001b[38;5;28;43mself\u001b[39;49m\u001b[38;5;241;43m.\u001b[39;49m\u001b[43msession\u001b[49m\u001b[38;5;241;43m.\u001b[39;49m\u001b[43mfrom_identifier_typed\u001b[49m\u001b[43m(\u001b[49m\n\u001b[1;32m    118\u001b[0m \u001b[43m            \u001b[49m\u001b[43ms\u001b[49m\u001b[43m,\u001b[49m\u001b[43m \u001b[49m\u001b[43mtyping\u001b[49m\u001b[38;5;241;43m=\u001b[39;49m\u001b[43mOntologyRelationship\u001b[49m\n\u001b[1;32m    119\u001b[0m \u001b[43m        \u001b[49m\u001b[43m)\u001b[49m\n\u001b[1;32m    120\u001b[0m         \u001b[38;5;28;01mfor\u001b[39;00m s \u001b[38;5;129;01min\u001b[39;00m \u001b[38;5;28mself\u001b[39m\u001b[38;5;241m.\u001b[39msession\u001b[38;5;241m.\u001b[39mgraph\u001b[38;5;241m.\u001b[39msubjects(\n\u001b[1;32m    121\u001b[0m             RDF\u001b[38;5;241m.\u001b[39mtype, OWL\u001b[38;5;241m.\u001b[39mObjectProperty\n\u001b[1;32m    122\u001b[0m         )\n\u001b[1;32m    123\u001b[0m     )\n\u001b[1;32m    124\u001b[0m \u001b[38;5;28;01melse\u001b[39;00m:\n\u001b[1;32m    126\u001b[0m     \u001b[38;5;28;01mdef\u001b[39;00m \u001b[38;5;21mclosure\u001b[39m(node, graph):\n",
      "File \u001b[0;32m~/dev/simphony_4_git/simphony-osp/simphony_osp/session/session.py:1353\u001b[0m, in \u001b[0;36mSession.from_identifier_typed\u001b[0;34m(self, identifier, typing)\u001b[0m\n\u001b[1;32m   1337\u001b[0m \u001b[38;5;28;01mdef\u001b[39;00m \u001b[38;5;21mfrom_identifier_typed\u001b[39m(\n\u001b[1;32m   1338\u001b[0m     \u001b[38;5;28mself\u001b[39m, identifier: Node, typing: Type[ENTITY]\n\u001b[1;32m   1339\u001b[0m ) \u001b[38;5;241m-\u001b[39m\u001b[38;5;241m>\u001b[39m ENTITY:\n\u001b[1;32m   1340\u001b[0m \u001b[38;5;250m    \u001b[39m\u001b[38;5;124;03m\"\"\"Get an ontology entity from its identifier, enforcing a type check.\u001b[39;00m\n\u001b[1;32m   1341\u001b[0m \n\u001b[1;32m   1342\u001b[0m \u001b[38;5;124;03m    Args:\u001b[39;00m\n\u001b[0;32m   (...)\u001b[0m\n\u001b[1;32m   1351\u001b[0m \u001b[38;5;124;03m        The OntologyEntity.\u001b[39;00m\n\u001b[1;32m   1352\u001b[0m \u001b[38;5;124;03m    \"\"\"\u001b[39;00m\n\u001b[0;32m-> 1353\u001b[0m     entity \u001b[38;5;241m=\u001b[39m \u001b[38;5;28;43mself\u001b[39;49m\u001b[38;5;241;43m.\u001b[39;49m\u001b[43mfrom_identifier\u001b[49m\u001b[43m(\u001b[49m\u001b[43midentifier\u001b[49m\u001b[43m)\u001b[49m\n\u001b[1;32m   1354\u001b[0m     \u001b[38;5;28;01mif\u001b[39;00m \u001b[38;5;129;01mnot\u001b[39;00m \u001b[38;5;28misinstance\u001b[39m(entity, typing):\n\u001b[1;32m   1355\u001b[0m         \u001b[38;5;28;01mraise\u001b[39;00m \u001b[38;5;167;01mTypeError\u001b[39;00m(\u001b[38;5;124mf\u001b[39m\u001b[38;5;124m\"\u001b[39m\u001b[38;5;132;01m{\u001b[39;00midentifier\u001b[38;5;132;01m}\u001b[39;00m\u001b[38;5;124m is not of class \u001b[39m\u001b[38;5;132;01m{\u001b[39;00mtyping\u001b[38;5;132;01m}\u001b[39;00m\u001b[38;5;124m.\u001b[39m\u001b[38;5;124m\"\u001b[39m)\n",
      "File \u001b[0;32m~/dev/simphony_4_git/simphony-osp/simphony_osp/utils/cache.py:30\u001b[0m, in \u001b[0;36mlru_cache_weak.<locals>.decorator.<locals>.wrapper\u001b[0;34m(self, *args, **kwargs)\u001b[0m\n\u001b[1;32m     28\u001b[0m \u001b[38;5;129m@wraps\u001b[39m(func)\n\u001b[1;32m     29\u001b[0m \u001b[38;5;28;01mdef\u001b[39;00m \u001b[38;5;21mwrapper\u001b[39m(\u001b[38;5;28mself\u001b[39m, \u001b[38;5;241m*\u001b[39margs, \u001b[38;5;241m*\u001b[39m\u001b[38;5;241m*\u001b[39mkwargs):\n\u001b[0;32m---> 30\u001b[0m     \u001b[38;5;28;01mreturn\u001b[39;00m \u001b[43m_cached\u001b[49m\u001b[43m(\u001b[49m\u001b[43mref\u001b[49m\u001b[43m(\u001b[49m\u001b[38;5;28;43mself\u001b[39;49m\u001b[43m)\u001b[49m\u001b[43m,\u001b[49m\u001b[43m \u001b[49m\u001b[38;5;241;43m*\u001b[39;49m\u001b[43margs\u001b[49m\u001b[43m,\u001b[49m\u001b[43m \u001b[49m\u001b[38;5;241;43m*\u001b[39;49m\u001b[38;5;241;43m*\u001b[39;49m\u001b[43mkwargs\u001b[49m\u001b[43m)\u001b[49m\n",
      "File \u001b[0;32m~/dev/simphony_4_git/simphony-osp/simphony_osp/utils/cache.py:26\u001b[0m, in \u001b[0;36mlru_cache_weak.<locals>.decorator.<locals>._cached\u001b[0;34m(_self_weak_ref, *args, **kwargs)\u001b[0m\n\u001b[1;32m     24\u001b[0m \u001b[38;5;129m@lru_cache\u001b[39m(maxsize\u001b[38;5;241m=\u001b[39mmaxsize, typed\u001b[38;5;241m=\u001b[39mtyped)\n\u001b[1;32m     25\u001b[0m \u001b[38;5;28;01mdef\u001b[39;00m \u001b[38;5;21m_cached\u001b[39m(_self_weak_ref, \u001b[38;5;241m*\u001b[39margs, \u001b[38;5;241m*\u001b[39m\u001b[38;5;241m*\u001b[39mkwargs):\n\u001b[0;32m---> 26\u001b[0m     \u001b[38;5;28;01mreturn\u001b[39;00m \u001b[43mfunc\u001b[49m\u001b[43m(\u001b[49m\u001b[43m_self_weak_ref\u001b[49m\u001b[43m(\u001b[49m\u001b[43m)\u001b[49m\u001b[43m,\u001b[49m\u001b[43m \u001b[49m\u001b[38;5;241;43m*\u001b[39;49m\u001b[43margs\u001b[49m\u001b[43m,\u001b[49m\u001b[43m \u001b[49m\u001b[38;5;241;43m*\u001b[39;49m\u001b[38;5;241;43m*\u001b[39;49m\u001b[43mkwargs\u001b[49m\u001b[43m)\u001b[49m\n",
      "File \u001b[0;32m~/dev/simphony_4_git/simphony-osp/simphony_osp/session/session.py:1321\u001b[0m, in \u001b[0;36mSession.from_identifier\u001b[0;34m(self, identifier)\u001b[0m\n\u001b[1;32m   1319\u001b[0m \u001b[38;5;250m\u001b[39m\u001b[38;5;124;03m\"\"\"Finally return the single compatible class or raise an exception.\"\"\"\u001b[39;00m\n\u001b[1;32m   1320\u001b[0m \u001b[38;5;28;01mif\u001b[39;00m \u001b[38;5;28mlen\u001b[39m(compatible) \u001b[38;5;241m>\u001b[39m\u001b[38;5;241m=\u001b[39m \u001b[38;5;241m2\u001b[39m:\n\u001b[0;32m-> 1321\u001b[0m     \u001b[38;5;28;01mraise\u001b[39;00m \u001b[38;5;167;01mRuntimeError\u001b[39;00m(\n\u001b[1;32m   1322\u001b[0m         \u001b[38;5;124mf\u001b[39m\u001b[38;5;124m\"\u001b[39m\u001b[38;5;124mTwo or more python classes (\u001b[39m\u001b[38;5;124m\"\u001b[39m\n\u001b[1;32m   1323\u001b[0m         \u001b[38;5;124mf\u001b[39m\u001b[38;5;124m\"\u001b[39m\u001b[38;5;132;01m{\u001b[39;00m\u001b[38;5;124m'\u001b[39m\u001b[38;5;124m, \u001b[39m\u001b[38;5;124m'\u001b[39m\u001b[38;5;241m.\u001b[39mjoin(\u001b[38;5;28mmap\u001b[39m(\u001b[38;5;28mstr\u001b[39m,\u001b[38;5;250m \u001b[39mcompatible))\u001b[38;5;132;01m}\u001b[39;00m\u001b[38;5;124m) \u001b[39m\u001b[38;5;124m\"\u001b[39m\n\u001b[1;32m   1324\u001b[0m         \u001b[38;5;124mf\u001b[39m\u001b[38;5;124m\"\u001b[39m\u001b[38;5;124mcould be spawned from \u001b[39m\u001b[38;5;132;01m{\u001b[39;00midentifier\u001b[38;5;132;01m}\u001b[39;00m\u001b[38;5;124m.\u001b[39m\u001b[38;5;124m\"\u001b[39m\n\u001b[1;32m   1325\u001b[0m     )\n\u001b[1;32m   1326\u001b[0m \u001b[38;5;28;01mtry\u001b[39;00m:\n\u001b[1;32m   1327\u001b[0m     python_class \u001b[38;5;241m=\u001b[39m compatible\u001b[38;5;241m.\u001b[39mpop()\n",
      "\u001b[0;31mRuntimeError\u001b[0m: Two or more python classes (<class 'simphony_osp.ontology.relationship.OntologyRelationship'>, <class 'simphony_osp.ontology.attribute.OntologyAttribute'>) could be spawned from http://xmlns.com/foaf/0.1/homepage."
     ]
    }
   ],
   "source": [
    "for i in session:\n",
    "    pretty_print(i)"
   ]
  },
  {
   "cell_type": "code",
   "execution_count": 18,
   "id": "fb5cb026",
   "metadata": {},
   "outputs": [
    {
     "data": {
      "text/plain": [
       "6"
      ]
     },
     "execution_count": 18,
     "metadata": {},
     "output_type": "execute_result"
    }
   ],
   "source": [
    "len(session)"
   ]
  },
  {
   "cell_type": "code",
   "execution_count": 19,
   "id": "c40460cf",
   "metadata": {},
   "outputs": [],
   "source": [
    "str1=\"\""
   ]
  },
  {
   "cell_type": "code",
   "execution_count": 20,
   "id": "58e81808",
   "metadata": {},
   "outputs": [
    {
     "data": {
      "text/plain": [
       "'Freiburg'"
      ]
     },
     "execution_count": 20,
     "metadata": {},
     "output_type": "execute_result"
    }
   ],
   "source": [
    "freiburg.name\n"
   ]
  },
  {
   "cell_type": "code",
   "execution_count": 21,
   "id": "673bbb21",
   "metadata": {},
   "outputs": [],
   "source": [
    "s=export_file( individuals_or_session=session,main = None,format  = \"application/ld+json\",    all_triples= True, all_statements= True)"
   ]
  },
  {
   "cell_type": "code",
   "execution_count": 22,
   "id": "c8acc7a2",
   "metadata": {},
   "outputs": [
    {
     "name": "stdout",
     "output_type": "stream",
     "text": [
      "[\n",
      "  {\n",
      "    \"@id\": \"https://www.simphony-osp.eu/entity#9243eedf-59e8-4041-8d48-72f35747d9e1\",\n",
      "    \"@type\": [\n",
      "      \"https://www.simphony-osp.eu/city#Neighborhood\"\n",
      "    ],\n",
      "    \"https://www.simphony-osp.eu/city#coordinates\": [\n",
      "      {\n",
      "        \"@type\": \"https://www.simphony-osp.eu/types#Vector\",\n",
      "        \"@value\": \"13YFp0RR93;GrncCjv-7tQ=ZoJ6|6_\"\n",
      "      }\n",
      "    ],\n",
      "    \"https://www.simphony-osp.eu/city#name\": [\n",
      "      {\n",
      "        \"@value\": \"Brühl\"\n",
      "      }\n",
      "    ]\n",
      "  },\n",
      "  {\n",
      "    \"@id\": \"https://www.simphony-osp.eu/entity#aef1568d-0607-4e1c-b100-d4a32050b4f0\",\n",
      "    \"@type\": [\n",
      "      \"https://www.simphony-osp.eu/city#City\"\n",
      "    ],\n",
      "    \"https://www.simphony-osp.eu/city#coordinates\": [\n",
      "      {\n",
      "        \"@type\": \"https://www.simphony-osp.eu/types#Vector\",\n",
      "        \"@value\": \"13YFp0RR93AD@t&xBo{#)k4YS)LtJz\"\n",
      "      }\n",
      "    ],\n",
      "    \"https://www.simphony-osp.eu/city#hasPart\": [\n",
      "      {\n",
      "        \"@id\": \"https://www.simphony-osp.eu/entity#ae9e38b6-981f-49c6-95e4-83ea103e6671\"\n",
      "      },\n",
      "      {\n",
      "        \"@id\": \"https://www.simphony-osp.eu/entity#9243eedf-59e8-4041-8d48-72f35747d9e1\"\n",
      "      },\n",
      "      {\n",
      "        \"@id\": \"https://www.simphony-osp.eu/entity#85d5930a-c43b-4f89-9fdf-593805eb526a\"\n",
      "      },\n",
      "      {\n",
      "        \"@id\": \"https://www.simphony-osp.eu/entity#e6d9f014-adfc-4bed-bc42-c130b14c0f78\"\n",
      "      },\n",
      "      {\n",
      "        \"@id\": \"https://www.simphony-osp.eu/entity#934510d0-4652-478f-8fa9-2b1886a3c2ab\"\n",
      "      }\n",
      "    ],\n",
      "    \"https://www.simphony-osp.eu/city#name\": [\n",
      "      {\n",
      "        \"@value\": \"Freiburg\"\n",
      "      }\n",
      "    ]\n",
      "  },\n",
      "  {\n",
      "    \"@id\": \"https://www.simphony-osp.eu/entity#ae9e38b6-981f-49c6-95e4-83ea103e6671\",\n",
      "    \"@type\": [\n",
      "      \"https://www.simphony-osp.eu/city#Neighborhood\"\n",
      "    ],\n",
      "    \"https://www.simphony-osp.eu/city#coordinates\": [\n",
      "      {\n",
      "        \"@type\": \"https://www.simphony-osp.eu/types#Vector\",\n",
      "        \"@value\": \"13YFp0RR93>yVq_1^`Gv#9Dj`fN>u{\"\n",
      "      }\n",
      "    ],\n",
      "    \"https://www.simphony-osp.eu/city#name\": [\n",
      "      {\n",
      "        \"@value\": \"Neuburg\"\n",
      "      }\n",
      "    ]\n",
      "  },\n",
      "  {\n",
      "    \"@id\": \"https://www.simphony-osp.eu/entity#e6d9f014-adfc-4bed-bc42-c130b14c0f78\",\n",
      "    \"@type\": [\n",
      "      \"https://www.simphony-osp.eu/city#Neighborhood\"\n",
      "    ],\n",
      "    \"https://www.simphony-osp.eu/city#coordinates\": [\n",
      "      {\n",
      "        \"@type\": \"https://www.simphony-osp.eu/types#Vector\",\n",
      "        \"@value\": \"13YFp0RR93FrGm}{{TopGpEa9Vsjrr\"\n",
      "      }\n",
      "    ],\n",
      "    \"https://www.simphony-osp.eu/city#name\": [\n",
      "      {\n",
      "        \"@value\": \"Herdern\"\n",
      "      }\n",
      "    ]\n",
      "  },\n",
      "  {\n",
      "    \"@id\": \"https://www.simphony-osp.eu/entity#934510d0-4652-478f-8fa9-2b1886a3c2ab\",\n",
      "    \"@type\": [\n",
      "      \"https://www.simphony-osp.eu/city#Neighborhood\"\n",
      "    ],\n",
      "    \"https://www.simphony-osp.eu/city#coordinates\": [\n",
      "      {\n",
      "        \"@type\": \"https://www.simphony-osp.eu/types#Vector\",\n",
      "        \"@value\": \"13YFp0RR93a!|rd+y6&EL^QgC*jXPy\"\n",
      "      }\n",
      "    ],\n",
      "    \"https://www.simphony-osp.eu/city#name\": [\n",
      "      {\n",
      "        \"@value\": \"Stühlinger\"\n",
      "      }\n",
      "    ]\n",
      "  },\n",
      "  {\n",
      "    \"@id\": \"https://www.simphony-osp.eu/entity#85d5930a-c43b-4f89-9fdf-593805eb526a\",\n",
      "    \"@type\": [\n",
      "      \"https://www.simphony-osp.eu/city#Neighborhood\"\n",
      "    ],\n",
      "    \"https://www.simphony-osp.eu/city#coordinates\": [\n",
      "      {\n",
      "        \"@type\": \"https://www.simphony-osp.eu/types#Vector\",\n",
      "        \"@value\": \"13YFp0RR932&^1hWdBD%`qdmDm}4J6\"\n",
      "      }\n",
      "    ],\n",
      "    \"https://www.simphony-osp.eu/city#name\": [\n",
      "      {\n",
      "        \"@value\": \"Altstadt\"\n",
      "      }\n",
      "    ]\n",
      "  }\n",
      "]\n"
     ]
    }
   ],
   "source": [
    "print(s)"
   ]
  },
  {
   "cell_type": "code",
   "execution_count": 23,
   "id": "1e6dc450",
   "metadata": {},
   "outputs": [
    {
     "data": {
      "text/plain": [
       "[<OntologyIndividual: aef1568d-0607-4e1c-b100-d4a32050b4f0>,\n",
       " <OntologyIndividual: 85d5930a-c43b-4f89-9fdf-593805eb526a>,\n",
       " <OntologyIndividual: 934510d0-4652-478f-8fa9-2b1886a3c2ab>,\n",
       " <OntologyIndividual: ae9e38b6-981f-49c6-95e4-83ea103e6671>,\n",
       " <OntologyIndividual: e6d9f014-adfc-4bed-bc42-c130b14c0f78>,\n",
       " <OntologyIndividual: 9243eedf-59e8-4041-8d48-72f35747d9e1>,\n",
       " <OntologyIndividual: 5999086e-eabc-41b1-9017-7a6d3e0be4c9>,\n",
       " <OntologyIndividual: 0012cf9f-11e6-48d9-83e6-6f6a0bbb4c09>]"
      ]
     },
     "execution_count": 23,
     "metadata": {},
     "output_type": "execute_result"
    }
   ],
   "source": [
    "list(core_session)"
   ]
  },
  {
   "cell_type": "code",
   "execution_count": 24,
   "id": "cf9353a6",
   "metadata": {},
   "outputs": [
    {
     "data": {
      "text/plain": [
       "<OntologyIndividual: 5999086e-eabc-41b1-9017-7a6d3e0be4c9>"
      ]
     },
     "execution_count": 24,
     "metadata": {},
     "output_type": "execute_result"
    }
   ],
   "source": [
    "core_session.get(citizen_1 )"
   ]
  },
  {
   "cell_type": "code",
   "execution_count": 25,
   "id": "008cc94a",
   "metadata": {},
   "outputs": [],
   "source": [
    "from simphony_osp.namespaces import city, owl, rdfs\n",
    "from simphony_osp.session import core_session\n",
    "\n",
    "# Create a city called \"Freiburg\"\n",
    "freiburg = city.City(name=\"Freiburg\", coordinates=[47.997791, 7.842609])\n",
    "freiburg_neighborhoods = [\n",
    "    city.Neighborhood(name=name, coordinates=coordinates)\n",
    "    for name, coordinates in [\n",
    "        ('Altstadt', [47.99525, 7.84726]),\n",
    "        ('Stühlinger', [47.99888, 7.83774]),\n",
    "        ('Neuburg', [48.00021, 7.86084]),\n",
    "        ('Herdern', [48.00779, 7.86268]),\n",
    "        ('Brühl', [48.01684, 7.843]),\n",
    "    ]\n",
    "]\n",
    "freiburg_citizens = {\n",
    "    city.Citizen(name='Nikola', age=35,\n",
    "                 iri=\"http://example.org/entities#Nikola\"),\n",
    "    city.Citizen(name='Lena', age=70,\n",
    "                 iri=\"http://example.org/entities#Lena\"),\n",
    "}\n",
    "freiburg[city.hasPart] |= freiburg_neighborhoods\n",
    "freiburg[city.hasInhabitant] |= freiburg_citizens\n",
    "\n",
    "# Create a city called \"Paris\"\n",
    "paris = city.City(name=\"Paris\", coordinates=[48.85333, 2.34885])\n",
    "paris_neighborhoods = {\n",
    "    city.Neighborhood(name=name, coordinates=coordinates)\n",
    "    for name, coordinates in [\n",
    "        ('Louvre', [48.86466, 2.33487]),\n",
    "        ('Bourse', [48.86864, 2.34146]),\n",
    "        ('Temple', [48.86101, 2.36037]),\n",
    "        ('Hôtel-de-Ville', [48.85447, 2.35902]),\n",
    "        ('Panthéon', [48.84466, 2.3471]),\n",
    "    ]\n",
    "}\n",
    "paris_citizens = {\n",
    "    city.Citizen(name='François', age=32)\n",
    "}\n",
    "paris[city.hasPart] |= paris_neighborhoods\n",
    "paris[city.hasInhabitant] = paris_citizens"
   ]
  },
  {
   "cell_type": "code",
   "execution_count": 26,
   "id": "245f864d",
   "metadata": {},
   "outputs": [
    {
     "ename": "RuntimeError",
     "evalue": "Two or more python classes (<class 'simphony_osp.ontology.attribute.OntologyAttribute'>, <class 'simphony_osp.ontology.relationship.OntologyRelationship'>) could be spawned from http://www.w3.org/ns/dcat#keyword.",
     "output_type": "error",
     "traceback": [
      "\u001b[0;31m---------------------------------------------------------------------------\u001b[0m",
      "\u001b[0;31mRuntimeError\u001b[0m                              Traceback (most recent call last)",
      "Cell \u001b[0;32mIn[26], line 1\u001b[0m\n\u001b[0;32m----> 1\u001b[0m \u001b[43msemantic2dot\u001b[49m\u001b[43m(\u001b[49m\u001b[43mfreiburg\u001b[49m\u001b[43m,\u001b[49m\u001b[43m \u001b[49m\u001b[38;5;241;43m*\u001b[39;49m\u001b[43mfreiburg_neighborhoods\u001b[49m\u001b[43m,\u001b[49m\u001b[43m \u001b[49m\u001b[38;5;241;43m*\u001b[39;49m\u001b[43mfreiburg_citizens\u001b[49m\u001b[43m,\u001b[49m\n\u001b[1;32m      2\u001b[0m \u001b[43m             \u001b[49m\u001b[43mparis\u001b[49m\u001b[43m,\u001b[49m\u001b[43m \u001b[49m\u001b[38;5;241;43m*\u001b[39;49m\u001b[43mparis_neighborhoods\u001b[49m\u001b[43m,\u001b[49m\u001b[43m \u001b[49m\u001b[38;5;241;43m*\u001b[39;49m\u001b[43mparis_citizens\u001b[49m\u001b[43m)\u001b[49m\n",
      "File \u001b[0;32m~/dev/simphony_4_git/simphony-osp/simphony_osp/tools/semantic2dot.py:556\u001b[0m, in \u001b[0;36msemantic2dot\u001b[0;34m(rel, *elements)\u001b[0m\n\u001b[1;32m    524\u001b[0m \u001b[38;5;28;01mdef\u001b[39;00m \u001b[38;5;21msemantic2dot\u001b[39m(\n\u001b[1;32m    525\u001b[0m     \u001b[38;5;241m*\u001b[39melements: Union[\n\u001b[1;32m    526\u001b[0m         OntologyIndividual,\n\u001b[0;32m   (...)\u001b[0m\n\u001b[1;32m    532\u001b[0m     ] \u001b[38;5;241m=\u001b[39m \u001b[38;5;28;01mNone\u001b[39;00m,\n\u001b[1;32m    533\u001b[0m ) \u001b[38;5;241m-\u001b[39m\u001b[38;5;241m>\u001b[39m Semantic2Dot:\n\u001b[1;32m    534\u001b[0m \u001b[38;5;250m    \u001b[39m\u001b[38;5;124;03m\"\"\"Utility for plotting ontology entities.\u001b[39;00m\n\u001b[1;32m    535\u001b[0m \n\u001b[1;32m    536\u001b[0m \u001b[38;5;124;03m    Note: If you are reading the SimPhoNy documentation API Reference, it\u001b[39;00m\n\u001b[0;32m   (...)\u001b[0m\n\u001b[1;32m    554\u001b[0m \u001b[38;5;124;03m            `simphony_osp.tools.search` to additionally plot such individuals.\u001b[39;00m\n\u001b[1;32m    555\u001b[0m \u001b[38;5;124;03m    \"\"\"\u001b[39;00m\n\u001b[0;32m--> 556\u001b[0m     \u001b[38;5;28;01mreturn\u001b[39;00m \u001b[43mSemantic2Dot\u001b[49m\u001b[43m(\u001b[49m\u001b[38;5;241;43m*\u001b[39;49m\u001b[43melements\u001b[49m\u001b[43m,\u001b[49m\u001b[43m \u001b[49m\u001b[43mrel\u001b[49m\u001b[38;5;241;43m=\u001b[39;49m\u001b[43mrel\u001b[49m\u001b[43m)\u001b[49m\n",
      "File \u001b[0;32m~/dev/simphony_4_git/simphony-osp/simphony_osp/tools/semantic2dot.py:109\u001b[0m, in \u001b[0;36mSemantic2Dot.__init__\u001b[0;34m(self, rel, *elements)\u001b[0m\n\u001b[1;32m     85\u001b[0m \u001b[38;5;28mself\u001b[39m\u001b[38;5;241m.\u001b[39m_requested \u001b[38;5;241m=\u001b[39m \u001b[38;5;28mfrozenset\u001b[39m(\n\u001b[1;32m     86\u001b[0m     {\n\u001b[1;32m     87\u001b[0m         part\n\u001b[0;32m   (...)\u001b[0m\n\u001b[1;32m    105\u001b[0m     }\n\u001b[1;32m    106\u001b[0m )\n\u001b[1;32m    108\u001b[0m \u001b[38;5;28mself\u001b[39m\u001b[38;5;241m.\u001b[39m_graph \u001b[38;5;241m=\u001b[39m Digraph(\u001b[38;5;28mformat\u001b[39m\u001b[38;5;241m=\u001b[39m\u001b[38;5;124m\"\u001b[39m\u001b[38;5;124mpng\u001b[39m\u001b[38;5;124m\"\u001b[39m, name\u001b[38;5;241m=\u001b[39m\u001b[38;5;124m\"\u001b[39m\u001b[38;5;124mSimPhoNy semantic2dot\u001b[39m\u001b[38;5;124m\"\u001b[39m)\n\u001b[0;32m--> 109\u001b[0m \u001b[38;5;28;43mself\u001b[39;49m\u001b[38;5;241;43m.\u001b[39;49m\u001b[43m_draw_all\u001b[49m\u001b[43m(\u001b[49m\u001b[43m)\u001b[49m\n",
      "File \u001b[0;32m~/dev/simphony_4_git/simphony-osp/simphony_osp/tools/semantic2dot.py:195\u001b[0m, in \u001b[0;36mSemantic2Dot._draw_all\u001b[0;34m(self)\u001b[0m\n\u001b[1;32m    190\u001b[0m         complementary_nodes \u001b[38;5;241m|\u001b[39m\u001b[38;5;241m=\u001b[39m superclasses\n\u001b[1;32m    191\u001b[0m         edges[\u001b[38;5;124m\"\u001b[39m\u001b[38;5;124mcomplementary_superclasses\u001b[39m\u001b[38;5;124m\"\u001b[39m] \u001b[38;5;241m|\u001b[39m\u001b[38;5;241m=\u001b[39m {\n\u001b[1;32m    192\u001b[0m             (node, superclass) \u001b[38;5;28;01mfor\u001b[39;00m superclass \u001b[38;5;129;01min\u001b[39;00m superclasses\n\u001b[1;32m    193\u001b[0m         }\n\u001b[0;32m--> 195\u001b[0m     \u001b[38;5;28;43mself\u001b[39;49m\u001b[38;5;241;43m.\u001b[39;49m\u001b[43m_draw_node\u001b[49m\u001b[43m(\u001b[49m\u001b[43mnode\u001b[49m\u001b[43m,\u001b[49m\u001b[43m \u001b[49m\u001b[43mcomplementary\u001b[49m\u001b[38;5;241;43m=\u001b[39;49m\u001b[38;5;28;43;01mFalse\u001b[39;49;00m\u001b[43m)\u001b[49m\n\u001b[1;32m    197\u001b[0m complementary_nodes \u001b[38;5;241m=\u001b[39m complementary_nodes \u001b[38;5;241m-\u001b[39m nodes\n\u001b[1;32m    199\u001b[0m \u001b[38;5;66;03m# draw complementary nodes\u001b[39;00m\n",
      "File \u001b[0;32m~/dev/simphony_4_git/simphony-osp/simphony_osp/tools/semantic2dot.py:293\u001b[0m, in \u001b[0;36mSemantic2Dot._draw_node\u001b[0;34m(self, entity, complementary)\u001b[0m\n\u001b[1;32m    281\u001b[0m \u001b[38;5;250m\u001b[39m\u001b[38;5;124;03m\"\"\"Choose the method to draw an ontology entity and call it.\u001b[39;00m\n\u001b[1;32m    282\u001b[0m \n\u001b[1;32m    283\u001b[0m \u001b[38;5;124;03mSelects the correct method to draw an ontology entity according to\u001b[39;00m\n\u001b[0;32m   (...)\u001b[0m\n\u001b[1;32m    290\u001b[0m \u001b[38;5;124;03m    TypeError: Unsupported entity type.\u001b[39;00m\n\u001b[1;32m    291\u001b[0m \u001b[38;5;124;03m\"\"\"\u001b[39;00m\n\u001b[1;32m    292\u001b[0m \u001b[38;5;28;01mif\u001b[39;00m \u001b[38;5;28misinstance\u001b[39m(entity, OntologyIndividual):\n\u001b[0;32m--> 293\u001b[0m     \u001b[38;5;28;43mself\u001b[39;49m\u001b[38;5;241;43m.\u001b[39;49m\u001b[43m_draw_node_individual\u001b[49m\u001b[43m(\u001b[49m\u001b[43mentity\u001b[49m\u001b[43m,\u001b[49m\u001b[43m \u001b[49m\u001b[43mcomplementary\u001b[49m\u001b[38;5;241;43m=\u001b[39;49m\u001b[43mcomplementary\u001b[49m\u001b[43m)\u001b[49m\n\u001b[1;32m    294\u001b[0m \u001b[38;5;28;01melif\u001b[39;00m \u001b[38;5;28misinstance\u001b[39m(entity, OntologyRelationship):\n\u001b[1;32m    295\u001b[0m     \u001b[38;5;28mself\u001b[39m\u001b[38;5;241m.\u001b[39m_draw_node_relationship(entity, complementary\u001b[38;5;241m=\u001b[39mcomplementary)\n",
      "File \u001b[0;32m~/dev/simphony_4_git/simphony-osp/simphony_osp/tools/semantic2dot.py:316\u001b[0m, in \u001b[0;36mSemantic2Dot._draw_node_individual\u001b[0;34m(self, individual, complementary)\u001b[0m\n\u001b[1;32m    303\u001b[0m \u001b[38;5;28;01mdef\u001b[39;00m \u001b[38;5;21m_draw_node_individual\u001b[39m(\n\u001b[1;32m    304\u001b[0m     \u001b[38;5;28mself\u001b[39m,\n\u001b[1;32m    305\u001b[0m     individual: OntologyIndividual,\n\u001b[1;32m    306\u001b[0m     complementary: \u001b[38;5;28mbool\u001b[39m \u001b[38;5;241m=\u001b[39m \u001b[38;5;28;01mFalse\u001b[39;00m,\n\u001b[1;32m    307\u001b[0m ) \u001b[38;5;241m-\u001b[39m\u001b[38;5;241m>\u001b[39m \u001b[38;5;28;01mNone\u001b[39;00m:\n\u001b[1;32m    308\u001b[0m \u001b[38;5;250m    \u001b[39m\u001b[38;5;124;03m\"\"\"Add an ontology individual as a node to the graph.\u001b[39;00m\n\u001b[1;32m    309\u001b[0m \n\u001b[1;32m    310\u001b[0m \u001b[38;5;124;03m    Args:\u001b[39;00m\n\u001b[1;32m    311\u001b[0m \u001b[38;5;124;03m        individual: Ontology individual to draw.\u001b[39;00m\n\u001b[1;32m    312\u001b[0m \u001b[38;5;124;03m        complementary: Whether the drawn entity is complementary or not.\u001b[39;00m\n\u001b[1;32m    313\u001b[0m \u001b[38;5;124;03m    \"\"\"\u001b[39;00m\n\u001b[1;32m    314\u001b[0m     attributes \u001b[38;5;241m=\u001b[39m \u001b[38;5;28mself\u001b[39m\u001b[38;5;241m.\u001b[39m_attribute\u001b[38;5;241m.\u001b[39mformat(\n\u001b[1;32m    315\u001b[0m         \u001b[38;5;124m\"\u001b[39m\u001b[38;5;124mclasses\u001b[39m\u001b[38;5;124m\"\u001b[39m,\n\u001b[0;32m--> 316\u001b[0m         \u001b[38;5;124;43m\"\u001b[39;49m\u001b[38;5;124;43m,\u001b[39;49m\u001b[38;5;124;43m\"\u001b[39;49m\u001b[38;5;241;43m.\u001b[39;49m\u001b[43mjoin\u001b[49m\u001b[43m(\u001b[49m\n\u001b[1;32m    317\u001b[0m \u001b[43m            \u001b[49m\u001b[38;5;28;43mstr\u001b[39;49m\u001b[43m(\u001b[49m\u001b[43mx\u001b[49m\u001b[43m)\u001b[49m\u001b[43m \u001b[49m\u001b[38;5;241;43m+\u001b[39;49m\u001b[43m \u001b[49m\u001b[43m(\u001b[49m\u001b[38;5;124;43mf\u001b[39;49m\u001b[38;5;124;43m\"\u001b[39;49m\u001b[38;5;124;43m (\u001b[39;49m\u001b[38;5;132;43;01m{\u001b[39;49;00m\u001b[43mx\u001b[49m\u001b[38;5;241;43m.\u001b[39;49m\u001b[43mnamespace\u001b[49m\u001b[38;5;241;43m.\u001b[39;49m\u001b[43mname\u001b[49m\u001b[38;5;132;43;01m}\u001b[39;49;00m\u001b[38;5;124;43m)\u001b[39;49m\u001b[38;5;124;43m\"\u001b[39;49m\u001b[43m \u001b[49m\u001b[38;5;28;43;01mif\u001b[39;49;00m\u001b[43m \u001b[49m\u001b[43mx\u001b[49m\u001b[38;5;241;43m.\u001b[39;49m\u001b[43mnamespace\u001b[49m\u001b[43m \u001b[49m\u001b[38;5;28;43;01melse\u001b[39;49;00m\u001b[43m \u001b[49m\u001b[38;5;124;43m\"\u001b[39;49m\u001b[38;5;124;43m\"\u001b[39;49m\u001b[43m)\u001b[49m\n\u001b[1;32m    318\u001b[0m \u001b[43m            \u001b[49m\u001b[38;5;28;43;01mfor\u001b[39;49;00m\u001b[43m \u001b[49m\u001b[43mx\u001b[49m\u001b[43m \u001b[49m\u001b[38;5;129;43;01min\u001b[39;49;00m\u001b[43m \u001b[49m\u001b[43mindividual\u001b[49m\u001b[38;5;241;43m.\u001b[39;49m\u001b[43mclasses\u001b[49m\n\u001b[1;32m    319\u001b[0m \u001b[43m        \u001b[49m\u001b[43m)\u001b[49m,\n\u001b[1;32m    320\u001b[0m     )\n\u001b[1;32m    322\u001b[0m     \u001b[38;5;28;01mfor\u001b[39;00m key, value \u001b[38;5;129;01min\u001b[39;00m individual\u001b[38;5;241m.\u001b[39mattributes\u001b[38;5;241m.\u001b[39mitems():\n\u001b[1;32m    323\u001b[0m         label \u001b[38;5;241m=\u001b[39m \u001b[38;5;28mself\u001b[39m\u001b[38;5;241m.\u001b[39m_get_element_label(key)\n",
      "File \u001b[0;32m~/dev/simphony_4_git/simphony-osp/simphony_osp/tools/semantic2dot.py:317\u001b[0m, in \u001b[0;36m<genexpr>\u001b[0;34m(.0)\u001b[0m\n\u001b[1;32m    303\u001b[0m \u001b[38;5;28;01mdef\u001b[39;00m \u001b[38;5;21m_draw_node_individual\u001b[39m(\n\u001b[1;32m    304\u001b[0m     \u001b[38;5;28mself\u001b[39m,\n\u001b[1;32m    305\u001b[0m     individual: OntologyIndividual,\n\u001b[1;32m    306\u001b[0m     complementary: \u001b[38;5;28mbool\u001b[39m \u001b[38;5;241m=\u001b[39m \u001b[38;5;28;01mFalse\u001b[39;00m,\n\u001b[1;32m    307\u001b[0m ) \u001b[38;5;241m-\u001b[39m\u001b[38;5;241m>\u001b[39m \u001b[38;5;28;01mNone\u001b[39;00m:\n\u001b[1;32m    308\u001b[0m \u001b[38;5;250m    \u001b[39m\u001b[38;5;124;03m\"\"\"Add an ontology individual as a node to the graph.\u001b[39;00m\n\u001b[1;32m    309\u001b[0m \n\u001b[1;32m    310\u001b[0m \u001b[38;5;124;03m    Args:\u001b[39;00m\n\u001b[1;32m    311\u001b[0m \u001b[38;5;124;03m        individual: Ontology individual to draw.\u001b[39;00m\n\u001b[1;32m    312\u001b[0m \u001b[38;5;124;03m        complementary: Whether the drawn entity is complementary or not.\u001b[39;00m\n\u001b[1;32m    313\u001b[0m \u001b[38;5;124;03m    \"\"\"\u001b[39;00m\n\u001b[1;32m    314\u001b[0m     attributes \u001b[38;5;241m=\u001b[39m \u001b[38;5;28mself\u001b[39m\u001b[38;5;241m.\u001b[39m_attribute\u001b[38;5;241m.\u001b[39mformat(\n\u001b[1;32m    315\u001b[0m         \u001b[38;5;124m\"\u001b[39m\u001b[38;5;124mclasses\u001b[39m\u001b[38;5;124m\"\u001b[39m,\n\u001b[1;32m    316\u001b[0m         \u001b[38;5;124m\"\u001b[39m\u001b[38;5;124m,\u001b[39m\u001b[38;5;124m\"\u001b[39m\u001b[38;5;241m.\u001b[39mjoin(\n\u001b[0;32m--> 317\u001b[0m             \u001b[38;5;28mstr\u001b[39m(x) \u001b[38;5;241m+\u001b[39m (\u001b[38;5;124mf\u001b[39m\u001b[38;5;124m\"\u001b[39m\u001b[38;5;124m (\u001b[39m\u001b[38;5;132;01m{\u001b[39;00mx\u001b[38;5;241m.\u001b[39mnamespace\u001b[38;5;241m.\u001b[39mname\u001b[38;5;132;01m}\u001b[39;00m\u001b[38;5;124m)\u001b[39m\u001b[38;5;124m\"\u001b[39m \u001b[38;5;28;01mif\u001b[39;00m x\u001b[38;5;241m.\u001b[39mnamespace \u001b[38;5;28;01melse\u001b[39;00m \u001b[38;5;124m\"\u001b[39m\u001b[38;5;124m\"\u001b[39m)\n\u001b[1;32m    318\u001b[0m             \u001b[38;5;28;01mfor\u001b[39;00m x \u001b[38;5;129;01min\u001b[39;00m individual\u001b[38;5;241m.\u001b[39mclasses\n\u001b[1;32m    319\u001b[0m         ),\n\u001b[1;32m    320\u001b[0m     )\n\u001b[1;32m    322\u001b[0m     \u001b[38;5;28;01mfor\u001b[39;00m key, value \u001b[38;5;129;01min\u001b[39;00m individual\u001b[38;5;241m.\u001b[39mattributes\u001b[38;5;241m.\u001b[39mitems():\n\u001b[1;32m    323\u001b[0m         label \u001b[38;5;241m=\u001b[39m \u001b[38;5;28mself\u001b[39m\u001b[38;5;241m.\u001b[39m_get_element_label(key)\n",
      "File \u001b[0;32m~/dev/simphony_4_git/simphony-osp/simphony_osp/ontology/namespace.py:175\u001b[0m, in \u001b[0;36mOntologyNamespace.__len__\u001b[0;34m(self)\u001b[0m\n\u001b[1;32m    173\u001b[0m \u001b[38;5;28;01mdef\u001b[39;00m \u001b[38;5;21m__len__\u001b[39m(\u001b[38;5;28mself\u001b[39m) \u001b[38;5;241m-\u001b[39m\u001b[38;5;241m>\u001b[39m \u001b[38;5;28mint\u001b[39m:\n\u001b[1;32m    174\u001b[0m \u001b[38;5;250m    \u001b[39m\u001b[38;5;124;03m\"\"\"Return the number of entities in the namespace.\"\"\"\u001b[39;00m\n\u001b[0;32m--> 175\u001b[0m     \u001b[38;5;28;01mreturn\u001b[39;00m \u001b[38;5;28;43msum\u001b[39;49m\u001b[43m(\u001b[49m\u001b[38;5;241;43m1\u001b[39;49m\u001b[43m \u001b[49m\u001b[38;5;28;43;01mfor\u001b[39;49;00m\u001b[43m \u001b[49m\u001b[43m_\u001b[49m\u001b[43m \u001b[49m\u001b[38;5;129;43;01min\u001b[39;49;00m\u001b[43m \u001b[49m\u001b[38;5;28;43mself\u001b[39;49m\u001b[43m)\u001b[49m\n",
      "File \u001b[0;32m~/dev/simphony_4_git/simphony-osp/simphony_osp/ontology/namespace.py:175\u001b[0m, in \u001b[0;36m<genexpr>\u001b[0;34m(.0)\u001b[0m\n\u001b[1;32m    173\u001b[0m \u001b[38;5;28;01mdef\u001b[39;00m \u001b[38;5;21m__len__\u001b[39m(\u001b[38;5;28mself\u001b[39m) \u001b[38;5;241m-\u001b[39m\u001b[38;5;241m>\u001b[39m \u001b[38;5;28mint\u001b[39m:\n\u001b[1;32m    174\u001b[0m \u001b[38;5;250m    \u001b[39m\u001b[38;5;124;03m\"\"\"Return the number of entities in the namespace.\"\"\"\u001b[39;00m\n\u001b[0;32m--> 175\u001b[0m     \u001b[38;5;28;01mreturn\u001b[39;00m \u001b[38;5;28msum\u001b[39m(\u001b[38;5;241m1\u001b[39m \u001b[38;5;28;01mfor\u001b[39;00m _ \u001b[38;5;129;01min\u001b[39;00m \u001b[38;5;28mself\u001b[39m)\n",
      "File \u001b[0;32m~/dev/simphony_4_git/simphony-osp/simphony_osp/ontology/namespace.py:138\u001b[0m, in \u001b[0;36m<genexpr>\u001b[0;34m(.0)\u001b[0m\n\u001b[1;32m    136\u001b[0m \u001b[38;5;28;01mdef\u001b[39;00m \u001b[38;5;21m__iter__\u001b[39m(\u001b[38;5;28mself\u001b[39m) \u001b[38;5;241m-\u001b[39m\u001b[38;5;241m>\u001b[39m Iterator[OntologyEntity]:\n\u001b[1;32m    137\u001b[0m \u001b[38;5;250m    \u001b[39m\u001b[38;5;124;03m\"\"\"Iterate over the ontology entities in the namespace.\"\"\"\u001b[39;00m\n\u001b[0;32m--> 138\u001b[0m     \u001b[38;5;28;01mreturn\u001b[39;00m (entity \u001b[38;5;28;01mfor\u001b[39;00m entity \u001b[38;5;129;01min\u001b[39;00m \u001b[38;5;28miter\u001b[39m(\u001b[38;5;28mself\u001b[39m\u001b[38;5;241m.\u001b[39montology) \u001b[38;5;28;01mif\u001b[39;00m entity \u001b[38;5;129;01min\u001b[39;00m \u001b[38;5;28mself\u001b[39m)\n",
      "File \u001b[0;32m~/dev/simphony_4_git/simphony-osp/simphony_osp/session/session.py:543\u001b[0m, in \u001b[0;36m<genexpr>\u001b[0;34m(.0)\u001b[0m\n\u001b[1;32m    536\u001b[0m \u001b[38;5;250m\u001b[39m\u001b[38;5;124;03m\"\"\"Iterate over all the ontology entities in the session.\u001b[39;00m\n\u001b[1;32m    537\u001b[0m \n\u001b[1;32m    538\u001b[0m \u001b[38;5;124;03mBe careful when using this operation, as it can be computationally very\u001b[39;00m\n\u001b[1;32m    539\u001b[0m \u001b[38;5;124;03mexpensive.\u001b[39;00m\n\u001b[1;32m    540\u001b[0m \u001b[38;5;124;03m\"\"\"\u001b[39;00m\n\u001b[1;32m    541\u001b[0m \u001b[38;5;66;03m# Warning: entities can be repeated.\u001b[39;00m\n\u001b[1;32m    542\u001b[0m \u001b[38;5;28;01mreturn\u001b[39;00m (\n\u001b[0;32m--> 543\u001b[0m     \u001b[38;5;28;43mself\u001b[39;49m\u001b[38;5;241;43m.\u001b[39;49m\u001b[43mfrom_identifier\u001b[49m\u001b[43m(\u001b[49m\u001b[43midentifier\u001b[49m\u001b[43m)\u001b[49m\n\u001b[1;32m    544\u001b[0m     \u001b[38;5;28;01mfor\u001b[39;00m identifier \u001b[38;5;129;01min\u001b[39;00m \u001b[38;5;28mself\u001b[39m\u001b[38;5;241m.\u001b[39miter_identifiers()\n\u001b[1;32m    545\u001b[0m )\n",
      "File \u001b[0;32m~/dev/simphony_4_git/simphony-osp/simphony_osp/utils/cache.py:30\u001b[0m, in \u001b[0;36mlru_cache_weak.<locals>.decorator.<locals>.wrapper\u001b[0;34m(self, *args, **kwargs)\u001b[0m\n\u001b[1;32m     28\u001b[0m \u001b[38;5;129m@wraps\u001b[39m(func)\n\u001b[1;32m     29\u001b[0m \u001b[38;5;28;01mdef\u001b[39;00m \u001b[38;5;21mwrapper\u001b[39m(\u001b[38;5;28mself\u001b[39m, \u001b[38;5;241m*\u001b[39margs, \u001b[38;5;241m*\u001b[39m\u001b[38;5;241m*\u001b[39mkwargs):\n\u001b[0;32m---> 30\u001b[0m     \u001b[38;5;28;01mreturn\u001b[39;00m \u001b[43m_cached\u001b[49m\u001b[43m(\u001b[49m\u001b[43mref\u001b[49m\u001b[43m(\u001b[49m\u001b[38;5;28;43mself\u001b[39;49m\u001b[43m)\u001b[49m\u001b[43m,\u001b[49m\u001b[43m \u001b[49m\u001b[38;5;241;43m*\u001b[39;49m\u001b[43margs\u001b[49m\u001b[43m,\u001b[49m\u001b[43m \u001b[49m\u001b[38;5;241;43m*\u001b[39;49m\u001b[38;5;241;43m*\u001b[39;49m\u001b[43mkwargs\u001b[49m\u001b[43m)\u001b[49m\n",
      "File \u001b[0;32m~/dev/simphony_4_git/simphony-osp/simphony_osp/utils/cache.py:26\u001b[0m, in \u001b[0;36mlru_cache_weak.<locals>.decorator.<locals>._cached\u001b[0;34m(_self_weak_ref, *args, **kwargs)\u001b[0m\n\u001b[1;32m     24\u001b[0m \u001b[38;5;129m@lru_cache\u001b[39m(maxsize\u001b[38;5;241m=\u001b[39mmaxsize, typed\u001b[38;5;241m=\u001b[39mtyped)\n\u001b[1;32m     25\u001b[0m \u001b[38;5;28;01mdef\u001b[39;00m \u001b[38;5;21m_cached\u001b[39m(_self_weak_ref, \u001b[38;5;241m*\u001b[39margs, \u001b[38;5;241m*\u001b[39m\u001b[38;5;241m*\u001b[39mkwargs):\n\u001b[0;32m---> 26\u001b[0m     \u001b[38;5;28;01mreturn\u001b[39;00m \u001b[43mfunc\u001b[49m\u001b[43m(\u001b[49m\u001b[43m_self_weak_ref\u001b[49m\u001b[43m(\u001b[49m\u001b[43m)\u001b[49m\u001b[43m,\u001b[49m\u001b[43m \u001b[49m\u001b[38;5;241;43m*\u001b[39;49m\u001b[43margs\u001b[49m\u001b[43m,\u001b[49m\u001b[43m \u001b[49m\u001b[38;5;241;43m*\u001b[39;49m\u001b[38;5;241;43m*\u001b[39;49m\u001b[43mkwargs\u001b[49m\u001b[43m)\u001b[49m\n",
      "File \u001b[0;32m~/dev/simphony_4_git/simphony-osp/simphony_osp/session/session.py:1321\u001b[0m, in \u001b[0;36mSession.from_identifier\u001b[0;34m(self, identifier)\u001b[0m\n\u001b[1;32m   1319\u001b[0m \u001b[38;5;250m\u001b[39m\u001b[38;5;124;03m\"\"\"Finally return the single compatible class or raise an exception.\"\"\"\u001b[39;00m\n\u001b[1;32m   1320\u001b[0m \u001b[38;5;28;01mif\u001b[39;00m \u001b[38;5;28mlen\u001b[39m(compatible) \u001b[38;5;241m>\u001b[39m\u001b[38;5;241m=\u001b[39m \u001b[38;5;241m2\u001b[39m:\n\u001b[0;32m-> 1321\u001b[0m     \u001b[38;5;28;01mraise\u001b[39;00m \u001b[38;5;167;01mRuntimeError\u001b[39;00m(\n\u001b[1;32m   1322\u001b[0m         \u001b[38;5;124mf\u001b[39m\u001b[38;5;124m\"\u001b[39m\u001b[38;5;124mTwo or more python classes (\u001b[39m\u001b[38;5;124m\"\u001b[39m\n\u001b[1;32m   1323\u001b[0m         \u001b[38;5;124mf\u001b[39m\u001b[38;5;124m\"\u001b[39m\u001b[38;5;132;01m{\u001b[39;00m\u001b[38;5;124m'\u001b[39m\u001b[38;5;124m, \u001b[39m\u001b[38;5;124m'\u001b[39m\u001b[38;5;241m.\u001b[39mjoin(\u001b[38;5;28mmap\u001b[39m(\u001b[38;5;28mstr\u001b[39m,\u001b[38;5;250m \u001b[39mcompatible))\u001b[38;5;132;01m}\u001b[39;00m\u001b[38;5;124m) \u001b[39m\u001b[38;5;124m\"\u001b[39m\n\u001b[1;32m   1324\u001b[0m         \u001b[38;5;124mf\u001b[39m\u001b[38;5;124m\"\u001b[39m\u001b[38;5;124mcould be spawned from \u001b[39m\u001b[38;5;132;01m{\u001b[39;00midentifier\u001b[38;5;132;01m}\u001b[39;00m\u001b[38;5;124m.\u001b[39m\u001b[38;5;124m\"\u001b[39m\n\u001b[1;32m   1325\u001b[0m     )\n\u001b[1;32m   1326\u001b[0m \u001b[38;5;28;01mtry\u001b[39;00m:\n\u001b[1;32m   1327\u001b[0m     python_class \u001b[38;5;241m=\u001b[39m compatible\u001b[38;5;241m.\u001b[39mpop()\n",
      "\u001b[0;31mRuntimeError\u001b[0m: Two or more python classes (<class 'simphony_osp.ontology.attribute.OntologyAttribute'>, <class 'simphony_osp.ontology.relationship.OntologyRelationship'>) could be spawned from http://www.w3.org/ns/dcat#keyword."
     ]
    }
   ],
   "source": [
    "semantic2dot(freiburg, *freiburg_neighborhoods, *freiburg_citizens,\n",
    "             paris, *paris_neighborhoods, *paris_citizens)"
   ]
  },
  {
   "cell_type": "code",
   "execution_count": 27,
   "id": "9685c4fb",
   "metadata": {},
   "outputs": [
    {
     "ename": "RuntimeError",
     "evalue": "Two or more python classes (<class 'simphony_osp.ontology.relationship.OntologyRelationship'>, <class 'simphony_osp.ontology.attribute.OntologyAttribute'>) could be spawned from http://xmlns.com/foaf/0.1/homepage.",
     "output_type": "error",
     "traceback": [
      "\u001b[0;31m---------------------------------------------------------------------------\u001b[0m",
      "\u001b[0;31mRuntimeError\u001b[0m                              Traceback (most recent call last)",
      "Cell \u001b[0;32mIn[27], line 1\u001b[0m\n\u001b[0;32m----> 1\u001b[0m found \u001b[38;5;241m=\u001b[39m \u001b[38;5;28;43mlist\u001b[39;49m\u001b[43m(\u001b[49m\n\u001b[1;32m      2\u001b[0m \u001b[43m    \u001b[49m\u001b[43msearch\u001b[49m\u001b[38;5;241;43m.\u001b[39;49m\u001b[43mfind\u001b[49m\u001b[43m(\u001b[49m\u001b[43mfreiburg\u001b[49m\u001b[43m)\u001b[49m\n\u001b[1;32m      3\u001b[0m \u001b[43m)\u001b[49m\n",
      "File \u001b[0;32m~/dev/simphony_4_git/simphony-osp/simphony_osp/tools/search.py:126\u001b[0m, in \u001b[0;36m_iter\u001b[0;34m(criterion, root, rel, annotation, max_depth, current_depth, visited)\u001b[0m\n\u001b[1;32m    117\u001b[0m \u001b[38;5;28;01mif\u001b[39;00m current_depth \u001b[38;5;241m<\u001b[39m max_depth:\n\u001b[1;32m    118\u001b[0m     \u001b[38;5;66;03m# Originally, this function was using DFS (no `list`), but it is\u001b[39;00m\n\u001b[1;32m    119\u001b[0m     \u001b[38;5;66;03m# incompatible with the caching mechanism. See issue #820.\u001b[39;00m\n\u001b[1;32m    120\u001b[0m     \u001b[38;5;66;03m# TODO: Fix\u001b[39;00m\n\u001b[1;32m    121\u001b[0m     \u001b[38;5;66;03m#  [issue #820](https://github.com/simphony/simphony-osp/issues/820).\u001b[39;00m\n\u001b[1;32m    122\u001b[0m     children \u001b[38;5;241m=\u001b[39m chain(\n\u001b[1;32m    123\u001b[0m         \u001b[38;5;241m*\u001b[39m(root\u001b[38;5;241m.\u001b[39miter(rel\u001b[38;5;241m=\u001b[39mr) \u001b[38;5;28;01mfor\u001b[39;00m r \u001b[38;5;129;01min\u001b[39;00m rel),\n\u001b[1;32m    124\u001b[0m         \u001b[38;5;241m*\u001b[39m(root\u001b[38;5;241m.\u001b[39mannotations_iter(rel\u001b[38;5;241m=\u001b[39mr) \u001b[38;5;28;01mfor\u001b[39;00m r \u001b[38;5;129;01min\u001b[39;00m annotation)\n\u001b[1;32m    125\u001b[0m     )\n\u001b[0;32m--> 126\u001b[0m     children \u001b[38;5;241m=\u001b[39m \u001b[38;5;28;43mset\u001b[39;49m\u001b[43m(\u001b[49m\u001b[43mchild\u001b[49m\u001b[43m \u001b[49m\u001b[38;5;28;43;01mfor\u001b[39;49;00m\u001b[43m \u001b[49m\u001b[43mchild\u001b[49m\u001b[43m \u001b[49m\u001b[38;5;129;43;01min\u001b[39;49;00m\u001b[43m \u001b[49m\u001b[43mchildren\u001b[49m\u001b[43m \u001b[49m\u001b[38;5;28;43;01mif\u001b[39;49;00m\u001b[43m \u001b[49m\u001b[43mchild\u001b[49m\u001b[38;5;241;43m.\u001b[39;49m\u001b[43muid\u001b[49m\u001b[43m \u001b[49m\u001b[38;5;129;43;01mnot\u001b[39;49;00m\u001b[43m \u001b[49m\u001b[38;5;129;43;01min\u001b[39;49;00m\u001b[43m \u001b[49m\u001b[43mvisited\u001b[49m\u001b[43m)\u001b[49m\n\u001b[1;32m    127\u001b[0m     \u001b[38;5;28;01myield from\u001b[39;00m (child \u001b[38;5;28;01mfor\u001b[39;00m child \u001b[38;5;129;01min\u001b[39;00m children \u001b[38;5;28;01mif\u001b[39;00m criterion(child))\n\u001b[1;32m    128\u001b[0m     \u001b[38;5;28;01mfor\u001b[39;00m sub \u001b[38;5;129;01min\u001b[39;00m children:\n",
      "File \u001b[0;32m~/dev/simphony_4_git/simphony-osp/simphony_osp/tools/search.py:126\u001b[0m, in \u001b[0;36m<genexpr>\u001b[0;34m(.0)\u001b[0m\n\u001b[1;32m    117\u001b[0m \u001b[38;5;28;01mif\u001b[39;00m current_depth \u001b[38;5;241m<\u001b[39m max_depth:\n\u001b[1;32m    118\u001b[0m     \u001b[38;5;66;03m# Originally, this function was using DFS (no `list`), but it is\u001b[39;00m\n\u001b[1;32m    119\u001b[0m     \u001b[38;5;66;03m# incompatible with the caching mechanism. See issue #820.\u001b[39;00m\n\u001b[1;32m    120\u001b[0m     \u001b[38;5;66;03m# TODO: Fix\u001b[39;00m\n\u001b[1;32m    121\u001b[0m     \u001b[38;5;66;03m#  [issue #820](https://github.com/simphony/simphony-osp/issues/820).\u001b[39;00m\n\u001b[1;32m    122\u001b[0m     children \u001b[38;5;241m=\u001b[39m chain(\n\u001b[1;32m    123\u001b[0m         \u001b[38;5;241m*\u001b[39m(root\u001b[38;5;241m.\u001b[39miter(rel\u001b[38;5;241m=\u001b[39mr) \u001b[38;5;28;01mfor\u001b[39;00m r \u001b[38;5;129;01min\u001b[39;00m rel),\n\u001b[1;32m    124\u001b[0m         \u001b[38;5;241m*\u001b[39m(root\u001b[38;5;241m.\u001b[39mannotations_iter(rel\u001b[38;5;241m=\u001b[39mr) \u001b[38;5;28;01mfor\u001b[39;00m r \u001b[38;5;129;01min\u001b[39;00m annotation)\n\u001b[1;32m    125\u001b[0m     )\n\u001b[0;32m--> 126\u001b[0m     children \u001b[38;5;241m=\u001b[39m \u001b[38;5;28mset\u001b[39m(child \u001b[38;5;28;01mfor\u001b[39;00m child \u001b[38;5;129;01min\u001b[39;00m children \u001b[38;5;28;01mif\u001b[39;00m child\u001b[38;5;241m.\u001b[39muid \u001b[38;5;129;01mnot\u001b[39;00m \u001b[38;5;129;01min\u001b[39;00m visited)\n\u001b[1;32m    127\u001b[0m     \u001b[38;5;28;01myield from\u001b[39;00m (child \u001b[38;5;28;01mfor\u001b[39;00m child \u001b[38;5;129;01min\u001b[39;00m children \u001b[38;5;28;01mif\u001b[39;00m criterion(child))\n\u001b[1;32m    128\u001b[0m     \u001b[38;5;28;01mfor\u001b[39;00m sub \u001b[38;5;129;01min\u001b[39;00m children:\n",
      "File \u001b[0;32m~/dev/simphony_4_git/simphony-osp/simphony_osp/ontology/individual.py:348\u001b[0m, in \u001b[0;36mRelationshipSet.__iter__\u001b[0;34m(self)\u001b[0m\n\u001b[1;32m    346\u001b[0m graph \u001b[38;5;241m=\u001b[39m \u001b[38;5;28mself\u001b[39m\u001b[38;5;241m.\u001b[39m_individual\u001b[38;5;241m.\u001b[39msession\u001b[38;5;241m.\u001b[39mgraph\n\u001b[1;32m    347\u001b[0m ontology \u001b[38;5;241m=\u001b[39m \u001b[38;5;28mself\u001b[39m\u001b[38;5;241m.\u001b[39m_individual\u001b[38;5;241m.\u001b[39msession\u001b[38;5;241m.\u001b[39montology\n\u001b[0;32m--> 348\u001b[0m predicates \u001b[38;5;241m=\u001b[39m \u001b[38;5;28;43mself\u001b[39;49m\u001b[38;5;241;43m.\u001b[39;49m\u001b[43m_predicates\u001b[49m\n\u001b[1;32m    350\u001b[0m \u001b[38;5;66;03m# Get the predicate IRIs to be considered.\u001b[39;00m\n\u001b[1;32m    351\u001b[0m predicates_direct \u001b[38;5;241m=\u001b[39m {predicate\u001b[38;5;241m.\u001b[39midentifier \u001b[38;5;28;01mfor\u001b[39;00m predicate \u001b[38;5;129;01min\u001b[39;00m predicates}\n",
      "File \u001b[0;32m~/dev/simphony_4_git/simphony-osp/simphony_osp/ontology/individual.py:191\u001b[0m, in \u001b[0;36mObjectSet._predicates\u001b[0;34m(self)\u001b[0m\n\u001b[1;32m    174\u001b[0m \u001b[38;5;129m@property\u001b[39m\n\u001b[1;32m    175\u001b[0m \u001b[38;5;28;01mdef\u001b[39;00m \u001b[38;5;21m_predicates\u001b[39m(\n\u001b[1;32m    176\u001b[0m     \u001b[38;5;28mself\u001b[39m,\n\u001b[0;32m   (...)\u001b[0m\n\u001b[1;32m    182\u001b[0m     ]\n\u001b[1;32m    183\u001b[0m ]:\n\u001b[1;32m    184\u001b[0m \u001b[38;5;250m    \u001b[39m\u001b[38;5;124;03m\"\"\"All the predicates to which this instance refers to.\u001b[39;00m\n\u001b[1;32m    185\u001b[0m \n\u001b[1;32m    186\u001b[0m \u001b[38;5;124;03m    Returns:\u001b[39;00m\n\u001b[1;32m    187\u001b[0m \u001b[38;5;124;03m        Such predicates, or `None` if no main predicate is\u001b[39;00m\n\u001b[1;32m    188\u001b[0m \u001b[38;5;124;03m        associated with this `ObjectSet`.\u001b[39;00m\n\u001b[1;32m    189\u001b[0m \u001b[38;5;124;03m    \"\"\"\u001b[39;00m\n\u001b[1;32m    190\u001b[0m     \u001b[38;5;28;01mreturn\u001b[39;00m \u001b[38;5;28mset\u001b[39m(\n\u001b[0;32m--> 191\u001b[0m         \u001b[38;5;28;43mself\u001b[39;49m\u001b[38;5;241;43m.\u001b[39;49m\u001b[43m_predicate\u001b[49m\u001b[38;5;241;43m.\u001b[39;49m\u001b[43msubclasses\u001b[49m \u001b[38;5;28;01mif\u001b[39;00m \u001b[38;5;28mself\u001b[39m\u001b[38;5;241m.\u001b[39m_predicate \u001b[38;5;129;01mis\u001b[39;00m \u001b[38;5;129;01mnot\u001b[39;00m \u001b[38;5;28;01mNone\u001b[39;00m \u001b[38;5;28;01melse\u001b[39;00m \u001b[38;5;28;01mNone\u001b[39;00m\n\u001b[1;32m    192\u001b[0m     )\n",
      "File \u001b[0;32m~/dev/simphony_4_git/simphony-osp/simphony_osp/utils/cache.py:137\u001b[0m, in \u001b[0;36mlru_cache_timestamp.<locals>.decorator.<locals>.wrapper\u001b[0;34m(self, *args, **kwargs)\u001b[0m\n\u001b[1;32m    134\u001b[0m     cached_function\u001b[38;5;241m.\u001b[39mcache_clear()\n\u001b[1;32m    135\u001b[0m     holder[\u001b[38;5;28mself\u001b[39m] \u001b[38;5;241m=\u001b[39m datetime\u001b[38;5;241m.\u001b[39mnow(), cached_function\n\u001b[0;32m--> 137\u001b[0m \u001b[38;5;28;01mreturn\u001b[39;00m \u001b[43mcached_function\u001b[49m\u001b[43m(\u001b[49m\u001b[38;5;28;43mself\u001b[39;49m\u001b[43m,\u001b[49m\u001b[43m \u001b[49m\u001b[38;5;241;43m*\u001b[39;49m\u001b[43margs\u001b[49m\u001b[43m,\u001b[49m\u001b[43m \u001b[49m\u001b[38;5;241;43m*\u001b[39;49m\u001b[38;5;241;43m*\u001b[39;49m\u001b[43mkwargs\u001b[49m\u001b[43m)\u001b[49m\n",
      "File \u001b[0;32m~/dev/simphony_4_git/simphony-osp/simphony_osp/utils/cache.py:30\u001b[0m, in \u001b[0;36mlru_cache_weak.<locals>.decorator.<locals>.wrapper\u001b[0;34m(self, *args, **kwargs)\u001b[0m\n\u001b[1;32m     28\u001b[0m \u001b[38;5;129m@wraps\u001b[39m(func)\n\u001b[1;32m     29\u001b[0m \u001b[38;5;28;01mdef\u001b[39;00m \u001b[38;5;21mwrapper\u001b[39m(\u001b[38;5;28mself\u001b[39m, \u001b[38;5;241m*\u001b[39margs, \u001b[38;5;241m*\u001b[39m\u001b[38;5;241m*\u001b[39mkwargs):\n\u001b[0;32m---> 30\u001b[0m     \u001b[38;5;28;01mreturn\u001b[39;00m \u001b[43m_cached\u001b[49m\u001b[43m(\u001b[49m\u001b[43mref\u001b[49m\u001b[43m(\u001b[49m\u001b[38;5;28;43mself\u001b[39;49m\u001b[43m)\u001b[49m\u001b[43m,\u001b[49m\u001b[43m \u001b[49m\u001b[38;5;241;43m*\u001b[39;49m\u001b[43margs\u001b[49m\u001b[43m,\u001b[49m\u001b[43m \u001b[49m\u001b[38;5;241;43m*\u001b[39;49m\u001b[38;5;241;43m*\u001b[39;49m\u001b[43mkwargs\u001b[49m\u001b[43m)\u001b[49m\n",
      "File \u001b[0;32m~/dev/simphony_4_git/simphony-osp/simphony_osp/utils/cache.py:26\u001b[0m, in \u001b[0;36mlru_cache_weak.<locals>.decorator.<locals>._cached\u001b[0;34m(_self_weak_ref, *args, **kwargs)\u001b[0m\n\u001b[1;32m     24\u001b[0m \u001b[38;5;129m@lru_cache\u001b[39m(maxsize\u001b[38;5;241m=\u001b[39mmaxsize, typed\u001b[38;5;241m=\u001b[39mtyped)\n\u001b[1;32m     25\u001b[0m \u001b[38;5;28;01mdef\u001b[39;00m \u001b[38;5;21m_cached\u001b[39m(_self_weak_ref, \u001b[38;5;241m*\u001b[39margs, \u001b[38;5;241m*\u001b[39m\u001b[38;5;241m*\u001b[39mkwargs):\n\u001b[0;32m---> 26\u001b[0m     \u001b[38;5;28;01mreturn\u001b[39;00m \u001b[43mfunc\u001b[49m\u001b[43m(\u001b[49m\u001b[43m_self_weak_ref\u001b[49m\u001b[43m(\u001b[49m\u001b[43m)\u001b[49m\u001b[43m,\u001b[49m\u001b[43m \u001b[49m\u001b[38;5;241;43m*\u001b[39;49m\u001b[43margs\u001b[49m\u001b[43m,\u001b[49m\u001b[43m \u001b[49m\u001b[38;5;241;43m*\u001b[39;49m\u001b[38;5;241;43m*\u001b[39;49m\u001b[43mkwargs\u001b[49m\u001b[43m)\u001b[49m\n",
      "File \u001b[0;32m~/dev/simphony_4_git/simphony-osp/simphony_osp/utils/cache.py:110\u001b[0m, in \u001b[0;36mlru_cache_timestamp.<locals>.decorator.<locals>.wrapper.<locals>.cached_function\u001b[0;34m(self_function, *args_function, **kwargs_function)\u001b[0m\n\u001b[1;32m    106\u001b[0m \u001b[38;5;129m@lru_cache_weak\u001b[39m(maxsize\u001b[38;5;241m=\u001b[39mmaxsize, typed\u001b[38;5;241m=\u001b[39mtyped)\n\u001b[1;32m    107\u001b[0m \u001b[38;5;28;01mdef\u001b[39;00m \u001b[38;5;21mcached_function\u001b[39m(\n\u001b[1;32m    108\u001b[0m     self_function, \u001b[38;5;241m*\u001b[39margs_function, \u001b[38;5;241m*\u001b[39m\u001b[38;5;241m*\u001b[39mkwargs_function\n\u001b[1;32m    109\u001b[0m ):\n\u001b[0;32m--> 110\u001b[0m     \u001b[38;5;28;01mreturn\u001b[39;00m \u001b[43mfunc\u001b[49m\u001b[43m(\u001b[49m\n\u001b[1;32m    111\u001b[0m \u001b[43m        \u001b[49m\u001b[43mself_function\u001b[49m\u001b[43m,\u001b[49m\u001b[43m \u001b[49m\u001b[38;5;241;43m*\u001b[39;49m\u001b[43margs_function\u001b[49m\u001b[43m,\u001b[49m\u001b[43m \u001b[49m\u001b[38;5;241;43m*\u001b[39;49m\u001b[38;5;241;43m*\u001b[39;49m\u001b[43mkwargs_function\u001b[49m\n\u001b[1;32m    112\u001b[0m \u001b[43m    \u001b[49m\u001b[43m)\u001b[49m\n",
      "File \u001b[0;32m~/dev/simphony_4_git/simphony-osp/simphony_osp/ontology/entity.py:173\u001b[0m, in \u001b[0;36mOntologyEntity.subclasses\u001b[0;34m(self)\u001b[0m\n\u001b[1;32m    164\u001b[0m \u001b[38;5;129m@property\u001b[39m\n\u001b[1;32m    165\u001b[0m \u001b[38;5;129m@lru_cache_timestamp\u001b[39m(\u001b[38;5;28;01mlambda\u001b[39;00m \u001b[38;5;28mself\u001b[39m: \u001b[38;5;28mself\u001b[39m\u001b[38;5;241m.\u001b[39msession\u001b[38;5;241m.\u001b[39mentity_cache_timestamp)\n\u001b[1;32m    166\u001b[0m \u001b[38;5;28;01mdef\u001b[39;00m \u001b[38;5;21msubclasses\u001b[39m(\u001b[38;5;28mself\u001b[39m: ONTOLOGY_ENTITY) \u001b[38;5;241m-\u001b[39m\u001b[38;5;241m>\u001b[39m FrozenSet[ONTOLOGY_ENTITY]:\n\u001b[1;32m    167\u001b[0m \u001b[38;5;250m    \u001b[39m\u001b[38;5;124;03m\"\"\"Get the subclasses of the entity.\u001b[39;00m\n\u001b[1;32m    168\u001b[0m \n\u001b[1;32m    169\u001b[0m \u001b[38;5;124;03m    Returns:\u001b[39;00m\n\u001b[1;32m    170\u001b[0m \u001b[38;5;124;03m        The subclasses of the entity\u001b[39;00m\n\u001b[1;32m    171\u001b[0m \n\u001b[1;32m    172\u001b[0m \u001b[38;5;124;03m    \"\"\"\u001b[39;00m\n\u001b[0;32m--> 173\u001b[0m     \u001b[38;5;28;01mreturn\u001b[39;00m \u001b[38;5;28;43mfrozenset\u001b[39;49m\u001b[43m(\u001b[49m\u001b[38;5;28;43mself\u001b[39;49m\u001b[38;5;241;43m.\u001b[39;49m\u001b[43m_get_subclasses\u001b[49m\u001b[43m(\u001b[49m\u001b[43m)\u001b[49m\u001b[43m)\u001b[49m\n",
      "File \u001b[0;32m~/dev/simphony_4_git/simphony-osp/simphony_osp/ontology/relationship.py:116\u001b[0m, in \u001b[0;36mOntologyRelationship._get_subclasses\u001b[0;34m(self)\u001b[0m\n\u001b[1;32m    113\u001b[0m \u001b[38;5;28;01myield\u001b[39;00m \u001b[38;5;28mself\u001b[39m\n\u001b[1;32m    115\u001b[0m \u001b[38;5;28;01mif\u001b[39;00m \u001b[38;5;28mself\u001b[39m\u001b[38;5;241m.\u001b[39midentifier \u001b[38;5;241m==\u001b[39m OWL\u001b[38;5;241m.\u001b[39mtopObjectProperty:\n\u001b[0;32m--> 116\u001b[0m     \u001b[38;5;28;01myield from\u001b[39;00m (\n\u001b[1;32m    117\u001b[0m         \u001b[38;5;28mself\u001b[39m\u001b[38;5;241m.\u001b[39msession\u001b[38;5;241m.\u001b[39mfrom_identifier_typed(\n\u001b[1;32m    118\u001b[0m             s, typing\u001b[38;5;241m=\u001b[39mOntologyRelationship\n\u001b[1;32m    119\u001b[0m         )\n\u001b[1;32m    120\u001b[0m         \u001b[38;5;28;01mfor\u001b[39;00m s \u001b[38;5;129;01min\u001b[39;00m \u001b[38;5;28mself\u001b[39m\u001b[38;5;241m.\u001b[39msession\u001b[38;5;241m.\u001b[39mgraph\u001b[38;5;241m.\u001b[39msubjects(\n\u001b[1;32m    121\u001b[0m             RDF\u001b[38;5;241m.\u001b[39mtype, OWL\u001b[38;5;241m.\u001b[39mObjectProperty\n\u001b[1;32m    122\u001b[0m         )\n\u001b[1;32m    123\u001b[0m     )\n\u001b[1;32m    124\u001b[0m \u001b[38;5;28;01melse\u001b[39;00m:\n\u001b[1;32m    126\u001b[0m     \u001b[38;5;28;01mdef\u001b[39;00m \u001b[38;5;21mclosure\u001b[39m(node, graph):\n",
      "File \u001b[0;32m~/dev/simphony_4_git/simphony-osp/simphony_osp/ontology/relationship.py:117\u001b[0m, in \u001b[0;36m<genexpr>\u001b[0;34m(.0)\u001b[0m\n\u001b[1;32m    113\u001b[0m \u001b[38;5;28;01myield\u001b[39;00m \u001b[38;5;28mself\u001b[39m\n\u001b[1;32m    115\u001b[0m \u001b[38;5;28;01mif\u001b[39;00m \u001b[38;5;28mself\u001b[39m\u001b[38;5;241m.\u001b[39midentifier \u001b[38;5;241m==\u001b[39m OWL\u001b[38;5;241m.\u001b[39mtopObjectProperty:\n\u001b[1;32m    116\u001b[0m     \u001b[38;5;28;01myield from\u001b[39;00m (\n\u001b[0;32m--> 117\u001b[0m         \u001b[38;5;28;43mself\u001b[39;49m\u001b[38;5;241;43m.\u001b[39;49m\u001b[43msession\u001b[49m\u001b[38;5;241;43m.\u001b[39;49m\u001b[43mfrom_identifier_typed\u001b[49m\u001b[43m(\u001b[49m\n\u001b[1;32m    118\u001b[0m \u001b[43m            \u001b[49m\u001b[43ms\u001b[49m\u001b[43m,\u001b[49m\u001b[43m \u001b[49m\u001b[43mtyping\u001b[49m\u001b[38;5;241;43m=\u001b[39;49m\u001b[43mOntologyRelationship\u001b[49m\n\u001b[1;32m    119\u001b[0m \u001b[43m        \u001b[49m\u001b[43m)\u001b[49m\n\u001b[1;32m    120\u001b[0m         \u001b[38;5;28;01mfor\u001b[39;00m s \u001b[38;5;129;01min\u001b[39;00m \u001b[38;5;28mself\u001b[39m\u001b[38;5;241m.\u001b[39msession\u001b[38;5;241m.\u001b[39mgraph\u001b[38;5;241m.\u001b[39msubjects(\n\u001b[1;32m    121\u001b[0m             RDF\u001b[38;5;241m.\u001b[39mtype, OWL\u001b[38;5;241m.\u001b[39mObjectProperty\n\u001b[1;32m    122\u001b[0m         )\n\u001b[1;32m    123\u001b[0m     )\n\u001b[1;32m    124\u001b[0m \u001b[38;5;28;01melse\u001b[39;00m:\n\u001b[1;32m    126\u001b[0m     \u001b[38;5;28;01mdef\u001b[39;00m \u001b[38;5;21mclosure\u001b[39m(node, graph):\n",
      "File \u001b[0;32m~/dev/simphony_4_git/simphony-osp/simphony_osp/session/session.py:1353\u001b[0m, in \u001b[0;36mSession.from_identifier_typed\u001b[0;34m(self, identifier, typing)\u001b[0m\n\u001b[1;32m   1337\u001b[0m \u001b[38;5;28;01mdef\u001b[39;00m \u001b[38;5;21mfrom_identifier_typed\u001b[39m(\n\u001b[1;32m   1338\u001b[0m     \u001b[38;5;28mself\u001b[39m, identifier: Node, typing: Type[ENTITY]\n\u001b[1;32m   1339\u001b[0m ) \u001b[38;5;241m-\u001b[39m\u001b[38;5;241m>\u001b[39m ENTITY:\n\u001b[1;32m   1340\u001b[0m \u001b[38;5;250m    \u001b[39m\u001b[38;5;124;03m\"\"\"Get an ontology entity from its identifier, enforcing a type check.\u001b[39;00m\n\u001b[1;32m   1341\u001b[0m \n\u001b[1;32m   1342\u001b[0m \u001b[38;5;124;03m    Args:\u001b[39;00m\n\u001b[0;32m   (...)\u001b[0m\n\u001b[1;32m   1351\u001b[0m \u001b[38;5;124;03m        The OntologyEntity.\u001b[39;00m\n\u001b[1;32m   1352\u001b[0m \u001b[38;5;124;03m    \"\"\"\u001b[39;00m\n\u001b[0;32m-> 1353\u001b[0m     entity \u001b[38;5;241m=\u001b[39m \u001b[38;5;28;43mself\u001b[39;49m\u001b[38;5;241;43m.\u001b[39;49m\u001b[43mfrom_identifier\u001b[49m\u001b[43m(\u001b[49m\u001b[43midentifier\u001b[49m\u001b[43m)\u001b[49m\n\u001b[1;32m   1354\u001b[0m     \u001b[38;5;28;01mif\u001b[39;00m \u001b[38;5;129;01mnot\u001b[39;00m \u001b[38;5;28misinstance\u001b[39m(entity, typing):\n\u001b[1;32m   1355\u001b[0m         \u001b[38;5;28;01mraise\u001b[39;00m \u001b[38;5;167;01mTypeError\u001b[39;00m(\u001b[38;5;124mf\u001b[39m\u001b[38;5;124m\"\u001b[39m\u001b[38;5;132;01m{\u001b[39;00midentifier\u001b[38;5;132;01m}\u001b[39;00m\u001b[38;5;124m is not of class \u001b[39m\u001b[38;5;132;01m{\u001b[39;00mtyping\u001b[38;5;132;01m}\u001b[39;00m\u001b[38;5;124m.\u001b[39m\u001b[38;5;124m\"\u001b[39m)\n",
      "File \u001b[0;32m~/dev/simphony_4_git/simphony-osp/simphony_osp/utils/cache.py:30\u001b[0m, in \u001b[0;36mlru_cache_weak.<locals>.decorator.<locals>.wrapper\u001b[0;34m(self, *args, **kwargs)\u001b[0m\n\u001b[1;32m     28\u001b[0m \u001b[38;5;129m@wraps\u001b[39m(func)\n\u001b[1;32m     29\u001b[0m \u001b[38;5;28;01mdef\u001b[39;00m \u001b[38;5;21mwrapper\u001b[39m(\u001b[38;5;28mself\u001b[39m, \u001b[38;5;241m*\u001b[39margs, \u001b[38;5;241m*\u001b[39m\u001b[38;5;241m*\u001b[39mkwargs):\n\u001b[0;32m---> 30\u001b[0m     \u001b[38;5;28;01mreturn\u001b[39;00m \u001b[43m_cached\u001b[49m\u001b[43m(\u001b[49m\u001b[43mref\u001b[49m\u001b[43m(\u001b[49m\u001b[38;5;28;43mself\u001b[39;49m\u001b[43m)\u001b[49m\u001b[43m,\u001b[49m\u001b[43m \u001b[49m\u001b[38;5;241;43m*\u001b[39;49m\u001b[43margs\u001b[49m\u001b[43m,\u001b[49m\u001b[43m \u001b[49m\u001b[38;5;241;43m*\u001b[39;49m\u001b[38;5;241;43m*\u001b[39;49m\u001b[43mkwargs\u001b[49m\u001b[43m)\u001b[49m\n",
      "File \u001b[0;32m~/dev/simphony_4_git/simphony-osp/simphony_osp/utils/cache.py:26\u001b[0m, in \u001b[0;36mlru_cache_weak.<locals>.decorator.<locals>._cached\u001b[0;34m(_self_weak_ref, *args, **kwargs)\u001b[0m\n\u001b[1;32m     24\u001b[0m \u001b[38;5;129m@lru_cache\u001b[39m(maxsize\u001b[38;5;241m=\u001b[39mmaxsize, typed\u001b[38;5;241m=\u001b[39mtyped)\n\u001b[1;32m     25\u001b[0m \u001b[38;5;28;01mdef\u001b[39;00m \u001b[38;5;21m_cached\u001b[39m(_self_weak_ref, \u001b[38;5;241m*\u001b[39margs, \u001b[38;5;241m*\u001b[39m\u001b[38;5;241m*\u001b[39mkwargs):\n\u001b[0;32m---> 26\u001b[0m     \u001b[38;5;28;01mreturn\u001b[39;00m \u001b[43mfunc\u001b[49m\u001b[43m(\u001b[49m\u001b[43m_self_weak_ref\u001b[49m\u001b[43m(\u001b[49m\u001b[43m)\u001b[49m\u001b[43m,\u001b[49m\u001b[43m \u001b[49m\u001b[38;5;241;43m*\u001b[39;49m\u001b[43margs\u001b[49m\u001b[43m,\u001b[49m\u001b[43m \u001b[49m\u001b[38;5;241;43m*\u001b[39;49m\u001b[38;5;241;43m*\u001b[39;49m\u001b[43mkwargs\u001b[49m\u001b[43m)\u001b[49m\n",
      "File \u001b[0;32m~/dev/simphony_4_git/simphony-osp/simphony_osp/session/session.py:1321\u001b[0m, in \u001b[0;36mSession.from_identifier\u001b[0;34m(self, identifier)\u001b[0m\n\u001b[1;32m   1319\u001b[0m \u001b[38;5;250m\u001b[39m\u001b[38;5;124;03m\"\"\"Finally return the single compatible class or raise an exception.\"\"\"\u001b[39;00m\n\u001b[1;32m   1320\u001b[0m \u001b[38;5;28;01mif\u001b[39;00m \u001b[38;5;28mlen\u001b[39m(compatible) \u001b[38;5;241m>\u001b[39m\u001b[38;5;241m=\u001b[39m \u001b[38;5;241m2\u001b[39m:\n\u001b[0;32m-> 1321\u001b[0m     \u001b[38;5;28;01mraise\u001b[39;00m \u001b[38;5;167;01mRuntimeError\u001b[39;00m(\n\u001b[1;32m   1322\u001b[0m         \u001b[38;5;124mf\u001b[39m\u001b[38;5;124m\"\u001b[39m\u001b[38;5;124mTwo or more python classes (\u001b[39m\u001b[38;5;124m\"\u001b[39m\n\u001b[1;32m   1323\u001b[0m         \u001b[38;5;124mf\u001b[39m\u001b[38;5;124m\"\u001b[39m\u001b[38;5;132;01m{\u001b[39;00m\u001b[38;5;124m'\u001b[39m\u001b[38;5;124m, \u001b[39m\u001b[38;5;124m'\u001b[39m\u001b[38;5;241m.\u001b[39mjoin(\u001b[38;5;28mmap\u001b[39m(\u001b[38;5;28mstr\u001b[39m,\u001b[38;5;250m \u001b[39mcompatible))\u001b[38;5;132;01m}\u001b[39;00m\u001b[38;5;124m) \u001b[39m\u001b[38;5;124m\"\u001b[39m\n\u001b[1;32m   1324\u001b[0m         \u001b[38;5;124mf\u001b[39m\u001b[38;5;124m\"\u001b[39m\u001b[38;5;124mcould be spawned from \u001b[39m\u001b[38;5;132;01m{\u001b[39;00midentifier\u001b[38;5;132;01m}\u001b[39;00m\u001b[38;5;124m.\u001b[39m\u001b[38;5;124m\"\u001b[39m\n\u001b[1;32m   1325\u001b[0m     )\n\u001b[1;32m   1326\u001b[0m \u001b[38;5;28;01mtry\u001b[39;00m:\n\u001b[1;32m   1327\u001b[0m     python_class \u001b[38;5;241m=\u001b[39m compatible\u001b[38;5;241m.\u001b[39mpop()\n",
      "\u001b[0;31mRuntimeError\u001b[0m: Two or more python classes (<class 'simphony_osp.ontology.relationship.OntologyRelationship'>, <class 'simphony_osp.ontology.attribute.OntologyAttribute'>) could be spawned from http://xmlns.com/foaf/0.1/homepage."
     ]
    }
   ],
   "source": [
    "\n",
    "found = list(\n",
    "    search.find(freiburg)\n",
    ")"
   ]
  },
  {
   "cell_type": "code",
   "execution_count": 28,
   "id": "c5c340d6",
   "metadata": {},
   "outputs": [
    {
     "ename": "NameError",
     "evalue": "name 'found' is not defined",
     "output_type": "error",
     "traceback": [
      "\u001b[0;31m---------------------------------------------------------------------------\u001b[0m",
      "\u001b[0;31mNameError\u001b[0m                                 Traceback (most recent call last)",
      "Cell \u001b[0;32mIn[28], line 1\u001b[0m\n\u001b[0;32m----> 1\u001b[0m \u001b[43mfound\u001b[49m\n",
      "\u001b[0;31mNameError\u001b[0m: name 'found' is not defined"
     ]
    }
   ],
   "source": [
    "found\n"
   ]
  },
  {
   "cell_type": "code",
   "execution_count": 29,
   "id": "3866ae43",
   "metadata": {},
   "outputs": [
    {
     "ename": "NameError",
     "evalue": "name 'found' is not defined",
     "output_type": "error",
     "traceback": [
      "\u001b[0;31m---------------------------------------------------------------------------\u001b[0m",
      "\u001b[0;31mNameError\u001b[0m                                 Traceback (most recent call last)",
      "Cell \u001b[0;32mIn[29], line 1\u001b[0m\n\u001b[0;32m----> 1\u001b[0m semantic2dot(\u001b[38;5;241m*\u001b[39m\u001b[43mfound\u001b[49m)\n",
      "\u001b[0;31mNameError\u001b[0m: name 'found' is not defined"
     ]
    }
   ],
   "source": [
    "semantic2dot(*found)"
   ]
  },
  {
   "cell_type": "code",
   "execution_count": 30,
   "id": "d50b287d",
   "metadata": {},
   "outputs": [
    {
     "ename": "RuntimeError",
     "evalue": "Two or more python classes (<class 'simphony_osp.ontology.attribute.OntologyAttribute'>, <class 'simphony_osp.ontology.relationship.OntologyRelationship'>) could be spawned from http://www.w3.org/ns/dcat#keyword.",
     "output_type": "error",
     "traceback": [
      "\u001b[0;31m---------------------------------------------------------------------------\u001b[0m",
      "\u001b[0;31mRuntimeError\u001b[0m                              Traceback (most recent call last)",
      "Cell \u001b[0;32mIn[30], line 8\u001b[0m\n\u001b[1;32m      1\u001b[0m found \u001b[38;5;241m=\u001b[39m \u001b[38;5;28mlist\u001b[39m(\n\u001b[1;32m      2\u001b[0m     search\u001b[38;5;241m.\u001b[39mfind(\n\u001b[1;32m      3\u001b[0m         freiburg,\n\u001b[1;32m      4\u001b[0m         rel\u001b[38;5;241m=\u001b[39m(city\u001b[38;5;241m.\u001b[39mhasInhabitant, city\u001b[38;5;241m.\u001b[39mhasWorker)  \u001b[38;5;66;03m# if only one relationship has to be considered, just pass it directly (i.e. `rel=city.hasInhabitant`)\u001b[39;00m\n\u001b[1;32m      5\u001b[0m     )\n\u001b[1;32m      6\u001b[0m )\n\u001b[0;32m----> 8\u001b[0m \u001b[43msemantic2dot\u001b[49m\u001b[43m(\u001b[49m\u001b[38;5;241;43m*\u001b[39;49m\u001b[43mfound\u001b[49m\u001b[43m)\u001b[49m\n",
      "File \u001b[0;32m~/dev/simphony_4_git/simphony-osp/simphony_osp/tools/semantic2dot.py:556\u001b[0m, in \u001b[0;36msemantic2dot\u001b[0;34m(rel, *elements)\u001b[0m\n\u001b[1;32m    524\u001b[0m \u001b[38;5;28;01mdef\u001b[39;00m \u001b[38;5;21msemantic2dot\u001b[39m(\n\u001b[1;32m    525\u001b[0m     \u001b[38;5;241m*\u001b[39melements: Union[\n\u001b[1;32m    526\u001b[0m         OntologyIndividual,\n\u001b[0;32m   (...)\u001b[0m\n\u001b[1;32m    532\u001b[0m     ] \u001b[38;5;241m=\u001b[39m \u001b[38;5;28;01mNone\u001b[39;00m,\n\u001b[1;32m    533\u001b[0m ) \u001b[38;5;241m-\u001b[39m\u001b[38;5;241m>\u001b[39m Semantic2Dot:\n\u001b[1;32m    534\u001b[0m \u001b[38;5;250m    \u001b[39m\u001b[38;5;124;03m\"\"\"Utility for plotting ontology entities.\u001b[39;00m\n\u001b[1;32m    535\u001b[0m \n\u001b[1;32m    536\u001b[0m \u001b[38;5;124;03m    Note: If you are reading the SimPhoNy documentation API Reference, it\u001b[39;00m\n\u001b[0;32m   (...)\u001b[0m\n\u001b[1;32m    554\u001b[0m \u001b[38;5;124;03m            `simphony_osp.tools.search` to additionally plot such individuals.\u001b[39;00m\n\u001b[1;32m    555\u001b[0m \u001b[38;5;124;03m    \"\"\"\u001b[39;00m\n\u001b[0;32m--> 556\u001b[0m     \u001b[38;5;28;01mreturn\u001b[39;00m \u001b[43mSemantic2Dot\u001b[49m\u001b[43m(\u001b[49m\u001b[38;5;241;43m*\u001b[39;49m\u001b[43melements\u001b[49m\u001b[43m,\u001b[49m\u001b[43m \u001b[49m\u001b[43mrel\u001b[49m\u001b[38;5;241;43m=\u001b[39;49m\u001b[43mrel\u001b[49m\u001b[43m)\u001b[49m\n",
      "File \u001b[0;32m~/dev/simphony_4_git/simphony-osp/simphony_osp/tools/semantic2dot.py:109\u001b[0m, in \u001b[0;36mSemantic2Dot.__init__\u001b[0;34m(self, rel, *elements)\u001b[0m\n\u001b[1;32m     85\u001b[0m \u001b[38;5;28mself\u001b[39m\u001b[38;5;241m.\u001b[39m_requested \u001b[38;5;241m=\u001b[39m \u001b[38;5;28mfrozenset\u001b[39m(\n\u001b[1;32m     86\u001b[0m     {\n\u001b[1;32m     87\u001b[0m         part\n\u001b[0;32m   (...)\u001b[0m\n\u001b[1;32m    105\u001b[0m     }\n\u001b[1;32m    106\u001b[0m )\n\u001b[1;32m    108\u001b[0m \u001b[38;5;28mself\u001b[39m\u001b[38;5;241m.\u001b[39m_graph \u001b[38;5;241m=\u001b[39m Digraph(\u001b[38;5;28mformat\u001b[39m\u001b[38;5;241m=\u001b[39m\u001b[38;5;124m\"\u001b[39m\u001b[38;5;124mpng\u001b[39m\u001b[38;5;124m\"\u001b[39m, name\u001b[38;5;241m=\u001b[39m\u001b[38;5;124m\"\u001b[39m\u001b[38;5;124mSimPhoNy semantic2dot\u001b[39m\u001b[38;5;124m\"\u001b[39m)\n\u001b[0;32m--> 109\u001b[0m \u001b[38;5;28;43mself\u001b[39;49m\u001b[38;5;241;43m.\u001b[39;49m\u001b[43m_draw_all\u001b[49m\u001b[43m(\u001b[49m\u001b[43m)\u001b[49m\n",
      "File \u001b[0;32m~/dev/simphony_4_git/simphony-osp/simphony_osp/tools/semantic2dot.py:195\u001b[0m, in \u001b[0;36mSemantic2Dot._draw_all\u001b[0;34m(self)\u001b[0m\n\u001b[1;32m    190\u001b[0m         complementary_nodes \u001b[38;5;241m|\u001b[39m\u001b[38;5;241m=\u001b[39m superclasses\n\u001b[1;32m    191\u001b[0m         edges[\u001b[38;5;124m\"\u001b[39m\u001b[38;5;124mcomplementary_superclasses\u001b[39m\u001b[38;5;124m\"\u001b[39m] \u001b[38;5;241m|\u001b[39m\u001b[38;5;241m=\u001b[39m {\n\u001b[1;32m    192\u001b[0m             (node, superclass) \u001b[38;5;28;01mfor\u001b[39;00m superclass \u001b[38;5;129;01min\u001b[39;00m superclasses\n\u001b[1;32m    193\u001b[0m         }\n\u001b[0;32m--> 195\u001b[0m     \u001b[38;5;28;43mself\u001b[39;49m\u001b[38;5;241;43m.\u001b[39;49m\u001b[43m_draw_node\u001b[49m\u001b[43m(\u001b[49m\u001b[43mnode\u001b[49m\u001b[43m,\u001b[49m\u001b[43m \u001b[49m\u001b[43mcomplementary\u001b[49m\u001b[38;5;241;43m=\u001b[39;49m\u001b[38;5;28;43;01mFalse\u001b[39;49;00m\u001b[43m)\u001b[49m\n\u001b[1;32m    197\u001b[0m complementary_nodes \u001b[38;5;241m=\u001b[39m complementary_nodes \u001b[38;5;241m-\u001b[39m nodes\n\u001b[1;32m    199\u001b[0m \u001b[38;5;66;03m# draw complementary nodes\u001b[39;00m\n",
      "File \u001b[0;32m~/dev/simphony_4_git/simphony-osp/simphony_osp/tools/semantic2dot.py:293\u001b[0m, in \u001b[0;36mSemantic2Dot._draw_node\u001b[0;34m(self, entity, complementary)\u001b[0m\n\u001b[1;32m    281\u001b[0m \u001b[38;5;250m\u001b[39m\u001b[38;5;124;03m\"\"\"Choose the method to draw an ontology entity and call it.\u001b[39;00m\n\u001b[1;32m    282\u001b[0m \n\u001b[1;32m    283\u001b[0m \u001b[38;5;124;03mSelects the correct method to draw an ontology entity according to\u001b[39;00m\n\u001b[0;32m   (...)\u001b[0m\n\u001b[1;32m    290\u001b[0m \u001b[38;5;124;03m    TypeError: Unsupported entity type.\u001b[39;00m\n\u001b[1;32m    291\u001b[0m \u001b[38;5;124;03m\"\"\"\u001b[39;00m\n\u001b[1;32m    292\u001b[0m \u001b[38;5;28;01mif\u001b[39;00m \u001b[38;5;28misinstance\u001b[39m(entity, OntologyIndividual):\n\u001b[0;32m--> 293\u001b[0m     \u001b[38;5;28;43mself\u001b[39;49m\u001b[38;5;241;43m.\u001b[39;49m\u001b[43m_draw_node_individual\u001b[49m\u001b[43m(\u001b[49m\u001b[43mentity\u001b[49m\u001b[43m,\u001b[49m\u001b[43m \u001b[49m\u001b[43mcomplementary\u001b[49m\u001b[38;5;241;43m=\u001b[39;49m\u001b[43mcomplementary\u001b[49m\u001b[43m)\u001b[49m\n\u001b[1;32m    294\u001b[0m \u001b[38;5;28;01melif\u001b[39;00m \u001b[38;5;28misinstance\u001b[39m(entity, OntologyRelationship):\n\u001b[1;32m    295\u001b[0m     \u001b[38;5;28mself\u001b[39m\u001b[38;5;241m.\u001b[39m_draw_node_relationship(entity, complementary\u001b[38;5;241m=\u001b[39mcomplementary)\n",
      "File \u001b[0;32m~/dev/simphony_4_git/simphony-osp/simphony_osp/tools/semantic2dot.py:316\u001b[0m, in \u001b[0;36mSemantic2Dot._draw_node_individual\u001b[0;34m(self, individual, complementary)\u001b[0m\n\u001b[1;32m    303\u001b[0m \u001b[38;5;28;01mdef\u001b[39;00m \u001b[38;5;21m_draw_node_individual\u001b[39m(\n\u001b[1;32m    304\u001b[0m     \u001b[38;5;28mself\u001b[39m,\n\u001b[1;32m    305\u001b[0m     individual: OntologyIndividual,\n\u001b[1;32m    306\u001b[0m     complementary: \u001b[38;5;28mbool\u001b[39m \u001b[38;5;241m=\u001b[39m \u001b[38;5;28;01mFalse\u001b[39;00m,\n\u001b[1;32m    307\u001b[0m ) \u001b[38;5;241m-\u001b[39m\u001b[38;5;241m>\u001b[39m \u001b[38;5;28;01mNone\u001b[39;00m:\n\u001b[1;32m    308\u001b[0m \u001b[38;5;250m    \u001b[39m\u001b[38;5;124;03m\"\"\"Add an ontology individual as a node to the graph.\u001b[39;00m\n\u001b[1;32m    309\u001b[0m \n\u001b[1;32m    310\u001b[0m \u001b[38;5;124;03m    Args:\u001b[39;00m\n\u001b[1;32m    311\u001b[0m \u001b[38;5;124;03m        individual: Ontology individual to draw.\u001b[39;00m\n\u001b[1;32m    312\u001b[0m \u001b[38;5;124;03m        complementary: Whether the drawn entity is complementary or not.\u001b[39;00m\n\u001b[1;32m    313\u001b[0m \u001b[38;5;124;03m    \"\"\"\u001b[39;00m\n\u001b[1;32m    314\u001b[0m     attributes \u001b[38;5;241m=\u001b[39m \u001b[38;5;28mself\u001b[39m\u001b[38;5;241m.\u001b[39m_attribute\u001b[38;5;241m.\u001b[39mformat(\n\u001b[1;32m    315\u001b[0m         \u001b[38;5;124m\"\u001b[39m\u001b[38;5;124mclasses\u001b[39m\u001b[38;5;124m\"\u001b[39m,\n\u001b[0;32m--> 316\u001b[0m         \u001b[38;5;124;43m\"\u001b[39;49m\u001b[38;5;124;43m,\u001b[39;49m\u001b[38;5;124;43m\"\u001b[39;49m\u001b[38;5;241;43m.\u001b[39;49m\u001b[43mjoin\u001b[49m\u001b[43m(\u001b[49m\n\u001b[1;32m    317\u001b[0m \u001b[43m            \u001b[49m\u001b[38;5;28;43mstr\u001b[39;49m\u001b[43m(\u001b[49m\u001b[43mx\u001b[49m\u001b[43m)\u001b[49m\u001b[43m \u001b[49m\u001b[38;5;241;43m+\u001b[39;49m\u001b[43m \u001b[49m\u001b[43m(\u001b[49m\u001b[38;5;124;43mf\u001b[39;49m\u001b[38;5;124;43m\"\u001b[39;49m\u001b[38;5;124;43m (\u001b[39;49m\u001b[38;5;132;43;01m{\u001b[39;49;00m\u001b[43mx\u001b[49m\u001b[38;5;241;43m.\u001b[39;49m\u001b[43mnamespace\u001b[49m\u001b[38;5;241;43m.\u001b[39;49m\u001b[43mname\u001b[49m\u001b[38;5;132;43;01m}\u001b[39;49;00m\u001b[38;5;124;43m)\u001b[39;49m\u001b[38;5;124;43m\"\u001b[39;49m\u001b[43m \u001b[49m\u001b[38;5;28;43;01mif\u001b[39;49;00m\u001b[43m \u001b[49m\u001b[43mx\u001b[49m\u001b[38;5;241;43m.\u001b[39;49m\u001b[43mnamespace\u001b[49m\u001b[43m \u001b[49m\u001b[38;5;28;43;01melse\u001b[39;49;00m\u001b[43m \u001b[49m\u001b[38;5;124;43m\"\u001b[39;49m\u001b[38;5;124;43m\"\u001b[39;49m\u001b[43m)\u001b[49m\n\u001b[1;32m    318\u001b[0m \u001b[43m            \u001b[49m\u001b[38;5;28;43;01mfor\u001b[39;49;00m\u001b[43m \u001b[49m\u001b[43mx\u001b[49m\u001b[43m \u001b[49m\u001b[38;5;129;43;01min\u001b[39;49;00m\u001b[43m \u001b[49m\u001b[43mindividual\u001b[49m\u001b[38;5;241;43m.\u001b[39;49m\u001b[43mclasses\u001b[49m\n\u001b[1;32m    319\u001b[0m \u001b[43m        \u001b[49m\u001b[43m)\u001b[49m,\n\u001b[1;32m    320\u001b[0m     )\n\u001b[1;32m    322\u001b[0m     \u001b[38;5;28;01mfor\u001b[39;00m key, value \u001b[38;5;129;01min\u001b[39;00m individual\u001b[38;5;241m.\u001b[39mattributes\u001b[38;5;241m.\u001b[39mitems():\n\u001b[1;32m    323\u001b[0m         label \u001b[38;5;241m=\u001b[39m \u001b[38;5;28mself\u001b[39m\u001b[38;5;241m.\u001b[39m_get_element_label(key)\n",
      "File \u001b[0;32m~/dev/simphony_4_git/simphony-osp/simphony_osp/tools/semantic2dot.py:317\u001b[0m, in \u001b[0;36m<genexpr>\u001b[0;34m(.0)\u001b[0m\n\u001b[1;32m    303\u001b[0m \u001b[38;5;28;01mdef\u001b[39;00m \u001b[38;5;21m_draw_node_individual\u001b[39m(\n\u001b[1;32m    304\u001b[0m     \u001b[38;5;28mself\u001b[39m,\n\u001b[1;32m    305\u001b[0m     individual: OntologyIndividual,\n\u001b[1;32m    306\u001b[0m     complementary: \u001b[38;5;28mbool\u001b[39m \u001b[38;5;241m=\u001b[39m \u001b[38;5;28;01mFalse\u001b[39;00m,\n\u001b[1;32m    307\u001b[0m ) \u001b[38;5;241m-\u001b[39m\u001b[38;5;241m>\u001b[39m \u001b[38;5;28;01mNone\u001b[39;00m:\n\u001b[1;32m    308\u001b[0m \u001b[38;5;250m    \u001b[39m\u001b[38;5;124;03m\"\"\"Add an ontology individual as a node to the graph.\u001b[39;00m\n\u001b[1;32m    309\u001b[0m \n\u001b[1;32m    310\u001b[0m \u001b[38;5;124;03m    Args:\u001b[39;00m\n\u001b[1;32m    311\u001b[0m \u001b[38;5;124;03m        individual: Ontology individual to draw.\u001b[39;00m\n\u001b[1;32m    312\u001b[0m \u001b[38;5;124;03m        complementary: Whether the drawn entity is complementary or not.\u001b[39;00m\n\u001b[1;32m    313\u001b[0m \u001b[38;5;124;03m    \"\"\"\u001b[39;00m\n\u001b[1;32m    314\u001b[0m     attributes \u001b[38;5;241m=\u001b[39m \u001b[38;5;28mself\u001b[39m\u001b[38;5;241m.\u001b[39m_attribute\u001b[38;5;241m.\u001b[39mformat(\n\u001b[1;32m    315\u001b[0m         \u001b[38;5;124m\"\u001b[39m\u001b[38;5;124mclasses\u001b[39m\u001b[38;5;124m\"\u001b[39m,\n\u001b[1;32m    316\u001b[0m         \u001b[38;5;124m\"\u001b[39m\u001b[38;5;124m,\u001b[39m\u001b[38;5;124m\"\u001b[39m\u001b[38;5;241m.\u001b[39mjoin(\n\u001b[0;32m--> 317\u001b[0m             \u001b[38;5;28mstr\u001b[39m(x) \u001b[38;5;241m+\u001b[39m (\u001b[38;5;124mf\u001b[39m\u001b[38;5;124m\"\u001b[39m\u001b[38;5;124m (\u001b[39m\u001b[38;5;132;01m{\u001b[39;00mx\u001b[38;5;241m.\u001b[39mnamespace\u001b[38;5;241m.\u001b[39mname\u001b[38;5;132;01m}\u001b[39;00m\u001b[38;5;124m)\u001b[39m\u001b[38;5;124m\"\u001b[39m \u001b[38;5;28;01mif\u001b[39;00m x\u001b[38;5;241m.\u001b[39mnamespace \u001b[38;5;28;01melse\u001b[39;00m \u001b[38;5;124m\"\u001b[39m\u001b[38;5;124m\"\u001b[39m)\n\u001b[1;32m    318\u001b[0m             \u001b[38;5;28;01mfor\u001b[39;00m x \u001b[38;5;129;01min\u001b[39;00m individual\u001b[38;5;241m.\u001b[39mclasses\n\u001b[1;32m    319\u001b[0m         ),\n\u001b[1;32m    320\u001b[0m     )\n\u001b[1;32m    322\u001b[0m     \u001b[38;5;28;01mfor\u001b[39;00m key, value \u001b[38;5;129;01min\u001b[39;00m individual\u001b[38;5;241m.\u001b[39mattributes\u001b[38;5;241m.\u001b[39mitems():\n\u001b[1;32m    323\u001b[0m         label \u001b[38;5;241m=\u001b[39m \u001b[38;5;28mself\u001b[39m\u001b[38;5;241m.\u001b[39m_get_element_label(key)\n",
      "File \u001b[0;32m~/dev/simphony_4_git/simphony-osp/simphony_osp/ontology/namespace.py:175\u001b[0m, in \u001b[0;36mOntologyNamespace.__len__\u001b[0;34m(self)\u001b[0m\n\u001b[1;32m    173\u001b[0m \u001b[38;5;28;01mdef\u001b[39;00m \u001b[38;5;21m__len__\u001b[39m(\u001b[38;5;28mself\u001b[39m) \u001b[38;5;241m-\u001b[39m\u001b[38;5;241m>\u001b[39m \u001b[38;5;28mint\u001b[39m:\n\u001b[1;32m    174\u001b[0m \u001b[38;5;250m    \u001b[39m\u001b[38;5;124;03m\"\"\"Return the number of entities in the namespace.\"\"\"\u001b[39;00m\n\u001b[0;32m--> 175\u001b[0m     \u001b[38;5;28;01mreturn\u001b[39;00m \u001b[38;5;28;43msum\u001b[39;49m\u001b[43m(\u001b[49m\u001b[38;5;241;43m1\u001b[39;49m\u001b[43m \u001b[49m\u001b[38;5;28;43;01mfor\u001b[39;49;00m\u001b[43m \u001b[49m\u001b[43m_\u001b[49m\u001b[43m \u001b[49m\u001b[38;5;129;43;01min\u001b[39;49;00m\u001b[43m \u001b[49m\u001b[38;5;28;43mself\u001b[39;49m\u001b[43m)\u001b[49m\n",
      "File \u001b[0;32m~/dev/simphony_4_git/simphony-osp/simphony_osp/ontology/namespace.py:175\u001b[0m, in \u001b[0;36m<genexpr>\u001b[0;34m(.0)\u001b[0m\n\u001b[1;32m    173\u001b[0m \u001b[38;5;28;01mdef\u001b[39;00m \u001b[38;5;21m__len__\u001b[39m(\u001b[38;5;28mself\u001b[39m) \u001b[38;5;241m-\u001b[39m\u001b[38;5;241m>\u001b[39m \u001b[38;5;28mint\u001b[39m:\n\u001b[1;32m    174\u001b[0m \u001b[38;5;250m    \u001b[39m\u001b[38;5;124;03m\"\"\"Return the number of entities in the namespace.\"\"\"\u001b[39;00m\n\u001b[0;32m--> 175\u001b[0m     \u001b[38;5;28;01mreturn\u001b[39;00m \u001b[38;5;28msum\u001b[39m(\u001b[38;5;241m1\u001b[39m \u001b[38;5;28;01mfor\u001b[39;00m _ \u001b[38;5;129;01min\u001b[39;00m \u001b[38;5;28mself\u001b[39m)\n",
      "File \u001b[0;32m~/dev/simphony_4_git/simphony-osp/simphony_osp/ontology/namespace.py:138\u001b[0m, in \u001b[0;36m<genexpr>\u001b[0;34m(.0)\u001b[0m\n\u001b[1;32m    136\u001b[0m \u001b[38;5;28;01mdef\u001b[39;00m \u001b[38;5;21m__iter__\u001b[39m(\u001b[38;5;28mself\u001b[39m) \u001b[38;5;241m-\u001b[39m\u001b[38;5;241m>\u001b[39m Iterator[OntologyEntity]:\n\u001b[1;32m    137\u001b[0m \u001b[38;5;250m    \u001b[39m\u001b[38;5;124;03m\"\"\"Iterate over the ontology entities in the namespace.\"\"\"\u001b[39;00m\n\u001b[0;32m--> 138\u001b[0m     \u001b[38;5;28;01mreturn\u001b[39;00m (entity \u001b[38;5;28;01mfor\u001b[39;00m entity \u001b[38;5;129;01min\u001b[39;00m \u001b[38;5;28miter\u001b[39m(\u001b[38;5;28mself\u001b[39m\u001b[38;5;241m.\u001b[39montology) \u001b[38;5;28;01mif\u001b[39;00m entity \u001b[38;5;129;01min\u001b[39;00m \u001b[38;5;28mself\u001b[39m)\n",
      "File \u001b[0;32m~/dev/simphony_4_git/simphony-osp/simphony_osp/session/session.py:543\u001b[0m, in \u001b[0;36m<genexpr>\u001b[0;34m(.0)\u001b[0m\n\u001b[1;32m    536\u001b[0m \u001b[38;5;250m\u001b[39m\u001b[38;5;124;03m\"\"\"Iterate over all the ontology entities in the session.\u001b[39;00m\n\u001b[1;32m    537\u001b[0m \n\u001b[1;32m    538\u001b[0m \u001b[38;5;124;03mBe careful when using this operation, as it can be computationally very\u001b[39;00m\n\u001b[1;32m    539\u001b[0m \u001b[38;5;124;03mexpensive.\u001b[39;00m\n\u001b[1;32m    540\u001b[0m \u001b[38;5;124;03m\"\"\"\u001b[39;00m\n\u001b[1;32m    541\u001b[0m \u001b[38;5;66;03m# Warning: entities can be repeated.\u001b[39;00m\n\u001b[1;32m    542\u001b[0m \u001b[38;5;28;01mreturn\u001b[39;00m (\n\u001b[0;32m--> 543\u001b[0m     \u001b[38;5;28;43mself\u001b[39;49m\u001b[38;5;241;43m.\u001b[39;49m\u001b[43mfrom_identifier\u001b[49m\u001b[43m(\u001b[49m\u001b[43midentifier\u001b[49m\u001b[43m)\u001b[49m\n\u001b[1;32m    544\u001b[0m     \u001b[38;5;28;01mfor\u001b[39;00m identifier \u001b[38;5;129;01min\u001b[39;00m \u001b[38;5;28mself\u001b[39m\u001b[38;5;241m.\u001b[39miter_identifiers()\n\u001b[1;32m    545\u001b[0m )\n",
      "File \u001b[0;32m~/dev/simphony_4_git/simphony-osp/simphony_osp/utils/cache.py:30\u001b[0m, in \u001b[0;36mlru_cache_weak.<locals>.decorator.<locals>.wrapper\u001b[0;34m(self, *args, **kwargs)\u001b[0m\n\u001b[1;32m     28\u001b[0m \u001b[38;5;129m@wraps\u001b[39m(func)\n\u001b[1;32m     29\u001b[0m \u001b[38;5;28;01mdef\u001b[39;00m \u001b[38;5;21mwrapper\u001b[39m(\u001b[38;5;28mself\u001b[39m, \u001b[38;5;241m*\u001b[39margs, \u001b[38;5;241m*\u001b[39m\u001b[38;5;241m*\u001b[39mkwargs):\n\u001b[0;32m---> 30\u001b[0m     \u001b[38;5;28;01mreturn\u001b[39;00m \u001b[43m_cached\u001b[49m\u001b[43m(\u001b[49m\u001b[43mref\u001b[49m\u001b[43m(\u001b[49m\u001b[38;5;28;43mself\u001b[39;49m\u001b[43m)\u001b[49m\u001b[43m,\u001b[49m\u001b[43m \u001b[49m\u001b[38;5;241;43m*\u001b[39;49m\u001b[43margs\u001b[49m\u001b[43m,\u001b[49m\u001b[43m \u001b[49m\u001b[38;5;241;43m*\u001b[39;49m\u001b[38;5;241;43m*\u001b[39;49m\u001b[43mkwargs\u001b[49m\u001b[43m)\u001b[49m\n",
      "File \u001b[0;32m~/dev/simphony_4_git/simphony-osp/simphony_osp/utils/cache.py:26\u001b[0m, in \u001b[0;36mlru_cache_weak.<locals>.decorator.<locals>._cached\u001b[0;34m(_self_weak_ref, *args, **kwargs)\u001b[0m\n\u001b[1;32m     24\u001b[0m \u001b[38;5;129m@lru_cache\u001b[39m(maxsize\u001b[38;5;241m=\u001b[39mmaxsize, typed\u001b[38;5;241m=\u001b[39mtyped)\n\u001b[1;32m     25\u001b[0m \u001b[38;5;28;01mdef\u001b[39;00m \u001b[38;5;21m_cached\u001b[39m(_self_weak_ref, \u001b[38;5;241m*\u001b[39margs, \u001b[38;5;241m*\u001b[39m\u001b[38;5;241m*\u001b[39mkwargs):\n\u001b[0;32m---> 26\u001b[0m     \u001b[38;5;28;01mreturn\u001b[39;00m \u001b[43mfunc\u001b[49m\u001b[43m(\u001b[49m\u001b[43m_self_weak_ref\u001b[49m\u001b[43m(\u001b[49m\u001b[43m)\u001b[49m\u001b[43m,\u001b[49m\u001b[43m \u001b[49m\u001b[38;5;241;43m*\u001b[39;49m\u001b[43margs\u001b[49m\u001b[43m,\u001b[49m\u001b[43m \u001b[49m\u001b[38;5;241;43m*\u001b[39;49m\u001b[38;5;241;43m*\u001b[39;49m\u001b[43mkwargs\u001b[49m\u001b[43m)\u001b[49m\n",
      "File \u001b[0;32m~/dev/simphony_4_git/simphony-osp/simphony_osp/session/session.py:1321\u001b[0m, in \u001b[0;36mSession.from_identifier\u001b[0;34m(self, identifier)\u001b[0m\n\u001b[1;32m   1319\u001b[0m \u001b[38;5;250m\u001b[39m\u001b[38;5;124;03m\"\"\"Finally return the single compatible class or raise an exception.\"\"\"\u001b[39;00m\n\u001b[1;32m   1320\u001b[0m \u001b[38;5;28;01mif\u001b[39;00m \u001b[38;5;28mlen\u001b[39m(compatible) \u001b[38;5;241m>\u001b[39m\u001b[38;5;241m=\u001b[39m \u001b[38;5;241m2\u001b[39m:\n\u001b[0;32m-> 1321\u001b[0m     \u001b[38;5;28;01mraise\u001b[39;00m \u001b[38;5;167;01mRuntimeError\u001b[39;00m(\n\u001b[1;32m   1322\u001b[0m         \u001b[38;5;124mf\u001b[39m\u001b[38;5;124m\"\u001b[39m\u001b[38;5;124mTwo or more python classes (\u001b[39m\u001b[38;5;124m\"\u001b[39m\n\u001b[1;32m   1323\u001b[0m         \u001b[38;5;124mf\u001b[39m\u001b[38;5;124m\"\u001b[39m\u001b[38;5;132;01m{\u001b[39;00m\u001b[38;5;124m'\u001b[39m\u001b[38;5;124m, \u001b[39m\u001b[38;5;124m'\u001b[39m\u001b[38;5;241m.\u001b[39mjoin(\u001b[38;5;28mmap\u001b[39m(\u001b[38;5;28mstr\u001b[39m,\u001b[38;5;250m \u001b[39mcompatible))\u001b[38;5;132;01m}\u001b[39;00m\u001b[38;5;124m) \u001b[39m\u001b[38;5;124m\"\u001b[39m\n\u001b[1;32m   1324\u001b[0m         \u001b[38;5;124mf\u001b[39m\u001b[38;5;124m\"\u001b[39m\u001b[38;5;124mcould be spawned from \u001b[39m\u001b[38;5;132;01m{\u001b[39;00midentifier\u001b[38;5;132;01m}\u001b[39;00m\u001b[38;5;124m.\u001b[39m\u001b[38;5;124m\"\u001b[39m\n\u001b[1;32m   1325\u001b[0m     )\n\u001b[1;32m   1326\u001b[0m \u001b[38;5;28;01mtry\u001b[39;00m:\n\u001b[1;32m   1327\u001b[0m     python_class \u001b[38;5;241m=\u001b[39m compatible\u001b[38;5;241m.\u001b[39mpop()\n",
      "\u001b[0;31mRuntimeError\u001b[0m: Two or more python classes (<class 'simphony_osp.ontology.attribute.OntologyAttribute'>, <class 'simphony_osp.ontology.relationship.OntologyRelationship'>) could be spawned from http://www.w3.org/ns/dcat#keyword."
     ]
    }
   ],
   "source": [
    "found = list(\n",
    "    search.find(\n",
    "        freiburg,\n",
    "        rel=(city.hasInhabitant, city.hasWorker)  # if only one relationship has to be considered, just pass it directly (i.e. `rel=city.hasInhabitant`)\n",
    "    )\n",
    ")\n",
    "\n",
    "semantic2dot(*found)"
   ]
  },
  {
   "cell_type": "code",
   "execution_count": 31,
   "id": "47a8aef2",
   "metadata": {},
   "outputs": [],
   "source": [
    "s=export_file( individuals_or_session=found,main = None,format  = \"application/ld+json\",    all_triples= True, all_statements= True)"
   ]
  },
  {
   "cell_type": "code",
   "execution_count": 32,
   "id": "3cb7c0db",
   "metadata": {},
   "outputs": [
    {
     "name": "stdout",
     "output_type": "stream",
     "text": [
      "[\n",
      "  {\n",
      "    \"@id\": \"http://example.org/entities#Lena\",\n",
      "    \"@type\": [\n",
      "      \"https://www.simphony-osp.eu/city#Citizen\"\n",
      "    ],\n",
      "    \"https://www.simphony-osp.eu/city#age\": [\n",
      "      {\n",
      "        \"@value\": 70\n",
      "      }\n",
      "    ],\n",
      "    \"https://www.simphony-osp.eu/city#name\": [\n",
      "      {\n",
      "        \"@value\": \"Lena\"\n",
      "      }\n",
      "    ]\n",
      "  },\n",
      "  {\n",
      "    \"@id\": \"http://example.org/entities#Nikola\",\n",
      "    \"@type\": [\n",
      "      \"https://www.simphony-osp.eu/city#Citizen\"\n",
      "    ],\n",
      "    \"https://www.simphony-osp.eu/city#age\": [\n",
      "      {\n",
      "        \"@value\": 35\n",
      "      }\n",
      "    ],\n",
      "    \"https://www.simphony-osp.eu/city#name\": [\n",
      "      {\n",
      "        \"@value\": \"Nikola\"\n",
      "      }\n",
      "    ]\n",
      "  },\n",
      "  {\n",
      "    \"@id\": \"https://www.simphony-osp.eu/entity#4b96646d-aa2b-4f52-bb05-921b48a9fab8\",\n",
      "    \"@type\": [\n",
      "      \"https://www.simphony-osp.eu/city#City\"\n",
      "    ],\n",
      "    \"https://www.simphony-osp.eu/city#coordinates\": [\n",
      "      {\n",
      "        \"@type\": \"https://www.simphony-osp.eu/types#Vector\",\n",
      "        \"@value\": \"13YFp0RR93AD@t&xBo{#)k4YS)LtJz\"\n",
      "      }\n",
      "    ],\n",
      "    \"https://www.simphony-osp.eu/city#hasInhabitant\": [\n",
      "      {\n",
      "        \"@id\": \"http://example.org/entities#Nikola\"\n",
      "      },\n",
      "      {\n",
      "        \"@id\": \"http://example.org/entities#Lena\"\n",
      "      }\n",
      "    ],\n",
      "    \"https://www.simphony-osp.eu/city#hasPart\": [\n",
      "      {\n",
      "        \"@id\": \"https://www.simphony-osp.eu/entity#24910469-3161-427a-813b-3058fd1ececb\"\n",
      "      },\n",
      "      {\n",
      "        \"@id\": \"https://www.simphony-osp.eu/entity#91e7ea3f-7efb-428f-ba88-e1391319a880\"\n",
      "      },\n",
      "      {\n",
      "        \"@id\": \"https://www.simphony-osp.eu/entity#346e8021-dc3d-444f-b8ef-15e905f3547b\"\n",
      "      },\n",
      "      {\n",
      "        \"@id\": \"https://www.simphony-osp.eu/entity#a8f9063f-4c4c-41a0-aa77-3fa3b2012de8\"\n",
      "      },\n",
      "      {\n",
      "        \"@id\": \"https://www.simphony-osp.eu/entity#48512eff-8b83-4e43-90f1-67c993bb2e65\"\n",
      "      }\n",
      "    ],\n",
      "    \"https://www.simphony-osp.eu/city#name\": [\n",
      "      {\n",
      "        \"@value\": \"Freiburg\"\n",
      "      }\n",
      "    ]\n",
      "  }\n",
      "]\n"
     ]
    }
   ],
   "source": [
    "print(s)    "
   ]
  },
  {
   "cell_type": "code",
   "execution_count": 33,
   "id": "3b3cc7e5",
   "metadata": {},
   "outputs": [
    {
     "name": "stdout",
     "output_type": "stream",
     "text": [
      "10 True\n",
      "(rdflib.term.Literal('13YFp0RR93AD@t&xBo{#)k4YS)LtJz', datatype=rdflib.term.URIRef('https://www.simphony-osp.eu/types#Vector')),)\n",
      "rdflib.term.Literal('13YFp0RR93AD@t&xBo{#)k4YS)LtJz', datatype=rdflib.term.URIRef('https://www.simphony-osp.eu/types#Vector'))\n",
      "rdflib.term.Literal('13YFp0RR93AD@t&xBo{#)k4YS)LtJz', datatype=rdflib.term.URIRef('https://www.simphony-osp.eu/types#Vector'))\n",
      "None\n",
      "{'o': rdflib.term.Literal('13YFp0RR93AD@t&xBo{#)k4YS)LtJz', datatype=rdflib.term.URIRef('https://www.simphony-osp.eu/types#Vector'))}\n",
      "(rdflib.term.Literal('Freiburg', datatype=rdflib.term.URIRef('http://www.w3.org/2001/XMLSchema#string')),)\n",
      "rdflib.term.Literal('Freiburg', datatype=rdflib.term.URIRef('http://www.w3.org/2001/XMLSchema#string'))\n",
      "rdflib.term.Literal('Freiburg', datatype=rdflib.term.URIRef('http://www.w3.org/2001/XMLSchema#string'))\n",
      "None\n",
      "{'o': rdflib.term.Literal('Freiburg', datatype=rdflib.term.URIRef('http://www.w3.org/2001/XMLSchema#string'))}\n",
      "(rdflib.term.URIRef('https://www.simphony-osp.eu/city#City'),)\n",
      "rdflib.term.URIRef('https://www.simphony-osp.eu/city#City')\n",
      "rdflib.term.URIRef('https://www.simphony-osp.eu/city#City')\n",
      "None\n",
      "{'o': rdflib.term.URIRef('https://www.simphony-osp.eu/city#City')}\n",
      "(rdflib.term.URIRef('https://www.simphony-osp.eu/entity#24910469-3161-427a-813b-3058fd1ececb'),)\n",
      "rdflib.term.URIRef('https://www.simphony-osp.eu/entity#24910469-3161-427a-813b-3058fd1ececb')\n",
      "rdflib.term.URIRef('https://www.simphony-osp.eu/entity#24910469-3161-427a-813b-3058fd1ececb')\n",
      "None\n",
      "{'o': rdflib.term.URIRef('https://www.simphony-osp.eu/entity#24910469-3161-427a-813b-3058fd1ececb')}\n",
      "(rdflib.term.URIRef('https://www.simphony-osp.eu/entity#91e7ea3f-7efb-428f-ba88-e1391319a880'),)\n",
      "rdflib.term.URIRef('https://www.simphony-osp.eu/entity#91e7ea3f-7efb-428f-ba88-e1391319a880')\n",
      "rdflib.term.URIRef('https://www.simphony-osp.eu/entity#91e7ea3f-7efb-428f-ba88-e1391319a880')\n",
      "None\n",
      "{'o': rdflib.term.URIRef('https://www.simphony-osp.eu/entity#91e7ea3f-7efb-428f-ba88-e1391319a880')}\n",
      "(rdflib.term.URIRef('https://www.simphony-osp.eu/entity#a8f9063f-4c4c-41a0-aa77-3fa3b2012de8'),)\n",
      "rdflib.term.URIRef('https://www.simphony-osp.eu/entity#a8f9063f-4c4c-41a0-aa77-3fa3b2012de8')\n",
      "rdflib.term.URIRef('https://www.simphony-osp.eu/entity#a8f9063f-4c4c-41a0-aa77-3fa3b2012de8')\n",
      "None\n",
      "{'o': rdflib.term.URIRef('https://www.simphony-osp.eu/entity#a8f9063f-4c4c-41a0-aa77-3fa3b2012de8')}\n",
      "(rdflib.term.URIRef('https://www.simphony-osp.eu/entity#48512eff-8b83-4e43-90f1-67c993bb2e65'),)\n",
      "rdflib.term.URIRef('https://www.simphony-osp.eu/entity#48512eff-8b83-4e43-90f1-67c993bb2e65')\n",
      "rdflib.term.URIRef('https://www.simphony-osp.eu/entity#48512eff-8b83-4e43-90f1-67c993bb2e65')\n",
      "None\n",
      "{'o': rdflib.term.URIRef('https://www.simphony-osp.eu/entity#48512eff-8b83-4e43-90f1-67c993bb2e65')}\n",
      "(rdflib.term.URIRef('https://www.simphony-osp.eu/entity#346e8021-dc3d-444f-b8ef-15e905f3547b'),)\n",
      "rdflib.term.URIRef('https://www.simphony-osp.eu/entity#346e8021-dc3d-444f-b8ef-15e905f3547b')\n",
      "rdflib.term.URIRef('https://www.simphony-osp.eu/entity#346e8021-dc3d-444f-b8ef-15e905f3547b')\n",
      "None\n",
      "{'o': rdflib.term.URIRef('https://www.simphony-osp.eu/entity#346e8021-dc3d-444f-b8ef-15e905f3547b')}\n",
      "(rdflib.term.URIRef('http://example.org/entities#Lena'),)\n",
      "rdflib.term.URIRef('http://example.org/entities#Lena')\n",
      "rdflib.term.URIRef('http://example.org/entities#Lena')\n",
      "None\n",
      "{'o': rdflib.term.URIRef('http://example.org/entities#Lena')}\n",
      "(rdflib.term.URIRef('http://example.org/entities#Nikola'),)\n",
      "rdflib.term.URIRef('http://example.org/entities#Nikola')\n",
      "rdflib.term.URIRef('http://example.org/entities#Nikola')\n",
      "None\n",
      "{'o': rdflib.term.URIRef('http://example.org/entities#Nikola')}\n"
     ]
    }
   ],
   "source": [
    "result = search.sparql(  # no session specified, uses the default session (Core Session in this example)\n",
    "    f\"\"\"SELECT ?o WHERE {{\n",
    "        <{freiburg.identifier}> ?p ?o .\n",
    "    }}\n",
    "    \"\"\"\n",
    ")\n",
    "\n",
    "print(\n",
    "    len(result),  # number of rows in the result\n",
    "    bool(result)  # True when at least one match has been found\n",
    ")\n",
    "\n",
    "for row in result:  # iterating the result yields ResultRow objects\n",
    "    print(row.__repr__())\n",
    "    # ResultRows inherint from tuples\n",
    "    # the order of the variables passed to the query is respected\n",
    "\n",
    "    print(row[0].__repr__())  # a specific variable can be accessed using either its position,\n",
    "    print(row['o'].__repr__())  # or name\n",
    "\n",
    "    print(row.get('unknown_variable', None))  # a dict-like `get` method is available\n",
    "\n",
    "    print(row.asdict())  # transforms the row into a dictionary"
   ]
  },
  {
   "cell_type": "code",
   "execution_count": 34,
   "id": "0acd72db",
   "metadata": {},
   "outputs": [
    {
     "ename": "RuntimeError",
     "evalue": "Two or more python classes (<class 'simphony_osp.ontology.relationship.OntologyRelationship'>, <class 'simphony_osp.ontology.attribute.OntologyAttribute'>) could be spawned from http://xmlns.com/foaf/0.1/homepage.",
     "output_type": "error",
     "traceback": [
      "\u001b[0;31m---------------------------------------------------------------------------\u001b[0m",
      "\u001b[0;31mRuntimeError\u001b[0m                              Traceback (most recent call last)",
      "Cell \u001b[0;32mIn[34], line 2\u001b[0m\n\u001b[1;32m      1\u001b[0m \u001b[38;5;28;01mfor\u001b[39;00m i \u001b[38;5;129;01min\u001b[39;00m session:\n\u001b[0;32m----> 2\u001b[0m     \u001b[43mpretty_print\u001b[49m\u001b[43m(\u001b[49m\u001b[43mi\u001b[49m\u001b[43m)\u001b[49m\n",
      "File \u001b[0;32m~/dev/simphony_4_git/simphony-osp/simphony_osp/tools/pretty_print.py:77\u001b[0m, in \u001b[0;36mpretty_print\u001b[0;34m(entity, rel, file)\u001b[0m\n\u001b[1;32m     75\u001b[0m         pp[\u001b[38;5;124m\"\u001b[39m\u001b[38;5;124mattributes\u001b[39m\u001b[38;5;124m\"\u001b[39m] \u001b[38;5;241m=\u001b[39m \u001b[38;5;124mf\u001b[39m\u001b[38;5;124m\"\u001b[39m\u001b[38;5;130;01m\\n\u001b[39;00m\u001b[38;5;124m  values: \u001b[39m\u001b[38;5;132;01m{\u001b[39;00mvalues_str\u001b[38;5;132;01m}\u001b[39;00m\u001b[38;5;124m\"\u001b[39m\n\u001b[1;32m     76\u001b[0m     \u001b[38;5;66;03m# Subelements\u001b[39;00m\n\u001b[0;32m---> 77\u001b[0m     pp[\u001b[38;5;124m\"\u001b[39m\u001b[38;5;124msubelements\u001b[39m\u001b[38;5;124m\"\u001b[39m] \u001b[38;5;241m=\u001b[39m \u001b[43m_pp_individual_subelements\u001b[49m\u001b[43m(\u001b[49m\u001b[43mentity\u001b[49m\u001b[43m,\u001b[49m\u001b[43m \u001b[49m\u001b[43mrel\u001b[49m\u001b[43m)\u001b[49m\n\u001b[1;32m     79\u001b[0m pp[\u001b[38;5;124m\"\u001b[39m\u001b[38;5;124midentifier\u001b[39m\u001b[38;5;124m\"\u001b[39m] \u001b[38;5;241m=\u001b[39m \u001b[38;5;124mf\u001b[39m\u001b[38;5;124m\"\u001b[39m\u001b[38;5;130;01m\\n\u001b[39;00m\u001b[38;5;124m  identifier: \u001b[39m\u001b[38;5;132;01m{\u001b[39;00mentity\u001b[38;5;241m.\u001b[39muid\u001b[38;5;132;01m}\u001b[39;00m\u001b[38;5;124m\"\u001b[39m\n\u001b[1;32m     81\u001b[0m pp \u001b[38;5;241m=\u001b[39m reduce(add, pp\u001b[38;5;241m.\u001b[39mvalues())\n",
      "File \u001b[0;32m~/dev/simphony_4_git/simphony-osp/simphony_osp/tools/pretty_print.py:171\u001b[0m, in \u001b[0;36m_pp_individual_subelements\u001b[0;34m(individual, rel, level_indentation, visited)\u001b[0m\n\u001b[1;32m    166\u001b[0m         \u001b[38;5;28;01mpass\u001b[39;00m\n\u001b[1;32m    167\u001b[0m filtered_relationships \u001b[38;5;241m=\u001b[39m \u001b[38;5;28mfilter\u001b[39m(\n\u001b[1;32m    168\u001b[0m     \u001b[38;5;28;01mlambda\u001b[39;00m x: \u001b[38;5;28many\u001b[39m(x\u001b[38;5;241m.\u001b[39mis_subclass_of(r) \u001b[38;5;28;01mfor\u001b[39;00m r \u001b[38;5;129;01min\u001b[39;00m rels),\n\u001b[1;32m    169\u001b[0m     consider_relationships,\n\u001b[1;32m    170\u001b[0m )\n\u001b[0;32m--> 171\u001b[0m sorted_relationships \u001b[38;5;241m=\u001b[39m \u001b[38;5;28msorted\u001b[39m(filtered_relationships, key\u001b[38;5;241m=\u001b[39m\u001b[38;5;28mstr\u001b[39m)\n\u001b[1;32m    173\u001b[0m visited \u001b[38;5;241m=\u001b[39m visited \u001b[38;5;129;01mor\u001b[39;00m \u001b[38;5;28mset\u001b[39m()\n\u001b[1;32m    174\u001b[0m visited\u001b[38;5;241m.\u001b[39madd(individual\u001b[38;5;241m.\u001b[39muid)\n",
      "File \u001b[0;32m~/dev/simphony_4_git/simphony-osp/simphony_osp/tools/pretty_print.py:168\u001b[0m, in \u001b[0;36m_pp_individual_subelements.<locals>.<lambda>\u001b[0;34m(x)\u001b[0m\n\u001b[1;32m    165\u001b[0m     \u001b[38;5;28;01mexcept\u001b[39;00m \u001b[38;5;167;01mKeyError\u001b[39;00m:\n\u001b[1;32m    166\u001b[0m         \u001b[38;5;28;01mpass\u001b[39;00m\n\u001b[1;32m    167\u001b[0m filtered_relationships \u001b[38;5;241m=\u001b[39m \u001b[38;5;28mfilter\u001b[39m(\n\u001b[0;32m--> 168\u001b[0m     \u001b[38;5;28;01mlambda\u001b[39;00m x: \u001b[38;5;28;43many\u001b[39;49m\u001b[43m(\u001b[49m\u001b[43mx\u001b[49m\u001b[38;5;241;43m.\u001b[39;49m\u001b[43mis_subclass_of\u001b[49m\u001b[43m(\u001b[49m\u001b[43mr\u001b[49m\u001b[43m)\u001b[49m\u001b[43m \u001b[49m\u001b[38;5;28;43;01mfor\u001b[39;49;00m\u001b[43m \u001b[49m\u001b[43mr\u001b[49m\u001b[43m \u001b[49m\u001b[38;5;129;43;01min\u001b[39;49;00m\u001b[43m \u001b[49m\u001b[43mrels\u001b[49m\u001b[43m)\u001b[49m,\n\u001b[1;32m    169\u001b[0m     consider_relationships,\n\u001b[1;32m    170\u001b[0m )\n\u001b[1;32m    171\u001b[0m sorted_relationships \u001b[38;5;241m=\u001b[39m \u001b[38;5;28msorted\u001b[39m(filtered_relationships, key\u001b[38;5;241m=\u001b[39m\u001b[38;5;28mstr\u001b[39m)\n\u001b[1;32m    173\u001b[0m visited \u001b[38;5;241m=\u001b[39m visited \u001b[38;5;129;01mor\u001b[39;00m \u001b[38;5;28mset\u001b[39m()\n",
      "File \u001b[0;32m~/dev/simphony_4_git/simphony-osp/simphony_osp/tools/pretty_print.py:168\u001b[0m, in \u001b[0;36m<genexpr>\u001b[0;34m(.0)\u001b[0m\n\u001b[1;32m    165\u001b[0m     \u001b[38;5;28;01mexcept\u001b[39;00m \u001b[38;5;167;01mKeyError\u001b[39;00m:\n\u001b[1;32m    166\u001b[0m         \u001b[38;5;28;01mpass\u001b[39;00m\n\u001b[1;32m    167\u001b[0m filtered_relationships \u001b[38;5;241m=\u001b[39m \u001b[38;5;28mfilter\u001b[39m(\n\u001b[0;32m--> 168\u001b[0m     \u001b[38;5;28;01mlambda\u001b[39;00m x: \u001b[38;5;28many\u001b[39m(\u001b[43mx\u001b[49m\u001b[38;5;241;43m.\u001b[39;49m\u001b[43mis_subclass_of\u001b[49m\u001b[43m(\u001b[49m\u001b[43mr\u001b[49m\u001b[43m)\u001b[49m \u001b[38;5;28;01mfor\u001b[39;00m r \u001b[38;5;129;01min\u001b[39;00m rels),\n\u001b[1;32m    169\u001b[0m     consider_relationships,\n\u001b[1;32m    170\u001b[0m )\n\u001b[1;32m    171\u001b[0m sorted_relationships \u001b[38;5;241m=\u001b[39m \u001b[38;5;28msorted\u001b[39m(filtered_relationships, key\u001b[38;5;241m=\u001b[39m\u001b[38;5;28mstr\u001b[39m)\n\u001b[1;32m    173\u001b[0m visited \u001b[38;5;241m=\u001b[39m visited \u001b[38;5;129;01mor\u001b[39;00m \u001b[38;5;28mset\u001b[39m()\n",
      "File \u001b[0;32m~/dev/simphony_4_git/simphony-osp/simphony_osp/ontology/entity.py:196\u001b[0m, in \u001b[0;36mOntologyEntity.is_subclass_of\u001b[0;34m(self, other)\u001b[0m\n\u001b[1;32m    186\u001b[0m \u001b[38;5;28;01mdef\u001b[39;00m \u001b[38;5;21mis_subclass_of\u001b[39m(\u001b[38;5;28mself\u001b[39m, other: OntologyEntity) \u001b[38;5;241m-\u001b[39m\u001b[38;5;241m>\u001b[39m \u001b[38;5;28mbool\u001b[39m:\n\u001b[1;32m    187\u001b[0m \u001b[38;5;250m    \u001b[39m\u001b[38;5;124;03m\"\"\"Perform a subclass check.\u001b[39;00m\n\u001b[1;32m    188\u001b[0m \n\u001b[1;32m    189\u001b[0m \u001b[38;5;124;03m    Args:\u001b[39;00m\n\u001b[0;32m   (...)\u001b[0m\n\u001b[1;32m    194\u001b[0m \n\u001b[1;32m    195\u001b[0m \u001b[38;5;124;03m    \"\"\"\u001b[39;00m\n\u001b[0;32m--> 196\u001b[0m     \u001b[38;5;28;01mreturn\u001b[39;00m \u001b[38;5;28mself\u001b[39m \u001b[38;5;129;01min\u001b[39;00m \u001b[43mother\u001b[49m\u001b[38;5;241;43m.\u001b[39;49m\u001b[43msubclasses\u001b[49m\n",
      "File \u001b[0;32m~/dev/simphony_4_git/simphony-osp/simphony_osp/utils/cache.py:137\u001b[0m, in \u001b[0;36mlru_cache_timestamp.<locals>.decorator.<locals>.wrapper\u001b[0;34m(self, *args, **kwargs)\u001b[0m\n\u001b[1;32m    134\u001b[0m     cached_function\u001b[38;5;241m.\u001b[39mcache_clear()\n\u001b[1;32m    135\u001b[0m     holder[\u001b[38;5;28mself\u001b[39m] \u001b[38;5;241m=\u001b[39m datetime\u001b[38;5;241m.\u001b[39mnow(), cached_function\n\u001b[0;32m--> 137\u001b[0m \u001b[38;5;28;01mreturn\u001b[39;00m \u001b[43mcached_function\u001b[49m\u001b[43m(\u001b[49m\u001b[38;5;28;43mself\u001b[39;49m\u001b[43m,\u001b[49m\u001b[43m \u001b[49m\u001b[38;5;241;43m*\u001b[39;49m\u001b[43margs\u001b[49m\u001b[43m,\u001b[49m\u001b[43m \u001b[49m\u001b[38;5;241;43m*\u001b[39;49m\u001b[38;5;241;43m*\u001b[39;49m\u001b[43mkwargs\u001b[49m\u001b[43m)\u001b[49m\n",
      "File \u001b[0;32m~/dev/simphony_4_git/simphony-osp/simphony_osp/utils/cache.py:30\u001b[0m, in \u001b[0;36mlru_cache_weak.<locals>.decorator.<locals>.wrapper\u001b[0;34m(self, *args, **kwargs)\u001b[0m\n\u001b[1;32m     28\u001b[0m \u001b[38;5;129m@wraps\u001b[39m(func)\n\u001b[1;32m     29\u001b[0m \u001b[38;5;28;01mdef\u001b[39;00m \u001b[38;5;21mwrapper\u001b[39m(\u001b[38;5;28mself\u001b[39m, \u001b[38;5;241m*\u001b[39margs, \u001b[38;5;241m*\u001b[39m\u001b[38;5;241m*\u001b[39mkwargs):\n\u001b[0;32m---> 30\u001b[0m     \u001b[38;5;28;01mreturn\u001b[39;00m \u001b[43m_cached\u001b[49m\u001b[43m(\u001b[49m\u001b[43mref\u001b[49m\u001b[43m(\u001b[49m\u001b[38;5;28;43mself\u001b[39;49m\u001b[43m)\u001b[49m\u001b[43m,\u001b[49m\u001b[43m \u001b[49m\u001b[38;5;241;43m*\u001b[39;49m\u001b[43margs\u001b[49m\u001b[43m,\u001b[49m\u001b[43m \u001b[49m\u001b[38;5;241;43m*\u001b[39;49m\u001b[38;5;241;43m*\u001b[39;49m\u001b[43mkwargs\u001b[49m\u001b[43m)\u001b[49m\n",
      "File \u001b[0;32m~/dev/simphony_4_git/simphony-osp/simphony_osp/utils/cache.py:26\u001b[0m, in \u001b[0;36mlru_cache_weak.<locals>.decorator.<locals>._cached\u001b[0;34m(_self_weak_ref, *args, **kwargs)\u001b[0m\n\u001b[1;32m     24\u001b[0m \u001b[38;5;129m@lru_cache\u001b[39m(maxsize\u001b[38;5;241m=\u001b[39mmaxsize, typed\u001b[38;5;241m=\u001b[39mtyped)\n\u001b[1;32m     25\u001b[0m \u001b[38;5;28;01mdef\u001b[39;00m \u001b[38;5;21m_cached\u001b[39m(_self_weak_ref, \u001b[38;5;241m*\u001b[39margs, \u001b[38;5;241m*\u001b[39m\u001b[38;5;241m*\u001b[39mkwargs):\n\u001b[0;32m---> 26\u001b[0m     \u001b[38;5;28;01mreturn\u001b[39;00m \u001b[43mfunc\u001b[49m\u001b[43m(\u001b[49m\u001b[43m_self_weak_ref\u001b[49m\u001b[43m(\u001b[49m\u001b[43m)\u001b[49m\u001b[43m,\u001b[49m\u001b[43m \u001b[49m\u001b[38;5;241;43m*\u001b[39;49m\u001b[43margs\u001b[49m\u001b[43m,\u001b[49m\u001b[43m \u001b[49m\u001b[38;5;241;43m*\u001b[39;49m\u001b[38;5;241;43m*\u001b[39;49m\u001b[43mkwargs\u001b[49m\u001b[43m)\u001b[49m\n",
      "File \u001b[0;32m~/dev/simphony_4_git/simphony-osp/simphony_osp/utils/cache.py:110\u001b[0m, in \u001b[0;36mlru_cache_timestamp.<locals>.decorator.<locals>.wrapper.<locals>.cached_function\u001b[0;34m(self_function, *args_function, **kwargs_function)\u001b[0m\n\u001b[1;32m    106\u001b[0m \u001b[38;5;129m@lru_cache_weak\u001b[39m(maxsize\u001b[38;5;241m=\u001b[39mmaxsize, typed\u001b[38;5;241m=\u001b[39mtyped)\n\u001b[1;32m    107\u001b[0m \u001b[38;5;28;01mdef\u001b[39;00m \u001b[38;5;21mcached_function\u001b[39m(\n\u001b[1;32m    108\u001b[0m     self_function, \u001b[38;5;241m*\u001b[39margs_function, \u001b[38;5;241m*\u001b[39m\u001b[38;5;241m*\u001b[39mkwargs_function\n\u001b[1;32m    109\u001b[0m ):\n\u001b[0;32m--> 110\u001b[0m     \u001b[38;5;28;01mreturn\u001b[39;00m \u001b[43mfunc\u001b[49m\u001b[43m(\u001b[49m\n\u001b[1;32m    111\u001b[0m \u001b[43m        \u001b[49m\u001b[43mself_function\u001b[49m\u001b[43m,\u001b[49m\u001b[43m \u001b[49m\u001b[38;5;241;43m*\u001b[39;49m\u001b[43margs_function\u001b[49m\u001b[43m,\u001b[49m\u001b[43m \u001b[49m\u001b[38;5;241;43m*\u001b[39;49m\u001b[38;5;241;43m*\u001b[39;49m\u001b[43mkwargs_function\u001b[49m\n\u001b[1;32m    112\u001b[0m \u001b[43m    \u001b[49m\u001b[43m)\u001b[49m\n",
      "File \u001b[0;32m~/dev/simphony_4_git/simphony-osp/simphony_osp/ontology/entity.py:173\u001b[0m, in \u001b[0;36mOntologyEntity.subclasses\u001b[0;34m(self)\u001b[0m\n\u001b[1;32m    164\u001b[0m \u001b[38;5;129m@property\u001b[39m\n\u001b[1;32m    165\u001b[0m \u001b[38;5;129m@lru_cache_timestamp\u001b[39m(\u001b[38;5;28;01mlambda\u001b[39;00m \u001b[38;5;28mself\u001b[39m: \u001b[38;5;28mself\u001b[39m\u001b[38;5;241m.\u001b[39msession\u001b[38;5;241m.\u001b[39mentity_cache_timestamp)\n\u001b[1;32m    166\u001b[0m \u001b[38;5;28;01mdef\u001b[39;00m \u001b[38;5;21msubclasses\u001b[39m(\u001b[38;5;28mself\u001b[39m: ONTOLOGY_ENTITY) \u001b[38;5;241m-\u001b[39m\u001b[38;5;241m>\u001b[39m FrozenSet[ONTOLOGY_ENTITY]:\n\u001b[1;32m    167\u001b[0m \u001b[38;5;250m    \u001b[39m\u001b[38;5;124;03m\"\"\"Get the subclasses of the entity.\u001b[39;00m\n\u001b[1;32m    168\u001b[0m \n\u001b[1;32m    169\u001b[0m \u001b[38;5;124;03m    Returns:\u001b[39;00m\n\u001b[1;32m    170\u001b[0m \u001b[38;5;124;03m        The subclasses of the entity\u001b[39;00m\n\u001b[1;32m    171\u001b[0m \n\u001b[1;32m    172\u001b[0m \u001b[38;5;124;03m    \"\"\"\u001b[39;00m\n\u001b[0;32m--> 173\u001b[0m     \u001b[38;5;28;01mreturn\u001b[39;00m \u001b[38;5;28mfrozenset\u001b[39m(\u001b[38;5;28mself\u001b[39m\u001b[38;5;241m.\u001b[39m_get_subclasses())\n",
      "File \u001b[0;32m~/dev/simphony_4_git/simphony-osp/simphony_osp/ontology/relationship.py:116\u001b[0m, in \u001b[0;36mOntologyRelationship._get_subclasses\u001b[0;34m(self)\u001b[0m\n\u001b[1;32m    113\u001b[0m \u001b[38;5;28;01myield\u001b[39;00m \u001b[38;5;28mself\u001b[39m\n\u001b[1;32m    115\u001b[0m \u001b[38;5;28;01mif\u001b[39;00m \u001b[38;5;28mself\u001b[39m\u001b[38;5;241m.\u001b[39midentifier \u001b[38;5;241m==\u001b[39m OWL\u001b[38;5;241m.\u001b[39mtopObjectProperty:\n\u001b[0;32m--> 116\u001b[0m     \u001b[38;5;28;01myield from\u001b[39;00m (\n\u001b[1;32m    117\u001b[0m         \u001b[38;5;28mself\u001b[39m\u001b[38;5;241m.\u001b[39msession\u001b[38;5;241m.\u001b[39mfrom_identifier_typed(\n\u001b[1;32m    118\u001b[0m             s, typing\u001b[38;5;241m=\u001b[39mOntologyRelationship\n\u001b[1;32m    119\u001b[0m         )\n\u001b[1;32m    120\u001b[0m         \u001b[38;5;28;01mfor\u001b[39;00m s \u001b[38;5;129;01min\u001b[39;00m \u001b[38;5;28mself\u001b[39m\u001b[38;5;241m.\u001b[39msession\u001b[38;5;241m.\u001b[39mgraph\u001b[38;5;241m.\u001b[39msubjects(\n\u001b[1;32m    121\u001b[0m             RDF\u001b[38;5;241m.\u001b[39mtype, OWL\u001b[38;5;241m.\u001b[39mObjectProperty\n\u001b[1;32m    122\u001b[0m         )\n\u001b[1;32m    123\u001b[0m     )\n\u001b[1;32m    124\u001b[0m \u001b[38;5;28;01melse\u001b[39;00m:\n\u001b[1;32m    126\u001b[0m     \u001b[38;5;28;01mdef\u001b[39;00m \u001b[38;5;21mclosure\u001b[39m(node, graph):\n",
      "File \u001b[0;32m~/dev/simphony_4_git/simphony-osp/simphony_osp/ontology/relationship.py:117\u001b[0m, in \u001b[0;36m<genexpr>\u001b[0;34m(.0)\u001b[0m\n\u001b[1;32m    113\u001b[0m \u001b[38;5;28;01myield\u001b[39;00m \u001b[38;5;28mself\u001b[39m\n\u001b[1;32m    115\u001b[0m \u001b[38;5;28;01mif\u001b[39;00m \u001b[38;5;28mself\u001b[39m\u001b[38;5;241m.\u001b[39midentifier \u001b[38;5;241m==\u001b[39m OWL\u001b[38;5;241m.\u001b[39mtopObjectProperty:\n\u001b[1;32m    116\u001b[0m     \u001b[38;5;28;01myield from\u001b[39;00m (\n\u001b[0;32m--> 117\u001b[0m         \u001b[38;5;28;43mself\u001b[39;49m\u001b[38;5;241;43m.\u001b[39;49m\u001b[43msession\u001b[49m\u001b[38;5;241;43m.\u001b[39;49m\u001b[43mfrom_identifier_typed\u001b[49m\u001b[43m(\u001b[49m\n\u001b[1;32m    118\u001b[0m \u001b[43m            \u001b[49m\u001b[43ms\u001b[49m\u001b[43m,\u001b[49m\u001b[43m \u001b[49m\u001b[43mtyping\u001b[49m\u001b[38;5;241;43m=\u001b[39;49m\u001b[43mOntologyRelationship\u001b[49m\n\u001b[1;32m    119\u001b[0m \u001b[43m        \u001b[49m\u001b[43m)\u001b[49m\n\u001b[1;32m    120\u001b[0m         \u001b[38;5;28;01mfor\u001b[39;00m s \u001b[38;5;129;01min\u001b[39;00m \u001b[38;5;28mself\u001b[39m\u001b[38;5;241m.\u001b[39msession\u001b[38;5;241m.\u001b[39mgraph\u001b[38;5;241m.\u001b[39msubjects(\n\u001b[1;32m    121\u001b[0m             RDF\u001b[38;5;241m.\u001b[39mtype, OWL\u001b[38;5;241m.\u001b[39mObjectProperty\n\u001b[1;32m    122\u001b[0m         )\n\u001b[1;32m    123\u001b[0m     )\n\u001b[1;32m    124\u001b[0m \u001b[38;5;28;01melse\u001b[39;00m:\n\u001b[1;32m    126\u001b[0m     \u001b[38;5;28;01mdef\u001b[39;00m \u001b[38;5;21mclosure\u001b[39m(node, graph):\n",
      "File \u001b[0;32m~/dev/simphony_4_git/simphony-osp/simphony_osp/session/session.py:1353\u001b[0m, in \u001b[0;36mSession.from_identifier_typed\u001b[0;34m(self, identifier, typing)\u001b[0m\n\u001b[1;32m   1337\u001b[0m \u001b[38;5;28;01mdef\u001b[39;00m \u001b[38;5;21mfrom_identifier_typed\u001b[39m(\n\u001b[1;32m   1338\u001b[0m     \u001b[38;5;28mself\u001b[39m, identifier: Node, typing: Type[ENTITY]\n\u001b[1;32m   1339\u001b[0m ) \u001b[38;5;241m-\u001b[39m\u001b[38;5;241m>\u001b[39m ENTITY:\n\u001b[1;32m   1340\u001b[0m \u001b[38;5;250m    \u001b[39m\u001b[38;5;124;03m\"\"\"Get an ontology entity from its identifier, enforcing a type check.\u001b[39;00m\n\u001b[1;32m   1341\u001b[0m \n\u001b[1;32m   1342\u001b[0m \u001b[38;5;124;03m    Args:\u001b[39;00m\n\u001b[0;32m   (...)\u001b[0m\n\u001b[1;32m   1351\u001b[0m \u001b[38;5;124;03m        The OntologyEntity.\u001b[39;00m\n\u001b[1;32m   1352\u001b[0m \u001b[38;5;124;03m    \"\"\"\u001b[39;00m\n\u001b[0;32m-> 1353\u001b[0m     entity \u001b[38;5;241m=\u001b[39m \u001b[38;5;28;43mself\u001b[39;49m\u001b[38;5;241;43m.\u001b[39;49m\u001b[43mfrom_identifier\u001b[49m\u001b[43m(\u001b[49m\u001b[43midentifier\u001b[49m\u001b[43m)\u001b[49m\n\u001b[1;32m   1354\u001b[0m     \u001b[38;5;28;01mif\u001b[39;00m \u001b[38;5;129;01mnot\u001b[39;00m \u001b[38;5;28misinstance\u001b[39m(entity, typing):\n\u001b[1;32m   1355\u001b[0m         \u001b[38;5;28;01mraise\u001b[39;00m \u001b[38;5;167;01mTypeError\u001b[39;00m(\u001b[38;5;124mf\u001b[39m\u001b[38;5;124m\"\u001b[39m\u001b[38;5;132;01m{\u001b[39;00midentifier\u001b[38;5;132;01m}\u001b[39;00m\u001b[38;5;124m is not of class \u001b[39m\u001b[38;5;132;01m{\u001b[39;00mtyping\u001b[38;5;132;01m}\u001b[39;00m\u001b[38;5;124m.\u001b[39m\u001b[38;5;124m\"\u001b[39m)\n",
      "File \u001b[0;32m~/dev/simphony_4_git/simphony-osp/simphony_osp/utils/cache.py:30\u001b[0m, in \u001b[0;36mlru_cache_weak.<locals>.decorator.<locals>.wrapper\u001b[0;34m(self, *args, **kwargs)\u001b[0m\n\u001b[1;32m     28\u001b[0m \u001b[38;5;129m@wraps\u001b[39m(func)\n\u001b[1;32m     29\u001b[0m \u001b[38;5;28;01mdef\u001b[39;00m \u001b[38;5;21mwrapper\u001b[39m(\u001b[38;5;28mself\u001b[39m, \u001b[38;5;241m*\u001b[39margs, \u001b[38;5;241m*\u001b[39m\u001b[38;5;241m*\u001b[39mkwargs):\n\u001b[0;32m---> 30\u001b[0m     \u001b[38;5;28;01mreturn\u001b[39;00m \u001b[43m_cached\u001b[49m\u001b[43m(\u001b[49m\u001b[43mref\u001b[49m\u001b[43m(\u001b[49m\u001b[38;5;28;43mself\u001b[39;49m\u001b[43m)\u001b[49m\u001b[43m,\u001b[49m\u001b[43m \u001b[49m\u001b[38;5;241;43m*\u001b[39;49m\u001b[43margs\u001b[49m\u001b[43m,\u001b[49m\u001b[43m \u001b[49m\u001b[38;5;241;43m*\u001b[39;49m\u001b[38;5;241;43m*\u001b[39;49m\u001b[43mkwargs\u001b[49m\u001b[43m)\u001b[49m\n",
      "File \u001b[0;32m~/dev/simphony_4_git/simphony-osp/simphony_osp/utils/cache.py:26\u001b[0m, in \u001b[0;36mlru_cache_weak.<locals>.decorator.<locals>._cached\u001b[0;34m(_self_weak_ref, *args, **kwargs)\u001b[0m\n\u001b[1;32m     24\u001b[0m \u001b[38;5;129m@lru_cache\u001b[39m(maxsize\u001b[38;5;241m=\u001b[39mmaxsize, typed\u001b[38;5;241m=\u001b[39mtyped)\n\u001b[1;32m     25\u001b[0m \u001b[38;5;28;01mdef\u001b[39;00m \u001b[38;5;21m_cached\u001b[39m(_self_weak_ref, \u001b[38;5;241m*\u001b[39margs, \u001b[38;5;241m*\u001b[39m\u001b[38;5;241m*\u001b[39mkwargs):\n\u001b[0;32m---> 26\u001b[0m     \u001b[38;5;28;01mreturn\u001b[39;00m \u001b[43mfunc\u001b[49m\u001b[43m(\u001b[49m\u001b[43m_self_weak_ref\u001b[49m\u001b[43m(\u001b[49m\u001b[43m)\u001b[49m\u001b[43m,\u001b[49m\u001b[43m \u001b[49m\u001b[38;5;241;43m*\u001b[39;49m\u001b[43margs\u001b[49m\u001b[43m,\u001b[49m\u001b[43m \u001b[49m\u001b[38;5;241;43m*\u001b[39;49m\u001b[38;5;241;43m*\u001b[39;49m\u001b[43mkwargs\u001b[49m\u001b[43m)\u001b[49m\n",
      "File \u001b[0;32m~/dev/simphony_4_git/simphony-osp/simphony_osp/session/session.py:1321\u001b[0m, in \u001b[0;36mSession.from_identifier\u001b[0;34m(self, identifier)\u001b[0m\n\u001b[1;32m   1319\u001b[0m \u001b[38;5;250m\u001b[39m\u001b[38;5;124;03m\"\"\"Finally return the single compatible class or raise an exception.\"\"\"\u001b[39;00m\n\u001b[1;32m   1320\u001b[0m \u001b[38;5;28;01mif\u001b[39;00m \u001b[38;5;28mlen\u001b[39m(compatible) \u001b[38;5;241m>\u001b[39m\u001b[38;5;241m=\u001b[39m \u001b[38;5;241m2\u001b[39m:\n\u001b[0;32m-> 1321\u001b[0m     \u001b[38;5;28;01mraise\u001b[39;00m \u001b[38;5;167;01mRuntimeError\u001b[39;00m(\n\u001b[1;32m   1322\u001b[0m         \u001b[38;5;124mf\u001b[39m\u001b[38;5;124m\"\u001b[39m\u001b[38;5;124mTwo or more python classes (\u001b[39m\u001b[38;5;124m\"\u001b[39m\n\u001b[1;32m   1323\u001b[0m         \u001b[38;5;124mf\u001b[39m\u001b[38;5;124m\"\u001b[39m\u001b[38;5;132;01m{\u001b[39;00m\u001b[38;5;124m'\u001b[39m\u001b[38;5;124m, \u001b[39m\u001b[38;5;124m'\u001b[39m\u001b[38;5;241m.\u001b[39mjoin(\u001b[38;5;28mmap\u001b[39m(\u001b[38;5;28mstr\u001b[39m,\u001b[38;5;250m \u001b[39mcompatible))\u001b[38;5;132;01m}\u001b[39;00m\u001b[38;5;124m) \u001b[39m\u001b[38;5;124m\"\u001b[39m\n\u001b[1;32m   1324\u001b[0m         \u001b[38;5;124mf\u001b[39m\u001b[38;5;124m\"\u001b[39m\u001b[38;5;124mcould be spawned from \u001b[39m\u001b[38;5;132;01m{\u001b[39;00midentifier\u001b[38;5;132;01m}\u001b[39;00m\u001b[38;5;124m.\u001b[39m\u001b[38;5;124m\"\u001b[39m\n\u001b[1;32m   1325\u001b[0m     )\n\u001b[1;32m   1326\u001b[0m \u001b[38;5;28;01mtry\u001b[39;00m:\n\u001b[1;32m   1327\u001b[0m     python_class \u001b[38;5;241m=\u001b[39m compatible\u001b[38;5;241m.\u001b[39mpop()\n",
      "\u001b[0;31mRuntimeError\u001b[0m: Two or more python classes (<class 'simphony_osp.ontology.relationship.OntologyRelationship'>, <class 'simphony_osp.ontology.attribute.OntologyAttribute'>) could be spawned from http://xmlns.com/foaf/0.1/homepage."
     ]
    }
   ],
   "source": [
    "for i in session:\n",
    "    pretty_print(i)"
   ]
  },
  {
   "cell_type": "code",
   "execution_count": 35,
   "id": "ab5af147",
   "metadata": {},
   "outputs": [
    {
     "data": {
      "text/plain": [
       "rdflib.term.URIRef('https://www.simphony-osp.eu/city#Citizen')"
      ]
     },
     "execution_count": 35,
     "metadata": {},
     "output_type": "execute_result"
    }
   ],
   "source": [
    "city.Citizen.identifier"
   ]
  },
  {
   "cell_type": "code",
   "execution_count": 36,
   "id": "e225315e",
   "metadata": {},
   "outputs": [
    {
     "data": {
      "text/plain": [
       "<bound method OntologyEntity.is_subclass_of of <OntologyClass: Floor https://www.simphony-osp.eu/city#Floor>>"
      ]
     },
     "execution_count": 36,
     "metadata": {},
     "output_type": "execute_result"
    }
   ],
   "source": [
    "city['Floor'].is_subclass_of"
   ]
  },
  {
   "cell_type": "code",
   "execution_count": 37,
   "id": "5679ba8b",
   "metadata": {},
   "outputs": [
    {
     "name": "stdout",
     "output_type": "stream",
     "text": [
      "Query without ontology: 0 results\n",
      "Query with ontology: 5 results\n",
      "(<OntologyIndividual: 5999086e-eabc-41b1-9017-7a6d3e0be4c9>, 'Nikola', 35)\n",
      "(<OntologyIndividual: 0012cf9f-11e6-48d9-83e6-6f6a0bbb4c09>, 'Lena', 70)\n",
      "(<OntologyIndividual: http://example.org/entities#Nikola>, 'Nikola', 35)\n",
      "(<OntologyIndividual: http://example.org/entities#Lena>, 'Lena', 70)\n",
      "(<OntologyIndividual: f6a4b2e6-f8d1-4a20-8395-9df8f1131c1c>, 'François', 32)\n"
     ]
    }
   ],
   "source": [
    "result = search.sparql(\n",
    "    f\"\"\"SELECT ?person ?name ?age WHERE {{\n",
    "        ?person rdf:type/rdfs:subClassOf <{city.Person.identifier}> .\n",
    "        ?person <{city['name'].identifier}> ?name .\n",
    "        ?person <{city.age.identifier}> ?age .\n",
    "    }}\n",
    "    \"\"\",\n",
    "    ontology=False\n",
    ")\n",
    "\n",
    "print(\"Query without ontology:\", len(result), \"results\")\n",
    "\n",
    "result = search.sparql(\n",
    "    f\"\"\"SELECT ?person ?name ?age WHERE {{\n",
    "        ?person rdf:type <{city.Citizen.identifier}> .\n",
    "        ?person <{city['name'].identifier}> ?name .\n",
    "        ?person <{city.age.identifier}> ?age .\n",
    "    }}\n",
    "    \"\"\",\n",
    "    ontology=True\n",
    ")\n",
    "\n",
    "print(\"Query with ontology:\", len(result), \"results\")\n",
    "\n",
    "for row in result(person=OntologyIndividual, name=str, age=int):\n",
    "    print(row)"
   ]
  },
  {
   "cell_type": "code",
   "execution_count": 38,
   "id": "6fef4db3",
   "metadata": {},
   "outputs": [],
   "source": [
    "export_file(core_session, file='./core_session_data.ttl', format='turtle')\n"
   ]
  },
  {
   "cell_type": "code",
   "execution_count": null,
   "id": "28d07827",
   "metadata": {},
   "outputs": [],
   "source": []
  },
  {
   "cell_type": "code",
   "execution_count": null,
   "id": "bcf86d31",
   "metadata": {},
   "outputs": [],
   "source": []
  },
  {
   "cell_type": "code",
   "execution_count": null,
   "id": "e871d1f9",
   "metadata": {},
   "outputs": [],
   "source": []
  }
 ],
 "metadata": {
  "kernelspec": {
   "display_name": "simphony_4",
   "language": "python",
   "name": "simphony_4"
  },
  "language_info": {
   "codemirror_mode": {
    "name": "ipython",
    "version": 3
   },
   "file_extension": ".py",
   "mimetype": "text/x-python",
   "name": "python",
   "nbconvert_exporter": "python",
   "pygments_lexer": "ipython3",
   "version": "3.11.3"
  }
 },
 "nbformat": 4,
 "nbformat_minor": 5
}
