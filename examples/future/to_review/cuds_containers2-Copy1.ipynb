{
 "cells": [
  {
   "cell_type": "code",
   "execution_count": 1,
   "id": "c459e742",
   "metadata": {},
   "outputs": [],
   "source": [
    "from simphony_osp.namespaces import city, rdfschema, dcoretbox, simphony\n",
    "from simphony_osp.namespaces import owl,foaf, emmo, domeo, dcterms, evmpo, eurosci, iof\n",
    "from simphony_osp.namespaces import http_method\n",
    "\n",
    "from simphony_osp.tools import semantic2dot, pretty_print\n",
    "from simphony_osp.tools import search,  export_file, import_file, pretty_print, search\n",
    "from simphony_osp.tools.search import sparql\n",
    "\n",
    "from simphony_osp.ontology import RESTRICTION_QUANTIFIER, RESTRICTION_TYPE, OntologyIndividual\n",
    "from simphony_osp.ontology import COMPOSITION_OPERATOR, Composition, Restriction\n",
    "\n",
    "from simphony_osp.ontology.relationship import OntologyRelationship\n",
    "from simphony_osp.ontology.annotation import OntologyAnnotation\n",
    "\n",
    "from simphony_osp.session import Session, core_session\n"
   ]
  },
  {
   "cell_type": "markdown",
   "id": "01fe10ab",
   "metadata": {},
   "source": [
    "# Purpose\n",
    "Test a container with as realistic as possible ontology. \n",
    "we start by creating a domeo ontology, which is emmo + eco system one, + dataset. Teh dataset ontology becomes simply a container which defines a donme_data_Set container and says exactly what should be in it. It will be a CUDS subclass. CUDS are containers all the way. \n",
    "\n",
    "- [ ] Get emmo inferred loaded into the domeo with all the other needed packages. \n",
    "- [X] Test if in simphony we can mix s, p, o from three different ontologies!\n"
   ]
  },
  {
   "cell_type": "code",
   "execution_count": 2,
   "id": "dec18578",
   "metadata": {},
   "outputs": [
    {
     "data": {
      "text/plain": [
       "<OntologyRelationship: contains https://www.simphony-osp.eu/simphony#contains>"
      ]
     },
     "execution_count": 2,
     "metadata": {},
     "output_type": "execute_result"
    }
   ],
   "source": [
    "simphony.contains"
   ]
  },
  {
   "cell_type": "code",
   "execution_count": 3,
   "id": "43176253",
   "metadata": {},
   "outputs": [],
   "source": [
    "a=dcoretbox.Action()"
   ]
  },
  {
   "cell_type": "code",
   "execution_count": 4,
   "id": "7858ddb9",
   "metadata": {},
   "outputs": [
    {
     "data": {
      "text/plain": [
       "<OntologyIndividual:  e25925e8-57f9-414f-a1f5-47d87d253fdb>"
      ]
     },
     "execution_count": 4,
     "metadata": {},
     "output_type": "execute_result"
    }
   ],
   "source": [
    "a"
   ]
  },
  {
   "cell_type": "code",
   "execution_count": 5,
   "id": "376c9a94",
   "metadata": {},
   "outputs": [
    {
     "name": "stdout",
     "output_type": "stream",
     "text": [
      "- Ontology individual named :\n",
      "  identifier: e25925e8-57f9-414f-a1f5-47d87d253fdb\n",
      "  type: Action (dcoretbox )\n",
      "  superclasses: Action (dcoretbox ), process (evmpo ), paradigmatic_entity (evmpo ), marketplace_related_entity (evmpo ), immanent_entity (evmpo ), Thing (owl )\n"
     ]
    }
   ],
   "source": [
    "pretty_print(a)"
   ]
  },
  {
   "cell_type": "code",
   "execution_count": 6,
   "id": "f1ad1004",
   "metadata": {},
   "outputs": [],
   "source": [
    "b=evmpo.paradigmatic_entity(iri='https://evmpo.eu/paradigmatic_entity1')"
   ]
  },
  {
   "cell_type": "code",
   "execution_count": 7,
   "id": "6f790844",
   "metadata": {
    "scrolled": false
   },
   "outputs": [
    {
     "name": "stdout",
     "output_type": "stream",
     "text": [
      "- Ontology individual named :\n",
      "  identifier: https://evmpo.eu/paradigmatic_entity1\n",
      "  type: paradigmatic_entity (evmpo )\n",
      "  superclasses: paradigmatic_entity (evmpo ), marketplace_related_entity (evmpo ), immanent_entity (evmpo ), Thing (owl )\n"
     ]
    }
   ],
   "source": [
    "pretty_print(b)"
   ]
  },
  {
   "cell_type": "code",
   "execution_count": 8,
   "id": "f67e8e45",
   "metadata": {},
   "outputs": [],
   "source": [
    "#semantic2dot(core_session)"
   ]
  },
  {
   "cell_type": "code",
   "execution_count": 9,
   "id": "7be8c864",
   "metadata": {},
   "outputs": [
    {
     "data": {
      "text/plain": [
       "'/Users/adham/dev/new/osp-core/examples/ucl'"
      ]
     },
     "execution_count": 9,
     "metadata": {},
     "output_type": "execute_result"
    }
   ],
   "source": [
    "pwd"
   ]
  },
  {
   "cell_type": "code",
   "execution_count": 10,
   "id": "75f4538f",
   "metadata": {},
   "outputs": [
    {
     "data": {
      "text/plain": [
       "<OntologyClass: Vector http://emmo.info/emmodome#EMMO_06658d8d_dcde_4fc9_aae1_17f71c0bcdec>"
      ]
     },
     "execution_count": 10,
     "metadata": {},
     "output_type": "execute_result"
    }
   ],
   "source": [
    "emmo.Vector"
   ]
  },
  {
   "cell_type": "code",
   "execution_count": 11,
   "id": "3ff20777",
   "metadata": {},
   "outputs": [
    {
     "name": "stdout",
     "output_type": "stream",
     "text": [
      "- Ontology class named Vector:\n",
      "  identifier: http://emmo.info/emmodome#EMMO_06658d8d_dcde_4fc9_aae1_17f71c0bcdec\n",
      "  superclasses: Vector (emmo ), MathematicalConstruct (emmo ), Mathematical (emmo ), Language (emmo ), Symbolic (emmo ), DiscreteData (emmo ), EncodedData (emmo ), Data (emmo ), Perspective (emmo ), CausalStructure (emmo ), Item (emmo ), EMMO (emmo ), CUDS (domeo ), SymbolicConstruct (emmo ), Array (emmo ), SpatioTemporalTessellation (emmo ), Tessellation (emmo ), Reductionistic (emmo ), Thing (owl )\n"
     ]
    }
   ],
   "source": [
    "pretty_print(emmo.Vector)"
   ]
  },
  {
   "cell_type": "code",
   "execution_count": 12,
   "id": "3c539d6b",
   "metadata": {},
   "outputs": [],
   "source": [
    "import yaml\n",
    "\n"
   ]
  },
  {
   "cell_type": "code",
   "execution_count": 13,
   "id": "03eb1c0c",
   "metadata": {},
   "outputs": [],
   "source": [
    "doc=\"\"\"\n",
    "---\n",
    "data:\n",
    "    kpoints:\n",
    "    - 6\n",
    "    - 6\n",
    "    - 6\n",
    "steps:\n",
    "- calcjob: quantumespresso.pw\n",
    "  inputs:\n",
    "    kpoints:\n",
    "        \"$ref\": \"#/data/kpoints\"\n",
    "\"\"\"\n"
   ]
  },
  {
   "cell_type": "code",
   "execution_count": 14,
   "id": "b01f30da",
   "metadata": {},
   "outputs": [
    {
     "name": "stdout",
     "output_type": "stream",
     "text": [
      "\n",
      "---\n",
      "data:\n",
      "    kpoints:\n",
      "    - 6\n",
      "    - 6\n",
      "    - 6\n",
      "steps:\n",
      "- calcjob: quantumespresso.pw\n",
      "  inputs:\n",
      "    kpoints:\n",
      "        \"$ref\": \"#/data/kpoints\"\n",
      "\n"
     ]
    }
   ],
   "source": [
    "print(doc)\n"
   ]
  },
  {
   "cell_type": "code",
   "execution_count": 15,
   "id": "d75f641e",
   "metadata": {},
   "outputs": [],
   "source": [
    "data = yaml.load(doc, Loader=yaml.Loader)\n"
   ]
  },
  {
   "cell_type": "code",
   "execution_count": 16,
   "id": "e4692858",
   "metadata": {},
   "outputs": [
    {
     "name": "stdout",
     "output_type": "stream",
     "text": [
      "{'data': {'kpoints': [6, 6, 6]}, 'steps': [{'calcjob': 'quantumespresso.pw', 'inputs': {'kpoints': {'$ref': '#/data/kpoints'}}}]}\n"
     ]
    }
   ],
   "source": [
    "print(data)"
   ]
  },
  {
   "cell_type": "code",
   "execution_count": 17,
   "id": "20b5ca58",
   "metadata": {},
   "outputs": [],
   "source": [
    "d=data\n"
   ]
  },
  {
   "cell_type": "code",
   "execution_count": 18,
   "id": "ff5bc157",
   "metadata": {},
   "outputs": [
    {
     "data": {
      "text/plain": [
       "{'kpoints': [6, 6, 6]}"
      ]
     },
     "execution_count": 18,
     "metadata": {},
     "output_type": "execute_result"
    }
   ],
   "source": [
    "d['data']"
   ]
  },
  {
   "cell_type": "code",
   "execution_count": 19,
   "id": "f393d2d4",
   "metadata": {},
   "outputs": [
    {
     "data": {
      "text/plain": [
       "6"
      ]
     },
     "execution_count": 19,
     "metadata": {},
     "output_type": "execute_result"
    }
   ],
   "source": [
    "d['data']['kpoints'][0]"
   ]
  },
  {
   "cell_type": "code",
   "execution_count": 20,
   "id": "ccb9e7aa",
   "metadata": {},
   "outputs": [
    {
     "data": {
      "text/plain": [
       "{'calcjob': 'quantumespresso.pw',\n",
       " 'inputs': {'kpoints': {'$ref': '#/data/kpoints'}}}"
      ]
     },
     "execution_count": 20,
     "metadata": {},
     "output_type": "execute_result"
    }
   ],
   "source": [
    "d['steps'][0]\n"
   ]
  },
  {
   "cell_type": "code",
   "execution_count": 21,
   "id": "d7ecf167",
   "metadata": {
    "scrolled": true
   },
   "outputs": [
    {
     "data": {
      "text/plain": [
       "'quantumespresso.pw'"
      ]
     },
     "execution_count": 21,
     "metadata": {},
     "output_type": "execute_result"
    }
   ],
   "source": [
    "d['steps'][0]['calcjob']"
   ]
  },
  {
   "cell_type": "code",
   "execution_count": 22,
   "id": "6d2e8d9e",
   "metadata": {},
   "outputs": [
    {
     "data": {
      "text/plain": [
       "{'$ref': '#/data/kpoints'}"
      ]
     },
     "execution_count": 22,
     "metadata": {},
     "output_type": "execute_result"
    }
   ],
   "source": [
    "d['steps'][0]['inputs']['kpoints']"
   ]
  },
  {
   "cell_type": "code",
   "execution_count": 23,
   "id": "39027dec",
   "metadata": {},
   "outputs": [
    {
     "data": {
      "text/plain": [
       "{<OntologyIndividual: AiiDA export file https://dome40.eu/semantics/dome4.0_core#AIIDA_FORMAT>,\n",
       " <OntologyIndividual: CAS Number https://dome40.eu/semantics/dome4.0_core#CAS_NUMBER>,\n",
       " <OntologyIndividual: CHEMEO https://dome40.eu/semantics/scenario/platforms#CHEMEO>,\n",
       " <OntologyIndividual: CONSUMER https://dome40.eu/semantics/dome4.0_core#CONSUMER>,\n",
       " <OntologyIndividual: CRYSTALLOGRAPHY https://dome40.eu/semantics/scenario/platforms#CRYSTALLOGRAPHY>,\n",
       " <OntologyIndividual: Cartography https://dome40.eu/semantics/dome4.0_core#CARTOGRAPHY>,\n",
       " <OntologyIndividual: Comma-separated Values (CSV) https://dome40.eu/semantics/dome4.0_core#CSV>,\n",
       " <OntologyIndividual: Compare https://dome40.eu/semantics/dome4.0_core#COMPARE>,\n",
       " <OntologyIndividual: Crystallographic Information Framework (CIF) - Model and format https://dome40.eu/semantics/dome4.0_core#CIF>,\n",
       " <OntologyIndividual: DATA_ON_DEMAND_PROVIDER https://dome40.eu/semantics/dome4.0_core#DATA_ON_DEMAND_PROVIDER>,\n",
       " <OntologyIndividual: DATA_PROVIDER https://dome40.eu/semantics/dome4.0_core#DATA_PROVIDER>,\n",
       " <OntologyIndividual: DOME 4.0 Consortium https://dome40.eu/semantics/scenario/platforms#DOME4.0_CONSORTIUM>,\n",
       " <OntologyIndividual: DOME4.0 https://dome40.eu/semantics/scenario/platforms#DOME4.0>,\n",
       " <OntologyIndividual: Download https://dome40.eu/semantics/dome4.0_core#DOWNLOAD>,\n",
       " <OntologyIndividual: EC Number https://dome40.eu/semantics/dome4.0_core#EC_NUMBER>,\n",
       " <OntologyIndividual: EXAMPLE_DOME_FLAT_SUBSCRIPTION_CHEMEO_MATERIALSPROJECT https://dome40.eu/semantics/scenario/platforms#EXAMPLE_DOME_FLAT_SUBSCRIPTION_CHEMEO_MATERIALSPROJECT>,\n",
       " <OntologyIndividual: EXAMPLE_DOME_SUBSCRIPTION_BY_USAGE_CHEMEO_MATERIALSPROJECT https://dome40.eu/semantics/scenario/platforms#EXAMPLE_DOME_SUBSCRIPTION_BY_USAGE_CHEMEO_MATERIALSPROJECT>,\n",
       " <OntologyIndividual: Engineering and technology https://dome40.eu/semantics/dome4.0_core#ENGINEERING_AND_TECHNOLOGY>,\n",
       " <OntologyIndividual: Equipment https://dome40.eu/semantics/dome4.0_core#EQUIPMENT>,\n",
       " <OntologyIndividual: Evaluate FAIRness https://dome40.eu/semantics/dome4.0_core#EVALUATE_FAIRNESS>,\n",
       " <OntologyIndividual: Experimental Data https://dome40.eu/semantics/dome4.0_core#EXPERIMENTAL_DATA>,\n",
       " <OntologyIndividual: Extract https://dome40.eu/semantics/dome4.0_core#EXTRACT>,\n",
       " <OntologyIndividual: Geographic Tagged Image File Format (GeoTIFF) https://dome40.eu/semantics/dome4.0_core#GEOTIFF>,\n",
       " <OntologyIndividual: IDS (International Data Space) API specification https://dome40.eu/semantics/dome4.0_core#IDS_API_SPECIFICATION>,\n",
       " <OntologyIndividual: INTERACTIVE_APP_PROVIDER https://dome40.eu/semantics/dome4.0_core#INTERACTIVE_APP_PROVIDER>,\n",
       " <OntologyIndividual: IUPAC InChi https://dome40.eu/semantics/dome4.0_core#IUPAC_INCHI>,\n",
       " <OntologyIndividual: JavaScript Object Notation (JSON) https://dome40.eu/semantics/dome4.0_core#JSON>,\n",
       " <OntologyIndividual: JavaScript Object Notation for Linking Data (JSON-LD) https://dome40.eu/semantics/dome4.0_core#JSON-LD>,\n",
       " <OntologyIndividual: Joint Photographic Experts Group Format (JPEG) https://dome40.eu/semantics/dome4.0_core#JPEG>,\n",
       " <OntologyIndividual: List of API spefications https://dome40.eu/semantics/dome4.0_core#LIST_OF_STANDARD_API_SPECIFICATIONS>,\n",
       " <OntologyIndividual: List of data actions https://dome40.eu/semantics/dome4.0_core#LIST_OF_DATA_ACTIONS>,\n",
       " <OntologyIndividual: List of file formats https://dome40.eu/semantics/dome4.0_core#LIST_OF_FILE_FORMATS>,\n",
       " <OntologyIndividual: List of product types (i.e., the types found on DOME 4.0) https://dome40.eu/semantics/dome4.0_core#LIST_OF_PRODUCT_TYPES>,\n",
       " <OntologyIndividual: List of search actions https://dome40.eu/semantics/dome4.0_core#LIST_OF_SEARCH_ACTIONS>,\n",
       " <OntologyIndividual: List of topics https://dome40.eu/semantics/dome4.0_core#LIST_OF_TOPICS>,\n",
       " <OntologyIndividual: List of widely used standard identifiers for the materials and manufacturing domain. https://dome40.eu/semantics/dome4.0_core#LIST_OF_STANDARD_IDENTIFIERS>,\n",
       " <OntologyIndividual: MARKET4.0 https://dome40.eu/semantics/scenario/platforms#MARKET4.0>,\n",
       " <OntologyIndividual: MATERIALSPROJECT https://dome40.eu/semantics/scenario/platforms#MATERIALSPROJECT>,\n",
       " <OntologyIndividual: Material Property https://dome40.eu/semantics/dome4.0_core#MATERIAL_PROPERTY>,\n",
       " <OntologyIndividual: Medical and health sciences https://dome40.eu/semantics/dome4.0_core#MEDICAL_AND_HEALTH_SCIENCES>,\n",
       " <OntologyIndividual: Meteorology https://dome40.eu/semantics/dome4.0_core#METEOROLOGY>,\n",
       " <OntologyIndividual: Microsoft Excel format (XLSX) https://dome40.eu/semantics/dome4.0_core#XLSX>,\n",
       " <OntologyIndividual: Modelling Data https://dome40.eu/semantics/dome4.0_core#MODELLING_DATA>,\n",
       " <OntologyIndividual: NOMAD https://dome40.eu/semantics/scenario/platforms#NOMAD>,\n",
       " <OntologyIndividual: Natural sciences https://dome40.eu/semantics/dome4.0_core#NATURAL_SCIENCES>,\n",
       " <OntologyIndividual: Navigation systems https://dome40.eu/semantics/dome4.0_core#NAVIGATION_SYSTEMS>,\n",
       " <OntologyIndividual: OPEN_DATABASE_XTALS https://dome40.eu/semantics/scenario/platforms#OPEN_DATABASE_XTALS>,\n",
       " <OntologyIndividual: OPTIMADE API specification https://dome40.eu/semantics/dome4.0_core#OPTIMADE_API_SPECIFICATION>,\n",
       " <OntologyIndividual: Observational Data https://dome40.eu/semantics/dome4.0_core#OBSERVATIONAL_DATA>,\n",
       " <OntologyIndividual: POPULATE_TEST_PLATFORM_OPERATION https://dome40.eu/semantics/scenario/platforms#POPULATE_TEST_PLATFORM_OPERATION>,\n",
       " <OntologyIndividual: POPULATE_TEST_PLATFORM_SERVICE https://dome40.eu/semantics/scenario/platforms#POPULATE_TEST_PLATFORM_SERVICE>,\n",
       " <OntologyIndividual: PUBCHEM https://dome40.eu/semantics/scenario/platforms#PUBCHEM>,\n",
       " <OntologyIndividual: Patent https://dome40.eu/semantics/dome4.0_core#PATENT>,\n",
       " <OntologyIndividual: Portable Network Graphics (PNG) https://dome40.eu/semantics/dome4.0_core#PNG>,\n",
       " <OntologyIndividual: Portable document format (PDF) https://dome40.eu/semantics/dome4.0_core#PDF>,\n",
       " <OntologyIndividual: Preview https://dome40.eu/semantics/dome4.0_core#PREVIEW>,\n",
       " <OntologyIndividual: Publication https://dome40.eu/semantics/dome4.0_core#PUBLICATION>,\n",
       " <OntologyIndividual: RDF/XML https://dome40.eu/semantics/dome4.0_core#RDF_XML>,\n",
       " <OntologyIndividual: RETRIEVE_FROM_TEST_PLATFORM_OPERATION https://dome40.eu/semantics/scenario/platforms#RETRIEVE_FROM_TEST_PLATFORM_OPERATION>,\n",
       " <OntologyIndividual: RETRIEVE_FROM_TEST_PLATFORM_SERVICE https://dome40.eu/semantics/scenario/platforms#RETRIEVE_FROM_TEST_PLATFORM_SERVICE>,\n",
       " <OntologyIndividual: Raw Material https://dome40.eu/semantics/dome4.0_core#RAW_MATERIAL>,\n",
       " <OntologyIndividual: Resource Description Framework (RDF) https://dome40.eu/semantics/dome4.0_core#RDF>,\n",
       " <OntologyIndividual: SMILES https://dome40.eu/semantics/dome4.0_core#SMILES>,\n",
       " <OntologyIndividual: Sea vessels https://dome40.eu/semantics/dome4.0_core#SEA_VESSELS>,\n",
       " <OntologyIndividual: Search by exact string match https://dome40.eu/semantics/dome4.0_core#SEARCH_BY_EXACT_STRING_MATCH>,\n",
       " <OntologyIndividual: Search with filter https://dome40.eu/semantics/dome4.0_core#SEARCH_WITH_FILTER>,\n",
       " <OntologyIndividual: Search with logical operator https://dome40.eu/semantics/dome4.0_core#SEARCH_WITH_LOGICAL_OPERATOR>,\n",
       " <OntologyIndividual: Search with wild card https://dome40.eu/semantics/dome4.0_core#SEARCH_WITH_WILD_CARD>,\n",
       " <OntologyIndividual: Simulate https://dome40.eu/semantics/dome4.0_core#SIMULATE>,\n",
       " <OntologyIndividual: Software https://dome40.eu/semantics/dome4.0_core#SOFTWARE>,\n",
       " <OntologyIndividual: Standard for the Exchange of Product (STEP) Data https://dome40.eu/semantics/dome4.0_core#STEP>,\n",
       " <OntologyIndividual: TEST_CATALOG https://dome40.eu/semantics/scenario/platforms#TEST_CATALOG>,\n",
       " <OntologyIndividual: TEST_PLATFORM https://dome40.eu/semantics/scenario/platforms#TEST_PLATFORM>,\n",
       " <OntologyIndividual: THEORETICAL_CRYSTALLOGRAPHY_OPEN_DATABASE https://dome40.eu/semantics/scenario/platforms#THEORETICAL_CRYSTALLOGRAPHY_OPEN_DATABASE>,\n",
       " <OntologyIndividual: THE_OPEN_QUANTUM_MATERIALS https://dome40.eu/semantics/scenario/platforms#THE_OPEN_QUANTUM_MATERIALS>,\n",
       " <OntologyIndividual: TUNNEL_WITH_TEST_PLATFORM_SERVICE https://dome40.eu/semantics/scenario/platforms#TUNNEL_WITH_TEST_PLATFORM_SERVICE>,\n",
       " <OntologyIndividual: Terse RDF Triple Language (Turtle or TTL) https://dome40.eu/semantics/dome4.0_core#TTL>,\n",
       " <OntologyIndividual: Topography https://dome40.eu/semantics/dome4.0_core#TOPOGRAPHY>,\n",
       " <OntologyIndividual: Transform https://dome40.eu/semantics/dome4.0_core#TRANSFORM>,\n",
       " <OntologyIndividual: Update https://dome40.eu/semantics/dome4.0_core#UPDATE>,\n",
       " <OntologyIndividual: Upload https://dome40.eu/semantics/dome4.0_core#UPLOAD>,\n",
       " <OntologyIndividual: View https://dome40.eu/semantics/dome4.0_core#VIEW>,\n",
       " <OntologyIndividual: Web Ontology Language (OWL) - Model and format https://dome40.eu/semantics/dome4.0_core#OWL>,\n",
       " <OntologyIndividual: XYZ atomistic data https://dome40.eu/semantics/dome4.0_core#XYZ>}"
      ]
     },
     "execution_count": 23,
     "metadata": {},
     "output_type": "execute_result"
    }
   ],
   "source": [
    "import_file('/Users/adham/dev/new/dome/Ontology-matters/dome4.0_core_abox.ttl', all_triples=True)\n",
    "#import_file('/Users/adham/dev/new/dome/Ontology-matters/dome4.0_core_abox.ttl')"
   ]
  },
  {
   "cell_type": "code",
   "execution_count": 24,
   "id": "a77772f1",
   "metadata": {},
   "outputs": [],
   "source": [
    "amine=eurosci.Amine"
   ]
  },
  {
   "cell_type": "code",
   "execution_count": 25,
   "id": "ce1305b4",
   "metadata": {},
   "outputs": [
    {
     "data": {
      "text/plain": [
       "<OntologyIndividual: amines http://data.europa.eu/8mn/euroscivoc/8652ea02-86fe-4fbe-9feb-baba1931157e>"
      ]
     },
     "execution_count": 25,
     "metadata": {},
     "output_type": "execute_result"
    }
   ],
   "source": [
    "amine"
   ]
  },
  {
   "cell_type": "code",
   "execution_count": 26,
   "id": "bc005db5",
   "metadata": {},
   "outputs": [
    {
     "data": {
      "text/plain": [
       "<OntologyIndividual: amines http://data.europa.eu/8mn/euroscivoc/8652ea02-86fe-4fbe-9feb-baba1931157e>"
      ]
     },
     "execution_count": 26,
     "metadata": {},
     "output_type": "execute_result"
    }
   ],
   "source": [
    "amine"
   ]
  },
  {
   "cell_type": "code",
   "execution_count": 27,
   "id": "9dd8e576",
   "metadata": {},
   "outputs": [],
   "source": [
    "a=dcoretbox.Agent()"
   ]
  },
  {
   "cell_type": "code",
   "execution_count": 28,
   "id": "ba3cdd15",
   "metadata": {},
   "outputs": [],
   "source": [
    "b=dcoretbox.Consumer()"
   ]
  },
  {
   "cell_type": "code",
   "execution_count": 29,
   "id": "20c753c8",
   "metadata": {},
   "outputs": [
    {
     "data": {
      "text/plain": [
       "{<OntologyIndividual:  http://www.ietf.org/rfc/rfc5789.txt>,\n",
       " <OntologyIndividual:  http://www.ietf.org/rfc/rfc2616.txt>,\n",
       " <OntologyIndividual: CONNECT http://www.w3.org/2011/http-methods#CONNECT>,\n",
       " <OntologyIndividual: DELETE http://www.w3.org/2011/http-methods#DELETE>,\n",
       " <OntologyIndividual: GET http://www.w3.org/2011/http-methods#GET>,\n",
       " <OntologyIndividual: HEAD http://www.w3.org/2011/http-methods#HEAD>,\n",
       " <OntologyIndividual: OPTIONS http://www.w3.org/2011/http-methods#OPTIONS>,\n",
       " <OntologyIndividual: PATCH http://www.w3.org/2011/http-methods#PATCH>,\n",
       " <OntologyIndividual: POST http://www.w3.org/2011/http-methods#POST>,\n",
       " <OntologyIndividual: PUT http://www.w3.org/2011/http-methods#PUT>,\n",
       " <OntologyIndividual: TRACE http://www.w3.org/2011/http-methods#TRACE>}"
      ]
     },
     "execution_count": 29,
     "metadata": {},
     "output_type": "execute_result"
    }
   ],
   "source": [
    "import_file('/Users/adham/dev/new/ontology/ontology/http-methods.ttl', all_triples=True,all_statements=True)"
   ]
  },
  {
   "cell_type": "code",
   "execution_count": 30,
   "id": "fdad2bd2",
   "metadata": {},
   "outputs": [],
   "source": [
    "#semantic2dot(core_session).render(\"./picture.gv\")"
   ]
  },
  {
   "cell_type": "code",
   "execution_count": 31,
   "id": "08dae929",
   "metadata": {},
   "outputs": [],
   "source": [
    "c=rdfschema.Class()"
   ]
  },
  {
   "cell_type": "code",
   "execution_count": null,
   "id": "ad6c9cb8",
   "metadata": {},
   "outputs": [],
   "source": []
  },
  {
   "cell_type": "code",
   "execution_count": 32,
   "id": "199b7047",
   "metadata": {},
   "outputs": [],
   "source": [
    "\n",
    "method=http_method.Method()"
   ]
  },
  {
   "cell_type": "code",
   "execution_count": 33,
   "id": "00ca32ef",
   "metadata": {},
   "outputs": [
    {
     "name": "stdout",
     "output_type": "stream",
     "text": [
      "- Ontology individual named :\n",
      "  identifier: 8fc0ebc4-b51e-4f59-b068-a5082999afb2\n",
      "  type: Method (http_method )\n",
      "  superclasses: Method (http_method ), Thing (owl )\n"
     ]
    }
   ],
   "source": [
    "pretty_print(method)"
   ]
  },
  {
   "cell_type": "code",
   "execution_count": 34,
   "id": "e6a866ec",
   "metadata": {},
   "outputs": [
    {
     "data": {
      "text/plain": [
       "{(rdflib.term.URIRef('https://www.simphony-osp.eu/entity#abfcb8fc-1eec-48f4-8662-b47c06c40707'),\n",
       "  rdflib.term.URIRef('http://www.w3.org/1999/02/22-rdf-syntax-ns#type'),\n",
       "  rdflib.term.URIRef('http://www.w3.org/2000/01/rdf-schema#Class'))}"
      ]
     },
     "execution_count": 34,
     "metadata": {},
     "output_type": "execute_result"
    }
   ],
   "source": [
    "c.triples"
   ]
  },
  {
   "cell_type": "code",
   "execution_count": 35,
   "id": "ed127e57",
   "metadata": {},
   "outputs": [
    {
     "data": {
      "text/plain": [
       "''"
      ]
     },
     "execution_count": 35,
     "metadata": {},
     "output_type": "execute_result"
    }
   ],
   "source": [
    "c.label"
   ]
  },
  {
   "cell_type": "code",
   "execution_count": 36,
   "id": "b4863360",
   "metadata": {},
   "outputs": [
    {
     "data": {
      "text/plain": [
       "'/Users/adham/dev/new/osp-core/examples/ucl'"
      ]
     },
     "execution_count": 36,
     "metadata": {},
     "output_type": "execute_result"
    }
   ],
   "source": [
    "pwd"
   ]
  },
  {
   "cell_type": "code",
   "execution_count": 37,
   "id": "b73309b2",
   "metadata": {},
   "outputs": [],
   "source": [
    "result = sparql(  \n",
    "    f\"\"\"SELECT  ?p ?o WHERE {{\n",
    "        <{\"https://dome40.eu/semantics/dome4.0_core#LIST_OF_TOPICS\"}> ?p ?o .\n",
    "    }}\n",
    "    \"\"\"\n",
    ")"
   ]
  },
  {
   "cell_type": "code",
   "execution_count": 38,
   "id": "de7f68ba",
   "metadata": {},
   "outputs": [
    {
     "name": "stdout",
     "output_type": "stream",
     "text": [
      "4 True\n"
     ]
    }
   ],
   "source": [
    "print(\n",
    "    len(result),  # number of rows in the result\n",
    "    bool(result)  # True when at least one match has been found\n",
    ")\n"
   ]
  },
  {
   "cell_type": "code",
   "execution_count": 39,
   "id": "38db362c",
   "metadata": {},
   "outputs": [
    {
     "name": "stdout",
     "output_type": "stream",
     "text": [
      "{'p': rdflib.term.URIRef('http://www.w3.org/1999/02/22-rdf-syntax-ns#type'), 'o': rdflib.term.URIRef('http://www.w3.org/2004/02/skos/core#ConceptScheme')}\n",
      "{'p': rdflib.term.URIRef('http://www.w3.org/2004/02/skos/core#prefLabel'), 'o': rdflib.term.Literal('List of topics', datatype=rdflib.term.URIRef('http://www.w3.org/2001/XMLSchema#string'))}\n",
      "{'p': rdflib.term.URIRef('http://www.w3.org/2000/01/rdf-schema#comment'), 'o': rdflib.term.Literal('A (DOME 4.0-related and mapped to EuroSciVoc) set of domains to classify documents', datatype=rdflib.term.URIRef('http://www.w3.org/2001/XMLSchema#string'))}\n",
      "{'p': rdflib.term.URIRef('http://www.w3.org/2000/01/rdf-schema#comment'), 'o': rdflib.term.Literal('Can be used as a target of dcat:themeTaxonomy (cf. DCAT-2)', datatype=rdflib.term.URIRef('http://www.w3.org/2001/XMLSchema#string'))}\n"
     ]
    }
   ],
   "source": [
    "for row in result:  # iterating the result yields ResultRow objects\n",
    "    print(row.asdict()) "
   ]
  },
  {
   "cell_type": "code",
   "execution_count": 40,
   "id": "a3b9d06a",
   "metadata": {},
   "outputs": [
    {
     "data": {
      "text/plain": [
       "133"
      ]
     },
     "execution_count": 40,
     "metadata": {},
     "output_type": "execute_result"
    }
   ],
   "source": [
    "len(core_session)\n"
   ]
  },
  {
   "cell_type": "code",
   "execution_count": 41,
   "id": "d031e8f6",
   "metadata": {},
   "outputs": [],
   "source": [
    "lot=core_session.get('https://dome40.eu/semantics/dome4.0_core#LIST_OF_TOPICS')\n",
    "#Is lot a reference to the individual or is it a copy of it, if a copy, what type (shallow, deep)"
   ]
  },
  {
   "cell_type": "code",
   "execution_count": 42,
   "id": "879f3f91",
   "metadata": {},
   "outputs": [],
   "source": [
    "lot.connect(a, rel=foaf.depicts)"
   ]
  },
  {
   "cell_type": "code",
   "execution_count": 43,
   "id": "6b865b01",
   "metadata": {},
   "outputs": [
    {
     "name": "stdout",
     "output_type": "stream",
     "text": [
      "- Ontology individual named List of topics:\n",
      "  identifier: https://dome40.eu/semantics/dome4.0_core#LIST_OF_TOPICS\n",
      "  type: Concept Scheme (skos )\n",
      "  superclasses: Concept Scheme (skos ), information_content_entity (evmpo ), paradigmatic_entity (evmpo ), marketplace_related_entity (evmpo ), immanent_entity (evmpo ), Thing (owl )\n",
      "   |_Relationship depicts (foaf ) (foaf):\n",
      "     - Ontology individual of class Agent named \n",
      "        identifier: 5eff991d-9434-4c32-8ca0-8c09e1ac0930\n"
     ]
    }
   ],
   "source": [
    "pretty_print(lot)"
   ]
  },
  {
   "cell_type": "code",
   "execution_count": 44,
   "id": "ad79b11b",
   "metadata": {},
   "outputs": [],
   "source": [
    "lot_check=core_session.get('https://dome40.eu/semantics/dome4.0_core#LIST_OF_TOPICS')"
   ]
  },
  {
   "cell_type": "code",
   "execution_count": 45,
   "id": "10d7f406",
   "metadata": {},
   "outputs": [
    {
     "name": "stdout",
     "output_type": "stream",
     "text": [
      "- Ontology individual named List of topics:\n",
      "  identifier: https://dome40.eu/semantics/dome4.0_core#LIST_OF_TOPICS\n",
      "  type: Concept Scheme (skos )\n",
      "  superclasses: Concept Scheme (skos ), information_content_entity (evmpo ), paradigmatic_entity (evmpo ), marketplace_related_entity (evmpo ), immanent_entity (evmpo ), Thing (owl )\n",
      "   |_Relationship depicts (foaf ) (foaf):\n",
      "     - Ontology individual of class Agent named \n",
      "        identifier: 5eff991d-9434-4c32-8ca0-8c09e1ac0930\n"
     ]
    }
   ],
   "source": [
    "pretty_print(lot_check)"
   ]
  },
  {
   "cell_type": "code",
   "execution_count": 46,
   "id": "080246d0",
   "metadata": {},
   "outputs": [
    {
     "data": {
      "text/plain": [
       "mappingproxy({})"
      ]
     },
     "execution_count": 46,
     "metadata": {},
     "output_type": "execute_result"
    }
   ],
   "source": [
    "lot.attributes"
   ]
  },
  {
   "cell_type": "code",
   "execution_count": 47,
   "id": "6509e2e1",
   "metadata": {},
   "outputs": [
    {
     "data": {
      "text/plain": [
       "[<OntologyClass: Concept Scheme http://www.w3.org/2004/02/skos/core#ConceptScheme>,\n",
       " <OntologyClass: information_content_entity https://emmc.eu/semantics/evmpo/evmpo.ttl#information_content_entity>,\n",
       " <OntologyClass: paradigmatic_entity https://emmc.eu/semantics/evmpo/evmpo.ttl#paradigmatic_entity>,\n",
       " <OntologyClass: marketplace_related_entity https://emmc.eu/semantics/evmpo/evmpo.ttl#marketplace_related_entity>,\n",
       " <OntologyClass: immanent_entity https://emmc.eu/semantics/evmpo/evmpo.ttl#immanent_entity>,\n",
       " <OntologyClass: Thing http://www.w3.org/2002/07/owl#Thing>]"
      ]
     },
     "execution_count": 47,
     "metadata": {},
     "output_type": "execute_result"
    }
   ],
   "source": [
    "lot.superclasses"
   ]
  },
  {
   "cell_type": "code",
   "execution_count": 48,
   "id": "c41befa4",
   "metadata": {},
   "outputs": [
    {
     "name": "stdout",
     "output_type": "stream",
     "text": [
      "- Ontology individual named List of topics:\n",
      "  identifier: https://dome40.eu/semantics/dome4.0_core#LIST_OF_TOPICS\n",
      "  type: Concept Scheme (skos )\n",
      "  superclasses: Concept Scheme (skos ), information_content_entity (evmpo ), paradigmatic_entity (evmpo ), marketplace_related_entity (evmpo ), immanent_entity (evmpo ), Thing (owl )\n",
      "   |_Relationship depicts (foaf ) (foaf):\n",
      "     - Ontology individual of class Agent named \n",
      "        identifier: 5eff991d-9434-4c32-8ca0-8c09e1ac0930\n"
     ]
    }
   ],
   "source": [
    "pretty_print(lot)"
   ]
  },
  {
   "cell_type": "code",
   "execution_count": 49,
   "id": "8456381e",
   "metadata": {},
   "outputs": [],
   "source": [
    "get=core_session.get('http://www.w3.org/2011/http-methods#GET')"
   ]
  },
  {
   "cell_type": "code",
   "execution_count": 50,
   "id": "8bc347ed",
   "metadata": {},
   "outputs": [
    {
     "name": "stdout",
     "output_type": "stream",
     "text": [
      "- Ontology individual named GET:\n",
      "  identifier: http://www.w3.org/2011/http-methods#GET\n",
      "  types: NamedIndividual (owl ), Method (http_method )\n",
      "  superclasses: NamedIndividual (owl ), Thing (owl ), Method (http_method )\n"
     ]
    }
   ],
   "source": [
    "pretty_print(get)"
   ]
  },
  {
   "cell_type": "code",
   "execution_count": 51,
   "id": "6188ee81",
   "metadata": {},
   "outputs": [
    {
     "name": "stdout",
     "output_type": "stream",
     "text": [
      "PATCH\n",
      "PUT\n",
      "DELETE\n",
      "GET\n",
      "TRACE\n",
      "CONNECT\n",
      "OPTIONS\n",
      "POST\n",
      "HEAD\n",
      "\n"
     ]
    }
   ],
   "source": [
    "for i in core_session.get(oclass=http_method.Method):\n",
    "    print(i)"
   ]
  },
  {
   "cell_type": "code",
   "execution_count": 52,
   "id": "58f1fcc4",
   "metadata": {},
   "outputs": [
    {
     "name": "stdout",
     "output_type": "stream",
     "text": [
      "\n",
      "Simulate\n",
      "Compare\n",
      "Extract\n",
      "Transform\n",
      "Evaluate FAIRness\n",
      "Download\n",
      "View\n",
      "Upload\n",
      "Search by exact string match\n",
      "Search with wild card\n",
      "Search with filter\n",
      "Preview\n",
      "Update\n",
      "Search with logical operator\n",
      "\n",
      "NOMAD\n",
      "OPEN_DATABASE_XTALS\n",
      "CHEMEO\n",
      "CRYSTALLOGRAPHY\n",
      "MARKET4.0\n",
      "THE_OPEN_QUANTUM_MATERIALS\n",
      "MATERIALSPROJECT\n",
      "TEST_PLATFORM\n",
      "DOME4.0\n",
      "PUBCHEM\n",
      "THEORETICAL_CRYSTALLOGRAPHY_OPEN_DATABASE\n",
      "TEST_CATALOG\n",
      "Sea vessels\n",
      "Natural sciences\n",
      "Navigation systems\n",
      "Meteorology\n",
      "Patent\n",
      "Engineering and technology\n",
      "Modelling Data\n",
      "Observational Data\n",
      "Medical and health sciences\n",
      "Cartography\n",
      "CAS Number\n",
      "Software\n",
      "IUPAC InChi\n",
      "Material Property\n",
      "Equipment\n",
      "Publication\n",
      "Topography\n",
      "EC Number\n",
      "Raw Material\n",
      "SMILES\n",
      "Experimental Data\n",
      "Sea vessels\n",
      "Natural sciences\n",
      "Navigation systems\n",
      "Meteorology\n",
      "Engineering and technology\n",
      "Medical and health sciences\n",
      "Cartography\n",
      "Topography\n",
      "DOME 4.0 Consortium\n",
      "\n",
      "OPTIMADE API specification\n",
      "IDS (International Data Space) API specification\n",
      "Portable Network Graphics (PNG)\n",
      "Joint Photographic Experts Group Format (JPEG)\n",
      "Standard for the Exchange of Product (STEP) Data\n",
      "Resource Description Framework (RDF)\n",
      "RDF/XML\n",
      "Portable document format (PDF)\n",
      "XYZ atomistic data\n",
      "Web Ontology Language (OWL) - Model and format\n",
      "JavaScript Object Notation (JSON)\n",
      "Comma-separated Values (CSV)\n",
      "Geographic Tagged Image File Format (GeoTIFF)\n",
      "Microsoft Excel format (XLSX)\n",
      "AiiDA export file\n",
      "JavaScript Object Notation for Linking Data (JSON-LD)\n",
      "Terse RDF Triple Language (Turtle or TTL)\n",
      "Crystallographic Information Framework (CIF) - Model and format\n",
      "List of product types (i.e., the types found on DOME 4.0)\n",
      "List of topics\n",
      "List of file formats\n",
      "List of widely used standard identifiers for the materials and manufacturing domain.\n",
      "List of API spefications\n",
      "List of search actions\n",
      "List of data actions\n",
      "RETRIEVE_FROM_TEST_PLATFORM_SERVICE\n",
      "POPULATE_TEST_PLATFORM_OPERATION\n",
      "POPULATE_TEST_PLATFORM_SERVICE\n",
      "RETRIEVE_FROM_TEST_PLATFORM_OPERATION\n",
      "TUNNEL_WITH_TEST_PLATFORM_SERVICE\n",
      "Patent\n",
      "Modelling Data\n",
      "Observational Data\n",
      "Software\n",
      "Material Property\n",
      "Equipment\n",
      "Publication\n",
      "Raw Material\n",
      "Experimental Data\n",
      "CONSUMER\n",
      "\n",
      "CAS Number\n",
      "IUPAC InChi\n",
      "EC Number\n",
      "SMILES\n",
      "DATA_ON_DEMAND_PROVIDER\n",
      "INTERACTIVE_APP_PROVIDER\n",
      "EXAMPLE_DOME_FLAT_SUBSCRIPTION_CHEMEO_MATERIALSPROJECT\n",
      "DATA_PROVIDER\n",
      "EXAMPLE_DOME_SUBSCRIPTION_BY_USAGE_CHEMEO_MATERIALSPROJECT\n",
      "PATCH\n",
      "DELETE\n",
      "PUT\n",
      "\n",
      "GET\n",
      "TRACE\n",
      "CONNECT\n",
      "\n",
      "OPTIONS\n",
      "POST\n",
      "HEAD\n",
      "PATCH\n",
      "PUT\n",
      "DELETE\n",
      "GET\n",
      "TRACE\n",
      "CONNECT\n",
      "OPTIONS\n",
      "POST\n",
      "HEAD\n",
      "\n",
      "\n",
      "\n",
      "\n"
     ]
    }
   ],
   "source": [
    "for i in core_session.get():\n",
    "    print(i)"
   ]
  },
  {
   "cell_type": "code",
   "execution_count": 53,
   "id": "1a56279e",
   "metadata": {},
   "outputs": [
    {
     "data": {
      "text/plain": [
       "<OntologyIndividual: GET http://www.w3.org/2011/http-methods#GET>"
      ]
     },
     "execution_count": 53,
     "metadata": {},
     "output_type": "execute_result"
    }
   ],
   "source": [
    "get"
   ]
  },
  {
   "cell_type": "code",
   "execution_count": 54,
   "id": "4df3a84f",
   "metadata": {},
   "outputs": [
    {
     "data": {
      "text/plain": [
       "True"
      ]
     },
     "execution_count": 54,
     "metadata": {},
     "output_type": "execute_result"
    }
   ],
   "source": [
    "get.is_subclass_of(method)"
   ]
  },
  {
   "cell_type": "code",
   "execution_count": 55,
   "id": "b51fe93f",
   "metadata": {},
   "outputs": [
    {
     "data": {
      "text/plain": [
       "frozenset({<OntologyClass: Method http://www.w3.org/2011/http#Method>,\n",
       "           <OntologyClass: NamedIndividual http://www.w3.org/2002/07/owl#NamedIndividual>})"
      ]
     },
     "execution_count": 55,
     "metadata": {},
     "output_type": "execute_result"
    }
   ],
   "source": [
    "get.subclasses"
   ]
  },
  {
   "cell_type": "code",
   "execution_count": null,
   "id": "e3575cc7",
   "metadata": {},
   "outputs": [],
   "source": []
  }
 ],
 "metadata": {
  "kernelspec": {
   "display_name": ".env",
   "language": "python",
   "name": ".env"
  },
  "language_info": {
   "codemirror_mode": {
    "name": "ipython",
    "version": 3
   },
   "file_extension": ".py",
   "mimetype": "text/x-python",
   "name": "python",
   "nbconvert_exporter": "python",
   "pygments_lexer": "ipython3",
   "version": "3.11.3"
  }
 },
 "nbformat": 4,
 "nbformat_minor": 5
}
