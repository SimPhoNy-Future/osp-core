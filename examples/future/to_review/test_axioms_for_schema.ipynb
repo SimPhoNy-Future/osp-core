{
 "cells": [
  {
   "cell_type": "code",
   "execution_count": 1,
   "id": "fd2d4210",
   "metadata": {},
   "outputs": [],
   "source": [
    "from simphony_osp.namespaces import city, owl, foaf#, dso_dome, owl, dcat\n",
    "from simphony_osp.tools import semantic2dot\n",
    "from simphony_osp.tools import pretty_print\n",
    "from simphony_osp.ontology import OntologyIndividual\n",
    "from simphony_osp.tools import semantic2dot\n",
    "from simphony_osp.session import core_session\n",
    "from simphony_osp.tools.search import sparql\n",
    "from simphony_osp.ontology import RESTRICTION_QUANTIFIER, RESTRICTION_TYPE\n",
    "from simphony_osp.tools import search"
   ]
  },
  {
   "cell_type": "markdown",
   "id": "722bfca2",
   "metadata": {},
   "source": [
    "# Purpose\n",
    "We want to test the implementation of *axioms* and how we can utilise them in SimPhoNy as replacement for *schema or datamodel*. Another way is to add a specific schema propery to an item, but this would be re inventing the wheel. \n",
    "\n",
    "we load the city ontology, define two cities, and one citizin, then we connect the citizin to two cities using the works in relationship. \n",
    "\n",
    "according to the ontology `worksIn max 1 PopulatedPlace` this should raise some error of some sort. \n",
    "\n",
    "the next step would be to programatically find out what a citizin can have, and operate respectively. Note I am going to ignore the data attributes as they are not relevant now. \n"
   ]
  },
  {
   "cell_type": "code",
   "execution_count": 2,
   "id": "8a0ba052",
   "metadata": {},
   "outputs": [],
   "source": [
    "haifa = city.City(name='haifa', coordinates=[0,0])"
   ]
  },
  {
   "cell_type": "markdown",
   "id": "28e8b3a0",
   "metadata": {},
   "source": [
    "Try to give Haifa more than one Major (hasMajor max 1 Citizen)"
   ]
  },
  {
   "cell_type": "code",
   "execution_count": 3,
   "id": "5003e76a",
   "metadata": {},
   "outputs": [],
   "source": [
    "Mezna = city.Citizen(name=\"Mezna\", age=66)"
   ]
  },
  {
   "cell_type": "code",
   "execution_count": 4,
   "id": "90f1a743",
   "metadata": {},
   "outputs": [],
   "source": [
    "Kalish = city.Citizen(name=\"Kalish\", age=55)"
   ]
  },
  {
   "cell_type": "code",
   "execution_count": 5,
   "id": "4923ab5a",
   "metadata": {},
   "outputs": [],
   "source": [
    "haifa[city.hasMajor] = Mezna\n"
   ]
  },
  {
   "cell_type": "code",
   "execution_count": 6,
   "id": "4aef43f8",
   "metadata": {},
   "outputs": [
    {
     "name": "stdout",
     "output_type": "stream",
     "text": [
      "- Ontology individual:\n",
      "  identifier: aeb51c2b-956f-4b8d-9454-c144726ff906\n",
      "  type: City (city )\n",
      "  superclasses: City (city ), Populated Place (city ), Geographical Place (city ), Thing (owl )\n",
      "  values: \u0000coordinates: [0 0]\n",
      "          \u0000name: haifa\n",
      "   |_Relationship has major (city ) (city):\n",
      "     - Ontology individual of class Citizen\n",
      "        identifier: 9061d8bd-0a44-4c14-8bf9-290a1f8d918d\n",
      "        \u0000age: 66\n",
      "        \u0000name: Mezna\n"
     ]
    }
   ],
   "source": [
    "pretty_print(haifa)"
   ]
  },
  {
   "cell_type": "code",
   "execution_count": 7,
   "id": "462f2fd5",
   "metadata": {},
   "outputs": [],
   "source": [
    "haifa[city.hasMajor] = Kalish"
   ]
  },
  {
   "cell_type": "code",
   "execution_count": 8,
   "id": "1e25da61",
   "metadata": {},
   "outputs": [
    {
     "name": "stdout",
     "output_type": "stream",
     "text": [
      "- Ontology individual:\n",
      "  identifier: aeb51c2b-956f-4b8d-9454-c144726ff906\n",
      "  type: City (city )\n",
      "  superclasses: City (city ), Populated Place (city ), Geographical Place (city ), Thing (owl )\n",
      "  values: \u0000coordinates: [0 0]\n",
      "          \u0000name: haifa\n",
      "   |_Relationship has major (city ) (city):\n",
      "     - Ontology individual of class Citizen\n",
      "        identifier: cda511e3-1aa8-46b3-b83d-b6480467b2ee\n",
      "        \u0000age: 55\n",
      "        \u0000name: Kalish\n"
     ]
    }
   ],
   "source": [
    "pretty_print(haifa)"
   ]
  },
  {
   "cell_type": "code",
   "execution_count": 9,
   "id": "017a982f",
   "metadata": {},
   "outputs": [],
   "source": [
    "haifa[city.hasMajor] += Mezna"
   ]
  },
  {
   "cell_type": "code",
   "execution_count": 10,
   "id": "5b2926ab",
   "metadata": {},
   "outputs": [
    {
     "name": "stdout",
     "output_type": "stream",
     "text": [
      "- Ontology individual:\n",
      "  identifier: aeb51c2b-956f-4b8d-9454-c144726ff906\n",
      "  type: City (city )\n",
      "  superclasses: City (city ), Populated Place (city ), Geographical Place (city ), Thing (owl )\n",
      "  values: \u0000coordinates: [0 0]\n",
      "          \u0000name: haifa\n",
      "   |_Relationship has major (city ) (city):\n",
      "     - Ontology individual of class Citizen\n",
      "      . identifier: 9061d8bd-0a44-4c14-8bf9-290a1f8d918d\n",
      "      . \u0000age: 66\n",
      "      . \u0000name: Mezna\n",
      "     - Ontology individual of class Citizen\n",
      "        identifier: cda511e3-1aa8-46b3-b83d-b6480467b2ee\n",
      "        \u0000age: 55\n",
      "        \u0000name: Kalish\n"
     ]
    }
   ],
   "source": [
    "pretty_print(haifa)"
   ]
  },
  {
   "cell_type": "markdown",
   "id": "ab03b947",
   "metadata": {},
   "source": [
    "**The Axioms are Ignored** this may be a good or bad thing. On the one hand we can now have simple ontology, but prepare it for more complex one, and at the same time, use other tools to impose the constraints. \n",
    "\n",
    "    Lets try one more axiom: \n",
    "    NEighborhood isPartOf exactly 1 City\n",
    "\n",
    "is this so in SimPhoNy V. 4?"
   ]
  },
  {
   "cell_type": "code",
   "execution_count": 11,
   "id": "c1f6d707",
   "metadata": {},
   "outputs": [],
   "source": [
    "neighborhoods = {\n",
    "    city.Neighborhood(name=name, coordinates=coordinates)\n",
    "    for name, coordinates in [\n",
    "        (\"The City\", [47.99525, 7.84726]),\n",
    "        (\"Alperton\", [47.99888, 7.83774]),\n",
    "        (\"Webmly Park\", [48.00021, 7.86084]),\n",
    "        (\"Marylebone\", [48.00779, 7.86268]),\n",
    "        (\"Battersea\", [48.01684, 7.843]),\n",
    "    ]\n",
    "}"
   ]
  },
  {
   "cell_type": "code",
   "execution_count": 12,
   "id": "fe6fcb81",
   "metadata": {},
   "outputs": [],
   "source": [
    "london = city.City(name='london', coordinates=[1,1])"
   ]
  },
  {
   "cell_type": "code",
   "execution_count": 13,
   "id": "cf463aba",
   "metadata": {},
   "outputs": [
    {
     "name": "stdout",
     "output_type": "stream",
     "text": [
      "- Ontology individual:\n",
      "  identifier: 53d488f7-0efc-4266-a2f7-4f7b21e2f178\n",
      "  type: City (city )\n",
      "  superclasses: City (city ), Populated Place (city ), Geographical Place (city ), Thing (owl )\n",
      "  values: \u0000coordinates: [1 1]\n",
      "          \u0000name: london\n"
     ]
    }
   ],
   "source": [
    "pretty_print(london)"
   ]
  },
  {
   "cell_type": "code",
   "execution_count": 14,
   "id": "3ad12317",
   "metadata": {},
   "outputs": [],
   "source": [
    "london[city.hasPart] |= neighborhoods  # attaches the neighborhoods (in-place union)"
   ]
  },
  {
   "cell_type": "code",
   "execution_count": 15,
   "id": "467169e6",
   "metadata": {},
   "outputs": [
    {
     "name": "stdout",
     "output_type": "stream",
     "text": [
      "- Ontology individual:\n",
      "  identifier: 53d488f7-0efc-4266-a2f7-4f7b21e2f178\n",
      "  type: City (city )\n",
      "  superclasses: City (city ), Populated Place (city ), Geographical Place (city ), Thing (owl )\n",
      "  values: \u0000coordinates: [1 1]\n",
      "          \u0000name: london\n",
      "   |_Relationship has part (city ) (city):\n",
      "     - Ontology individual of class Neighborhood\n",
      "      . identifier: 41d18305-512d-4b05-a2fe-bd500a42fc8c\n",
      "      . \u0000coordinates: [47.99888  7.83774]\n",
      "      . \u0000name: Alperton\n",
      "     - Ontology individual of class Neighborhood\n",
      "      . identifier: 4b5be559-108b-4867-a0c9-2fd9c7275042\n",
      "      . \u0000coordinates: [48.00021  7.86084]\n",
      "      . \u0000name: Webmly Park\n",
      "     - Ontology individual of class Neighborhood\n",
      "      . identifier: 52e05899-f74c-4c5f-80ce-2171e441802e\n",
      "      . \u0000coordinates: [48.00779  7.86268]\n",
      "      . \u0000name: Marylebone\n",
      "     - Ontology individual of class Neighborhood\n",
      "      . identifier: c3e9f21e-5de3-41f5-a362-752dd081051e\n",
      "      . \u0000coordinates: [48.01684  7.843  ]\n",
      "      . \u0000name: Battersea\n",
      "     - Ontology individual of class Neighborhood\n",
      "        identifier: e04f8084-d09d-4cac-83f9-9aff30faf82c\n",
      "        \u0000coordinates: [47.99525  7.84726]\n",
      "        \u0000name: The City\n"
     ]
    }
   ],
   "source": [
    "pretty_print(london)"
   ]
  },
  {
   "cell_type": "code",
   "execution_count": 16,
   "id": "a9ccc992",
   "metadata": {},
   "outputs": [],
   "source": [
    "semantic2dot(core_session).render(\"./city_axioms.gv\")"
   ]
  },
  {
   "cell_type": "code",
   "execution_count": 17,
   "id": "ffbbc3f0",
   "metadata": {},
   "outputs": [
    {
     "data": {
      "image/svg+xml": [
       "<?xml version=\"1.0\" encoding=\"UTF-8\" standalone=\"no\"?>\n",
       "<!DOCTYPE svg PUBLIC \"-//W3C//DTD SVG 1.1//EN\"\n",
       " \"http://www.w3.org/Graphics/SVG/1.1/DTD/svg11.dtd\">\n",
       "<!-- Generated by graphviz version 8.0.5 (20230430.1635)\n",
       " -->\n",
       "<!-- Title: SimPhoNy semantic2dot Pages: 1 -->\n",
       "<svg width=\"1959pt\" height=\"343pt\"\n",
       " viewBox=\"0.00 0.00 1959.01 343.34\" xmlns=\"http://www.w3.org/2000/svg\" xmlns:xlink=\"http://www.w3.org/1999/xlink\">\n",
       "<g id=\"graph0\" class=\"graph\" transform=\"scale(1 1) rotate(0) translate(4 339.34)\">\n",
       "<title>SimPhoNy semantic2dot</title>\n",
       "<polygon fill=\"white\" stroke=\"none\" points=\"-4,4 -4,-339.34 1955.01,-339.34 1955.01,4 -4,4\"/>\n",
       "<!-- https___www.simphony&#45;osp.eu_entity#cda511e3&#45;1aa8&#45;46b3&#45;b83d&#45;b6480467b2ee -->\n",
       "<g id=\"node1\" class=\"node\">\n",
       "<title>https___www.simphony&#45;osp.eu_entity#cda511e3&#45;1aa8&#45;46b3&#45;b83d&#45;b6480467b2ee</title>\n",
       "<ellipse fill=\"none\" stroke=\"black\" cx=\"99.7\" cy=\"-70.71\" rx=\"99.7\" ry=\"70.71\"/>\n",
       "<text text-anchor=\"start\" x=\"58.83\" y=\"-99.41\" font-family=\"Times,serif\" font-size=\"14.00\">cda511e3...2ee</text>\n",
       "<text text-anchor=\"start\" x=\"41.2\" y=\"-76.91\" font-family=\"Times,serif\" font-size=\"14.00\">classes: Citizen (city)</text>\n",
       "<text text-anchor=\"start\" x=\"79.83\" y=\"-54.41\" font-family=\"Times,serif\" font-size=\"14.00\">age: 55</text>\n",
       "<text text-anchor=\"start\" x=\"63.33\" y=\"-31.91\" font-family=\"Times,serif\" font-size=\"14.00\">name: Kalish</text>\n",
       "</g>\n",
       "<!-- https___www.simphony&#45;osp.eu_entity#4b5be559&#45;108b&#45;4867&#45;a0c9&#45;2fd9c7275042 -->\n",
       "<g id=\"node2\" class=\"node\">\n",
       "<title>https___www.simphony&#45;osp.eu_entity#4b5be559&#45;108b&#45;4867&#45;a0c9&#45;2fd9c7275042</title>\n",
       "<ellipse fill=\"none\" stroke=\"black\" cx=\"579.7\" cy=\"-70.71\" rx=\"145.31\" ry=\"70.71\"/>\n",
       "<text text-anchor=\"start\" x=\"537.33\" y=\"-99.41\" font-family=\"Times,serif\" font-size=\"14.00\">4b5be559...042</text>\n",
       "<text text-anchor=\"start\" x=\"501.7\" y=\"-76.91\" font-family=\"Times,serif\" font-size=\"14.00\">classes: Neighborhood (city)</text>\n",
       "<text text-anchor=\"start\" x=\"523.45\" y=\"-54.41\" font-family=\"Times,serif\" font-size=\"14.00\">name: Webmly Park</text>\n",
       "<text text-anchor=\"start\" x=\"488.95\" y=\"-31.91\" font-family=\"Times,serif\" font-size=\"14.00\">coordinates: [48.00021 &#160;7.86084]</text>\n",
       "</g>\n",
       "<!-- https___www.simphony&#45;osp.eu_entity#aeb51c2b&#45;956f&#45;4b8d&#45;9454&#45;c144726ff906 -->\n",
       "<g id=\"node3\" class=\"node\">\n",
       "<title>https___www.simphony&#45;osp.eu_entity#aeb51c2b&#45;956f&#45;4b8d&#45;9454&#45;c144726ff906</title>\n",
       "<ellipse fill=\"none\" stroke=\"black\" cx=\"208.7\" cy=\"-264.63\" rx=\"88.57\" ry=\"70.71\"/>\n",
       "<text text-anchor=\"start\" x=\"167.08\" y=\"-293.33\" font-family=\"Times,serif\" font-size=\"14.00\">aeb51c2b...906</text>\n",
       "<text text-anchor=\"start\" x=\"158.08\" y=\"-270.83\" font-family=\"Times,serif\" font-size=\"14.00\">classes: City (city)</text>\n",
       "<text text-anchor=\"start\" x=\"176.45\" y=\"-248.33\" font-family=\"Times,serif\" font-size=\"14.00\">name: haifa</text>\n",
       "<text text-anchor=\"start\" x=\"160.7\" y=\"-225.83\" font-family=\"Times,serif\" font-size=\"14.00\">coordinates: [0 0]</text>\n",
       "</g>\n",
       "<!-- https___www.simphony&#45;osp.eu_entity#aeb51c2b&#45;956f&#45;4b8d&#45;9454&#45;c144726ff906&#45;&gt;https___www.simphony&#45;osp.eu_entity#cda511e3&#45;1aa8&#45;46b3&#45;b83d&#45;b6480467b2ee -->\n",
       "<g id=\"edge3\" class=\"edge\">\n",
       "<title>https___www.simphony&#45;osp.eu_entity#aeb51c2b&#45;956f&#45;4b8d&#45;9454&#45;c144726ff906&#45;&gt;https___www.simphony&#45;osp.eu_entity#cda511e3&#45;1aa8&#45;46b3&#45;b83d&#45;b6480467b2ee</title>\n",
       "<path fill=\"none\" stroke=\"black\" d=\"M172.41,-199.73C162.6,-182.45 151.9,-163.62 141.8,-145.84\"/>\n",
       "<polygon fill=\"black\" stroke=\"black\" points=\"144.57,-144.62 136.58,-137.65 138.48,-148.07 144.57,-144.62\"/>\n",
       "<text text-anchor=\"middle\" x=\"201.2\" y=\"-162.62\" font-family=\"Times,serif\" font-size=\"14.00\">has major (city)</text>\n",
       "</g>\n",
       "<!-- https___www.simphony&#45;osp.eu_entity#9061d8bd&#45;0a44&#45;4c14&#45;8bf9&#45;290a1f8d918d -->\n",
       "<g id=\"node6\" class=\"node\">\n",
       "<title>https___www.simphony&#45;osp.eu_entity#9061d8bd&#45;0a44&#45;4c14&#45;8bf9&#45;290a1f8d918d</title>\n",
       "<ellipse fill=\"none\" stroke=\"black\" cx=\"316.7\" cy=\"-70.71\" rx=\"99.7\" ry=\"70.71\"/>\n",
       "<text text-anchor=\"start\" x=\"273.95\" y=\"-99.41\" font-family=\"Times,serif\" font-size=\"14.00\">9061d8bd...18d</text>\n",
       "<text text-anchor=\"start\" x=\"258.2\" y=\"-76.91\" font-family=\"Times,serif\" font-size=\"14.00\">classes: Citizen (city)</text>\n",
       "<text text-anchor=\"start\" x=\"296.83\" y=\"-54.41\" font-family=\"Times,serif\" font-size=\"14.00\">age: 66</text>\n",
       "<text text-anchor=\"start\" x=\"279.2\" y=\"-31.91\" font-family=\"Times,serif\" font-size=\"14.00\">name: Mezna</text>\n",
       "</g>\n",
       "<!-- https___www.simphony&#45;osp.eu_entity#aeb51c2b&#45;956f&#45;4b8d&#45;9454&#45;c144726ff906&#45;&gt;https___www.simphony&#45;osp.eu_entity#9061d8bd&#45;0a44&#45;4c14&#45;8bf9&#45;290a1f8d918d -->\n",
       "<g id=\"edge6\" class=\"edge\">\n",
       "<title>https___www.simphony&#45;osp.eu_entity#aeb51c2b&#45;956f&#45;4b8d&#45;9454&#45;c144726ff906&#45;&gt;https___www.simphony&#45;osp.eu_entity#9061d8bd&#45;0a44&#45;4c14&#45;8bf9&#45;290a1f8d918d</title>\n",
       "<path fill=\"none\" stroke=\"black\" d=\"M244.66,-199.73C254.38,-182.45 264.98,-163.62 274.99,-145.84\"/>\n",
       "<polygon fill=\"black\" stroke=\"black\" points=\"278.31,-148.08 280.16,-137.65 272.2,-144.65 278.31,-148.08\"/>\n",
       "<text text-anchor=\"middle\" x=\"310.2\" y=\"-162.62\" font-family=\"Times,serif\" font-size=\"14.00\">has major (city)</text>\n",
       "</g>\n",
       "<!-- https___www.simphony&#45;osp.eu_entity#52e05899&#45;f74c&#45;4c5f&#45;80ce&#45;2171e441802e -->\n",
       "<g id=\"node4\" class=\"node\">\n",
       "<title>https___www.simphony&#45;osp.eu_entity#52e05899&#45;f74c&#45;4c5f&#45;80ce&#45;2171e441802e</title>\n",
       "<ellipse fill=\"none\" stroke=\"black\" cx=\"888.7\" cy=\"-70.71\" rx=\"145.31\" ry=\"70.71\"/>\n",
       "<text text-anchor=\"start\" x=\"846.7\" y=\"-99.41\" font-family=\"Times,serif\" font-size=\"14.00\">52e05899...02e</text>\n",
       "<text text-anchor=\"start\" x=\"810.7\" y=\"-76.91\" font-family=\"Times,serif\" font-size=\"14.00\">classes: Neighborhood (city)</text>\n",
       "<text text-anchor=\"start\" x=\"797.95\" y=\"-54.41\" font-family=\"Times,serif\" font-size=\"14.00\">coordinates: [48.00779 &#160;7.86268]</text>\n",
       "<text text-anchor=\"start\" x=\"836.95\" y=\"-31.91\" font-family=\"Times,serif\" font-size=\"14.00\">name: Marylebone</text>\n",
       "</g>\n",
       "<!-- https___www.simphony&#45;osp.eu_entity#c3e9f21e&#45;5de3&#45;41f5&#45;a362&#45;752dd081051e -->\n",
       "<g id=\"node5\" class=\"node\">\n",
       "<title>https___www.simphony&#45;osp.eu_entity#c3e9f21e&#45;5de3&#45;41f5&#45;a362&#45;752dd081051e</title>\n",
       "<ellipse fill=\"none\" stroke=\"black\" cx=\"1192.7\" cy=\"-70.71\" rx=\"141.07\" ry=\"70.71\"/>\n",
       "<text text-anchor=\"start\" x=\"1152.58\" y=\"-99.41\" font-family=\"Times,serif\" font-size=\"14.00\">c3e9f21e...51e</text>\n",
       "<text text-anchor=\"start\" x=\"1114.7\" y=\"-76.91\" font-family=\"Times,serif\" font-size=\"14.00\">classes: Neighborhood (city)</text>\n",
       "<text text-anchor=\"start\" x=\"1148.83\" y=\"-54.41\" font-family=\"Times,serif\" font-size=\"14.00\">name: Battersea</text>\n",
       "<text text-anchor=\"start\" x=\"1104.95\" y=\"-31.91\" font-family=\"Times,serif\" font-size=\"14.00\">coordinates: [48.01684 &#160;7.843 &#160;]</text>\n",
       "</g>\n",
       "<!-- https___www.simphony&#45;osp.eu_entity#41d18305&#45;512d&#45;4b05&#45;a2fe&#45;bd500a42fc8c -->\n",
       "<g id=\"node7\" class=\"node\">\n",
       "<title>https___www.simphony&#45;osp.eu_entity#41d18305&#45;512d&#45;4b05&#45;a2fe&#45;bd500a42fc8c</title>\n",
       "<ellipse fill=\"none\" stroke=\"black\" cx=\"1496.7\" cy=\"-70.71\" rx=\"145.31\" ry=\"70.71\"/>\n",
       "<text text-anchor=\"start\" x=\"1454.7\" y=\"-99.41\" font-family=\"Times,serif\" font-size=\"14.00\">41d18305...c8c</text>\n",
       "<text text-anchor=\"start\" x=\"1418.7\" y=\"-76.91\" font-family=\"Times,serif\" font-size=\"14.00\">classes: Neighborhood (city)</text>\n",
       "<text text-anchor=\"start\" x=\"1454.33\" y=\"-54.41\" font-family=\"Times,serif\" font-size=\"14.00\">name: Alperton</text>\n",
       "<text text-anchor=\"start\" x=\"1405.95\" y=\"-31.91\" font-family=\"Times,serif\" font-size=\"14.00\">coordinates: [47.99888 &#160;7.83774]</text>\n",
       "</g>\n",
       "<!-- https___www.simphony&#45;osp.eu_entity#53d488f7&#45;0efc&#45;4266&#45;a2f7&#45;4f7b21e2f178 -->\n",
       "<g id=\"node8\" class=\"node\">\n",
       "<title>https___www.simphony&#45;osp.eu_entity#53d488f7&#45;0efc&#45;4266&#45;a2f7&#45;4f7b21e2f178</title>\n",
       "<ellipse fill=\"none\" stroke=\"black\" cx=\"1192.7\" cy=\"-264.63\" rx=\"88.57\" ry=\"70.71\"/>\n",
       "<text text-anchor=\"start\" x=\"1151.08\" y=\"-293.33\" font-family=\"Times,serif\" font-size=\"14.00\">53d488f7...178</text>\n",
       "<text text-anchor=\"start\" x=\"1142.08\" y=\"-270.83\" font-family=\"Times,serif\" font-size=\"14.00\">classes: City (city)</text>\n",
       "<text text-anchor=\"start\" x=\"1144.7\" y=\"-248.33\" font-family=\"Times,serif\" font-size=\"14.00\">coordinates: [1 1]</text>\n",
       "<text text-anchor=\"start\" x=\"1155.2\" y=\"-225.83\" font-family=\"Times,serif\" font-size=\"14.00\">name: london</text>\n",
       "</g>\n",
       "<!-- https___www.simphony&#45;osp.eu_entity#53d488f7&#45;0efc&#45;4266&#45;a2f7&#45;4f7b21e2f178&#45;&gt;https___www.simphony&#45;osp.eu_entity#4b5be559&#45;108b&#45;4867&#45;a0c9&#45;2fd9c7275042 -->\n",
       "<g id=\"edge7\" class=\"edge\">\n",
       "<title>https___www.simphony&#45;osp.eu_entity#53d488f7&#45;0efc&#45;4266&#45;a2f7&#45;4f7b21e2f178&#45;&gt;https___www.simphony&#45;osp.eu_entity#4b5be559&#45;108b&#45;4867&#45;a0c9&#45;2fd9c7275042</title>\n",
       "<path fill=\"none\" stroke=\"black\" d=\"M1107.46,-245.24C1014.53,-224.2 862.06,-186.72 734.7,-141.42 721.06,-136.57 706.94,-131.01 693.05,-125.2\"/>\n",
       "<polygon fill=\"black\" stroke=\"black\" points=\"694.55,-121.62 683.98,-120.94 691.82,-128.06 694.55,-121.62\"/>\n",
       "<text text-anchor=\"middle\" x=\"871.58\" y=\"-162.62\" font-family=\"Times,serif\" font-size=\"14.00\">has part (city)</text>\n",
       "</g>\n",
       "<!-- https___www.simphony&#45;osp.eu_entity#53d488f7&#45;0efc&#45;4266&#45;a2f7&#45;4f7b21e2f178&#45;&gt;https___www.simphony&#45;osp.eu_entity#52e05899&#45;f74c&#45;4c5f&#45;80ce&#45;2171e441802e -->\n",
       "<g id=\"edge5\" class=\"edge\">\n",
       "<title>https___www.simphony&#45;osp.eu_entity#53d488f7&#45;0efc&#45;4266&#45;a2f7&#45;4f7b21e2f178&#45;&gt;https___www.simphony&#45;osp.eu_entity#52e05899&#45;f74c&#45;4c5f&#45;80ce&#45;2171e441802e</title>\n",
       "<path fill=\"none\" stroke=\"black\" d=\"M1123.72,-220.08C1082.99,-194.37 1030.8,-161.42 985.94,-133.1\"/>\n",
       "<polygon fill=\"black\" stroke=\"black\" points=\"988.11,-129.7 977.78,-127.32 984.37,-135.62 988.11,-129.7\"/>\n",
       "<text text-anchor=\"middle\" x=\"1088.58\" y=\"-162.62\" font-family=\"Times,serif\" font-size=\"14.00\">has part (city)</text>\n",
       "</g>\n",
       "<!-- https___www.simphony&#45;osp.eu_entity#53d488f7&#45;0efc&#45;4266&#45;a2f7&#45;4f7b21e2f178&#45;&gt;https___www.simphony&#45;osp.eu_entity#c3e9f21e&#45;5de3&#45;41f5&#45;a362&#45;752dd081051e -->\n",
       "<g id=\"edge4\" class=\"edge\">\n",
       "<title>https___www.simphony&#45;osp.eu_entity#53d488f7&#45;0efc&#45;4266&#45;a2f7&#45;4f7b21e2f178&#45;&gt;https___www.simphony&#45;osp.eu_entity#c3e9f21e&#45;5de3&#45;41f5&#45;a362&#45;752dd081051e</title>\n",
       "<path fill=\"none\" stroke=\"black\" d=\"M1192.7,-193.53C1192.7,-180.18 1192.7,-166.11 1192.7,-152.46\"/>\n",
       "<polygon fill=\"black\" stroke=\"black\" points=\"1196.2,-152.62 1192.7,-142.62 1189.2,-152.62 1196.2,-152.62\"/>\n",
       "<text text-anchor=\"middle\" x=\"1230.58\" y=\"-162.62\" font-family=\"Times,serif\" font-size=\"14.00\">has part (city)</text>\n",
       "</g>\n",
       "<!-- https___www.simphony&#45;osp.eu_entity#53d488f7&#45;0efc&#45;4266&#45;a2f7&#45;4f7b21e2f178&#45;&gt;https___www.simphony&#45;osp.eu_entity#41d18305&#45;512d&#45;4b05&#45;a2fe&#45;bd500a42fc8c -->\n",
       "<g id=\"edge1\" class=\"edge\">\n",
       "<title>https___www.simphony&#45;osp.eu_entity#53d488f7&#45;0efc&#45;4266&#45;a2f7&#45;4f7b21e2f178&#45;&gt;https___www.simphony&#45;osp.eu_entity#41d18305&#45;512d&#45;4b05&#45;a2fe&#45;bd500a42fc8c</title>\n",
       "<path fill=\"none\" stroke=\"black\" d=\"M1261.68,-220.08C1302.41,-194.37 1354.61,-161.42 1399.46,-133.1\"/>\n",
       "<polygon fill=\"black\" stroke=\"black\" points=\"1401.03,-135.62 1407.62,-127.32 1397.3,-129.7 1401.03,-135.62\"/>\n",
       "<text text-anchor=\"middle\" x=\"1392.58\" y=\"-162.62\" font-family=\"Times,serif\" font-size=\"14.00\">has part (city)</text>\n",
       "</g>\n",
       "<!-- https___www.simphony&#45;osp.eu_entity#e04f8084&#45;d09d&#45;4cac&#45;83f9&#45;9aff30faf82c -->\n",
       "<g id=\"node9\" class=\"node\">\n",
       "<title>https___www.simphony&#45;osp.eu_entity#e04f8084&#45;d09d&#45;4cac&#45;83f9&#45;9aff30faf82c</title>\n",
       "<ellipse fill=\"none\" stroke=\"black\" cx=\"1805.7\" cy=\"-70.71\" rx=\"145.31\" ry=\"70.71\"/>\n",
       "<text text-anchor=\"start\" x=\"1764.83\" y=\"-99.41\" font-family=\"Times,serif\" font-size=\"14.00\">e04f8084...82c</text>\n",
       "<text text-anchor=\"start\" x=\"1727.7\" y=\"-76.91\" font-family=\"Times,serif\" font-size=\"14.00\">classes: Neighborhood (city)</text>\n",
       "<text text-anchor=\"start\" x=\"1714.95\" y=\"-54.41\" font-family=\"Times,serif\" font-size=\"14.00\">coordinates: [47.99525 &#160;7.84726]</text>\n",
       "<text text-anchor=\"start\" x=\"1763.33\" y=\"-31.91\" font-family=\"Times,serif\" font-size=\"14.00\">name: The City</text>\n",
       "</g>\n",
       "<!-- https___www.simphony&#45;osp.eu_entity#53d488f7&#45;0efc&#45;4266&#45;a2f7&#45;4f7b21e2f178&#45;&gt;https___www.simphony&#45;osp.eu_entity#e04f8084&#45;d09d&#45;4cac&#45;83f9&#45;9aff30faf82c -->\n",
       "<g id=\"edge2\" class=\"edge\">\n",
       "<title>https___www.simphony&#45;osp.eu_entity#53d488f7&#45;0efc&#45;4266&#45;a2f7&#45;4f7b21e2f178&#45;&gt;https___www.simphony&#45;osp.eu_entity#e04f8084&#45;d09d&#45;4cac&#45;83f9&#45;9aff30faf82c</title>\n",
       "<path fill=\"none\" stroke=\"black\" d=\"M1277.95,-245.24C1370.88,-224.2 1523.35,-186.72 1650.7,-141.42 1664.35,-136.57 1678.46,-131.01 1692.36,-125.2\"/>\n",
       "<polygon fill=\"black\" stroke=\"black\" points=\"1693.59,-128.06 1701.43,-120.94 1690.85,-121.62 1693.59,-128.06\"/>\n",
       "<text text-anchor=\"middle\" x=\"1627.58\" y=\"-162.62\" font-family=\"Times,serif\" font-size=\"14.00\">has part (city)</text>\n",
       "</g>\n",
       "</g>\n",
       "</svg>\n"
      ],
      "text/plain": [
       "<simphony_osp.tools.semantic2dot.Semantic2Dot at 0x132daa950>"
      ]
     },
     "execution_count": 17,
     "metadata": {},
     "output_type": "execute_result"
    }
   ],
   "source": [
    "semantic2dot(core_session)"
   ]
  },
  {
   "cell_type": "markdown",
   "id": "c1d1fe15",
   "metadata": {},
   "source": [
    "Now lets add Marylebone to haifa as well. \n"
   ]
  },
  {
   "cell_type": "code",
   "execution_count": 18,
   "id": "c8ae588b",
   "metadata": {},
   "outputs": [
    {
     "name": "stdout",
     "output_type": "stream",
     "text": [
      "<class 'set'>\n"
     ]
    }
   ],
   "source": [
    "print(type(neighborhoods))"
   ]
  },
  {
   "cell_type": "code",
   "execution_count": 19,
   "id": "d16cd038",
   "metadata": {},
   "outputs": [
    {
     "name": "stdout",
     "output_type": "stream",
     "text": [
      "- Ontology individual:\n",
      "  identifier: 52e05899-f74c-4c5f-80ce-2171e441802e\n",
      "  type: Neighborhood (city )\n",
      "  superclasses: Neighborhood (city ), Populated Place (city ), Geographical Place (city ), Thing (owl )\n",
      "  values: \u0000coordinates: [48.00779  7.86268]\n",
      "          \u0000name: Marylebone\n"
     ]
    }
   ],
   "source": [
    "for neighborhood in neighborhoods:\n",
    "    if \"Mary\" in str(neighborhood.name):\n",
    "        pretty_print (neighborhood)\n",
    "        marylebone=neighborhood"
   ]
  },
  {
   "cell_type": "code",
   "execution_count": 20,
   "id": "5bd5949a",
   "metadata": {},
   "outputs": [
    {
     "name": "stdout",
     "output_type": "stream",
     "text": [
      "- Ontology individual:\n",
      "  identifier: 52e05899-f74c-4c5f-80ce-2171e441802e\n",
      "  type: Neighborhood (city )\n",
      "  superclasses: Neighborhood (city ), Populated Place (city ), Geographical Place (city ), Thing (owl )\n",
      "  values: \u0000coordinates: [48.00779  7.86268]\n",
      "          \u0000name: Marylebone\n"
     ]
    }
   ],
   "source": [
    "pretty_print(marylebone) # just double check"
   ]
  },
  {
   "cell_type": "code",
   "execution_count": 27,
   "id": "8a715f66",
   "metadata": {},
   "outputs": [],
   "source": [
    "haifa[city.hasPart] += marylebone"
   ]
  },
  {
   "cell_type": "code",
   "execution_count": 22,
   "id": "f5f073f4",
   "metadata": {},
   "outputs": [
    {
     "data": {
      "image/svg+xml": [
       "<?xml version=\"1.0\" encoding=\"UTF-8\" standalone=\"no\"?>\n",
       "<!DOCTYPE svg PUBLIC \"-//W3C//DTD SVG 1.1//EN\"\n",
       " \"http://www.w3.org/Graphics/SVG/1.1/DTD/svg11.dtd\">\n",
       "<!-- Generated by graphviz version 8.0.5 (20230430.1635)\n",
       " -->\n",
       "<!-- Title: SimPhoNy semantic2dot Pages: 1 -->\n",
       "<svg width=\"1960pt\" height=\"343pt\"\n",
       " viewBox=\"0.00 0.00 1959.77 343.34\" xmlns=\"http://www.w3.org/2000/svg\" xmlns:xlink=\"http://www.w3.org/1999/xlink\">\n",
       "<g id=\"graph0\" class=\"graph\" transform=\"scale(1 1) rotate(0) translate(4 339.34)\">\n",
       "<title>SimPhoNy semantic2dot</title>\n",
       "<polygon fill=\"white\" stroke=\"none\" points=\"-4,4 -4,-339.34 1955.77,-339.34 1955.77,4 -4,4\"/>\n",
       "<!-- https___www.simphony&#45;osp.eu_entity#cda511e3&#45;1aa8&#45;46b3&#45;b83d&#45;b6480467b2ee -->\n",
       "<g id=\"node1\" class=\"node\">\n",
       "<title>https___www.simphony&#45;osp.eu_entity#cda511e3&#45;1aa8&#45;46b3&#45;b83d&#45;b6480467b2ee</title>\n",
       "<ellipse fill=\"none\" stroke=\"black\" cx=\"99.7\" cy=\"-70.71\" rx=\"99.7\" ry=\"70.71\"/>\n",
       "<text text-anchor=\"start\" x=\"58.83\" y=\"-99.41\" font-family=\"Times,serif\" font-size=\"14.00\">cda511e3...2ee</text>\n",
       "<text text-anchor=\"start\" x=\"41.2\" y=\"-76.91\" font-family=\"Times,serif\" font-size=\"14.00\">classes: Citizen (city)</text>\n",
       "<text text-anchor=\"start\" x=\"79.83\" y=\"-54.41\" font-family=\"Times,serif\" font-size=\"14.00\">age: 55</text>\n",
       "<text text-anchor=\"start\" x=\"63.33\" y=\"-31.91\" font-family=\"Times,serif\" font-size=\"14.00\">name: Kalish</text>\n",
       "</g>\n",
       "<!-- https___www.simphony&#45;osp.eu_entity#4b5be559&#45;108b&#45;4867&#45;a0c9&#45;2fd9c7275042 -->\n",
       "<g id=\"node2\" class=\"node\">\n",
       "<title>https___www.simphony&#45;osp.eu_entity#4b5be559&#45;108b&#45;4867&#45;a0c9&#45;2fd9c7275042</title>\n",
       "<ellipse fill=\"none\" stroke=\"black\" cx=\"1506.7\" cy=\"-70.71\" rx=\"145.31\" ry=\"70.71\"/>\n",
       "<text text-anchor=\"start\" x=\"1464.33\" y=\"-99.41\" font-family=\"Times,serif\" font-size=\"14.00\">4b5be559...042</text>\n",
       "<text text-anchor=\"start\" x=\"1428.7\" y=\"-76.91\" font-family=\"Times,serif\" font-size=\"14.00\">classes: Neighborhood (city)</text>\n",
       "<text text-anchor=\"start\" x=\"1450.45\" y=\"-54.41\" font-family=\"Times,serif\" font-size=\"14.00\">name: Webmly Park</text>\n",
       "<text text-anchor=\"start\" x=\"1415.95\" y=\"-31.91\" font-family=\"Times,serif\" font-size=\"14.00\">coordinates: [48.00021 &#160;7.86084]</text>\n",
       "</g>\n",
       "<!-- https___www.simphony&#45;osp.eu_entity#aeb51c2b&#45;956f&#45;4b8d&#45;9454&#45;c144726ff906 -->\n",
       "<g id=\"node3\" class=\"node\">\n",
       "<title>https___www.simphony&#45;osp.eu_entity#aeb51c2b&#45;956f&#45;4b8d&#45;9454&#45;c144726ff906</title>\n",
       "<ellipse fill=\"none\" stroke=\"black\" cx=\"316.7\" cy=\"-264.63\" rx=\"88.57\" ry=\"70.71\"/>\n",
       "<text text-anchor=\"start\" x=\"275.08\" y=\"-293.33\" font-family=\"Times,serif\" font-size=\"14.00\">aeb51c2b...906</text>\n",
       "<text text-anchor=\"start\" x=\"266.08\" y=\"-270.83\" font-family=\"Times,serif\" font-size=\"14.00\">classes: City (city)</text>\n",
       "<text text-anchor=\"start\" x=\"284.45\" y=\"-248.33\" font-family=\"Times,serif\" font-size=\"14.00\">name: haifa</text>\n",
       "<text text-anchor=\"start\" x=\"268.7\" y=\"-225.83\" font-family=\"Times,serif\" font-size=\"14.00\">coordinates: [0 0]</text>\n",
       "</g>\n",
       "<!-- https___www.simphony&#45;osp.eu_entity#aeb51c2b&#45;956f&#45;4b8d&#45;9454&#45;c144726ff906&#45;&gt;https___www.simphony&#45;osp.eu_entity#cda511e3&#45;1aa8&#45;46b3&#45;b83d&#45;b6480467b2ee -->\n",
       "<g id=\"edge5\" class=\"edge\">\n",
       "<title>https___www.simphony&#45;osp.eu_entity#aeb51c2b&#45;956f&#45;4b8d&#45;9454&#45;c144726ff906&#45;&gt;https___www.simphony&#45;osp.eu_entity#cda511e3&#45;1aa8&#45;46b3&#45;b83d&#45;b6480467b2ee</title>\n",
       "<path fill=\"none\" stroke=\"black\" d=\"M257.69,-211.44C230.5,-187.4 198.04,-158.68 169.63,-133.56\"/>\n",
       "<polygon fill=\"black\" stroke=\"black\" points=\"172.54,-131.58 162.73,-127.57 167.9,-136.82 172.54,-131.58\"/>\n",
       "<text text-anchor=\"middle\" x=\"259.2\" y=\"-162.62\" font-family=\"Times,serif\" font-size=\"14.00\">has major (city)</text>\n",
       "</g>\n",
       "<!-- https___www.simphony&#45;osp.eu_entity#52e05899&#45;f74c&#45;4c5f&#45;80ce&#45;2171e441802e -->\n",
       "<g id=\"node4\" class=\"node\">\n",
       "<title>https___www.simphony&#45;osp.eu_entity#52e05899&#45;f74c&#45;4c5f&#45;80ce&#45;2171e441802e</title>\n",
       "<ellipse fill=\"none\" stroke=\"black\" cx=\"579.7\" cy=\"-70.71\" rx=\"145.31\" ry=\"70.71\"/>\n",
       "<text text-anchor=\"start\" x=\"537.7\" y=\"-99.41\" font-family=\"Times,serif\" font-size=\"14.00\">52e05899...02e</text>\n",
       "<text text-anchor=\"start\" x=\"501.7\" y=\"-76.91\" font-family=\"Times,serif\" font-size=\"14.00\">classes: Neighborhood (city)</text>\n",
       "<text text-anchor=\"start\" x=\"488.95\" y=\"-54.41\" font-family=\"Times,serif\" font-size=\"14.00\">coordinates: [48.00779 &#160;7.86268]</text>\n",
       "<text text-anchor=\"start\" x=\"527.95\" y=\"-31.91\" font-family=\"Times,serif\" font-size=\"14.00\">name: Marylebone</text>\n",
       "</g>\n",
       "<!-- https___www.simphony&#45;osp.eu_entity#aeb51c2b&#45;956f&#45;4b8d&#45;9454&#45;c144726ff906&#45;&gt;https___www.simphony&#45;osp.eu_entity#52e05899&#45;f74c&#45;4c5f&#45;80ce&#45;2171e441802e -->\n",
       "<g id=\"edge3\" class=\"edge\">\n",
       "<title>https___www.simphony&#45;osp.eu_entity#aeb51c2b&#45;956f&#45;4b8d&#45;9454&#45;c144726ff906&#45;&gt;https___www.simphony&#45;osp.eu_entity#52e05899&#45;f74c&#45;4c5f&#45;80ce&#45;2171e441802e</title>\n",
       "<path fill=\"none\" stroke=\"black\" d=\"M381.71,-216.19C414.81,-192.04 455.52,-162.33 491.41,-136.14\"/>\n",
       "<polygon fill=\"black\" stroke=\"black\" points=\"492.93,-138.64 498.94,-129.91 488.8,-132.98 492.93,-138.64\"/>\n",
       "<text text-anchor=\"middle\" x=\"494.58\" y=\"-162.62\" font-family=\"Times,serif\" font-size=\"14.00\">has part (city)</text>\n",
       "</g>\n",
       "<!-- https___www.simphony&#45;osp.eu_entity#9061d8bd&#45;0a44&#45;4c14&#45;8bf9&#45;290a1f8d918d -->\n",
       "<g id=\"node6\" class=\"node\">\n",
       "<title>https___www.simphony&#45;osp.eu_entity#9061d8bd&#45;0a44&#45;4c14&#45;8bf9&#45;290a1f8d918d</title>\n",
       "<ellipse fill=\"none\" stroke=\"black\" cx=\"316.7\" cy=\"-70.71\" rx=\"99.7\" ry=\"70.71\"/>\n",
       "<text text-anchor=\"start\" x=\"273.95\" y=\"-99.41\" font-family=\"Times,serif\" font-size=\"14.00\">9061d8bd...18d</text>\n",
       "<text text-anchor=\"start\" x=\"258.2\" y=\"-76.91\" font-family=\"Times,serif\" font-size=\"14.00\">classes: Citizen (city)</text>\n",
       "<text text-anchor=\"start\" x=\"296.83\" y=\"-54.41\" font-family=\"Times,serif\" font-size=\"14.00\">age: 66</text>\n",
       "<text text-anchor=\"start\" x=\"279.2\" y=\"-31.91\" font-family=\"Times,serif\" font-size=\"14.00\">name: Mezna</text>\n",
       "</g>\n",
       "<!-- https___www.simphony&#45;osp.eu_entity#aeb51c2b&#45;956f&#45;4b8d&#45;9454&#45;c144726ff906&#45;&gt;https___www.simphony&#45;osp.eu_entity#9061d8bd&#45;0a44&#45;4c14&#45;8bf9&#45;290a1f8d918d -->\n",
       "<g id=\"edge1\" class=\"edge\">\n",
       "<title>https___www.simphony&#45;osp.eu_entity#aeb51c2b&#45;956f&#45;4b8d&#45;9454&#45;c144726ff906&#45;&gt;https___www.simphony&#45;osp.eu_entity#9061d8bd&#45;0a44&#45;4c14&#45;8bf9&#45;290a1f8d918d</title>\n",
       "<path fill=\"none\" stroke=\"black\" d=\"M316.7,-193.53C316.7,-180.18 316.7,-166.11 316.7,-152.46\"/>\n",
       "<polygon fill=\"black\" stroke=\"black\" points=\"320.2,-152.62 316.7,-142.62 313.2,-152.62 320.2,-152.62\"/>\n",
       "<text text-anchor=\"middle\" x=\"360.2\" y=\"-162.62\" font-family=\"Times,serif\" font-size=\"14.00\">has major (city)</text>\n",
       "</g>\n",
       "<!-- https___www.simphony&#45;osp.eu_entity#c3e9f21e&#45;5de3&#45;41f5&#45;a362&#45;752dd081051e -->\n",
       "<g id=\"node5\" class=\"node\">\n",
       "<title>https___www.simphony&#45;osp.eu_entity#c3e9f21e&#45;5de3&#45;41f5&#45;a362&#45;752dd081051e</title>\n",
       "<ellipse fill=\"none\" stroke=\"black\" cx=\"1810.7\" cy=\"-70.71\" rx=\"141.07\" ry=\"70.71\"/>\n",
       "<text text-anchor=\"start\" x=\"1770.58\" y=\"-99.41\" font-family=\"Times,serif\" font-size=\"14.00\">c3e9f21e...51e</text>\n",
       "<text text-anchor=\"start\" x=\"1732.7\" y=\"-76.91\" font-family=\"Times,serif\" font-size=\"14.00\">classes: Neighborhood (city)</text>\n",
       "<text text-anchor=\"start\" x=\"1766.83\" y=\"-54.41\" font-family=\"Times,serif\" font-size=\"14.00\">name: Battersea</text>\n",
       "<text text-anchor=\"start\" x=\"1722.95\" y=\"-31.91\" font-family=\"Times,serif\" font-size=\"14.00\">coordinates: [48.01684 &#160;7.843 &#160;]</text>\n",
       "</g>\n",
       "<!-- https___www.simphony&#45;osp.eu_entity#41d18305&#45;512d&#45;4b05&#45;a2fe&#45;bd500a42fc8c -->\n",
       "<g id=\"node7\" class=\"node\">\n",
       "<title>https___www.simphony&#45;osp.eu_entity#41d18305&#45;512d&#45;4b05&#45;a2fe&#45;bd500a42fc8c</title>\n",
       "<ellipse fill=\"none\" stroke=\"black\" cx=\"888.7\" cy=\"-70.71\" rx=\"145.31\" ry=\"70.71\"/>\n",
       "<text text-anchor=\"start\" x=\"846.7\" y=\"-99.41\" font-family=\"Times,serif\" font-size=\"14.00\">41d18305...c8c</text>\n",
       "<text text-anchor=\"start\" x=\"810.7\" y=\"-76.91\" font-family=\"Times,serif\" font-size=\"14.00\">classes: Neighborhood (city)</text>\n",
       "<text text-anchor=\"start\" x=\"846.33\" y=\"-54.41\" font-family=\"Times,serif\" font-size=\"14.00\">name: Alperton</text>\n",
       "<text text-anchor=\"start\" x=\"797.95\" y=\"-31.91\" font-family=\"Times,serif\" font-size=\"14.00\">coordinates: [47.99888 &#160;7.83774]</text>\n",
       "</g>\n",
       "<!-- https___www.simphony&#45;osp.eu_entity#53d488f7&#45;0efc&#45;4266&#45;a2f7&#45;4f7b21e2f178 -->\n",
       "<g id=\"node8\" class=\"node\">\n",
       "<title>https___www.simphony&#45;osp.eu_entity#53d488f7&#45;0efc&#45;4266&#45;a2f7&#45;4f7b21e2f178</title>\n",
       "<ellipse fill=\"none\" stroke=\"black\" cx=\"1197.7\" cy=\"-264.63\" rx=\"88.57\" ry=\"70.71\"/>\n",
       "<text text-anchor=\"start\" x=\"1156.08\" y=\"-293.33\" font-family=\"Times,serif\" font-size=\"14.00\">53d488f7...178</text>\n",
       "<text text-anchor=\"start\" x=\"1147.08\" y=\"-270.83\" font-family=\"Times,serif\" font-size=\"14.00\">classes: City (city)</text>\n",
       "<text text-anchor=\"start\" x=\"1149.7\" y=\"-248.33\" font-family=\"Times,serif\" font-size=\"14.00\">coordinates: [1 1]</text>\n",
       "<text text-anchor=\"start\" x=\"1160.2\" y=\"-225.83\" font-family=\"Times,serif\" font-size=\"14.00\">name: london</text>\n",
       "</g>\n",
       "<!-- https___www.simphony&#45;osp.eu_entity#53d488f7&#45;0efc&#45;4266&#45;a2f7&#45;4f7b21e2f178&#45;&gt;https___www.simphony&#45;osp.eu_entity#4b5be559&#45;108b&#45;4867&#45;a0c9&#45;2fd9c7275042 -->\n",
       "<g id=\"edge8\" class=\"edge\">\n",
       "<title>https___www.simphony&#45;osp.eu_entity#53d488f7&#45;0efc&#45;4266&#45;a2f7&#45;4f7b21e2f178&#45;&gt;https___www.simphony&#45;osp.eu_entity#4b5be559&#45;108b&#45;4867&#45;a0c9&#45;2fd9c7275042</title>\n",
       "<path fill=\"none\" stroke=\"black\" d=\"M1267.05,-220.56C1308.75,-194.66 1362.49,-161.28 1408.51,-132.7\"/>\n",
       "<polygon fill=\"black\" stroke=\"black\" points=\"1409.96,-135.3 1416.61,-127.05 1406.27,-129.35 1409.96,-135.3\"/>\n",
       "<text text-anchor=\"middle\" x=\"1398.58\" y=\"-162.62\" font-family=\"Times,serif\" font-size=\"14.00\">has part (city)</text>\n",
       "</g>\n",
       "<!-- https___www.simphony&#45;osp.eu_entity#53d488f7&#45;0efc&#45;4266&#45;a2f7&#45;4f7b21e2f178&#45;&gt;https___www.simphony&#45;osp.eu_entity#52e05899&#45;f74c&#45;4c5f&#45;80ce&#45;2171e441802e -->\n",
       "<g id=\"edge7\" class=\"edge\">\n",
       "<title>https___www.simphony&#45;osp.eu_entity#53d488f7&#45;0efc&#45;4266&#45;a2f7&#45;4f7b21e2f178&#45;&gt;https___www.simphony&#45;osp.eu_entity#52e05899&#45;f74c&#45;4c5f&#45;80ce&#45;2171e441802e</title>\n",
       "<path fill=\"none\" stroke=\"black\" d=\"M1111.94,-245.45C1018.03,-224.52 863.61,-187.07 734.7,-141.42 721.05,-136.59 706.93,-131.04 693.03,-125.24\"/>\n",
       "<polygon fill=\"black\" stroke=\"black\" points=\"694.54,-121.65 683.96,-120.98 691.81,-128.1 694.54,-121.65\"/>\n",
       "<text text-anchor=\"middle\" x=\"871.58\" y=\"-162.62\" font-family=\"Times,serif\" font-size=\"14.00\">has part (city)</text>\n",
       "</g>\n",
       "<!-- https___www.simphony&#45;osp.eu_entity#53d488f7&#45;0efc&#45;4266&#45;a2f7&#45;4f7b21e2f178&#45;&gt;https___www.simphony&#45;osp.eu_entity#c3e9f21e&#45;5de3&#45;41f5&#45;a362&#45;752dd081051e -->\n",
       "<g id=\"edge6\" class=\"edge\">\n",
       "<title>https___www.simphony&#45;osp.eu_entity#53d488f7&#45;0efc&#45;4266&#45;a2f7&#45;4f7b21e2f178&#45;&gt;https___www.simphony&#45;osp.eu_entity#c3e9f21e&#45;5de3&#45;41f5&#45;a362&#45;752dd081051e</title>\n",
       "<path fill=\"none\" stroke=\"black\" d=\"M1283.57,-245.76C1377.58,-225.09 1532.08,-187.87 1660.7,-141.42 1673.96,-136.63 1687.65,-131.12 1701.11,-125.33\"/>\n",
       "<polygon fill=\"black\" stroke=\"black\" points=\"1702.1,-128.28 1709.87,-121.08 1699.31,-121.87 1702.1,-128.28\"/>\n",
       "<text text-anchor=\"middle\" x=\"1636.58\" y=\"-162.62\" font-family=\"Times,serif\" font-size=\"14.00\">has part (city)</text>\n",
       "</g>\n",
       "<!-- https___www.simphony&#45;osp.eu_entity#53d488f7&#45;0efc&#45;4266&#45;a2f7&#45;4f7b21e2f178&#45;&gt;https___www.simphony&#45;osp.eu_entity#41d18305&#45;512d&#45;4b05&#45;a2fe&#45;bd500a42fc8c -->\n",
       "<g id=\"edge2\" class=\"edge\">\n",
       "<title>https___www.simphony&#45;osp.eu_entity#53d488f7&#45;0efc&#45;4266&#45;a2f7&#45;4f7b21e2f178&#45;&gt;https___www.simphony&#45;osp.eu_entity#41d18305&#45;512d&#45;4b05&#45;a2fe&#45;bd500a42fc8c</title>\n",
       "<path fill=\"none\" stroke=\"black\" d=\"M1128.36,-220.56C1086.65,-194.66 1032.91,-161.28 986.89,-132.7\"/>\n",
       "<polygon fill=\"black\" stroke=\"black\" points=\"989.14,-129.35 978.8,-127.05 985.44,-135.3 989.14,-129.35\"/>\n",
       "<text text-anchor=\"middle\" x=\"1089.58\" y=\"-162.62\" font-family=\"Times,serif\" font-size=\"14.00\">has part (city)</text>\n",
       "</g>\n",
       "<!-- https___www.simphony&#45;osp.eu_entity#e04f8084&#45;d09d&#45;4cac&#45;83f9&#45;9aff30faf82c -->\n",
       "<g id=\"node9\" class=\"node\">\n",
       "<title>https___www.simphony&#45;osp.eu_entity#e04f8084&#45;d09d&#45;4cac&#45;83f9&#45;9aff30faf82c</title>\n",
       "<ellipse fill=\"none\" stroke=\"black\" cx=\"1197.7\" cy=\"-70.71\" rx=\"145.31\" ry=\"70.71\"/>\n",
       "<text text-anchor=\"start\" x=\"1156.83\" y=\"-99.41\" font-family=\"Times,serif\" font-size=\"14.00\">e04f8084...82c</text>\n",
       "<text text-anchor=\"start\" x=\"1119.7\" y=\"-76.91\" font-family=\"Times,serif\" font-size=\"14.00\">classes: Neighborhood (city)</text>\n",
       "<text text-anchor=\"start\" x=\"1106.95\" y=\"-54.41\" font-family=\"Times,serif\" font-size=\"14.00\">coordinates: [47.99525 &#160;7.84726]</text>\n",
       "<text text-anchor=\"start\" x=\"1155.33\" y=\"-31.91\" font-family=\"Times,serif\" font-size=\"14.00\">name: The City</text>\n",
       "</g>\n",
       "<!-- https___www.simphony&#45;osp.eu_entity#53d488f7&#45;0efc&#45;4266&#45;a2f7&#45;4f7b21e2f178&#45;&gt;https___www.simphony&#45;osp.eu_entity#e04f8084&#45;d09d&#45;4cac&#45;83f9&#45;9aff30faf82c -->\n",
       "<g id=\"edge4\" class=\"edge\">\n",
       "<title>https___www.simphony&#45;osp.eu_entity#53d488f7&#45;0efc&#45;4266&#45;a2f7&#45;4f7b21e2f178&#45;&gt;https___www.simphony&#45;osp.eu_entity#e04f8084&#45;d09d&#45;4cac&#45;83f9&#45;9aff30faf82c</title>\n",
       "<path fill=\"none\" stroke=\"black\" d=\"M1197.7,-193.53C1197.7,-180.18 1197.7,-166.11 1197.7,-152.46\"/>\n",
       "<polygon fill=\"black\" stroke=\"black\" points=\"1201.2,-152.62 1197.7,-142.62 1194.2,-152.62 1201.2,-152.62\"/>\n",
       "<text text-anchor=\"middle\" x=\"1235.58\" y=\"-162.62\" font-family=\"Times,serif\" font-size=\"14.00\">has part (city)</text>\n",
       "</g>\n",
       "</g>\n",
       "</svg>\n"
      ],
      "text/plain": [
       "<simphony_osp.tools.semantic2dot.Semantic2Dot at 0x132de1490>"
      ]
     },
     "execution_count": 22,
     "metadata": {},
     "output_type": "execute_result"
    }
   ],
   "source": [
    "semantic2dot(core_session)"
   ]
  },
  {
   "cell_type": "code",
   "execution_count": 23,
   "id": "74e9dd4c",
   "metadata": {},
   "outputs": [
    {
     "name": "stdout",
     "output_type": "stream",
     "text": [
      "- Ontology individual:\n",
      "  identifier: 53d488f7-0efc-4266-a2f7-4f7b21e2f178\n",
      "  type: City (city )\n",
      "  superclasses: City (city ), Populated Place (city ), Geographical Place (city ), Thing (owl )\n",
      "  values: \u0000coordinates: [1 1]\n",
      "          \u0000name: london\n",
      "   |_Relationship has part (city ) (city):\n",
      "     - Ontology individual of class Neighborhood\n",
      "      . identifier: 41d18305-512d-4b05-a2fe-bd500a42fc8c\n",
      "      . \u0000coordinates: [47.99888  7.83774]\n",
      "      . \u0000name: Alperton\n",
      "     - Ontology individual of class Neighborhood\n",
      "      . identifier: 4b5be559-108b-4867-a0c9-2fd9c7275042\n",
      "      . \u0000coordinates: [48.00021  7.86084]\n",
      "      . \u0000name: Webmly Park\n",
      "     - Ontology individual of class Neighborhood\n",
      "      . identifier: 52e05899-f74c-4c5f-80ce-2171e441802e\n",
      "      . \u0000coordinates: [48.00779  7.86268]\n",
      "      . \u0000name: Marylebone\n",
      "     - Ontology individual of class Neighborhood\n",
      "      . identifier: c3e9f21e-5de3-41f5-a362-752dd081051e\n",
      "      . \u0000coordinates: [48.01684  7.843  ]\n",
      "      . \u0000name: Battersea\n",
      "     - Ontology individual of class Neighborhood\n",
      "        identifier: e04f8084-d09d-4cac-83f9-9aff30faf82c\n",
      "        \u0000coordinates: [47.99525  7.84726]\n",
      "        \u0000name: The City\n"
     ]
    }
   ],
   "source": [
    "pretty_print(london)"
   ]
  },
  {
   "cell_type": "code",
   "execution_count": 24,
   "id": "70c4474e",
   "metadata": {},
   "outputs": [
    {
     "name": "stdout",
     "output_type": "stream",
     "text": [
      "- Ontology individual:\n",
      "  identifier: aeb51c2b-956f-4b8d-9454-c144726ff906\n",
      "  type: City (city )\n",
      "  superclasses: City (city ), Populated Place (city ), Geographical Place (city ), Thing (owl )\n",
      "  values: \u0000coordinates: [0 0]\n",
      "          \u0000name: haifa\n",
      "   |_Relationship has major (city ) (city):\n",
      "   | - Ontology individual of class Citizen\n",
      "   |  . identifier: 9061d8bd-0a44-4c14-8bf9-290a1f8d918d\n",
      "   |  . \u0000age: 66\n",
      "   |  . \u0000name: Mezna\n",
      "   | - Ontology individual of class Citizen\n",
      "   |    identifier: cda511e3-1aa8-46b3-b83d-b6480467b2ee\n",
      "   |    \u0000age: 55\n",
      "   |    \u0000name: Kalish\n",
      "   |_Relationship has part (city ) (city):\n",
      "     - Ontology individual of class Neighborhood\n",
      "        identifier: 52e05899-f74c-4c5f-80ce-2171e441802e\n",
      "        \u0000coordinates: [48.00779  7.86268]\n",
      "        \u0000name: Marylebone\n"
     ]
    }
   ],
   "source": [
    "pretty_print(haifa)"
   ]
  },
  {
   "cell_type": "code",
   "execution_count": 29,
   "id": "c7d6d736",
   "metadata": {},
   "outputs": [
    {
     "name": "stdout",
     "output_type": "stream",
     "text": [
      "- Ontology individual:\n",
      "  identifier: c3e9f21e-5de3-41f5-a362-752dd081051e\n",
      "  type: Neighborhood (city )\n",
      "  superclasses: Neighborhood (city ), Populated Place (city ), Geographical Place (city ), Thing (owl )\n",
      "  values: \u0000coordinates: [48.01684  7.843  ]\n",
      "          \u0000name: Battersea\n"
     ]
    }
   ],
   "source": [
    "for neighborhood in neighborhoods:\n",
    "    if \"Bat\" in str(neighborhood.name):\n",
    "        pretty_print (neighborhood)\n",
    "        bater=neighborhood"
   ]
  },
  {
   "cell_type": "code",
   "execution_count": 30,
   "id": "d1192fcd",
   "metadata": {},
   "outputs": [
    {
     "data": {
      "text/plain": [
       "<OntologyIndividual: c3e9f21e-5de3-41f5-a362-752dd081051e>"
      ]
     },
     "execution_count": 30,
     "metadata": {},
     "output_type": "execute_result"
    }
   ],
   "source": [
    "bater"
   ]
  },
  {
   "cell_type": "code",
   "execution_count": 31,
   "id": "351d6037",
   "metadata": {},
   "outputs": [],
   "source": [
    "haifa.connect(bater, rel=city.hasPart)"
   ]
  },
  {
   "cell_type": "code",
   "execution_count": 32,
   "id": "6998c9f8",
   "metadata": {},
   "outputs": [
    {
     "name": "stdout",
     "output_type": "stream",
     "text": [
      "- Ontology individual:\n",
      "  identifier: aeb51c2b-956f-4b8d-9454-c144726ff906\n",
      "  type: City (city )\n",
      "  superclasses: City (city ), Populated Place (city ), Geographical Place (city ), Thing (owl )\n",
      "  values: \u0000coordinates: [0 0]\n",
      "          \u0000name: haifa\n",
      "   |_Relationship has major (city ) (city):\n",
      "   | - Ontology individual of class Citizen\n",
      "   |  . identifier: 9061d8bd-0a44-4c14-8bf9-290a1f8d918d\n",
      "   |  . \u0000age: 66\n",
      "   |  . \u0000name: Mezna\n",
      "   | - Ontology individual of class Citizen\n",
      "   |    identifier: cda511e3-1aa8-46b3-b83d-b6480467b2ee\n",
      "   |    \u0000age: 55\n",
      "   |    \u0000name: Kalish\n",
      "   |_Relationship has part (city ) (city):\n",
      "     - Ontology individual of class Neighborhood\n",
      "      . identifier: 52e05899-f74c-4c5f-80ce-2171e441802e\n",
      "      . \u0000coordinates: [48.00779  7.86268]\n",
      "      . \u0000name: Marylebone\n",
      "     - Ontology individual of class Neighborhood\n",
      "        identifier: c3e9f21e-5de3-41f5-a362-752dd081051e\n",
      "        \u0000coordinates: [48.01684  7.843  ]\n",
      "        \u0000name: Battersea\n"
     ]
    }
   ],
   "source": [
    "pretty_print(haifa)"
   ]
  },
  {
   "cell_type": "code",
   "execution_count": 34,
   "id": "40c47058",
   "metadata": {},
   "outputs": [
    {
     "data": {
      "image/svg+xml": [
       "<?xml version=\"1.0\" encoding=\"UTF-8\" standalone=\"no\"?>\n",
       "<!DOCTYPE svg PUBLIC \"-//W3C//DTD SVG 1.1//EN\"\n",
       " \"http://www.w3.org/Graphics/SVG/1.1/DTD/svg11.dtd\">\n",
       "<!-- Generated by graphviz version 8.0.5 (20230430.1635)\n",
       " -->\n",
       "<!-- Title: SimPhoNy semantic2dot Pages: 1 -->\n",
       "<svg width=\"1959pt\" height=\"343pt\"\n",
       " viewBox=\"0.00 0.00 1959.01 343.34\" xmlns=\"http://www.w3.org/2000/svg\" xmlns:xlink=\"http://www.w3.org/1999/xlink\">\n",
       "<g id=\"graph0\" class=\"graph\" transform=\"scale(1 1) rotate(0) translate(4 339.34)\">\n",
       "<title>SimPhoNy semantic2dot</title>\n",
       "<polygon fill=\"white\" stroke=\"none\" points=\"-4,4 -4,-339.34 1955.01,-339.34 1955.01,4 -4,4\"/>\n",
       "<!-- https___www.simphony&#45;osp.eu_entity#cda511e3&#45;1aa8&#45;46b3&#45;b83d&#45;b6480467b2ee -->\n",
       "<g id=\"node1\" class=\"node\">\n",
       "<title>https___www.simphony&#45;osp.eu_entity#cda511e3&#45;1aa8&#45;46b3&#45;b83d&#45;b6480467b2ee</title>\n",
       "<ellipse fill=\"none\" stroke=\"black\" cx=\"99.7\" cy=\"-70.71\" rx=\"99.7\" ry=\"70.71\"/>\n",
       "<text text-anchor=\"start\" x=\"58.83\" y=\"-99.41\" font-family=\"Times,serif\" font-size=\"14.00\">cda511e3...2ee</text>\n",
       "<text text-anchor=\"start\" x=\"41.2\" y=\"-76.91\" font-family=\"Times,serif\" font-size=\"14.00\">classes: Citizen (city)</text>\n",
       "<text text-anchor=\"start\" x=\"79.83\" y=\"-54.41\" font-family=\"Times,serif\" font-size=\"14.00\">age: 55</text>\n",
       "<text text-anchor=\"start\" x=\"63.33\" y=\"-31.91\" font-family=\"Times,serif\" font-size=\"14.00\">name: Kalish</text>\n",
       "</g>\n",
       "<!-- https___www.simphony&#45;osp.eu_entity#4b5be559&#45;108b&#45;4867&#45;a0c9&#45;2fd9c7275042 -->\n",
       "<g id=\"node2\" class=\"node\">\n",
       "<title>https___www.simphony&#45;osp.eu_entity#4b5be559&#45;108b&#45;4867&#45;a0c9&#45;2fd9c7275042</title>\n",
       "<ellipse fill=\"none\" stroke=\"black\" cx=\"1187.7\" cy=\"-70.71\" rx=\"145.31\" ry=\"70.71\"/>\n",
       "<text text-anchor=\"start\" x=\"1145.33\" y=\"-99.41\" font-family=\"Times,serif\" font-size=\"14.00\">4b5be559...042</text>\n",
       "<text text-anchor=\"start\" x=\"1109.7\" y=\"-76.91\" font-family=\"Times,serif\" font-size=\"14.00\">classes: Neighborhood (city)</text>\n",
       "<text text-anchor=\"start\" x=\"1131.45\" y=\"-54.41\" font-family=\"Times,serif\" font-size=\"14.00\">name: Webmly Park</text>\n",
       "<text text-anchor=\"start\" x=\"1096.95\" y=\"-31.91\" font-family=\"Times,serif\" font-size=\"14.00\">coordinates: [48.00021 &#160;7.86084]</text>\n",
       "</g>\n",
       "<!-- https___www.simphony&#45;osp.eu_entity#aeb51c2b&#45;956f&#45;4b8d&#45;9454&#45;c144726ff906 -->\n",
       "<g id=\"node3\" class=\"node\">\n",
       "<title>https___www.simphony&#45;osp.eu_entity#aeb51c2b&#45;956f&#45;4b8d&#45;9454&#45;c144726ff906</title>\n",
       "<ellipse fill=\"none\" stroke=\"black\" cx=\"382.7\" cy=\"-264.63\" rx=\"88.57\" ry=\"70.71\"/>\n",
       "<text text-anchor=\"start\" x=\"341.08\" y=\"-293.33\" font-family=\"Times,serif\" font-size=\"14.00\">aeb51c2b...906</text>\n",
       "<text text-anchor=\"start\" x=\"332.08\" y=\"-270.83\" font-family=\"Times,serif\" font-size=\"14.00\">classes: City (city)</text>\n",
       "<text text-anchor=\"start\" x=\"350.45\" y=\"-248.33\" font-family=\"Times,serif\" font-size=\"14.00\">name: haifa</text>\n",
       "<text text-anchor=\"start\" x=\"334.7\" y=\"-225.83\" font-family=\"Times,serif\" font-size=\"14.00\">coordinates: [0 0]</text>\n",
       "</g>\n",
       "<!-- https___www.simphony&#45;osp.eu_entity#aeb51c2b&#45;956f&#45;4b8d&#45;9454&#45;c144726ff906&#45;&gt;https___www.simphony&#45;osp.eu_entity#cda511e3&#45;1aa8&#45;46b3&#45;b83d&#45;b6480467b2ee -->\n",
       "<g id=\"edge6\" class=\"edge\">\n",
       "<title>https___www.simphony&#45;osp.eu_entity#aeb51c2b&#45;956f&#45;4b8d&#45;9454&#45;c144726ff906&#45;&gt;https___www.simphony&#45;osp.eu_entity#cda511e3&#45;1aa8&#45;46b3&#45;b83d&#45;b6480467b2ee</title>\n",
       "<path fill=\"none\" stroke=\"black\" d=\"M315.64,-218.15C275.12,-190.67 223.23,-155.48 180.46,-126.48\"/>\n",
       "<polygon fill=\"black\" stroke=\"black\" points=\"182.73,-123.11 172.49,-120.39 178.8,-128.9 182.73,-123.11\"/>\n",
       "<text text-anchor=\"middle\" x=\"293.2\" y=\"-162.62\" font-family=\"Times,serif\" font-size=\"14.00\">has major (city)</text>\n",
       "</g>\n",
       "<!-- https___www.simphony&#45;osp.eu_entity#52e05899&#45;f74c&#45;4c5f&#45;80ce&#45;2171e441802e -->\n",
       "<g id=\"node4\" class=\"node\">\n",
       "<title>https___www.simphony&#45;osp.eu_entity#52e05899&#45;f74c&#45;4c5f&#45;80ce&#45;2171e441802e</title>\n",
       "<ellipse fill=\"none\" stroke=\"black\" cx=\"579.7\" cy=\"-70.71\" rx=\"145.31\" ry=\"70.71\"/>\n",
       "<text text-anchor=\"start\" x=\"537.7\" y=\"-99.41\" font-family=\"Times,serif\" font-size=\"14.00\">52e05899...02e</text>\n",
       "<text text-anchor=\"start\" x=\"501.7\" y=\"-76.91\" font-family=\"Times,serif\" font-size=\"14.00\">classes: Neighborhood (city)</text>\n",
       "<text text-anchor=\"start\" x=\"488.95\" y=\"-54.41\" font-family=\"Times,serif\" font-size=\"14.00\">coordinates: [48.00779 &#160;7.86268]</text>\n",
       "<text text-anchor=\"start\" x=\"527.95\" y=\"-31.91\" font-family=\"Times,serif\" font-size=\"14.00\">name: Marylebone</text>\n",
       "</g>\n",
       "<!-- https___www.simphony&#45;osp.eu_entity#aeb51c2b&#45;956f&#45;4b8d&#45;9454&#45;c144726ff906&#45;&gt;https___www.simphony&#45;osp.eu_entity#52e05899&#45;f74c&#45;4c5f&#45;80ce&#45;2171e441802e -->\n",
       "<g id=\"edge4\" class=\"edge\">\n",
       "<title>https___www.simphony&#45;osp.eu_entity#aeb51c2b&#45;956f&#45;4b8d&#45;9454&#45;c144726ff906&#45;&gt;https___www.simphony&#45;osp.eu_entity#52e05899&#45;f74c&#45;4c5f&#45;80ce&#45;2171e441802e</title>\n",
       "<path fill=\"none\" stroke=\"black\" d=\"M438.36,-209.4C459.93,-188.39 484.91,-164.06 507.81,-141.75\"/>\n",
       "<polygon fill=\"black\" stroke=\"black\" points=\"509.76,-144.76 514.48,-135.27 504.88,-139.74 509.76,-144.76\"/>\n",
       "<text text-anchor=\"middle\" x=\"525.58\" y=\"-162.62\" font-family=\"Times,serif\" font-size=\"14.00\">has part (city)</text>\n",
       "</g>\n",
       "<!-- https___www.simphony&#45;osp.eu_entity#c3e9f21e&#45;5de3&#45;41f5&#45;a362&#45;752dd081051e -->\n",
       "<g id=\"node5\" class=\"node\">\n",
       "<title>https___www.simphony&#45;osp.eu_entity#c3e9f21e&#45;5de3&#45;41f5&#45;a362&#45;752dd081051e</title>\n",
       "<ellipse fill=\"none\" stroke=\"black\" cx=\"883.7\" cy=\"-70.71\" rx=\"141.07\" ry=\"70.71\"/>\n",
       "<text text-anchor=\"start\" x=\"843.58\" y=\"-99.41\" font-family=\"Times,serif\" font-size=\"14.00\">c3e9f21e...51e</text>\n",
       "<text text-anchor=\"start\" x=\"805.7\" y=\"-76.91\" font-family=\"Times,serif\" font-size=\"14.00\">classes: Neighborhood (city)</text>\n",
       "<text text-anchor=\"start\" x=\"839.83\" y=\"-54.41\" font-family=\"Times,serif\" font-size=\"14.00\">name: Battersea</text>\n",
       "<text text-anchor=\"start\" x=\"795.95\" y=\"-31.91\" font-family=\"Times,serif\" font-size=\"14.00\">coordinates: [48.01684 &#160;7.843 &#160;]</text>\n",
       "</g>\n",
       "<!-- https___www.simphony&#45;osp.eu_entity#aeb51c2b&#45;956f&#45;4b8d&#45;9454&#45;c144726ff906&#45;&gt;https___www.simphony&#45;osp.eu_entity#c3e9f21e&#45;5de3&#45;41f5&#45;a362&#45;752dd081051e -->\n",
       "<g id=\"edge3\" class=\"edge\">\n",
       "<title>https___www.simphony&#45;osp.eu_entity#aeb51c2b&#45;956f&#45;4b8d&#45;9454&#45;c144726ff906&#45;&gt;https___www.simphony&#45;osp.eu_entity#c3e9f21e&#45;5de3&#45;41f5&#45;a362&#45;752dd081051e</title>\n",
       "<path fill=\"none\" stroke=\"black\" d=\"M464.77,-237.64C536.46,-214.32 642.95,-178.2 733.7,-141.42 746.43,-136.26 759.63,-130.6 772.69,-124.8\"/>\n",
       "<polygon fill=\"black\" stroke=\"black\" points=\"773.94,-127.63 781.64,-120.35 771.08,-121.24 773.94,-127.63\"/>\n",
       "<text text-anchor=\"middle\" x=\"724.58\" y=\"-162.62\" font-family=\"Times,serif\" font-size=\"14.00\">has part (city)</text>\n",
       "</g>\n",
       "<!-- https___www.simphony&#45;osp.eu_entity#9061d8bd&#45;0a44&#45;4c14&#45;8bf9&#45;290a1f8d918d -->\n",
       "<g id=\"node6\" class=\"node\">\n",
       "<title>https___www.simphony&#45;osp.eu_entity#9061d8bd&#45;0a44&#45;4c14&#45;8bf9&#45;290a1f8d918d</title>\n",
       "<ellipse fill=\"none\" stroke=\"black\" cx=\"316.7\" cy=\"-70.71\" rx=\"99.7\" ry=\"70.71\"/>\n",
       "<text text-anchor=\"start\" x=\"273.95\" y=\"-99.41\" font-family=\"Times,serif\" font-size=\"14.00\">9061d8bd...18d</text>\n",
       "<text text-anchor=\"start\" x=\"258.2\" y=\"-76.91\" font-family=\"Times,serif\" font-size=\"14.00\">classes: Citizen (city)</text>\n",
       "<text text-anchor=\"start\" x=\"296.83\" y=\"-54.41\" font-family=\"Times,serif\" font-size=\"14.00\">age: 66</text>\n",
       "<text text-anchor=\"start\" x=\"279.2\" y=\"-31.91\" font-family=\"Times,serif\" font-size=\"14.00\">name: Mezna</text>\n",
       "</g>\n",
       "<!-- https___www.simphony&#45;osp.eu_entity#aeb51c2b&#45;956f&#45;4b8d&#45;9454&#45;c144726ff906&#45;&gt;https___www.simphony&#45;osp.eu_entity#9061d8bd&#45;0a44&#45;4c14&#45;8bf9&#45;290a1f8d918d -->\n",
       "<g id=\"edge1\" class=\"edge\">\n",
       "<title>https___www.simphony&#45;osp.eu_entity#aeb51c2b&#45;956f&#45;4b8d&#45;9454&#45;c144726ff906&#45;&gt;https___www.simphony&#45;osp.eu_entity#9061d8bd&#45;0a44&#45;4c14&#45;8bf9&#45;290a1f8d918d</title>\n",
       "<path fill=\"none\" stroke=\"black\" d=\"M359.43,-195.97C354.29,-181.01 348.8,-165.04 343.52,-149.7\"/>\n",
       "<polygon fill=\"black\" stroke=\"black\" points=\"346.66,-149.05 340.09,-140.73 340.04,-151.33 346.66,-149.05\"/>\n",
       "<text text-anchor=\"middle\" x=\"395.2\" y=\"-162.62\" font-family=\"Times,serif\" font-size=\"14.00\">has major (city)</text>\n",
       "</g>\n",
       "<!-- https___www.simphony&#45;osp.eu_entity#41d18305&#45;512d&#45;4b05&#45;a2fe&#45;bd500a42fc8c -->\n",
       "<g id=\"node7\" class=\"node\">\n",
       "<title>https___www.simphony&#45;osp.eu_entity#41d18305&#45;512d&#45;4b05&#45;a2fe&#45;bd500a42fc8c</title>\n",
       "<ellipse fill=\"none\" stroke=\"black\" cx=\"1496.7\" cy=\"-70.71\" rx=\"145.31\" ry=\"70.71\"/>\n",
       "<text text-anchor=\"start\" x=\"1454.7\" y=\"-99.41\" font-family=\"Times,serif\" font-size=\"14.00\">41d18305...c8c</text>\n",
       "<text text-anchor=\"start\" x=\"1418.7\" y=\"-76.91\" font-family=\"Times,serif\" font-size=\"14.00\">classes: Neighborhood (city)</text>\n",
       "<text text-anchor=\"start\" x=\"1454.33\" y=\"-54.41\" font-family=\"Times,serif\" font-size=\"14.00\">name: Alperton</text>\n",
       "<text text-anchor=\"start\" x=\"1405.95\" y=\"-31.91\" font-family=\"Times,serif\" font-size=\"14.00\">coordinates: [47.99888 &#160;7.83774]</text>\n",
       "</g>\n",
       "<!-- https___www.simphony&#45;osp.eu_entity#53d488f7&#45;0efc&#45;4266&#45;a2f7&#45;4f7b21e2f178 -->\n",
       "<g id=\"node8\" class=\"node\">\n",
       "<title>https___www.simphony&#45;osp.eu_entity#53d488f7&#45;0efc&#45;4266&#45;a2f7&#45;4f7b21e2f178</title>\n",
       "<ellipse fill=\"none\" stroke=\"black\" cx=\"1187.7\" cy=\"-264.63\" rx=\"88.57\" ry=\"70.71\"/>\n",
       "<text text-anchor=\"start\" x=\"1146.08\" y=\"-293.33\" font-family=\"Times,serif\" font-size=\"14.00\">53d488f7...178</text>\n",
       "<text text-anchor=\"start\" x=\"1137.08\" y=\"-270.83\" font-family=\"Times,serif\" font-size=\"14.00\">classes: City (city)</text>\n",
       "<text text-anchor=\"start\" x=\"1139.7\" y=\"-248.33\" font-family=\"Times,serif\" font-size=\"14.00\">coordinates: [1 1]</text>\n",
       "<text text-anchor=\"start\" x=\"1150.2\" y=\"-225.83\" font-family=\"Times,serif\" font-size=\"14.00\">name: london</text>\n",
       "</g>\n",
       "<!-- https___www.simphony&#45;osp.eu_entity#53d488f7&#45;0efc&#45;4266&#45;a2f7&#45;4f7b21e2f178&#45;&gt;https___www.simphony&#45;osp.eu_entity#4b5be559&#45;108b&#45;4867&#45;a0c9&#45;2fd9c7275042 -->\n",
       "<g id=\"edge9\" class=\"edge\">\n",
       "<title>https___www.simphony&#45;osp.eu_entity#53d488f7&#45;0efc&#45;4266&#45;a2f7&#45;4f7b21e2f178&#45;&gt;https___www.simphony&#45;osp.eu_entity#4b5be559&#45;108b&#45;4867&#45;a0c9&#45;2fd9c7275042</title>\n",
       "<path fill=\"none\" stroke=\"black\" d=\"M1187.7,-193.53C1187.7,-180.18 1187.7,-166.11 1187.7,-152.46\"/>\n",
       "<polygon fill=\"black\" stroke=\"black\" points=\"1191.2,-152.62 1187.7,-142.62 1184.2,-152.62 1191.2,-152.62\"/>\n",
       "<text text-anchor=\"middle\" x=\"1225.58\" y=\"-162.62\" font-family=\"Times,serif\" font-size=\"14.00\">has part (city)</text>\n",
       "</g>\n",
       "<!-- https___www.simphony&#45;osp.eu_entity#53d488f7&#45;0efc&#45;4266&#45;a2f7&#45;4f7b21e2f178&#45;&gt;https___www.simphony&#45;osp.eu_entity#52e05899&#45;f74c&#45;4c5f&#45;80ce&#45;2171e441802e -->\n",
       "<g id=\"edge8\" class=\"edge\">\n",
       "<title>https___www.simphony&#45;osp.eu_entity#53d488f7&#45;0efc&#45;4266&#45;a2f7&#45;4f7b21e2f178&#45;&gt;https___www.simphony&#45;osp.eu_entity#52e05899&#45;f74c&#45;4c5f&#45;80ce&#45;2171e441802e</title>\n",
       "<path fill=\"none\" stroke=\"black\" d=\"M1102.35,-245.02C1010.14,-223.91 859.53,-186.5 733.7,-141.42 720.25,-136.6 706.35,-131.1 692.65,-125.34\"/>\n",
       "<polygon fill=\"black\" stroke=\"black\" points=\"694.29,-121.81 683.72,-121.1 691.55,-128.25 694.29,-121.81\"/>\n",
       "<text text-anchor=\"middle\" x=\"869.58\" y=\"-162.62\" font-family=\"Times,serif\" font-size=\"14.00\">has part (city)</text>\n",
       "</g>\n",
       "<!-- https___www.simphony&#45;osp.eu_entity#53d488f7&#45;0efc&#45;4266&#45;a2f7&#45;4f7b21e2f178&#45;&gt;https___www.simphony&#45;osp.eu_entity#c3e9f21e&#45;5de3&#45;41f5&#45;a362&#45;752dd081051e -->\n",
       "<g id=\"edge7\" class=\"edge\">\n",
       "<title>https___www.simphony&#45;osp.eu_entity#53d488f7&#45;0efc&#45;4266&#45;a2f7&#45;4f7b21e2f178&#45;&gt;https___www.simphony&#45;osp.eu_entity#c3e9f21e&#45;5de3&#45;41f5&#45;a362&#45;752dd081051e</title>\n",
       "<path fill=\"none\" stroke=\"black\" d=\"M1130.63,-210.11C1110.62,-192.78 1087.45,-174.23 1064.7,-159.42 1051.56,-150.86 1025.34,-137.51 996.86,-123.78\"/>\n",
       "<polygon fill=\"black\" stroke=\"black\" points=\"998.65,-120.28 988.12,-119.12 995.63,-126.59 998.65,-120.28\"/>\n",
       "<text text-anchor=\"middle\" x=\"1123.58\" y=\"-162.62\" font-family=\"Times,serif\" font-size=\"14.00\">has part (city)</text>\n",
       "</g>\n",
       "<!-- https___www.simphony&#45;osp.eu_entity#53d488f7&#45;0efc&#45;4266&#45;a2f7&#45;4f7b21e2f178&#45;&gt;https___www.simphony&#45;osp.eu_entity#41d18305&#45;512d&#45;4b05&#45;a2fe&#45;bd500a42fc8c -->\n",
       "<g id=\"edge2\" class=\"edge\">\n",
       "<title>https___www.simphony&#45;osp.eu_entity#53d488f7&#45;0efc&#45;4266&#45;a2f7&#45;4f7b21e2f178&#45;&gt;https___www.simphony&#45;osp.eu_entity#41d18305&#45;512d&#45;4b05&#45;a2fe&#45;bd500a42fc8c</title>\n",
       "<path fill=\"none\" stroke=\"black\" d=\"M1257.05,-220.56C1298.75,-194.66 1352.49,-161.28 1398.51,-132.7\"/>\n",
       "<polygon fill=\"black\" stroke=\"black\" points=\"1399.96,-135.3 1406.61,-127.05 1396.27,-129.35 1399.96,-135.3\"/>\n",
       "<text text-anchor=\"middle\" x=\"1388.58\" y=\"-162.62\" font-family=\"Times,serif\" font-size=\"14.00\">has part (city)</text>\n",
       "</g>\n",
       "<!-- https___www.simphony&#45;osp.eu_entity#e04f8084&#45;d09d&#45;4cac&#45;83f9&#45;9aff30faf82c -->\n",
       "<g id=\"node9\" class=\"node\">\n",
       "<title>https___www.simphony&#45;osp.eu_entity#e04f8084&#45;d09d&#45;4cac&#45;83f9&#45;9aff30faf82c</title>\n",
       "<ellipse fill=\"none\" stroke=\"black\" cx=\"1805.7\" cy=\"-70.71\" rx=\"145.31\" ry=\"70.71\"/>\n",
       "<text text-anchor=\"start\" x=\"1764.83\" y=\"-99.41\" font-family=\"Times,serif\" font-size=\"14.00\">e04f8084...82c</text>\n",
       "<text text-anchor=\"start\" x=\"1727.7\" y=\"-76.91\" font-family=\"Times,serif\" font-size=\"14.00\">classes: Neighborhood (city)</text>\n",
       "<text text-anchor=\"start\" x=\"1714.95\" y=\"-54.41\" font-family=\"Times,serif\" font-size=\"14.00\">coordinates: [47.99525 &#160;7.84726]</text>\n",
       "<text text-anchor=\"start\" x=\"1763.33\" y=\"-31.91\" font-family=\"Times,serif\" font-size=\"14.00\">name: The City</text>\n",
       "</g>\n",
       "<!-- https___www.simphony&#45;osp.eu_entity#53d488f7&#45;0efc&#45;4266&#45;a2f7&#45;4f7b21e2f178&#45;&gt;https___www.simphony&#45;osp.eu_entity#e04f8084&#45;d09d&#45;4cac&#45;83f9&#45;9aff30faf82c -->\n",
       "<g id=\"edge5\" class=\"edge\">\n",
       "<title>https___www.simphony&#45;osp.eu_entity#53d488f7&#45;0efc&#45;4266&#45;a2f7&#45;4f7b21e2f178&#45;&gt;https___www.simphony&#45;osp.eu_entity#e04f8084&#45;d09d&#45;4cac&#45;83f9&#45;9aff30faf82c</title>\n",
       "<path fill=\"none\" stroke=\"black\" d=\"M1273.46,-245.45C1367.37,-224.52 1521.79,-187.07 1650.7,-141.42 1664.35,-136.59 1678.47,-131.04 1692.37,-125.24\"/>\n",
       "<polygon fill=\"black\" stroke=\"black\" points=\"1693.6,-128.1 1701.44,-120.98 1690.87,-121.65 1693.6,-128.1\"/>\n",
       "<text text-anchor=\"middle\" x=\"1626.58\" y=\"-162.62\" font-family=\"Times,serif\" font-size=\"14.00\">has part (city)</text>\n",
       "</g>\n",
       "</g>\n",
       "</svg>\n"
      ],
      "text/plain": [
       "<simphony_osp.tools.semantic2dot.Semantic2Dot at 0x11605c1d0>"
      ]
     },
     "execution_count": 34,
     "metadata": {},
     "output_type": "execute_result"
    }
   ],
   "source": [
    "semantic2dot(core_session)"
   ]
  },
  {
   "cell_type": "code",
   "execution_count": null,
   "id": "99833109",
   "metadata": {},
   "outputs": [],
   "source": []
  }
 ],
 "metadata": {
  "kernelspec": {
   "display_name": "simphony_4",
   "language": "python",
   "name": "simphony_4"
  },
  "language_info": {
   "codemirror_mode": {
    "name": "ipython",
    "version": 3
   },
   "file_extension": ".py",
   "mimetype": "text/x-python",
   "name": "python",
   "nbconvert_exporter": "python",
   "pygments_lexer": "ipython3",
   "version": "3.11.3"
  }
 },
 "nbformat": 4,
 "nbformat_minor": 5
}
