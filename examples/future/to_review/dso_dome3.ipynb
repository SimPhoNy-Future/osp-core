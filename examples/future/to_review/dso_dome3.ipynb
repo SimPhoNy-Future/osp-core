{
 "cells": [
  {
   "cell_type": "code",
   "execution_count": 1,
   "id": "93a19e48",
   "metadata": {},
   "outputs": [],
   "source": [
    "from simphony_osp.namespaces import city#, foaf, dso_dome, owl, dcat\n",
    "from simphony_osp.tools import semantic2dot\n",
    "from simphony_osp.tools import pretty_print\n",
    "from simphony_osp.ontology import OntologyIndividual\n",
    "from simphony_osp.tools import semantic2dot\n",
    "from simphony_osp.session import core_session\n",
    "from simphony_osp.tools.search import sparql\n",
    "from simphony_osp.ontology import RESTRICTION_QUANTIFIER, RESTRICTION_TYPE\n",
    "\n"
   ]
  },
  {
   "cell_type": "code",
   "execution_count": 2,
   "id": "6a2e25cd",
   "metadata": {},
   "outputs": [],
   "source": [
    "from simphony_osp.ontology import COMPOSITION_OPERATOR, Composition\n"
   ]
  },
  {
   "cell_type": "code",
   "execution_count": 3,
   "id": "2f9993f0",
   "metadata": {},
   "outputs": [
    {
     "data": {
      "text/plain": [
       "(<Restriction: Nd47c045074384691bceaf4096211b0ec>,\n",
       " <Restriction: Ne19fcba98bd24519bc19709a23dd65b6>,\n",
       " <Restriction: N32074585ca59487994d055d9c659b901>,\n",
       " <Restriction: N8cbae1fa561d4b6cb6c4d7cecf831e2a>)"
      ]
     },
     "execution_count": 3,
     "metadata": {},
     "output_type": "execute_result"
    }
   ],
   "source": [
    "tuple(x for x in city.Citizen.axioms)\n",
    "\n"
   ]
  },
  {
   "cell_type": "code",
   "execution_count": 4,
   "id": "d5a3bf85",
   "metadata": {},
   "outputs": [
    {
     "data": {
      "text/plain": [
       "frozenset({<Restriction: Ne19fcba98bd24519bc19709a23dd65b6>,\n",
       "           <Restriction: Nd47c045074384691bceaf4096211b0ec>,\n",
       "           <Restriction: N8cbae1fa561d4b6cb6c4d7cecf831e2a>,\n",
       "           <Restriction: N32074585ca59487994d055d9c659b901>})"
      ]
     },
     "execution_count": 4,
     "metadata": {},
     "output_type": "execute_result"
    }
   ],
   "source": [
    "city.Citizen.axioms"
   ]
  },
  {
   "cell_type": "code",
   "execution_count": 5,
   "id": "82287dc3",
   "metadata": {},
   "outputs": [
    {
     "name": "stdout",
     "output_type": "stream",
     "text": [
      "Nd47c045074384691bceaf4096211b0ec\n",
      "age\n",
      "N32074585ca59487994d055d9c659b901\n",
      "name\n"
     ]
    }
   ],
   "source": [
    "for i in city.Citizen.axioms:\n",
    "    if i.rtype == RESTRICTION_TYPE.ATTRIBUTE_RESTRICTION:\n",
    "        print(i.attribute)\n",
    "    else:\n",
    "        print(i.identifier)"
   ]
  },
  {
   "cell_type": "code",
   "execution_count": 6,
   "id": "f04b4823",
   "metadata": {},
   "outputs": [
    {
     "name": "stdout",
     "output_type": "stream",
     "text": [
      "is child of QUANTIFIER.MAX 2\n",
      "QUANTIFIER.MAX\n",
      "2\n",
      "RTYPE.RELATIONSHIP_RESTRICTION\n",
      "is child of\n"
     ]
    }
   ],
   "source": [
    "from simphony_osp.ontology import RESTRICTION_QUANTIFIER, RESTRICTION_TYPE\n",
    "\n",
    "restriction = next(iter(city.Citizen.axioms))\n",
    "print(restriction)\n",
    "print(restriction.quantifier)\n",
    "print(restriction.target)\n",
    "print(restriction.rtype)\n",
    "print(\n",
    "    restriction.attribute\n",
    "    if restriction.rtype == RESTRICTION_TYPE.ATTRIBUTE_RESTRICTION else\n",
    "    restriction.relationship\n",
    ")"
   ]
  },
  {
   "cell_type": "code",
   "execution_count": 7,
   "id": "a3f6c8c3",
   "metadata": {},
   "outputs": [
    {
     "data": {
      "text/plain": [
       "<OntologyRelationship: is child of https://www.simphony-osp.eu/city#isChildOf>"
      ]
     },
     "execution_count": 7,
     "metadata": {},
     "output_type": "execute_result"
    }
   ],
   "source": [
    "restriction.relationship"
   ]
  },
  {
   "cell_type": "code",
   "execution_count": 8,
   "id": "7186aa42",
   "metadata": {},
   "outputs": [
    {
     "data": {
      "text/plain": [
       "['_OntologyEntity__graph',\n",
       " '__abstractmethods__',\n",
       " '__annotations__',\n",
       " '__bool__',\n",
       " '__class__',\n",
       " '__delattr__',\n",
       " '__dict__',\n",
       " '__dir__',\n",
       " '__doc__',\n",
       " '__eq__',\n",
       " '__format__',\n",
       " '__ge__',\n",
       " '__getattribute__',\n",
       " '__getstate__',\n",
       " '__gt__',\n",
       " '__hash__',\n",
       " '__init__',\n",
       " '__init_subclass__',\n",
       " '__le__',\n",
       " '__lt__',\n",
       " '__module__',\n",
       " '__ne__',\n",
       " '__new__',\n",
       " '__reduce__',\n",
       " '__reduce_ex__',\n",
       " '__repr__',\n",
       " '__setattr__',\n",
       " '__sizeof__',\n",
       " '__slots__',\n",
       " '__str__',\n",
       " '__subclasshook__',\n",
       " '__weakref__',\n",
       " '_abc_impl',\n",
       " '_get_direct_subclasses',\n",
       " '_get_direct_superclasses',\n",
       " '_get_quantifier_and_target',\n",
       " '_get_subclasses',\n",
       " '_get_superclasses',\n",
       " '_property',\n",
       " '_session',\n",
       " '_sort_labels_and_properties_by_preference',\n",
       " '_uid',\n",
       " 'attribute',\n",
       " 'direct_subclasses',\n",
       " 'direct_superclasses',\n",
       " 'graph',\n",
       " 'identifier',\n",
       " 'iri',\n",
       " 'is_subclass_of',\n",
       " 'is_superclass_of',\n",
       " 'iter_labels',\n",
       " 'label',\n",
       " 'label_lang',\n",
       " 'label_literal',\n",
       " 'namespace',\n",
       " 'quantifier',\n",
       " 'rdf_identifier',\n",
       " 'rdf_type',\n",
       " 'relationship',\n",
       " 'rtype',\n",
       " 'session',\n",
       " 'subclasses',\n",
       " 'superclasses',\n",
       " 'target',\n",
       " 'triples',\n",
       " 'uid']"
      ]
     },
     "execution_count": 8,
     "metadata": {},
     "output_type": "execute_result"
    }
   ],
   "source": [
    "dir(restriction)\n"
   ]
  },
  {
   "cell_type": "code",
   "execution_count": 9,
   "id": "e29dab92",
   "metadata": {},
   "outputs": [
    {
     "data": {
      "text/plain": [
       "<OntologyRelationship: is child of https://www.simphony-osp.eu/city#isChildOf>"
      ]
     },
     "execution_count": 9,
     "metadata": {},
     "output_type": "execute_result"
    }
   ],
   "source": [
    "restriction.relationship"
   ]
  },
  {
   "cell_type": "code",
   "execution_count": 10,
   "id": "0f3667df",
   "metadata": {},
   "outputs": [
    {
     "ename": "IndexError",
     "evalue": "tuple index out of range",
     "output_type": "error",
     "traceback": [
      "\u001b[0;31m---------------------------------------------------------------------------\u001b[0m",
      "\u001b[0;31mIndexError\u001b[0m                                Traceback (most recent call last)",
      "Cell \u001b[0;32mIn[10], line 3\u001b[0m\n\u001b[1;32m      1\u001b[0m \u001b[38;5;28;01mfrom\u001b[39;00m \u001b[38;5;21;01msimphony_osp\u001b[39;00m\u001b[38;5;21;01m.\u001b[39;00m\u001b[38;5;21;01montology\u001b[39;00m \u001b[38;5;28;01mimport\u001b[39;00m COMPOSITION_OPERATOR, Composition\n\u001b[0;32m----> 3\u001b[0m composition \u001b[38;5;241m=\u001b[39m \u001b[38;5;28;43mtuple\u001b[39;49m\u001b[43m(\u001b[49m\u001b[43mx\u001b[49m\u001b[43m \u001b[49m\u001b[38;5;28;43;01mfor\u001b[39;49;00m\u001b[43m \u001b[49m\u001b[43mx\u001b[49m\u001b[43m \u001b[49m\u001b[38;5;129;43;01min\u001b[39;49;00m\u001b[43m \u001b[49m\u001b[43mcity\u001b[49m\u001b[38;5;241;43m.\u001b[39;49m\u001b[43mCitizen\u001b[49m\u001b[38;5;241;43m.\u001b[39;49m\u001b[43maxioms\u001b[49m\u001b[43m \u001b[49m\u001b[38;5;28;43;01mif\u001b[39;49;00m\u001b[43m \u001b[49m\u001b[38;5;28;43misinstance\u001b[39;49m\u001b[43m(\u001b[49m\u001b[43mx\u001b[49m\u001b[43m,\u001b[49m\u001b[43m \u001b[49m\u001b[43mComposition\u001b[49m\u001b[43m)\u001b[49m\u001b[43m)\u001b[49m\u001b[43m[\u001b[49m\u001b[38;5;241;43m0\u001b[39;49m\u001b[43m]\u001b[49m\n\u001b[1;32m      4\u001b[0m \u001b[38;5;28mprint\u001b[39m(composition)\n\u001b[1;32m      5\u001b[0m \u001b[38;5;28mprint\u001b[39m(composition\u001b[38;5;241m.\u001b[39moperator)\n",
      "\u001b[0;31mIndexError\u001b[0m: tuple index out of range"
     ]
    }
   ],
   "source": [
    "from simphony_osp.ontology import COMPOSITION_OPERATOR, Composition\n",
    "\n",
    "composition = tuple(x for x in city.Citizen.axioms if isinstance(x, Composition))[0]\n",
    "print(composition)\n",
    "print(composition.operator)\n",
    "print(composition.operands)"
   ]
  },
  {
   "cell_type": "code",
   "execution_count": 75,
   "id": "a812cb70",
   "metadata": {},
   "outputs": [
    {
     "data": {
      "text/plain": [
       "frozenset({<Restriction: N944c36d858c34c5aaa6f7b00a5cb8fb8>,\n",
       "           <Restriction: N83e1bc9b428f49e98238927e8a4ec8ab>,\n",
       "           <Restriction: N4eab8793fb754fb2837d382608f286c1>,\n",
       "           <Restriction: N47344eaa06764195a5fd1b52e8db32be>,\n",
       "           <Restriction: N9bf3826ea92b47a3a71e38e5c66ba68b>,\n",
       "           <Restriction: Nb4ed5f28f42e41acac5e8dc64b0227b6>})"
      ]
     },
     "execution_count": 75,
     "metadata": {},
     "output_type": "execute_result"
    }
   ],
   "source": [
    "city.City.axioms"
   ]
  },
  {
   "cell_type": "code",
   "execution_count": null,
   "id": "c6e0441b",
   "metadata": {},
   "outputs": [],
   "source": []
  }
 ],
 "metadata": {
  "kernelspec": {
   "display_name": "simphony_4",
   "language": "python",
   "name": "simphony_4"
  },
  "language_info": {
   "codemirror_mode": {
    "name": "ipython",
    "version": 3
   },
   "file_extension": ".py",
   "mimetype": "text/x-python",
   "name": "python",
   "nbconvert_exporter": "python",
   "pygments_lexer": "ipython3",
   "version": "3.11.3"
  }
 },
 "nbformat": 4,
 "nbformat_minor": 5
}
