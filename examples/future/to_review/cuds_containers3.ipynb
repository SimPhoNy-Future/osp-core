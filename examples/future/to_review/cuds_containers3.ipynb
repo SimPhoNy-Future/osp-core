{
 "cells": [
  {
   "cell_type": "code",
   "execution_count": 1,
   "id": "c459e742",
   "metadata": {},
   "outputs": [],
   "source": [
    "from simphony_osp.namespaces import city, owl,foaf, rdfschema, emmo, domeo, dcterms, evmpo\n",
    "\n",
    "from simphony_osp.tools import semantic2dot, pretty_print\n",
    "from simphony_osp.tools import search,  export_file, import_file, pretty_print, search\n",
    "from simphony_osp.tools.search import sparql\n",
    "\n",
    "from simphony_osp.ontology import RESTRICTION_QUANTIFIER, RESTRICTION_TYPE, OntologyIndividual\n",
    "from simphony_osp.ontology import COMPOSITION_OPERATOR, Composition, Restriction\n",
    "\n",
    "from simphony_osp.ontology.relationship import OntologyRelationship\n",
    "\n",
    "from simphony_osp.session import Session, core_session\n"
   ]
  },
  {
   "cell_type": "markdown",
   "id": "01fe10ab",
   "metadata": {},
   "source": [
    "# Purpose\n",
    "Test a container with as realistic as possible ontology. \n",
    "we start by creating a domeo ontology, which is emmo + eco system one, + dataset. Teh dataset ontology becomes simply a container which defines a donme_data_Set container and says exactly what should be in it. It will be a CUDS subclass. CUDS are containers all the way. \n",
    "\n",
    "- [ ] Get emmo inferred loaded into the domeo with all the other needed packages. \n",
    "- [X] Test if in simphony we can mix s, p, o from three different ontologies!\n",
    "- [ ] load provenance and all other eco system ontology and create/replicat the data set ontology\n"
   ]
  },
  {
   "cell_type": "code",
   "execution_count": 2,
   "id": "92f861b0",
   "metadata": {},
   "outputs": [],
   "source": [
    "x=emmo.DataSet()"
   ]
  },
  {
   "cell_type": "code",
   "execution_count": 3,
   "id": "db307189",
   "metadata": {},
   "outputs": [
    {
     "data": {
      "text/plain": [
       "<OntologyIndividual:  d5682c9f-0a5f-4624-ad0f-cc976398727d>"
      ]
     },
     "execution_count": 3,
     "metadata": {},
     "output_type": "execute_result"
    }
   ],
   "source": [
    "x"
   ]
  },
  {
   "cell_type": "code",
   "execution_count": 4,
   "id": "a26ec390",
   "metadata": {},
   "outputs": [],
   "source": [
    "y=domeo.DomeDataSet()"
   ]
  },
  {
   "cell_type": "code",
   "execution_count": 5,
   "id": "05e91a69",
   "metadata": {},
   "outputs": [
    {
     "data": {
      "text/plain": [
       "<OntologyIndividual:  ca332018-80c1-4ef3-a3fd-8a22bd3aa441>"
      ]
     },
     "execution_count": 5,
     "metadata": {},
     "output_type": "execute_result"
    }
   ],
   "source": [
    "y"
   ]
  },
  {
   "cell_type": "code",
   "execution_count": 6,
   "id": "910ee100",
   "metadata": {
    "scrolled": true
   },
   "outputs": [
    {
     "name": "stdout",
     "output_type": "stream",
     "text": [
      "- Ontology individual named :\n",
      "  identifier: d5682c9f-0a5f-4624-ad0f-cc976398727d\n",
      "  type: DataSet (emmo )\n",
      "  superclasses: DataSet (emmo ), EncodedData (emmo ), Data (emmo ), Perspective (emmo ), CausalStructure (emmo ), Item (emmo ), EMMO (emmo ), CUDS (domeo ), Thing (owl )\n"
     ]
    }
   ],
   "source": [
    "pretty_print(x)"
   ]
  },
  {
   "cell_type": "code",
   "execution_count": 7,
   "id": "f702157b",
   "metadata": {},
   "outputs": [
    {
     "name": "stdout",
     "output_type": "stream",
     "text": [
      "frozenset({<Composition:  N01193d35a084414fb2ec7f21ac681f0f>, <Composition:  N77e05fa08c0348fdb90023b3ccdbfadd>, <Restriction:  N58fc358e04b24328800695b0b4732502>, <Composition:  N7054646deebe46a9950cd4a724b7f91d>, <Composition:  N7898efb516884df1a23b424558bf3ff8>, <Restriction:  Na8e8814a25544e538cb5901ed479b7d3>, <Composition:  Naaf792428c3c47448b3599d79178185e>, <Restriction:  N3d29b71765ee42e89493181833dd50be>})\n"
     ]
    }
   ],
   "source": [
    "x1=emmo.DataSet\n",
    "print(x1.axioms)"
   ]
  },
  {
   "cell_type": "code",
   "execution_count": 8,
   "id": "f5a7bdda",
   "metadata": {},
   "outputs": [
    {
     "name": "stdout",
     "output_type": "stream",
     "text": [
      "- Ontology individual named :\n",
      "  identifier: ca332018-80c1-4ef3-a3fd-8a22bd3aa441\n",
      "  type: DomeDataSet (domeo )\n",
      "  superclasses: DomeDataSet (domeo ), DataSet (emmo ), EncodedData (emmo ), Data (emmo ), Perspective (emmo ), CausalStructure (emmo ), Item (emmo ), EMMO (emmo ), CUDS (domeo ), Thing (owl )\n"
     ]
    }
   ],
   "source": [
    "pretty_print(y)"
   ]
  },
  {
   "cell_type": "code",
   "execution_count": 9,
   "id": "a16b6706",
   "metadata": {},
   "outputs": [],
   "source": [
    "z=domeo.CUDS()"
   ]
  },
  {
   "cell_type": "code",
   "execution_count": 10,
   "id": "923ed9b4",
   "metadata": {},
   "outputs": [
    {
     "name": "stdout",
     "output_type": "stream",
     "text": [
      "- Ontology individual named :\n",
      "  identifier: 7ce6833d-df55-41bd-8471-8ad016c6bfa0\n",
      "  type: CUDS (domeo )\n",
      "  superclasses: CUDS (domeo ), Thing (owl )\n"
     ]
    }
   ],
   "source": [
    "pretty_print(z)"
   ]
  },
  {
   "cell_type": "code",
   "execution_count": 11,
   "id": "b80d875d",
   "metadata": {},
   "outputs": [],
   "source": [
    "w=domeo.Tier1()"
   ]
  },
  {
   "cell_type": "code",
   "execution_count": 12,
   "id": "9d654fd0",
   "metadata": {},
   "outputs": [
    {
     "name": "stdout",
     "output_type": "stream",
     "text": [
      "- Ontology individual named :\n",
      "  identifier: 1d54bdcb-2db5-4518-88eb-70c2e8da1e77\n",
      "  type: Tier1 (domeo )\n",
      "  superclasses: Tier1 (domeo ), Tier (domeo ), Scale (domeo ), Value (domeo ), CUDS (domeo ), Thing (owl )\n"
     ]
    }
   ],
   "source": [
    "pretty_print(w)"
   ]
  },
  {
   "cell_type": "code",
   "execution_count": 13,
   "id": "74308afc",
   "metadata": {},
   "outputs": [
    {
     "ename": "NameError",
     "evalue": "name 'dome4core' is not defined",
     "output_type": "error",
     "traceback": [
      "\u001b[0;31m---------------------------------------------------------------------------\u001b[0m",
      "\u001b[0;31mNameError\u001b[0m                                 Traceback (most recent call last)",
      "Cell \u001b[0;32mIn[13], line 1\u001b[0m\n\u001b[0;32m----> 1\u001b[0m q\u001b[38;5;241m=\u001b[39m\u001b[43mdome4core\u001b[49m\u001b[38;5;241m.\u001b[39mdata_schema()\n",
      "\u001b[0;31mNameError\u001b[0m: name 'dome4core' is not defined"
     ]
    }
   ],
   "source": [
    "q=dome4core.data_schema()"
   ]
  },
  {
   "cell_type": "code",
   "execution_count": null,
   "id": "d452d39e",
   "metadata": {},
   "outputs": [],
   "source": [
    "pretty_print(q)"
   ]
  },
  {
   "cell_type": "markdown",
   "id": "a700a75b",
   "metadata": {},
   "source": [
    "WIP: add preflabel to all ontologies that use identifier. this will solve the None above, additionally we look into it in SimPhoNy, to be more smarter. see https://github.com/SimPhoNy-Future/osp-core/issues/14 and https://github.com/SimPhoNy-Future/osp-core/issues/13 and https://github.com/SimPhoNy-Future/osp-core/issues/21"
   ]
  },
  {
   "cell_type": "code",
   "execution_count": null,
   "id": "d2d7d052",
   "metadata": {},
   "outputs": [],
   "source": [
    "q=evmpo.agent()\n"
   ]
  },
  {
   "cell_type": "code",
   "execution_count": null,
   "id": "b1f239bd",
   "metadata": {},
   "outputs": [],
   "source": [
    "pretty_print(q)"
   ]
  },
  {
   "cell_type": "code",
   "execution_count": null,
   "id": "e69df294",
   "metadata": {},
   "outputs": [],
   "source": [
    "q.superclasses\n"
   ]
  },
  {
   "cell_type": "code",
   "execution_count": null,
   "id": "6c4743bc",
   "metadata": {},
   "outputs": [],
   "source": [
    "q.connect(y, rel=domeo.has) # q has y: (q) --- has a --- (y) "
   ]
  },
  {
   "cell_type": "code",
   "execution_count": null,
   "id": "4265ca63",
   "metadata": {
    "scrolled": true
   },
   "outputs": [],
   "source": [
    "pretty_print(q)"
   ]
  },
  {
   "cell_type": "code",
   "execution_count": null,
   "id": "f2fb51b6",
   "metadata": {},
   "outputs": [],
   "source": [
    "pretty_print(y)"
   ]
  },
  {
   "cell_type": "code",
   "execution_count": null,
   "id": "34c7ffe4",
   "metadata": {},
   "outputs": [],
   "source": [
    "semantic2dot(core_session)"
   ]
  },
  {
   "cell_type": "code",
   "execution_count": null,
   "id": "9928ce2d",
   "metadata": {},
   "outputs": [],
   "source": [
    "q.superclasses"
   ]
  },
  {
   "cell_type": "code",
   "execution_count": null,
   "id": "56d6b969",
   "metadata": {},
   "outputs": [],
   "source": [
    "t1=domeo.Tier1()\n",
    "sl=domeo.SemanticLevel()\n",
    "sl.connect(t1, rel=domeo.has)\n",
    "y.connect(sl, rel=emmo.equalsTo)"
   ]
  },
  {
   "cell_type": "code",
   "execution_count": null,
   "id": "a33bd4fd",
   "metadata": {},
   "outputs": [],
   "source": [
    "semantic2dot(core_session)"
   ]
  },
  {
   "cell_type": "code",
   "execution_count": null,
   "id": "1cf67155",
   "metadata": {},
   "outputs": [],
   "source": [
    "t1=domeo.Tier1()\n",
    "y=domeo.DomeDataSet()\n",
    "q.connect(y, rel=domeo.has)\n",
    "sl=domeo.SemanticLevel()\n",
    "sl.connect(t1, rel=emmo.equalsTo)\n",
    "y.connect(sl, rel=domeo.has)"
   ]
  },
  {
   "cell_type": "code",
   "execution_count": null,
   "id": "6c5186d4",
   "metadata": {},
   "outputs": [],
   "source": [
    "t1=domeo.Tier3()\n",
    "y=domeo.DomeDataSet()\n",
    "q.connect(y, rel=domeo.has)\n",
    "sl=domeo.SemanticLevel()\n",
    "sl.connect(t1, rel=domeo.has)\n",
    "y.connect(sl, rel=emmo.equalsTo)"
   ]
  },
  {
   "cell_type": "code",
   "execution_count": null,
   "id": "9e25da63",
   "metadata": {},
   "outputs": [],
   "source": [
    "semantic2dot(core_session)"
   ]
  },
  {
   "cell_type": "code",
   "execution_count": null,
   "id": "534dbc5a",
   "metadata": {},
   "outputs": [],
   "source": [
    "pretty_print(y)"
   ]
  },
  {
   "cell_type": "code",
   "execution_count": null,
   "id": "84945173",
   "metadata": {},
   "outputs": [],
   "source": [
    "ynew=domeo.DomeDataSet()\n"
   ]
  },
  {
   "cell_type": "code",
   "execution_count": null,
   "id": "9b1e4aa4",
   "metadata": {},
   "outputs": [],
   "source": [
    "ynew.connect(y, rel=provo.DerivedFrom)\n",
    "y.connect(ynew, rel=provo.\"ReverseDerivedFrom\")"
   ]
  },
  {
   "cell_type": "code",
   "execution_count": null,
   "id": "243c633a",
   "metadata": {},
   "outputs": [],
   "source": [
    "type(dome4core.Action)\n"
   ]
  },
  {
   "cell_type": "code",
   "execution_count": null,
   "id": "c1e5be8f",
   "metadata": {},
   "outputs": [],
   "source": [
    "type(dome4core.action)\n"
   ]
  },
  {
   "cell_type": "code",
   "execution_count": null,
   "id": "aa60d594",
   "metadata": {},
   "outputs": [],
   "source": [
    "a=dome4core.Action()"
   ]
  },
  {
   "cell_type": "code",
   "execution_count": null,
   "id": "43176253",
   "metadata": {},
   "outputs": [],
   "source": [
    "pretty_print(a)"
   ]
  },
  {
   "cell_type": "code",
   "execution_count": null,
   "id": "f1ad1004",
   "metadata": {},
   "outputs": [],
   "source": [
    "dome4core.Preview"
   ]
  },
  {
   "cell_type": "code",
   "execution_count": null,
   "id": "52b01130",
   "metadata": {},
   "outputs": [],
   "source": [
    "a=dome4core.Download\n"
   ]
  },
  {
   "cell_type": "code",
   "execution_count": null,
   "id": "92cff44e",
   "metadata": {},
   "outputs": [],
   "source": [
    "pretty_print(a)"
   ]
  },
  {
   "cell_type": "code",
   "execution_count": null,
   "id": "52d532c9",
   "metadata": {},
   "outputs": [],
   "source": [
    "import_file('/Users/adham/dev/new/dome/Ontology-matters/scenario/platforms_test.ttl')"
   ]
  },
  {
   "cell_type": "code",
   "execution_count": null,
   "id": "94ffcb8d",
   "metadata": {},
   "outputs": [],
   "source": []
  },
  {
   "cell_type": "code",
   "execution_count": null,
   "id": "ca81ccda",
   "metadata": {},
   "outputs": [],
   "source": []
  },
  {
   "cell_type": "code",
   "execution_count": null,
   "id": "b9a7b8e5",
   "metadata": {},
   "outputs": [],
   "source": []
  },
  {
   "cell_type": "code",
   "execution_count": null,
   "id": "3fdbfc3d",
   "metadata": {},
   "outputs": [],
   "source": []
  }
 ],
 "metadata": {
  "kernelspec": {
   "display_name": ".env",
   "language": "python",
   "name": ".env"
  },
  "language_info": {
   "codemirror_mode": {
    "name": "ipython",
    "version": 3
   },
   "file_extension": ".py",
   "mimetype": "text/x-python",
   "name": "python",
   "nbconvert_exporter": "python",
   "pygments_lexer": "ipython3",
   "version": "3.11.3"
  }
 },
 "nbformat": 4,
 "nbformat_minor": 5
}
