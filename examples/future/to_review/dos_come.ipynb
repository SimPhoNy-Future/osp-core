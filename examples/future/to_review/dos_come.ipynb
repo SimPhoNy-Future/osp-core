{
 "cells": [
  {
   "cell_type": "code",
   "execution_count": null,
   "id": "ad8a4da6",
   "metadata": {},
   "outputs": [],
   "source": [
    "from simphony_osp.namespaces import city, dso_dome, dcat\n",
    "from simphony_osp.tools import pretty_print\n",
    "from rdflib import Graph, URIRef, Literal\n",
    "from rdflib.namespace import FOAF\n",
    "from simphony_osp.tools import export_file, import_file, search\n",
    "from simphony_osp.session import core_session\n",
    "from simphony_osp.ontology import OntologyIndividual\n",
    "from simphony_osp.namespaces import city, foaf\n",
    "from simphony_osp.tools import semantic2dot"
   ]
  },
  {
   "cell_type": "code",
   "execution_count": null,
   "id": "38f1e95f",
   "metadata": {},
   "outputs": [],
   "source": [
    "\n",
    "from simphony_osp.namespaces import city, foaf\n",
    "from simphony_osp.tools import semantic2dot\n"
   ]
  },
  {
   "cell_type": "code",
   "execution_count": null,
   "id": "6868de59",
   "metadata": {},
   "outputs": [],
   "source": [
    "semantic2dot(city, foaf)"
   ]
  },
  {
   "cell_type": "code",
   "execution_count": null,
   "id": "f9a3f160",
   "metadata": {},
   "outputs": [],
   "source": []
  },
  {
   "cell_type": "code",
   "execution_count": null,
   "id": "76de6312",
   "metadata": {},
   "outputs": [],
   "source": []
  }
 ],
 "metadata": {
  "kernelspec": {
   "display_name": "simphony_4",
   "language": "python",
   "name": "simphony_4"
  },
  "language_info": {
   "codemirror_mode": {
    "name": "ipython",
    "version": 3
   },
   "file_extension": ".py",
   "mimetype": "text/x-python",
   "name": "python",
   "nbconvert_exporter": "python",
   "pygments_lexer": "ipython3",
   "version": "3.11.3"
  }
 },
 "nbformat": 4,
 "nbformat_minor": 5
}
