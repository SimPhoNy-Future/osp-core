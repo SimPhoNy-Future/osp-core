{
 "cells": [
  {
   "cell_type": "code",
   "execution_count": 1,
   "id": "199af50a",
   "metadata": {},
   "outputs": [],
   "source": [
    "from simphony_osp.namespaces import city, owl#, foaf, dso_dome, owl, dcat\n",
    "from simphony_osp.tools import semantic2dot\n",
    "from simphony_osp.tools import pretty_print\n",
    "from simphony_osp.ontology import OntologyIndividual\n",
    "from simphony_osp.tools import semantic2dot\n",
    "from simphony_osp.session import core_session\n",
    "from simphony_osp.tools.search import sparql\n",
    "from simphony_osp.ontology import RESTRICTION_QUANTIFIER, RESTRICTION_TYPE\n"
   ]
  },
  {
   "cell_type": "markdown",
   "id": "fff66374",
   "metadata": {},
   "source": [
    "we want to test the implementation of axioms and how we can utilise them in SimPhoNy as replacement for schema or datamodel. Another way is to add a specific schema propery to an item, but this would be re inventing the wheel. \n",
    "\n",
    "we load cuty, define two cities, and one citizin, then we connect the citizin to two cities using the works in relationship. \n",
    "\n",
    "according to the ontology `worksIn max 1 PopulatedPlace` this should raise some error of some sort. \n",
    "\n",
    "the next step would be to programatically find out what a citizin can have, and operate respectively. Note I am going to ignore the data attributes as they are not relevant now. \n"
   ]
  },
  {
   "cell_type": "code",
   "execution_count": 2,
   "id": "02fae993",
   "metadata": {},
   "outputs": [],
   "source": [
    "haifa = city.City(name='haifa', coordinates=[0,0])"
   ]
  },
  {
   "cell_type": "code",
   "execution_count": 3,
   "id": "6f562ac2",
   "metadata": {},
   "outputs": [],
   "source": [
    "london = city.City(name='london', coordinates=[1,1])"
   ]
  },
  {
   "cell_type": "code",
   "execution_count": 4,
   "id": "aedf688f",
   "metadata": {},
   "outputs": [
    {
     "name": "stdout",
     "output_type": "stream",
     "text": [
      "- Ontology individual:\n",
      "  identifier: c5795526-046e-413d-9f29-14bf0e897f66\n",
      "  type: City (city )\n",
      "  superclasses: City (city ), Populated Place (city ), Geographical Place (city ), Thing (owl )\n",
      "  values: \u0000coordinates: [0 0]\n",
      "          \u0000name: haifa\n"
     ]
    }
   ],
   "source": [
    "pretty_print(haifa)"
   ]
  },
  {
   "cell_type": "code",
   "execution_count": 5,
   "id": "06bf8e0d",
   "metadata": {},
   "outputs": [
    {
     "name": "stdout",
     "output_type": "stream",
     "text": [
      "- Ontology individual:\n",
      "  identifier: 91476ab2-bb41-4d8f-8171-cfffa49373c5\n",
      "  type: City (city )\n",
      "  superclasses: City (city ), Populated Place (city ), Geographical Place (city ), Thing (owl )\n",
      "  values: \u0000coordinates: [1 1]\n",
      "          \u0000name: london\n"
     ]
    }
   ],
   "source": [
    "pretty_print(london)"
   ]
  },
  {
   "cell_type": "code",
   "execution_count": 6,
   "id": "357d805d",
   "metadata": {},
   "outputs": [],
   "source": [
    "adham=city.Citizen(name='adham', age='23')"
   ]
  },
  {
   "cell_type": "code",
   "execution_count": 7,
   "id": "b2b0ca73",
   "metadata": {},
   "outputs": [
    {
     "name": "stdout",
     "output_type": "stream",
     "text": [
      "- Ontology individual:\n",
      "  identifier: 47e671be-962e-4f5f-8ee0-504b6a382cdb\n",
      "  type: Citizen (city )\n",
      "  superclasses: Citizen (city ), Person (city ), Living Being (city ), Thing (owl )\n",
      "  values: \u0000age: 23\n",
      "          \u0000name: adham\n"
     ]
    }
   ],
   "source": [
    "pretty_print(adham)"
   ]
  },
  {
   "cell_type": "code",
   "execution_count": 8,
   "id": "e60d6ed1",
   "metadata": {},
   "outputs": [],
   "source": [
    "adham.connect(haifa, rel=city.worksIn)"
   ]
  },
  {
   "cell_type": "code",
   "execution_count": 9,
   "id": "7e5bdf51",
   "metadata": {},
   "outputs": [
    {
     "name": "stdout",
     "output_type": "stream",
     "text": [
      "- Ontology individual:\n",
      "  identifier: 47e671be-962e-4f5f-8ee0-504b6a382cdb\n",
      "  type: Citizen (city )\n",
      "  superclasses: Citizen (city ), Person (city ), Living Being (city ), Thing (owl )\n",
      "  values: \u0000age: 23\n",
      "          \u0000name: adham\n",
      "   |_Relationship works in (city ) (city):\n",
      "     - Ontology individual of class City\n",
      "        identifier: c5795526-046e-413d-9f29-14bf0e897f66\n",
      "        \u0000coordinates: [0 0]\n",
      "        \u0000name: haifa\n"
     ]
    }
   ],
   "source": [
    "pretty_print(adham)"
   ]
  },
  {
   "cell_type": "code",
   "execution_count": 10,
   "id": "b9f5cd22",
   "metadata": {},
   "outputs": [
    {
     "name": "stdout",
     "output_type": "stream",
     "text": [
      "- Ontology individual:\n",
      "  identifier: c5795526-046e-413d-9f29-14bf0e897f66\n",
      "  type: City (city )\n",
      "  superclasses: City (city ), Populated Place (city ), Geographical Place (city ), Thing (owl )\n",
      "  values: \u0000coordinates: [0 0]\n",
      "          \u0000name: haifa\n"
     ]
    }
   ],
   "source": [
    "pretty_print(haifa)"
   ]
  },
  {
   "cell_type": "code",
   "execution_count": 11,
   "id": "30ca7e31",
   "metadata": {},
   "outputs": [],
   "source": [
    "haifa.connect(adham, rel=city.worksIn)"
   ]
  },
  {
   "cell_type": "code",
   "execution_count": 12,
   "id": "f94fc42d",
   "metadata": {},
   "outputs": [
    {
     "name": "stdout",
     "output_type": "stream",
     "text": [
      "- Ontology individual:\n",
      "  identifier: c5795526-046e-413d-9f29-14bf0e897f66\n",
      "  type: City (city )\n",
      "  superclasses: City (city ), Populated Place (city ), Geographical Place (city ), Thing (owl )\n",
      "  values: \u0000coordinates: [0 0]\n",
      "          \u0000name: haifa\n",
      "   |_Relationship works in (city ) (city):\n",
      "     - Ontology individual of class Citizen\n",
      "        identifier: 47e671be-962e-4f5f-8ee0-504b6a382cdb\n",
      "        \u0000age: 23\n",
      "        \u0000name: adham\n",
      "         |_Relationship works in (city ) (city):\n",
      "           - Ontology individual of class City\n",
      "              identifier: c5795526-046e-413d-9f29-14bf0e897f66\n",
      "              (already printed)\n"
     ]
    }
   ],
   "source": [
    "pretty_print(haifa)"
   ]
  },
  {
   "cell_type": "markdown",
   "id": "730e166c",
   "metadata": {},
   "source": [
    "the above example shows somethign absord, we have said that the city haifa works in adham! it is perhaps absrd, but one should be able to state it, how do we tell the computer (teach) that this is not a normal thing without imposing constraints? \n",
    "\n",
    "# how to iterate the existign relationships of an individual? how to hint what it can have? \n",
    "should we expect the user first to instantiate then check?\n"
   ]
  },
  {
   "cell_type": "code",
   "execution_count": 13,
   "id": "429ef497",
   "metadata": {},
   "outputs": [
    {
     "data": {
      "text/plain": [
       "{'_uid': <class 'simphony_osp.utils.datatypes.UID': UUID('c5795526-046e-413d-9f29-14bf0e897f66')>,\n",
       " '_session': <simphony_osp.session.session.Session at 0x11360ed50>,\n",
       " '_OntologyEntity__graph': None}"
      ]
     },
     "execution_count": 13,
     "metadata": {},
     "output_type": "execute_result"
    }
   ],
   "source": [
    "vars(haifa)"
   ]
  },
  {
   "cell_type": "code",
   "execution_count": 14,
   "id": "250815e3",
   "metadata": {},
   "outputs": [
    {
     "data": {
      "text/plain": [
       "['_OntologyEntity__graph',\n",
       " '__abstractmethods__',\n",
       " '__annotations__',\n",
       " '__bool__',\n",
       " '__class__',\n",
       " '__delattr__',\n",
       " '__delitem__',\n",
       " '__dict__',\n",
       " '__dir__',\n",
       " '__doc__',\n",
       " '__enter__',\n",
       " '__eq__',\n",
       " '__exit__',\n",
       " '__format__',\n",
       " '__ge__',\n",
       " '__getattr__',\n",
       " '__getattribute__',\n",
       " '__getitem__',\n",
       " '__getstate__',\n",
       " '__gt__',\n",
       " '__hash__',\n",
       " '__init__',\n",
       " '__init_subclass__',\n",
       " '__le__',\n",
       " '__lt__',\n",
       " '__module__',\n",
       " '__ne__',\n",
       " '__new__',\n",
       " '__reduce__',\n",
       " '__reduce_ex__',\n",
       " '__repr__',\n",
       " '__setattr__',\n",
       " '__setitem__',\n",
       " '__sizeof__',\n",
       " '__slots__',\n",
       " '__str__',\n",
       " '__subclasshook__',\n",
       " '__weakref__',\n",
       " '_abc_impl',\n",
       " '_annotation_autocompletion',\n",
       " '_attribute_autocompletion',\n",
       " '_attributes_get_by_name',\n",
       " '_classify_by_type',\n",
       " '_get_direct_subclasses',\n",
       " '_get_direct_superclasses',\n",
       " '_get_subclasses',\n",
       " '_get_superclasses',\n",
       " '_ipython_key_completions_',\n",
       " '_operations_context',\n",
       " '_operations_namespace',\n",
       " '_relationship_autocompletion',\n",
       " '_session',\n",
       " '_sort_labels_and_properties_by_preference',\n",
       " '_uid',\n",
       " 'age',\n",
       " 'age',\n",
       " 'age',\n",
       " 'age',\n",
       " 'annotations_add',\n",
       " 'annotations_delete',\n",
       " 'annotations_iter',\n",
       " 'annotations_set',\n",
       " 'annotations_value_generator',\n",
       " 'attributes',\n",
       " 'attributes_add',\n",
       " 'attributes_attribute_and_value_generator',\n",
       " 'attributes_delete',\n",
       " 'attributes_generator',\n",
       " 'attributes_set',\n",
       " 'attributes_value_contains',\n",
       " 'attributes_value_generator',\n",
       " 'classes',\n",
       " 'connect',\n",
       " 'direct_subclasses',\n",
       " 'direct_superclasses',\n",
       " 'disconnect',\n",
       " 'get',\n",
       " 'graph',\n",
       " 'identifier',\n",
       " 'iri',\n",
       " 'is_a',\n",
       " 'is_subclass_of',\n",
       " 'is_superclass_of',\n",
       " 'iter',\n",
       " 'iter_labels',\n",
       " 'label',\n",
       " 'label_lang',\n",
       " 'label_literal',\n",
       " 'name',\n",
       " 'name',\n",
       " 'name',\n",
       " 'name',\n",
       " 'namespace',\n",
       " 'operations',\n",
       " 'rdf_identifier',\n",
       " 'rdf_type',\n",
       " 'relationships_iter',\n",
       " 'session',\n",
       " 'subclasses',\n",
       " 'superclasses',\n",
       " 'triples',\n",
       " 'uid']"
      ]
     },
     "execution_count": 14,
     "metadata": {},
     "output_type": "execute_result"
    }
   ],
   "source": [
    "dir(adham)"
   ]
  },
  {
   "cell_type": "code",
   "execution_count": 15,
   "id": "87693f7a",
   "metadata": {},
   "outputs": [
    {
     "data": {
      "text/plain": [
       "{<OntologyIndividual: c5795526-046e-413d-9f29-14bf0e897f66>} <http://www.w3.org/2002/07/owl#topObjectProperty of ontology individual 47e671be-962e-4f5f-8ee0-504b6a382cdb>"
      ]
     },
     "execution_count": 15,
     "metadata": {},
     "output_type": "execute_result"
    }
   ],
   "source": [
    "adham.get()"
   ]
  },
  {
   "cell_type": "code",
   "execution_count": 16,
   "id": "93f57d39",
   "metadata": {},
   "outputs": [
    {
     "name": "stdout",
     "output_type": "stream",
     "text": [
      "c5795526-046e-413d-9f29-14bf0e897f66\n"
     ]
    }
   ],
   "source": [
    "for i in adham.get():\n",
    "    print(i)"
   ]
  },
  {
   "cell_type": "code",
   "execution_count": 17,
   "id": "61479ce9",
   "metadata": {},
   "outputs": [
    {
     "name": "stdout",
     "output_type": "stream",
     "text": [
      "{<OntologyIndividual: c5795526-046e-413d-9f29-14bf0e897f66>} <http://www.w3.org/2002/07/owl#topObjectProperty of ontology individual 47e671be-962e-4f5f-8ee0-504b6a382cdb>\n",
      "\n"
     ]
    }
   ],
   "source": [
    "print(adham.get().__repr__(), end='\\n'*2) "
   ]
  },
  {
   "cell_type": "code",
   "execution_count": 18,
   "id": "d3ad1c22",
   "metadata": {},
   "outputs": [
    {
     "data": {
      "text/plain": [
       "((<OntologyIndividual: c5795526-046e-413d-9f29-14bf0e897f66>,\n",
       "  <OntologyRelationship: works in https://www.simphony-osp.eu/city#worksIn>),)"
      ]
     },
     "execution_count": 18,
     "metadata": {},
     "output_type": "execute_result"
    }
   ],
   "source": [
    "adham.get(rel=owl.topObjectProperty, return_rel=True)"
   ]
  },
  {
   "cell_type": "code",
   "execution_count": 19,
   "id": "3cc2743d",
   "metadata": {},
   "outputs": [],
   "source": [
    "john=city.Citizen(name=\"john\",age=2)"
   ]
  },
  {
   "cell_type": "code",
   "execution_count": 20,
   "id": "3ca7fa47",
   "metadata": {},
   "outputs": [
    {
     "data": {
      "text/plain": [
       "()"
      ]
     },
     "execution_count": 20,
     "metadata": {},
     "output_type": "execute_result"
    }
   ],
   "source": [
    "john.get(rel=owl.topObjectProperty, return_rel=True)"
   ]
  },
  {
   "cell_type": "code",
   "execution_count": null,
   "id": "3d42ce89",
   "metadata": {},
   "outputs": [],
   "source": []
  }
 ],
 "metadata": {
  "kernelspec": {
   "display_name": "simphony_4",
   "language": "python",
   "name": "simphony_4"
  },
  "language_info": {
   "codemirror_mode": {
    "name": "ipython",
    "version": 3
   },
   "file_extension": ".py",
   "mimetype": "text/x-python",
   "name": "python",
   "nbconvert_exporter": "python",
   "pygments_lexer": "ipython3",
   "version": "3.11.3"
  }
 },
 "nbformat": 4,
 "nbformat_minor": 5
}
