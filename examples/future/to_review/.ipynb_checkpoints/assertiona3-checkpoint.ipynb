{
 "cells": [
  {
   "cell_type": "markdown",
   "id": "47a4565c",
   "metadata": {},
   "source": [
    "# Example showing how to access, edit and navigate assertional knowledge.\n",
    "## Testing cardinality/constrtaints\n",
    "\n"
   ]
  },
  {
   "cell_type": "code",
   "execution_count": 1,
   "id": "b33aed0c",
   "metadata": {},
   "outputs": [],
   "source": [
    "from simphony_osp.namespaces import city, emmo, rdfs\n",
    "from simphony_osp.tools import pretty_print\n"
   ]
  },
  {
   "cell_type": "code",
   "execution_count": 2,
   "id": "48cc1b9a",
   "metadata": {},
   "outputs": [],
   "source": [
    "# instantiate ontology individuals\n",
    "\n",
    "person = city.Citizen(\n",
    "    name=\"Martin\",\n",
    "    age=15,\n",
    ")"
   ]
  },
  {
   "cell_type": "markdown",
   "id": "ad4ee229",
   "metadata": {},
   "source": [
    "Multi-class individuals. This is a complication, as now person has two `name` attributes, one from each name space.\n",
    "Meanning we cannot use the '.name' notation any longer. Hence, it is a better practice to use \n",
    "\n",
    "`person[city['name']])`"
   ]
  },
  {
   "cell_type": "code",
   "execution_count": 3,
   "id": "91372d95",
   "metadata": {},
   "outputs": [],
   "source": [
    "person.classes = city.Citizen, emmo.Cogniser  "
   ]
  },
  {
   "cell_type": "code",
   "execution_count": 4,
   "id": "3535458b",
   "metadata": {},
   "outputs": [],
   "source": [
    " freiburg = city.City(name=\"Freiburg\", coordinates=[47.997791, 7.842609])"
   ]
  },
  {
   "cell_type": "code",
   "execution_count": 5,
   "id": "0153e78b",
   "metadata": {},
   "outputs": [],
   "source": [
    "neighborhoods = {\n",
    "    city.Neighborhood(name=name, coordinates=coordinates)\n",
    "    for name, coordinates in [\n",
    "        (\"Altstadt\", [47.99525, 7.84726]),\n",
    "        (\"Stühlinger\", [47.99888, 7.83774]),\n",
    "        (\"Neuburg\", [48.00021, 7.86084]),\n",
    "        (\"Herdern\", [48.00779, 7.86268]),\n",
    "        (\"Brühl\", [48.01684, 7.843]),\n",
    "    ]\n",
    "}"
   ]
  },
  {
   "cell_type": "code",
   "execution_count": 6,
   "id": "10d87cb0",
   "metadata": {},
   "outputs": [],
   "source": [
    "citizen_1 = city.Citizen(name=\"Nikola\", age=35)\n",
    "citizen_2 = city.Citizen(name=\"Lena\", age=70)"
   ]
  },
  {
   "cell_type": "code",
   "execution_count": 7,
   "id": "6c3a562f",
   "metadata": {},
   "outputs": [
    {
     "name": "stdout",
     "output_type": "stream",
     "text": [
      "- Ontology individual:\n",
      "  identifier: 9fe7b4d7-7685-42a5-899b-06bb87335d78\n",
      "  type: City (city )\n",
      "  superclasses: City (city ), Populated Place (city ), Geographical Place (city ), Thing (owl )\n",
      "  values: \u0000coordinates: [47.997791  7.842609]\n",
      "          \u0000name: Freiburg\n"
     ]
    }
   ],
   "source": [
    "pretty_print(freiburg)"
   ]
  },
  {
   "cell_type": "code",
   "execution_count": 8,
   "id": "0221b07e",
   "metadata": {},
   "outputs": [
    {
     "data": {
      "text/plain": [
       "[<OntologyClass: City https://www.simphony-osp.eu/city#City>,\n",
       " <OntologyClass: Populated Place https://www.simphony-osp.eu/city#PopulatedPlace>,\n",
       " <OntologyClass: Geographical Place https://www.simphony-osp.eu/city#GeographicalPlace>,\n",
       " <OntologyClass: Thing http://www.w3.org/2002/07/owl#Thing>]"
      ]
     },
     "execution_count": 8,
     "metadata": {},
     "output_type": "execute_result"
    }
   ],
   "source": [
    "freiburg.superclasses"
   ]
  },
  {
   "cell_type": "code",
   "execution_count": 9,
   "id": "5dca0f3c",
   "metadata": {},
   "outputs": [],
   "source": [
    "# edit relationships, attributes and/or annotations\n",
    "freiburg[city.hasPart] |= neighborhoods"
   ]
  },
  {
   "cell_type": "code",
   "execution_count": 10,
   "id": "5f7a8c6a",
   "metadata": {},
   "outputs": [],
   "source": [
    "freiburg[city.hasInhabitant] += citizen_1, citizen_2, person"
   ]
  },
  {
   "cell_type": "code",
   "execution_count": 11,
   "id": "135ba024",
   "metadata": {},
   "outputs": [],
   "source": [
    "freiburg[rdfs.comment] = \"A city in the southwest of Germany.\""
   ]
  },
  {
   "cell_type": "code",
   "execution_count": 12,
   "id": "b50c0580",
   "metadata": {},
   "outputs": [
    {
     "data": {
      "text/plain": [
       "{<OntologyIndividual: ee7a9e66-089c-462e-a70e-df5150e6a89e>, <OntologyIndividual: df73ff4a-ef3c-48c6-a222-0a5a49d95a49>, <OntologyIndividual: 9676fbea-0c1f-4186-ac0d-7f830cb6a33b>} <has inhabitant of ontology individual 9fe7b4d7-7685-42a5-899b-06bb87335d78>"
      ]
     },
     "execution_count": 12,
     "metadata": {},
     "output_type": "execute_result"
    }
   ],
   "source": [
    "freiburg.get(rel=city.hasInhabitant, oclass=city.Citizen)"
   ]
  },
  {
   "cell_type": "code",
   "execution_count": 13,
   "id": "06b04a20",
   "metadata": {},
   "outputs": [
    {
     "name": "stdout",
     "output_type": "stream",
     "text": [
      "- Ontology individual:\n",
      "  identifier: df73ff4a-ef3c-48c6-a222-0a5a49d95a49\n",
      "  types: Cogniser (emmo ), Citizen (city )\n",
      "  superclasses: Cogniser (emmo ), Interpreter (emmo ), CausalSystem (emmo ), CausalStructure (emmo ), Item (emmo ), EMMO (emmo ), Thing (owl ), SemioticEntity (emmo ), Semiotics (emmo ), Perspective (emmo ), Citizen (city ), Person (city ), Living Being (city )\n",
      "  values: \u0000age: 15\n",
      "          \u0000name: Martin\n",
      "- Ontology individual:\n",
      "  identifier: ee7a9e66-089c-462e-a70e-df5150e6a89e\n",
      "  type: Citizen (city )\n",
      "  superclasses: Citizen (city ), Person (city ), Living Being (city ), Thing (owl )\n",
      "  values: \u0000age: 70\n",
      "          \u0000name: Lena\n",
      "- Ontology individual:\n",
      "  identifier: 9676fbea-0c1f-4186-ac0d-7f830cb6a33b\n",
      "  type: Citizen (city )\n",
      "  superclasses: Citizen (city ), Person (city ), Living Being (city ), Thing (owl )\n",
      "  values: \u0000age: 35\n",
      "          \u0000name: Nikola\n"
     ]
    }
   ],
   "source": [
    "for citizen in freiburg.get(rel=city.hasInhabitant, oclass=city.Citizen):\n",
    "    pretty_print(citizen)"
   ]
  },
  {
   "cell_type": "code",
   "execution_count": 14,
   "id": "778bcfaa",
   "metadata": {},
   "outputs": [
    {
     "data": {
      "text/plain": [
       "(35, 'Nikola')"
      ]
     },
     "execution_count": 14,
     "metadata": {},
     "output_type": "execute_result"
    }
   ],
   "source": [
    "citizen_1.age, citizen_1.name\n"
   ]
  },
  {
   "cell_type": "code",
   "execution_count": 15,
   "id": "81273c83",
   "metadata": {},
   "outputs": [
    {
     "data": {
      "text/plain": [
       "mappingproxy({<OntologyAttribute: name https://www.simphony-osp.eu/city#name>: frozenset({'Lena'}),\n",
       "              <OntologyAttribute: age https://www.simphony-osp.eu/city#age>: frozenset({70})})"
      ]
     },
     "execution_count": 15,
     "metadata": {},
     "output_type": "execute_result"
    }
   ],
   "source": [
    "\n",
    "citizen_2.attributes\n"
   ]
  },
  {
   "cell_type": "markdown",
   "id": "117997f9",
   "metadata": {},
   "source": [
    "`person.name`\n",
    "\n",
    "this does not work as the dot notation does not suppoert multiple values\n",
    "\n",
    "```\n",
    "---------------------------------------------------------------------------\n",
    "AttributeError                            Traceback (most recent call last)\n",
    "Cell In[29], line 1\n",
    "----> 1 person.name\n",
    "      2 # this does not work as the dot notation does not suppoert multiple values\n",
    "\n",
    "File ~/dev/simphony_4_git/simphony-osp/simphony_osp/ontology/individual.py:931, in OntologyIndividual.__getattr__(self, name)\n",
    "    922 elif num_attributes >= 2:\n",
    "    923     error = (\n",
    "    924         f\"There are multiple attributes with label or suffix {name} \"\n",
    "    925         f\"associated with {self}:\"\n",
    "   (...)\n",
    "    929         f\"values of this attribute.\"\n",
    "    930     )\n",
    "--> 931     raise AttributeError(error)\n",
    "    932 attr = attributes.pop()\n",
    "    934 values = self.attributes_value_generator(attr)\n",
    "\n",
    "AttributeError: There are multiple attributes with label or suffix name associated with df73ff4a-ef3c-48c6-a222-0a5a49d95a49: https://www.simphony-osp.eu/city#name, http://xmlns.com/foaf/0.1/name. Please use an OntologyAttribute object together with the indexing notation `individual[attribute]` to access the values of this attribute.\n",
    "```\n"
   ]
  },
  {
   "cell_type": "code",
   "execution_count": 20,
   "id": "aaf08e0c",
   "metadata": {},
   "outputs": [
    {
     "name": "stdout",
     "output_type": "stream",
     "text": [
      "<class 'set'>\n",
      "name\n"
     ]
    },
    {
     "data": {
      "text/plain": [
       "'name'"
      ]
     },
     "execution_count": 20,
     "metadata": {},
     "output_type": "execute_result"
    }
   ],
   "source": [
    "X=person._attributes_get_by_name('name')\n",
    "print(type(X))\n",
    "X_1 = X.pop()\n",
    "print(X_1)\n",
    "X_1\n",
    "X_1.__str__()\n"
   ]
  },
  {
   "cell_type": "code",
   "execution_count": 30,
   "id": "a0c88631",
   "metadata": {},
   "outputs": [],
   "source": [
    "# print(person[\"name\"].all())\n",
    "# this does not work as intended based on the current  doc\n"
   ]
  },
  {
   "cell_type": "markdown",
   "id": "1e360e8e",
   "metadata": {},
   "source": [
    "# The best way to access multiple attributes\n",
    "Use the dictionary/array like form, as it allows one to directly specify the proper ontology. Though for the future a better way is needed. "
   ]
  },
  {
   "cell_type": "code",
   "execution_count": 24,
   "id": "9db0402d",
   "metadata": {},
   "outputs": [
    {
     "name": "stdout",
     "output_type": "stream",
     "text": [
      "{'Martin'}\n",
      "{'Lena'}\n",
      "{'Nikola'}\n"
     ]
    }
   ],
   "source": [
    "for citizen in freiburg.get(rel=city.hasInhabitant, oclass=city.Citizen):\n",
    "    print(citizen[city['name']])"
   ]
  },
  {
   "cell_type": "code",
   "execution_count": 25,
   "id": "3b2039d5",
   "metadata": {},
   "outputs": [
    {
     "data": {
      "text/plain": [
       "<OntologyAttribute: name https://www.simphony-osp.eu/city#name>"
      ]
     },
     "execution_count": 25,
     "metadata": {},
     "output_type": "execute_result"
    }
   ],
   "source": [
    " city['name']"
   ]
  },
  {
   "cell_type": "code",
   "execution_count": 26,
   "id": "86f6576d",
   "metadata": {},
   "outputs": [],
   "source": [
    "# navigate the assertional knowledge\n",
    "can_drive = {\n",
    "   frozenset(citizen[city['name']]): \"Yes\" if (True if citizen.age >= 18 else False) else \"No\"\n",
    "    for citizen in freiburg.get(rel=city.hasInhabitant, oclass=city.Citizen)\n",
    "}"
   ]
  },
  {
   "cell_type": "code",
   "execution_count": 27,
   "id": "7ef57650",
   "metadata": {},
   "outputs": [
    {
     "name": "stdout",
     "output_type": "stream",
     "text": [
      "Can frozenset({'Martin'}) drive? No\n",
      "Can frozenset({'Lena'}) drive? Yes\n",
      "Can frozenset({'Nikola'}) drive? Yes\n"
     ]
    }
   ],
   "source": [
    "for name, drives in can_drive.items():\n",
    "    print(f\"Can {name} drive? {drives}\")\n",
    "    "
   ]
  },
  {
   "cell_type": "code",
   "execution_count": null,
   "id": "b8c0441e",
   "metadata": {},
   "outputs": [],
   "source": []
  },
  {
   "cell_type": "code",
   "execution_count": null,
   "id": "bd2cc94c",
   "metadata": {},
   "outputs": [],
   "source": []
  },
  {
   "cell_type": "code",
   "execution_count": null,
   "id": "bea68c04",
   "metadata": {},
   "outputs": [],
   "source": []
  }
 ],
 "metadata": {
  "kernelspec": {
   "display_name": ".venv",
   "language": "python",
   "name": ".venv"
  },
  "language_info": {
   "codemirror_mode": {
    "name": "ipython",
    "version": 3
   },
   "file_extension": ".py",
   "mimetype": "text/x-python",
   "name": "python",
   "nbconvert_exporter": "python",
   "pygments_lexer": "ipython3",
   "version": "3.11.3"
  }
 },
 "nbformat": 4,
 "nbformat_minor": 5
}
