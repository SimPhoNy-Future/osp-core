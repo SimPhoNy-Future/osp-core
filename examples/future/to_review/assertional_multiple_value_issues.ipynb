{
 "cells": [
  {
   "cell_type": "markdown",
   "id": "30fac32e",
   "metadata": {},
   "source": [
    "# Example showing how to access, edit and navigate assertional knowledge.\n",
    "\n",
    "In an ontological framework, ontology entities are used as a knowledge\n",
    "representation form. Those can be further categorized in two groups: ontology\n",
    "individuals (assertional knowledge), and ontology classes, relationships,\n",
    "attributes and annotations (terminological knowledge).\n",
    "\n",
    "[Assertional knowledge - SimPhoNy documentation](https://simphony.readthedocs.io/en/v4.0.0/usage/assertional_knowledge.html)\n",
    "\n",
    "This example focuses on accessing, editing and navigating assertional\n",
    "knowledge. In particular, a few ontology individuals that stand for a city,\n",
    "some of its neighborhoods and inhabitants are instantiated, and are later\n",
    "connected and navigated.\n",
    "\n",
    "Before running this example, make sure that the city and emmo\n",
    "ontologies are installed. If it is not the case, install them running the\n",
    "following code: \n",
    "\n",
    "```\n",
    "from simphony_osp.tools.pico import install\n",
    "install(\"city\", \"emmo\")\n",
    "```\n"
   ]
  },
  {
   "cell_type": "code",
   "execution_count": 1,
   "id": "400e9573",
   "metadata": {},
   "outputs": [],
   "source": [
    "from simphony_osp.namespaces import city, emmo, rdfs\n",
    "from simphony_osp.tools import pretty_print\n"
   ]
  },
  {
   "cell_type": "code",
   "execution_count": 2,
   "id": "af60816e",
   "metadata": {},
   "outputs": [],
   "source": [
    "# instantiate ontology individuals\n",
    "person = city.Citizen(\n",
    "    name=\"Martin\",\n",
    "    age=15,\n",
    ")"
   ]
  },
  {
   "cell_type": "code",
   "execution_count": 3,
   "id": "fa44f4c9",
   "metadata": {},
   "outputs": [],
   "source": [
    "person.classes = city.Citizen, emmo.Cogniser  # multi-class individuals"
   ]
  },
  {
   "cell_type": "code",
   "execution_count": 4,
   "id": "9ce0f18a",
   "metadata": {},
   "outputs": [],
   "source": [
    " freiburg = city.City(name=\"Freiburg\", coordinates=[47.997791, 7.842609])"
   ]
  },
  {
   "cell_type": "code",
   "execution_count": 5,
   "id": "62bc0466",
   "metadata": {},
   "outputs": [],
   "source": [
    "neighborhoods = {\n",
    "    city.Neighborhood(name=name, coordinates=coordinates)\n",
    "    for name, coordinates in [\n",
    "        (\"Altstadt\", [47.99525, 7.84726]),\n",
    "        (\"Stühlinger\", [47.99888, 7.83774]),\n",
    "        (\"Neuburg\", [48.00021, 7.86084]),\n",
    "        (\"Herdern\", [48.00779, 7.86268]),\n",
    "        (\"Brühl\", [48.01684, 7.843]),\n",
    "    ]\n",
    "}"
   ]
  },
  {
   "cell_type": "code",
   "execution_count": 6,
   "id": "23fcd0d4",
   "metadata": {},
   "outputs": [],
   "source": [
    "citizen_1 = city.Citizen(name=\"Nikola\", age=35)\n",
    "citizen_2 = city.Citizen(name=\"Lena\", age=70)"
   ]
  },
  {
   "cell_type": "code",
   "execution_count": 7,
   "id": "41f8137f",
   "metadata": {},
   "outputs": [
    {
     "name": "stdout",
     "output_type": "stream",
     "text": [
      "- Ontology individual:\n",
      "  identifier: 9fe7b4d7-7685-42a5-899b-06bb87335d78\n",
      "  type: City (city )\n",
      "  superclasses: City (city ), Populated Place (city ), Geographical Place (city ), Thing (owl )\n",
      "  values: \u0000coordinates: [47.997791  7.842609]\n",
      "          \u0000name: Freiburg\n"
     ]
    }
   ],
   "source": [
    "pretty_print(freiburg)"
   ]
  },
  {
   "cell_type": "code",
   "execution_count": 8,
   "id": "2e9c3253",
   "metadata": {},
   "outputs": [
    {
     "data": {
      "text/plain": [
       "[<OntologyClass: City https://www.simphony-osp.eu/city#City>,\n",
       " <OntologyClass: Populated Place https://www.simphony-osp.eu/city#PopulatedPlace>,\n",
       " <OntologyClass: Geographical Place https://www.simphony-osp.eu/city#GeographicalPlace>,\n",
       " <OntologyClass: Thing http://www.w3.org/2002/07/owl#Thing>]"
      ]
     },
     "execution_count": 8,
     "metadata": {},
     "output_type": "execute_result"
    }
   ],
   "source": [
    "freiburg.superclasses\n"
   ]
  },
  {
   "cell_type": "code",
   "execution_count": 9,
   "id": "7b76e419",
   "metadata": {},
   "outputs": [],
   "source": [
    "# edit relationships, attributes and/or annotations\n",
    "freiburg[city.hasPart] |= neighborhoods"
   ]
  },
  {
   "cell_type": "code",
   "execution_count": 10,
   "id": "5c426e86",
   "metadata": {},
   "outputs": [],
   "source": [
    "freiburg[city.hasInhabitant] += citizen_1, citizen_2, person"
   ]
  },
  {
   "cell_type": "code",
   "execution_count": 11,
   "id": "ecc38f0a",
   "metadata": {},
   "outputs": [],
   "source": [
    "freiburg[rdfs.comment] = \"A city in the southwest of Germany.\""
   ]
  },
  {
   "cell_type": "code",
   "execution_count": 12,
   "id": "6b9136ef",
   "metadata": {},
   "outputs": [
    {
     "data": {
      "text/plain": [
       "{<OntologyIndividual: ee7a9e66-089c-462e-a70e-df5150e6a89e>, <OntologyIndividual: df73ff4a-ef3c-48c6-a222-0a5a49d95a49>, <OntologyIndividual: 9676fbea-0c1f-4186-ac0d-7f830cb6a33b>} <has inhabitant of ontology individual 9fe7b4d7-7685-42a5-899b-06bb87335d78>"
      ]
     },
     "execution_count": 12,
     "metadata": {},
     "output_type": "execute_result"
    }
   ],
   "source": [
    "freiburg.get(rel=city.hasInhabitant, oclass=city.Citizen)"
   ]
  },
  {
   "cell_type": "code",
   "execution_count": 13,
   "id": "8486d663",
   "metadata": {},
   "outputs": [
    {
     "name": "stdout",
     "output_type": "stream",
     "text": [
      "- Ontology individual:\n",
      "  identifier: df73ff4a-ef3c-48c6-a222-0a5a49d95a49\n",
      "  types: Cogniser (emmo ), Citizen (city )\n",
      "  superclasses: Cogniser (emmo ), Interpreter (emmo ), CausalSystem (emmo ), CausalStructure (emmo ), Item (emmo ), EMMO (emmo ), Thing (owl ), SemioticEntity (emmo ), Semiotics (emmo ), Perspective (emmo ), Citizen (city ), Person (city ), Living Being (city )\n",
      "  values: \u0000age: 15\n",
      "          \u0000name: Martin\n",
      "- Ontology individual:\n",
      "  identifier: ee7a9e66-089c-462e-a70e-df5150e6a89e\n",
      "  type: Citizen (city )\n",
      "  superclasses: Citizen (city ), Person (city ), Living Being (city ), Thing (owl )\n",
      "  values: \u0000age: 70\n",
      "          \u0000name: Lena\n",
      "- Ontology individual:\n",
      "  identifier: 9676fbea-0c1f-4186-ac0d-7f830cb6a33b\n",
      "  type: Citizen (city )\n",
      "  superclasses: Citizen (city ), Person (city ), Living Being (city ), Thing (owl )\n",
      "  values: \u0000age: 35\n",
      "          \u0000name: Nikola\n"
     ]
    }
   ],
   "source": [
    "for citizen in freiburg.get(rel=city.hasInhabitant, oclass=city.Citizen):\n",
    "    pretty_print(citizen)"
   ]
  },
  {
   "cell_type": "code",
   "execution_count": 14,
   "id": "5d109213",
   "metadata": {},
   "outputs": [
    {
     "data": {
      "text/plain": [
       "(35, 'Nikola')"
      ]
     },
     "execution_count": 14,
     "metadata": {},
     "output_type": "execute_result"
    }
   ],
   "source": [
    "citizen_1.age, citizen_1.name\n"
   ]
  },
  {
   "cell_type": "code",
   "execution_count": 15,
   "id": "9a26b289",
   "metadata": {},
   "outputs": [
    {
     "data": {
      "text/plain": [
       "mappingproxy({<OntologyAttribute: name https://www.simphony-osp.eu/city#name>: frozenset({'Lena'}),\n",
       "              <OntologyAttribute: age https://www.simphony-osp.eu/city#age>: frozenset({70})})"
      ]
     },
     "execution_count": 15,
     "metadata": {},
     "output_type": "execute_result"
    }
   ],
   "source": [
    "\n",
    "citizen_2.attributes\n"
   ]
  },
  {
   "cell_type": "code",
   "execution_count": 16,
   "id": "4adc3e97",
   "metadata": {},
   "outputs": [
    {
     "ename": "AttributeError",
     "evalue": "There are multiple attributes with label or suffix name associated with df73ff4a-ef3c-48c6-a222-0a5a49d95a49: https://www.simphony-osp.eu/city#name, http://xmlns.com/foaf/0.1/name. Please use an OntologyAttribute object together with the indexing notation `individual[attribute]` to access the values of this attribute.",
     "output_type": "error",
     "traceback": [
      "\u001b[0;31m---------------------------------------------------------------------------\u001b[0m",
      "\u001b[0;31mAttributeError\u001b[0m                            Traceback (most recent call last)",
      "Cell \u001b[0;32mIn[16], line 1\u001b[0m\n\u001b[0;32m----> 1\u001b[0m \u001b[43mperson\u001b[49m\u001b[38;5;241;43m.\u001b[39;49m\u001b[43mname\u001b[49m\n",
      "File \u001b[0;32m~/dev/simphony_4_git/simphony-osp/simphony_osp/ontology/individual.py:931\u001b[0m, in \u001b[0;36mOntologyIndividual.__getattr__\u001b[0;34m(self, name)\u001b[0m\n\u001b[1;32m    922\u001b[0m \u001b[38;5;28;01melif\u001b[39;00m num_attributes \u001b[38;5;241m>\u001b[39m\u001b[38;5;241m=\u001b[39m \u001b[38;5;241m2\u001b[39m:\n\u001b[1;32m    923\u001b[0m     error \u001b[38;5;241m=\u001b[39m (\n\u001b[1;32m    924\u001b[0m         \u001b[38;5;124mf\u001b[39m\u001b[38;5;124m\"\u001b[39m\u001b[38;5;124mThere are multiple attributes with label or suffix \u001b[39m\u001b[38;5;132;01m{\u001b[39;00mname\u001b[38;5;132;01m}\u001b[39;00m\u001b[38;5;124m \u001b[39m\u001b[38;5;124m\"\u001b[39m\n\u001b[1;32m    925\u001b[0m         \u001b[38;5;124mf\u001b[39m\u001b[38;5;124m\"\u001b[39m\u001b[38;5;124massociated with \u001b[39m\u001b[38;5;132;01m{\u001b[39;00m\u001b[38;5;28mself\u001b[39m\u001b[38;5;132;01m}\u001b[39;00m\u001b[38;5;124m:\u001b[39m\u001b[38;5;124m\"\u001b[39m\n\u001b[0;32m   (...)\u001b[0m\n\u001b[1;32m    929\u001b[0m         \u001b[38;5;124mf\u001b[39m\u001b[38;5;124m\"\u001b[39m\u001b[38;5;124mvalues of this attribute.\u001b[39m\u001b[38;5;124m\"\u001b[39m\n\u001b[1;32m    930\u001b[0m     )\n\u001b[0;32m--> 931\u001b[0m     \u001b[38;5;28;01mraise\u001b[39;00m \u001b[38;5;167;01mAttributeError\u001b[39;00m(error)\n\u001b[1;32m    932\u001b[0m attr \u001b[38;5;241m=\u001b[39m attributes\u001b[38;5;241m.\u001b[39mpop()\n\u001b[1;32m    934\u001b[0m values \u001b[38;5;241m=\u001b[39m \u001b[38;5;28mself\u001b[39m\u001b[38;5;241m.\u001b[39mattributes_value_generator(attr)\n",
      "\u001b[0;31mAttributeError\u001b[0m: There are multiple attributes with label or suffix name associated with df73ff4a-ef3c-48c6-a222-0a5a49d95a49: https://www.simphony-osp.eu/city#name, http://xmlns.com/foaf/0.1/name. Please use an OntologyAttribute object together with the indexing notation `individual[attribute]` to access the values of this attribute."
     ]
    }
   ],
   "source": [
    "person.name\n",
    "# this does not work as the dot notation does not suppoert multiple values\n"
   ]
  },
  {
   "cell_type": "code",
   "execution_count": 20,
   "id": "276487a4",
   "metadata": {},
   "outputs": [
    {
     "name": "stdout",
     "output_type": "stream",
     "text": [
      "<class 'set'>\n",
      "name\n"
     ]
    },
    {
     "data": {
      "text/plain": [
       "'name'"
      ]
     },
     "execution_count": 20,
     "metadata": {},
     "output_type": "execute_result"
    }
   ],
   "source": [
    "X=person._attributes_get_by_name('name')\n",
    "print(type(X))\n",
    "X_1 = X.pop()\n",
    "print(X_1)\n",
    "X_1\n",
    "X_1.__str__()\n"
   ]
  },
  {
   "cell_type": "code",
   "execution_count": 19,
   "id": "4a3a7f8d",
   "metadata": {},
   "outputs": [
    {
     "ename": "KeyError",
     "evalue": "'There are multiple attributes, relationships or annotations with label or suffix name associated with df73ff4a-ef3c-48c6-a222-0a5a49d95a49:https://www.simphony-osp.eu/city#name, http://xmlns.com/foaf/0.1/name. Please use an OntologyAttribute, OntologyRelationship or OntologyAnnotation object together with the indexing notation `individual[entity]` to access the values of this attribute, relationship or annotation.'",
     "output_type": "error",
     "traceback": [
      "\u001b[0;31m---------------------------------------------------------------------------\u001b[0m",
      "\u001b[0;31mKeyError\u001b[0m                                  Traceback (most recent call last)",
      "Cell \u001b[0;32mIn[19], line 1\u001b[0m\n\u001b[0;32m----> 1\u001b[0m \u001b[38;5;28mprint\u001b[39m(\u001b[43mperson\u001b[49m\u001b[43m[\u001b[49m\u001b[38;5;124;43m\"\u001b[39;49m\u001b[38;5;124;43mname\u001b[39;49m\u001b[38;5;124;43m\"\u001b[39;49m\u001b[43m]\u001b[49m\u001b[38;5;241m.\u001b[39mall())\n",
      "File \u001b[0;32m~/dev/simphony_4_git/simphony-osp/simphony_osp/ontology/individual.py:1072\u001b[0m, in \u001b[0;36mOntologyIndividual.__getitem__\u001b[0;34m(self, rel)\u001b[0m\n\u001b[1;32m   1067\u001b[0m         \u001b[38;5;28;01mraise\u001b[39;00m \u001b[38;5;167;01mKeyError\u001b[39;00m(\n\u001b[1;32m   1068\u001b[0m             \u001b[38;5;124mf\u001b[39m\u001b[38;5;124m\"\u001b[39m\u001b[38;5;124mNo attribute, relationship or annotation \u001b[39m\u001b[38;5;124m\"\u001b[39m\n\u001b[1;32m   1069\u001b[0m             \u001b[38;5;124mf\u001b[39m\u001b[38;5;124m\"\u001b[39m\u001b[38;5;124massociated with \u001b[39m\u001b[38;5;132;01m{\u001b[39;00m\u001b[38;5;28mself\u001b[39m\u001b[38;5;132;01m}\u001b[39;00m\u001b[38;5;124m with label or suffix \u001b[39m\u001b[38;5;132;01m{\u001b[39;00mrel\u001b[38;5;132;01m}\u001b[39;00m\u001b[38;5;124m found.\u001b[39m\u001b[38;5;124m\"\u001b[39m\n\u001b[1;32m   1070\u001b[0m         )\n\u001b[1;32m   1071\u001b[0m     \u001b[38;5;28;01melif\u001b[39;00m num_entities \u001b[38;5;241m>\u001b[39m\u001b[38;5;241m=\u001b[39m \u001b[38;5;241m2\u001b[39m:\n\u001b[0;32m-> 1072\u001b[0m         \u001b[38;5;28;01mraise\u001b[39;00m \u001b[38;5;167;01mKeyError\u001b[39;00m(\n\u001b[1;32m   1073\u001b[0m             \u001b[38;5;124mf\u001b[39m\u001b[38;5;124m\"\u001b[39m\u001b[38;5;124mThere are multiple attributes, relationships or \u001b[39m\u001b[38;5;124m\"\u001b[39m\n\u001b[1;32m   1074\u001b[0m             \u001b[38;5;124mf\u001b[39m\u001b[38;5;124m\"\u001b[39m\u001b[38;5;124mannotations with label or suffix \u001b[39m\u001b[38;5;132;01m{\u001b[39;00mrel\u001b[38;5;132;01m}\u001b[39;00m\u001b[38;5;124m associated with \u001b[39m\u001b[38;5;124m\"\u001b[39m\n\u001b[1;32m   1075\u001b[0m             \u001b[38;5;124mf\u001b[39m\u001b[38;5;124m\"\u001b[39m\u001b[38;5;132;01m{\u001b[39;00m\u001b[38;5;28mself\u001b[39m\u001b[38;5;132;01m}\u001b[39;00m\u001b[38;5;124m:\u001b[39m\u001b[38;5;124m\"\u001b[39m\n\u001b[1;32m   1076\u001b[0m             \u001b[38;5;124mf\u001b[39m\u001b[38;5;124m\"\u001b[39m\u001b[38;5;132;01m{\u001b[39;00m\u001b[38;5;124m'\u001b[39m\u001b[38;5;124m, \u001b[39m\u001b[38;5;124m'\u001b[39m\u001b[38;5;241m.\u001b[39mjoin(r\u001b[38;5;241m.\u001b[39miri\u001b[38;5;250m \u001b[39m\u001b[38;5;28;01mfor\u001b[39;00m\u001b[38;5;250m \u001b[39mr\u001b[38;5;250m \u001b[39m\u001b[38;5;129;01min\u001b[39;00m\u001b[38;5;250m \u001b[39mentities)\u001b[38;5;132;01m}\u001b[39;00m\u001b[38;5;124m. \u001b[39m\u001b[38;5;124m\"\u001b[39m\n\u001b[1;32m   1077\u001b[0m             \u001b[38;5;124mf\u001b[39m\u001b[38;5;124m\"\u001b[39m\u001b[38;5;124mPlease use an OntologyAttribute, OntologyRelationship \u001b[39m\u001b[38;5;124m\"\u001b[39m\n\u001b[1;32m   1078\u001b[0m             \u001b[38;5;124mf\u001b[39m\u001b[38;5;124m\"\u001b[39m\u001b[38;5;124mor OntologyAnnotation object together with the \u001b[39m\u001b[38;5;124m\"\u001b[39m\n\u001b[1;32m   1079\u001b[0m             \u001b[38;5;124mf\u001b[39m\u001b[38;5;124m\"\u001b[39m\u001b[38;5;124mindexing notation `individual[entity]` to access the \u001b[39m\u001b[38;5;124m\"\u001b[39m\n\u001b[1;32m   1080\u001b[0m             \u001b[38;5;124mf\u001b[39m\u001b[38;5;124m\"\u001b[39m\u001b[38;5;124mvalues of this attribute, relationship or annotation.\u001b[39m\u001b[38;5;124m\"\u001b[39m\n\u001b[1;32m   1081\u001b[0m         )\n\u001b[1;32m   1082\u001b[0m     rel \u001b[38;5;241m=\u001b[39m entities\u001b[38;5;241m.\u001b[39mpop()\n\u001b[1;32m   1084\u001b[0m \u001b[38;5;28;01mif\u001b[39;00m \u001b[38;5;28misinstance\u001b[39m(rel, OntologyAttribute):\n",
      "\u001b[0;31mKeyError\u001b[0m: 'There are multiple attributes, relationships or annotations with label or suffix name associated with df73ff4a-ef3c-48c6-a222-0a5a49d95a49:https://www.simphony-osp.eu/city#name, http://xmlns.com/foaf/0.1/name. Please use an OntologyAttribute, OntologyRelationship or OntologyAnnotation object together with the indexing notation `individual[entity]` to access the values of this attribute, relationship or annotation.'"
     ]
    }
   ],
   "source": [
    "print(person[\"name\"].all())\n",
    "# this does not work as though it is supposed to according to the doc\n"
   ]
  },
  {
   "cell_type": "markdown",
   "id": "a262d2e6",
   "metadata": {},
   "source": [
    "# The best way to access multiple attributes\n",
    "Use the dictionary/array like form, as it allows one to directly specify the proper ontology. Though for the future a better way is needed. "
   ]
  },
  {
   "cell_type": "code",
   "execution_count": 24,
   "id": "765709de",
   "metadata": {},
   "outputs": [
    {
     "name": "stdout",
     "output_type": "stream",
     "text": [
      "{'Martin'}\n",
      "{'Lena'}\n",
      "{'Nikola'}\n"
     ]
    }
   ],
   "source": [
    "for citizen in freiburg.get(rel=city.hasInhabitant, oclass=city.Citizen):\n",
    "    print(citizen[city['name']])"
   ]
  },
  {
   "cell_type": "code",
   "execution_count": 25,
   "id": "ca309890",
   "metadata": {},
   "outputs": [
    {
     "data": {
      "text/plain": [
       "<OntologyAttribute: name https://www.simphony-osp.eu/city#name>"
      ]
     },
     "execution_count": 25,
     "metadata": {},
     "output_type": "execute_result"
    }
   ],
   "source": [
    " city['name']"
   ]
  },
  {
   "cell_type": "code",
   "execution_count": 26,
   "id": "2f4bd6c3",
   "metadata": {},
   "outputs": [],
   "source": [
    "# navigate the assertional knowledge\n",
    "can_drive = {\n",
    "   frozenset(citizen[city['name']]): \"Yes\" if (True if citizen.age >= 18 else False) else \"No\"\n",
    "    for citizen in freiburg.get(rel=city.hasInhabitant, oclass=city.Citizen)\n",
    "}"
   ]
  },
  {
   "cell_type": "code",
   "execution_count": 27,
   "id": "062a25da",
   "metadata": {},
   "outputs": [
    {
     "name": "stdout",
     "output_type": "stream",
     "text": [
      "Can frozenset({'Martin'}) drive? No\n",
      "Can frozenset({'Lena'}) drive? Yes\n",
      "Can frozenset({'Nikola'}) drive? Yes\n"
     ]
    }
   ],
   "source": [
    "for name, drives in can_drive.items():\n",
    "    print(f\"Can {name} drive? {drives}\")\n",
    "    "
   ]
  },
  {
   "cell_type": "code",
   "execution_count": null,
   "id": "9029f5bc",
   "metadata": {},
   "outputs": [],
   "source": []
  },
  {
   "cell_type": "code",
   "execution_count": null,
   "id": "f1e23fef",
   "metadata": {},
   "outputs": [],
   "source": []
  },
  {
   "cell_type": "code",
   "execution_count": null,
   "id": "e7b66533",
   "metadata": {},
   "outputs": [],
   "source": []
  }
 ],
 "metadata": {
  "kernelspec": {
   "display_name": ".venv",
   "language": "python",
   "name": ".venv"
  },
  "language_info": {
   "codemirror_mode": {
    "name": "ipython",
    "version": 3
   },
   "file_extension": ".py",
   "mimetype": "text/x-python",
   "name": "python",
   "nbconvert_exporter": "python",
   "pygments_lexer": "ipython3",
   "version": "3.11.3"
  }
 },
 "nbformat": 4,
 "nbformat_minor": 5
}
