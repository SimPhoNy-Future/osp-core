{
 "cells": [
  {
   "cell_type": "code",
   "execution_count": 2,
   "id": "93a19e48",
   "metadata": {},
   "outputs": [],
   "source": [
    "from simphony_osp.namespaces import city, foaf, dso_dome, owl, dcat\n",
    "from simphony_osp.tools import semantic2dot\n",
    "from simphony_osp.tools import pretty_print\n",
    "from simphony_osp.ontology import OntologyIndividual\n",
    "from simphony_osp.tools import semantic2dot\n",
    "from simphony_osp.session import core_session\n",
    "from simphony_osp.tools.search import sparql"
   ]
  },
  {
   "cell_type": "code",
   "execution_count": 3,
   "id": "5cf40ebc",
   "metadata": {},
   "outputs": [],
   "source": [
    "freiburg = city.City(name=\"Freiburg\", coordinates=[47.997791, 7.842609])\n",
    "\n",
    "neighborhoods = {\n",
    "    city.Neighborhood(name=name, coordinates=coordinates)\n",
    "    for name, coordinates in [\n",
    "        ('Altstadt', [47.99525, 7.84726]),\n",
    "        ('Stühlinger', [47.99888, 7.83774]),\n",
    "        ('Neuburg', [48.00021, 7.86084]),\n",
    "        ('Herdern', [48.00779, 7.86268]),\n",
    "        ('Brühl', [48.01684, 7.843]),\n",
    "    ]\n",
    "}\n",
    "\n",
    "citizen_1 = city.Citizen(name='Nikola', age=35)\n",
    "citizen_2 = city.Citizen(name='Lena', age=70)\n",
    "\n",
    "freiburg[city.hasPart] |= neighborhoods\n",
    "freiburg[city.hasInhabitant] += citizen_1, citizen_2"
   ]
  },
  {
   "cell_type": "code",
   "execution_count": 4,
   "id": "1a505df6",
   "metadata": {},
   "outputs": [],
   "source": [
    "d=dso_dome.Collection() "
   ]
  },
  {
   "cell_type": "code",
   "execution_count": 5,
   "id": "dbf07388",
   "metadata": {},
   "outputs": [
    {
     "data": {
      "text/plain": [
       "rdflib.term.URIRef('https://www.simphony-osp.eu/entity#705b28fe-e9d0-4c0c-b3fe-1d43946bdedb')"
      ]
     },
     "execution_count": 5,
     "metadata": {},
     "output_type": "execute_result"
    }
   ],
   "source": [
    "d.identifier"
   ]
  },
  {
   "cell_type": "code",
   "execution_count": 6,
   "id": "73b2998a",
   "metadata": {},
   "outputs": [],
   "source": [
    "#d[city.hasPart] += citizen_1"
   ]
  },
  {
   "cell_type": "code",
   "execution_count": 7,
   "id": "57d49b6c",
   "metadata": {},
   "outputs": [
    {
     "data": {
      "text/plain": [
       "<OntologyIndividual: af6459b9-edeb-48ea-b588-7c02f2a941ad>"
      ]
     },
     "execution_count": 7,
     "metadata": {},
     "output_type": "execute_result"
    }
   ],
   "source": [
    "freiburg"
   ]
  },
  {
   "cell_type": "code",
   "execution_count": 8,
   "id": "c0076083",
   "metadata": {},
   "outputs": [
    {
     "name": "stdout",
     "output_type": "stream",
     "text": [
      "- Ontology individual:\n",
      "  identifier: af6459b9-edeb-48ea-b588-7c02f2a941ad\n",
      "  type: City (city)\n",
      "  superclasses: Thing (owl), City (city), Populated Place (city), Geographical Place (city)\n",
      "  values: \u0000coordinates: [47.997791  7.842609]\n",
      "          \u0000name: Freiburg\n",
      "   |_Relationship has inhabitant (city):\n",
      "   | - Ontology individual of class Citizen\n",
      "   |  . identifier: 21b6b85c-1c10-489d-8aa8-a168755c9645\n",
      "   |  . \u0000age: 35\n",
      "   |  . \u0000name: Nikola\n",
      "   | - Ontology individual of class Citizen\n",
      "   |    identifier: 30cd6967-fe88-459e-9c8a-e6fa0ed2a51d\n",
      "   |    \u0000age: 70\n",
      "   |    \u0000name: Lena\n",
      "   |_Relationship has part (city):\n",
      "     - Ontology individual of class Neighborhood\n",
      "      . identifier: 0f6aa64c-daf3-4a0d-a3e2-9302861c9045\n",
      "      . \u0000coordinates: [47.99888  7.83774]\n",
      "      . \u0000name: Stühlinger\n",
      "     - Ontology individual of class Neighborhood\n",
      "      . identifier: 8497c6a8-5299-4f13-9141-e38615f95a25\n",
      "      . \u0000coordinates: [48.01684  7.843  ]\n",
      "      . \u0000name: Brühl\n",
      "     - Ontology individual of class Neighborhood\n",
      "      . identifier: 9a08d808-9f9d-49c9-9f58-763ec084b5a8\n",
      "      . \u0000coordinates: [48.00021  7.86084]\n",
      "      . \u0000name: Neuburg\n",
      "     - Ontology individual of class Neighborhood\n",
      "      . identifier: b2ded5ba-0aac-40d1-a02b-967023a70f4e\n",
      "      . \u0000coordinates: [48.00779  7.86268]\n",
      "      . \u0000name: Herdern\n",
      "     - Ontology individual of class Neighborhood\n",
      "        identifier: d117c89d-99df-45f7-a897-86cb91541f11\n",
      "        \u0000coordinates: [47.99525  7.84726]\n",
      "        \u0000name: Altstadt\n"
     ]
    }
   ],
   "source": [
    "pretty_print(freiburg)"
   ]
  },
  {
   "cell_type": "code",
   "execution_count": 9,
   "id": "686fe18b",
   "metadata": {},
   "outputs": [
    {
     "ename": "RuntimeError",
     "evalue": "Two or more python classes (<class 'simphony_osp.ontology.oclass.OntologyClass'>, <class 'simphony_osp.ontology.individual.OntologyIndividual'>) could be spawned from http://www.w3.org/ns/prov#EmptyCollection.",
     "output_type": "error",
     "traceback": [
      "\u001b[0;31m---------------------------------------------------------------------------\u001b[0m",
      "\u001b[0;31mRuntimeError\u001b[0m                              Traceback (most recent call last)",
      "Cell \u001b[0;32mIn[9], line 1\u001b[0m\n\u001b[0;32m----> 1\u001b[0m \u001b[43msemantic2dot\u001b[49m\u001b[43m(\u001b[49m\u001b[43mfreiburg\u001b[49m\u001b[43m)\u001b[49m\n",
      "File \u001b[0;32m~/dev/simphony_4_git/simphony-osp/simphony_osp/tools/semantic2dot.py:556\u001b[0m, in \u001b[0;36msemantic2dot\u001b[0;34m(rel, *elements)\u001b[0m\n\u001b[1;32m    524\u001b[0m \u001b[38;5;28;01mdef\u001b[39;00m \u001b[38;5;21msemantic2dot\u001b[39m(\n\u001b[1;32m    525\u001b[0m     \u001b[38;5;241m*\u001b[39melements: Union[\n\u001b[1;32m    526\u001b[0m         OntologyIndividual,\n\u001b[0;32m   (...)\u001b[0m\n\u001b[1;32m    532\u001b[0m     ] \u001b[38;5;241m=\u001b[39m \u001b[38;5;28;01mNone\u001b[39;00m,\n\u001b[1;32m    533\u001b[0m ) \u001b[38;5;241m-\u001b[39m\u001b[38;5;241m>\u001b[39m Semantic2Dot:\n\u001b[1;32m    534\u001b[0m \u001b[38;5;250m    \u001b[39m\u001b[38;5;124;03m\"\"\"Utility for plotting ontology entities.\u001b[39;00m\n\u001b[1;32m    535\u001b[0m \n\u001b[1;32m    536\u001b[0m \u001b[38;5;124;03m    Note: If you are reading the SimPhoNy documentation API Reference, it\u001b[39;00m\n\u001b[0;32m   (...)\u001b[0m\n\u001b[1;32m    554\u001b[0m \u001b[38;5;124;03m            `simphony_osp.tools.search` to additionally plot such individuals.\u001b[39;00m\n\u001b[1;32m    555\u001b[0m \u001b[38;5;124;03m    \"\"\"\u001b[39;00m\n\u001b[0;32m--> 556\u001b[0m     \u001b[38;5;28;01mreturn\u001b[39;00m \u001b[43mSemantic2Dot\u001b[49m\u001b[43m(\u001b[49m\u001b[38;5;241;43m*\u001b[39;49m\u001b[43melements\u001b[49m\u001b[43m,\u001b[49m\u001b[43m \u001b[49m\u001b[43mrel\u001b[49m\u001b[38;5;241;43m=\u001b[39;49m\u001b[43mrel\u001b[49m\u001b[43m)\u001b[49m\n",
      "File \u001b[0;32m~/dev/simphony_4_git/simphony-osp/simphony_osp/tools/semantic2dot.py:109\u001b[0m, in \u001b[0;36mSemantic2Dot.__init__\u001b[0;34m(self, rel, *elements)\u001b[0m\n\u001b[1;32m     85\u001b[0m \u001b[38;5;28mself\u001b[39m\u001b[38;5;241m.\u001b[39m_requested \u001b[38;5;241m=\u001b[39m \u001b[38;5;28mfrozenset\u001b[39m(\n\u001b[1;32m     86\u001b[0m     {\n\u001b[1;32m     87\u001b[0m         part\n\u001b[0;32m   (...)\u001b[0m\n\u001b[1;32m    105\u001b[0m     }\n\u001b[1;32m    106\u001b[0m )\n\u001b[1;32m    108\u001b[0m \u001b[38;5;28mself\u001b[39m\u001b[38;5;241m.\u001b[39m_graph \u001b[38;5;241m=\u001b[39m Digraph(\u001b[38;5;28mformat\u001b[39m\u001b[38;5;241m=\u001b[39m\u001b[38;5;124m\"\u001b[39m\u001b[38;5;124mpng\u001b[39m\u001b[38;5;124m\"\u001b[39m, name\u001b[38;5;241m=\u001b[39m\u001b[38;5;124m\"\u001b[39m\u001b[38;5;124mSimPhoNy semantic2dot\u001b[39m\u001b[38;5;124m\"\u001b[39m)\n\u001b[0;32m--> 109\u001b[0m \u001b[38;5;28;43mself\u001b[39;49m\u001b[38;5;241;43m.\u001b[39;49m\u001b[43m_draw_all\u001b[49m\u001b[43m(\u001b[49m\u001b[43m)\u001b[49m\n",
      "File \u001b[0;32m~/dev/simphony_4_git/simphony-osp/simphony_osp/tools/semantic2dot.py:195\u001b[0m, in \u001b[0;36mSemantic2Dot._draw_all\u001b[0;34m(self)\u001b[0m\n\u001b[1;32m    190\u001b[0m         complementary_nodes \u001b[38;5;241m|\u001b[39m\u001b[38;5;241m=\u001b[39m superclasses\n\u001b[1;32m    191\u001b[0m         edges[\u001b[38;5;124m\"\u001b[39m\u001b[38;5;124mcomplementary_superclasses\u001b[39m\u001b[38;5;124m\"\u001b[39m] \u001b[38;5;241m|\u001b[39m\u001b[38;5;241m=\u001b[39m {\n\u001b[1;32m    192\u001b[0m             (node, superclass) \u001b[38;5;28;01mfor\u001b[39;00m superclass \u001b[38;5;129;01min\u001b[39;00m superclasses\n\u001b[1;32m    193\u001b[0m         }\n\u001b[0;32m--> 195\u001b[0m     \u001b[38;5;28;43mself\u001b[39;49m\u001b[38;5;241;43m.\u001b[39;49m\u001b[43m_draw_node\u001b[49m\u001b[43m(\u001b[49m\u001b[43mnode\u001b[49m\u001b[43m,\u001b[49m\u001b[43m \u001b[49m\u001b[43mcomplementary\u001b[49m\u001b[38;5;241;43m=\u001b[39;49m\u001b[38;5;28;43;01mFalse\u001b[39;49;00m\u001b[43m)\u001b[49m\n\u001b[1;32m    197\u001b[0m complementary_nodes \u001b[38;5;241m=\u001b[39m complementary_nodes \u001b[38;5;241m-\u001b[39m nodes\n\u001b[1;32m    199\u001b[0m \u001b[38;5;66;03m# draw complementary nodes\u001b[39;00m\n",
      "File \u001b[0;32m~/dev/simphony_4_git/simphony-osp/simphony_osp/tools/semantic2dot.py:293\u001b[0m, in \u001b[0;36mSemantic2Dot._draw_node\u001b[0;34m(self, entity, complementary)\u001b[0m\n\u001b[1;32m    281\u001b[0m \u001b[38;5;250m\u001b[39m\u001b[38;5;124;03m\"\"\"Choose the method to draw an ontology entity and call it.\u001b[39;00m\n\u001b[1;32m    282\u001b[0m \n\u001b[1;32m    283\u001b[0m \u001b[38;5;124;03mSelects the correct method to draw an ontology entity according to\u001b[39;00m\n\u001b[0;32m   (...)\u001b[0m\n\u001b[1;32m    290\u001b[0m \u001b[38;5;124;03m    TypeError: Unsupported entity type.\u001b[39;00m\n\u001b[1;32m    291\u001b[0m \u001b[38;5;124;03m\"\"\"\u001b[39;00m\n\u001b[1;32m    292\u001b[0m \u001b[38;5;28;01mif\u001b[39;00m \u001b[38;5;28misinstance\u001b[39m(entity, OntologyIndividual):\n\u001b[0;32m--> 293\u001b[0m     \u001b[38;5;28;43mself\u001b[39;49m\u001b[38;5;241;43m.\u001b[39;49m\u001b[43m_draw_node_individual\u001b[49m\u001b[43m(\u001b[49m\u001b[43mentity\u001b[49m\u001b[43m,\u001b[49m\u001b[43m \u001b[49m\u001b[43mcomplementary\u001b[49m\u001b[38;5;241;43m=\u001b[39;49m\u001b[43mcomplementary\u001b[49m\u001b[43m)\u001b[49m\n\u001b[1;32m    294\u001b[0m \u001b[38;5;28;01melif\u001b[39;00m \u001b[38;5;28misinstance\u001b[39m(entity, OntologyRelationship):\n\u001b[1;32m    295\u001b[0m     \u001b[38;5;28mself\u001b[39m\u001b[38;5;241m.\u001b[39m_draw_node_relationship(entity, complementary\u001b[38;5;241m=\u001b[39mcomplementary)\n",
      "File \u001b[0;32m~/dev/simphony_4_git/simphony-osp/simphony_osp/tools/semantic2dot.py:316\u001b[0m, in \u001b[0;36mSemantic2Dot._draw_node_individual\u001b[0;34m(self, individual, complementary)\u001b[0m\n\u001b[1;32m    303\u001b[0m \u001b[38;5;28;01mdef\u001b[39;00m \u001b[38;5;21m_draw_node_individual\u001b[39m(\n\u001b[1;32m    304\u001b[0m     \u001b[38;5;28mself\u001b[39m,\n\u001b[1;32m    305\u001b[0m     individual: OntologyIndividual,\n\u001b[1;32m    306\u001b[0m     complementary: \u001b[38;5;28mbool\u001b[39m \u001b[38;5;241m=\u001b[39m \u001b[38;5;28;01mFalse\u001b[39;00m,\n\u001b[1;32m    307\u001b[0m ) \u001b[38;5;241m-\u001b[39m\u001b[38;5;241m>\u001b[39m \u001b[38;5;28;01mNone\u001b[39;00m:\n\u001b[1;32m    308\u001b[0m \u001b[38;5;250m    \u001b[39m\u001b[38;5;124;03m\"\"\"Add an ontology individual as a node to the graph.\u001b[39;00m\n\u001b[1;32m    309\u001b[0m \n\u001b[1;32m    310\u001b[0m \u001b[38;5;124;03m    Args:\u001b[39;00m\n\u001b[1;32m    311\u001b[0m \u001b[38;5;124;03m        individual: Ontology individual to draw.\u001b[39;00m\n\u001b[1;32m    312\u001b[0m \u001b[38;5;124;03m        complementary: Whether the drawn entity is complementary or not.\u001b[39;00m\n\u001b[1;32m    313\u001b[0m \u001b[38;5;124;03m    \"\"\"\u001b[39;00m\n\u001b[1;32m    314\u001b[0m     attributes \u001b[38;5;241m=\u001b[39m \u001b[38;5;28mself\u001b[39m\u001b[38;5;241m.\u001b[39m_attribute\u001b[38;5;241m.\u001b[39mformat(\n\u001b[1;32m    315\u001b[0m         \u001b[38;5;124m\"\u001b[39m\u001b[38;5;124mclasses\u001b[39m\u001b[38;5;124m\"\u001b[39m,\n\u001b[0;32m--> 316\u001b[0m         \u001b[38;5;124;43m\"\u001b[39;49m\u001b[38;5;124;43m,\u001b[39;49m\u001b[38;5;124;43m\"\u001b[39;49m\u001b[38;5;241;43m.\u001b[39;49m\u001b[43mjoin\u001b[49m\u001b[43m(\u001b[49m\n\u001b[1;32m    317\u001b[0m \u001b[43m            \u001b[49m\u001b[38;5;28;43mstr\u001b[39;49m\u001b[43m(\u001b[49m\u001b[43mx\u001b[49m\u001b[43m)\u001b[49m\u001b[43m \u001b[49m\u001b[38;5;241;43m+\u001b[39;49m\u001b[43m \u001b[49m\u001b[43m(\u001b[49m\u001b[38;5;124;43mf\u001b[39;49m\u001b[38;5;124;43m\"\u001b[39;49m\u001b[38;5;124;43m (\u001b[39;49m\u001b[38;5;132;43;01m{\u001b[39;49;00m\u001b[43mx\u001b[49m\u001b[38;5;241;43m.\u001b[39;49m\u001b[43mnamespace\u001b[49m\u001b[38;5;241;43m.\u001b[39;49m\u001b[43mname\u001b[49m\u001b[38;5;132;43;01m}\u001b[39;49;00m\u001b[38;5;124;43m)\u001b[39;49m\u001b[38;5;124;43m\"\u001b[39;49m\u001b[43m \u001b[49m\u001b[38;5;28;43;01mif\u001b[39;49;00m\u001b[43m \u001b[49m\u001b[43mx\u001b[49m\u001b[38;5;241;43m.\u001b[39;49m\u001b[43mnamespace\u001b[49m\u001b[43m \u001b[49m\u001b[38;5;28;43;01melse\u001b[39;49;00m\u001b[43m \u001b[49m\u001b[38;5;124;43m\"\u001b[39;49m\u001b[38;5;124;43m\"\u001b[39;49m\u001b[43m)\u001b[49m\n\u001b[1;32m    318\u001b[0m \u001b[43m            \u001b[49m\u001b[38;5;28;43;01mfor\u001b[39;49;00m\u001b[43m \u001b[49m\u001b[43mx\u001b[49m\u001b[43m \u001b[49m\u001b[38;5;129;43;01min\u001b[39;49;00m\u001b[43m \u001b[49m\u001b[43mindividual\u001b[49m\u001b[38;5;241;43m.\u001b[39;49m\u001b[43mclasses\u001b[49m\n\u001b[1;32m    319\u001b[0m \u001b[43m        \u001b[49m\u001b[43m)\u001b[49m,\n\u001b[1;32m    320\u001b[0m     )\n\u001b[1;32m    322\u001b[0m     \u001b[38;5;28;01mfor\u001b[39;00m key, value \u001b[38;5;129;01min\u001b[39;00m individual\u001b[38;5;241m.\u001b[39mattributes\u001b[38;5;241m.\u001b[39mitems():\n\u001b[1;32m    323\u001b[0m         label \u001b[38;5;241m=\u001b[39m \u001b[38;5;28mself\u001b[39m\u001b[38;5;241m.\u001b[39m_get_element_label(key)\n",
      "File \u001b[0;32m~/dev/simphony_4_git/simphony-osp/simphony_osp/tools/semantic2dot.py:317\u001b[0m, in \u001b[0;36m<genexpr>\u001b[0;34m(.0)\u001b[0m\n\u001b[1;32m    303\u001b[0m \u001b[38;5;28;01mdef\u001b[39;00m \u001b[38;5;21m_draw_node_individual\u001b[39m(\n\u001b[1;32m    304\u001b[0m     \u001b[38;5;28mself\u001b[39m,\n\u001b[1;32m    305\u001b[0m     individual: OntologyIndividual,\n\u001b[1;32m    306\u001b[0m     complementary: \u001b[38;5;28mbool\u001b[39m \u001b[38;5;241m=\u001b[39m \u001b[38;5;28;01mFalse\u001b[39;00m,\n\u001b[1;32m    307\u001b[0m ) \u001b[38;5;241m-\u001b[39m\u001b[38;5;241m>\u001b[39m \u001b[38;5;28;01mNone\u001b[39;00m:\n\u001b[1;32m    308\u001b[0m \u001b[38;5;250m    \u001b[39m\u001b[38;5;124;03m\"\"\"Add an ontology individual as a node to the graph.\u001b[39;00m\n\u001b[1;32m    309\u001b[0m \n\u001b[1;32m    310\u001b[0m \u001b[38;5;124;03m    Args:\u001b[39;00m\n\u001b[1;32m    311\u001b[0m \u001b[38;5;124;03m        individual: Ontology individual to draw.\u001b[39;00m\n\u001b[1;32m    312\u001b[0m \u001b[38;5;124;03m        complementary: Whether the drawn entity is complementary or not.\u001b[39;00m\n\u001b[1;32m    313\u001b[0m \u001b[38;5;124;03m    \"\"\"\u001b[39;00m\n\u001b[1;32m    314\u001b[0m     attributes \u001b[38;5;241m=\u001b[39m \u001b[38;5;28mself\u001b[39m\u001b[38;5;241m.\u001b[39m_attribute\u001b[38;5;241m.\u001b[39mformat(\n\u001b[1;32m    315\u001b[0m         \u001b[38;5;124m\"\u001b[39m\u001b[38;5;124mclasses\u001b[39m\u001b[38;5;124m\"\u001b[39m,\n\u001b[1;32m    316\u001b[0m         \u001b[38;5;124m\"\u001b[39m\u001b[38;5;124m,\u001b[39m\u001b[38;5;124m\"\u001b[39m\u001b[38;5;241m.\u001b[39mjoin(\n\u001b[0;32m--> 317\u001b[0m             \u001b[38;5;28mstr\u001b[39m(x) \u001b[38;5;241m+\u001b[39m (\u001b[38;5;124mf\u001b[39m\u001b[38;5;124m\"\u001b[39m\u001b[38;5;124m (\u001b[39m\u001b[38;5;132;01m{\u001b[39;00mx\u001b[38;5;241m.\u001b[39mnamespace\u001b[38;5;241m.\u001b[39mname\u001b[38;5;132;01m}\u001b[39;00m\u001b[38;5;124m)\u001b[39m\u001b[38;5;124m\"\u001b[39m \u001b[38;5;28;01mif\u001b[39;00m x\u001b[38;5;241m.\u001b[39mnamespace \u001b[38;5;28;01melse\u001b[39;00m \u001b[38;5;124m\"\u001b[39m\u001b[38;5;124m\"\u001b[39m)\n\u001b[1;32m    318\u001b[0m             \u001b[38;5;28;01mfor\u001b[39;00m x \u001b[38;5;129;01min\u001b[39;00m individual\u001b[38;5;241m.\u001b[39mclasses\n\u001b[1;32m    319\u001b[0m         ),\n\u001b[1;32m    320\u001b[0m     )\n\u001b[1;32m    322\u001b[0m     \u001b[38;5;28;01mfor\u001b[39;00m key, value \u001b[38;5;129;01min\u001b[39;00m individual\u001b[38;5;241m.\u001b[39mattributes\u001b[38;5;241m.\u001b[39mitems():\n\u001b[1;32m    323\u001b[0m         label \u001b[38;5;241m=\u001b[39m \u001b[38;5;28mself\u001b[39m\u001b[38;5;241m.\u001b[39m_get_element_label(key)\n",
      "File \u001b[0;32m~/dev/simphony_4_git/simphony-osp/simphony_osp/ontology/namespace.py:175\u001b[0m, in \u001b[0;36mOntologyNamespace.__len__\u001b[0;34m(self)\u001b[0m\n\u001b[1;32m    173\u001b[0m \u001b[38;5;28;01mdef\u001b[39;00m \u001b[38;5;21m__len__\u001b[39m(\u001b[38;5;28mself\u001b[39m) \u001b[38;5;241m-\u001b[39m\u001b[38;5;241m>\u001b[39m \u001b[38;5;28mint\u001b[39m:\n\u001b[1;32m    174\u001b[0m \u001b[38;5;250m    \u001b[39m\u001b[38;5;124;03m\"\"\"Return the number of entities in the namespace.\"\"\"\u001b[39;00m\n\u001b[0;32m--> 175\u001b[0m     \u001b[38;5;28;01mreturn\u001b[39;00m \u001b[38;5;28;43msum\u001b[39;49m\u001b[43m(\u001b[49m\u001b[38;5;241;43m1\u001b[39;49m\u001b[43m \u001b[49m\u001b[38;5;28;43;01mfor\u001b[39;49;00m\u001b[43m \u001b[49m\u001b[43m_\u001b[49m\u001b[43m \u001b[49m\u001b[38;5;129;43;01min\u001b[39;49;00m\u001b[43m \u001b[49m\u001b[38;5;28;43mself\u001b[39;49m\u001b[43m)\u001b[49m\n",
      "File \u001b[0;32m~/dev/simphony_4_git/simphony-osp/simphony_osp/ontology/namespace.py:175\u001b[0m, in \u001b[0;36m<genexpr>\u001b[0;34m(.0)\u001b[0m\n\u001b[1;32m    173\u001b[0m \u001b[38;5;28;01mdef\u001b[39;00m \u001b[38;5;21m__len__\u001b[39m(\u001b[38;5;28mself\u001b[39m) \u001b[38;5;241m-\u001b[39m\u001b[38;5;241m>\u001b[39m \u001b[38;5;28mint\u001b[39m:\n\u001b[1;32m    174\u001b[0m \u001b[38;5;250m    \u001b[39m\u001b[38;5;124;03m\"\"\"Return the number of entities in the namespace.\"\"\"\u001b[39;00m\n\u001b[0;32m--> 175\u001b[0m     \u001b[38;5;28;01mreturn\u001b[39;00m \u001b[38;5;28msum\u001b[39m(\u001b[38;5;241m1\u001b[39m \u001b[38;5;28;01mfor\u001b[39;00m _ \u001b[38;5;129;01min\u001b[39;00m \u001b[38;5;28mself\u001b[39m)\n",
      "File \u001b[0;32m~/dev/simphony_4_git/simphony-osp/simphony_osp/ontology/namespace.py:138\u001b[0m, in \u001b[0;36m<genexpr>\u001b[0;34m(.0)\u001b[0m\n\u001b[1;32m    136\u001b[0m \u001b[38;5;28;01mdef\u001b[39;00m \u001b[38;5;21m__iter__\u001b[39m(\u001b[38;5;28mself\u001b[39m) \u001b[38;5;241m-\u001b[39m\u001b[38;5;241m>\u001b[39m Iterator[OntologyEntity]:\n\u001b[1;32m    137\u001b[0m \u001b[38;5;250m    \u001b[39m\u001b[38;5;124;03m\"\"\"Iterate over the ontology entities in the namespace.\"\"\"\u001b[39;00m\n\u001b[0;32m--> 138\u001b[0m     \u001b[38;5;28;01mreturn\u001b[39;00m (entity \u001b[38;5;28;01mfor\u001b[39;00m entity \u001b[38;5;129;01min\u001b[39;00m \u001b[38;5;28miter\u001b[39m(\u001b[38;5;28mself\u001b[39m\u001b[38;5;241m.\u001b[39montology) \u001b[38;5;28;01mif\u001b[39;00m entity \u001b[38;5;129;01min\u001b[39;00m \u001b[38;5;28mself\u001b[39m)\n",
      "File \u001b[0;32m~/dev/simphony_4_git/simphony-osp/simphony_osp/session/session.py:543\u001b[0m, in \u001b[0;36m<genexpr>\u001b[0;34m(.0)\u001b[0m\n\u001b[1;32m    536\u001b[0m \u001b[38;5;250m\u001b[39m\u001b[38;5;124;03m\"\"\"Iterate over all the ontology entities in the session.\u001b[39;00m\n\u001b[1;32m    537\u001b[0m \n\u001b[1;32m    538\u001b[0m \u001b[38;5;124;03mBe careful when using this operation, as it can be computationally very\u001b[39;00m\n\u001b[1;32m    539\u001b[0m \u001b[38;5;124;03mexpensive.\u001b[39;00m\n\u001b[1;32m    540\u001b[0m \u001b[38;5;124;03m\"\"\"\u001b[39;00m\n\u001b[1;32m    541\u001b[0m \u001b[38;5;66;03m# Warning: entities can be repeated.\u001b[39;00m\n\u001b[1;32m    542\u001b[0m \u001b[38;5;28;01mreturn\u001b[39;00m (\n\u001b[0;32m--> 543\u001b[0m     \u001b[38;5;28;43mself\u001b[39;49m\u001b[38;5;241;43m.\u001b[39;49m\u001b[43mfrom_identifier\u001b[49m\u001b[43m(\u001b[49m\u001b[43midentifier\u001b[49m\u001b[43m)\u001b[49m\n\u001b[1;32m    544\u001b[0m     \u001b[38;5;28;01mfor\u001b[39;00m identifier \u001b[38;5;129;01min\u001b[39;00m \u001b[38;5;28mself\u001b[39m\u001b[38;5;241m.\u001b[39miter_identifiers()\n\u001b[1;32m    545\u001b[0m )\n",
      "File \u001b[0;32m~/dev/simphony_4_git/simphony-osp/simphony_osp/utils/cache.py:30\u001b[0m, in \u001b[0;36mlru_cache_weak.<locals>.decorator.<locals>.wrapper\u001b[0;34m(self, *args, **kwargs)\u001b[0m\n\u001b[1;32m     28\u001b[0m \u001b[38;5;129m@wraps\u001b[39m(func)\n\u001b[1;32m     29\u001b[0m \u001b[38;5;28;01mdef\u001b[39;00m \u001b[38;5;21mwrapper\u001b[39m(\u001b[38;5;28mself\u001b[39m, \u001b[38;5;241m*\u001b[39margs, \u001b[38;5;241m*\u001b[39m\u001b[38;5;241m*\u001b[39mkwargs):\n\u001b[0;32m---> 30\u001b[0m     \u001b[38;5;28;01mreturn\u001b[39;00m \u001b[43m_cached\u001b[49m\u001b[43m(\u001b[49m\u001b[43mref\u001b[49m\u001b[43m(\u001b[49m\u001b[38;5;28;43mself\u001b[39;49m\u001b[43m)\u001b[49m\u001b[43m,\u001b[49m\u001b[43m \u001b[49m\u001b[38;5;241;43m*\u001b[39;49m\u001b[43margs\u001b[49m\u001b[43m,\u001b[49m\u001b[43m \u001b[49m\u001b[38;5;241;43m*\u001b[39;49m\u001b[38;5;241;43m*\u001b[39;49m\u001b[43mkwargs\u001b[49m\u001b[43m)\u001b[49m\n",
      "File \u001b[0;32m~/dev/simphony_4_git/simphony-osp/simphony_osp/utils/cache.py:26\u001b[0m, in \u001b[0;36mlru_cache_weak.<locals>.decorator.<locals>._cached\u001b[0;34m(_self_weak_ref, *args, **kwargs)\u001b[0m\n\u001b[1;32m     24\u001b[0m \u001b[38;5;129m@lru_cache\u001b[39m(maxsize\u001b[38;5;241m=\u001b[39mmaxsize, typed\u001b[38;5;241m=\u001b[39mtyped)\n\u001b[1;32m     25\u001b[0m \u001b[38;5;28;01mdef\u001b[39;00m \u001b[38;5;21m_cached\u001b[39m(_self_weak_ref, \u001b[38;5;241m*\u001b[39margs, \u001b[38;5;241m*\u001b[39m\u001b[38;5;241m*\u001b[39mkwargs):\n\u001b[0;32m---> 26\u001b[0m     \u001b[38;5;28;01mreturn\u001b[39;00m \u001b[43mfunc\u001b[49m\u001b[43m(\u001b[49m\u001b[43m_self_weak_ref\u001b[49m\u001b[43m(\u001b[49m\u001b[43m)\u001b[49m\u001b[43m,\u001b[49m\u001b[43m \u001b[49m\u001b[38;5;241;43m*\u001b[39;49m\u001b[43margs\u001b[49m\u001b[43m,\u001b[49m\u001b[43m \u001b[49m\u001b[38;5;241;43m*\u001b[39;49m\u001b[38;5;241;43m*\u001b[39;49m\u001b[43mkwargs\u001b[49m\u001b[43m)\u001b[49m\n",
      "File \u001b[0;32m~/dev/simphony_4_git/simphony-osp/simphony_osp/session/session.py:1321\u001b[0m, in \u001b[0;36mSession.from_identifier\u001b[0;34m(self, identifier)\u001b[0m\n\u001b[1;32m   1319\u001b[0m \u001b[38;5;250m\u001b[39m\u001b[38;5;124;03m\"\"\"Finally return the single compatible class or raise an exception.\"\"\"\u001b[39;00m\n\u001b[1;32m   1320\u001b[0m \u001b[38;5;28;01mif\u001b[39;00m \u001b[38;5;28mlen\u001b[39m(compatible) \u001b[38;5;241m>\u001b[39m\u001b[38;5;241m=\u001b[39m \u001b[38;5;241m2\u001b[39m:\n\u001b[0;32m-> 1321\u001b[0m     \u001b[38;5;28;01mraise\u001b[39;00m \u001b[38;5;167;01mRuntimeError\u001b[39;00m(\n\u001b[1;32m   1322\u001b[0m         \u001b[38;5;124mf\u001b[39m\u001b[38;5;124m\"\u001b[39m\u001b[38;5;124mTwo or more python classes (\u001b[39m\u001b[38;5;124m\"\u001b[39m\n\u001b[1;32m   1323\u001b[0m         \u001b[38;5;124mf\u001b[39m\u001b[38;5;124m\"\u001b[39m\u001b[38;5;132;01m{\u001b[39;00m\u001b[38;5;124m'\u001b[39m\u001b[38;5;124m, \u001b[39m\u001b[38;5;124m'\u001b[39m\u001b[38;5;241m.\u001b[39mjoin(\u001b[38;5;28mmap\u001b[39m(\u001b[38;5;28mstr\u001b[39m,\u001b[38;5;250m \u001b[39mcompatible))\u001b[38;5;132;01m}\u001b[39;00m\u001b[38;5;124m) \u001b[39m\u001b[38;5;124m\"\u001b[39m\n\u001b[1;32m   1324\u001b[0m         \u001b[38;5;124mf\u001b[39m\u001b[38;5;124m\"\u001b[39m\u001b[38;5;124mcould be spawned from \u001b[39m\u001b[38;5;132;01m{\u001b[39;00midentifier\u001b[38;5;132;01m}\u001b[39;00m\u001b[38;5;124m.\u001b[39m\u001b[38;5;124m\"\u001b[39m\n\u001b[1;32m   1325\u001b[0m     )\n\u001b[1;32m   1326\u001b[0m \u001b[38;5;28;01mtry\u001b[39;00m:\n\u001b[1;32m   1327\u001b[0m     python_class \u001b[38;5;241m=\u001b[39m compatible\u001b[38;5;241m.\u001b[39mpop()\n",
      "\u001b[0;31mRuntimeError\u001b[0m: Two or more python classes (<class 'simphony_osp.ontology.oclass.OntologyClass'>, <class 'simphony_osp.ontology.individual.OntologyIndividual'>) could be spawned from http://www.w3.org/ns/prov#EmptyCollection."
     ]
    }
   ],
   "source": [
    "semantic2dot(freiburg)"
   ]
  },
  {
   "cell_type": "code",
   "execution_count": 10,
   "id": "9196f8f5",
   "metadata": {},
   "outputs": [
    {
     "ename": "RuntimeError",
     "evalue": "Two or more python classes (<class 'simphony_osp.ontology.oclass.OntologyClass'>, <class 'simphony_osp.ontology.individual.OntologyIndividual'>) could be spawned from http://www.w3.org/ns/prov#EmptyCollection.",
     "output_type": "error",
     "traceback": [
      "\u001b[0;31m---------------------------------------------------------------------------\u001b[0m",
      "\u001b[0;31mRuntimeError\u001b[0m                              Traceback (most recent call last)",
      "Cell \u001b[0;32mIn[10], line 1\u001b[0m\n\u001b[0;32m----> 1\u001b[0m \u001b[43msemantic2dot\u001b[49m\u001b[43m(\u001b[49m\u001b[43mdso_dome\u001b[49m\u001b[43m)\u001b[49m\n",
      "File \u001b[0;32m~/dev/simphony_4_git/simphony-osp/simphony_osp/tools/semantic2dot.py:556\u001b[0m, in \u001b[0;36msemantic2dot\u001b[0;34m(rel, *elements)\u001b[0m\n\u001b[1;32m    524\u001b[0m \u001b[38;5;28;01mdef\u001b[39;00m \u001b[38;5;21msemantic2dot\u001b[39m(\n\u001b[1;32m    525\u001b[0m     \u001b[38;5;241m*\u001b[39melements: Union[\n\u001b[1;32m    526\u001b[0m         OntologyIndividual,\n\u001b[0;32m   (...)\u001b[0m\n\u001b[1;32m    532\u001b[0m     ] \u001b[38;5;241m=\u001b[39m \u001b[38;5;28;01mNone\u001b[39;00m,\n\u001b[1;32m    533\u001b[0m ) \u001b[38;5;241m-\u001b[39m\u001b[38;5;241m>\u001b[39m Semantic2Dot:\n\u001b[1;32m    534\u001b[0m \u001b[38;5;250m    \u001b[39m\u001b[38;5;124;03m\"\"\"Utility for plotting ontology entities.\u001b[39;00m\n\u001b[1;32m    535\u001b[0m \n\u001b[1;32m    536\u001b[0m \u001b[38;5;124;03m    Note: If you are reading the SimPhoNy documentation API Reference, it\u001b[39;00m\n\u001b[0;32m   (...)\u001b[0m\n\u001b[1;32m    554\u001b[0m \u001b[38;5;124;03m            `simphony_osp.tools.search` to additionally plot such individuals.\u001b[39;00m\n\u001b[1;32m    555\u001b[0m \u001b[38;5;124;03m    \"\"\"\u001b[39;00m\n\u001b[0;32m--> 556\u001b[0m     \u001b[38;5;28;01mreturn\u001b[39;00m \u001b[43mSemantic2Dot\u001b[49m\u001b[43m(\u001b[49m\u001b[38;5;241;43m*\u001b[39;49m\u001b[43melements\u001b[49m\u001b[43m,\u001b[49m\u001b[43m \u001b[49m\u001b[43mrel\u001b[49m\u001b[38;5;241;43m=\u001b[39;49m\u001b[43mrel\u001b[49m\u001b[43m)\u001b[49m\n",
      "File \u001b[0;32m~/dev/simphony_4_git/simphony-osp/simphony_osp/tools/semantic2dot.py:95\u001b[0m, in \u001b[0;36mSemantic2Dot.__init__\u001b[0;34m(self, rel, *elements)\u001b[0m\n\u001b[1;32m     76\u001b[0m supported_classes \u001b[38;5;241m=\u001b[39m (\n\u001b[1;32m     77\u001b[0m     OntologyIndividual,\n\u001b[1;32m     78\u001b[0m     OntologyClass,\n\u001b[1;32m     79\u001b[0m     OntologyAttribute,\n\u001b[1;32m     80\u001b[0m     OntologyRelationship,\n\u001b[1;32m     81\u001b[0m )\n\u001b[1;32m     82\u001b[0m \u001b[38;5;28mself\u001b[39m\u001b[38;5;241m.\u001b[39m_requested_individuals \u001b[38;5;241m=\u001b[39m \u001b[38;5;28mfrozenset\u001b[39m(\n\u001b[1;32m     83\u001b[0m     classification[OntologyIndividual]\n\u001b[1;32m     84\u001b[0m )\n\u001b[1;32m     85\u001b[0m \u001b[38;5;28mself\u001b[39m\u001b[38;5;241m.\u001b[39m_requested \u001b[38;5;241m=\u001b[39m \u001b[38;5;28mfrozenset\u001b[39m(\n\u001b[1;32m     86\u001b[0m     {\n\u001b[1;32m     87\u001b[0m         part\n\u001b[1;32m     88\u001b[0m         \u001b[38;5;28;01mfor\u001b[39;00m individual \u001b[38;5;129;01min\u001b[39;00m classification[OntologyIndividual]\n\u001b[1;32m     89\u001b[0m         \u001b[38;5;28;01mfor\u001b[39;00m part \u001b[38;5;129;01min\u001b[39;00m (\n\u001b[1;32m     90\u001b[0m             find(individual, rel\u001b[38;5;241m=\u001b[39mrel, find_all\u001b[38;5;241m=\u001b[39m\u001b[38;5;28;01mTrue\u001b[39;00m)\n\u001b[1;32m     91\u001b[0m             \u001b[38;5;28;01mif\u001b[39;00m rel \u001b[38;5;129;01mis\u001b[39;00m \u001b[38;5;129;01mnot\u001b[39;00m \u001b[38;5;28;01mNone\u001b[39;00m\n\u001b[1;32m     92\u001b[0m             \u001b[38;5;28;01melse\u001b[39;00m (individual,)\n\u001b[1;32m     93\u001b[0m         )\n\u001b[1;32m     94\u001b[0m     }\n\u001b[0;32m---> 95\u001b[0m     \u001b[38;5;241m|\u001b[39m \u001b[43m{\u001b[49m\n\u001b[1;32m     96\u001b[0m \u001b[43m        \u001b[49m\u001b[43mentity\u001b[49m\n\u001b[1;32m     97\u001b[0m \u001b[43m        \u001b[49m\u001b[38;5;28;43;01mfor\u001b[39;49;00m\u001b[43m \u001b[49m\u001b[43mnamespace\u001b[49m\u001b[43m \u001b[49m\u001b[38;5;129;43;01min\u001b[39;49;00m\u001b[43m \u001b[49m\u001b[43mclassification\u001b[49m\u001b[43m[\u001b[49m\u001b[43mOntologyNamespace\u001b[49m\u001b[43m]\u001b[49m\n\u001b[1;32m     98\u001b[0m \u001b[43m        \u001b[49m\u001b[38;5;28;43;01mfor\u001b[39;49;00m\u001b[43m \u001b[49m\u001b[43mentity\u001b[49m\u001b[43m \u001b[49m\u001b[38;5;129;43;01min\u001b[39;49;00m\u001b[43m \u001b[49m\u001b[43mnamespace\u001b[49m\n\u001b[1;32m     99\u001b[0m \u001b[43m        \u001b[49m\u001b[38;5;28;43;01mif\u001b[39;49;00m\u001b[43m \u001b[49m\u001b[38;5;28;43misinstance\u001b[39;49m\u001b[43m(\u001b[49m\u001b[43mentity\u001b[49m\u001b[43m,\u001b[49m\u001b[43m \u001b[49m\u001b[43msupported_classes\u001b[49m\u001b[43m)\u001b[49m\n\u001b[1;32m    100\u001b[0m \u001b[43m    \u001b[49m\u001b[43m}\u001b[49m\n\u001b[1;32m    101\u001b[0m     \u001b[38;5;241m|\u001b[39m {\n\u001b[1;32m    102\u001b[0m         entity\n\u001b[1;32m    103\u001b[0m         \u001b[38;5;28;01mfor\u001b[39;00m session \u001b[38;5;129;01min\u001b[39;00m classification[Session]\n\u001b[1;32m    104\u001b[0m         \u001b[38;5;28;01mfor\u001b[39;00m entity \u001b[38;5;129;01min\u001b[39;00m session\n\u001b[1;32m    105\u001b[0m     }\n\u001b[1;32m    106\u001b[0m )\n\u001b[1;32m    108\u001b[0m \u001b[38;5;28mself\u001b[39m\u001b[38;5;241m.\u001b[39m_graph \u001b[38;5;241m=\u001b[39m Digraph(\u001b[38;5;28mformat\u001b[39m\u001b[38;5;241m=\u001b[39m\u001b[38;5;124m\"\u001b[39m\u001b[38;5;124mpng\u001b[39m\u001b[38;5;124m\"\u001b[39m, name\u001b[38;5;241m=\u001b[39m\u001b[38;5;124m\"\u001b[39m\u001b[38;5;124mSimPhoNy semantic2dot\u001b[39m\u001b[38;5;124m\"\u001b[39m)\n\u001b[1;32m    109\u001b[0m \u001b[38;5;28mself\u001b[39m\u001b[38;5;241m.\u001b[39m_draw_all()\n",
      "File \u001b[0;32m~/dev/simphony_4_git/simphony-osp/simphony_osp/tools/semantic2dot.py:95\u001b[0m, in \u001b[0;36m<setcomp>\u001b[0;34m(.0)\u001b[0m\n\u001b[1;32m     76\u001b[0m supported_classes \u001b[38;5;241m=\u001b[39m (\n\u001b[1;32m     77\u001b[0m     OntologyIndividual,\n\u001b[1;32m     78\u001b[0m     OntologyClass,\n\u001b[1;32m     79\u001b[0m     OntologyAttribute,\n\u001b[1;32m     80\u001b[0m     OntologyRelationship,\n\u001b[1;32m     81\u001b[0m )\n\u001b[1;32m     82\u001b[0m \u001b[38;5;28mself\u001b[39m\u001b[38;5;241m.\u001b[39m_requested_individuals \u001b[38;5;241m=\u001b[39m \u001b[38;5;28mfrozenset\u001b[39m(\n\u001b[1;32m     83\u001b[0m     classification[OntologyIndividual]\n\u001b[1;32m     84\u001b[0m )\n\u001b[1;32m     85\u001b[0m \u001b[38;5;28mself\u001b[39m\u001b[38;5;241m.\u001b[39m_requested \u001b[38;5;241m=\u001b[39m \u001b[38;5;28mfrozenset\u001b[39m(\n\u001b[1;32m     86\u001b[0m     {\n\u001b[1;32m     87\u001b[0m         part\n\u001b[1;32m     88\u001b[0m         \u001b[38;5;28;01mfor\u001b[39;00m individual \u001b[38;5;129;01min\u001b[39;00m classification[OntologyIndividual]\n\u001b[1;32m     89\u001b[0m         \u001b[38;5;28;01mfor\u001b[39;00m part \u001b[38;5;129;01min\u001b[39;00m (\n\u001b[1;32m     90\u001b[0m             find(individual, rel\u001b[38;5;241m=\u001b[39mrel, find_all\u001b[38;5;241m=\u001b[39m\u001b[38;5;28;01mTrue\u001b[39;00m)\n\u001b[1;32m     91\u001b[0m             \u001b[38;5;28;01mif\u001b[39;00m rel \u001b[38;5;129;01mis\u001b[39;00m \u001b[38;5;129;01mnot\u001b[39;00m \u001b[38;5;28;01mNone\u001b[39;00m\n\u001b[1;32m     92\u001b[0m             \u001b[38;5;28;01melse\u001b[39;00m (individual,)\n\u001b[1;32m     93\u001b[0m         )\n\u001b[1;32m     94\u001b[0m     }\n\u001b[0;32m---> 95\u001b[0m     \u001b[38;5;241m|\u001b[39m {\n\u001b[1;32m     96\u001b[0m         entity\n\u001b[1;32m     97\u001b[0m         \u001b[38;5;28;01mfor\u001b[39;00m namespace \u001b[38;5;129;01min\u001b[39;00m classification[OntologyNamespace]\n\u001b[1;32m     98\u001b[0m         \u001b[38;5;28;01mfor\u001b[39;00m entity \u001b[38;5;129;01min\u001b[39;00m namespace\n\u001b[1;32m     99\u001b[0m         \u001b[38;5;28;01mif\u001b[39;00m \u001b[38;5;28misinstance\u001b[39m(entity, supported_classes)\n\u001b[1;32m    100\u001b[0m     }\n\u001b[1;32m    101\u001b[0m     \u001b[38;5;241m|\u001b[39m {\n\u001b[1;32m    102\u001b[0m         entity\n\u001b[1;32m    103\u001b[0m         \u001b[38;5;28;01mfor\u001b[39;00m session \u001b[38;5;129;01min\u001b[39;00m classification[Session]\n\u001b[1;32m    104\u001b[0m         \u001b[38;5;28;01mfor\u001b[39;00m entity \u001b[38;5;129;01min\u001b[39;00m session\n\u001b[1;32m    105\u001b[0m     }\n\u001b[1;32m    106\u001b[0m )\n\u001b[1;32m    108\u001b[0m \u001b[38;5;28mself\u001b[39m\u001b[38;5;241m.\u001b[39m_graph \u001b[38;5;241m=\u001b[39m Digraph(\u001b[38;5;28mformat\u001b[39m\u001b[38;5;241m=\u001b[39m\u001b[38;5;124m\"\u001b[39m\u001b[38;5;124mpng\u001b[39m\u001b[38;5;124m\"\u001b[39m, name\u001b[38;5;241m=\u001b[39m\u001b[38;5;124m\"\u001b[39m\u001b[38;5;124mSimPhoNy semantic2dot\u001b[39m\u001b[38;5;124m\"\u001b[39m)\n\u001b[1;32m    109\u001b[0m \u001b[38;5;28mself\u001b[39m\u001b[38;5;241m.\u001b[39m_draw_all()\n",
      "File \u001b[0;32m~/dev/simphony_4_git/simphony-osp/simphony_osp/ontology/namespace.py:138\u001b[0m, in \u001b[0;36m<genexpr>\u001b[0;34m(.0)\u001b[0m\n\u001b[1;32m    136\u001b[0m \u001b[38;5;28;01mdef\u001b[39;00m \u001b[38;5;21m__iter__\u001b[39m(\u001b[38;5;28mself\u001b[39m) \u001b[38;5;241m-\u001b[39m\u001b[38;5;241m>\u001b[39m Iterator[OntologyEntity]:\n\u001b[1;32m    137\u001b[0m \u001b[38;5;250m    \u001b[39m\u001b[38;5;124;03m\"\"\"Iterate over the ontology entities in the namespace.\"\"\"\u001b[39;00m\n\u001b[0;32m--> 138\u001b[0m     \u001b[38;5;28;01mreturn\u001b[39;00m (entity \u001b[38;5;28;01mfor\u001b[39;00m entity \u001b[38;5;129;01min\u001b[39;00m \u001b[38;5;28miter\u001b[39m(\u001b[38;5;28mself\u001b[39m\u001b[38;5;241m.\u001b[39montology) \u001b[38;5;28;01mif\u001b[39;00m entity \u001b[38;5;129;01min\u001b[39;00m \u001b[38;5;28mself\u001b[39m)\n",
      "File \u001b[0;32m~/dev/simphony_4_git/simphony-osp/simphony_osp/session/session.py:543\u001b[0m, in \u001b[0;36m<genexpr>\u001b[0;34m(.0)\u001b[0m\n\u001b[1;32m    536\u001b[0m \u001b[38;5;250m\u001b[39m\u001b[38;5;124;03m\"\"\"Iterate over all the ontology entities in the session.\u001b[39;00m\n\u001b[1;32m    537\u001b[0m \n\u001b[1;32m    538\u001b[0m \u001b[38;5;124;03mBe careful when using this operation, as it can be computationally very\u001b[39;00m\n\u001b[1;32m    539\u001b[0m \u001b[38;5;124;03mexpensive.\u001b[39;00m\n\u001b[1;32m    540\u001b[0m \u001b[38;5;124;03m\"\"\"\u001b[39;00m\n\u001b[1;32m    541\u001b[0m \u001b[38;5;66;03m# Warning: entities can be repeated.\u001b[39;00m\n\u001b[1;32m    542\u001b[0m \u001b[38;5;28;01mreturn\u001b[39;00m (\n\u001b[0;32m--> 543\u001b[0m     \u001b[38;5;28;43mself\u001b[39;49m\u001b[38;5;241;43m.\u001b[39;49m\u001b[43mfrom_identifier\u001b[49m\u001b[43m(\u001b[49m\u001b[43midentifier\u001b[49m\u001b[43m)\u001b[49m\n\u001b[1;32m    544\u001b[0m     \u001b[38;5;28;01mfor\u001b[39;00m identifier \u001b[38;5;129;01min\u001b[39;00m \u001b[38;5;28mself\u001b[39m\u001b[38;5;241m.\u001b[39miter_identifiers()\n\u001b[1;32m    545\u001b[0m )\n",
      "File \u001b[0;32m~/dev/simphony_4_git/simphony-osp/simphony_osp/utils/cache.py:30\u001b[0m, in \u001b[0;36mlru_cache_weak.<locals>.decorator.<locals>.wrapper\u001b[0;34m(self, *args, **kwargs)\u001b[0m\n\u001b[1;32m     28\u001b[0m \u001b[38;5;129m@wraps\u001b[39m(func)\n\u001b[1;32m     29\u001b[0m \u001b[38;5;28;01mdef\u001b[39;00m \u001b[38;5;21mwrapper\u001b[39m(\u001b[38;5;28mself\u001b[39m, \u001b[38;5;241m*\u001b[39margs, \u001b[38;5;241m*\u001b[39m\u001b[38;5;241m*\u001b[39mkwargs):\n\u001b[0;32m---> 30\u001b[0m     \u001b[38;5;28;01mreturn\u001b[39;00m \u001b[43m_cached\u001b[49m\u001b[43m(\u001b[49m\u001b[43mref\u001b[49m\u001b[43m(\u001b[49m\u001b[38;5;28;43mself\u001b[39;49m\u001b[43m)\u001b[49m\u001b[43m,\u001b[49m\u001b[43m \u001b[49m\u001b[38;5;241;43m*\u001b[39;49m\u001b[43margs\u001b[49m\u001b[43m,\u001b[49m\u001b[43m \u001b[49m\u001b[38;5;241;43m*\u001b[39;49m\u001b[38;5;241;43m*\u001b[39;49m\u001b[43mkwargs\u001b[49m\u001b[43m)\u001b[49m\n",
      "File \u001b[0;32m~/dev/simphony_4_git/simphony-osp/simphony_osp/utils/cache.py:26\u001b[0m, in \u001b[0;36mlru_cache_weak.<locals>.decorator.<locals>._cached\u001b[0;34m(_self_weak_ref, *args, **kwargs)\u001b[0m\n\u001b[1;32m     24\u001b[0m \u001b[38;5;129m@lru_cache\u001b[39m(maxsize\u001b[38;5;241m=\u001b[39mmaxsize, typed\u001b[38;5;241m=\u001b[39mtyped)\n\u001b[1;32m     25\u001b[0m \u001b[38;5;28;01mdef\u001b[39;00m \u001b[38;5;21m_cached\u001b[39m(_self_weak_ref, \u001b[38;5;241m*\u001b[39margs, \u001b[38;5;241m*\u001b[39m\u001b[38;5;241m*\u001b[39mkwargs):\n\u001b[0;32m---> 26\u001b[0m     \u001b[38;5;28;01mreturn\u001b[39;00m \u001b[43mfunc\u001b[49m\u001b[43m(\u001b[49m\u001b[43m_self_weak_ref\u001b[49m\u001b[43m(\u001b[49m\u001b[43m)\u001b[49m\u001b[43m,\u001b[49m\u001b[43m \u001b[49m\u001b[38;5;241;43m*\u001b[39;49m\u001b[43margs\u001b[49m\u001b[43m,\u001b[49m\u001b[43m \u001b[49m\u001b[38;5;241;43m*\u001b[39;49m\u001b[38;5;241;43m*\u001b[39;49m\u001b[43mkwargs\u001b[49m\u001b[43m)\u001b[49m\n",
      "File \u001b[0;32m~/dev/simphony_4_git/simphony-osp/simphony_osp/session/session.py:1321\u001b[0m, in \u001b[0;36mSession.from_identifier\u001b[0;34m(self, identifier)\u001b[0m\n\u001b[1;32m   1319\u001b[0m \u001b[38;5;250m\u001b[39m\u001b[38;5;124;03m\"\"\"Finally return the single compatible class or raise an exception.\"\"\"\u001b[39;00m\n\u001b[1;32m   1320\u001b[0m \u001b[38;5;28;01mif\u001b[39;00m \u001b[38;5;28mlen\u001b[39m(compatible) \u001b[38;5;241m>\u001b[39m\u001b[38;5;241m=\u001b[39m \u001b[38;5;241m2\u001b[39m:\n\u001b[0;32m-> 1321\u001b[0m     \u001b[38;5;28;01mraise\u001b[39;00m \u001b[38;5;167;01mRuntimeError\u001b[39;00m(\n\u001b[1;32m   1322\u001b[0m         \u001b[38;5;124mf\u001b[39m\u001b[38;5;124m\"\u001b[39m\u001b[38;5;124mTwo or more python classes (\u001b[39m\u001b[38;5;124m\"\u001b[39m\n\u001b[1;32m   1323\u001b[0m         \u001b[38;5;124mf\u001b[39m\u001b[38;5;124m\"\u001b[39m\u001b[38;5;132;01m{\u001b[39;00m\u001b[38;5;124m'\u001b[39m\u001b[38;5;124m, \u001b[39m\u001b[38;5;124m'\u001b[39m\u001b[38;5;241m.\u001b[39mjoin(\u001b[38;5;28mmap\u001b[39m(\u001b[38;5;28mstr\u001b[39m,\u001b[38;5;250m \u001b[39mcompatible))\u001b[38;5;132;01m}\u001b[39;00m\u001b[38;5;124m) \u001b[39m\u001b[38;5;124m\"\u001b[39m\n\u001b[1;32m   1324\u001b[0m         \u001b[38;5;124mf\u001b[39m\u001b[38;5;124m\"\u001b[39m\u001b[38;5;124mcould be spawned from \u001b[39m\u001b[38;5;132;01m{\u001b[39;00midentifier\u001b[38;5;132;01m}\u001b[39;00m\u001b[38;5;124m.\u001b[39m\u001b[38;5;124m\"\u001b[39m\n\u001b[1;32m   1325\u001b[0m     )\n\u001b[1;32m   1326\u001b[0m \u001b[38;5;28;01mtry\u001b[39;00m:\n\u001b[1;32m   1327\u001b[0m     python_class \u001b[38;5;241m=\u001b[39m compatible\u001b[38;5;241m.\u001b[39mpop()\n",
      "\u001b[0;31mRuntimeError\u001b[0m: Two or more python classes (<class 'simphony_osp.ontology.oclass.OntologyClass'>, <class 'simphony_osp.ontology.individual.OntologyIndividual'>) could be spawned from http://www.w3.org/ns/prov#EmptyCollection."
     ]
    }
   ],
   "source": [
    "semantic2dot(dso_dome)\n",
    "\n"
   ]
  },
  {
   "cell_type": "code",
   "execution_count": null,
   "id": "f715419b",
   "metadata": {},
   "outputs": [],
   "source": [
    "result = sparql( f\"\"\"SELECT ?o ?p ?s WHERE {{ <{freiburg.identifier}> ?p ?o . }}\"\"\")\n"
   ]
  },
  {
   "cell_type": "code",
   "execution_count": null,
   "id": "dafe3dc0",
   "metadata": {},
   "outputs": [],
   "source": [
    "print(result)"
   ]
  },
  {
   "cell_type": "code",
   "execution_count": null,
   "id": "ec9cd9a3",
   "metadata": {},
   "outputs": [],
   "source": [
    "print(\n",
    "len(result), # number of rows in the result\n",
    "bool(result) # True when at least one match has been found\n",
    ")"
   ]
  },
  {
   "cell_type": "code",
   "execution_count": null,
   "id": "12798542",
   "metadata": {},
   "outputs": [],
   "source": [
    "for row in result: # iterating the result yields ResultRow objects\n",
    "    print(row.__repr__())\n",
    "    print(\"--------------------->>> \\n\")\n",
    "    # ResultRows inherint from tuples\n",
    "    # the order of the variables passed to the query is respected\n",
    "    print(row[0].__repr__()) # a specific variable can be accessed using either its position,\n",
    "    print(row['o'].__repr__()) # or name print(row.get('unknown_variable', None)) # a dict-like `get` method is available\n",
    "    print(row.asdict()) # transforms the row into a dictionary\n",
    "    #break # only one result is shown in order not to flood this page\n"
   ]
  },
  {
   "cell_type": "code",
   "execution_count": null,
   "id": "fb1bc7a5",
   "metadata": {},
   "outputs": [],
   "source": [
    "f\"\"\"SELECT ?person ?name ?age WHERE {{\n",
    "?person rdf:type <{city.Citizen.identifier}> . ?person <{city['name'].identifier}> ?name . ?person <{city.age.identifier}> ?age .\n",
    "}}\n",
    "\"\"\""
   ]
  },
  {
   "cell_type": "code",
   "execution_count": null,
   "id": "a5d1c01f",
   "metadata": {},
   "outputs": [],
   "source": [
    "for row in result:\n",
    "    print(row.__repr__())"
   ]
  },
  {
   "cell_type": "code",
   "execution_count": null,
   "id": "49552144",
   "metadata": {},
   "outputs": [],
   "source": [
    "d.identifier\n"
   ]
  },
  {
   "cell_type": "code",
   "execution_count": null,
   "id": "e969f815",
   "metadata": {},
   "outputs": [],
   "source": [
    "d.identifier"
   ]
  },
  {
   "cell_type": "code",
   "execution_count": null,
   "id": "e7450e4b",
   "metadata": {},
   "outputs": [],
   "source": [
    "d.classes"
   ]
  },
  {
   "cell_type": "code",
   "execution_count": null,
   "id": "7ebd5fc1",
   "metadata": {},
   "outputs": [],
   "source": [
    "d.identifier"
   ]
  },
  {
   "cell_type": "code",
   "execution_count": null,
   "id": "7939c613",
   "metadata": {},
   "outputs": [],
   "source": [
    "d.attributes"
   ]
  },
  {
   "cell_type": "code",
   "execution_count": null,
   "id": "95b5627d",
   "metadata": {},
   "outputs": [],
   "source": [
    "print(d.is_a)"
   ]
  },
  {
   "cell_type": "code",
   "execution_count": null,
   "id": "66cba3a4",
   "metadata": {},
   "outputs": [],
   "source": [
    "d.attributes"
   ]
  },
  {
   "cell_type": "code",
   "execution_count": null,
   "id": "b0b5ed12",
   "metadata": {},
   "outputs": [],
   "source": [
    "d[city.hasPart] += freiburg"
   ]
  },
  {
   "cell_type": "code",
   "execution_count": null,
   "id": "e74acd66",
   "metadata": {},
   "outputs": [],
   "source": [
    "d.triples"
   ]
  },
  {
   "cell_type": "code",
   "execution_count": null,
   "id": "f71d4df4",
   "metadata": {},
   "outputs": [],
   "source": [
    "freiburg[owl.topObjectProperty]"
   ]
  },
  {
   "cell_type": "code",
   "execution_count": null,
   "id": "1c368732",
   "metadata": {},
   "outputs": [],
   "source": [
    "freiburg.get()"
   ]
  },
  {
   "cell_type": "code",
   "execution_count": null,
   "id": "49aef01d",
   "metadata": {},
   "outputs": [],
   "source": [
    "for i in d.get():\n",
    "    pretty_print(i)\n",
    "    "
   ]
  },
  {
   "cell_type": "code",
   "execution_count": null,
   "id": "b6bd1c36",
   "metadata": {},
   "outputs": [],
   "source": [
    "for i in d.get():\n",
    "    print(i.classes, \"\\n\\n\")"
   ]
  },
  {
   "cell_type": "code",
   "execution_count": null,
   "id": "954cf7e1",
   "metadata": {},
   "outputs": [],
   "source": [
    "d.subclasses\n"
   ]
  },
  {
   "cell_type": "code",
   "execution_count": null,
   "id": "3bfdd754",
   "metadata": {},
   "outputs": [],
   "source": [
    "x=dso_dome.Collection() "
   ]
  },
  {
   "cell_type": "code",
   "execution_count": null,
   "id": "ab87b6ac",
   "metadata": {},
   "outputs": [],
   "source": [
    "for i in x.get():\n",
    "    print(i.superclasses, \"\\n\\n\")"
   ]
  },
  {
   "cell_type": "code",
   "execution_count": null,
   "id": "d1928daa",
   "metadata": {},
   "outputs": [],
   "source": [
    "print(freiburg.get().__repr__(), end='\\n'*2)  # returns everything attached to Freiburg (a relationship set)\n",
    "\n",
    "print(freiburg.get(rel=city.hasInhabitant).__repr__(), end='\\n'*2)  # returns only the citizens (a relationship set)\n",
    "\n",
    "print(freiburg.get(oclass=city.Citizen).__repr__(), end='\\n'*2)  # also returns only the citizens (a relationship set)\n",
    "\n",
    "# filtering specific individuals (can be combined with class and relationship filters)\n",
    "print(freiburg.get(citizen_1).__repr__())\n",
    "print(freiburg.get(citizen_1, citizen_2).__repr__())\n",
    "print(freiburg.get(citizen_1.identifier).__repr__())\n",
    "print(freiburg.get('https://example.org/city#unknown_citizen').__repr__())\n",
    "print(freiburg.get(citizen_1, rel=city.hasChild).__repr__())\n",
    "print(freiburg.get(citizen_1, rel=city.hasInhabitant).__repr__())\n",
    "print(freiburg.get(citizen_1, rel=city.hasInhabitant, oclass=city.Building).__repr__())"
   ]
  },
  {
   "cell_type": "code",
   "execution_count": null,
   "id": "4d1e0eff",
   "metadata": {},
   "outputs": [],
   "source": []
  },
  {
   "cell_type": "code",
   "execution_count": null,
   "id": "e34ae4d4",
   "metadata": {},
   "outputs": [],
   "source": []
  },
  {
   "cell_type": "code",
   "execution_count": null,
   "id": "5cb86cc3",
   "metadata": {},
   "outputs": [],
   "source": []
  },
  {
   "cell_type": "code",
   "execution_count": null,
   "id": "ee40734a",
   "metadata": {},
   "outputs": [],
   "source": []
  }
 ],
 "metadata": {
  "kernelspec": {
   "display_name": "simphony_4",
   "language": "python",
   "name": "simphony_4"
  },
  "language_info": {
   "codemirror_mode": {
    "name": "ipython",
    "version": 3
   },
   "file_extension": ".py",
   "mimetype": "text/x-python",
   "name": "python",
   "nbconvert_exporter": "python",
   "pygments_lexer": "ipython3",
   "version": "3.11.3"
  }
 },
 "nbformat": 4,
 "nbformat_minor": 5
}
