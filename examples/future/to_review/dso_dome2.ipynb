{
 "cells": [
  {
   "cell_type": "code",
   "execution_count": 1,
   "id": "93a19e48",
   "metadata": {},
   "outputs": [],
   "source": [
    "from simphony_osp.namespaces import city#, foaf, dso_dome, owl, dcat\n",
    "from simphony_osp.tools import semantic2dot\n",
    "from simphony_osp.tools import pretty_print\n",
    "from simphony_osp.ontology import OntologyIndividual\n",
    "from simphony_osp.tools import semantic2dot\n",
    "from simphony_osp.session import core_session\n",
    "from simphony_osp.tools.search import sparql\n",
    "from simphony_osp.ontology import RESTRICTION_QUANTIFIER, RESTRICTION_TYPE\n"
   ]
  },
  {
   "cell_type": "code",
   "execution_count": 2,
   "id": "1a505df6",
   "metadata": {},
   "outputs": [
    {
     "ename": "NameError",
     "evalue": "name 'dso_dome' is not defined",
     "output_type": "error",
     "traceback": [
      "\u001b[0;31m---------------------------------------------------------------------------\u001b[0m",
      "\u001b[0;31mNameError\u001b[0m                                 Traceback (most recent call last)",
      "Cell \u001b[0;32mIn[2], line 1\u001b[0m\n\u001b[0;32m----> 1\u001b[0m d\u001b[38;5;241m=\u001b[39m\u001b[43mdso_dome\u001b[49m\u001b[38;5;241m.\u001b[39mCollection() \n",
      "\u001b[0;31mNameError\u001b[0m: name 'dso_dome' is not defined"
     ]
    }
   ],
   "source": [
    "d=dso_dome.Collection() "
   ]
  },
  {
   "cell_type": "code",
   "execution_count": null,
   "id": "781b603e",
   "metadata": {},
   "outputs": [],
   "source": [
    "db=dso_dome.sigraDB()\n"
   ]
  },
  {
   "cell_type": "code",
   "execution_count": null,
   "id": "2f8a2009",
   "metadata": {},
   "outputs": [],
   "source": [
    "dso_dome.sigraDB.axioms\n",
    "\n",
    "restriction = next(iter(dso_dome.sigraDB.axioms))\n",
    "print(restriction)\n",
    "restriction"
   ]
  },
  {
   "cell_type": "code",
   "execution_count": null,
   "id": "3a52c3ce",
   "metadata": {},
   "outputs": [],
   "source": [
    "from simphony_osp.ontology import COMPOSITION_OPERATOR, Composition\n",
    "\n",
    "composition = tuple(x for x in dso_dome.sigraDB.axioms if isinstance(x, Composition))[0]\n",
    "print(composition)\n",
    "print(composition.operator)\n",
    "print(composition.operands)"
   ]
  },
  {
   "cell_type": "code",
   "execution_count": null,
   "id": "686fe18b",
   "metadata": {},
   "outputs": [],
   "source": [
    "semantic2dot(d)"
   ]
  },
  {
   "cell_type": "code",
   "execution_count": null,
   "id": "9196f8f5",
   "metadata": {},
   "outputs": [],
   "source": [
    "semantic2dot(dso_dome)\n",
    "\n"
   ]
  },
  {
   "cell_type": "code",
   "execution_count": null,
   "id": "f715419b",
   "metadata": {},
   "outputs": [],
   "source": [
    "result = sparql( f\"\"\"SELECT ?o ?p ?s WHERE {{ <{d.identifier}> ?p ?o . }}\"\"\")\n"
   ]
  },
  {
   "cell_type": "code",
   "execution_count": null,
   "id": "dafe3dc0",
   "metadata": {},
   "outputs": [],
   "source": [
    "print(result.__repr__())"
   ]
  },
  {
   "cell_type": "code",
   "execution_count": null,
   "id": "ec9cd9a3",
   "metadata": {},
   "outputs": [],
   "source": [
    "print(\n",
    "len(result), # number of rows in the result\n",
    "bool(result) # True when at least one match has been found\n",
    ")"
   ]
  },
  {
   "cell_type": "code",
   "execution_count": null,
   "id": "12798542",
   "metadata": {},
   "outputs": [],
   "source": [
    "for row in result: # iterating the result yields ResultRow objects\n",
    "    print(row.__repr__())\n",
    "    print(\"--------------------->>> \\n\")\n",
    "    # ResultRows inherint from tuples\n",
    "    # the order of the variables passed to the query is respected\n",
    "    print(row[0].__repr__()) # a specific variable can be accessed using either its position,\n",
    "    print(row['o'].__repr__()) # or name print(row.get('unknown_variable', None)) # a dict-like `get` method is available\n",
    "    print(row.asdict()) \n"
   ]
  },
  {
   "cell_type": "code",
   "execution_count": null,
   "id": "e969f815",
   "metadata": {},
   "outputs": [],
   "source": [
    "d.identifier"
   ]
  },
  {
   "cell_type": "code",
   "execution_count": null,
   "id": "e7450e4b",
   "metadata": {},
   "outputs": [],
   "source": [
    "d.classes"
   ]
  },
  {
   "cell_type": "code",
   "execution_count": null,
   "id": "7ebd5fc1",
   "metadata": {},
   "outputs": [],
   "source": [
    "d.identifier"
   ]
  },
  {
   "cell_type": "code",
   "execution_count": null,
   "id": "7939c613",
   "metadata": {},
   "outputs": [],
   "source": [
    "d.attributes"
   ]
  },
  {
   "cell_type": "code",
   "execution_count": null,
   "id": "95b5627d",
   "metadata": {},
   "outputs": [],
   "source": [
    "print(d.is_a)"
   ]
  },
  {
   "cell_type": "code",
   "execution_count": null,
   "id": "66cba3a4",
   "metadata": {},
   "outputs": [],
   "source": [
    "d.attributes"
   ]
  },
  {
   "cell_type": "code",
   "execution_count": null,
   "id": "e74acd66",
   "metadata": {},
   "outputs": [],
   "source": [
    "d.triples"
   ]
  },
  {
   "cell_type": "code",
   "execution_count": null,
   "id": "f71d4df4",
   "metadata": {},
   "outputs": [],
   "source": [
    "d[owl.topObjectProperty]"
   ]
  },
  {
   "cell_type": "code",
   "execution_count": null,
   "id": "1c368732",
   "metadata": {},
   "outputs": [],
   "source": [
    "d.get()"
   ]
  },
  {
   "cell_type": "code",
   "execution_count": null,
   "id": "49aef01d",
   "metadata": {},
   "outputs": [],
   "source": [
    "for i in d.get():\n",
    "    pretty_print(i)\n",
    "    "
   ]
  },
  {
   "cell_type": "code",
   "execution_count": null,
   "id": "b6bd1c36",
   "metadata": {},
   "outputs": [],
   "source": [
    "for i in d.get():\n",
    "    print(i.classes, \"\\n\\n\")"
   ]
  },
  {
   "cell_type": "code",
   "execution_count": null,
   "id": "954cf7e1",
   "metadata": {},
   "outputs": [],
   "source": [
    "d.subclasses\n"
   ]
  },
  {
   "cell_type": "code",
   "execution_count": null,
   "id": "3bfdd754",
   "metadata": {},
   "outputs": [],
   "source": [
    "x=dso_dome.Collection() "
   ]
  },
  {
   "cell_type": "code",
   "execution_count": null,
   "id": "ab87b6ac",
   "metadata": {},
   "outputs": [],
   "source": [
    "for i in x.get():\n",
    "    print(i.classes, \"\\n\\n\")"
   ]
  },
  {
   "cell_type": "code",
   "execution_count": null,
   "id": "62c8f068",
   "metadata": {},
   "outputs": [],
   "source": [
    "for i in x.classes:\n",
    "    print(i.namespace)\n"
   ]
  },
  {
   "cell_type": "code",
   "execution_count": null,
   "id": "91a0bfec",
   "metadata": {},
   "outputs": [],
   "source": []
  }
 ],
 "metadata": {
  "kernelspec": {
   "display_name": "simphony_4",
   "language": "python",
   "name": "simphony_4"
  },
  "language_info": {
   "codemirror_mode": {
    "name": "ipython",
    "version": 3
   },
   "file_extension": ".py",
   "mimetype": "text/x-python",
   "name": "python",
   "nbconvert_exporter": "python",
   "pygments_lexer": "ipython3",
   "version": "3.11.3"
  }
 },
 "nbformat": 4,
 "nbformat_minor": 5
}
