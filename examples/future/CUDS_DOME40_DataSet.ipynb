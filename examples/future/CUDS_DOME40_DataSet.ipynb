{
 "cells": [
  {
   "cell_type": "code",
   "execution_count": 1,
   "id": "c459e742",
   "metadata": {},
   "outputs": [
    {
     "name": "stderr",
     "output_type": "stream",
     "text": [
      "/var/folders/jd/j0s9pmrj0kg0ww159sk08ls40000gp/T/ipykernel_48953/174612537.py:21: DeprecationWarning: Importing display from IPython.core.display is deprecated since IPython 7.14, please import from IPython display\n",
      "  from IPython.core.display import display, HTML\n"
     ]
    }
   ],
   "source": [
    "from simphony_osp.namespaces import city, rdfschema, dcoretbox, simphony\n",
    "from simphony_osp.namespaces import owl,foaf, emmo, domeo, dcterms, evmpo, eurosci, iof\n",
    "from simphony_osp.namespaces import http_method\n",
    "\n",
    "from simphony_osp.tools import semantic2dot, pretty_print\n",
    "from simphony_osp.tools import search,  export_file, import_file, pretty_print, search\n",
    "from simphony_osp.tools.search import sparql\n",
    "\n",
    "from simphony_osp.ontology import RESTRICTION_QUANTIFIER, RESTRICTION_TYPE, OntologyIndividual\n",
    "from simphony_osp.ontology import COMPOSITION_OPERATOR, Composition, Restriction\n",
    "\n",
    "from simphony_osp.ontology.relationship import OntologyRelationship\n",
    "from simphony_osp.ontology.annotation import OntologyAnnotation\n",
    "\n",
    "from simphony_osp.session import Session, core_session\n",
    "import json, rdflib\n",
    "from rdflib import Graph, URIRef\n",
    "from rdflib.plugins.parsers.jsonld import to_rdf as json_to_rdf\n",
    "\n",
    "from json2html import *\n",
    "from IPython.core.display import display, HTML\n",
    "import pandas as pd\n"
   ]
  },
  {
   "cell_type": "markdown",
   "id": "d9b6c250-24cf-4c09-aa75-2fca8e3821cd",
   "metadata": {},
   "source": [
    "# CUDS DOME 4.0\n",
    "Create a DomeDataSet and connect it with all elements from the DOME 4.0 Data Set Ontology."
   ]
  },
  {
   "cell_type": "code",
   "execution_count": 2,
   "id": "a59b4c06",
   "metadata": {},
   "outputs": [],
   "source": [
    "# Load the DOME 4.0 A-BOX\n",
    "SIGRA_ROOT='/Users/adham/dev/new/dome/Ontology-matters/'"
   ]
  },
  {
   "cell_type": "code",
   "execution_count": 3,
   "id": "75c28e45",
   "metadata": {},
   "outputs": [],
   "source": [
    "core_session.clear()"
   ]
  },
  {
   "cell_type": "code",
   "execution_count": 4,
   "id": "4cd6e19d",
   "metadata": {
    "scrolled": true
   },
   "outputs": [
    {
     "data": {
      "text/plain": [
       "{<OntologyIndividual: AiiDA export file https://dome40.eu/semantics/dome4.0_core#AIIDA_FORMAT>,\n",
       " <OntologyIndividual: CAS Number https://dome40.eu/semantics/dome4.0_core#CAS_NUMBER>,\n",
       " <OntologyIndividual: CHEMEO https://dome40.eu/semantics/scenario/platforms#CHEMEO>,\n",
       " <OntologyIndividual: CONSUMER https://dome40.eu/semantics/dome4.0_core#CONSUMER>,\n",
       " <OntologyIndividual: CRYSTALLOGRAPHY https://dome40.eu/semantics/scenario/platforms#CRYSTALLOGRAPHY>,\n",
       " <OntologyIndividual: Cartography https://dome40.eu/semantics/dome4.0_core#CARTOGRAPHY>,\n",
       " <OntologyIndividual: Comma-separated Values (CSV) https://dome40.eu/semantics/dome4.0_core#CSV>,\n",
       " <OntologyIndividual: Compare https://dome40.eu/semantics/dome4.0_core#COMPARE>,\n",
       " <OntologyIndividual: Crystallographic Information Framework (CIF) - Model and format https://dome40.eu/semantics/dome4.0_core#CIF>,\n",
       " <OntologyIndividual: DATA_ON_DEMAND_PROVIDER https://dome40.eu/semantics/dome4.0_core#DATA_ON_DEMAND_PROVIDER>,\n",
       " <OntologyIndividual: DATA_PROVIDER https://dome40.eu/semantics/dome4.0_core#DATA_PROVIDER>,\n",
       " <OntologyIndividual: DOME 4.0 Consortium https://dome40.eu/semantics/scenario/platforms#DOME4.0_CONSORTIUM>,\n",
       " <OntologyIndividual: DOME4.0 https://dome40.eu/semantics/scenario/platforms#DOME4.0>,\n",
       " <OntologyIndividual: Download https://dome40.eu/semantics/dome4.0_core#DOWNLOAD>,\n",
       " <OntologyIndividual: EC Number https://dome40.eu/semantics/dome4.0_core#EC_NUMBER>,\n",
       " <OntologyIndividual: EXAMPLE_DOME_FLAT_SUBSCRIPTION_CHEMEO_MATERIALSPROJECT https://dome40.eu/semantics/scenario/platforms#EXAMPLE_DOME_FLAT_SUBSCRIPTION_CHEMEO_MATERIALSPROJECT>,\n",
       " <OntologyIndividual: EXAMPLE_DOME_SUBSCRIPTION_BY_USAGE_CHEMEO_MATERIALSPROJECT https://dome40.eu/semantics/scenario/platforms#EXAMPLE_DOME_SUBSCRIPTION_BY_USAGE_CHEMEO_MATERIALSPROJECT>,\n",
       " <OntologyIndividual: Engineering and technology https://dome40.eu/semantics/dome4.0_core#ENGINEERING_AND_TECHNOLOGY>,\n",
       " <OntologyIndividual: Equipment https://dome40.eu/semantics/dome4.0_core#EQUIPMENT>,\n",
       " <OntologyIndividual: Evaluate FAIRness https://dome40.eu/semantics/dome4.0_core#EVALUATE_FAIRNESS>,\n",
       " <OntologyIndividual: Experimental Data https://dome40.eu/semantics/dome4.0_core#EXPERIMENTAL_DATA>,\n",
       " <OntologyIndividual: Extract https://dome40.eu/semantics/dome4.0_core#EXTRACT>,\n",
       " <OntologyIndividual: Geographic Tagged Image File Format (GeoTIFF) https://dome40.eu/semantics/dome4.0_core#GEOTIFF>,\n",
       " <OntologyIndividual: IDS (International Data Space) API specification https://dome40.eu/semantics/dome4.0_core#IDS_API_SPECIFICATION>,\n",
       " <OntologyIndividual: INTERACTIVE_APP_PROVIDER https://dome40.eu/semantics/dome4.0_core#INTERACTIVE_APP_PROVIDER>,\n",
       " <OntologyIndividual: IUPAC InChi https://dome40.eu/semantics/dome4.0_core#IUPAC_INCHI>,\n",
       " <OntologyIndividual: JavaScript Object Notation (JSON) https://dome40.eu/semantics/dome4.0_core#JSON>,\n",
       " <OntologyIndividual: JavaScript Object Notation for Linking Data (JSON-LD) https://dome40.eu/semantics/dome4.0_core#JSON-LD>,\n",
       " <OntologyIndividual: Joint Photographic Experts Group Format (JPEG) https://dome40.eu/semantics/dome4.0_core#JPEG>,\n",
       " <OntologyIndividual: List of API spefications https://dome40.eu/semantics/dome4.0_core#LIST_OF_STANDARD_API_SPECIFICATIONS>,\n",
       " <OntologyIndividual: List of data actions https://dome40.eu/semantics/dome4.0_core#LIST_OF_DATA_ACTIONS>,\n",
       " <OntologyIndividual: List of file formats https://dome40.eu/semantics/dome4.0_core#LIST_OF_FILE_FORMATS>,\n",
       " <OntologyIndividual: List of product types (i.e., the types found on DOME 4.0) https://dome40.eu/semantics/dome4.0_core#LIST_OF_PRODUCT_TYPES>,\n",
       " <OntologyIndividual: List of search actions https://dome40.eu/semantics/dome4.0_core#LIST_OF_SEARCH_ACTIONS>,\n",
       " <OntologyIndividual: List of topics https://dome40.eu/semantics/dome4.0_core#LIST_OF_TOPICS>,\n",
       " <OntologyIndividual: List of widely used standard identifiers for the materials and manufacturing domain. https://dome40.eu/semantics/dome4.0_core#LIST_OF_STANDARD_IDENTIFIERS>,\n",
       " <OntologyIndividual: MARKET4.0 https://dome40.eu/semantics/scenario/platforms#MARKET4.0>,\n",
       " <OntologyIndividual: MATERIALSPROJECT https://dome40.eu/semantics/scenario/platforms#MATERIALSPROJECT>,\n",
       " <OntologyIndividual: Material Property https://dome40.eu/semantics/dome4.0_core#MATERIAL_PROPERTY>,\n",
       " <OntologyIndividual: Medical and health sciences https://dome40.eu/semantics/dome4.0_core#MEDICAL_AND_HEALTH_SCIENCES>,\n",
       " <OntologyIndividual: Meteorology https://dome40.eu/semantics/dome4.0_core#METEOROLOGY>,\n",
       " <OntologyIndividual: Microsoft Excel format (XLSX) https://dome40.eu/semantics/dome4.0_core#XLSX>,\n",
       " <OntologyIndividual: Modelling Data https://dome40.eu/semantics/dome4.0_core#MODELLING_DATA>,\n",
       " <OntologyIndividual: NOMAD https://dome40.eu/semantics/scenario/platforms#NOMAD>,\n",
       " <OntologyIndividual: Natural sciences https://dome40.eu/semantics/dome4.0_core#NATURAL_SCIENCES>,\n",
       " <OntologyIndividual: Navigation systems https://dome40.eu/semantics/dome4.0_core#NAVIGATION_SYSTEMS>,\n",
       " <OntologyIndividual: OPEN_DATABASE_XTALS https://dome40.eu/semantics/scenario/platforms#OPEN_DATABASE_XTALS>,\n",
       " <OntologyIndividual: OPTIMADE API specification https://dome40.eu/semantics/dome4.0_core#OPTIMADE_API_SPECIFICATION>,\n",
       " <OntologyIndividual: Observational Data https://dome40.eu/semantics/dome4.0_core#OBSERVATIONAL_DATA>,\n",
       " <OntologyIndividual: POPULATE_TEST_PLATFORM_OPERATION https://dome40.eu/semantics/scenario/platforms#POPULATE_TEST_PLATFORM_OPERATION>,\n",
       " <OntologyIndividual: POPULATE_TEST_PLATFORM_SERVICE https://dome40.eu/semantics/scenario/platforms#POPULATE_TEST_PLATFORM_SERVICE>,\n",
       " <OntologyIndividual: PUBCHEM https://dome40.eu/semantics/scenario/platforms#PUBCHEM>,\n",
       " <OntologyIndividual: Patent https://dome40.eu/semantics/dome4.0_core#PATENT>,\n",
       " <OntologyIndividual: Portable Network Graphics (PNG) https://dome40.eu/semantics/dome4.0_core#PNG>,\n",
       " <OntologyIndividual: Portable document format (PDF) https://dome40.eu/semantics/dome4.0_core#PDF>,\n",
       " <OntologyIndividual: Preview https://dome40.eu/semantics/dome4.0_core#PREVIEW>,\n",
       " <OntologyIndividual: Publication https://dome40.eu/semantics/dome4.0_core#PUBLICATION>,\n",
       " <OntologyIndividual: RDF/XML https://dome40.eu/semantics/dome4.0_core#RDF_XML>,\n",
       " <OntologyIndividual: RETRIEVE_FROM_TEST_PLATFORM_OPERATION https://dome40.eu/semantics/scenario/platforms#RETRIEVE_FROM_TEST_PLATFORM_OPERATION>,\n",
       " <OntologyIndividual: RETRIEVE_FROM_TEST_PLATFORM_SERVICE https://dome40.eu/semantics/scenario/platforms#RETRIEVE_FROM_TEST_PLATFORM_SERVICE>,\n",
       " <OntologyIndividual: Raw Material https://dome40.eu/semantics/dome4.0_core#RAW_MATERIAL>,\n",
       " <OntologyIndividual: Resource Description Framework (RDF) https://dome40.eu/semantics/dome4.0_core#RDF>,\n",
       " <OntologyIndividual: SMILES https://dome40.eu/semantics/dome4.0_core#SMILES>,\n",
       " <OntologyIndividual: Sea vessels https://dome40.eu/semantics/dome4.0_core#SEA_VESSELS>,\n",
       " <OntologyIndividual: Search by exact string match https://dome40.eu/semantics/dome4.0_core#SEARCH_BY_EXACT_STRING_MATCH>,\n",
       " <OntologyIndividual: Search with filter https://dome40.eu/semantics/dome4.0_core#SEARCH_WITH_FILTER>,\n",
       " <OntologyIndividual: Search with logical operator https://dome40.eu/semantics/dome4.0_core#SEARCH_WITH_LOGICAL_OPERATOR>,\n",
       " <OntologyIndividual: Search with wild card https://dome40.eu/semantics/dome4.0_core#SEARCH_WITH_WILD_CARD>,\n",
       " <OntologyIndividual: Simulate https://dome40.eu/semantics/dome4.0_core#SIMULATE>,\n",
       " <OntologyIndividual: Software https://dome40.eu/semantics/dome4.0_core#SOFTWARE>,\n",
       " <OntologyIndividual: Standard for the Exchange of Product (STEP) Data https://dome40.eu/semantics/dome4.0_core#STEP>,\n",
       " <OntologyIndividual: TEST_CATALOG https://dome40.eu/semantics/scenario/platforms#TEST_CATALOG>,\n",
       " <OntologyIndividual: TEST_PLATFORM https://dome40.eu/semantics/scenario/platforms#TEST_PLATFORM>,\n",
       " <OntologyIndividual: THEORETICAL_CRYSTALLOGRAPHY_OPEN_DATABASE https://dome40.eu/semantics/scenario/platforms#THEORETICAL_CRYSTALLOGRAPHY_OPEN_DATABASE>,\n",
       " <OntologyIndividual: THE_OPEN_QUANTUM_MATERIALS https://dome40.eu/semantics/scenario/platforms#THE_OPEN_QUANTUM_MATERIALS>,\n",
       " <OntologyIndividual: TUNNEL_WITH_TEST_PLATFORM_SERVICE https://dome40.eu/semantics/scenario/platforms#TUNNEL_WITH_TEST_PLATFORM_SERVICE>,\n",
       " <OntologyIndividual: Terse RDF Triple Language (Turtle or TTL) https://dome40.eu/semantics/dome4.0_core#TTL>,\n",
       " <OntologyIndividual: Topography https://dome40.eu/semantics/dome4.0_core#TOPOGRAPHY>,\n",
       " <OntologyIndividual: Transform https://dome40.eu/semantics/dome4.0_core#TRANSFORM>,\n",
       " <OntologyIndividual: Update https://dome40.eu/semantics/dome4.0_core#UPDATE>,\n",
       " <OntologyIndividual: Upload https://dome40.eu/semantics/dome4.0_core#UPLOAD>,\n",
       " <OntologyIndividual: View https://dome40.eu/semantics/dome4.0_core#VIEW>,\n",
       " <OntologyIndividual: Web Ontology Language (OWL) - Model and format https://dome40.eu/semantics/dome4.0_core#OWL>,\n",
       " <OntologyIndividual: XYZ atomistic data https://dome40.eu/semantics/dome4.0_core#XYZ>}"
      ]
     },
     "execution_count": 4,
     "metadata": {},
     "output_type": "execute_result"
    }
   ],
   "source": [
    "import_file(SIGRA_ROOT+'dome4.0_core_abox.ttl', all_triples=True)"
   ]
  },
  {
   "cell_type": "markdown",
   "id": "aedf2da8",
   "metadata": {},
   "source": [
    "## Demonstrate a CUDS DOME 4.0 DataSet\n",
    "\n",
    "- First lets create an instance (entity in the A-Box of DOME 4.0) of a DomeDataSet"
   ]
  },
  {
   "cell_type": "code",
   "execution_count": 5,
   "id": "cc8256b9-2f8c-49eb-b4ed-c07ca554d2b9",
   "metadata": {},
   "outputs": [
    {
     "ename": "AttributeError",
     "evalue": "'No entity with label or suffix DomeDa was found in namespace domeo (https://dome40.eu/semantics/domeo#).'",
     "output_type": "error",
     "traceback": [
      "\u001b[0;31m---------------------------------------------------------------------------\u001b[0m",
      "\u001b[0;31mKeyError\u001b[0m                                  Traceback (most recent call last)",
      "File \u001b[0;32m~/dev/new/osp-core/simphony_osp/ontology/namespace.py:79\u001b[0m, in \u001b[0;36mOntologyNamespace.__getattr__\u001b[0;34m(self, name)\u001b[0m\n\u001b[1;32m     78\u001b[0m \u001b[38;5;28;01mtry\u001b[39;00m:\n\u001b[0;32m---> 79\u001b[0m     \u001b[38;5;28;01mreturn\u001b[39;00m \u001b[38;5;28;43mself\u001b[39;49m\u001b[38;5;241;43m.\u001b[39;49m\u001b[43mget\u001b[49m\u001b[43m(\u001b[49m\u001b[43mname\u001b[49m\u001b[43m)\u001b[49m\n\u001b[1;32m     80\u001b[0m \u001b[38;5;28;01mexcept\u001b[39;00m \u001b[38;5;167;01mKeyError\u001b[39;00m \u001b[38;5;28;01mas\u001b[39;00m e:\n",
      "File \u001b[0;32m~/dev/new/osp-core/simphony_osp/utils/cache.py:137\u001b[0m, in \u001b[0;36mlru_cache_timestamp.<locals>.decorator.<locals>.wrapper\u001b[0;34m(self, *args, **kwargs)\u001b[0m\n\u001b[1;32m    135\u001b[0m     holder[\u001b[38;5;28mself\u001b[39m] \u001b[38;5;241m=\u001b[39m datetime\u001b[38;5;241m.\u001b[39mnow(), cached_function\n\u001b[0;32m--> 137\u001b[0m \u001b[38;5;28;01mreturn\u001b[39;00m \u001b[43mcached_function\u001b[49m\u001b[43m(\u001b[49m\u001b[38;5;28;43mself\u001b[39;49m\u001b[43m,\u001b[49m\u001b[43m \u001b[49m\u001b[38;5;241;43m*\u001b[39;49m\u001b[43margs\u001b[49m\u001b[43m,\u001b[49m\u001b[43m \u001b[49m\u001b[38;5;241;43m*\u001b[39;49m\u001b[38;5;241;43m*\u001b[39;49m\u001b[43mkwargs\u001b[49m\u001b[43m)\u001b[49m\n",
      "File \u001b[0;32m~/dev/new/osp-core/simphony_osp/utils/cache.py:30\u001b[0m, in \u001b[0;36mlru_cache_weak.<locals>.decorator.<locals>.wrapper\u001b[0;34m(self, *args, **kwargs)\u001b[0m\n\u001b[1;32m     28\u001b[0m \u001b[38;5;129m@wraps\u001b[39m(func)\n\u001b[1;32m     29\u001b[0m \u001b[38;5;28;01mdef\u001b[39;00m \u001b[38;5;21mwrapper\u001b[39m(\u001b[38;5;28mself\u001b[39m, \u001b[38;5;241m*\u001b[39margs, \u001b[38;5;241m*\u001b[39m\u001b[38;5;241m*\u001b[39mkwargs):\n\u001b[0;32m---> 30\u001b[0m     \u001b[38;5;28;01mreturn\u001b[39;00m \u001b[43m_cached\u001b[49m\u001b[43m(\u001b[49m\u001b[43mref\u001b[49m\u001b[43m(\u001b[49m\u001b[38;5;28;43mself\u001b[39;49m\u001b[43m)\u001b[49m\u001b[43m,\u001b[49m\u001b[43m \u001b[49m\u001b[38;5;241;43m*\u001b[39;49m\u001b[43margs\u001b[49m\u001b[43m,\u001b[49m\u001b[43m \u001b[49m\u001b[38;5;241;43m*\u001b[39;49m\u001b[38;5;241;43m*\u001b[39;49m\u001b[43mkwargs\u001b[49m\u001b[43m)\u001b[49m\n",
      "File \u001b[0;32m~/dev/new/osp-core/simphony_osp/utils/cache.py:26\u001b[0m, in \u001b[0;36mlru_cache_weak.<locals>.decorator.<locals>._cached\u001b[0;34m(_self_weak_ref, *args, **kwargs)\u001b[0m\n\u001b[1;32m     24\u001b[0m \u001b[38;5;129m@lru_cache\u001b[39m(maxsize\u001b[38;5;241m=\u001b[39mmaxsize, typed\u001b[38;5;241m=\u001b[39mtyped)\n\u001b[1;32m     25\u001b[0m \u001b[38;5;28;01mdef\u001b[39;00m \u001b[38;5;21m_cached\u001b[39m(_self_weak_ref, \u001b[38;5;241m*\u001b[39margs, \u001b[38;5;241m*\u001b[39m\u001b[38;5;241m*\u001b[39mkwargs):\n\u001b[0;32m---> 26\u001b[0m     \u001b[38;5;28;01mreturn\u001b[39;00m \u001b[43mfunc\u001b[49m\u001b[43m(\u001b[49m\u001b[43m_self_weak_ref\u001b[49m\u001b[43m(\u001b[49m\u001b[43m)\u001b[49m\u001b[43m,\u001b[49m\u001b[43m \u001b[49m\u001b[38;5;241;43m*\u001b[39;49m\u001b[43margs\u001b[49m\u001b[43m,\u001b[49m\u001b[43m \u001b[49m\u001b[38;5;241;43m*\u001b[39;49m\u001b[38;5;241;43m*\u001b[39;49m\u001b[43mkwargs\u001b[49m\u001b[43m)\u001b[49m\n",
      "File \u001b[0;32m~/dev/new/osp-core/simphony_osp/utils/cache.py:110\u001b[0m, in \u001b[0;36mlru_cache_timestamp.<locals>.decorator.<locals>.wrapper.<locals>.cached_function\u001b[0;34m(self_function, *args_function, **kwargs_function)\u001b[0m\n\u001b[1;32m    106\u001b[0m \u001b[38;5;129m@lru_cache_weak\u001b[39m(maxsize\u001b[38;5;241m=\u001b[39mmaxsize, typed\u001b[38;5;241m=\u001b[39mtyped)\n\u001b[1;32m    107\u001b[0m \u001b[38;5;28;01mdef\u001b[39;00m \u001b[38;5;21mcached_function\u001b[39m(\n\u001b[1;32m    108\u001b[0m     self_function, \u001b[38;5;241m*\u001b[39margs_function, \u001b[38;5;241m*\u001b[39m\u001b[38;5;241m*\u001b[39mkwargs_function\n\u001b[1;32m    109\u001b[0m ):\n\u001b[0;32m--> 110\u001b[0m     \u001b[38;5;28;01mreturn\u001b[39;00m \u001b[43mfunc\u001b[49m\u001b[43m(\u001b[49m\n\u001b[1;32m    111\u001b[0m \u001b[43m        \u001b[49m\u001b[43mself_function\u001b[49m\u001b[43m,\u001b[49m\u001b[43m \u001b[49m\u001b[38;5;241;43m*\u001b[39;49m\u001b[43margs_function\u001b[49m\u001b[43m,\u001b[49m\u001b[43m \u001b[49m\u001b[38;5;241;43m*\u001b[39;49m\u001b[38;5;241;43m*\u001b[39;49m\u001b[43mkwargs_function\u001b[49m\n\u001b[1;32m    112\u001b[0m \u001b[43m    \u001b[49m\u001b[43m)\u001b[49m\n",
      "File \u001b[0;32m~/dev/new/osp-core/simphony_osp/ontology/namespace.py:207\u001b[0m, in \u001b[0;36mOntologyNamespace.get\u001b[0;34m(self, name, default)\u001b[0m\n\u001b[1;32m    206\u001b[0m \u001b[38;5;28;01mif\u001b[39;00m default \u001b[38;5;129;01mis\u001b[39;00m \u001b[38;5;28;01mNone\u001b[39;00m:\n\u001b[0;32m--> 207\u001b[0m     \u001b[38;5;28;01mraise\u001b[39;00m \u001b[38;5;167;01mKeyError\u001b[39;00m(\n\u001b[1;32m    208\u001b[0m         \u001b[38;5;124mf\u001b[39m\u001b[38;5;124m\"\u001b[39m\u001b[38;5;124mNo entity with label or suffix \u001b[39m\u001b[38;5;132;01m{\u001b[39;00mname\u001b[38;5;132;01m}\u001b[39;00m\u001b[38;5;124m was found in \u001b[39m\u001b[38;5;124m\"\u001b[39m\n\u001b[1;32m    209\u001b[0m         \u001b[38;5;124mf\u001b[39m\u001b[38;5;124m\"\u001b[39m\u001b[38;5;124mnamespace \u001b[39m\u001b[38;5;132;01m{\u001b[39;00m\u001b[38;5;28mself\u001b[39m\u001b[38;5;132;01m}\u001b[39;00m\u001b[38;5;124m.\u001b[39m\u001b[38;5;124m\"\u001b[39m\n\u001b[1;32m    210\u001b[0m     )\n\u001b[1;32m    211\u001b[0m \u001b[38;5;28;01melse\u001b[39;00m:\n",
      "\u001b[0;31mKeyError\u001b[0m: 'No entity with label or suffix DomeDa was found in namespace domeo (https://dome40.eu/semantics/domeo#).'",
      "\nThe above exception was the direct cause of the following exception:\n",
      "\u001b[0;31mAttributeError\u001b[0m                            Traceback (most recent call last)",
      "Cell \u001b[0;32mIn[5], line 1\u001b[0m\n\u001b[0;32m----> 1\u001b[0m data_set\u001b[38;5;241m=\u001b[39m\u001b[43mdomeo\u001b[49m\u001b[38;5;241;43m.\u001b[39;49m\u001b[43mDomeDa\u001b[49m\n",
      "File \u001b[0;32m~/dev/new/osp-core/simphony_osp/ontology/namespace.py:81\u001b[0m, in \u001b[0;36mOntologyNamespace.__getattr__\u001b[0;34m(self, name)\u001b[0m\n\u001b[1;32m     79\u001b[0m     \u001b[38;5;28;01mreturn\u001b[39;00m \u001b[38;5;28mself\u001b[39m\u001b[38;5;241m.\u001b[39mget(name)\n\u001b[1;32m     80\u001b[0m \u001b[38;5;28;01mexcept\u001b[39;00m \u001b[38;5;167;01mKeyError\u001b[39;00m \u001b[38;5;28;01mas\u001b[39;00m e:\n\u001b[0;32m---> 81\u001b[0m     \u001b[38;5;28;01mraise\u001b[39;00m \u001b[38;5;167;01mAttributeError\u001b[39;00m(\u001b[38;5;28mstr\u001b[39m(e)) \u001b[38;5;28;01mfrom\u001b[39;00m \u001b[38;5;21;01me\u001b[39;00m\n",
      "\u001b[0;31mAttributeError\u001b[0m: 'No entity with label or suffix DomeDa was found in namespace domeo (https://dome40.eu/semantics/domeo#).'"
     ]
    }
   ],
   "source": [
    "domeo"
   ]
  },
  {
   "cell_type": "code",
   "execution_count": null,
   "id": "49a67e76-48ad-4bc5-a397-27f98ec9d8c6",
   "metadata": {},
   "outputs": [],
   "source": [
    "pretty_print(data_set)"
   ]
  },
  {
   "cell_type": "code",
   "execution_count": null,
   "id": "61221cc1-edcc-4297-bfb5-1c5091434f39",
   "metadata": {},
   "outputs": [],
   "source": [
    "semantic2dot(data_set)"
   ]
  },
  {
   "cell_type": "markdown",
   "id": "2f063981-3e94-4704-9d82-d0387653243d",
   "metadata": {},
   "source": [
    "- Let us attach to it all the parts according to D3.1  and D3.2"
   ]
  },
  {
   "cell_type": "code",
   "execution_count": null,
   "id": "d1d519eb-5cd1-40f7-8f35-8ce7100b1566",
   "metadata": {},
   "outputs": [],
   "source": [
    "title=dcterms.Title.iri\n",
    "title\n",
    "print(title)"
   ]
  },
  {
   "cell_type": "code",
   "execution_count": null,
   "id": "7752f01b-fe0b-423b-b5e5-88ec3c956b6e",
   "metadata": {},
   "outputs": [],
   "source": [
    "type(title)"
   ]
  },
  {
   "cell_type": "code",
   "execution_count": null,
   "id": "544d82e2-9d05-482c-b578-1974ccbcb54c",
   "metadata": {},
   "outputs": [],
   "source": [
    "# this is the simphony way\n",
    "res = sparql(\n",
    "    f\"\"\"SELECT ?s WHERE {{\n",
    "        ?s a owl:Class ;\n",
    "            rdfs:label ?label .\n",
    "            FILTER (CONTAINS(STR(?s), \"k\") || CONTAINS(STR(?label), \"k\"))\n",
    "    }}\n",
    "    \"\"\", ontology=True)"
   ]
  },
  {
   "cell_type": "code",
   "execution_count": null,
   "id": "25ab43c2-e1d7-4462-8e1b-3a27aabcf22c",
   "metadata": {},
   "outputs": [],
   "source": [
    "def search_ontology(some_string):\n",
    "    # this is the simphony way\n",
    "    res = sparql(\n",
    "        f\"\"\"SELECT ?s WHERE {{\n",
    "            ?s a owl:Class ;\n",
    "                rdfs:label ?label .\n",
    "                FILTER (CONTAINS(STR(?s), \"{some_string}\") || CONTAINS(STR(?label), \"{some_string}\"))\n",
    "        }}\n",
    "        \"\"\", ontology=True)\n",
    "    return json.loads(res.serialize(format=\"json\").decode(\"utf-8\"))"
   ]
  },
  {
   "cell_type": "code",
   "execution_count": null,
   "id": "9eccb155",
   "metadata": {},
   "outputs": [],
   "source": [
    "print(res.serialize(format=\"json\"))"
   ]
  },
  {
   "cell_type": "code",
   "execution_count": null,
   "id": "777b17bf-c534-4053-b4ed-f9ecf47b6eb7",
   "metadata": {},
   "outputs": [],
   "source": [
    "for i in res:\n",
    "    print(i)"
   ]
  },
  {
   "cell_type": "code",
   "execution_count": null,
   "id": "a6d26828-eae4-4a75-81be-b841ea93ebe3",
   "metadata": {},
   "outputs": [],
   "source": [
    "res=search_ontology(\"k\")"
   ]
  },
  {
   "cell_type": "code",
   "execution_count": null,
   "id": "d113131e-df99-4369-a7ea-a87637f36122",
   "metadata": {},
   "outputs": [],
   "source": [
    "res\n"
   ]
  },
  {
   "cell_type": "code",
   "execution_count": null,
   "id": "1b1883ef-948c-4e10-bec0-fc0b517d62c4",
   "metadata": {},
   "outputs": [],
   "source": [
    "res[\"results\"]['bindings']"
   ]
  },
  {
   "cell_type": "code",
   "execution_count": null,
   "id": "0bb47f8a-7b8e-4c32-b7dd-80ced7db2a9a",
   "metadata": {},
   "outputs": [],
   "source": [
    "def res2list(R, as_json=False):\n",
    "    results_list = []\n",
    "\n",
    "    for row in R:\n",
    "        # Using a dictionary comprehension to get the desired structure\n",
    "        row_dict = {key: str(value) for key, value in zip(['s', 'p', 'o'], row)}\n",
    "        results_list.append(row_dict)\n",
    "\n",
    "    if as_json:\n",
    "        return json.dumps(results_list, indent=4)\n",
    "    \n",
    "    return results_list"
   ]
  },
  {
   "cell_type": "code",
   "execution_count": null,
   "id": "d7a49684-8fc7-410d-89d3-1dd722668c15",
   "metadata": {},
   "outputs": [],
   "source": [
    "res2list(res)"
   ]
  },
  {
   "cell_type": "code",
   "execution_count": null,
   "id": "f50fb29e-6711-4cac-90f2-3a5cdbf6ec06",
   "metadata": {},
   "outputs": [],
   "source": [
    "def search_ontology(some_string):\n",
    "    # this is the simphony way\n",
    "    res = sparql(\n",
    "        f\"\"\"SELECT ?s WHERE {{\n",
    "            ?s a owl:Class ;\n",
    "                rdfs:label ?label ;\n",
    "                skos:preLabel ?prefLabel .\n",
    "                FILTER (CONTAINS(STR(?s), \"{some_string}\") || CONTAINS(STR(?label), \"{some_string}\") || CONTAINS(STR(?prefLabel), \"{some_string}\") )\n",
    "        }}\n",
    "        \"\"\", ontology=True)\n",
    "    return res2list(res)"
   ]
  },
  {
   "cell_type": "code",
   "execution_count": null,
   "id": "e3d4587e-8756-44e0-b39d-e31159c3a3ef",
   "metadata": {},
   "outputs": [],
   "source": [
    "res=search_ontology(\"t\")"
   ]
  },
  {
   "cell_type": "code",
   "execution_count": null,
   "id": "704d170b-d5b5-4e5d-9dfc-fa0e3828cb29",
   "metadata": {},
   "outputs": [],
   "source": [
    "res"
   ]
  },
  {
   "cell_type": "code",
   "execution_count": null,
   "id": "3d1a18b8-5c76-4127-9f19-4ab7f4a7f11a",
   "metadata": {},
   "outputs": [],
   "source": [
    "def search_ontology(some_string):\n",
    "    # this is the simphony way\n",
    "    res = sparql(\n",
    "        f\"\"\"SELECT ?s ?label ?prefLabel WHERE {{\n",
    "            ?s a owl:Class .\n",
    "            OPTIONAL {{ ?s rdfs:label ?label . }}\n",
    "            OPTIONAL {{ ?s skos:prefLabel ?prefLabel . }}\n",
    "            FILTER (\n",
    "                CONTAINS(STR(?s), \"{some_string}\") || \n",
    "                (BOUND(?label) && CONTAINS(STR(?label), \"{some_string}\")) || \n",
    "                (BOUND(?prefLabel) && CONTAINS(STR(?prefLabel), \"{some_string}\"))\n",
    "            )\n",
    "        }}\n",
    "        \"\"\", ontology=True)\n",
    "    return res2list(res)"
   ]
  },
  {
   "cell_type": "code",
   "execution_count": null,
   "id": "ae6a0cc1-7403-4607-9a86-042106af4aed",
   "metadata": {},
   "outputs": [],
   "source": [
    "res=search_ontology(\"title\")"
   ]
  },
  {
   "cell_type": "code",
   "execution_count": null,
   "id": "bc128eb5-92b8-4c8b-8938-0c5bb6c052f2",
   "metadata": {},
   "outputs": [],
   "source": [
    "res\n",
    "    "
   ]
  },
  {
   "cell_type": "code",
   "execution_count": null,
   "id": "c00cf437-a06e-48ab-91f3-27974b0baaaf",
   "metadata": {},
   "outputs": [],
   "source": [
    "def search_annotation(some_string):\n",
    "    # this is the simphony way\n",
    "    res = sparql(\n",
    "        f\"\"\"SELECT ?s ?label ?prefLabel WHERE {{\n",
    "            ?s a owl:Annotation .\n",
    "            OPTIONAL {{ ?s rdfs:label ?label . }}\n",
    "            OPTIONAL {{ ?s skos:prefLabel ?prefLabel . }}\n",
    "            FILTER (\n",
    "                CONTAINS(STR(?s), \"{some_string}\") || \n",
    "                (BOUND(?label) && CONTAINS(STR(?label), \"{some_string}\")) || \n",
    "                (BOUND(?prefLabel) && CONTAINS(STR(?prefLabel), \"{some_string}\"))\n",
    "            )\n",
    "        }}\n",
    "        \"\"\", ontology=True)\n",
    "    return res2list(res)"
   ]
  },
  {
   "cell_type": "code",
   "execution_count": null,
   "id": "65863e58-74e1-4c77-b359-c43237441f47",
   "metadata": {},
   "outputs": [],
   "source": [
    "res=search_ontology(\"title\")\n"
   ]
  },
  {
   "cell_type": "code",
   "execution_count": null,
   "id": "a976bbbb-660c-4f6e-9293-8c0e3dad26bb",
   "metadata": {},
   "outputs": [],
   "source": [
    "res"
   ]
  },
  {
   "cell_type": "code",
   "execution_count": null,
   "id": "3fa414af-5c4f-4a08-9689-58cec42578d1",
   "metadata": {},
   "outputs": [],
   "source": [
    "for i in data_set.annotations_iter():\n",
    "    i"
   ]
  },
  {
   "cell_type": "code",
   "execution_count": null,
   "id": "34b46746-7282-4638-885a-02fde28eb6b5",
   "metadata": {},
   "outputs": [],
   "source": [
    "t=dcterms.title\n"
   ]
  },
  {
   "cell_type": "code",
   "execution_count": null,
   "id": "aeb80fd8-cf87-415b-95b6-7245b02c3aa9",
   "metadata": {},
   "outputs": [],
   "source": [
    "t"
   ]
  },
  {
   "cell_type": "code",
   "execution_count": null,
   "id": "2248cc97-ce95-42fb-a77b-825f11979e27",
   "metadata": {},
   "outputs": [],
   "source": [
    "#annotations do not work and are evit semantically! \n",
    " data_set.connect(t, \"hello\")"
   ]
  },
  {
   "cell_type": "code",
   "execution_count": null,
   "id": "8be5ee41-6e65-4227-820a-3ddca5115d5e",
   "metadata": {},
   "outputs": [],
   "source": [
    "core_session.graph"
   ]
  },
  {
   "cell_type": "code",
   "execution_count": null,
   "id": "55103a7c-52cf-4464-8fe5-cf5b77b639f3",
   "metadata": {},
   "outputs": [],
   "source": [
    "for s, p, o in core_session.graph:\n",
    "    print(s, p, o)"
   ]
  },
  {
   "cell_type": "code",
   "execution_count": null,
   "id": "3b6440db-8ae6-4395-9a4f-c90aa15bc2b8",
   "metadata": {},
   "outputs": [],
   "source": [
    "core_session.graph.serialize(format=\"turtle\", destination=\"test.turtle\")"
   ]
  },
  {
   "cell_type": "code",
   "execution_count": null,
   "id": "46c30e22-c1ce-4769-a299-2dfe1e272617",
   "metadata": {},
   "outputs": [],
   "source": [
    "\n",
    "pwd\n"
   ]
  },
  {
   "cell_type": "code",
   "execution_count": null,
   "id": "f31256f4-4572-48a9-bf8d-7bb194a9f428",
   "metadata": {},
   "outputs": [],
   "source": [
    "import graphviz"
   ]
  },
  {
   "cell_type": "code",
   "execution_count": null,
   "id": "6363324d-a8a0-48fb-9b06-264f793e60b9",
   "metadata": {},
   "outputs": [],
   "source": [
    "graphviz.Source.from_file(\"/Users/adham/dev/new/dome/Ontology-matters/domeo/DomeDataSet.dot\")"
   ]
  },
  {
   "cell_type": "code",
   "execution_count": null,
   "id": "cc8d95fd-9486-4227-8fbc-f96ad4f2b008",
   "metadata": {},
   "outputs": [],
   "source": []
  },
  {
   "cell_type": "code",
   "execution_count": null,
   "id": "5ee10953-4f10-481e-b22c-4a336d93a492",
   "metadata": {},
   "outputs": [],
   "source": []
  },
  {
   "cell_type": "code",
   "execution_count": null,
   "id": "e9b4244d-7cc3-481b-befe-5712e7f858f8",
   "metadata": {},
   "outputs": [],
   "source": []
  }
 ],
 "metadata": {
  "kernelspec": {
   "display_name": ".env",
   "language": "python",
   "name": ".env"
  },
  "language_info": {
   "codemirror_mode": {
    "name": "ipython",
    "version": 3
   },
   "file_extension": ".py",
   "mimetype": "text/x-python",
   "name": "python",
   "nbconvert_exporter": "python",
   "pygments_lexer": "ipython3",
   "version": "3.11.3"
  }
 },
 "nbformat": 4,
 "nbformat_minor": 5
}
