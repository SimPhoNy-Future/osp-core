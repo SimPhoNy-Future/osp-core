{
 "cells": [
  {
   "cell_type": "code",
   "execution_count": 2,
   "id": "c459e742",
   "metadata": {},
   "outputs": [],
   "source": [
    "from simphony_osp.namespaces import city, rdfschema, dcoretbox, simphony\n",
    "from simphony_osp.namespaces import owl,foaf, emmo, domeo, dcterms, evmpo, eurosci, iof\n",
    "from simphony_osp.namespaces import http_method\n",
    "\n",
    "from simphony_osp.tools import semantic2dot, pretty_print\n",
    "from simphony_osp.tools import search,  export_file, import_file, pretty_print, search\n",
    "from simphony_osp.tools.search import sparql\n",
    "\n",
    "from simphony_osp.ontology import RESTRICTION_QUANTIFIER, RESTRICTION_TYPE, OntologyIndividual\n",
    "from simphony_osp.ontology import COMPOSITION_OPERATOR, Composition, Restriction\n",
    "\n",
    "from simphony_osp.ontology.relationship import OntologyRelationship\n",
    "from simphony_osp.ontology.annotation import OntologyAnnotation\n",
    "\n",
    "from simphony_osp.session import Session, core_session\n"
   ]
  },
  {
   "cell_type": "markdown",
   "id": "01fe10ab",
   "metadata": {},
   "source": [
    "# Data Attributes\n",
    "These are attributes that give infomration about the attributes of a CUDS entity. \n",
    "\n",
    "this is very much a w3c/Object oriented programming approach. \n",
    "\n",
    "Ideally we want to switch away from this and use Object properties with the univeral Quantity and related Object Properties. However, extraneous ontologies would still use it. Hence we need to tackle this as a first class citizin in the OSP eco system. \n",
    "\n",
    "A new method to list and query the attributes is needed, see ... [TODO: is this needed? I mean we do have the .attributes and .optional_attributes methods!] already. \n",
    "\n",
    "We create a few datasets relevant to DOME and export them into the sigraDB. \n",
    "\n",
    "## Tasks in this demonstration\n",
    "- [ ] create an instance of a `Platfrm` from the dome core ontology \n",
    "- [ ] query and set the attributes\n",
    "- [ ] change the attributes\n",
    "- [ ] do the same using index `[ ] ` notation\n",
    "- [ ] test another class\n",
    "\n",
    "### this is for the next one... \n",
    "Lets check how this is supported: \n",
    "<img src=\"./imgs/platform_catalogue_resource_service_MIRO_2022_10_12.jpg\" style=\"width:480px\">"
   ]
  },
  {
   "cell_type": "code",
   "execution_count": 3,
   "id": "e3575cc7",
   "metadata": {},
   "outputs": [],
   "source": [
    "p=dcoretbox.Platform()"
   ]
  },
  {
   "cell_type": "markdown",
   "id": "2d44794d",
   "metadata": {},
   "source": [
    "### Data Properties are supported by the OSP\n",
    "Data Properties (relation between a class and a data) are picked by OSP directly and can be used as python data attribtues (as opposed to the method attributes which are functions). Also note, that attributes here are simple data attributes, they do not have a setter/getter methods and are not defined as @property. (Property in the pythonic world is a method that is accessed as a data property without brackets). "
   ]
  },
  {
   "cell_type": "markdown",
   "id": "a10ebf93",
   "metadata": {},
   "source": [
    "Let us check what attributes are supported for the `Platform` class: "
   ]
  },
  {
   "cell_type": "code",
   "execution_count": 5,
   "id": "bd828fce",
   "metadata": {},
   "outputs": [
    {
     "data": {
      "text/plain": [
       "mappingproxy({})"
      ]
     },
     "execution_count": 5,
     "metadata": {},
     "output_type": "execute_result"
    }
   ],
   "source": [
    "dcoretbox.Platform.attributes"
   ]
  },
  {
   "cell_type": "code",
   "execution_count": 6,
   "id": "a22a21a3",
   "metadata": {
    "scrolled": false
   },
   "outputs": [
    {
     "data": {
      "text/plain": [
       "frozenset({<OntologyAttribute: has_platform_description https://dome40.eu/semantics/dome4.0_core#has_platform_description>,\n",
       "           <OntologyAttribute: has_platform_machine_query_information https://dome40.eu/semantics/dome4.0_core#has_platform_machine_query_information>,\n",
       "           <OntologyAttribute: has_platform_name https://dome40.eu/semantics/dome4.0_core#has_platform_name>,\n",
       "           <OntologyAttribute: has_platform_url https://dome40.eu/semantics/dome4.0_core#has_platform_url>,\n",
       "           <OntologyAttribute: has_platform_url_api_documentation https://dome40.eu/semantics/dome4.0_core#has_platform_url_api_documentation>,\n",
       "           <OntologyAttribute: has_platform_url_home https://dome40.eu/semantics/dome4.0_core#has_platform_url_home>,\n",
       "           <OntologyAttribute: has_platform_url_query_api https://dome40.eu/semantics/dome4.0_core#has_platform_url_query_api>,\n",
       "           <OntologyAttribute: has_some_free_product https://dome40.eu/semantics/dome4.0_core#has_some_free_product>,\n",
       "           <OntologyAttribute: is_sso_compatible https://dome40.eu/semantics/dome4.0_core#is_sso_compatible>})"
      ]
     },
     "execution_count": 6,
     "metadata": {},
     "output_type": "execute_result"
    }
   ],
   "source": [
    "dcoretbox.Platform.optional_attributes"
   ]
  },
  {
   "cell_type": "markdown",
   "id": "ddb7e715",
   "metadata": {},
   "source": [
    "We see that 'attributes' is an empty, however, there are a number of optional atributes. \n",
    "\n",
    "Lets print them in a more nice manner:"
   ]
  },
  {
   "cell_type": "code",
   "execution_count": 7,
   "id": "72c5d517",
   "metadata": {
    "scrolled": false
   },
   "outputs": [
    {
     "name": "stdout",
     "output_type": "stream",
     "text": [
      "--------------------------------------------------------------------------------\n",
      "Optional Property No.  1\n",
      "iri:  https://dome40.eu/semantics/dome4.0_core#has_platform_url_api_documentation\n",
      "type:  <class 'simphony_osp.ontology.attribute.OntologyAttribute'>\n",
      "label:  has_platform_url_api_documentation\n",
      "--------------------------------------------------------------------------------\n",
      "Optional Property No.  2\n",
      "iri:  https://dome40.eu/semantics/dome4.0_core#has_platform_url_query_api\n",
      "type:  <class 'simphony_osp.ontology.attribute.OntologyAttribute'>\n",
      "label:  has_platform_url_query_api\n",
      "--------------------------------------------------------------------------------\n",
      "Optional Property No.  3\n",
      "iri:  https://dome40.eu/semantics/dome4.0_core#has_platform_machine_query_information\n",
      "type:  <class 'simphony_osp.ontology.attribute.OntologyAttribute'>\n",
      "label:  has_platform_machine_query_information\n",
      "--------------------------------------------------------------------------------\n",
      "Optional Property No.  4\n",
      "iri:  https://dome40.eu/semantics/dome4.0_core#is_sso_compatible\n",
      "type:  <class 'simphony_osp.ontology.attribute.OntologyAttribute'>\n",
      "label:  is_sso_compatible\n",
      "--------------------------------------------------------------------------------\n",
      "Optional Property No.  5\n",
      "iri:  https://dome40.eu/semantics/dome4.0_core#has_platform_url\n",
      "type:  <class 'simphony_osp.ontology.attribute.OntologyAttribute'>\n",
      "label:  has_platform_url\n",
      "--------------------------------------------------------------------------------\n",
      "Optional Property No.  6\n",
      "iri:  https://dome40.eu/semantics/dome4.0_core#has_platform_url_home\n",
      "type:  <class 'simphony_osp.ontology.attribute.OntologyAttribute'>\n",
      "label:  has_platform_url_home\n",
      "--------------------------------------------------------------------------------\n",
      "Optional Property No.  7\n",
      "iri:  https://dome40.eu/semantics/dome4.0_core#has_some_free_product\n",
      "type:  <class 'simphony_osp.ontology.attribute.OntologyAttribute'>\n",
      "label:  has_some_free_product\n",
      "--------------------------------------------------------------------------------\n",
      "Optional Property No.  8\n",
      "iri:  https://dome40.eu/semantics/dome4.0_core#has_platform_description\n",
      "type:  <class 'simphony_osp.ontology.attribute.OntologyAttribute'>\n",
      "label:  has_platform_description\n",
      "--------------------------------------------------------------------------------\n",
      "Optional Property No.  9\n",
      "iri:  https://dome40.eu/semantics/dome4.0_core#has_platform_name\n",
      "type:  <class 'simphony_osp.ontology.attribute.OntologyAttribute'>\n",
      "label:  has_platform_name\n",
      "--------------------------------------------------------------------------------\n"
     ]
    }
   ],
   "source": [
    "n=1\n",
    "for i in dcoretbox.Platform.optional_attributes:\n",
    "    print(80*\"-\")\n",
    "    print(\"Optional Property No. \", n)\n",
    "    print(\"iri: \", i.iri) # remember the print activates the _repr__ method which used the label for the attribute in the print.\n",
    "    print (\"type: \", type(i))\n",
    "    print(\"label: \", i.label)\n",
    "\n",
    "    n+=1\n",
    "print(80*\"-\")"
   ]
  },
  {
   "cell_type": "markdown",
   "id": "46ead2e5",
   "metadata": {},
   "source": [
    "We note too many prefixes: `has_platform_....` why could we not use `has_a`?  why add information about the range of a relation in the relation itself? we should have this information encoded programatically the OSP way. One way is to covert these on the file internally in OSP to object properties, but when exporting export back to Data Properties (note the confusion in OWL data properties convert to python attributes!) [TODO: Make an issue for the core platform ontology and change this to make things more clean]\n",
    "\n"
   ]
  },
  {
   "cell_type": "markdown",
   "id": "563398d7",
   "metadata": {},
   "source": [
    "Lets do some simple more simple checks"
   ]
  },
  {
   "cell_type": "code",
   "execution_count": 8,
   "id": "759339c1",
   "metadata": {},
   "outputs": [
    {
     "data": {
      "text/plain": [
       "'has_platform_name'"
      ]
     },
     "execution_count": 8,
     "metadata": {},
     "output_type": "execute_result"
    }
   ],
   "source": [
    "i.label"
   ]
  },
  {
   "cell_type": "code",
   "execution_count": 9,
   "id": "aecb6db3",
   "metadata": {
    "scrolled": true
   },
   "outputs": [
    {
     "data": {
      "text/plain": [
       "mappingproxy({})"
      ]
     },
     "execution_count": 9,
     "metadata": {},
     "output_type": "execute_result"
    }
   ],
   "source": [
    "p.attributes"
   ]
  },
  {
   "cell_type": "markdown",
   "id": "4db83246",
   "metadata": {},
   "source": [
    "TODO: describe the `mappingproxy`"
   ]
  },
  {
   "cell_type": "markdown",
   "id": "55dae188",
   "metadata": {},
   "source": [
    "Using one of the examples from the official documentaiont, we could also do:"
   ]
  },
  {
   "cell_type": "code",
   "execution_count": 10,
   "id": "e067a44f",
   "metadata": {},
   "outputs": [
    {
     "name": "stdout",
     "output_type": "stream",
     "text": [
      "  - has_platform_url_api_documentation\n",
      "  - has_platform_url_query_api\n",
      "  - has_platform_machine_query_information\n",
      "  - is_sso_compatible\n",
      "  - has_platform_url\n",
      "  - has_platform_url_home\n",
      "  - has_some_free_product\n",
      "  - has_platform_description\n",
      "  - has_platform_name\n"
     ]
    }
   ],
   "source": [
    "for attribute in set(dcoretbox.Platform.attributes) | dcoretbox.Platform.optional_attributes:\n",
    "    print(f'  - {attribute}')"
   ]
  },
  {
   "attachments": {
    "image.png": {
     "image/png": "[encoded data removed]"
    }
   },
   "cell_type": "markdown",
   "id": "318f8dc9",
   "metadata": {},
   "source": [
    "Note these attributes (Data Properties in OWL) are the same as used for example in the \n",
    "`city` ontology. However, there there is a requirement in the ontology for exactly one attribute\n",
    "\n",
    "![image.png](attachment:image.png)"
   ]
  },
  {
   "cell_type": "code",
   "execution_count": 11,
   "id": "a2be55a4",
   "metadata": {},
   "outputs": [
    {
     "name": "stdout",
     "output_type": "stream",
     "text": [
      "  - age\n",
      "  - name\n"
     ]
    }
   ],
   "source": [
    "for attribute in set(city.Citizen.attributes) | city.Citizen.optional_attributes:\n",
    "    print(f'  - {attribute}')"
   ]
  },
  {
   "cell_type": "markdown",
   "id": "ea12779c",
   "metadata": {},
   "source": [
    "#### Access using dot notation"
   ]
  },
  {
   "cell_type": "code",
   "execution_count": 12,
   "id": "62ea5e4f",
   "metadata": {},
   "outputs": [],
   "source": [
    "p.is_sso_compatible=True"
   ]
  },
  {
   "cell_type": "code",
   "execution_count": 13,
   "id": "3259ae33",
   "metadata": {},
   "outputs": [
    {
     "name": "stdout",
     "output_type": "stream",
     "text": [
      "- Ontology individual named :\n",
      "  identifier: 2d09b331-69f0-4002-b0b7-19cab74894b1\n",
      "  type: Platform (dcoretbox )\n",
      "  superclasses: Platform (dcoretbox ), infrastructure (evmpo ), paradigmatic_entity (evmpo ), marketplace_related_entity (evmpo ), immanent_entity (evmpo ), Thing (owl )\n",
      "  values: \u0000is_sso_compatible: True\n"
     ]
    }
   ],
   "source": [
    "pretty_print(p)"
   ]
  },
  {
   "cell_type": "code",
   "execution_count": 19,
   "id": "17a27423",
   "metadata": {},
   "outputs": [],
   "source": [
    "p.has_platform_name=\"Marketplace\""
   ]
  },
  {
   "cell_type": "code",
   "execution_count": 20,
   "id": "f6a3fea7",
   "metadata": {},
   "outputs": [
    {
     "name": "stdout",
     "output_type": "stream",
     "text": [
      "- Ontology individual named :\n",
      "  identifier: 2d09b331-69f0-4002-b0b7-19cab74894b1\n",
      "  type: Platform (dcoretbox )\n",
      "  superclasses: Platform (dcoretbox ), infrastructure (evmpo ), paradigmatic_entity (evmpo ), marketplace_related_entity (evmpo ), immanent_entity (evmpo ), Thing (owl )\n",
      "  values: \u0000has_platform_name: Marketplace\n",
      "          \u0000is_sso_compatible: True\n"
     ]
    }
   ],
   "source": [
    "pretty_print(p)"
   ]
  },
  {
   "cell_type": "code",
   "execution_count": 21,
   "id": "679abb28",
   "metadata": {},
   "outputs": [
    {
     "data": {
      "image/svg+xml": [
       "<?xml version=\"1.0\" encoding=\"UTF-8\" standalone=\"no\"?>\n",
       "<!DOCTYPE svg PUBLIC \"-//W3C//DTD SVG 1.1//EN\"\n",
       " \"http://www.w3.org/Graphics/SVG/1.1/DTD/svg11.dtd\">\n",
       "<!-- Generated by graphviz version 8.0.5 (20230430.1635)\n",
       " -->\n",
       "<!-- Title: SimPhoNy semantic2dot Pages: 1 -->\n",
       "<svg width=\"303pt\" height=\"158pt\"\n",
       " viewBox=\"0.00 0.00 302.86 157.91\" xmlns=\"http://www.w3.org/2000/svg\" xmlns:xlink=\"http://www.w3.org/1999/xlink\">\n",
       "<g id=\"graph0\" class=\"graph\" transform=\"scale(1 1) rotate(0) translate(4 153.91)\">\n",
       "<title>SimPhoNy semantic2dot</title>\n",
       "<polygon fill=\"white\" stroke=\"none\" points=\"-4,4 -4,-153.91 298.86,-153.91 298.86,4 -4,4\"/>\n",
       "<!-- https___www.simphony&#45;osp.eu_entity#2d09b331&#45;69f0&#45;4002&#45;b0b7&#45;19cab74894b1 -->\n",
       "<g id=\"node1\" class=\"node\">\n",
       "<title>https___www.simphony&#45;osp.eu_entity#2d09b331&#45;69f0&#45;4002&#45;b0b7&#45;19cab74894b1</title>\n",
       "<ellipse fill=\"lightblue\" stroke=\"lightblue\" cx=\"147.43\" cy=\"-74.95\" rx=\"147.43\" ry=\"74.95\"/>\n",
       "<text text-anchor=\"start\" x=\"67.56\" y=\"-100.65\" font-family=\"Times,serif\" font-size=\"14.00\">classes: Platform (dcoretbox)</text>\n",
       "<text text-anchor=\"start\" x=\"81.06\" y=\"-78.15\" font-family=\"Times,serif\" font-size=\"14.00\">is_sso_compatible: True</text>\n",
       "<text text-anchor=\"start\" x=\"55.18\" y=\"-55.65\" font-family=\"Times,serif\" font-size=\"14.00\">has_platform_name: Marketplace</text>\n",
       "<text text-anchor=\"start\" x=\"88.93\" y=\"-33.15\" font-family=\"Times,serif\" font-size=\"14.00\">session: 0x10e6dbfe0</text>\n",
       "</g>\n",
       "</g>\n",
       "</svg>\n"
      ],
      "text/plain": [
       "<simphony_osp.tools.semantic2dot.Semantic2Dot at 0x17d819510>"
      ]
     },
     "execution_count": 21,
     "metadata": {},
     "output_type": "execute_result"
    }
   ],
   "source": [
    "semantic2dot(p)"
   ]
  },
  {
   "cell_type": "markdown",
   "id": "aa478b66",
   "metadata": {},
   "source": [
    "#### Access using index `[ ]` notation"
   ]
  },
  {
   "cell_type": "code",
   "execution_count": 22,
   "id": "199ccdc0",
   "metadata": {},
   "outputs": [
    {
     "name": "stdout",
     "output_type": "stream",
     "text": [
      "{True}\n"
     ]
    }
   ],
   "source": [
    "print(p['is_sso_compatible'])"
   ]
  },
  {
   "cell_type": "code",
   "execution_count": 23,
   "id": "bd192d4c",
   "metadata": {},
   "outputs": [],
   "source": [
    "p['is_sso_compatible']=False"
   ]
  },
  {
   "cell_type": "code",
   "execution_count": 24,
   "id": "c727265a",
   "metadata": {},
   "outputs": [
    {
     "name": "stdout",
     "output_type": "stream",
     "text": [
      "set()\n"
     ]
    }
   ],
   "source": [
    "print(p['is_sso_compatible'])"
   ]
  },
  {
   "cell_type": "markdown",
   "id": "f4cfa259",
   "metadata": {},
   "source": [
    "note the above is ok, it is a \"Falsy\", i.e, an empty set evaluates to False, this is not really good practice, but works for now. [WIP: revisit and change to proper  False]"
   ]
  },
  {
   "cell_type": "code",
   "execution_count": 33,
   "id": "af24e6e0",
   "metadata": {},
   "outputs": [],
   "source": [
    "if p['is_sso_compatible'] == False:\n",
    "    print(\"yes its False\")"
   ]
  },
  {
   "cell_type": "code",
   "execution_count": 39,
   "id": "fb74b0d9",
   "metadata": {},
   "outputs": [
    {
     "name": "stdout",
     "output_type": "stream",
     "text": [
      "yes its Falsy, i.e., empty set, but not Exactly equal to False. Always use the not form to check.\n"
     ]
    }
   ],
   "source": [
    "if not p['is_sso_compatible']:\n",
    "    print(\"yes its Falsy, i.e., empty set, but not Exactly equal to False. Always use the not form to check.\")"
   ]
  },
  {
   "cell_type": "code",
   "execution_count": null,
   "id": "0f4e6343",
   "metadata": {},
   "outputs": [],
   "source": []
  },
  {
   "cell_type": "code",
   "execution_count": null,
   "id": "ec98c51f",
   "metadata": {},
   "outputs": [],
   "source": [
    "pretty_print(p)"
   ]
  },
  {
   "cell_type": "code",
   "execution_count": null,
   "id": "e98e946e",
   "metadata": {},
   "outputs": [],
   "source": [
    "p.attributes"
   ]
  },
  {
   "cell_type": "code",
   "execution_count": null,
   "id": "af517072",
   "metadata": {},
   "outputs": [],
   "source": [
    "type(p[\"has_platform_name\"])"
   ]
  },
  {
   "cell_type": "code",
   "execution_count": null,
   "id": "d3f71f27",
   "metadata": {},
   "outputs": [],
   "source": [
    "type(p['is_sso_compatible'])"
   ]
  },
  {
   "cell_type": "code",
   "execution_count": null,
   "id": "8a88db76",
   "metadata": {},
   "outputs": [],
   "source": [
    "p[dcoretbox[\"is_sso_compatible\"]]=True"
   ]
  },
  {
   "cell_type": "code",
   "execution_count": null,
   "id": "b45611f1",
   "metadata": {},
   "outputs": [],
   "source": [
    "pretty_print(p)"
   ]
  },
  {
   "cell_type": "code",
   "execution_count": null,
   "id": "255cca10",
   "metadata": {},
   "outputs": [],
   "source": [
    "p['is_sso_compatible']"
   ]
  },
  {
   "cell_type": "code",
   "execution_count": null,
   "id": "5d00f12a",
   "metadata": {},
   "outputs": [],
   "source": [
    "p['is_sso_compatible']=False"
   ]
  },
  {
   "cell_type": "code",
   "execution_count": null,
   "id": "b13a1943",
   "metadata": {
    "scrolled": true
   },
   "outputs": [],
   "source": [
    "p['is_sso_compatible']"
   ]
  },
  {
   "cell_type": "code",
   "execution_count": null,
   "id": "c59c7ae5",
   "metadata": {},
   "outputs": [],
   "source": [
    "p['is_sso_compatible']=True"
   ]
  },
  {
   "cell_type": "code",
   "execution_count": null,
   "id": "c8cb4622",
   "metadata": {},
   "outputs": [],
   "source": [
    "p['is_sso_compatible']"
   ]
  },
  {
   "cell_type": "code",
   "execution_count": null,
   "id": "3ea36cbd",
   "metadata": {},
   "outputs": [],
   "source": [
    "print(p['is_sso_compatible'])"
   ]
  },
  {
   "cell_type": "code",
   "execution_count": null,
   "id": "2eee8103",
   "metadata": {},
   "outputs": [],
   "source": [
    "p['has_platform_name']"
   ]
  },
  {
   "cell_type": "code",
   "execution_count": null,
   "id": "c8778eaf",
   "metadata": {},
   "outputs": [],
   "source": [
    "p['has_platform_name']=\"VIMMP\""
   ]
  },
  {
   "cell_type": "code",
   "execution_count": null,
   "id": "e7fd510e",
   "metadata": {},
   "outputs": [],
   "source": [
    "p['has_platform_name']"
   ]
  },
  {
   "cell_type": "code",
   "execution_count": null,
   "id": "bcd5fb90",
   "metadata": {},
   "outputs": [],
   "source": []
  }
 ],
 "metadata": {
  "kernelspec": {
   "display_name": ".env",
   "language": "python",
   "name": ".env"
  },
  "language_info": {
   "codemirror_mode": {
    "name": "ipython",
    "version": 3
   },
   "file_extension": ".py",
   "mimetype": "text/x-python",
   "name": "python",
   "nbconvert_exporter": "python",
   "pygments_lexer": "ipython3",
   "version": "3.11.3"
  }
 },
 "nbformat": 4,
 "nbformat_minor": 5
}
