{
 "cells": [
  {
   "cell_type": "code",
   "execution_count": 4,
   "id": "c459e742",
   "metadata": {},
   "outputs": [
    {
     "name": "stderr",
     "output_type": "stream",
     "text": [
      "/var/folders/jd/j0s9pmrj0kg0ww159sk08ls40000gp/T/ipykernel_70123/174612537.py:21: DeprecationWarning: Importing display from IPython.core.display is deprecated since IPython 7.14, please import from IPython display\n",
      "  from IPython.core.display import display, HTML\n"
     ]
    }
   ],
   "source": [
    "from simphony_osp.namespaces import city, rdfschema, dcoretbox, simphony\n",
    "from simphony_osp.namespaces import owl,foaf, emmo, domeo, dcterms, evmpo, eurosci, iof\n",
    "from simphony_osp.namespaces import http_method\n",
    "\n",
    "from simphony_osp.tools import semantic2dot, pretty_print\n",
    "from simphony_osp.tools import search,  export_file, import_file, pretty_print, search\n",
    "from simphony_osp.tools.search import sparql\n",
    "\n",
    "from simphony_osp.ontology import RESTRICTION_QUANTIFIER, RESTRICTION_TYPE, OntologyIndividual\n",
    "from simphony_osp.ontology import COMPOSITION_OPERATOR, Composition, Restriction\n",
    "\n",
    "from simphony_osp.ontology.relationship import OntologyRelationship\n",
    "from simphony_osp.ontology.annotation import OntologyAnnotation\n",
    "\n",
    "from simphony_osp.session import Session, core_session\n",
    "import json, rdflib\n",
    "from rdflib import Graph, URIRef\n",
    "from rdflib.plugins.parsers.jsonld import to_rdf as json_to_rdf\n",
    "\n",
    "from json2html import *\n",
    "from IPython.core.display import display, HTML\n",
    "import pandas as pd\n"
   ]
  },
  {
   "cell_type": "markdown",
   "id": "d9b6c250-24cf-4c09-aa75-2fca8e3821cd",
   "metadata": {},
   "source": [
    "# CUDS DOME 4.0\n",
    "Create a DomeDataSet and connect it with all elements from the DOME 4.0 Data Set Ontology."
   ]
  },
  {
   "cell_type": "code",
   "execution_count": 5,
   "id": "a59b4c06",
   "metadata": {},
   "outputs": [],
   "source": [
    "# Load the DOME 4.0 A-BOX\n",
    "SIGRA_ROOT='/Users/adham/dev/new/dome/Ontology-matters/'"
   ]
  },
  {
   "cell_type": "code",
   "execution_count": 6,
   "id": "75c28e45",
   "metadata": {},
   "outputs": [],
   "source": [
    "core_session.clear()"
   ]
  },
  {
   "cell_type": "code",
   "execution_count": 7,
   "id": "4cd6e19d",
   "metadata": {},
   "outputs": [
    {
     "data": {
      "text/plain": [
       "{<OntologyIndividual: AiiDA export file https://dome40.eu/semantics/dome4.0_core#AIIDA_FORMAT>,\n",
       " <OntologyIndividual: CAS Number https://dome40.eu/semantics/dome4.0_core#CAS_NUMBER>,\n",
       " <OntologyIndividual: CHEMEO https://dome40.eu/semantics/scenario/platforms#CHEMEO>,\n",
       " <OntologyIndividual: CONSUMER https://dome40.eu/semantics/dome4.0_core#CONSUMER>,\n",
       " <OntologyIndividual: CRYSTALLOGRAPHY https://dome40.eu/semantics/scenario/platforms#CRYSTALLOGRAPHY>,\n",
       " <OntologyIndividual: Cartography https://dome40.eu/semantics/dome4.0_core#CARTOGRAPHY>,\n",
       " <OntologyIndividual: Comma-separated Values (CSV) https://dome40.eu/semantics/dome4.0_core#CSV>,\n",
       " <OntologyIndividual: Compare https://dome40.eu/semantics/dome4.0_core#COMPARE>,\n",
       " <OntologyIndividual: Crystallographic Information Framework (CIF) - Model and format https://dome40.eu/semantics/dome4.0_core#CIF>,\n",
       " <OntologyIndividual: DATA_ON_DEMAND_PROVIDER https://dome40.eu/semantics/dome4.0_core#DATA_ON_DEMAND_PROVIDER>,\n",
       " <OntologyIndividual: DATA_PROVIDER https://dome40.eu/semantics/dome4.0_core#DATA_PROVIDER>,\n",
       " <OntologyIndividual: DOME 4.0 Consortium https://dome40.eu/semantics/scenario/platforms#DOME4.0_CONSORTIUM>,\n",
       " <OntologyIndividual: DOME4.0 https://dome40.eu/semantics/scenario/platforms#DOME4.0>,\n",
       " <OntologyIndividual: Download https://dome40.eu/semantics/dome4.0_core#DOWNLOAD>,\n",
       " <OntologyIndividual: EC Number https://dome40.eu/semantics/dome4.0_core#EC_NUMBER>,\n",
       " <OntologyIndividual: EXAMPLE_DOME_FLAT_SUBSCRIPTION_CHEMEO_MATERIALSPROJECT https://dome40.eu/semantics/scenario/platforms#EXAMPLE_DOME_FLAT_SUBSCRIPTION_CHEMEO_MATERIALSPROJECT>,\n",
       " <OntologyIndividual: EXAMPLE_DOME_SUBSCRIPTION_BY_USAGE_CHEMEO_MATERIALSPROJECT https://dome40.eu/semantics/scenario/platforms#EXAMPLE_DOME_SUBSCRIPTION_BY_USAGE_CHEMEO_MATERIALSPROJECT>,\n",
       " <OntologyIndividual: Engineering and technology https://dome40.eu/semantics/dome4.0_core#ENGINEERING_AND_TECHNOLOGY>,\n",
       " <OntologyIndividual: Equipment https://dome40.eu/semantics/dome4.0_core#EQUIPMENT>,\n",
       " <OntologyIndividual: Evaluate FAIRness https://dome40.eu/semantics/dome4.0_core#EVALUATE_FAIRNESS>,\n",
       " <OntologyIndividual: Experimental Data https://dome40.eu/semantics/dome4.0_core#EXPERIMENTAL_DATA>,\n",
       " <OntologyIndividual: Extract https://dome40.eu/semantics/dome4.0_core#EXTRACT>,\n",
       " <OntologyIndividual: Geographic Tagged Image File Format (GeoTIFF) https://dome40.eu/semantics/dome4.0_core#GEOTIFF>,\n",
       " <OntologyIndividual: IDS (International Data Space) API specification https://dome40.eu/semantics/dome4.0_core#IDS_API_SPECIFICATION>,\n",
       " <OntologyIndividual: INTERACTIVE_APP_PROVIDER https://dome40.eu/semantics/dome4.0_core#INTERACTIVE_APP_PROVIDER>,\n",
       " <OntologyIndividual: IUPAC InChi https://dome40.eu/semantics/dome4.0_core#IUPAC_INCHI>,\n",
       " <OntologyIndividual: JavaScript Object Notation (JSON) https://dome40.eu/semantics/dome4.0_core#JSON>,\n",
       " <OntologyIndividual: JavaScript Object Notation for Linking Data (JSON-LD) https://dome40.eu/semantics/dome4.0_core#JSON-LD>,\n",
       " <OntologyIndividual: Joint Photographic Experts Group Format (JPEG) https://dome40.eu/semantics/dome4.0_core#JPEG>,\n",
       " <OntologyIndividual: List of API spefications https://dome40.eu/semantics/dome4.0_core#LIST_OF_STANDARD_API_SPECIFICATIONS>,\n",
       " <OntologyIndividual: List of data actions https://dome40.eu/semantics/dome4.0_core#LIST_OF_DATA_ACTIONS>,\n",
       " <OntologyIndividual: List of file formats https://dome40.eu/semantics/dome4.0_core#LIST_OF_FILE_FORMATS>,\n",
       " <OntologyIndividual: List of product types (i.e., the types found on DOME 4.0) https://dome40.eu/semantics/dome4.0_core#LIST_OF_PRODUCT_TYPES>,\n",
       " <OntologyIndividual: List of search actions https://dome40.eu/semantics/dome4.0_core#LIST_OF_SEARCH_ACTIONS>,\n",
       " <OntologyIndividual: List of topics https://dome40.eu/semantics/dome4.0_core#LIST_OF_TOPICS>,\n",
       " <OntologyIndividual: List of widely used standard identifiers for the materials and manufacturing domain. https://dome40.eu/semantics/dome4.0_core#LIST_OF_STANDARD_IDENTIFIERS>,\n",
       " <OntologyIndividual: MARKET4.0 https://dome40.eu/semantics/scenario/platforms#MARKET4.0>,\n",
       " <OntologyIndividual: MATERIALSPROJECT https://dome40.eu/semantics/scenario/platforms#MATERIALSPROJECT>,\n",
       " <OntologyIndividual: Material Property https://dome40.eu/semantics/dome4.0_core#MATERIAL_PROPERTY>,\n",
       " <OntologyIndividual: Medical and health sciences https://dome40.eu/semantics/dome4.0_core#MEDICAL_AND_HEALTH_SCIENCES>,\n",
       " <OntologyIndividual: Meteorology https://dome40.eu/semantics/dome4.0_core#METEOROLOGY>,\n",
       " <OntologyIndividual: Microsoft Excel format (XLSX) https://dome40.eu/semantics/dome4.0_core#XLSX>,\n",
       " <OntologyIndividual: Modelling Data https://dome40.eu/semantics/dome4.0_core#MODELLING_DATA>,\n",
       " <OntologyIndividual: NOMAD https://dome40.eu/semantics/scenario/platforms#NOMAD>,\n",
       " <OntologyIndividual: Natural sciences https://dome40.eu/semantics/dome4.0_core#NATURAL_SCIENCES>,\n",
       " <OntologyIndividual: Navigation systems https://dome40.eu/semantics/dome4.0_core#NAVIGATION_SYSTEMS>,\n",
       " <OntologyIndividual: OPEN_DATABASE_XTALS https://dome40.eu/semantics/scenario/platforms#OPEN_DATABASE_XTALS>,\n",
       " <OntologyIndividual: OPTIMADE API specification https://dome40.eu/semantics/dome4.0_core#OPTIMADE_API_SPECIFICATION>,\n",
       " <OntologyIndividual: Observational Data https://dome40.eu/semantics/dome4.0_core#OBSERVATIONAL_DATA>,\n",
       " <OntologyIndividual: POPULATE_TEST_PLATFORM_OPERATION https://dome40.eu/semantics/scenario/platforms#POPULATE_TEST_PLATFORM_OPERATION>,\n",
       " <OntologyIndividual: POPULATE_TEST_PLATFORM_SERVICE https://dome40.eu/semantics/scenario/platforms#POPULATE_TEST_PLATFORM_SERVICE>,\n",
       " <OntologyIndividual: PUBCHEM https://dome40.eu/semantics/scenario/platforms#PUBCHEM>,\n",
       " <OntologyIndividual: Patent https://dome40.eu/semantics/dome4.0_core#PATENT>,\n",
       " <OntologyIndividual: Portable Network Graphics (PNG) https://dome40.eu/semantics/dome4.0_core#PNG>,\n",
       " <OntologyIndividual: Portable document format (PDF) https://dome40.eu/semantics/dome4.0_core#PDF>,\n",
       " <OntologyIndividual: Preview https://dome40.eu/semantics/dome4.0_core#PREVIEW>,\n",
       " <OntologyIndividual: Publication https://dome40.eu/semantics/dome4.0_core#PUBLICATION>,\n",
       " <OntologyIndividual: RDF/XML https://dome40.eu/semantics/dome4.0_core#RDF_XML>,\n",
       " <OntologyIndividual: RETRIEVE_FROM_TEST_PLATFORM_OPERATION https://dome40.eu/semantics/scenario/platforms#RETRIEVE_FROM_TEST_PLATFORM_OPERATION>,\n",
       " <OntologyIndividual: RETRIEVE_FROM_TEST_PLATFORM_SERVICE https://dome40.eu/semantics/scenario/platforms#RETRIEVE_FROM_TEST_PLATFORM_SERVICE>,\n",
       " <OntologyIndividual: Raw Material https://dome40.eu/semantics/dome4.0_core#RAW_MATERIAL>,\n",
       " <OntologyIndividual: Resource Description Framework (RDF) https://dome40.eu/semantics/dome4.0_core#RDF>,\n",
       " <OntologyIndividual: SMILES https://dome40.eu/semantics/dome4.0_core#SMILES>,\n",
       " <OntologyIndividual: Sea vessels https://dome40.eu/semantics/dome4.0_core#SEA_VESSELS>,\n",
       " <OntologyIndividual: Search by exact string match https://dome40.eu/semantics/dome4.0_core#SEARCH_BY_EXACT_STRING_MATCH>,\n",
       " <OntologyIndividual: Search with filter https://dome40.eu/semantics/dome4.0_core#SEARCH_WITH_FILTER>,\n",
       " <OntologyIndividual: Search with logical operator https://dome40.eu/semantics/dome4.0_core#SEARCH_WITH_LOGICAL_OPERATOR>,\n",
       " <OntologyIndividual: Search with wild card https://dome40.eu/semantics/dome4.0_core#SEARCH_WITH_WILD_CARD>,\n",
       " <OntologyIndividual: Simulate https://dome40.eu/semantics/dome4.0_core#SIMULATE>,\n",
       " <OntologyIndividual: Software https://dome40.eu/semantics/dome4.0_core#SOFTWARE>,\n",
       " <OntologyIndividual: Standard for the Exchange of Product (STEP) Data https://dome40.eu/semantics/dome4.0_core#STEP>,\n",
       " <OntologyIndividual: TEST_CATALOG https://dome40.eu/semantics/scenario/platforms#TEST_CATALOG>,\n",
       " <OntologyIndividual: TEST_PLATFORM https://dome40.eu/semantics/scenario/platforms#TEST_PLATFORM>,\n",
       " <OntologyIndividual: THEORETICAL_CRYSTALLOGRAPHY_OPEN_DATABASE https://dome40.eu/semantics/scenario/platforms#THEORETICAL_CRYSTALLOGRAPHY_OPEN_DATABASE>,\n",
       " <OntologyIndividual: THE_OPEN_QUANTUM_MATERIALS https://dome40.eu/semantics/scenario/platforms#THE_OPEN_QUANTUM_MATERIALS>,\n",
       " <OntologyIndividual: TUNNEL_WITH_TEST_PLATFORM_SERVICE https://dome40.eu/semantics/scenario/platforms#TUNNEL_WITH_TEST_PLATFORM_SERVICE>,\n",
       " <OntologyIndividual: Terse RDF Triple Language (Turtle or TTL) https://dome40.eu/semantics/dome4.0_core#TTL>,\n",
       " <OntologyIndividual: Topography https://dome40.eu/semantics/dome4.0_core#TOPOGRAPHY>,\n",
       " <OntologyIndividual: Transform https://dome40.eu/semantics/dome4.0_core#TRANSFORM>,\n",
       " <OntologyIndividual: Update https://dome40.eu/semantics/dome4.0_core#UPDATE>,\n",
       " <OntologyIndividual: Upload https://dome40.eu/semantics/dome4.0_core#UPLOAD>,\n",
       " <OntologyIndividual: View https://dome40.eu/semantics/dome4.0_core#VIEW>,\n",
       " <OntologyIndividual: Web Ontology Language (OWL) - Model and format https://dome40.eu/semantics/dome4.0_core#OWL>,\n",
       " <OntologyIndividual: XYZ atomistic data https://dome40.eu/semantics/dome4.0_core#XYZ>}"
      ]
     },
     "execution_count": 7,
     "metadata": {},
     "output_type": "execute_result"
    }
   ],
   "source": [
    "import_file(SIGRA_ROOT+'dome4.0_core_abox.ttl', all_triples=True)"
   ]
  },
  {
   "cell_type": "markdown",
   "id": "aedf2da8",
   "metadata": {},
   "source": [
    "## Demonstrate SPARQL query accroding to type: find all platforms"
   ]
  },
  {
   "cell_type": "code",
   "execution_count": 9,
   "id": "91941a1f",
   "metadata": {},
   "outputs": [],
   "source": [
    "# query all triplets that define the type of the object, i.e, the object is type, \n",
    "# and the predicte is the IRI of a platform from teh core ontolgy in this case. \n",
    "\n",
    "result_platforms = sparql(\n",
    "    f\"\"\"SELECT ?s ?p ?o WHERE {{\n",
    "        ?s rdf:type <{dcoretbox.platform.identifier}>  .\n",
    "        \n",
    "    }}\n",
    "    \"\"\")"
   ]
  },
  {
   "cell_type": "code",
   "execution_count": 16,
   "id": "9eccb155",
   "metadata": {},
   "outputs": [
    {
     "name": "stdout",
     "output_type": "stream",
     "text": [
      "b'{\"results\": {\"bindings\": [{\"s\": {\"type\": \"uri\", \"value\": \"https://dome40.eu/semantics/scenario/platforms#CHEMEO\"}}, {\"s\": {\"type\": \"uri\", \"value\": \"https://dome40.eu/semantics/scenario/platforms#TEST_PLATFORM\"}}, {\"s\": {\"type\": \"uri\", \"value\": \"https://dome40.eu/semantics/scenario/platforms#CRYSTALLOGRAPHY\"}}, {\"s\": {\"type\": \"uri\", \"value\": \"https://dome40.eu/semantics/scenario/platforms#TEST_CATALOG\"}}, {\"s\": {\"type\": \"uri\", \"value\": \"https://dome40.eu/semantics/scenario/platforms#MARKET4.0\"}}, {\"s\": {\"type\": \"uri\", \"value\": \"https://dome40.eu/semantics/scenario/platforms#MATERIALSPROJECT\"}}, {\"s\": {\"type\": \"uri\", \"value\": \"https://dome40.eu/semantics/scenario/platforms#PUBCHEM\"}}, {\"s\": {\"type\": \"uri\", \"value\": \"https://dome40.eu/semantics/scenario/platforms#DOME4.0\"}}, {\"s\": {\"type\": \"uri\", \"value\": \"https://dome40.eu/semantics/scenario/platforms#NOMAD\"}}, {\"s\": {\"type\": \"uri\", \"value\": \"https://dome40.eu/semantics/scenario/platforms#THEORETICAL_CRYSTALLOGRAPHY_OPEN_DATABASE\"}}, {\"s\": {\"type\": \"uri\", \"value\": \"https://dome40.eu/semantics/scenario/platforms#THE_OPEN_QUANTUM_MATERIALS\"}}, {\"s\": {\"type\": \"uri\", \"value\": \"https://dome40.eu/semantics/scenario/platforms#OPEN_DATABASE_XTALS\"}}]}, \"head\": {\"vars\": [\"s\", \"p\", \"o\"]}}'\n"
     ]
    }
   ],
   "source": [
    "print(result_platforms.serialize(format=\"json\"))"
   ]
  },
  {
   "cell_type": "code",
   "execution_count": 18,
   "id": "1784ee16-cb7f-44b2-bc60-35ba0ac73ced",
   "metadata": {},
   "outputs": [
    {
     "name": "stdout",
     "output_type": "stream",
     "text": [
      "https://dome40.eu/semantics/scenario/platforms#CHEMEO None None\n",
      "https://dome40.eu/semantics/scenario/platforms#TEST_PLATFORM None None\n",
      "https://dome40.eu/semantics/scenario/platforms#CRYSTALLOGRAPHY None None\n",
      "https://dome40.eu/semantics/scenario/platforms#TEST_CATALOG None None\n",
      "https://dome40.eu/semantics/scenario/platforms#MARKET4.0 None None\n",
      "https://dome40.eu/semantics/scenario/platforms#MATERIALSPROJECT None None\n",
      "https://dome40.eu/semantics/scenario/platforms#PUBCHEM None None\n",
      "https://dome40.eu/semantics/scenario/platforms#DOME4.0 None None\n",
      "https://dome40.eu/semantics/scenario/platforms#NOMAD None None\n",
      "https://dome40.eu/semantics/scenario/platforms#THEORETICAL_CRYSTALLOGRAPHY_OPEN_DATABASE None None\n",
      "https://dome40.eu/semantics/scenario/platforms#THE_OPEN_QUANTUM_MATERIALS None None\n",
      "https://dome40.eu/semantics/scenario/platforms#OPEN_DATABASE_XTALS None None\n"
     ]
    }
   ],
   "source": [
    "for s, p, o in result_platforms:\n",
    "    print(s, p, o)"
   ]
  },
  {
   "cell_type": "code",
   "execution_count": null,
   "id": "cc8256b9-2f8c-49eb-b4ed-c07ca554d2b9",
   "metadata": {},
   "outputs": [],
   "source": []
  }
 ],
 "metadata": {
  "kernelspec": {
   "display_name": ".env",
   "language": "python",
   "name": ".env"
  },
  "language_info": {
   "codemirror_mode": {
    "name": "ipython",
    "version": 3
   },
   "file_extension": ".py",
   "mimetype": "text/x-python",
   "name": "python",
   "nbconvert_exporter": "python",
   "pygments_lexer": "ipython3",
   "version": "3.11.3"
  }
 },
 "nbformat": 4,
 "nbformat_minor": 5
}
