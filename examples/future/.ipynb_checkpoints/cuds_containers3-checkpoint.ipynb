{
 "cells": [
  {
   "cell_type": "code",
   "execution_count": 1,
   "id": "c459e742",
   "metadata": {},
   "outputs": [],
   "source": [
    "from simphony_osp.namespaces import city, owl,foaf, rdfs, emmo, domeo, dcterms, dome4core, evmpo\n",
    "\n",
    "from simphony_osp.tools import semantic2dot, pretty_print\n",
    "from simphony_osp.tools import search,  export_file, import_file, pretty_print, search\n",
    "from simphony_osp.tools.search import sparql\n",
    "\n",
    "from simphony_osp.ontology import RESTRICTION_QUANTIFIER, RESTRICTION_TYPE, OntologyIndividual\n",
    "from simphony_osp.ontology import COMPOSITION_OPERATOR, Composition, Restriction\n",
    "\n",
    "from simphony_osp.ontology.relationship import OntologyRelationship\n",
    "\n",
    "from simphony_osp.session import Session, core_session\n"
   ]
  },
  {
   "cell_type": "markdown",
   "id": "01fe10ab",
   "metadata": {},
   "source": [
    "# Purpose\n",
    "Test a container with as realistic as possible ontology. \n",
    "we start by creating a domeo ontology, which is emmo + eco system one, + dataset. Teh dataset ontology becomes simply a container which defines a donme_data_Set container and says exactly what should be in it. It will be a CUDS subclass. CUDS are containers all the way. \n",
    "\n",
    "- [ ] Get emmo inferred loaded into the domeo with all the other needed packages. \n",
    "- [X] Test if in simphony we can mix s, p, o from three different ontologies!\n"
   ]
  },
  {
   "cell_type": "code",
   "execution_count": 2,
   "id": "92f861b0",
   "metadata": {},
   "outputs": [],
   "source": [
    "x=emmo.DataSet()"
   ]
  },
  {
   "cell_type": "code",
   "execution_count": 3,
   "id": "db307189",
   "metadata": {},
   "outputs": [
    {
     "data": {
      "text/plain": [
       "<OntologyIndividual:  eb991cff-c983-4bcc-a248-0e468050be48>"
      ]
     },
     "execution_count": 3,
     "metadata": {},
     "output_type": "execute_result"
    }
   ],
   "source": [
    "x"
   ]
  },
  {
   "cell_type": "code",
   "execution_count": 4,
   "id": "a26ec390",
   "metadata": {},
   "outputs": [],
   "source": [
    "y=domeo.DomeDataSet()"
   ]
  },
  {
   "cell_type": "code",
   "execution_count": 5,
   "id": "05e91a69",
   "metadata": {},
   "outputs": [
    {
     "data": {
      "text/plain": [
       "<OntologyIndividual:  3decd829-4af8-415e-a067-2a9dbfb87382>"
      ]
     },
     "execution_count": 5,
     "metadata": {},
     "output_type": "execute_result"
    }
   ],
   "source": [
    "y"
   ]
  },
  {
   "cell_type": "code",
   "execution_count": 6,
   "id": "910ee100",
   "metadata": {
    "scrolled": true
   },
   "outputs": [
    {
     "name": "stdout",
     "output_type": "stream",
     "text": [
      "- Ontology individual named :\n",
      "  identifier: eb991cff-c983-4bcc-a248-0e468050be48\n",
      "  type: DataSet (emmo )\n",
      "  superclasses: DataSet (emmo ), EncodedData (emmo ), Data (emmo ), Perspective (emmo ), CausalStructure (emmo ), Item (emmo ), EMMO (emmo ), CUDS (domeo ), Thing (owl )\n"
     ]
    }
   ],
   "source": [
    "pretty_print(x)"
   ]
  },
  {
   "cell_type": "code",
   "execution_count": 7,
   "id": "f702157b",
   "metadata": {},
   "outputs": [
    {
     "name": "stdout",
     "output_type": "stream",
     "text": [
      "frozenset({<Composition:  N00e934e00da8442f9585bc823a54be8f>, <Composition:  N631a192d912148ea8761646bc995c27d>, <Composition:  N1e03550e01e44252be66a1b36f1e6df6>, <Restriction:  N9414cfcc3dca4cf39a3f0914a00fe794>, <Restriction:  N927646b4d0ae4ede8f3924a120c55725>, <Composition:  N0ad059ab9a19445381485ffecfd24250>, <Composition:  Na412e845e7f44d9780da162fe60e4158>, <Restriction:  Nf181caff758e405681bbc2a5e3811add>})\n"
     ]
    }
   ],
   "source": [
    "x1=emmo.DataSet\n",
    "print(x1.axioms)"
   ]
  },
  {
   "cell_type": "code",
   "execution_count": 8,
   "id": "f5a7bdda",
   "metadata": {},
   "outputs": [
    {
     "name": "stdout",
     "output_type": "stream",
     "text": [
      "- Ontology individual named :\n",
      "  identifier: 3decd829-4af8-415e-a067-2a9dbfb87382\n",
      "  type: DomeDataSet (domeo )\n",
      "  superclasses: DomeDataSet (domeo ), DataSet (emmo ), EncodedData (emmo ), Data (emmo ), Perspective (emmo ), CausalStructure (emmo ), Item (emmo ), EMMO (emmo ), CUDS (domeo ), Thing (owl )\n"
     ]
    }
   ],
   "source": [
    "pretty_print(y)"
   ]
  },
  {
   "cell_type": "code",
   "execution_count": 9,
   "id": "a16b6706",
   "metadata": {},
   "outputs": [],
   "source": [
    "z=domeo.CUDS()"
   ]
  },
  {
   "cell_type": "code",
   "execution_count": 10,
   "id": "923ed9b4",
   "metadata": {},
   "outputs": [
    {
     "name": "stdout",
     "output_type": "stream",
     "text": [
      "- Ontology individual named :\n",
      "  identifier: 0baab788-9d4f-46d0-b49e-ba679f097979\n",
      "  type: CUDS (domeo )\n",
      "  superclasses: CUDS (domeo ), Thing (owl )\n"
     ]
    }
   ],
   "source": [
    "pretty_print(z)"
   ]
  },
  {
   "cell_type": "code",
   "execution_count": 11,
   "id": "b80d875d",
   "metadata": {},
   "outputs": [],
   "source": [
    "w=domeo.Tier1()"
   ]
  },
  {
   "cell_type": "code",
   "execution_count": 12,
   "id": "9d654fd0",
   "metadata": {},
   "outputs": [
    {
     "name": "stdout",
     "output_type": "stream",
     "text": [
      "- Ontology individual named :\n",
      "  identifier: 124a86f5-2cab-4a83-b4df-a4ffbe74448b\n",
      "  type: Tier1 (domeo )\n",
      "  superclasses: Tier1 (domeo ), Tier (domeo ), Scale (domeo ), Value (domeo ), CUDS (domeo ), Thing (owl )\n"
     ]
    }
   ],
   "source": [
    "pretty_print(w)"
   ]
  },
  {
   "cell_type": "code",
   "execution_count": 13,
   "id": "74308afc",
   "metadata": {},
   "outputs": [],
   "source": [
    "q=dome4core.data_schema()"
   ]
  },
  {
   "cell_type": "code",
   "execution_count": 14,
   "id": "d452d39e",
   "metadata": {},
   "outputs": [
    {
     "name": "stdout",
     "output_type": "stream",
     "text": [
      "- Ontology individual named :\n",
      "  identifier: 559614a4-eb65-44d0-b5dd-7bb22e3b5178\n",
      "  type: Data schema (dome4core )\n",
      "  superclasses: Data schema (dome4core ), information_content_entity (evmpo ), paradigmatic_entity (evmpo ), marketplace_related_entity (evmpo ), immanent_entity (evmpo ), Thing (owl )\n"
     ]
    }
   ],
   "source": [
    "pretty_print(q)"
   ]
  },
  {
   "cell_type": "markdown",
   "id": "a700a75b",
   "metadata": {},
   "source": [
    "WIP: add preflabel to all ontologies that use identifier. this will solve the None above, additionally we look into it in SimPhoNy, to be more smarter. see https://github.com/SimPhoNy-Future/osp-core/issues/14 and https://github.com/SimPhoNy-Future/osp-core/issues/13 and https://github.com/SimPhoNy-Future/osp-core/issues/21"
   ]
  },
  {
   "cell_type": "code",
   "execution_count": 15,
   "id": "d2d7d052",
   "metadata": {},
   "outputs": [],
   "source": [
    "q=evmpo.agent()\n"
   ]
  },
  {
   "cell_type": "code",
   "execution_count": 16,
   "id": "b1f239bd",
   "metadata": {},
   "outputs": [
    {
     "name": "stdout",
     "output_type": "stream",
     "text": [
      "- Ontology individual named :\n",
      "  identifier: 527c4cbf-d472-40c2-9c54-82fdba62cdf6\n",
      "  type: agent (evmpo )\n",
      "  superclasses: agent (evmpo ), interpreter (evmpo ), paradigmatic_entity (evmpo ), marketplace_related_entity (evmpo ), immanent_entity (evmpo ), Thing (owl )\n"
     ]
    }
   ],
   "source": [
    "pretty_print(q)"
   ]
  },
  {
   "cell_type": "code",
   "execution_count": 17,
   "id": "e69df294",
   "metadata": {},
   "outputs": [
    {
     "data": {
      "text/plain": [
       "[<OntologyClass: agent https://emmc.eu/semantics/evmpo/evmpo.ttl#agent>,\n",
       " <OntologyClass: interpreter https://emmc.eu/semantics/evmpo/evmpo.ttl#interpreter>,\n",
       " <OntologyClass: paradigmatic_entity https://emmc.eu/semantics/evmpo/evmpo.ttl#paradigmatic_entity>,\n",
       " <OntologyClass: marketplace_related_entity https://emmc.eu/semantics/evmpo/evmpo.ttl#marketplace_related_entity>,\n",
       " <OntologyClass: immanent_entity https://emmc.eu/semantics/evmpo/evmpo.ttl#immanent_entity>,\n",
       " <OntologyClass: Thing http://www.w3.org/2002/07/owl#Thing>]"
      ]
     },
     "execution_count": 17,
     "metadata": {},
     "output_type": "execute_result"
    }
   ],
   "source": [
    "q.superclasses\n"
   ]
  },
  {
   "cell_type": "code",
   "execution_count": 18,
   "id": "6c4743bc",
   "metadata": {},
   "outputs": [],
   "source": [
    "q.connect(y, rel=domeo.has)"
   ]
  },
  {
   "cell_type": "code",
   "execution_count": 19,
   "id": "4265ca63",
   "metadata": {},
   "outputs": [
    {
     "name": "stdout",
     "output_type": "stream",
     "text": [
      "- Ontology individual named :\n",
      "  identifier: 527c4cbf-d472-40c2-9c54-82fdba62cdf6\n",
      "  type: agent (evmpo )\n",
      "  superclasses: agent (evmpo ), interpreter (evmpo ), paradigmatic_entity (evmpo ), marketplace_related_entity (evmpo ), immanent_entity (evmpo ), Thing (owl )\n",
      "   |_Relationship has (domeo ) (domeo):\n",
      "     - Ontology individual of class DomeDataSet named \n",
      "        identifier: 3decd829-4af8-415e-a067-2a9dbfb87382\n"
     ]
    }
   ],
   "source": [
    "pretty_print(q)"
   ]
  },
  {
   "cell_type": "code",
   "execution_count": 20,
   "id": "34c7ffe4",
   "metadata": {},
   "outputs": [
    {
     "data": {
      "image/svg+xml": [
       "<?xml version=\"1.0\" encoding=\"UTF-8\" standalone=\"no\"?>\n",
       "<!DOCTYPE svg PUBLIC \"-//W3C//DTD SVG 1.1//EN\"\n",
       " \"http://www.w3.org/Graphics/SVG/1.1/DTD/svg11.dtd\">\n",
       "<!-- Generated by graphviz version 8.0.5 (20230430.1635)\n",
       " -->\n",
       "<!-- Title: SimPhoNy semantic2dot Pages: 1 -->\n",
       "<svg width=\"1279pt\" height=\"169pt\"\n",
       " viewBox=\"0.00 0.00 1279.03 169.39\" xmlns=\"http://www.w3.org/2000/svg\" xmlns:xlink=\"http://www.w3.org/1999/xlink\">\n",
       "<g id=\"graph0\" class=\"graph\" transform=\"scale(1 1) rotate(0) translate(4 165.39)\">\n",
       "<title>SimPhoNy semantic2dot</title>\n",
       "<polygon fill=\"white\" stroke=\"none\" points=\"-4,4 -4,-165.39 1275.03,-165.39 1275.03,4 -4,4\"/>\n",
       "<!-- https___www.simphony&#45;osp.eu_entity#527c4cbf&#45;d472&#45;40c2&#45;9c54&#45;82fdba62cdf6 -->\n",
       "<g id=\"node1\" class=\"node\">\n",
       "<title>https___www.simphony&#45;osp.eu_entity#527c4cbf&#45;d472&#45;40c2&#45;9c54&#45;82fdba62cdf6</title>\n",
       "<ellipse fill=\"none\" stroke=\"black\" cx=\"138.42\" cy=\"-134.17\" rx=\"105.01\" ry=\"27.22\"/>\n",
       "<text text-anchor=\"start\" x=\"76.17\" y=\"-126.12\" font-family=\"Times,serif\" font-size=\"14.00\">classes: agent (evmpo)</text>\n",
       "</g>\n",
       "<!-- https___www.simphony&#45;osp.eu_entity#3decd829&#45;4af8&#45;415e&#45;a067&#45;2a9dbfb87382 -->\n",
       "<g id=\"node6\" class=\"node\">\n",
       "<title>https___www.simphony&#45;osp.eu_entity#3decd829&#45;4af8&#45;415e&#45;a067&#45;2a9dbfb87382</title>\n",
       "<ellipse fill=\"none\" stroke=\"black\" cx=\"138.42\" cy=\"-27.22\" rx=\"138.42\" ry=\"27.22\"/>\n",
       "<text text-anchor=\"start\" x=\"52.54\" y=\"-19.17\" font-family=\"Times,serif\" font-size=\"14.00\">classes: DomeDataSet (domeo)</text>\n",
       "</g>\n",
       "<!-- https___www.simphony&#45;osp.eu_entity#527c4cbf&#45;d472&#45;40c2&#45;9c54&#45;82fdba62cdf6&#45;&gt;https___www.simphony&#45;osp.eu_entity#3decd829&#45;4af8&#45;415e&#45;a067&#45;2a9dbfb87382 -->\n",
       "<g id=\"edge1\" class=\"edge\">\n",
       "<title>https___www.simphony&#45;osp.eu_entity#527c4cbf&#45;d472&#45;40c2&#45;9c54&#45;82fdba62cdf6&#45;&gt;https___www.simphony&#45;osp.eu_entity#3decd829&#45;4af8&#45;415e&#45;a067&#45;2a9dbfb87382</title>\n",
       "<path fill=\"none\" stroke=\"black\" d=\"M138.42,-106.69C138.42,-94.26 138.42,-79.23 138.42,-65.66\"/>\n",
       "<polygon fill=\"black\" stroke=\"black\" points=\"141.92,-65.7 138.42,-55.7 134.92,-65.7 141.92,-65.7\"/>\n",
       "<text text-anchor=\"middle\" x=\"172.54\" y=\"-75.65\" font-family=\"Times,serif\" font-size=\"14.00\">has (domeo)</text>\n",
       "</g>\n",
       "<!-- https___www.simphony&#45;osp.eu_entity#0baab788&#45;9d4f&#45;46d0&#45;b49e&#45;ba679f097979 -->\n",
       "<g id=\"node2\" class=\"node\">\n",
       "<title>https___www.simphony&#45;osp.eu_entity#0baab788&#45;9d4f&#45;46d0&#45;b49e&#45;ba679f097979</title>\n",
       "<ellipse fill=\"none\" stroke=\"black\" cx=\"371.42\" cy=\"-134.17\" rx=\"109.78\" ry=\"27.22\"/>\n",
       "<text text-anchor=\"start\" x=\"305.79\" y=\"-126.12\" font-family=\"Times,serif\" font-size=\"14.00\">classes: CUDS (domeo)</text>\n",
       "</g>\n",
       "<!-- https___www.simphony&#45;osp.eu_entity#eb991cff&#45;c983&#45;4bcc&#45;a248&#45;0e468050be48 -->\n",
       "<g id=\"node3\" class=\"node\">\n",
       "<title>https___www.simphony&#45;osp.eu_entity#eb991cff&#45;c983&#45;4bcc&#45;a248&#45;0e468050be48</title>\n",
       "<ellipse fill=\"none\" stroke=\"black\" cx=\"612.42\" cy=\"-134.17\" rx=\"112.96\" ry=\"27.22\"/>\n",
       "<text text-anchor=\"start\" x=\"544.54\" y=\"-126.12\" font-family=\"Times,serif\" font-size=\"14.00\">classes: DataSet (emmo)</text>\n",
       "</g>\n",
       "<!-- https___www.simphony&#45;osp.eu_entity#124a86f5&#45;2cab&#45;4a83&#45;b4df&#45;a4ffbe74448b -->\n",
       "<g id=\"node4\" class=\"node\">\n",
       "<title>https___www.simphony&#45;osp.eu_entity#124a86f5&#45;2cab&#45;4a83&#45;b4df&#45;a4ffbe74448b</title>\n",
       "<ellipse fill=\"none\" stroke=\"black\" cx=\"847.42\" cy=\"-134.17\" rx=\"104.48\" ry=\"27.22\"/>\n",
       "<text text-anchor=\"start\" x=\"785.54\" y=\"-126.12\" font-family=\"Times,serif\" font-size=\"14.00\">classes: Tier1 (domeo)</text>\n",
       "</g>\n",
       "<!-- https___www.simphony&#45;osp.eu_entity#559614a4&#45;eb65&#45;44d0&#45;b5dd&#45;7bb22e3b5178 -->\n",
       "<g id=\"node5\" class=\"node\">\n",
       "<title>https___www.simphony&#45;osp.eu_entity#559614a4&#45;eb65&#45;44d0&#45;b5dd&#45;7bb22e3b5178</title>\n",
       "<ellipse fill=\"none\" stroke=\"black\" cx=\"1120.42\" cy=\"-134.17\" rx=\"150.61\" ry=\"27.22\"/>\n",
       "<text text-anchor=\"start\" x=\"1025.92\" y=\"-126.12\" font-family=\"Times,serif\" font-size=\"14.00\">classes: Data schema (dome4core)</text>\n",
       "</g>\n",
       "</g>\n",
       "</svg>\n"
      ],
      "text/plain": [
       "<simphony_osp.tools.semantic2dot.Semantic2Dot at 0x126977ed0>"
      ]
     },
     "execution_count": 20,
     "metadata": {},
     "output_type": "execute_result"
    }
   ],
   "source": [
    "semantic2dot(core_session)"
   ]
  },
  {
   "cell_type": "code",
   "execution_count": 21,
   "id": "9928ce2d",
   "metadata": {},
   "outputs": [
    {
     "data": {
      "text/plain": [
       "[<OntologyClass: agent https://emmc.eu/semantics/evmpo/evmpo.ttl#agent>,\n",
       " <OntologyClass: interpreter https://emmc.eu/semantics/evmpo/evmpo.ttl#interpreter>,\n",
       " <OntologyClass: paradigmatic_entity https://emmc.eu/semantics/evmpo/evmpo.ttl#paradigmatic_entity>,\n",
       " <OntologyClass: marketplace_related_entity https://emmc.eu/semantics/evmpo/evmpo.ttl#marketplace_related_entity>,\n",
       " <OntologyClass: immanent_entity https://emmc.eu/semantics/evmpo/evmpo.ttl#immanent_entity>,\n",
       " <OntologyClass: Thing http://www.w3.org/2002/07/owl#Thing>]"
      ]
     },
     "execution_count": 21,
     "metadata": {},
     "output_type": "execute_result"
    }
   ],
   "source": [
    "q.superclasses"
   ]
  },
  {
   "cell_type": "code",
   "execution_count": 22,
   "id": "56d6b969",
   "metadata": {},
   "outputs": [],
   "source": [
    "t1=domeo.Tier1()\n",
    "sl=domeo.SemanticLevel()\n",
    "sl.connect(t1, rel=domeo.has)\n",
    "y.connect(sl, rel=emmo.equalsTo)"
   ]
  },
  {
   "cell_type": "code",
   "execution_count": 23,
   "id": "a33bd4fd",
   "metadata": {},
   "outputs": [
    {
     "data": {
      "image/svg+xml": [
       "<?xml version=\"1.0\" encoding=\"UTF-8\" standalone=\"no\"?>\n",
       "<!DOCTYPE svg PUBLIC \"-//W3C//DTD SVG 1.1//EN\"\n",
       " \"http://www.w3.org/Graphics/SVG/1.1/DTD/svg11.dtd\">\n",
       "<!-- Generated by graphviz version 8.0.5 (20230430.1635)\n",
       " -->\n",
       "<!-- Title: SimPhoNy semantic2dot Pages: 1 -->\n",
       "<svg width=\"1246pt\" height=\"383pt\"\n",
       " viewBox=\"0.00 0.00 1246.25 383.29\" xmlns=\"http://www.w3.org/2000/svg\" xmlns:xlink=\"http://www.w3.org/1999/xlink\">\n",
       "<g id=\"graph0\" class=\"graph\" transform=\"scale(1 1) rotate(0) translate(4 379.29)\">\n",
       "<title>SimPhoNy semantic2dot</title>\n",
       "<polygon fill=\"white\" stroke=\"none\" points=\"-4,4 -4,-379.29 1242.25,-379.29 1242.25,4 -4,4\"/>\n",
       "<!-- https___www.simphony&#45;osp.eu_entity#124a86f5&#45;2cab&#45;4a83&#45;b4df&#45;a4ffbe74448b -->\n",
       "<g id=\"node1\" class=\"node\">\n",
       "<title>https___www.simphony&#45;osp.eu_entity#124a86f5&#45;2cab&#45;4a83&#45;b4df&#45;a4ffbe74448b</title>\n",
       "<ellipse fill=\"none\" stroke=\"black\" cx=\"104.48\" cy=\"-348.07\" rx=\"104.48\" ry=\"27.22\"/>\n",
       "<text text-anchor=\"start\" x=\"42.6\" y=\"-340.02\" font-family=\"Times,serif\" font-size=\"14.00\">classes: Tier1 (domeo)</text>\n",
       "</g>\n",
       "<!-- https___www.simphony&#45;osp.eu_entity#559614a4&#45;eb65&#45;44d0&#45;b5dd&#45;7bb22e3b5178 -->\n",
       "<g id=\"node2\" class=\"node\">\n",
       "<title>https___www.simphony&#45;osp.eu_entity#559614a4&#45;eb65&#45;44d0&#45;b5dd&#45;7bb22e3b5178</title>\n",
       "<ellipse fill=\"none\" stroke=\"black\" cx=\"377.48\" cy=\"-348.07\" rx=\"150.61\" ry=\"27.22\"/>\n",
       "<text text-anchor=\"start\" x=\"282.98\" y=\"-340.02\" font-family=\"Times,serif\" font-size=\"14.00\">classes: Data schema (dome4core)</text>\n",
       "</g>\n",
       "<!-- https___www.simphony&#45;osp.eu_entity#3decd829&#45;4af8&#45;415e&#45;a067&#45;2a9dbfb87382 -->\n",
       "<g id=\"node3\" class=\"node\">\n",
       "<title>https___www.simphony&#45;osp.eu_entity#3decd829&#45;4af8&#45;415e&#45;a067&#45;2a9dbfb87382</title>\n",
       "<ellipse fill=\"none\" stroke=\"black\" cx=\"651.48\" cy=\"-241.12\" rx=\"138.42\" ry=\"27.22\"/>\n",
       "<text text-anchor=\"start\" x=\"565.6\" y=\"-233.07\" font-family=\"Times,serif\" font-size=\"14.00\">classes: DomeDataSet (domeo)</text>\n",
       "</g>\n",
       "<!-- https___www.simphony&#45;osp.eu_entity#7c2e8c29&#45;8ca5&#45;4aef&#45;b3aa&#45;ee149a7450f3 -->\n",
       "<g id=\"node6\" class=\"node\">\n",
       "<title>https___www.simphony&#45;osp.eu_entity#7c2e8c29&#45;8ca5&#45;4aef&#45;b3aa&#45;ee149a7450f3</title>\n",
       "<ellipse fill=\"none\" stroke=\"black\" cx=\"651.48\" cy=\"-134.17\" rx=\"142.13\" ry=\"27.22\"/>\n",
       "<text text-anchor=\"start\" x=\"562.98\" y=\"-126.12\" font-family=\"Times,serif\" font-size=\"14.00\">classes: SemanticLevel (domeo)</text>\n",
       "</g>\n",
       "<!-- https___www.simphony&#45;osp.eu_entity#3decd829&#45;4af8&#45;415e&#45;a067&#45;2a9dbfb87382&#45;&gt;https___www.simphony&#45;osp.eu_entity#7c2e8c29&#45;8ca5&#45;4aef&#45;b3aa&#45;ee149a7450f3 -->\n",
       "<g id=\"edge3\" class=\"edge\">\n",
       "<title>https___www.simphony&#45;osp.eu_entity#3decd829&#45;4af8&#45;415e&#45;a067&#45;2a9dbfb87382&#45;&gt;https___www.simphony&#45;osp.eu_entity#7c2e8c29&#45;8ca5&#45;4aef&#45;b3aa&#45;ee149a7450f3</title>\n",
       "<path fill=\"none\" stroke=\"black\" d=\"M651.48,-213.64C651.48,-201.21 651.48,-186.17 651.48,-172.61\"/>\n",
       "<polygon fill=\"black\" stroke=\"black\" points=\"654.98,-172.64 651.48,-162.64 647.98,-172.65 654.98,-172.64\"/>\n",
       "<text text-anchor=\"middle\" x=\"700.23\" y=\"-182.59\" font-family=\"Times,serif\" font-size=\"14.00\">equalsTo (emmo)</text>\n",
       "</g>\n",
       "<!-- https___www.simphony&#45;osp.eu_entity#527c4cbf&#45;d472&#45;40c2&#45;9c54&#45;82fdba62cdf6 -->\n",
       "<g id=\"node4\" class=\"node\">\n",
       "<title>https___www.simphony&#45;osp.eu_entity#527c4cbf&#45;d472&#45;40c2&#45;9c54&#45;82fdba62cdf6</title>\n",
       "<ellipse fill=\"none\" stroke=\"black\" cx=\"651.48\" cy=\"-348.07\" rx=\"105.01\" ry=\"27.22\"/>\n",
       "<text text-anchor=\"start\" x=\"589.23\" y=\"-340.02\" font-family=\"Times,serif\" font-size=\"14.00\">classes: agent (evmpo)</text>\n",
       "</g>\n",
       "<!-- https___www.simphony&#45;osp.eu_entity#527c4cbf&#45;d472&#45;40c2&#45;9c54&#45;82fdba62cdf6&#45;&gt;https___www.simphony&#45;osp.eu_entity#3decd829&#45;4af8&#45;415e&#45;a067&#45;2a9dbfb87382 -->\n",
       "<g id=\"edge2\" class=\"edge\">\n",
       "<title>https___www.simphony&#45;osp.eu_entity#527c4cbf&#45;d472&#45;40c2&#45;9c54&#45;82fdba62cdf6&#45;&gt;https___www.simphony&#45;osp.eu_entity#3decd829&#45;4af8&#45;415e&#45;a067&#45;2a9dbfb87382</title>\n",
       "<path fill=\"none\" stroke=\"black\" d=\"M651.48,-320.58C651.48,-308.15 651.48,-293.12 651.48,-279.55\"/>\n",
       "<polygon fill=\"black\" stroke=\"black\" points=\"654.98,-279.59 651.48,-269.59 647.98,-279.59 654.98,-279.59\"/>\n",
       "<text text-anchor=\"middle\" x=\"685.6\" y=\"-289.54\" font-family=\"Times,serif\" font-size=\"14.00\">has (domeo)</text>\n",
       "</g>\n",
       "<!-- https___www.simphony&#45;osp.eu_entity#eb991cff&#45;c983&#45;4bcc&#45;a248&#45;0e468050be48 -->\n",
       "<g id=\"node5\" class=\"node\">\n",
       "<title>https___www.simphony&#45;osp.eu_entity#eb991cff&#45;c983&#45;4bcc&#45;a248&#45;0e468050be48</title>\n",
       "<ellipse fill=\"none\" stroke=\"black\" cx=\"887.48\" cy=\"-348.07\" rx=\"112.96\" ry=\"27.22\"/>\n",
       "<text text-anchor=\"start\" x=\"819.6\" y=\"-340.02\" font-family=\"Times,serif\" font-size=\"14.00\">classes: DataSet (emmo)</text>\n",
       "</g>\n",
       "<!-- https___www.simphony&#45;osp.eu_entity#41c3cfc2&#45;4742&#45;4339&#45;981e&#45;7a48d1f3c575 -->\n",
       "<g id=\"node8\" class=\"node\">\n",
       "<title>https___www.simphony&#45;osp.eu_entity#41c3cfc2&#45;4742&#45;4339&#45;981e&#45;7a48d1f3c575</title>\n",
       "<ellipse fill=\"none\" stroke=\"black\" cx=\"651.48\" cy=\"-27.22\" rx=\"104.48\" ry=\"27.22\"/>\n",
       "<text text-anchor=\"start\" x=\"589.6\" y=\"-19.17\" font-family=\"Times,serif\" font-size=\"14.00\">classes: Tier1 (domeo)</text>\n",
       "</g>\n",
       "<!-- https___www.simphony&#45;osp.eu_entity#7c2e8c29&#45;8ca5&#45;4aef&#45;b3aa&#45;ee149a7450f3&#45;&gt;https___www.simphony&#45;osp.eu_entity#41c3cfc2&#45;4742&#45;4339&#45;981e&#45;7a48d1f3c575 -->\n",
       "<g id=\"edge1\" class=\"edge\">\n",
       "<title>https___www.simphony&#45;osp.eu_entity#7c2e8c29&#45;8ca5&#45;4aef&#45;b3aa&#45;ee149a7450f3&#45;&gt;https___www.simphony&#45;osp.eu_entity#41c3cfc2&#45;4742&#45;4339&#45;981e&#45;7a48d1f3c575</title>\n",
       "<path fill=\"none\" stroke=\"black\" d=\"M651.48,-106.69C651.48,-94.26 651.48,-79.23 651.48,-65.66\"/>\n",
       "<polygon fill=\"black\" stroke=\"black\" points=\"654.98,-65.7 651.48,-55.7 647.98,-65.7 654.98,-65.7\"/>\n",
       "<text text-anchor=\"middle\" x=\"685.6\" y=\"-75.65\" font-family=\"Times,serif\" font-size=\"14.00\">has (domeo)</text>\n",
       "</g>\n",
       "<!-- https___www.simphony&#45;osp.eu_entity#0baab788&#45;9d4f&#45;46d0&#45;b49e&#45;ba679f097979 -->\n",
       "<g id=\"node7\" class=\"node\">\n",
       "<title>https___www.simphony&#45;osp.eu_entity#0baab788&#45;9d4f&#45;46d0&#45;b49e&#45;ba679f097979</title>\n",
       "<ellipse fill=\"none\" stroke=\"black\" cx=\"1128.48\" cy=\"-348.07\" rx=\"109.78\" ry=\"27.22\"/>\n",
       "<text text-anchor=\"start\" x=\"1062.85\" y=\"-340.02\" font-family=\"Times,serif\" font-size=\"14.00\">classes: CUDS (domeo)</text>\n",
       "</g>\n",
       "</g>\n",
       "</svg>\n"
      ],
      "text/plain": [
       "<simphony_osp.tools.semantic2dot.Semantic2Dot at 0x12699b7d0>"
      ]
     },
     "execution_count": 23,
     "metadata": {},
     "output_type": "execute_result"
    }
   ],
   "source": [
    "semantic2dot(core_session)"
   ]
  },
  {
   "cell_type": "code",
   "execution_count": 24,
   "id": "1cf67155",
   "metadata": {},
   "outputs": [],
   "source": [
    "t1=domeo.Tier1()\n",
    "y=domeo.DomeDataSet()\n",
    "q.connect(y, rel=domeo.has)\n",
    "sl=domeo.SemanticLevel()\n",
    "sl.connect(t1, rel=emmo.equalsTo)\n",
    "y.connect(sl, rel=domeo.has)"
   ]
  },
  {
   "cell_type": "code",
   "execution_count": 25,
   "id": "6c5186d4",
   "metadata": {},
   "outputs": [],
   "source": [
    "t1=domeo.Tier3()\n",
    "y=domeo.DomeDataSet()\n",
    "q.connect(y, rel=domeo.has)\n",
    "sl=domeo.SemanticLevel()\n",
    "sl.connect(t1, rel=domeo.has)\n",
    "y.connect(sl, rel=emmo.equalsTo)"
   ]
  },
  {
   "cell_type": "code",
   "execution_count": 26,
   "id": "9e25da63",
   "metadata": {},
   "outputs": [
    {
     "data": {
      "image/svg+xml": [
       "<?xml version=\"1.0\" encoding=\"UTF-8\" standalone=\"no\"?>\n",
       "<!DOCTYPE svg PUBLIC \"-//W3C//DTD SVG 1.1//EN\"\n",
       " \"http://www.w3.org/Graphics/SVG/1.1/DTD/svg11.dtd\">\n",
       "<!-- Generated by graphviz version 8.0.5 (20230430.1635)\n",
       " -->\n",
       "<!-- Title: SimPhoNy semantic2dot Pages: 1 -->\n",
       "<svg width=\"1359pt\" height=\"383pt\"\n",
       " viewBox=\"0.00 0.00 1358.91 383.29\" xmlns=\"http://www.w3.org/2000/svg\" xmlns:xlink=\"http://www.w3.org/1999/xlink\">\n",
       "<g id=\"graph0\" class=\"graph\" transform=\"scale(1 1) rotate(0) translate(4 379.29)\">\n",
       "<title>SimPhoNy semantic2dot</title>\n",
       "<polygon fill=\"white\" stroke=\"none\" points=\"-4,4 -4,-379.29 1354.91,-379.29 1354.91,4 -4,4\"/>\n",
       "<!-- https___www.simphony&#45;osp.eu_entity#124a86f5&#45;2cab&#45;4a83&#45;b4df&#45;a4ffbe74448b -->\n",
       "<g id=\"node1\" class=\"node\">\n",
       "<title>https___www.simphony&#45;osp.eu_entity#124a86f5&#45;2cab&#45;4a83&#45;b4df&#45;a4ffbe74448b</title>\n",
       "<ellipse fill=\"none\" stroke=\"black\" cx=\"217.13\" cy=\"-348.07\" rx=\"104.48\" ry=\"27.22\"/>\n",
       "<text text-anchor=\"start\" x=\"155.25\" y=\"-340.02\" font-family=\"Times,serif\" font-size=\"14.00\">classes: Tier1 (domeo)</text>\n",
       "</g>\n",
       "<!-- https___www.simphony&#45;osp.eu_entity#1b85d6e9&#45;39c7&#45;4234&#45;b990&#45;80cd3235ae6e -->\n",
       "<g id=\"node2\" class=\"node\">\n",
       "<title>https___www.simphony&#45;osp.eu_entity#1b85d6e9&#45;39c7&#45;4234&#45;b990&#45;80cd3235ae6e</title>\n",
       "<ellipse fill=\"none\" stroke=\"black\" cx=\"147.13\" cy=\"-241.12\" rx=\"138.42\" ry=\"27.22\"/>\n",
       "<text text-anchor=\"start\" x=\"61.25\" y=\"-233.07\" font-family=\"Times,serif\" font-size=\"14.00\">classes: DomeDataSet (domeo)</text>\n",
       "</g>\n",
       "<!-- https___www.simphony&#45;osp.eu_entity#6098054f&#45;bab4&#45;4b0b&#45;ab20&#45;dd37d15a0744 -->\n",
       "<g id=\"node3\" class=\"node\">\n",
       "<title>https___www.simphony&#45;osp.eu_entity#6098054f&#45;bab4&#45;4b0b&#45;ab20&#45;dd37d15a0744</title>\n",
       "<ellipse fill=\"none\" stroke=\"black\" cx=\"142.13\" cy=\"-134.17\" rx=\"142.13\" ry=\"27.22\"/>\n",
       "<text text-anchor=\"start\" x=\"53.63\" y=\"-126.12\" font-family=\"Times,serif\" font-size=\"14.00\">classes: SemanticLevel (domeo)</text>\n",
       "</g>\n",
       "<!-- https___www.simphony&#45;osp.eu_entity#1b85d6e9&#45;39c7&#45;4234&#45;b990&#45;80cd3235ae6e&#45;&gt;https___www.simphony&#45;osp.eu_entity#6098054f&#45;bab4&#45;4b0b&#45;ab20&#45;dd37d15a0744 -->\n",
       "<g id=\"edge5\" class=\"edge\">\n",
       "<title>https___www.simphony&#45;osp.eu_entity#1b85d6e9&#45;39c7&#45;4234&#45;b990&#45;80cd3235ae6e&#45;&gt;https___www.simphony&#45;osp.eu_entity#6098054f&#45;bab4&#45;4b0b&#45;ab20&#45;dd37d15a0744</title>\n",
       "<path fill=\"none\" stroke=\"black\" d=\"M145.87,-213.64C145.27,-201.21 144.56,-186.17 143.91,-172.61\"/>\n",
       "<polygon fill=\"black\" stroke=\"black\" points=\"147.36,-172.47 143.39,-162.64 140.37,-172.8 147.36,-172.47\"/>\n",
       "<text text-anchor=\"middle\" x=\"193.88\" y=\"-182.59\" font-family=\"Times,serif\" font-size=\"14.00\">equalsTo (emmo)</text>\n",
       "</g>\n",
       "<!-- https___www.simphony&#45;osp.eu_entity#8efdfbaa&#45;62de&#45;415d&#45;81cd&#45;3e2989cd3b42 -->\n",
       "<g id=\"node7\" class=\"node\">\n",
       "<title>https___www.simphony&#45;osp.eu_entity#8efdfbaa&#45;62de&#45;415d&#45;81cd&#45;3e2989cd3b42</title>\n",
       "<ellipse fill=\"none\" stroke=\"black\" cx=\"142.13\" cy=\"-27.22\" rx=\"104.48\" ry=\"27.22\"/>\n",
       "<text text-anchor=\"start\" x=\"80.25\" y=\"-19.17\" font-family=\"Times,serif\" font-size=\"14.00\">classes: Tier3 (domeo)</text>\n",
       "</g>\n",
       "<!-- https___www.simphony&#45;osp.eu_entity#6098054f&#45;bab4&#45;4b0b&#45;ab20&#45;dd37d15a0744&#45;&gt;https___www.simphony&#45;osp.eu_entity#8efdfbaa&#45;62de&#45;415d&#45;81cd&#45;3e2989cd3b42 -->\n",
       "<g id=\"edge3\" class=\"edge\">\n",
       "<title>https___www.simphony&#45;osp.eu_entity#6098054f&#45;bab4&#45;4b0b&#45;ab20&#45;dd37d15a0744&#45;&gt;https___www.simphony&#45;osp.eu_entity#8efdfbaa&#45;62de&#45;415d&#45;81cd&#45;3e2989cd3b42</title>\n",
       "<path fill=\"none\" stroke=\"black\" d=\"M142.13,-106.69C142.13,-94.26 142.13,-79.23 142.13,-65.66\"/>\n",
       "<polygon fill=\"black\" stroke=\"black\" points=\"145.63,-65.7 142.13,-55.7 138.63,-65.7 145.63,-65.7\"/>\n",
       "<text text-anchor=\"middle\" x=\"176.25\" y=\"-75.65\" font-family=\"Times,serif\" font-size=\"14.00\">has (domeo)</text>\n",
       "</g>\n",
       "<!-- https___www.simphony&#45;osp.eu_entity#559614a4&#45;eb65&#45;44d0&#45;b5dd&#45;7bb22e3b5178 -->\n",
       "<g id=\"node4\" class=\"node\">\n",
       "<title>https___www.simphony&#45;osp.eu_entity#559614a4&#45;eb65&#45;44d0&#45;b5dd&#45;7bb22e3b5178</title>\n",
       "<ellipse fill=\"none\" stroke=\"black\" cx=\"718.13\" cy=\"-348.07\" rx=\"150.61\" ry=\"27.22\"/>\n",
       "<text text-anchor=\"start\" x=\"623.63\" y=\"-340.02\" font-family=\"Times,serif\" font-size=\"14.00\">classes: Data schema (dome4core)</text>\n",
       "</g>\n",
       "<!-- https___www.simphony&#45;osp.eu_entity#3decd829&#45;4af8&#45;415e&#45;a067&#45;2a9dbfb87382 -->\n",
       "<g id=\"node5\" class=\"node\">\n",
       "<title>https___www.simphony&#45;osp.eu_entity#3decd829&#45;4af8&#45;415e&#45;a067&#45;2a9dbfb87382</title>\n",
       "<ellipse fill=\"none\" stroke=\"black\" cx=\"444.13\" cy=\"-241.12\" rx=\"138.42\" ry=\"27.22\"/>\n",
       "<text text-anchor=\"start\" x=\"358.25\" y=\"-233.07\" font-family=\"Times,serif\" font-size=\"14.00\">classes: DomeDataSet (domeo)</text>\n",
       "</g>\n",
       "<!-- https___www.simphony&#45;osp.eu_entity#7c2e8c29&#45;8ca5&#45;4aef&#45;b3aa&#45;ee149a7450f3 -->\n",
       "<g id=\"node12\" class=\"node\">\n",
       "<title>https___www.simphony&#45;osp.eu_entity#7c2e8c29&#45;8ca5&#45;4aef&#45;b3aa&#45;ee149a7450f3</title>\n",
       "<ellipse fill=\"none\" stroke=\"black\" cx=\"444.13\" cy=\"-134.17\" rx=\"142.13\" ry=\"27.22\"/>\n",
       "<text text-anchor=\"start\" x=\"355.63\" y=\"-126.12\" font-family=\"Times,serif\" font-size=\"14.00\">classes: SemanticLevel (domeo)</text>\n",
       "</g>\n",
       "<!-- https___www.simphony&#45;osp.eu_entity#3decd829&#45;4af8&#45;415e&#45;a067&#45;2a9dbfb87382&#45;&gt;https___www.simphony&#45;osp.eu_entity#7c2e8c29&#45;8ca5&#45;4aef&#45;b3aa&#45;ee149a7450f3 -->\n",
       "<g id=\"edge7\" class=\"edge\">\n",
       "<title>https___www.simphony&#45;osp.eu_entity#3decd829&#45;4af8&#45;415e&#45;a067&#45;2a9dbfb87382&#45;&gt;https___www.simphony&#45;osp.eu_entity#7c2e8c29&#45;8ca5&#45;4aef&#45;b3aa&#45;ee149a7450f3</title>\n",
       "<path fill=\"none\" stroke=\"black\" d=\"M444.13,-213.64C444.13,-201.21 444.13,-186.17 444.13,-172.61\"/>\n",
       "<polygon fill=\"black\" stroke=\"black\" points=\"447.63,-172.64 444.13,-162.64 440.63,-172.65 447.63,-172.64\"/>\n",
       "<text text-anchor=\"middle\" x=\"492.88\" y=\"-182.59\" font-family=\"Times,serif\" font-size=\"14.00\">equalsTo (emmo)</text>\n",
       "</g>\n",
       "<!-- https___www.simphony&#45;osp.eu_entity#15852c25&#45;be2f&#45;4469&#45;94ca&#45;bc120ad85a28 -->\n",
       "<g id=\"node6\" class=\"node\">\n",
       "<title>https___www.simphony&#45;osp.eu_entity#15852c25&#45;be2f&#45;4469&#45;94ca&#45;bc120ad85a28</title>\n",
       "<ellipse fill=\"none\" stroke=\"black\" cx=\"742.13\" cy=\"-241.12\" rx=\"138.42\" ry=\"27.22\"/>\n",
       "<text text-anchor=\"start\" x=\"656.25\" y=\"-233.07\" font-family=\"Times,serif\" font-size=\"14.00\">classes: DomeDataSet (domeo)</text>\n",
       "</g>\n",
       "<!-- https___www.simphony&#45;osp.eu_entity#72750d92&#45;f24f&#45;4a9a&#45;8e72&#45;980d67dd526a -->\n",
       "<g id=\"node11\" class=\"node\">\n",
       "<title>https___www.simphony&#45;osp.eu_entity#72750d92&#45;f24f&#45;4a9a&#45;8e72&#45;980d67dd526a</title>\n",
       "<ellipse fill=\"none\" stroke=\"black\" cx=\"746.13\" cy=\"-134.17\" rx=\"142.13\" ry=\"27.22\"/>\n",
       "<text text-anchor=\"start\" x=\"657.63\" y=\"-126.12\" font-family=\"Times,serif\" font-size=\"14.00\">classes: SemanticLevel (domeo)</text>\n",
       "</g>\n",
       "<!-- https___www.simphony&#45;osp.eu_entity#15852c25&#45;be2f&#45;4469&#45;94ca&#45;bc120ad85a28&#45;&gt;https___www.simphony&#45;osp.eu_entity#72750d92&#45;f24f&#45;4a9a&#45;8e72&#45;980d67dd526a -->\n",
       "<g id=\"edge6\" class=\"edge\">\n",
       "<title>https___www.simphony&#45;osp.eu_entity#15852c25&#45;be2f&#45;4469&#45;94ca&#45;bc120ad85a28&#45;&gt;https___www.simphony&#45;osp.eu_entity#72750d92&#45;f24f&#45;4a9a&#45;8e72&#45;980d67dd526a</title>\n",
       "<path fill=\"none\" stroke=\"black\" d=\"M743.14,-213.64C743.61,-201.21 744.18,-186.17 744.7,-172.61\"/>\n",
       "<polygon fill=\"black\" stroke=\"black\" points=\"748.24,-172.77 745.12,-162.64 741.24,-172.5 748.24,-172.77\"/>\n",
       "<text text-anchor=\"middle\" x=\"779.25\" y=\"-182.59\" font-family=\"Times,serif\" font-size=\"14.00\">has (domeo)</text>\n",
       "</g>\n",
       "<!-- https___www.simphony&#45;osp.eu_entity#527c4cbf&#45;d472&#45;40c2&#45;9c54&#45;82fdba62cdf6 -->\n",
       "<g id=\"node8\" class=\"node\">\n",
       "<title>https___www.simphony&#45;osp.eu_entity#527c4cbf&#45;d472&#45;40c2&#45;9c54&#45;82fdba62cdf6</title>\n",
       "<ellipse fill=\"none\" stroke=\"black\" cx=\"444.13\" cy=\"-348.07\" rx=\"105.01\" ry=\"27.22\"/>\n",
       "<text text-anchor=\"start\" x=\"381.88\" y=\"-340.02\" font-family=\"Times,serif\" font-size=\"14.00\">classes: agent (evmpo)</text>\n",
       "</g>\n",
       "<!-- https___www.simphony&#45;osp.eu_entity#527c4cbf&#45;d472&#45;40c2&#45;9c54&#45;82fdba62cdf6&#45;&gt;https___www.simphony&#45;osp.eu_entity#1b85d6e9&#45;39c7&#45;4234&#45;b990&#45;80cd3235ae6e -->\n",
       "<g id=\"edge9\" class=\"edge\">\n",
       "<title>https___www.simphony&#45;osp.eu_entity#527c4cbf&#45;d472&#45;40c2&#45;9c54&#45;82fdba62cdf6&#45;&gt;https___www.simphony&#45;osp.eu_entity#1b85d6e9&#45;39c7&#45;4234&#45;b990&#45;80cd3235ae6e</title>\n",
       "<path fill=\"none\" stroke=\"black\" d=\"M383.31,-325.57C337.12,-309.25 273.31,-286.71 223.66,-269.16\"/>\n",
       "<polygon fill=\"black\" stroke=\"black\" points=\"224.88,-265.53 214.29,-265.5 222.55,-272.13 224.88,-265.53\"/>\n",
       "<text text-anchor=\"middle\" x=\"348.25\" y=\"-289.54\" font-family=\"Times,serif\" font-size=\"14.00\">has (domeo)</text>\n",
       "</g>\n",
       "<!-- https___www.simphony&#45;osp.eu_entity#527c4cbf&#45;d472&#45;40c2&#45;9c54&#45;82fdba62cdf6&#45;&gt;https___www.simphony&#45;osp.eu_entity#3decd829&#45;4af8&#45;415e&#45;a067&#45;2a9dbfb87382 -->\n",
       "<g id=\"edge8\" class=\"edge\">\n",
       "<title>https___www.simphony&#45;osp.eu_entity#527c4cbf&#45;d472&#45;40c2&#45;9c54&#45;82fdba62cdf6&#45;&gt;https___www.simphony&#45;osp.eu_entity#3decd829&#45;4af8&#45;415e&#45;a067&#45;2a9dbfb87382</title>\n",
       "<path fill=\"none\" stroke=\"black\" d=\"M444.13,-320.58C444.13,-308.15 444.13,-293.12 444.13,-279.55\"/>\n",
       "<polygon fill=\"black\" stroke=\"black\" points=\"447.63,-279.59 444.13,-269.59 440.63,-279.59 447.63,-279.59\"/>\n",
       "<text text-anchor=\"middle\" x=\"478.25\" y=\"-289.54\" font-family=\"Times,serif\" font-size=\"14.00\">has (domeo)</text>\n",
       "</g>\n",
       "<!-- https___www.simphony&#45;osp.eu_entity#527c4cbf&#45;d472&#45;40c2&#45;9c54&#45;82fdba62cdf6&#45;&gt;https___www.simphony&#45;osp.eu_entity#15852c25&#45;be2f&#45;4469&#45;94ca&#45;bc120ad85a28 -->\n",
       "<g id=\"edge2\" class=\"edge\">\n",
       "<title>https___www.simphony&#45;osp.eu_entity#527c4cbf&#45;d472&#45;40c2&#45;9c54&#45;82fdba62cdf6&#45;&gt;https___www.simphony&#45;osp.eu_entity#15852c25&#45;be2f&#45;4469&#45;94ca&#45;bc120ad85a28</title>\n",
       "<path fill=\"none\" stroke=\"black\" d=\"M505.15,-325.57C551.67,-309.19 616.01,-286.53 665.91,-268.96\"/>\n",
       "<polygon fill=\"black\" stroke=\"black\" points=\"666.74,-272.03 675.01,-265.4 664.42,-265.42 666.74,-272.03\"/>\n",
       "<text text-anchor=\"middle\" x=\"645.25\" y=\"-289.54\" font-family=\"Times,serif\" font-size=\"14.00\">has (domeo)</text>\n",
       "</g>\n",
       "<!-- https___www.simphony&#45;osp.eu_entity#43ceca28&#45;0206&#45;4198&#45;aea1&#45;b383b38031cb -->\n",
       "<g id=\"node9\" class=\"node\">\n",
       "<title>https___www.simphony&#45;osp.eu_entity#43ceca28&#45;0206&#45;4198&#45;aea1&#45;b383b38031cb</title>\n",
       "<ellipse fill=\"none\" stroke=\"black\" cx=\"746.13\" cy=\"-27.22\" rx=\"104.48\" ry=\"27.22\"/>\n",
       "<text text-anchor=\"start\" x=\"684.25\" y=\"-19.17\" font-family=\"Times,serif\" font-size=\"14.00\">classes: Tier1 (domeo)</text>\n",
       "</g>\n",
       "<!-- https___www.simphony&#45;osp.eu_entity#eb991cff&#45;c983&#45;4bcc&#45;a248&#45;0e468050be48 -->\n",
       "<g id=\"node10\" class=\"node\">\n",
       "<title>https___www.simphony&#45;osp.eu_entity#eb991cff&#45;c983&#45;4bcc&#45;a248&#45;0e468050be48</title>\n",
       "<ellipse fill=\"none\" stroke=\"black\" cx=\"1000.13\" cy=\"-348.07\" rx=\"112.96\" ry=\"27.22\"/>\n",
       "<text text-anchor=\"start\" x=\"932.25\" y=\"-340.02\" font-family=\"Times,serif\" font-size=\"14.00\">classes: DataSet (emmo)</text>\n",
       "</g>\n",
       "<!-- https___www.simphony&#45;osp.eu_entity#72750d92&#45;f24f&#45;4a9a&#45;8e72&#45;980d67dd526a&#45;&gt;https___www.simphony&#45;osp.eu_entity#43ceca28&#45;0206&#45;4198&#45;aea1&#45;b383b38031cb -->\n",
       "<g id=\"edge4\" class=\"edge\">\n",
       "<title>https___www.simphony&#45;osp.eu_entity#72750d92&#45;f24f&#45;4a9a&#45;8e72&#45;980d67dd526a&#45;&gt;https___www.simphony&#45;osp.eu_entity#43ceca28&#45;0206&#45;4198&#45;aea1&#45;b383b38031cb</title>\n",
       "<path fill=\"none\" stroke=\"black\" d=\"M746.13,-106.69C746.13,-94.26 746.13,-79.23 746.13,-65.66\"/>\n",
       "<polygon fill=\"black\" stroke=\"black\" points=\"749.63,-65.7 746.13,-55.7 742.63,-65.7 749.63,-65.7\"/>\n",
       "<text text-anchor=\"middle\" x=\"794.88\" y=\"-75.65\" font-family=\"Times,serif\" font-size=\"14.00\">equalsTo (emmo)</text>\n",
       "</g>\n",
       "<!-- https___www.simphony&#45;osp.eu_entity#41c3cfc2&#45;4742&#45;4339&#45;981e&#45;7a48d1f3c575 -->\n",
       "<g id=\"node14\" class=\"node\">\n",
       "<title>https___www.simphony&#45;osp.eu_entity#41c3cfc2&#45;4742&#45;4339&#45;981e&#45;7a48d1f3c575</title>\n",
       "<ellipse fill=\"none\" stroke=\"black\" cx=\"444.13\" cy=\"-27.22\" rx=\"104.48\" ry=\"27.22\"/>\n",
       "<text text-anchor=\"start\" x=\"382.25\" y=\"-19.17\" font-family=\"Times,serif\" font-size=\"14.00\">classes: Tier1 (domeo)</text>\n",
       "</g>\n",
       "<!-- https___www.simphony&#45;osp.eu_entity#7c2e8c29&#45;8ca5&#45;4aef&#45;b3aa&#45;ee149a7450f3&#45;&gt;https___www.simphony&#45;osp.eu_entity#41c3cfc2&#45;4742&#45;4339&#45;981e&#45;7a48d1f3c575 -->\n",
       "<g id=\"edge1\" class=\"edge\">\n",
       "<title>https___www.simphony&#45;osp.eu_entity#7c2e8c29&#45;8ca5&#45;4aef&#45;b3aa&#45;ee149a7450f3&#45;&gt;https___www.simphony&#45;osp.eu_entity#41c3cfc2&#45;4742&#45;4339&#45;981e&#45;7a48d1f3c575</title>\n",
       "<path fill=\"none\" stroke=\"black\" d=\"M444.13,-106.69C444.13,-94.26 444.13,-79.23 444.13,-65.66\"/>\n",
       "<polygon fill=\"black\" stroke=\"black\" points=\"447.63,-65.7 444.13,-55.7 440.63,-65.7 447.63,-65.7\"/>\n",
       "<text text-anchor=\"middle\" x=\"478.25\" y=\"-75.65\" font-family=\"Times,serif\" font-size=\"14.00\">has (domeo)</text>\n",
       "</g>\n",
       "<!-- https___www.simphony&#45;osp.eu_entity#0baab788&#45;9d4f&#45;46d0&#45;b49e&#45;ba679f097979 -->\n",
       "<g id=\"node13\" class=\"node\">\n",
       "<title>https___www.simphony&#45;osp.eu_entity#0baab788&#45;9d4f&#45;46d0&#45;b49e&#45;ba679f097979</title>\n",
       "<ellipse fill=\"none\" stroke=\"black\" cx=\"1241.13\" cy=\"-348.07\" rx=\"109.78\" ry=\"27.22\"/>\n",
       "<text text-anchor=\"start\" x=\"1175.5\" y=\"-340.02\" font-family=\"Times,serif\" font-size=\"14.00\">classes: CUDS (domeo)</text>\n",
       "</g>\n",
       "</g>\n",
       "</svg>\n"
      ],
      "text/plain": [
       "<simphony_osp.tools.semantic2dot.Semantic2Dot at 0x1269a7c50>"
      ]
     },
     "execution_count": 26,
     "metadata": {},
     "output_type": "execute_result"
    }
   ],
   "source": [
    "semantic2dot(core_session)"
   ]
  },
  {
   "cell_type": "code",
   "execution_count": 27,
   "id": "534dbc5a",
   "metadata": {},
   "outputs": [
    {
     "name": "stdout",
     "output_type": "stream",
     "text": [
      "- Ontology individual named :\n",
      "  identifier: 1b85d6e9-39c7-4234-b990-80cd3235ae6e\n",
      "  type: DomeDataSet (domeo )\n",
      "  superclasses: DomeDataSet (domeo ), DataSet (emmo ), EncodedData (emmo ), Data (emmo ), Perspective (emmo ), CausalStructure (emmo ), Item (emmo ), EMMO (emmo ), CUDS (domeo ), Thing (owl )\n",
      "   |_Relationship equalsTo (emmo ) (emmo):\n",
      "     - Ontology individual of class SemanticLevel named \n",
      "        identifier: 6098054f-bab4-4b0b-ab20-dd37d15a0744\n",
      "         |_Relationship has (domeo ) (domeo):\n",
      "           - Ontology individual of class Tier3 named \n",
      "              identifier: 8efdfbaa-62de-415d-81cd-3e2989cd3b42\n"
     ]
    }
   ],
   "source": [
    "pretty_print(y)"
   ]
  },
  {
   "cell_type": "code",
   "execution_count": 28,
   "id": "84945173",
   "metadata": {},
   "outputs": [],
   "source": [
    "ynew=domeo.DomeDataSet()\n"
   ]
  },
  {
   "cell_type": "code",
   "execution_count": 29,
   "id": "9b1e4aa4",
   "metadata": {},
   "outputs": [
    {
     "ename": "SyntaxError",
     "evalue": "invalid syntax (2522122.py, line 2)",
     "output_type": "error",
     "traceback": [
      "\u001b[0;36m  Cell \u001b[0;32mIn[29], line 2\u001b[0;36m\u001b[0m\n\u001b[0;31m    y.connect(ynew, rel=provo.\"ReverseDerivedFrom\")\u001b[0m\n\u001b[0m                              ^\u001b[0m\n\u001b[0;31mSyntaxError\u001b[0m\u001b[0;31m:\u001b[0m invalid syntax\n"
     ]
    }
   ],
   "source": [
    "ynew.connect(y, rel=provo.DerivedFrom)\n",
    "y.connect(ynew, rel=provo.\"ReverseDerivedFrom\")"
   ]
  },
  {
   "cell_type": "code",
   "execution_count": null,
   "id": "243c633a",
   "metadata": {},
   "outputs": [],
   "source": [
    "type(dome4core.Action)\n"
   ]
  },
  {
   "cell_type": "code",
   "execution_count": null,
   "id": "c1e5be8f",
   "metadata": {},
   "outputs": [],
   "source": [
    "type(dome4core.action)\n"
   ]
  },
  {
   "cell_type": "code",
   "execution_count": null,
   "id": "aa60d594",
   "metadata": {},
   "outputs": [],
   "source": [
    "a=dome4core.Action()"
   ]
  },
  {
   "cell_type": "code",
   "execution_count": null,
   "id": "43176253",
   "metadata": {},
   "outputs": [],
   "source": [
    "pretty_print(a)"
   ]
  },
  {
   "cell_type": "code",
   "execution_count": null,
   "id": "f1ad1004",
   "metadata": {},
   "outputs": [],
   "source": []
  },
  {
   "cell_type": "code",
   "execution_count": null,
   "id": "f67e8e45",
   "metadata": {},
   "outputs": [],
   "source": []
  }
 ],
 "metadata": {
  "kernelspec": {
   "display_name": ".env",
   "language": "python",
   "name": ".env"
  },
  "language_info": {
   "codemirror_mode": {
    "name": "ipython",
    "version": 3
   },
   "file_extension": ".py",
   "mimetype": "text/x-python",
   "name": "python",
   "nbconvert_exporter": "python",
   "pygments_lexer": "ipython3",
   "version": "3.11.3"
  }
 },
 "nbformat": 4,
 "nbformat_minor": 5
}
