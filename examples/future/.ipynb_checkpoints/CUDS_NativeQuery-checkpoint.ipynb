{
 "cells": [
  {
   "cell_type": "markdown",
   "id": "a7a6cdf9",
   "metadata": {},
   "source": [
    "# Similar to the SPARQL_QUERY example, but using native search and find"
   ]
  },
  {
   "cell_type": "code",
   "execution_count": 1,
   "id": "c459e742",
   "metadata": {},
   "outputs": [],
   "source": [
    "from simphony_osp.namespaces import city, rdfschema, dcoretbox, simphony\n",
    "from simphony_osp.namespaces import owl,foaf, emmo, domeo, dcterms, evmpo, eurosci, iof\n",
    "from simphony_osp.namespaces import http_method\n",
    "\n",
    "from simphony_osp.tools import semantic2dot, pretty_print\n",
    "from simphony_osp.tools import search,  export_file, import_file, pretty_print, search\n",
    "from simphony_osp.tools.search import sparql\n",
    "\n",
    "from simphony_osp.ontology import RESTRICTION_QUANTIFIER, RESTRICTION_TYPE, OntologyIndividual\n",
    "from simphony_osp.ontology import COMPOSITION_OPERATOR, Composition, Restriction\n",
    "\n",
    "from simphony_osp.ontology.relationship import OntologyRelationship\n",
    "from simphony_osp.ontology.annotation import OntologyAnnotation\n",
    "\n",
    "from simphony_osp.session import Session, core_session\n"
   ]
  },
  {
   "cell_type": "markdown",
   "id": "01fe10ab",
   "metadata": {},
   "source": [
    "# CUDS DOME 4.0 Platforms\n",
    "- [X] Query existing platform and display them  \n",
    "- [X] Update and store a platform \n",
    "- [X] create nd store a new platform from scratch\n",
    "\n",
    "For reference: \n",
    "<img src=\"./imgs/platform_catalogue_resource_service_MIRO_2022_10_12.jpg\" style=\"width:480px\">\n"
   ]
  },
  {
   "cell_type": "markdown",
   "id": "de54b3c3",
   "metadata": {},
   "source": [
    "#### Load the core database which has all the platforms now"
   ]
  },
  {
   "cell_type": "code",
   "execution_count": 2,
   "id": "a59b4c06",
   "metadata": {},
   "outputs": [],
   "source": [
    "SIGRA_ROOT='/Users/adham/dev/new/dome/Ontology-matters/'"
   ]
  },
  {
   "cell_type": "code",
   "execution_count": 3,
   "id": "4cd6e19d",
   "metadata": {},
   "outputs": [
    {
     "data": {
      "text/plain": [
       "{<OntologyIndividual: AiiDA export file https://dome40.eu/semantics/dome4.0_core#AIIDA_FORMAT>,\n",
       " <OntologyIndividual: CAS Number https://dome40.eu/semantics/dome4.0_core#CAS_NUMBER>,\n",
       " <OntologyIndividual: CHEMEO https://dome40.eu/semantics/scenario/platforms#CHEMEO>,\n",
       " <OntologyIndividual: CONSUMER https://dome40.eu/semantics/dome4.0_core#CONSUMER>,\n",
       " <OntologyIndividual: CRYSTALLOGRAPHY https://dome40.eu/semantics/scenario/platforms#CRYSTALLOGRAPHY>,\n",
       " <OntologyIndividual: Cartography https://dome40.eu/semantics/dome4.0_core#CARTOGRAPHY>,\n",
       " <OntologyIndividual: Comma-separated Values (CSV) https://dome40.eu/semantics/dome4.0_core#CSV>,\n",
       " <OntologyIndividual: Compare https://dome40.eu/semantics/dome4.0_core#COMPARE>,\n",
       " <OntologyIndividual: Crystallographic Information Framework (CIF) - Model and format https://dome40.eu/semantics/dome4.0_core#CIF>,\n",
       " <OntologyIndividual: DATA_ON_DEMAND_PROVIDER https://dome40.eu/semantics/dome4.0_core#DATA_ON_DEMAND_PROVIDER>,\n",
       " <OntologyIndividual: DATA_PROVIDER https://dome40.eu/semantics/dome4.0_core#DATA_PROVIDER>,\n",
       " <OntologyIndividual: DOME 4.0 Consortium https://dome40.eu/semantics/scenario/platforms#DOME4.0_CONSORTIUM>,\n",
       " <OntologyIndividual: DOME4.0 https://dome40.eu/semantics/scenario/platforms#DOME4.0>,\n",
       " <OntologyIndividual: Download https://dome40.eu/semantics/dome4.0_core#DOWNLOAD>,\n",
       " <OntologyIndividual: EC Number https://dome40.eu/semantics/dome4.0_core#EC_NUMBER>,\n",
       " <OntologyIndividual: EXAMPLE_DOME_FLAT_SUBSCRIPTION_CHEMEO_MATERIALSPROJECT https://dome40.eu/semantics/scenario/platforms#EXAMPLE_DOME_FLAT_SUBSCRIPTION_CHEMEO_MATERIALSPROJECT>,\n",
       " <OntologyIndividual: EXAMPLE_DOME_SUBSCRIPTION_BY_USAGE_CHEMEO_MATERIALSPROJECT https://dome40.eu/semantics/scenario/platforms#EXAMPLE_DOME_SUBSCRIPTION_BY_USAGE_CHEMEO_MATERIALSPROJECT>,\n",
       " <OntologyIndividual: Engineering and technology https://dome40.eu/semantics/dome4.0_core#ENGINEERING_AND_TECHNOLOGY>,\n",
       " <OntologyIndividual: Equipment https://dome40.eu/semantics/dome4.0_core#EQUIPMENT>,\n",
       " <OntologyIndividual: Evaluate FAIRness https://dome40.eu/semantics/dome4.0_core#EVALUATE_FAIRNESS>,\n",
       " <OntologyIndividual: Experimental Data https://dome40.eu/semantics/dome4.0_core#EXPERIMENTAL_DATA>,\n",
       " <OntologyIndividual: Extract https://dome40.eu/semantics/dome4.0_core#EXTRACT>,\n",
       " <OntologyIndividual: Geographic Tagged Image File Format (GeoTIFF) https://dome40.eu/semantics/dome4.0_core#GEOTIFF>,\n",
       " <OntologyIndividual: IDS (International Data Space) API specification https://dome40.eu/semantics/dome4.0_core#IDS_API_SPECIFICATION>,\n",
       " <OntologyIndividual: INTERACTIVE_APP_PROVIDER https://dome40.eu/semantics/dome4.0_core#INTERACTIVE_APP_PROVIDER>,\n",
       " <OntologyIndividual: IUPAC InChi https://dome40.eu/semantics/dome4.0_core#IUPAC_INCHI>,\n",
       " <OntologyIndividual: JavaScript Object Notation (JSON) https://dome40.eu/semantics/dome4.0_core#JSON>,\n",
       " <OntologyIndividual: JavaScript Object Notation for Linking Data (JSON-LD) https://dome40.eu/semantics/dome4.0_core#JSON-LD>,\n",
       " <OntologyIndividual: Joint Photographic Experts Group Format (JPEG) https://dome40.eu/semantics/dome4.0_core#JPEG>,\n",
       " <OntologyIndividual: List of API spefications https://dome40.eu/semantics/dome4.0_core#LIST_OF_STANDARD_API_SPECIFICATIONS>,\n",
       " <OntologyIndividual: List of data actions https://dome40.eu/semantics/dome4.0_core#LIST_OF_DATA_ACTIONS>,\n",
       " <OntologyIndividual: List of file formats https://dome40.eu/semantics/dome4.0_core#LIST_OF_FILE_FORMATS>,\n",
       " <OntologyIndividual: List of product types (i.e., the types found on DOME 4.0) https://dome40.eu/semantics/dome4.0_core#LIST_OF_PRODUCT_TYPES>,\n",
       " <OntologyIndividual: List of search actions https://dome40.eu/semantics/dome4.0_core#LIST_OF_SEARCH_ACTIONS>,\n",
       " <OntologyIndividual: List of topics https://dome40.eu/semantics/dome4.0_core#LIST_OF_TOPICS>,\n",
       " <OntologyIndividual: List of widely used standard identifiers for the materials and manufacturing domain. https://dome40.eu/semantics/dome4.0_core#LIST_OF_STANDARD_IDENTIFIERS>,\n",
       " <OntologyIndividual: MARKET4.0 https://dome40.eu/semantics/scenario/platforms#MARKET4.0>,\n",
       " <OntologyIndividual: MATERIALSPROJECT https://dome40.eu/semantics/scenario/platforms#MATERIALSPROJECT>,\n",
       " <OntologyIndividual: Material Property https://dome40.eu/semantics/dome4.0_core#MATERIAL_PROPERTY>,\n",
       " <OntologyIndividual: Medical and health sciences https://dome40.eu/semantics/dome4.0_core#MEDICAL_AND_HEALTH_SCIENCES>,\n",
       " <OntologyIndividual: Meteorology https://dome40.eu/semantics/dome4.0_core#METEOROLOGY>,\n",
       " <OntologyIndividual: Microsoft Excel format (XLSX) https://dome40.eu/semantics/dome4.0_core#XLSX>,\n",
       " <OntologyIndividual: Modelling Data https://dome40.eu/semantics/dome4.0_core#MODELLING_DATA>,\n",
       " <OntologyIndividual: NOMAD https://dome40.eu/semantics/scenario/platforms#NOMAD>,\n",
       " <OntologyIndividual: Natural sciences https://dome40.eu/semantics/dome4.0_core#NATURAL_SCIENCES>,\n",
       " <OntologyIndividual: Navigation systems https://dome40.eu/semantics/dome4.0_core#NAVIGATION_SYSTEMS>,\n",
       " <OntologyIndividual: OPEN_DATABASE_XTALS https://dome40.eu/semantics/scenario/platforms#OPEN_DATABASE_XTALS>,\n",
       " <OntologyIndividual: OPTIMADE API specification https://dome40.eu/semantics/dome4.0_core#OPTIMADE_API_SPECIFICATION>,\n",
       " <OntologyIndividual: Observational Data https://dome40.eu/semantics/dome4.0_core#OBSERVATIONAL_DATA>,\n",
       " <OntologyIndividual: POPULATE_TEST_PLATFORM_OPERATION https://dome40.eu/semantics/scenario/platforms#POPULATE_TEST_PLATFORM_OPERATION>,\n",
       " <OntologyIndividual: POPULATE_TEST_PLATFORM_SERVICE https://dome40.eu/semantics/scenario/platforms#POPULATE_TEST_PLATFORM_SERVICE>,\n",
       " <OntologyIndividual: PUBCHEM https://dome40.eu/semantics/scenario/platforms#PUBCHEM>,\n",
       " <OntologyIndividual: Patent https://dome40.eu/semantics/dome4.0_core#PATENT>,\n",
       " <OntologyIndividual: Portable Network Graphics (PNG) https://dome40.eu/semantics/dome4.0_core#PNG>,\n",
       " <OntologyIndividual: Portable document format (PDF) https://dome40.eu/semantics/dome4.0_core#PDF>,\n",
       " <OntologyIndividual: Preview https://dome40.eu/semantics/dome4.0_core#PREVIEW>,\n",
       " <OntologyIndividual: Publication https://dome40.eu/semantics/dome4.0_core#PUBLICATION>,\n",
       " <OntologyIndividual: RDF/XML https://dome40.eu/semantics/dome4.0_core#RDF_XML>,\n",
       " <OntologyIndividual: RETRIEVE_FROM_TEST_PLATFORM_OPERATION https://dome40.eu/semantics/scenario/platforms#RETRIEVE_FROM_TEST_PLATFORM_OPERATION>,\n",
       " <OntologyIndividual: RETRIEVE_FROM_TEST_PLATFORM_SERVICE https://dome40.eu/semantics/scenario/platforms#RETRIEVE_FROM_TEST_PLATFORM_SERVICE>,\n",
       " <OntologyIndividual: Raw Material https://dome40.eu/semantics/dome4.0_core#RAW_MATERIAL>,\n",
       " <OntologyIndividual: Resource Description Framework (RDF) https://dome40.eu/semantics/dome4.0_core#RDF>,\n",
       " <OntologyIndividual: SMILES https://dome40.eu/semantics/dome4.0_core#SMILES>,\n",
       " <OntologyIndividual: Sea vessels https://dome40.eu/semantics/dome4.0_core#SEA_VESSELS>,\n",
       " <OntologyIndividual: Search by exact string match https://dome40.eu/semantics/dome4.0_core#SEARCH_BY_EXACT_STRING_MATCH>,\n",
       " <OntologyIndividual: Search with filter https://dome40.eu/semantics/dome4.0_core#SEARCH_WITH_FILTER>,\n",
       " <OntologyIndividual: Search with logical operator https://dome40.eu/semantics/dome4.0_core#SEARCH_WITH_LOGICAL_OPERATOR>,\n",
       " <OntologyIndividual: Search with wild card https://dome40.eu/semantics/dome4.0_core#SEARCH_WITH_WILD_CARD>,\n",
       " <OntologyIndividual: Simulate https://dome40.eu/semantics/dome4.0_core#SIMULATE>,\n",
       " <OntologyIndividual: Software https://dome40.eu/semantics/dome4.0_core#SOFTWARE>,\n",
       " <OntologyIndividual: Standard for the Exchange of Product (STEP) Data https://dome40.eu/semantics/dome4.0_core#STEP>,\n",
       " <OntologyIndividual: TEST_CATALOG https://dome40.eu/semantics/scenario/platforms#TEST_CATALOG>,\n",
       " <OntologyIndividual: TEST_PLATFORM https://dome40.eu/semantics/scenario/platforms#TEST_PLATFORM>,\n",
       " <OntologyIndividual: THEORETICAL_CRYSTALLOGRAPHY_OPEN_DATABASE https://dome40.eu/semantics/scenario/platforms#THEORETICAL_CRYSTALLOGRAPHY_OPEN_DATABASE>,\n",
       " <OntologyIndividual: THE_OPEN_QUANTUM_MATERIALS https://dome40.eu/semantics/scenario/platforms#THE_OPEN_QUANTUM_MATERIALS>,\n",
       " <OntologyIndividual: TUNNEL_WITH_TEST_PLATFORM_SERVICE https://dome40.eu/semantics/scenario/platforms#TUNNEL_WITH_TEST_PLATFORM_SERVICE>,\n",
       " <OntologyIndividual: Terse RDF Triple Language (Turtle or TTL) https://dome40.eu/semantics/dome4.0_core#TTL>,\n",
       " <OntologyIndividual: Topography https://dome40.eu/semantics/dome4.0_core#TOPOGRAPHY>,\n",
       " <OntologyIndividual: Transform https://dome40.eu/semantics/dome4.0_core#TRANSFORM>,\n",
       " <OntologyIndividual: Update https://dome40.eu/semantics/dome4.0_core#UPDATE>,\n",
       " <OntologyIndividual: Upload https://dome40.eu/semantics/dome4.0_core#UPLOAD>,\n",
       " <OntologyIndividual: View https://dome40.eu/semantics/dome4.0_core#VIEW>,\n",
       " <OntologyIndividual: Web Ontology Language (OWL) - Model and format https://dome40.eu/semantics/dome4.0_core#OWL>,\n",
       " <OntologyIndividual: XYZ atomistic data https://dome40.eu/semantics/dome4.0_core#XYZ>}"
      ]
     },
     "execution_count": 3,
     "metadata": {},
     "output_type": "execute_result"
    }
   ],
   "source": [
    "import_file(SIGRA_ROOT+'dome4.0_core_abox.ttl', all_triples=True)"
   ]
  },
  {
   "cell_type": "code",
   "execution_count": 6,
   "id": "c41570d0",
   "metadata": {
    "scrolled": false
   },
   "outputs": [],
   "source": [
    "#semantic2dot(core_session) # wount work because of the POST ontology bug!"
   ]
  },
  {
   "cell_type": "markdown",
   "id": "aedf2da8",
   "metadata": {},
   "source": [
    "# The native query accroding to type: find all platforms\n",
    "\n",
    "Note the native methods are: \n",
    "\n",
    "- core_session.get()\n",
    "- list(core_sessoin)\n",
    "- core_session.from_label()\n",
    "- ..."
   ]
  },
  {
   "cell_type": "code",
   "execution_count": 7,
   "id": "91941a1f",
   "metadata": {},
   "outputs": [],
   "source": [
    "# This is trivial compared to the sparql: \n",
    "\n",
    "pls=core_session.get(oclass=dcoretbox.Platform)"
   ]
  },
  {
   "cell_type": "code",
   "execution_count": 8,
   "id": "060f56a1",
   "metadata": {},
   "outputs": [
    {
     "data": {
      "text/plain": [
       "12"
      ]
     },
     "execution_count": 8,
     "metadata": {},
     "output_type": "execute_result"
    }
   ],
   "source": [
    "len(pls)"
   ]
  },
  {
   "cell_type": "code",
   "execution_count": 9,
   "id": "db85c497",
   "metadata": {},
   "outputs": [
    {
     "data": {
      "text/plain": [
       "simphony_osp.session.session.SessionSet"
      ]
     },
     "execution_count": 9,
     "metadata": {},
     "output_type": "execute_result"
    }
   ],
   "source": [
    "type(pls)"
   ]
  },
  {
   "cell_type": "code",
   "execution_count": 10,
   "id": "c70ca70a",
   "metadata": {},
   "outputs": [
    {
     "data": {
      "text/plain": [
       "{<OntologyIndividual: THE_OPEN_QUANTUM_MATERIALS https://dome40.eu/semantics/scenario/platforms#THE_OPEN_QUANTUM_MATERIALS>, <OntologyIndividual: MATERIALSPROJECT https://dome40.eu/semantics/scenario/platforms#MATERIALSPROJECT>, <OntologyIndividual: MARKET4.0 https://dome40.eu/semantics/scenario/platforms#MARKET4.0>, <OntologyIndividual: NOMAD https://dome40.eu/semantics/scenario/platforms#NOMAD>, <OntologyIndividual: DOME4.0 https://dome40.eu/semantics/scenario/platforms#DOME4.0>, <OntologyIndividual: CRYSTALLOGRAPHY https://dome40.eu/semantics/scenario/platforms#CRYSTALLOGRAPHY>, <OntologyIndividual: CHEMEO https://dome40.eu/semantics/scenario/platforms#CHEMEO>, <OntologyIndividual: THEORETICAL_CRYSTALLOGRAPHY_OPEN_DATABASE https://dome40.eu/semantics/scenario/platforms#THEORETICAL_CRYSTALLOGRAPHY_OPEN_DATABASE>, <OntologyIndividual: TEST_PLATFORM https://dome40.eu/semantics/scenario/platforms#TEST_PLATFORM>, <OntologyIndividual: PUBCHEM https://dome40.eu/semantics/scenario/platforms#PUBCHEM>, <OntologyIndividual: TEST_CATALOG https://dome40.eu/semantics/scenario/platforms#TEST_CATALOG>, <OntologyIndividual: OPEN_DATABASE_XTALS https://dome40.eu/semantics/scenario/platforms#OPEN_DATABASE_XTALS>} <class Platform of session default session>"
      ]
     },
     "execution_count": 10,
     "metadata": {},
     "output_type": "execute_result"
    }
   ],
   "source": [
    "pls"
   ]
  },
  {
   "cell_type": "code",
   "execution_count": 42,
   "id": "8ac9237f",
   "metadata": {
    "scrolled": true
   },
   "outputs": [
    {
     "name": "stdout",
     "output_type": "stream",
     "text": [
      "-  PUBCHEM \n",
      "\t PubChem is an open chemistry database at the National Institutes of Health (NIH). \n",
      "PubChem mostly contains small molecules, but also larger molecules such as nucleotides, carbohydrates, lipids, peptides, \n",
      "and chemically-modified macromolecules. It collects information on chemical structures, identifiers, chemical and physical \n",
      "properties, biological activities, patents, health, safety, toxicity data, and many others.\n",
      "-  MARKET4.0 \n",
      "\t None\n",
      "-  CHEMEO \n",
      "\t Chemeo is an open, high quality chemical properties database.\n",
      "-  THE_OPEN_QUANTUM_MATERIALS \n",
      "\t Open Quantum Materials database is a high-throughput database consisting\n",
      "  of a large number of density functional theory (DFT) total energy calculations of compounds from the Inorganic Crystal\n",
      "  Structure Database (ICSD) and decorations of commonly occurring crystal structures.\n",
      "-  MATERIALSPROJECT \n",
      "\t The Materials Project provides open web-based access to computed information on known and \n",
      "predicted materials as well as powerful analysis tools to inspire and design novel materials.\n",
      "-  TEST_CATALOG \n",
      "\t None\n",
      "-  DOME4.0 \n",
      "\t Digital Open Marketplace Ecosystem 4.0 (DOME 4.0) is building a semantic industrial data ecosystem for knowledge creation \n",
      "across the entire materials to manufacturing value chains.\n",
      "-  THEORETICAL_CRYSTALLOGRAPHY_OPEN_DATABASE \n",
      "\t Theoretical Crystallography Open Database is an open-access collection of theoretically calculated \n",
      "or refined crystal structures of organic, inorganic, metal-organic compounds and minerals, excluding biopolymers.\n",
      "-  OPEN_DATABASE_XTALS \n",
      "\t Open Database Xtals is a public database of crystal structures from the group \n",
      "of Dr Andrew Morris at the University of Birmingham, currently in public beta with a limited set of structures.\n",
      "-  CRYSTALLOGRAPHY \n",
      "\t Crystallography is an open-access collection of crystal structures of organic, inorganic, \n",
      "metal-organic compounds and minerals, excluding biopolymers.\n",
      "-  TEST_PLATFORM \n",
      "\t None\n",
      "-  NOMAD \n",
      "\t NOMAD is a novel materials discovery database which enables FAIR sharing and use of materials science data.\n"
     ]
    }
   ],
   "source": [
    "ps = []\n",
    "for p in pls:\n",
    "    print(\"- \" , p.label, \"\\n\\t\", p.has_platform_description)\n",
    "    ps.append(p)"
   ]
  },
  {
   "cell_type": "code",
   "execution_count": 43,
   "id": "10b44bd6",
   "metadata": {},
   "outputs": [
    {
     "data": {
      "text/plain": [
       "<OntologyIndividual: PUBCHEM https://dome40.eu/semantics/scenario/platforms#PUBCHEM>"
      ]
     },
     "execution_count": 43,
     "metadata": {},
     "output_type": "execute_result"
    }
   ],
   "source": [
    "ps[0]"
   ]
  },
  {
   "cell_type": "code",
   "execution_count": 46,
   "id": "c45f3422",
   "metadata": {
    "scrolled": true
   },
   "outputs": [
    {
     "data": {
      "text/plain": [
       "simphony_osp.ontology.individual.OntologyIndividual"
      ]
     },
     "execution_count": 46,
     "metadata": {},
     "output_type": "execute_result"
    }
   ],
   "source": [
    "type(ps[0])"
   ]
  },
  {
   "cell_type": "code",
   "execution_count": 47,
   "id": "7cb09889",
   "metadata": {
    "scrolled": true
   },
   "outputs": [
    {
     "name": "stdout",
     "output_type": "stream",
     "text": [
      "PUBCHEM\n"
     ]
    }
   ],
   "source": [
    "print(ps[0])"
   ]
  },
  {
   "cell_type": "code",
   "execution_count": 48,
   "id": "63eb0d43",
   "metadata": {},
   "outputs": [
    {
     "name": "stdout",
     "output_type": "stream",
     "text": [
      "- Ontology individual named PUBCHEM:\n",
      "  identifier: https://dome40.eu/semantics/scenario/platforms#PUBCHEM\n",
      "  type: Platform (dcoretbox )\n",
      "  superclasses: Platform (dcoretbox ), infrastructure (evmpo ), paradigmatic_entity (evmpo ), marketplace_related_entity (evmpo ), immanent_entity (evmpo ), Thing (owl )\n",
      "  values: \u0000has_platform_description: PubChem is an open chemistry database at the National Institutes of Health (NIH). \n",
      "PubChem mostly contains small molecules, but also larger molecules such as nucleotides, carbohydrates, lipids, peptides, \n",
      "and chemically-modified macromolecules. It collects information on chemical structures, identifiers, chemical and physical \n",
      "properties, biological activities, patents, health, safety, toxicity data, and many others.\n",
      "          \u0000has_platform_name: PubChem\n",
      "          \u0000has_platform_url_api_documentation: https://pubchemdocs.ncbi.nlm.nih.gov/pug-rest\n",
      "          \u0000has_platform_url_home: https://pubchem.ncbi.nlm.nih.gov\n",
      "          \u0000has_platform_url_query_api: /api/discover/results/PUBCHEM?search_string=\n",
      "          \u0000has_some_free_product: True\n",
      "   |_Relationship has_platform_topic (dcoretbox ) (dcoretbox):\n",
      "   | - Ontology individual of classes Topic,Concept named Natural sciences\n",
      "   |    identifier: https://dome40.eu/semantics/dome4.0_core#NATURAL_SCIENCES\n",
      "   |     |_Relationship is in scheme (skos ) (skos):\n",
      "   |       - Ontology individual of class Concept Scheme named List of topics\n",
      "   |          identifier: https://dome40.eu/semantics/dome4.0_core#LIST_OF_TOPICS\n",
      "   |_Relationship has_platform_type (dcoretbox ) (dcoretbox):\n",
      "   | - Ontology individual of class Data provider named DATA_PROVIDER\n",
      "   |    identifier: https://dome40.eu/semantics/dome4.0_core#DATA_PROVIDER\n",
      "   |_Relationship offers (dcoretbox ) (dcoretbox):\n",
      "     - Ontology individual of classes Concept,Product type named Material Property\n",
      "        identifier: https://dome40.eu/semantics/dome4.0_core#MATERIAL_PROPERTY\n",
      "         |_Relationship is in scheme (skos ) (skos):\n",
      "           - Ontology individual of class Concept Scheme named List of product types (i.e., the types found on DOME 4.0)\n",
      "              identifier: https://dome40.eu/semantics/dome4.0_core#LIST_OF_PRODUCT_TYPES\n"
     ]
    }
   ],
   "source": [
    "pretty_print(ps[0])"
   ]
  },
  {
   "cell_type": "markdown",
   "id": "566a8a85",
   "metadata": {},
   "source": [
    "## No need to convert SPARQL results into OSP individuals\n",
    "They are already proper individuals!"
   ]
  },
  {
   "cell_type": "code",
   "execution_count": 49,
   "id": "31e0a4ee",
   "metadata": {
    "scrolled": true
   },
   "outputs": [
    {
     "data": {
      "text/plain": [
       "mappingproxy({<OntologyAttribute: has_platform_name https://dome40.eu/semantics/dome4.0_core#has_platform_name>: frozenset({'PubChem'}),\n",
       "              <OntologyAttribute: has_platform_url_home https://dome40.eu/semantics/dome4.0_core#has_platform_url_home>: frozenset({'https://pubchem.ncbi.nlm.nih.gov'}),\n",
       "              <OntologyAttribute: has_platform_url_query_api https://dome40.eu/semantics/dome4.0_core#has_platform_url_query_api>: frozenset({'/api/discover/results/PUBCHEM?search_string='}),\n",
       "              <OntologyAttribute: has_platform_description https://dome40.eu/semantics/dome4.0_core#has_platform_description>: frozenset({'PubChem is an open chemistry database at the National Institutes of Health (NIH). \\nPubChem mostly contains small molecules, but also larger molecules such as nucleotides, carbohydrates, lipids, peptides, \\nand chemically-modified macromolecules. It collects information on chemical structures, identifiers, chemical and physical \\nproperties, biological activities, patents, health, safety, toxicity data, and many others.'}),\n",
       "              <OntologyAttribute: has_some_free_product https://dome40.eu/semantics/dome4.0_core#has_some_free_product>: frozenset({True}),\n",
       "              <OntologyAttribute: has_platform_url_api_documentation https://dome40.eu/semantics/dome4.0_core#has_platform_url_api_documentation>: frozenset({'https://pubchemdocs.ncbi.nlm.nih.gov/pug-rest'})})"
      ]
     },
     "execution_count": 49,
     "metadata": {},
     "output_type": "execute_result"
    }
   ],
   "source": [
    "#this gives the attributes that can be changed as per dot or indec `[]` notation\n",
    "ps[0].attributes"
   ]
  },
  {
   "cell_type": "markdown",
   "id": "9d29d595",
   "metadata": {},
   "source": [
    "Note: the mapping proxy means its a dict that we cannot change! that is all (native python from the types module)"
   ]
  },
  {
   "cell_type": "code",
   "execution_count": 97,
   "id": "f43667dd",
   "metadata": {},
   "outputs": [
    {
     "name": "stdout",
     "output_type": "stream",
     "text": [
      "<class 'tuple'> :\t  has_platform_topic : Natural sciences\n",
      "<class 'tuple'> :\t  offers : Material Property\n",
      "<class 'tuple'> :\t  has_platform_type : DATA_PROVIDER\n"
     ]
    }
   ],
   "source": [
    "# this is a wierd iterator! need to specify exlicitly that we need the relations too! \n",
    "for i in ps[0].relationships_iter(return_rel=True):\n",
    "    print(type(i), \":\\t \", i[1], \":\", i[0])"
   ]
  },
  {
   "cell_type": "code",
   "execution_count": 54,
   "id": "bc5a83b8",
   "metadata": {},
   "outputs": [],
   "source": [
    "#get the attributes as strings\n",
    "x=[i.label for i in ps[0].attributes]"
   ]
  },
  {
   "cell_type": "code",
   "execution_count": 55,
   "id": "52a48165",
   "metadata": {},
   "outputs": [
    {
     "data": {
      "text/plain": [
       "['has_platform_name',\n",
       " 'has_platform_url_home',\n",
       " 'has_platform_url_query_api',\n",
       " 'has_platform_description',\n",
       " 'has_some_free_product',\n",
       " 'has_platform_url_api_documentation']"
      ]
     },
     "execution_count": 55,
     "metadata": {},
     "output_type": "execute_result"
    }
   ],
   "source": [
    "x"
   ]
  },
  {
   "cell_type": "markdown",
   "id": "ce1149c6",
   "metadata": {},
   "source": [
    "# The SPARQL query accroding to type and Relation\n",
    "\n",
    "Find all platforms that has an Owner!\n"
   ]
  },
  {
   "cell_type": "code",
   "execution_count": 100,
   "id": "9e169dbe",
   "metadata": {},
   "outputs": [
    {
     "name": "stdout",
     "output_type": "stream",
     "text": [
      "<class 'tuple'> :\t  offers : Material Property\n"
     ]
    }
   ],
   "source": [
    "for i in ps[0].relationships_iter(rel=dcoretbox.offers, return_rel=True):\n",
    "    print(type(i), \":\\t \", i[1], \":\", i[0])"
   ]
  },
  {
   "cell_type": "code",
   "execution_count": 101,
   "id": "629fab68",
   "metadata": {},
   "outputs": [
    {
     "name": "stdout",
     "output_type": "stream",
     "text": [
      "Natural sciences\n",
      "DATA_PROVIDER\n",
      "Material Property\n"
     ]
    }
   ],
   "source": [
    "for i in ps[0].iter():\n",
    "    print (i)"
   ]
  },
  {
   "cell_type": "code",
   "execution_count": 131,
   "id": "33c9c5f7",
   "metadata": {},
   "outputs": [
    {
     "name": "stdout",
     "output_type": "stream",
     "text": [
      "Platform: PUBCHEM\n",
      "1\n",
      "<class 'simphony_osp.ontology.individual.OntologyIndividual'>\n",
      "Platform: MARKET4.0\n",
      "1\n",
      "<class 'simphony_osp.ontology.individual.OntologyIndividual'>\n",
      "Platform: CHEMEO\n",
      "1\n",
      "<class 'simphony_osp.ontology.individual.OntologyIndividual'>\n",
      "Platform: THE_OPEN_QUANTUM_MATERIALS\n",
      "1\n",
      "<class 'simphony_osp.ontology.individual.OntologyIndividual'>\n",
      "Platform: MATERIALSPROJECT\n",
      "1\n",
      "<class 'simphony_osp.ontology.individual.OntologyIndividual'>\n",
      "Platform: TEST_CATALOG\n",
      "0\n",
      "Platform: DOME4.0\n",
      "0\n",
      "Platform: THEORETICAL_CRYSTALLOGRAPHY_OPEN_DATABASE\n",
      "1\n",
      "<class 'simphony_osp.ontology.individual.OntologyIndividual'>\n",
      "Platform: OPEN_DATABASE_XTALS\n",
      "1\n",
      "<class 'simphony_osp.ontology.individual.OntologyIndividual'>\n",
      "Platform: CRYSTALLOGRAPHY\n",
      "1\n",
      "<class 'simphony_osp.ontology.individual.OntologyIndividual'>\n",
      "Platform: TEST_PLATFORM\n",
      "Platform: NOMAD\n",
      "1\n",
      "<class 'simphony_osp.ontology.individual.OntologyIndividual'>\n"
     ]
    }
   ],
   "source": [
    "for i in core_session.get(oclass=dcoretbox.Platform):\n",
    "    print('Platform:', i)\n",
    "    try:\n",
    "        l=list(search.find_relationships(i, dcoretbox.offers, rel=owl.topObjectProperty))\n",
    "        print(len(l))\n",
    "        for j in l:\n",
    "            print(type(j))\n",
    "            #pretty_print(j, rel=dcoretbox.offers)\n",
    "    except:\n",
    "        pass"
   ]
  },
  {
   "cell_type": "code",
   "execution_count": 146,
   "id": "3143a81e",
   "metadata": {},
   "outputs": [
    {
     "name": "stdout",
     "output_type": "stream",
     "text": [
      "PUBCHEM has_platform_type(s) ['DATA_PROVIDER']\n",
      "MARKET4.0 has_platform_type(s) ['CONSUMER', 'DATA_PROVIDER']\n",
      "CHEMEO has_platform_type(s) ['DATA_PROVIDER']\n",
      "THE_OPEN_QUANTUM_MATERIALS has_platform_type(s) ['CONSUMER', 'DATA_PROVIDER', 'INTERACTIVE_APP_PROVIDER']\n",
      "MATERIALSPROJECT has_platform_type(s) ['CONSUMER', 'DATA_PROVIDER', 'INTERACTIVE_APP_PROVIDER']\n",
      "TEST_CATALOG has_platform_type(s) []\n",
      "DOME4.0 has_platform_type(s) []\n",
      "THEORETICAL_CRYSTALLOGRAPHY_OPEN_DATABASE has_platform_type(s) ['CONSUMER', 'DATA_PROVIDER', 'INTERACTIVE_APP_PROVIDER']\n",
      "OPEN_DATABASE_XTALS has_platform_type(s) ['CONSUMER', 'DATA_PROVIDER', 'INTERACTIVE_APP_PROVIDER']\n",
      "CRYSTALLOGRAPHY has_platform_type(s) ['CONSUMER', 'DATA_PROVIDER', 'INTERACTIVE_APP_PROVIDER']\n",
      "TEST_PLATFORM has_platform_type(s) ['DATA_ON_DEMAND_PROVIDER']\n",
      "NOMAD has_platform_type(s) ['CONSUMER', 'DATA_PROVIDER', 'INTERACTIVE_APP_PROVIDER']\n"
     ]
    }
   ],
   "source": [
    "for i in core_session.get(oclass=dcoretbox.Platform):\n",
    "    re=[]\n",
    "    for j in i.relationships_iter(rel=dcoretbox.has_platform_type, return_rel=True):\n",
    "        if j is not None:\n",
    "            re.append(j[0].label)\n",
    "    print(i, \"has_platform_type(s)\", re)\n",
    " "
   ]
  },
  {
   "cell_type": "code",
   "execution_count": null,
   "id": "2bfb16b4",
   "metadata": {},
   "outputs": [],
   "source": []
  }
 ],
 "metadata": {
  "kernelspec": {
   "display_name": ".env",
   "language": "python",
   "name": ".env"
  },
  "language_info": {
   "codemirror_mode": {
    "name": "ipython",
    "version": 3
   },
   "file_extension": ".py",
   "mimetype": "text/x-python",
   "name": "python",
   "nbconvert_exporter": "python",
   "pygments_lexer": "ipython3",
   "version": "3.11.3"
  }
 },
 "nbformat": 4,
 "nbformat_minor": 5
}
