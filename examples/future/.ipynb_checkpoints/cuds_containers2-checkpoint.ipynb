{
 "cells": [
  {
   "cell_type": "code",
   "execution_count": 1,
   "id": "c459e742",
   "metadata": {},
   "outputs": [
    {
     "name": "stderr",
     "output_type": "stream",
     "text": [
      "* Owlready2 * Warning: optimized Cython parser module 'owlready2_optimized' is not available, defaulting to slower Python implementation\n",
      "\n",
      "Warning: SQLite3 version 3.40.0 and 3.41.2 have huge performance regressions; please install version 3.41.1 or 3.42!\n",
      "\n"
     ]
    }
   ],
   "source": [
    "from simphony_osp.namespaces import city, owl,foaf, rdfs, emmo, domeo, dome4core, evmpo\n",
    "from ontopy import get_ontology\n",
    "\n",
    "from simphony_osp.tools import semantic2dot, pretty_print\n",
    "from simphony_osp.tools import search,  export_file, import_file, pretty_print, search\n",
    "from simphony_osp.tools.search import sparql\n",
    "\n",
    "from simphony_osp.ontology import RESTRICTION_QUANTIFIER, RESTRICTION_TYPE, OntologyIndividual\n",
    "from simphony_osp.ontology import COMPOSITION_OPERATOR, Composition, Restriction\n",
    "\n",
    "from simphony_osp.ontology.relationship import OntologyRelationship\n",
    "\n",
    "from simphony_osp.session import Session, core_session\n"
   ]
  },
  {
   "cell_type": "markdown",
   "id": "01fe10ab",
   "metadata": {},
   "source": [
    "# Purpose\n",
    "Test a container with as realistic as possible ontology. \n",
    "we start by creating a domeo ontology, which is emmo + eco system one, + dataset. Teh dataset ontology becomes simply a container which defines a donme_data_Set container and says exactly what should be in it. It will be a CUDS subclass. CUDS are containers all the way. \n",
    "\n",
    "- [ ] Get emmo inferred loaded into the domeo with all the other needed packages. \n",
    "- [X] Test if in simphony we can mix s, p, o from three different ontologies!\n"
   ]
  },
  {
   "cell_type": "code",
   "execution_count": 2,
   "id": "92f861b0",
   "metadata": {},
   "outputs": [
    {
     "ename": "NameError",
     "evalue": "name 'emmo' is not defined",
     "output_type": "error",
     "traceback": [
      "\u001b[0;31m---------------------------------------------------------------------------\u001b[0m",
      "\u001b[0;31mNameError\u001b[0m                                 Traceback (most recent call last)",
      "Cell \u001b[0;32mIn[2], line 1\u001b[0m\n\u001b[0;32m----> 1\u001b[0m x\u001b[38;5;241m=\u001b[39m\u001b[43memmo\u001b[49m\u001b[38;5;241m.\u001b[39mDataSet()\n",
      "\u001b[0;31mNameError\u001b[0m: name 'emmo' is not defined"
     ]
    }
   ],
   "source": [
    "x=emmo.DataSet()"
   ]
  },
  {
   "cell_type": "code",
   "execution_count": null,
   "id": "2b6072d0",
   "metadata": {},
   "outputs": [],
   "source": [
    "x"
   ]
  },
  {
   "cell_type": "code",
   "execution_count": null,
   "id": "b1801c51",
   "metadata": {},
   "outputs": [],
   "source": [
    "y=domeo.DomeDataSet()"
   ]
  },
  {
   "cell_type": "code",
   "execution_count": null,
   "id": "6a396996",
   "metadata": {},
   "outputs": [],
   "source": [
    "y"
   ]
  },
  {
   "cell_type": "code",
   "execution_count": null,
   "id": "fa2911ec",
   "metadata": {},
   "outputs": [],
   "source": [
    "pretty_print(x)"
   ]
  },
  {
   "cell_type": "markdown",
   "id": "48d041be",
   "metadata": {},
   "source": [
    "pretty_print(y)"
   ]
  },
  {
   "cell_type": "code",
   "execution_count": null,
   "id": "eb9de34a",
   "metadata": {},
   "outputs": [],
   "source": [
    "z=domeo.CUDS()"
   ]
  },
  {
   "cell_type": "code",
   "execution_count": null,
   "id": "9561e4e4",
   "metadata": {},
   "outputs": [],
   "source": [
    "pretty_print(z)"
   ]
  },
  {
   "cell_type": "code",
   "execution_count": null,
   "id": "769ff6f8",
   "metadata": {},
   "outputs": [],
   "source": [
    "w=domeo.Tier1()"
   ]
  },
  {
   "cell_type": "code",
   "execution_count": null,
   "id": "85bcf149",
   "metadata": {},
   "outputs": [],
   "source": [
    "pretty_print(w)"
   ]
  },
  {
   "cell_type": "code",
   "execution_count": null,
   "id": "67f3e471",
   "metadata": {},
   "outputs": [],
   "source": [
    "q=dome4core.data_schema()"
   ]
  },
  {
   "cell_type": "code",
   "execution_count": null,
   "id": "bf227daf",
   "metadata": {},
   "outputs": [],
   "source": [
    "pretty_print(q)"
   ]
  },
  {
   "cell_type": "markdown",
   "id": "8936c98d",
   "metadata": {},
   "source": [
    "WIP: add preflabel to all ontologies that use identifier. this will solve the None above, additionally we look into it in SimPhoNy, to be more smarter. "
   ]
  },
  {
   "cell_type": "code",
   "execution_count": 3,
   "id": "68cce0d4",
   "metadata": {},
   "outputs": [],
   "source": [
    "q=evmpo.agent()\n"
   ]
  },
  {
   "cell_type": "code",
   "execution_count": 4,
   "id": "f834937a",
   "metadata": {},
   "outputs": [
    {
     "name": "stdout",
     "output_type": "stream",
     "text": [
      "- Ontology individual:\n",
      "  identifier: 42c26a91-99a6-4adc-861d-4b20d01f141a\n",
      "  type: None (evmpo )\n",
      "  superclasses: None (evmpo ), None (evmpo ), None (evmpo ), None (evmpo ), None (evmpo ), Thing (owl )\n"
     ]
    }
   ],
   "source": [
    "pretty_print(q)"
   ]
  },
  {
   "cell_type": "code",
   "execution_count": null,
   "id": "8090451f",
   "metadata": {},
   "outputs": [],
   "source": [
    "q\n"
   ]
  },
  {
   "cell_type": "code",
   "execution_count": null,
   "id": "acf3e94b",
   "metadata": {},
   "outputs": [],
   "source": []
  }
 ],
 "metadata": {
  "kernelspec": {
   "display_name": ".venv",
   "language": "python",
   "name": ".venv"
  },
  "language_info": {
   "codemirror_mode": {
    "name": "ipython",
    "version": 3
   },
   "file_extension": ".py",
   "mimetype": "text/x-python",
   "name": "python",
   "nbconvert_exporter": "python",
   "pygments_lexer": "ipython3",
   "version": "3.11.3"
  }
 },
 "nbformat": 4,
 "nbformat_minor": 5
}
