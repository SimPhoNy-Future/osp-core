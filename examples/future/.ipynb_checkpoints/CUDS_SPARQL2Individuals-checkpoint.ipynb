{
 "cells": [
  {
   "cell_type": "code",
   "execution_count": 1,
   "id": "c459e742",
   "metadata": {},
   "outputs": [],
   "source": [
    "from simphony_osp.namespaces import city, rdfschema, dcoretbox, simphony\n",
    "from simphony_osp.namespaces import owl,foaf, emmo, domeo, dcterms, evmpo, eurosci, iof\n",
    "from simphony_osp.namespaces import http_method\n",
    "\n",
    "from simphony_osp.tools import semantic2dot, pretty_print\n",
    "from simphony_osp.tools import search,  export_file, import_file, pretty_print, search\n",
    "from simphony_osp.tools.search import sparql\n",
    "\n",
    "from simphony_osp.ontology import RESTRICTION_QUANTIFIER, RESTRICTION_TYPE, OntologyIndividual\n",
    "from simphony_osp.ontology import COMPOSITION_OPERATOR, Composition, Restriction\n",
    "\n",
    "from simphony_osp.ontology.relationship import OntologyRelationship\n",
    "from simphony_osp.ontology.annotation import OntologyAnnotation\n",
    "\n",
    "from simphony_osp.session import Session, core_session\n"
   ]
  },
  {
   "cell_type": "markdown",
   "id": "01fe10ab",
   "metadata": {},
   "source": [
    "# CUDS DOME 4.0 Platforms\n",
    "- [X] Query existing platform and display them  \n",
    "- [X] Update and store a platform \n",
    "- [X] create nd store a new platform from scratch\n",
    "\n",
    "For reference: \n",
    "<img src=\"./imgs/platform_catalogue_resource_service_MIRO_2022_10_12.jpg\" style=\"width:480px\">\n"
   ]
  },
  {
   "cell_type": "markdown",
   "id": "de54b3c3",
   "metadata": {},
   "source": [
    "#### Load the core database which has all the platforms now"
   ]
  },
  {
   "cell_type": "code",
   "execution_count": null,
   "id": "d44302bf",
   "metadata": {},
   "outputs": [],
   "source": []
  },
  {
   "cell_type": "code",
   "execution_count": 2,
   "id": "a59b4c06",
   "metadata": {},
   "outputs": [],
   "source": [
    "SIGRA_ROOT='/Users/adham/dev/new/dome/Ontology-matters/'"
   ]
  },
  {
   "cell_type": "code",
   "execution_count": 3,
   "id": "4cd6e19d",
   "metadata": {},
   "outputs": [
    {
     "data": {
      "text/plain": [
       "{<OntologyIndividual: AiiDA export file https://dome40.eu/semantics/dome4.0_core#AIIDA_FORMAT>,\n",
       " <OntologyIndividual: CAS Number https://dome40.eu/semantics/dome4.0_core#CAS_NUMBER>,\n",
       " <OntologyIndividual: CHEMEO https://dome40.eu/semantics/scenario/platforms#CHEMEO>,\n",
       " <OntologyIndividual: CONSUMER https://dome40.eu/semantics/dome4.0_core#CONSUMER>,\n",
       " <OntologyIndividual: CRYSTALLOGRAPHY https://dome40.eu/semantics/scenario/platforms#CRYSTALLOGRAPHY>,\n",
       " <OntologyIndividual: Cartography https://dome40.eu/semantics/dome4.0_core#CARTOGRAPHY>,\n",
       " <OntologyIndividual: Comma-separated Values (CSV) https://dome40.eu/semantics/dome4.0_core#CSV>,\n",
       " <OntologyIndividual: Compare https://dome40.eu/semantics/dome4.0_core#COMPARE>,\n",
       " <OntologyIndividual: Crystallographic Information Framework (CIF) - Model and format https://dome40.eu/semantics/dome4.0_core#CIF>,\n",
       " <OntologyIndividual: DATA_ON_DEMAND_PROVIDER https://dome40.eu/semantics/dome4.0_core#DATA_ON_DEMAND_PROVIDER>,\n",
       " <OntologyIndividual: DATA_PROVIDER https://dome40.eu/semantics/dome4.0_core#DATA_PROVIDER>,\n",
       " <OntologyIndividual: DOME 4.0 Consortium https://dome40.eu/semantics/scenario/platforms#DOME4.0_CONSORTIUM>,\n",
       " <OntologyIndividual: DOME4.0 https://dome40.eu/semantics/scenario/platforms#DOME4.0>,\n",
       " <OntologyIndividual: Download https://dome40.eu/semantics/dome4.0_core#DOWNLOAD>,\n",
       " <OntologyIndividual: EC Number https://dome40.eu/semantics/dome4.0_core#EC_NUMBER>,\n",
       " <OntologyIndividual: EXAMPLE_DOME_FLAT_SUBSCRIPTION_CHEMEO_MATERIALSPROJECT https://dome40.eu/semantics/scenario/platforms#EXAMPLE_DOME_FLAT_SUBSCRIPTION_CHEMEO_MATERIALSPROJECT>,\n",
       " <OntologyIndividual: EXAMPLE_DOME_SUBSCRIPTION_BY_USAGE_CHEMEO_MATERIALSPROJECT https://dome40.eu/semantics/scenario/platforms#EXAMPLE_DOME_SUBSCRIPTION_BY_USAGE_CHEMEO_MATERIALSPROJECT>,\n",
       " <OntologyIndividual: Engineering and technology https://dome40.eu/semantics/dome4.0_core#ENGINEERING_AND_TECHNOLOGY>,\n",
       " <OntologyIndividual: Equipment https://dome40.eu/semantics/dome4.0_core#EQUIPMENT>,\n",
       " <OntologyIndividual: Evaluate FAIRness https://dome40.eu/semantics/dome4.0_core#EVALUATE_FAIRNESS>,\n",
       " <OntologyIndividual: Experimental Data https://dome40.eu/semantics/dome4.0_core#EXPERIMENTAL_DATA>,\n",
       " <OntologyIndividual: Extract https://dome40.eu/semantics/dome4.0_core#EXTRACT>,\n",
       " <OntologyIndividual: Geographic Tagged Image File Format (GeoTIFF) https://dome40.eu/semantics/dome4.0_core#GEOTIFF>,\n",
       " <OntologyIndividual: IDS (International Data Space) API specification https://dome40.eu/semantics/dome4.0_core#IDS_API_SPECIFICATION>,\n",
       " <OntologyIndividual: INTERACTIVE_APP_PROVIDER https://dome40.eu/semantics/dome4.0_core#INTERACTIVE_APP_PROVIDER>,\n",
       " <OntologyIndividual: IUPAC InChi https://dome40.eu/semantics/dome4.0_core#IUPAC_INCHI>,\n",
       " <OntologyIndividual: JavaScript Object Notation (JSON) https://dome40.eu/semantics/dome4.0_core#JSON>,\n",
       " <OntologyIndividual: JavaScript Object Notation for Linking Data (JSON-LD) https://dome40.eu/semantics/dome4.0_core#JSON-LD>,\n",
       " <OntologyIndividual: Joint Photographic Experts Group Format (JPEG) https://dome40.eu/semantics/dome4.0_core#JPEG>,\n",
       " <OntologyIndividual: List of API spefications https://dome40.eu/semantics/dome4.0_core#LIST_OF_STANDARD_API_SPECIFICATIONS>,\n",
       " <OntologyIndividual: List of data actions https://dome40.eu/semantics/dome4.0_core#LIST_OF_DATA_ACTIONS>,\n",
       " <OntologyIndividual: List of file formats https://dome40.eu/semantics/dome4.0_core#LIST_OF_FILE_FORMATS>,\n",
       " <OntologyIndividual: List of product types (i.e., the types found on DOME 4.0) https://dome40.eu/semantics/dome4.0_core#LIST_OF_PRODUCT_TYPES>,\n",
       " <OntologyIndividual: List of search actions https://dome40.eu/semantics/dome4.0_core#LIST_OF_SEARCH_ACTIONS>,\n",
       " <OntologyIndividual: List of topics https://dome40.eu/semantics/dome4.0_core#LIST_OF_TOPICS>,\n",
       " <OntologyIndividual: List of widely used standard identifiers for the materials and manufacturing domain. https://dome40.eu/semantics/dome4.0_core#LIST_OF_STANDARD_IDENTIFIERS>,\n",
       " <OntologyIndividual: MARKET4.0 https://dome40.eu/semantics/scenario/platforms#MARKET4.0>,\n",
       " <OntologyIndividual: MATERIALSPROJECT https://dome40.eu/semantics/scenario/platforms#MATERIALSPROJECT>,\n",
       " <OntologyIndividual: Material Property https://dome40.eu/semantics/dome4.0_core#MATERIAL_PROPERTY>,\n",
       " <OntologyIndividual: Medical and health sciences https://dome40.eu/semantics/dome4.0_core#MEDICAL_AND_HEALTH_SCIENCES>,\n",
       " <OntologyIndividual: Meteorology https://dome40.eu/semantics/dome4.0_core#METEOROLOGY>,\n",
       " <OntologyIndividual: Microsoft Excel format (XLSX) https://dome40.eu/semantics/dome4.0_core#XLSX>,\n",
       " <OntologyIndividual: Modelling Data https://dome40.eu/semantics/dome4.0_core#MODELLING_DATA>,\n",
       " <OntologyIndividual: NOMAD https://dome40.eu/semantics/scenario/platforms#NOMAD>,\n",
       " <OntologyIndividual: Natural sciences https://dome40.eu/semantics/dome4.0_core#NATURAL_SCIENCES>,\n",
       " <OntologyIndividual: Navigation systems https://dome40.eu/semantics/dome4.0_core#NAVIGATION_SYSTEMS>,\n",
       " <OntologyIndividual: OPEN_DATABASE_XTALS https://dome40.eu/semantics/scenario/platforms#OPEN_DATABASE_XTALS>,\n",
       " <OntologyIndividual: OPTIMADE API specification https://dome40.eu/semantics/dome4.0_core#OPTIMADE_API_SPECIFICATION>,\n",
       " <OntologyIndividual: Observational Data https://dome40.eu/semantics/dome4.0_core#OBSERVATIONAL_DATA>,\n",
       " <OntologyIndividual: POPULATE_TEST_PLATFORM_OPERATION https://dome40.eu/semantics/scenario/platforms#POPULATE_TEST_PLATFORM_OPERATION>,\n",
       " <OntologyIndividual: POPULATE_TEST_PLATFORM_SERVICE https://dome40.eu/semantics/scenario/platforms#POPULATE_TEST_PLATFORM_SERVICE>,\n",
       " <OntologyIndividual: PUBCHEM https://dome40.eu/semantics/scenario/platforms#PUBCHEM>,\n",
       " <OntologyIndividual: Patent https://dome40.eu/semantics/dome4.0_core#PATENT>,\n",
       " <OntologyIndividual: Portable Network Graphics (PNG) https://dome40.eu/semantics/dome4.0_core#PNG>,\n",
       " <OntologyIndividual: Portable document format (PDF) https://dome40.eu/semantics/dome4.0_core#PDF>,\n",
       " <OntologyIndividual: Preview https://dome40.eu/semantics/dome4.0_core#PREVIEW>,\n",
       " <OntologyIndividual: Publication https://dome40.eu/semantics/dome4.0_core#PUBLICATION>,\n",
       " <OntologyIndividual: RDF/XML https://dome40.eu/semantics/dome4.0_core#RDF_XML>,\n",
       " <OntologyIndividual: RETRIEVE_FROM_TEST_PLATFORM_OPERATION https://dome40.eu/semantics/scenario/platforms#RETRIEVE_FROM_TEST_PLATFORM_OPERATION>,\n",
       " <OntologyIndividual: RETRIEVE_FROM_TEST_PLATFORM_SERVICE https://dome40.eu/semantics/scenario/platforms#RETRIEVE_FROM_TEST_PLATFORM_SERVICE>,\n",
       " <OntologyIndividual: Raw Material https://dome40.eu/semantics/dome4.0_core#RAW_MATERIAL>,\n",
       " <OntologyIndividual: Resource Description Framework (RDF) https://dome40.eu/semantics/dome4.0_core#RDF>,\n",
       " <OntologyIndividual: SMILES https://dome40.eu/semantics/dome4.0_core#SMILES>,\n",
       " <OntologyIndividual: Sea vessels https://dome40.eu/semantics/dome4.0_core#SEA_VESSELS>,\n",
       " <OntologyIndividual: Search by exact string match https://dome40.eu/semantics/dome4.0_core#SEARCH_BY_EXACT_STRING_MATCH>,\n",
       " <OntologyIndividual: Search with filter https://dome40.eu/semantics/dome4.0_core#SEARCH_WITH_FILTER>,\n",
       " <OntologyIndividual: Search with logical operator https://dome40.eu/semantics/dome4.0_core#SEARCH_WITH_LOGICAL_OPERATOR>,\n",
       " <OntologyIndividual: Search with wild card https://dome40.eu/semantics/dome4.0_core#SEARCH_WITH_WILD_CARD>,\n",
       " <OntologyIndividual: Simulate https://dome40.eu/semantics/dome4.0_core#SIMULATE>,\n",
       " <OntologyIndividual: Software https://dome40.eu/semantics/dome4.0_core#SOFTWARE>,\n",
       " <OntologyIndividual: Standard for the Exchange of Product (STEP) Data https://dome40.eu/semantics/dome4.0_core#STEP>,\n",
       " <OntologyIndividual: TEST_CATALOG https://dome40.eu/semantics/scenario/platforms#TEST_CATALOG>,\n",
       " <OntologyIndividual: TEST_PLATFORM https://dome40.eu/semantics/scenario/platforms#TEST_PLATFORM>,\n",
       " <OntologyIndividual: THEORETICAL_CRYSTALLOGRAPHY_OPEN_DATABASE https://dome40.eu/semantics/scenario/platforms#THEORETICAL_CRYSTALLOGRAPHY_OPEN_DATABASE>,\n",
       " <OntologyIndividual: THE_OPEN_QUANTUM_MATERIALS https://dome40.eu/semantics/scenario/platforms#THE_OPEN_QUANTUM_MATERIALS>,\n",
       " <OntologyIndividual: TUNNEL_WITH_TEST_PLATFORM_SERVICE https://dome40.eu/semantics/scenario/platforms#TUNNEL_WITH_TEST_PLATFORM_SERVICE>,\n",
       " <OntologyIndividual: Terse RDF Triple Language (Turtle or TTL) https://dome40.eu/semantics/dome4.0_core#TTL>,\n",
       " <OntologyIndividual: Topography https://dome40.eu/semantics/dome4.0_core#TOPOGRAPHY>,\n",
       " <OntologyIndividual: Transform https://dome40.eu/semantics/dome4.0_core#TRANSFORM>,\n",
       " <OntologyIndividual: Update https://dome40.eu/semantics/dome4.0_core#UPDATE>,\n",
       " <OntologyIndividual: Upload https://dome40.eu/semantics/dome4.0_core#UPLOAD>,\n",
       " <OntologyIndividual: View https://dome40.eu/semantics/dome4.0_core#VIEW>,\n",
       " <OntologyIndividual: Web Ontology Language (OWL) - Model and format https://dome40.eu/semantics/dome4.0_core#OWL>,\n",
       " <OntologyIndividual: XYZ atomistic data https://dome40.eu/semantics/dome4.0_core#XYZ>}"
      ]
     },
     "execution_count": 3,
     "metadata": {},
     "output_type": "execute_result"
    }
   ],
   "source": [
    "import_file(SIGRA_ROOT+'dome4.0_core_abox.ttl', all_triples=True)"
   ]
  },
  {
   "cell_type": "markdown",
   "id": "aedf2da8",
   "metadata": {},
   "source": [
    "# The SPARQL query accroding to type: find all platforms"
   ]
  },
  {
   "cell_type": "code",
   "execution_count": 4,
   "id": "91941a1f",
   "metadata": {},
   "outputs": [],
   "source": [
    "# query all triplets that define the type of the object, i.e, the object is type, \n",
    "# and the predicte is the IRI of a platform from teh core ontolgy in this case. \n",
    "\n",
    "result_platforms = sparql(\n",
    "    f\"\"\"SELECT ?s WHERE {{\n",
    "        ?s rdf:type <{dcoretbox.platform.identifier}>  .\n",
    "        \n",
    "    }}\n",
    "    \"\"\")"
   ]
  },
  {
   "cell_type": "code",
   "execution_count": 5,
   "id": "060f56a1",
   "metadata": {},
   "outputs": [
    {
     "data": {
      "text/plain": [
       "12"
      ]
     },
     "execution_count": 5,
     "metadata": {},
     "output_type": "execute_result"
    }
   ],
   "source": [
    "len(result_platforms)"
   ]
  },
  {
   "cell_type": "code",
   "execution_count": 6,
   "id": "db85c497",
   "metadata": {},
   "outputs": [
    {
     "data": {
      "text/plain": [
       "simphony_osp.session.session.QueryResult"
      ]
     },
     "execution_count": 6,
     "metadata": {},
     "output_type": "execute_result"
    }
   ],
   "source": [
    "type(result_platforms)"
   ]
  },
  {
   "cell_type": "code",
   "execution_count": 7,
   "id": "c70ca70a",
   "metadata": {},
   "outputs": [
    {
     "data": {
      "text/plain": [
       "<simphony_osp.session.session.QueryResult at 0x11197eb50>"
      ]
     },
     "execution_count": 7,
     "metadata": {},
     "output_type": "execute_result"
    }
   ],
   "source": [
    "result_platforms"
   ]
  },
  {
   "cell_type": "code",
   "execution_count": 74,
   "id": "39eb41e8",
   "metadata": {},
   "outputs": [
    {
     "name": "stdout",
     "output_type": "stream",
     "text": [
      "1\n",
      "1\n",
      "1\n",
      "1\n",
      "1\n",
      "1\n",
      "1\n",
      "1\n",
      "1\n",
      "1\n",
      "1\n",
      "1\n"
     ]
    }
   ],
   "source": [
    "rlist = []\n",
    "for r in result_platforms:\n",
    "    print(len(r))"
   ]
  },
  {
   "cell_type": "code",
   "execution_count": 8,
   "id": "8ac9237f",
   "metadata": {
    "scrolled": true
   },
   "outputs": [
    {
     "name": "stdout",
     "output_type": "stream",
     "text": [
      "(rdflib.term.URIRef('https://dome40.eu/semantics/scenario/platforms#TEST_CATALOG'),)\n",
      "(rdflib.term.URIRef('https://dome40.eu/semantics/scenario/platforms#CRYSTALLOGRAPHY'),)\n",
      "(rdflib.term.URIRef('https://dome40.eu/semantics/scenario/platforms#NOMAD'),)\n",
      "(rdflib.term.URIRef('https://dome40.eu/semantics/scenario/platforms#CHEMEO'),)\n",
      "(rdflib.term.URIRef('https://dome40.eu/semantics/scenario/platforms#TEST_PLATFORM'),)\n",
      "(rdflib.term.URIRef('https://dome40.eu/semantics/scenario/platforms#MATERIALSPROJECT'),)\n",
      "(rdflib.term.URIRef('https://dome40.eu/semantics/scenario/platforms#OPEN_DATABASE_XTALS'),)\n",
      "(rdflib.term.URIRef('https://dome40.eu/semantics/scenario/platforms#THEORETICAL_CRYSTALLOGRAPHY_OPEN_DATABASE'),)\n",
      "(rdflib.term.URIRef('https://dome40.eu/semantics/scenario/platforms#PUBCHEM'),)\n",
      "(rdflib.term.URIRef('https://dome40.eu/semantics/scenario/platforms#MARKET4.0'),)\n",
      "(rdflib.term.URIRef('https://dome40.eu/semantics/scenario/platforms#DOME4.0'),)\n",
      "(rdflib.term.URIRef('https://dome40.eu/semantics/scenario/platforms#THE_OPEN_QUANTUM_MATERIALS'),)\n"
     ]
    }
   ],
   "source": [
    "ps = []\n",
    "for p in result_platforms:\n",
    "    print(p)\n",
    "    ps.append(p)"
   ]
  },
  {
   "cell_type": "code",
   "execution_count": 9,
   "id": "bdb92933",
   "metadata": {},
   "outputs": [
    {
     "data": {
      "text/plain": [
       "list"
      ]
     },
     "execution_count": 9,
     "metadata": {},
     "output_type": "execute_result"
    }
   ],
   "source": [
    "type (ps)"
   ]
  },
  {
   "cell_type": "code",
   "execution_count": 10,
   "id": "c45f3422",
   "metadata": {
    "scrolled": true
   },
   "outputs": [
    {
     "data": {
      "text/plain": [
       "rdflib.query.ResultRow"
      ]
     },
     "execution_count": 10,
     "metadata": {},
     "output_type": "execute_result"
    }
   ],
   "source": [
    "type(ps[0])"
   ]
  },
  {
   "cell_type": "code",
   "execution_count": 11,
   "id": "7cb09889",
   "metadata": {
    "scrolled": true
   },
   "outputs": [
    {
     "name": "stdout",
     "output_type": "stream",
     "text": [
      "(rdflib.term.URIRef('https://dome40.eu/semantics/scenario/platforms#TEST_CATALOG'),)\n"
     ]
    }
   ],
   "source": [
    "print(ps[0])"
   ]
  },
  {
   "cell_type": "code",
   "execution_count": 12,
   "id": "63eb0d43",
   "metadata": {},
   "outputs": [
    {
     "data": {
      "text/plain": [
       "rdflib.term.URIRef"
      ]
     },
     "execution_count": 12,
     "metadata": {},
     "output_type": "execute_result"
    }
   ],
   "source": [
    "type(ps[0][0])"
   ]
  },
  {
   "cell_type": "code",
   "execution_count": 13,
   "id": "10b44bd6",
   "metadata": {},
   "outputs": [
    {
     "data": {
      "text/plain": [
       "rdflib.term.URIRef('https://dome40.eu/semantics/scenario/platforms#TEST_CATALOG')"
      ]
     },
     "execution_count": 13,
     "metadata": {},
     "output_type": "execute_result"
    }
   ],
   "source": [
    "ps[0][0]"
   ]
  },
  {
   "cell_type": "code",
   "execution_count": 14,
   "id": "de57dd3e",
   "metadata": {
    "scrolled": true
   },
   "outputs": [
    {
     "name": "stdout",
     "output_type": "stream",
     "text": [
      "https://dome40.eu/semantics/scenario/platforms#TEST_CATALOG\n"
     ]
    }
   ],
   "source": [
    "print(ps[0][0])"
   ]
  },
  {
   "cell_type": "code",
   "execution_count": 15,
   "id": "ef7e8b8c",
   "metadata": {},
   "outputs": [
    {
     "data": {
      "text/plain": [
       "1"
      ]
     },
     "execution_count": 15,
     "metadata": {},
     "output_type": "execute_result"
    }
   ],
   "source": [
    "len(ps[0])"
   ]
  },
  {
   "cell_type": "code",
   "execution_count": 16,
   "id": "b364406c",
   "metadata": {
    "scrolled": true
   },
   "outputs": [
    {
     "data": {
      "text/plain": [
       "'<https://dome40.eu/semantics/scenario/platforms#TEST_CATALOG>'"
      ]
     },
     "execution_count": 16,
     "metadata": {},
     "output_type": "execute_result"
    }
   ],
   "source": [
    "# human freindly representation! (this is a RDFLIB method)\n",
    "ps[0][0].n3()"
   ]
  },
  {
   "cell_type": "code",
   "execution_count": 17,
   "id": "d842e7a4",
   "metadata": {},
   "outputs": [
    {
     "data": {
      "text/plain": [
       "'https://dome40.eu/semantics/scenario/platforms#TEST_CATALOG'"
      ]
     },
     "execution_count": 17,
     "metadata": {},
     "output_type": "execute_result"
    }
   ],
   "source": [
    "#convert to python string\n",
    "ps[0][0].toPython()"
   ]
  },
  {
   "cell_type": "markdown",
   "id": "8afd77ee",
   "metadata": {},
   "source": [
    "# This is the platform type (from the dome core ontology)\n",
    "\n",
    "dcoretbox.platform.identifier"
   ]
  },
  {
   "cell_type": "markdown",
   "id": "bc961ae7",
   "metadata": {},
   "source": [
    "## Convert SPARQL results into OSP individuals"
   ]
  },
  {
   "cell_type": "markdown",
   "id": "c9bfd67b",
   "metadata": {},
   "source": [
    "### Method 1: using the `session.get` method"
   ]
  },
  {
   "cell_type": "code",
   "execution_count": 18,
   "id": "8b98a09c",
   "metadata": {},
   "outputs": [],
   "source": [
    "# lets get the actual OSP individual rather than the URI. \n",
    "# First approach, use the session get method:\n",
    "\n",
    "pl=core_session.get(ps[0][0])"
   ]
  },
  {
   "cell_type": "code",
   "execution_count": 19,
   "id": "69ac86a1",
   "metadata": {},
   "outputs": [],
   "source": [
    "# works also with or without converting to a string\n",
    "\n",
    "pl=core_session.get(ps[0][0].toPython())  # one can use also str(ps[0][0])"
   ]
  },
  {
   "cell_type": "code",
   "execution_count": 20,
   "id": "cf8d7306",
   "metadata": {},
   "outputs": [
    {
     "name": "stdout",
     "output_type": "stream",
     "text": [
      "- Ontology individual named TEST_CATALOG:\n",
      "  identifier: https://dome40.eu/semantics/scenario/platforms#TEST_CATALOG\n",
      "  type: Platform (dcoretbox )\n",
      "  superclasses: Platform (dcoretbox ), infrastructure (evmpo ), paradigmatic_entity (evmpo ), marketplace_related_entity (evmpo ), immanent_entity (evmpo ), Thing (owl )\n"
     ]
    }
   ],
   "source": [
    "pretty_print(pl)"
   ]
  },
  {
   "cell_type": "markdown",
   "id": "31da7f51",
   "metadata": {},
   "source": [
    "#### Some tests"
   ]
  },
  {
   "cell_type": "code",
   "execution_count": 21,
   "id": "31e0a4ee",
   "metadata": {},
   "outputs": [
    {
     "data": {
      "text/plain": [
       "mappingproxy({})"
      ]
     },
     "execution_count": 21,
     "metadata": {},
     "output_type": "execute_result"
    }
   ],
   "source": [
    "#this gives the attributes that can be changed as per dot or indec `[]` notation\n",
    "pl.attributes"
   ]
  },
  {
   "cell_type": "code",
   "execution_count": 22,
   "id": "f43667dd",
   "metadata": {},
   "outputs": [],
   "source": [
    "# this is a wierd iterator!\n",
    "for i in pl.relationships_iter():\n",
    "    print(type(i))\n",
    "    print(i)\n",
    "    i\n",
    "    print('\\n')"
   ]
  },
  {
   "cell_type": "code",
   "execution_count": 23,
   "id": "bad69a85",
   "metadata": {},
   "outputs": [
    {
     "data": {
      "text/plain": [
       "{(rdflib.term.URIRef('https://dome40.eu/semantics/scenario/platforms#TEST_CATALOG'),\n",
       "  rdflib.term.URIRef('http://www.w3.org/1999/02/22-rdf-syntax-ns#type'),\n",
       "  rdflib.term.URIRef('https://dome40.eu/semantics/dome4.0_core#platform'))}"
      ]
     },
     "execution_count": 23,
     "metadata": {},
     "output_type": "execute_result"
    }
   ],
   "source": [
    "pl.triples"
   ]
  },
  {
   "cell_type": "code",
   "execution_count": 24,
   "id": "bc5a83b8",
   "metadata": {},
   "outputs": [
    {
     "data": {
      "text/plain": [
       "rdflib.query.ResultRow"
      ]
     },
     "execution_count": 24,
     "metadata": {},
     "output_type": "execute_result"
    }
   ],
   "source": [
    "type(ps[0])"
   ]
  },
  {
   "cell_type": "markdown",
   "id": "e43f956a",
   "metadata": {},
   "source": [
    "### Method 2: using the `OntologyIndividual` option of the Results class "
   ]
  },
  {
   "cell_type": "code",
   "execution_count": 25,
   "id": "ae55a3f6",
   "metadata": {},
   "outputs": [],
   "source": [
    "platform_individuals=[]\n",
    "for row in result_platforms(s=OntologyIndividual):\n",
    "    platform_individuals.append(row[0])"
   ]
  },
  {
   "cell_type": "code",
   "execution_count": 26,
   "id": "cd60f8a4",
   "metadata": {},
   "outputs": [
    {
     "name": "stdout",
     "output_type": "stream",
     "text": [
      "- Ontology individual named TEST_CATALOG:\n",
      "  identifier: https://dome40.eu/semantics/scenario/platforms#TEST_CATALOG\n",
      "  type: Platform (dcoretbox )\n",
      "  superclasses: Platform (dcoretbox ), infrastructure (evmpo ), paradigmatic_entity (evmpo ), marketplace_related_entity (evmpo ), immanent_entity (evmpo ), Thing (owl )\n",
      "\n",
      "\n",
      "- Ontology individual named CRYSTALLOGRAPHY:\n",
      "  identifier: https://dome40.eu/semantics/scenario/platforms#CRYSTALLOGRAPHY\n",
      "  type: Platform (dcoretbox )\n",
      "  superclasses: Platform (dcoretbox ), infrastructure (evmpo ), paradigmatic_entity (evmpo ), marketplace_related_entity (evmpo ), immanent_entity (evmpo ), Thing (owl )\n",
      "  values: \u0000has_platform_description: Crystallography is an open-access collection of crystal structures of organic, inorganic, \n",
      "metal-organic compounds and minerals, excluding biopolymers.\n",
      "          \u0000has_platform_name: Crystallography\n",
      "          \u0000has_platform_url_home: http://crystallography.net/\n",
      "          \u0000has_platform_url_query_api: /api/discover/results/CRYSTALLOGRAPHY?search_string=\n",
      "          \u0000has_some_free_product: True\n",
      "   |_Relationship conforms_to (dcoretbox ) (dcoretbox):\n",
      "   | - Ontology individual of class Standard API specification named OPTIMADE API specification\n",
      "   |    identifier: https://dome40.eu/semantics/dome4.0_core#OPTIMADE_API_SPECIFICATION\n",
      "   |     |_Relationship is in scheme (skos ) (skos):\n",
      "   |       - Ontology individual of class Concept Scheme named List of API spefications\n",
      "   |          identifier: https://dome40.eu/semantics/dome4.0_core#LIST_OF_STANDARD_API_SPECIFICATIONS\n",
      "   |_Relationship has_platform_topic (dcoretbox ) (dcoretbox):\n",
      "   | - Ontology individual of classes Topic,Concept named Natural sciences\n",
      "   |    identifier: https://dome40.eu/semantics/dome4.0_core#NATURAL_SCIENCES\n",
      "   |     |_Relationship is in scheme (skos ) (skos):\n",
      "   |       - Ontology individual of class Concept Scheme named List of topics\n",
      "   |          identifier: https://dome40.eu/semantics/dome4.0_core#LIST_OF_TOPICS\n",
      "   |_Relationship has_platform_type (dcoretbox ) (dcoretbox):\n",
      "   | - Ontology individual of class Consumer named CONSUMER\n",
      "   |  . identifier: https://dome40.eu/semantics/dome4.0_core#CONSUMER\n",
      "   | - Ontology individual of class Data provider named DATA_PROVIDER\n",
      "   |  . identifier: https://dome40.eu/semantics/dome4.0_core#DATA_PROVIDER\n",
      "   | - Ontology individual of class Interactive-application provider named INTERACTIVE_APP_PROVIDER\n",
      "   |    identifier: https://dome40.eu/semantics/dome4.0_core#INTERACTIVE_APP_PROVIDER\n",
      "   |_Relationship offers (dcoretbox ) (dcoretbox):\n",
      "     - Ontology individual of classes Product type,Concept named Modelling Data\n",
      "        identifier: https://dome40.eu/semantics/dome4.0_core#MODELLING_DATA\n",
      "         |_Relationship is in scheme (skos ) (skos):\n",
      "           - Ontology individual of class Concept Scheme named List of product types (i.e., the types found on DOME 4.0)\n",
      "              identifier: https://dome40.eu/semantics/dome4.0_core#LIST_OF_PRODUCT_TYPES\n",
      "\n",
      "\n",
      "- Ontology individual named NOMAD:\n",
      "  identifier: https://dome40.eu/semantics/scenario/platforms#NOMAD\n",
      "  type: Platform (dcoretbox )\n",
      "  superclasses: Platform (dcoretbox ), infrastructure (evmpo ), paradigmatic_entity (evmpo ), marketplace_related_entity (evmpo ), immanent_entity (evmpo ), Thing (owl )\n",
      "  values: \u0000has_platform_description: NOMAD is a novel materials discovery database which enables FAIR sharing and use of materials science data.\n",
      "          \u0000has_platform_name: Novel Materials Discovery (NOMAD)\n",
      "          \u0000has_platform_url_home: https://nomad-lab.eu/\n",
      "          \u0000has_platform_url_query_api: /api/discover/results/NOMAD?search_string=\n",
      "          \u0000has_some_free_product: True\n",
      "   |_Relationship conforms_to (dcoretbox ) (dcoretbox):\n",
      "   | - Ontology individual of class Standard API specification named OPTIMADE API specification\n",
      "   |    identifier: https://dome40.eu/semantics/dome4.0_core#OPTIMADE_API_SPECIFICATION\n",
      "   |     |_Relationship is in scheme (skos ) (skos):\n",
      "   |       - Ontology individual of class Concept Scheme named List of API spefications\n",
      "   |          identifier: https://dome40.eu/semantics/dome4.0_core#LIST_OF_STANDARD_API_SPECIFICATIONS\n",
      "   |_Relationship has_platform_topic (dcoretbox ) (dcoretbox):\n",
      "   | - Ontology individual of classes Topic,Concept named Natural sciences\n",
      "   |    identifier: https://dome40.eu/semantics/dome4.0_core#NATURAL_SCIENCES\n",
      "   |     |_Relationship is in scheme (skos ) (skos):\n",
      "   |       - Ontology individual of class Concept Scheme named List of topics\n",
      "   |          identifier: https://dome40.eu/semantics/dome4.0_core#LIST_OF_TOPICS\n",
      "   |_Relationship has_platform_type (dcoretbox ) (dcoretbox):\n",
      "   | - Ontology individual of class Consumer named CONSUMER\n",
      "   |  . identifier: https://dome40.eu/semantics/dome4.0_core#CONSUMER\n",
      "   | - Ontology individual of class Data provider named DATA_PROVIDER\n",
      "   |  . identifier: https://dome40.eu/semantics/dome4.0_core#DATA_PROVIDER\n",
      "   | - Ontology individual of class Interactive-application provider named INTERACTIVE_APP_PROVIDER\n",
      "   |    identifier: https://dome40.eu/semantics/dome4.0_core#INTERACTIVE_APP_PROVIDER\n",
      "   |_Relationship offers (dcoretbox ) (dcoretbox):\n",
      "     - Ontology individual of classes Product type,Concept named Modelling Data\n",
      "        identifier: https://dome40.eu/semantics/dome4.0_core#MODELLING_DATA\n",
      "         |_Relationship is in scheme (skos ) (skos):\n",
      "           - Ontology individual of class Concept Scheme named List of product types (i.e., the types found on DOME 4.0)\n",
      "              identifier: https://dome40.eu/semantics/dome4.0_core#LIST_OF_PRODUCT_TYPES\n",
      "\n",
      "\n",
      "- Ontology individual named CHEMEO:\n",
      "  identifier: https://dome40.eu/semantics/scenario/platforms#CHEMEO\n",
      "  type: Platform (dcoretbox )\n",
      "  superclasses: Platform (dcoretbox ), infrastructure (evmpo ), paradigmatic_entity (evmpo ), marketplace_related_entity (evmpo ), immanent_entity (evmpo ), Thing (owl )\n",
      "  values: \u0000has_platform_description: Chemeo is an open, high quality chemical properties database.\n",
      "          \u0000has_platform_name: Chemeo\n",
      "          \u0000has_platform_url_api_documentation: https://www.chemeo.com/api/v1/swagger.json\n",
      "          \u0000has_platform_url_home: https://www.chemeo.com/\n",
      "          \u0000has_platform_url_query_api: /api/discover/results/CHEMEO?search_string=\n",
      "          \u0000has_some_free_product: True\n",
      "   |_Relationship has_platform_topic (dcoretbox ) (dcoretbox):\n",
      "   | - Ontology individual of classes Topic,Concept named Natural sciences\n",
      "   |    identifier: https://dome40.eu/semantics/dome4.0_core#NATURAL_SCIENCES\n",
      "   |     |_Relationship is in scheme (skos ) (skos):\n",
      "   |       - Ontology individual of class Concept Scheme named List of topics\n",
      "   |          identifier: https://dome40.eu/semantics/dome4.0_core#LIST_OF_TOPICS\n",
      "   |_Relationship has_platform_type (dcoretbox ) (dcoretbox):\n",
      "   | - Ontology individual of class Data provider named DATA_PROVIDER\n",
      "   |    identifier: https://dome40.eu/semantics/dome4.0_core#DATA_PROVIDER\n",
      "   |_Relationship offers (dcoretbox ) (dcoretbox):\n",
      "     - Ontology individual of classes Product type,Concept named Material Property\n",
      "        identifier: https://dome40.eu/semantics/dome4.0_core#MATERIAL_PROPERTY\n",
      "         |_Relationship is in scheme (skos ) (skos):\n",
      "           - Ontology individual of class Concept Scheme named List of product types (i.e., the types found on DOME 4.0)\n",
      "              identifier: https://dome40.eu/semantics/dome4.0_core#LIST_OF_PRODUCT_TYPES\n",
      "\n",
      "\n",
      "- Ontology individual named MATERIALSPROJECT:\n",
      "  identifier: https://dome40.eu/semantics/scenario/platforms#MATERIALSPROJECT\n",
      "  type: Platform (dcoretbox )\n",
      "  superclasses: Platform (dcoretbox ), infrastructure (evmpo ), paradigmatic_entity (evmpo ), marketplace_related_entity (evmpo ), immanent_entity (evmpo ), Thing (owl )\n",
      "  values: \u0000has_platform_description: The Materials Project provides open web-based access to computed information on known and \n",
      "predicted materials as well as powerful analysis tools to inspire and design novel materials.\n",
      "          \u0000has_platform_name: Materials Project\n",
      "          \u0000has_platform_url_home: https://materialsproject.org/\n",
      "          \u0000has_platform_url_query_api: /api/discover/results/MATERIALSPROJECT?search_string=\n",
      "          \u0000has_some_free_product: True\n",
      "   |_Relationship conforms_to (dcoretbox ) (dcoretbox):\n",
      "   | - Ontology individual of class Standard API specification named OPTIMADE API specification\n",
      "   |    identifier: https://dome40.eu/semantics/dome4.0_core#OPTIMADE_API_SPECIFICATION\n",
      "   |     |_Relationship is in scheme (skos ) (skos):\n",
      "   |       - Ontology individual of class Concept Scheme named List of API spefications\n",
      "   |          identifier: https://dome40.eu/semantics/dome4.0_core#LIST_OF_STANDARD_API_SPECIFICATIONS\n",
      "   |_Relationship has_platform_topic (dcoretbox ) (dcoretbox):\n",
      "   | - Ontology individual of classes Topic,Concept named Natural sciences\n",
      "   |    identifier: https://dome40.eu/semantics/dome4.0_core#NATURAL_SCIENCES\n",
      "   |     |_Relationship is in scheme (skos ) (skos):\n",
      "   |       - Ontology individual of class Concept Scheme named List of topics\n",
      "   |          identifier: https://dome40.eu/semantics/dome4.0_core#LIST_OF_TOPICS\n",
      "   |_Relationship has_platform_type (dcoretbox ) (dcoretbox):\n",
      "   | - Ontology individual of class Consumer named CONSUMER\n",
      "   |  . identifier: https://dome40.eu/semantics/dome4.0_core#CONSUMER\n",
      "   | - Ontology individual of class Data provider named DATA_PROVIDER\n",
      "   |  . identifier: https://dome40.eu/semantics/dome4.0_core#DATA_PROVIDER\n",
      "   | - Ontology individual of class Interactive-application provider named INTERACTIVE_APP_PROVIDER\n",
      "   |    identifier: https://dome40.eu/semantics/dome4.0_core#INTERACTIVE_APP_PROVIDER\n",
      "   |_Relationship offers (dcoretbox ) (dcoretbox):\n",
      "     - Ontology individual of classes Product type,Concept named Modelling Data\n",
      "        identifier: https://dome40.eu/semantics/dome4.0_core#MODELLING_DATA\n",
      "         |_Relationship is in scheme (skos ) (skos):\n",
      "           - Ontology individual of class Concept Scheme named List of product types (i.e., the types found on DOME 4.0)\n",
      "              identifier: https://dome40.eu/semantics/dome4.0_core#LIST_OF_PRODUCT_TYPES\n",
      "\n",
      "\n"
     ]
    },
    {
     "name": "stdout",
     "output_type": "stream",
     "text": [
      "- Ontology individual named OPEN_DATABASE_XTALS:\n",
      "  identifier: https://dome40.eu/semantics/scenario/platforms#OPEN_DATABASE_XTALS\n",
      "  type: Platform (dcoretbox )\n",
      "  superclasses: Platform (dcoretbox ), infrastructure (evmpo ), paradigmatic_entity (evmpo ), marketplace_related_entity (evmpo ), immanent_entity (evmpo ), Thing (owl )\n",
      "  values: \u0000has_platform_description: Open Database Xtals is a public database of crystal structures from the group \n",
      "of Dr Andrew Morris at the University of Birmingham, currently in public beta with a limited set of structures.\n",
      "          \u0000has_platform_name: Open Database Xtals\n",
      "          \u0000has_platform_url_home: https://odbx.science/\n",
      "          \u0000has_platform_url_query_api: /api/discover/results/OPEN_DATABASE_XTALS?search_string=\n",
      "          \u0000has_some_free_product: True\n",
      "   |_Relationship conforms_to (dcoretbox ) (dcoretbox):\n",
      "   | - Ontology individual of class Standard API specification named OPTIMADE API specification\n",
      "   |    identifier: https://dome40.eu/semantics/dome4.0_core#OPTIMADE_API_SPECIFICATION\n",
      "   |     |_Relationship is in scheme (skos ) (skos):\n",
      "   |       - Ontology individual of class Concept Scheme named List of API spefications\n",
      "   |          identifier: https://dome40.eu/semantics/dome4.0_core#LIST_OF_STANDARD_API_SPECIFICATIONS\n",
      "   |_Relationship has_platform_topic (dcoretbox ) (dcoretbox):\n",
      "   | - Ontology individual of classes Topic,Concept named Natural sciences\n",
      "   |    identifier: https://dome40.eu/semantics/dome4.0_core#NATURAL_SCIENCES\n",
      "   |     |_Relationship is in scheme (skos ) (skos):\n",
      "   |       - Ontology individual of class Concept Scheme named List of topics\n",
      "   |          identifier: https://dome40.eu/semantics/dome4.0_core#LIST_OF_TOPICS\n",
      "   |_Relationship has_platform_type (dcoretbox ) (dcoretbox):\n",
      "   | - Ontology individual of class Consumer named CONSUMER\n",
      "   |  . identifier: https://dome40.eu/semantics/dome4.0_core#CONSUMER\n",
      "   | - Ontology individual of class Data provider named DATA_PROVIDER\n",
      "   |  . identifier: https://dome40.eu/semantics/dome4.0_core#DATA_PROVIDER\n",
      "   | - Ontology individual of class Interactive-application provider named INTERACTIVE_APP_PROVIDER\n",
      "   |    identifier: https://dome40.eu/semantics/dome4.0_core#INTERACTIVE_APP_PROVIDER\n",
      "   |_Relationship offers (dcoretbox ) (dcoretbox):\n",
      "     - Ontology individual of classes Product type,Concept named Modelling Data\n",
      "        identifier: https://dome40.eu/semantics/dome4.0_core#MODELLING_DATA\n",
      "         |_Relationship is in scheme (skos ) (skos):\n",
      "           - Ontology individual of class Concept Scheme named List of product types (i.e., the types found on DOME 4.0)\n",
      "              identifier: https://dome40.eu/semantics/dome4.0_core#LIST_OF_PRODUCT_TYPES\n",
      "\n",
      "\n",
      "- Ontology individual named THEORETICAL_CRYSTALLOGRAPHY_OPEN_DATABASE:\n",
      "  identifier: https://dome40.eu/semantics/scenario/platforms#THEORETICAL_CRYSTALLOGRAPHY_OPEN_DATABASE\n",
      "  type: Platform (dcoretbox )\n",
      "  superclasses: Platform (dcoretbox ), infrastructure (evmpo ), paradigmatic_entity (evmpo ), marketplace_related_entity (evmpo ), immanent_entity (evmpo ), Thing (owl )\n",
      "  values: \u0000has_platform_description: Theoretical Crystallography Open Database is an open-access collection of theoretically calculated \n",
      "or refined crystal structures of organic, inorganic, metal-organic compounds and minerals, excluding biopolymers.\n",
      "          \u0000has_platform_name: Theoretical Crystallography Open Database\n",
      "          \u0000has_platform_url_home: https://www.crystallography.net\n",
      "          \u0000has_platform_url_query_api: /api/discover/results/THEORETICAL_CRYSTALLOGRAPHY_OPEN_DATABASE?search_string=\n",
      "          \u0000has_some_free_product: True\n",
      "   |_Relationship conforms_to (dcoretbox ) (dcoretbox):\n",
      "   | - Ontology individual of class Standard API specification named OPTIMADE API specification\n",
      "   |    identifier: https://dome40.eu/semantics/dome4.0_core#OPTIMADE_API_SPECIFICATION\n",
      "   |     |_Relationship is in scheme (skos ) (skos):\n",
      "   |       - Ontology individual of class Concept Scheme named List of API spefications\n",
      "   |          identifier: https://dome40.eu/semantics/dome4.0_core#LIST_OF_STANDARD_API_SPECIFICATIONS\n",
      "   |_Relationship has_platform_topic (dcoretbox ) (dcoretbox):\n",
      "   | - Ontology individual of classes Topic,Concept named Natural sciences\n",
      "   |    identifier: https://dome40.eu/semantics/dome4.0_core#NATURAL_SCIENCES\n",
      "   |     |_Relationship is in scheme (skos ) (skos):\n",
      "   |       - Ontology individual of class Concept Scheme named List of topics\n",
      "   |          identifier: https://dome40.eu/semantics/dome4.0_core#LIST_OF_TOPICS\n",
      "   |_Relationship has_platform_type (dcoretbox ) (dcoretbox):\n",
      "   | - Ontology individual of class Consumer named CONSUMER\n",
      "   |  . identifier: https://dome40.eu/semantics/dome4.0_core#CONSUMER\n",
      "   | - Ontology individual of class Data provider named DATA_PROVIDER\n",
      "   |  . identifier: https://dome40.eu/semantics/dome4.0_core#DATA_PROVIDER\n",
      "   | - Ontology individual of class Interactive-application provider named INTERACTIVE_APP_PROVIDER\n",
      "   |    identifier: https://dome40.eu/semantics/dome4.0_core#INTERACTIVE_APP_PROVIDER\n",
      "   |_Relationship offers (dcoretbox ) (dcoretbox):\n",
      "     - Ontology individual of classes Product type,Concept named Modelling Data\n",
      "        identifier: https://dome40.eu/semantics/dome4.0_core#MODELLING_DATA\n",
      "         |_Relationship is in scheme (skos ) (skos):\n",
      "           - Ontology individual of class Concept Scheme named List of product types (i.e., the types found on DOME 4.0)\n",
      "              identifier: https://dome40.eu/semantics/dome4.0_core#LIST_OF_PRODUCT_TYPES\n",
      "\n",
      "\n",
      "- Ontology individual named PUBCHEM:\n",
      "  identifier: https://dome40.eu/semantics/scenario/platforms#PUBCHEM\n",
      "  type: Platform (dcoretbox )\n",
      "  superclasses: Platform (dcoretbox ), infrastructure (evmpo ), paradigmatic_entity (evmpo ), marketplace_related_entity (evmpo ), immanent_entity (evmpo ), Thing (owl )\n",
      "  values: \u0000has_platform_description: PubChem is an open chemistry database at the National Institutes of Health (NIH). \n",
      "PubChem mostly contains small molecules, but also larger molecules such as nucleotides, carbohydrates, lipids, peptides, \n",
      "and chemically-modified macromolecules. It collects information on chemical structures, identifiers, chemical and physical \n",
      "properties, biological activities, patents, health, safety, toxicity data, and many others.\n",
      "          \u0000has_platform_name: PubChem\n",
      "          \u0000has_platform_url_api_documentation: https://pubchemdocs.ncbi.nlm.nih.gov/pug-rest\n",
      "          \u0000has_platform_url_home: https://pubchem.ncbi.nlm.nih.gov\n",
      "          \u0000has_platform_url_query_api: /api/discover/results/PUBCHEM?search_string=\n",
      "          \u0000has_some_free_product: True\n",
      "   |_Relationship has_platform_topic (dcoretbox ) (dcoretbox):\n",
      "   | - Ontology individual of classes Topic,Concept named Natural sciences\n",
      "   |    identifier: https://dome40.eu/semantics/dome4.0_core#NATURAL_SCIENCES\n",
      "   |     |_Relationship is in scheme (skos ) (skos):\n",
      "   |       - Ontology individual of class Concept Scheme named List of topics\n",
      "   |          identifier: https://dome40.eu/semantics/dome4.0_core#LIST_OF_TOPICS\n",
      "   |_Relationship has_platform_type (dcoretbox ) (dcoretbox):\n",
      "   | - Ontology individual of class Data provider named DATA_PROVIDER\n",
      "   |    identifier: https://dome40.eu/semantics/dome4.0_core#DATA_PROVIDER\n",
      "   |_Relationship offers (dcoretbox ) (dcoretbox):\n",
      "     - Ontology individual of classes Product type,Concept named Material Property\n",
      "        identifier: https://dome40.eu/semantics/dome4.0_core#MATERIAL_PROPERTY\n",
      "         |_Relationship is in scheme (skos ) (skos):\n",
      "           - Ontology individual of class Concept Scheme named List of product types (i.e., the types found on DOME 4.0)\n",
      "              identifier: https://dome40.eu/semantics/dome4.0_core#LIST_OF_PRODUCT_TYPES\n",
      "\n",
      "\n",
      "- Ontology individual named MARKET4.0:\n",
      "  identifier: https://dome40.eu/semantics/scenario/platforms#MARKET4.0\n",
      "  type: Platform (dcoretbox )\n",
      "  superclasses: Platform (dcoretbox ), infrastructure (evmpo ), paradigmatic_entity (evmpo ), marketplace_related_entity (evmpo ), immanent_entity (evmpo ), Thing (owl )\n",
      "  values: \u0000has_platform_name: MARKET4.0\n",
      "          \u0000has_platform_url: http://platform.market40.eu/index.html#!/\n",
      "          \u0000has_platform_url_query_api: https://134.209.229.224:8887/incoming-data-app/multipartMessageBodyBinary\n",
      "          \u0000has_some_free_product: True\n",
      "   |_Relationship conforms_to (dcoretbox ) (dcoretbox):\n",
      "   | - Ontology individual of class Standard API specification named IDS (International Data Space) API specification\n",
      "   |    identifier: https://dome40.eu/semantics/dome4.0_core#IDS_API_SPECIFICATION\n",
      "   |     |_Relationship is in scheme (skos ) (skos):\n",
      "   |       - Ontology individual of class Concept Scheme named List of API spefications\n",
      "   |          identifier: https://dome40.eu/semantics/dome4.0_core#LIST_OF_STANDARD_API_SPECIFICATIONS\n",
      "   |_Relationship has_platform_topic (dcoretbox ) (dcoretbox):\n",
      "   | - Ontology individual of classes Topic,Concept named Engineering and technology\n",
      "   |    identifier: https://dome40.eu/semantics/dome4.0_core#ENGINEERING_AND_TECHNOLOGY\n",
      "   |     |_Relationship is in scheme (skos ) (skos):\n",
      "   |       - Ontology individual of class Concept Scheme named List of topics\n",
      "   |          identifier: https://dome40.eu/semantics/dome4.0_core#LIST_OF_TOPICS\n",
      "   |_Relationship has_platform_type (dcoretbox ) (dcoretbox):\n",
      "   | - Ontology individual of class Consumer named CONSUMER\n",
      "   |  . identifier: https://dome40.eu/semantics/dome4.0_core#CONSUMER\n",
      "   | - Ontology individual of class Data provider named DATA_PROVIDER\n",
      "   |    identifier: https://dome40.eu/semantics/dome4.0_core#DATA_PROVIDER\n",
      "   |_Relationship offers (dcoretbox ) (dcoretbox):\n",
      "     - Ontology individual of classes Product type,Concept named Equipment\n",
      "        identifier: https://dome40.eu/semantics/dome4.0_core#EQUIPMENT\n",
      "         |_Relationship is in scheme (skos ) (skos):\n",
      "           - Ontology individual of class Concept Scheme named List of product types (i.e., the types found on DOME 4.0)\n",
      "              identifier: https://dome40.eu/semantics/dome4.0_core#LIST_OF_PRODUCT_TYPES\n",
      "\n",
      "\n"
     ]
    },
    {
     "name": "stdout",
     "output_type": "stream",
     "text": [
      "- Ontology individual named DOME4.0:\n",
      "  identifier: https://dome40.eu/semantics/scenario/platforms#DOME4.0\n",
      "  type: Platform (dcoretbox )\n",
      "  superclasses: Platform (dcoretbox ), infrastructure (evmpo ), paradigmatic_entity (evmpo ), marketplace_related_entity (evmpo ), immanent_entity (evmpo ), Thing (owl )\n",
      "  values: \u0000has_platform_description: Digital Open Marketplace Ecosystem 4.0 (DOME 4.0) is building a semantic industrial data ecosystem for knowledge creation \n",
      "across the entire materials to manufacturing value chains.\n",
      "          \u0000has_platform_name: DOME 4.0\n",
      "          \u0000has_platform_url_home: https://dome.the-marketplace.eu/\n",
      "   |_Relationship has_platform_owner (dcoretbox ) (dcoretbox):\n",
      "     - Ontology individual of class Agent named DOME 4.0 Consortium\n",
      "        identifier: https://dome40.eu/semantics/scenario/platforms#DOME4.0_CONSORTIUM\n",
      "\n",
      "\n",
      "- Ontology individual named THE_OPEN_QUANTUM_MATERIALS:\n",
      "  identifier: https://dome40.eu/semantics/scenario/platforms#THE_OPEN_QUANTUM_MATERIALS\n",
      "  type: Platform (dcoretbox )\n",
      "  superclasses: Platform (dcoretbox ), infrastructure (evmpo ), paradigmatic_entity (evmpo ), marketplace_related_entity (evmpo ), immanent_entity (evmpo ), Thing (owl )\n",
      "  values: \u0000has_platform_description: Open Quantum Materials database is a high-throughput database consisting\n",
      "  of a large number of density functional theory (DFT) total energy calculations of compounds from the Inorganic Crystal\n",
      "  Structure Database (ICSD) and decorations of commonly occurring crystal structures.\n",
      "          \u0000has_platform_name: The Open Quantum Materials\n",
      "          \u0000has_platform_url_home: http://oqmd.org\n",
      "          \u0000has_platform_url_query_api: /api/discover/results/THE_OPEN_QUANTUM_MATERIALS?search_string=\n",
      "          \u0000has_some_free_product: True\n",
      "   |_Relationship conforms_to (dcoretbox ) (dcoretbox):\n",
      "   | - Ontology individual of class Standard API specification named OPTIMADE API specification\n",
      "   |    identifier: https://dome40.eu/semantics/dome4.0_core#OPTIMADE_API_SPECIFICATION\n",
      "   |     |_Relationship is in scheme (skos ) (skos):\n",
      "   |       - Ontology individual of class Concept Scheme named List of API spefications\n",
      "   |          identifier: https://dome40.eu/semantics/dome4.0_core#LIST_OF_STANDARD_API_SPECIFICATIONS\n",
      "   |_Relationship has_platform_topic (dcoretbox ) (dcoretbox):\n",
      "   | - Ontology individual of classes Topic,Concept named Natural sciences\n",
      "   |    identifier: https://dome40.eu/semantics/dome4.0_core#NATURAL_SCIENCES\n",
      "   |     |_Relationship is in scheme (skos ) (skos):\n",
      "   |       - Ontology individual of class Concept Scheme named List of topics\n",
      "   |          identifier: https://dome40.eu/semantics/dome4.0_core#LIST_OF_TOPICS\n",
      "   |_Relationship has_platform_type (dcoretbox ) (dcoretbox):\n",
      "   | - Ontology individual of class Consumer named CONSUMER\n",
      "   |  . identifier: https://dome40.eu/semantics/dome4.0_core#CONSUMER\n",
      "   | - Ontology individual of class Data provider named DATA_PROVIDER\n",
      "   |  . identifier: https://dome40.eu/semantics/dome4.0_core#DATA_PROVIDER\n",
      "   | - Ontology individual of class Interactive-application provider named INTERACTIVE_APP_PROVIDER\n",
      "   |    identifier: https://dome40.eu/semantics/dome4.0_core#INTERACTIVE_APP_PROVIDER\n",
      "   |_Relationship offers (dcoretbox ) (dcoretbox):\n",
      "     - Ontology individual of classes Product type,Concept named Modelling Data\n",
      "        identifier: https://dome40.eu/semantics/dome4.0_core#MODELLING_DATA\n",
      "         |_Relationship is in scheme (skos ) (skos):\n",
      "           - Ontology individual of class Concept Scheme named List of product types (i.e., the types found on DOME 4.0)\n",
      "              identifier: https://dome40.eu/semantics/dome4.0_core#LIST_OF_PRODUCT_TYPES\n",
      "\n",
      "\n"
     ]
    }
   ],
   "source": [
    "for i in platform_individuals:\n",
    "    try:\n",
    "        pretty_print(i) \n",
    "        print(\"\\n\")\n",
    "    except:   # since some methods, such as POST do not have a mother class! \n",
    "        pass"
   ]
  },
  {
   "cell_type": "markdown",
   "id": "54acd136",
   "metadata": {},
   "source": [
    "## Lets get the attributes of one of the result individuals"
   ]
  },
  {
   "cell_type": "code",
   "execution_count": 27,
   "id": "a15d5855",
   "metadata": {},
   "outputs": [],
   "source": [
    "#pick one of the plagtforms\n",
    "pl=platform_individuals[5]"
   ]
  },
  {
   "cell_type": "code",
   "execution_count": 28,
   "id": "18b00b1f",
   "metadata": {},
   "outputs": [],
   "source": [
    "#the attribute list\n",
    "ats_list=[i for i in pl.attributes]"
   ]
  },
  {
   "cell_type": "code",
   "execution_count": 29,
   "id": "62cb7b00",
   "metadata": {
    "scrolled": true
   },
   "outputs": [
    {
     "data": {
      "text/plain": [
       "list"
      ]
     },
     "execution_count": 29,
     "metadata": {},
     "output_type": "execute_result"
    }
   ],
   "source": [
    "type(ats_list)"
   ]
  },
  {
   "cell_type": "code",
   "execution_count": 30,
   "id": "764fed62",
   "metadata": {},
   "outputs": [
    {
     "data": {
      "text/plain": [
       "[<OntologyAttribute: has_platform_name https://dome40.eu/semantics/dome4.0_core#has_platform_name>,\n",
       " <OntologyAttribute: has_platform_url_home https://dome40.eu/semantics/dome4.0_core#has_platform_url_home>,\n",
       " <OntologyAttribute: has_platform_url_query_api https://dome40.eu/semantics/dome4.0_core#has_platform_url_query_api>,\n",
       " <OntologyAttribute: has_platform_description https://dome40.eu/semantics/dome4.0_core#has_platform_description>,\n",
       " <OntologyAttribute: has_some_free_product https://dome40.eu/semantics/dome4.0_core#has_some_free_product>]"
      ]
     },
     "execution_count": 30,
     "metadata": {},
     "output_type": "execute_result"
    }
   ],
   "source": [
    "ats_list"
   ]
  },
  {
   "cell_type": "code",
   "execution_count": 31,
   "id": "33339c26",
   "metadata": {
    "scrolled": true
   },
   "outputs": [],
   "source": [
    "#get the labels (strings) of each attribute\n",
    "x=[i.label for i in pl.attributes]"
   ]
  },
  {
   "cell_type": "code",
   "execution_count": 32,
   "id": "4f691614",
   "metadata": {},
   "outputs": [
    {
     "data": {
      "text/plain": [
       "list"
      ]
     },
     "execution_count": 32,
     "metadata": {},
     "output_type": "execute_result"
    }
   ],
   "source": [
    "type (x)"
   ]
  },
  {
   "cell_type": "code",
   "execution_count": 33,
   "id": "9e24afdf",
   "metadata": {},
   "outputs": [
    {
     "data": {
      "text/plain": [
       "['has_platform_name',\n",
       " 'has_platform_url_home',\n",
       " 'has_platform_url_query_api',\n",
       " 'has_platform_description',\n",
       " 'has_some_free_product']"
      ]
     },
     "execution_count": 33,
     "metadata": {},
     "output_type": "execute_result"
    }
   ],
   "source": [
    "x"
   ]
  },
  {
   "cell_type": "code",
   "execution_count": 34,
   "id": "4a240bf7",
   "metadata": {},
   "outputs": [
    {
     "data": {
      "text/plain": [
       "str"
      ]
     },
     "execution_count": 34,
     "metadata": {},
     "output_type": "execute_result"
    }
   ],
   "source": [
    "type(x[0])"
   ]
  },
  {
   "cell_type": "code",
   "execution_count": 35,
   "id": "a5397a14",
   "metadata": {},
   "outputs": [
    {
     "data": {
      "text/plain": [
       "{'Materials Project'} <has_platform_name of ontology individual MATERIALSPROJECT>"
      ]
     },
     "execution_count": 35,
     "metadata": {},
     "output_type": "execute_result"
    }
   ],
   "source": [
    "# it works with index notation\n",
    "pl[x[0]]"
   ]
  },
  {
   "cell_type": "code",
   "execution_count": 36,
   "id": "4c23ed2e",
   "metadata": {},
   "outputs": [
    {
     "data": {
      "text/plain": [
       "{'Materials Project'} <has_platform_name of ontology individual MATERIALSPROJECT>"
      ]
     },
     "execution_count": 36,
     "metadata": {},
     "output_type": "execute_result"
    }
   ],
   "source": [
    "pl['has_platform_name']"
   ]
  },
  {
   "cell_type": "code",
   "execution_count": 37,
   "id": "b4728fc3",
   "metadata": {},
   "outputs": [
    {
     "data": {
      "text/plain": [
       "{'Materials Project'} <has_platform_name of ontology individual MATERIALSPROJECT>"
      ]
     },
     "execution_count": 37,
     "metadata": {},
     "output_type": "execute_result"
    }
   ],
   "source": [
    "pl[ats_list[0]]"
   ]
  },
  {
   "cell_type": "code",
   "execution_count": 38,
   "id": "5e4572ae",
   "metadata": {},
   "outputs": [
    {
     "data": {
      "text/plain": [
       "simphony_osp.ontology.individual.AttributeSet"
      ]
     },
     "execution_count": 38,
     "metadata": {},
     "output_type": "execute_result"
    }
   ],
   "source": [
    "#this has type AttributeSet!\n",
    "type(pl['has_platform_name'])"
   ]
  },
  {
   "cell_type": "code",
   "execution_count": 39,
   "id": "daccaf45",
   "metadata": {},
   "outputs": [
    {
     "data": {
      "text/plain": [
       "rdflib.term.URIRef('https://dome40.eu/semantics/dome4.0_core#has_platform_name')"
      ]
     },
     "execution_count": 39,
     "metadata": {},
     "output_type": "execute_result"
    }
   ],
   "source": [
    "ats_list[0].identifier"
   ]
  },
  {
   "cell_type": "code",
   "execution_count": 40,
   "id": "1f281787",
   "metadata": {},
   "outputs": [
    {
     "data": {
      "text/plain": [
       "rdflib.term.URIRef('http://www.w3.org/2001/XMLSchema#string')"
      ]
     },
     "execution_count": 40,
     "metadata": {},
     "output_type": "execute_result"
    }
   ],
   "source": [
    "ats_list[0].datatype"
   ]
  },
  {
   "cell_type": "code",
   "execution_count": 41,
   "id": "adfdae8d",
   "metadata": {},
   "outputs": [
    {
     "data": {
      "text/plain": [
       "rdflib.term.URIRef('https://dome40.eu/semantics/dome4.0_core#has_platform_name')"
      ]
     },
     "execution_count": 41,
     "metadata": {},
     "output_type": "execute_result"
    }
   ],
   "source": [
    "ats_list[0].iri"
   ]
  },
  {
   "cell_type": "code",
   "execution_count": 42,
   "id": "76228e70",
   "metadata": {},
   "outputs": [
    {
     "data": {
      "text/plain": [
       "'has_platform_name'"
      ]
     },
     "execution_count": 42,
     "metadata": {},
     "output_type": "execute_result"
    }
   ],
   "source": [
    "ats_list[0].label"
   ]
  },
  {
   "cell_type": "code",
   "execution_count": 43,
   "id": "91b85729",
   "metadata": {},
   "outputs": [
    {
     "data": {
      "text/plain": [
       "<dcoretbox: https://dome40.eu/semantics/dome4.0_core#>"
      ]
     },
     "execution_count": 43,
     "metadata": {},
     "output_type": "execute_result"
    }
   ],
   "source": [
    "ats_list[0].namespace"
   ]
  },
  {
   "cell_type": "code",
   "execution_count": 44,
   "id": "b9744807",
   "metadata": {},
   "outputs": [],
   "source": [
    "ats_list=[i for i in pl.attributes]"
   ]
  },
  {
   "cell_type": "markdown",
   "id": "15114d97",
   "metadata": {},
   "source": [
    "# The SPARQL query accroding to type and Relation\n",
    "\n",
    "Find all platforms that has an Owner!\n"
   ]
  },
  {
   "cell_type": "code",
   "execution_count": 45,
   "id": "4cd3fec0",
   "metadata": {},
   "outputs": [],
   "source": [
    "# query all triplets, where the subject type is `platform` from the dome core ontology and \n",
    "# that has the relationship `has_platform_owner`\n",
    "# note how cumbersome is the use of the explicit relations instead of has_A! \n",
    "\n",
    "result_platforms_owners = sparql(\n",
    "    f\"\"\"SELECT ?s WHERE {{\n",
    "        ?s rdf:type <{dcoretbox.platform.identifier}>  .\n",
    "        ?s <{dcoretbox.has_platform_owner.identifier}>  ?o  . \n",
    "    }}\n",
    "    \"\"\")"
   ]
  },
  {
   "cell_type": "code",
   "execution_count": 46,
   "id": "50cea807",
   "metadata": {},
   "outputs": [
    {
     "name": "stdout",
     "output_type": "stream",
     "text": [
      "> There are exactly  1  Platforms with an owner in the database, Thse are\n",
      "\n"
     ]
    }
   ],
   "source": [
    "print(\"> There are exactly \" , len(result_platforms_owners), ' Platforms with an owner in the database, Thse are\\n')"
   ]
  },
  {
   "cell_type": "code",
   "execution_count": 47,
   "id": "d501f7f4",
   "metadata": {},
   "outputs": [
    {
     "data": {
      "text/plain": [
       "<simphony_osp.session.session.QueryResult at 0x28bedae50>"
      ]
     },
     "execution_count": 47,
     "metadata": {},
     "output_type": "execute_result"
    }
   ],
   "source": [
    "# printed as object classes \n",
    "result_platforms_owners"
   ]
  },
  {
   "cell_type": "code",
   "execution_count": 48,
   "id": "69c3397a",
   "metadata": {},
   "outputs": [
    {
     "name": "stdout",
     "output_type": "stream",
     "text": [
      "(rdflib.term.URIRef('https://dome40.eu/semantics/scenario/platforms#DOME4.0'),)\n"
     ]
    }
   ],
   "source": [
    "# as RDFLIB_URI's\n",
    "for i in result_platforms_owners:\n",
    "    print(i)"
   ]
  },
  {
   "cell_type": "code",
   "execution_count": 49,
   "id": "2cb0f560",
   "metadata": {},
   "outputs": [
    {
     "name": "stdout",
     "output_type": "stream",
     "text": [
      "- Ontology individual named DOME4.0:\n",
      "  identifier: https://dome40.eu/semantics/scenario/platforms#DOME4.0\n",
      "  type: Platform (dcoretbox )\n",
      "  superclasses: Platform (dcoretbox ), infrastructure (evmpo ), paradigmatic_entity (evmpo ), marketplace_related_entity (evmpo ), immanent_entity (evmpo ), Thing (owl )\n",
      "  values: \u0000has_platform_description: Digital Open Marketplace Ecosystem 4.0 (DOME 4.0) is building a semantic industrial data ecosystem for knowledge creation \n",
      "across the entire materials to manufacturing value chains.\n",
      "          \u0000has_platform_name: DOME 4.0\n",
      "          \u0000has_platform_url_home: https://dome.the-marketplace.eu/\n",
      "   |_Relationship has_platform_owner (dcoretbox ) (dcoretbox):\n",
      "     - Ontology individual of class Agent named DOME 4.0 Consortium\n",
      "        identifier: https://dome40.eu/semantics/scenario/platforms#DOME4.0_CONSORTIUM\n"
     ]
    }
   ],
   "source": [
    "#and pretty_printed \n",
    "for i in result_platforms_owners:\n",
    "    p=core_session.get(i[0])\n",
    "    pretty_print(p, rel=dcoretbox.has_platform_owner) # we can limit the relations here. "
   ]
  },
  {
   "cell_type": "markdown",
   "id": "0f41dce5",
   "metadata": {},
   "source": [
    "# The SPARQL query accroding to type and data attribute\n"
   ]
  },
  {
   "cell_type": "code",
   "execution_count": 50,
   "id": "731635b3",
   "metadata": {},
   "outputs": [],
   "source": [
    "# query all triplets, where the subject type is `platform` from the dome core ontology and \n",
    "# that has the relationship `has_platform_owner` and that has an attibute: `has_platform_name`\n",
    "\n",
    "\n",
    "res = sparql(\n",
    "    f\"\"\"SELECT ?s ?owner ?name WHERE {{\n",
    "        ?s rdf:type <{dcoretbox.platform.identifier}>  .\n",
    "        ?s <{dcoretbox.has_platform_owner.identifier}>  ?owner  ;\n",
    "           <{dcoretbox.has_platform_name.identifier}> ?name .\n",
    "    }}\n",
    "    \"\"\")"
   ]
  },
  {
   "cell_type": "code",
   "execution_count": 51,
   "id": "2ab5de2f",
   "metadata": {},
   "outputs": [
    {
     "data": {
      "text/plain": [
       "1"
      ]
     },
     "execution_count": 51,
     "metadata": {},
     "output_type": "execute_result"
    }
   ],
   "source": [
    "len(res)"
   ]
  },
  {
   "cell_type": "code",
   "execution_count": 52,
   "id": "11c5e921",
   "metadata": {},
   "outputs": [
    {
     "name": "stdout",
     "output_type": "stream",
     "text": [
      "https://dome40.eu/semantics/scenario/platforms#DOME4.0 https://dome40.eu/semantics/scenario/platforms#DOME4.0_CONSORTIUM DOME 4.0\n"
     ]
    }
   ],
   "source": [
    "for i in res:\n",
    "    print(i[0], i[1], i[2])"
   ]
  },
  {
   "cell_type": "markdown",
   "id": "bbe4bcd0",
   "metadata": {},
   "source": [
    "# Bonus: Find all individuals that relate in any way to DOME using a string match"
   ]
  },
  {
   "cell_type": "code",
   "execution_count": 53,
   "id": "44c42605",
   "metadata": {},
   "outputs": [],
   "source": [
    "res = sparql(\n",
    "    f\"\"\"SELECT DISTINCT ?s WHERE {{\n",
    "          ?s ?p ?o .\n",
    "          FILTER (CONTAINS(STR(?o), \"DOME\") || CONTAINS(STR(?p), \"DOME\"))\n",
    "    }}\n",
    "    \"\"\")"
   ]
  },
  {
   "cell_type": "code",
   "execution_count": 54,
   "id": "08df5deb",
   "metadata": {},
   "outputs": [
    {
     "data": {
      "text/plain": [
       "10"
      ]
     },
     "execution_count": 54,
     "metadata": {},
     "output_type": "execute_result"
    }
   ],
   "source": [
    "len(res)"
   ]
  },
  {
   "cell_type": "code",
   "execution_count": 55,
   "id": "f98b0ef2",
   "metadata": {},
   "outputs": [
    {
     "name": "stdout",
     "output_type": "stream",
     "text": [
      "https://dome40.eu/semantics/scenario/platforms#EXAMPLE_DOME_FLAT_SUBSCRIPTION_CHEMEO_MATERIALSPROJECT\n",
      "https://dome40.eu/semantics/dome4.0_core#LIST_OF_STANDARD_IDENTIFIERS\n",
      "https://dome40.eu/semantics/dome4.0_core#LIST_OF_PRODUCT_TYPES\n",
      "https://dome40.eu/semantics/scenario/platforms#EXAMPLE_DOME_SUBSCRIPTION_BY_USAGE_CHEMEO_MATERIALSPROJECT\n",
      "https://dome40.eu/semantics/dome4.0_core#LIST_OF_STANDARD_API_SPECIFICATIONS\n",
      "https://dome40.eu/semantics/scenario/platforms#DOME4.0_CONSORTIUM\n",
      "https://dome40.eu/semantics/scenario/platforms#DOME4.0\n",
      "https://dome40.eu/semantics/dome4.0_core#LIST_OF_TOPICS\n",
      "https://dome40.eu/semantics/dome4.0_core#LIST_OF_DATA_ACTIONS\n",
      "https://dome40.eu/semantics/dome4.0_core#LIST_OF_FILE_FORMATS\n"
     ]
    }
   ],
   "source": [
    "for i in res:\n",
    "    print(i[0])"
   ]
  },
  {
   "cell_type": "code",
   "execution_count": 56,
   "id": "0cab1046",
   "metadata": {
    "scrolled": true
   },
   "outputs": [
    {
     "name": "stdout",
     "output_type": "stream",
     "text": [
      "https://dome40.eu/semantics/scenario/platforms#EXAMPLE_DOME_FLAT_SUBSCRIPTION_CHEMEO_MATERIALSPROJECT\n",
      "https://dome40.eu/semantics/dome4.0_core#LIST_OF_STANDARD_IDENTIFIERS\n",
      "https://dome40.eu/semantics/dome4.0_core#LIST_OF_PRODUCT_TYPES\n",
      "https://dome40.eu/semantics/scenario/platforms#EXAMPLE_DOME_SUBSCRIPTION_BY_USAGE_CHEMEO_MATERIALSPROJECT\n",
      "https://dome40.eu/semantics/dome4.0_core#LIST_OF_STANDARD_API_SPECIFICATIONS\n",
      "https://dome40.eu/semantics/scenario/platforms#DOME4.0_CONSORTIUM\n",
      "https://dome40.eu/semantics/scenario/platforms#DOME4.0\n",
      "https://dome40.eu/semantics/dome4.0_core#LIST_OF_TOPICS\n",
      "https://dome40.eu/semantics/dome4.0_core#LIST_OF_DATA_ACTIONS\n",
      "https://dome40.eu/semantics/dome4.0_core#LIST_OF_FILE_FORMATS\n"
     ]
    }
   ],
   "source": [
    "for i in res:\n",
    "    print(i[0])"
   ]
  },
  {
   "cell_type": "markdown",
   "id": "9379f399",
   "metadata": {},
   "source": [
    "# Search topics as in dome/Platform/Semantic_Discovery/Topics"
   ]
  },
  {
   "cell_type": "code",
   "execution_count": 57,
   "id": "3871dec2",
   "metadata": {},
   "outputs": [],
   "source": [
    "# this is the simphony way\n",
    "res_topic = sparql(\n",
    "    f\"\"\"SELECT DISTINCT ?s ?p ?o WHERE {{\n",
    "        ?s rdf:type <{dcoretbox.topic.identifier}>  .\n",
    "    }}\n",
    "    \"\"\")"
   ]
  },
  {
   "cell_type": "code",
   "execution_count": 58,
   "id": "daa7de5f",
   "metadata": {},
   "outputs": [
    {
     "data": {
      "text/plain": [
       "8"
      ]
     },
     "execution_count": 58,
     "metadata": {},
     "output_type": "execute_result"
    }
   ],
   "source": [
    "len(res_topic)"
   ]
  },
  {
   "cell_type": "code",
   "execution_count": 59,
   "id": "197dd8e5",
   "metadata": {},
   "outputs": [],
   "source": [
    "sq=f\"\"\"SELECT DISTINCT ?s ?p ?o WHERE {{ ?s rdf:type <{dcoretbox.topic.identifier}>  . }}\"\"\""
   ]
  },
  {
   "cell_type": "code",
   "execution_count": 60,
   "id": "39b8a57d",
   "metadata": {},
   "outputs": [],
   "source": [
    "res_topic=sparql(sq)"
   ]
  },
  {
   "cell_type": "code",
   "execution_count": 61,
   "id": "3f9b4e7f",
   "metadata": {},
   "outputs": [
    {
     "data": {
      "text/plain": [
       "8"
      ]
     },
     "execution_count": 61,
     "metadata": {},
     "output_type": "execute_result"
    }
   ],
   "source": [
    "len(res_topic)"
   ]
  },
  {
   "cell_type": "code",
   "execution_count": 62,
   "id": "5f92d97c",
   "metadata": {},
   "outputs": [
    {
     "data": {
      "text/plain": [
       "'SELECT DISTINCT ?s ?p ?o WHERE { ?s rdf:type <https://dome40.eu/semantics/dome4.0_core#topic>  . }'"
      ]
     },
     "execution_count": 62,
     "metadata": {},
     "output_type": "execute_result"
    }
   ],
   "source": [
    "sq"
   ]
  },
  {
   "cell_type": "code",
   "execution_count": null,
   "id": "c5dc1ff7",
   "metadata": {},
   "outputs": [],
   "source": []
  },
  {
   "cell_type": "code",
   "execution_count": 63,
   "id": "41a8a7f4",
   "metadata": {},
   "outputs": [],
   "source": [
    "# this is the dome way, both work. Note, we needed to update the query (remove stub.ttl...)\n",
    "sparql_query = \"\"\"SELECT DISTINCT ?s { ?s <http://www.w3.org/1999/02/22-rdf-syntax-ns#type> <https://dome40.eu/semantics/dome4.0_core#topic> . }\"\"\""
   ]
  },
  {
   "cell_type": "code",
   "execution_count": 64,
   "id": "32fa5f53",
   "metadata": {},
   "outputs": [
    {
     "data": {
      "text/plain": [
       "'SELECT DISTINCT ?s { ?s <http://www.w3.org/1999/02/22-rdf-syntax-ns#type> <https://dome40.eu/semantics/dome4.0_core#topic> . }'"
      ]
     },
     "execution_count": 64,
     "metadata": {},
     "output_type": "execute_result"
    }
   ],
   "source": [
    "sparql_query"
   ]
  },
  {
   "cell_type": "code",
   "execution_count": 65,
   "id": "f251ce62",
   "metadata": {},
   "outputs": [],
   "source": [
    "res = sparql(sparql_query)"
   ]
  },
  {
   "cell_type": "code",
   "execution_count": 66,
   "id": "7717c0e6",
   "metadata": {},
   "outputs": [
    {
     "data": {
      "text/plain": [
       "8"
      ]
     },
     "execution_count": 66,
     "metadata": {},
     "output_type": "execute_result"
    }
   ],
   "source": [
    "len(res)"
   ]
  },
  {
   "cell_type": "code",
   "execution_count": 67,
   "id": "f4ea78f5",
   "metadata": {},
   "outputs": [
    {
     "data": {
      "text/plain": [
       "<OntologyIndividual: MATERIALSPROJECT https://dome40.eu/semantics/scenario/platforms#MATERIALSPROJECT>"
      ]
     },
     "execution_count": 67,
     "metadata": {},
     "output_type": "execute_result"
    }
   ],
   "source": [
    "pl"
   ]
  },
  {
   "cell_type": "code",
   "execution_count": 68,
   "id": "e7586168",
   "metadata": {},
   "outputs": [
    {
     "data": {
      "text/plain": [
       "<OntologyClass: Platform https://dome40.eu/semantics/dome4.0_core#platform>"
      ]
     },
     "execution_count": 68,
     "metadata": {},
     "output_type": "execute_result"
    }
   ],
   "source": [
    "dcoretbox.platform"
   ]
  },
  {
   "cell_type": "code",
   "execution_count": null,
   "id": "6fa6332e",
   "metadata": {},
   "outputs": [],
   "source": []
  }
 ],
 "metadata": {
  "kernelspec": {
   "display_name": ".env",
   "language": "python",
   "name": ".env"
  },
  "language_info": {
   "codemirror_mode": {
    "name": "ipython",
    "version": 3
   },
   "file_extension": ".py",
   "mimetype": "text/x-python",
   "name": "python",
   "nbconvert_exporter": "python",
   "pygments_lexer": "ipython3",
   "version": "3.11.3"
  }
 },
 "nbformat": 4,
 "nbformat_minor": 5
}
